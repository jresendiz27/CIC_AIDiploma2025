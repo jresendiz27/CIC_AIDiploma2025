{
 "nbformat": 4,
 "nbformat_minor": 0,
 "metadata": {
  "colab": {
   "provenance": []
  },
  "kernelspec": {
   "name": "python3",
   "display_name": "Python 3 (ipykernel)",
   "language": "python"
  },
  "language_info": {
   "name": "python"
  }
 },
 "cells": [
  {
   "cell_type": "markdown",
   "source": [
    "# Proyección poblacional\n",
    "\n",
    "Supongamos que nos encargamos de las políticas públicas de una estado o provincia y observamos el siguiente crecimiento poblacional."
   ],
   "metadata": {
    "id": "IRQ9RacJ1Eyb"
   }
  },
  {
   "cell_type": "code",
   "source": [
    "from unicodedata import category\n",
    "\n",
    "import numpy as np\n",
    "import matplotlib.pyplot as plt"
   ],
   "metadata": {
    "id": "zsmj25BJ-2hH",
    "ExecuteTime": {
     "end_time": "2025-05-17T17:12:40.392105Z",
     "start_time": "2025-05-17T17:12:39.988695Z"
    }
   },
   "outputs": [],
   "execution_count": 1
  },
  {
   "cell_type": "code",
   "source": [
    "decada =    [0,1,2,3,4,5,6,7,8,9,10,11,12]\n",
    "poblacion = [0.0525, 0.1365, 0.1535, 0.4079, 0.7291,\n",
    "             0.9785, 1.3754, 1.5501, 1.825370, 1.8562,\n",
    "              1.9137, 2.0484 , 1.9570] # en millones de personas"
   ],
   "metadata": {
    "id": "hPG45B8I3jHg",
    "ExecuteTime": {
     "end_time": "2025-05-17T17:17:38.269918Z",
     "start_time": "2025-05-17T17:17:38.266307Z"
    }
   },
   "outputs": [],
   "execution_count": 7
  },
  {
   "cell_type": "markdown",
   "source": [
    "**Ejercicio** (2 puntos) Ahora grafica los datos anteriores. Sugerencia: usa un *scatter plot*."
   ],
   "metadata": {
    "id": "ThcBJrqz3kDF"
   }
  },
  {
   "cell_type": "code",
   "source": [
    "plt.scatter(decada, poblacion, color=['blue'])\n",
    "plt.plot()"
   ],
   "metadata": {
    "id": "gLPVJ3dgEerE",
    "ExecuteTime": {
     "end_time": "2025-05-17T17:19:29.338830Z",
     "start_time": "2025-05-17T17:19:29.213930Z"
    }
   },
   "outputs": [
    {
     "data": {
      "text/plain": [
       "[]"
      ]
     },
     "execution_count": 10,
     "metadata": {},
     "output_type": "execute_result"
    },
    {
     "data": {
      "text/plain": [
       "<Figure size 640x480 with 1 Axes>"
      ],
      "image/png": "[encoded data removed]"
     },
     "metadata": {},
     "output_type": "display_data"
    }
   ],
   "execution_count": 10
  },
  {
   "cell_type": "markdown",
   "source": [
    "**Ejercicio** (2 puntos) Para predecir un comportamiento futuro muchas veces los matemáticos crean un *modelo* que sirve para simplificar el fenómeno y definirlo matemáticamente. Un modelo sencillo de crecimiento poblacional es la ecuación logística, la cual está dada por\n",
    "\n",
    "$$ \\sigma(t) = \\frac{w_0}{1+e^{-w_1 (t + w_2)}}  $$\n",
    "\n",
    "Implementa una función que calcule la función logística. Usa una entrada vectorial para los parámetros. La entrada también tiene que ser un array de Numpy. En este caso dejaremos fijo a $w_2$, ya que necesitamos que esté \"centrado\" entre los años 1900 y 2000.\n"
   ],
   "metadata": {
    "id": "eq_-83Ba9cxg"
   }
  },
  {
   "cell_type": "code",
   "source": [],
   "metadata": {
    "id": "j37Ed-v9Ap9f"
   },
   "execution_count": null,
   "outputs": []
  },
  {
   "cell_type": "markdown",
   "source": [
    "**Ejercicio** (2 puntos). Selecciona valores cualesquiera para los parámetros y aplica la función logística a los años. Grafica el resultado junto con los datos reales."
   ],
   "metadata": {
    "id": "Sy10PrTvBHg8"
   }
  },
  {
   "cell_type": "code",
   "source": [],
   "metadata": {
    "id": "9wTP1zSfEAI2"
   },
   "execution_count": null,
   "outputs": []
  },
  {
   "cell_type": "markdown",
   "source": [
    "Si no tiene sentido en que se ajuste, ¡es normal! Tenemos ya el modelo que tiene *parámetros*, es decir, valores que se pueden ir moviendo hasta que se ajusten a los datos, proceso que se conoce como ajuste paramétrico. Los parámetros aquí están representados por el vector $w$. Tenemos que modificarlo hasta que se ajuste. ¿Cómo hacemos eso? Podemos proceder a la optimización numérica.\n",
    "\n",
    "Para optimizar, tenemos que saber qué es lo que vamos a optimizar. Así como en la vida, tenemos que saber a dónde vamos, en la optimización igual. ¿Qué queremos? Pues ajustar la curva. ¿Cómo lo lograremos? Definimos lo que queremos hacer, matemáticamente. ¿Qué significa ajustar la curva? Significa que la curva debe ser lo más cercano a nuestros puntos. Es decir, para cada dato etiquetado como $(t_i,y_i)$ donde $t$ es la variable del tiempo y $y$ la variable dependiente, tenemos que ser capaces de predecir el valor $y_i$ correcto o cercano utilizando $t_i$. Supongamos que nuestro modelo es $\\sigma(t)$, que representa a la función sigmoide, entonces el error de aproximación para cada dato puede medirse como $|\\sigma(t_i)-y_i|$, es decir, simplemente restar el valor absoluto. Resulta que, debido a que esa función es no diferenciable, necesitamos hacer $(\\sigma(t_i)-y_i)^2$, que es casi lo mismo. Ahora hacemos todo para cada punto:\n",
    "\n",
    "$$ \\sum_{i=1}^{n} (\\sigma(t_i)-y_i)^2 $$\n",
    "\n",
    "Se suele dividir entre $n$ el resultado, lo cual no aporta mucho salvo controlar el tamaño de los números.\n",
    "\n",
    "$$ \\frac{1}{n} \\sum_{i=1}^{n} (\\sigma(t_i)-y_i)^2 $$\n",
    "\n",
    "La función de aproximación $\\sigma$ suele tener parámetros, de lo contrario, no podemos optimizar. Entonces la definimos como $\\sigma_w (t)$ lo que significa que la función cambia según sus parámetros. Lo que tenemos que mover son los parámetros, por lo que la función de costo es una función de los parámetros y se representa así:\n",
    "\n",
    "$$ \\mathcal{L}(w) =  \\frac{1}{n} \\sum_{i=1}^{n} (\\sigma(t_i)-y_i)^2 $$\n",
    "\n",
    "Tenemos que hallar la mejor combinación $w$ que hace mínimo $$\\mathcal{L}(w)$$. Ahora sí podemos hacer optimización.\n",
    "\n",
    "**Ejercicio** (2 puntos): Implementa la función de costo $\\mathcal{L}$ y calcula el costo de tu elección de $w$."
   ],
   "metadata": {
    "id": "RIdmStIOJaCo"
   }
  },
  {
   "cell_type": "code",
   "source": [],
   "metadata": {
    "id": "ee4l7W31LIds"
   },
   "execution_count": null,
   "outputs": []
  },
  {
   "cell_type": "code",
   "source": [],
   "metadata": {
    "id": "t2hlRxGMcUUC"
   },
   "execution_count": null,
   "outputs": []
  },
  {
   "cell_type": "markdown",
   "source": [
    "**Ejercicio** (2 puntos): Implementa Descenso de Gradiente para la función de costo. Puedes usar el código que fue proporcionado previamente."
   ],
   "metadata": {
    "id": "EijqbaABPDPe"
   }
  },
  {
   "cell_type": "code",
   "source": [
    "def parcial(f,i,v):\n",
    "  h = 0.00000001\n",
    "  v_2 = v.copy()\n",
    "  v_2[i] += h\n",
    "  diff = (f(v_2,decada,poblacion) - f(v,decada,poblacion)) / h\n",
    "  return diff"
   ],
   "metadata": {
    "id": "eRTQxME8PASJ"
   },
   "execution_count": null,
   "outputs": []
  },
  {
   "cell_type": "code",
   "source": [
    "def gradiente(f,v):\n",
    "  grad = []\n",
    "  for i in range(len(v)):\n",
    "    grad.append(parcial(f,i,v))\n",
    "  return np.array(grad)"
   ],
   "metadata": {
    "id": "FjAeham5RLQa"
   },
   "execution_count": null,
   "outputs": []
  },
  {
   "cell_type": "code",
   "source": [],
   "metadata": {
    "id": "og2MZx9XSNRM"
   },
   "execution_count": null,
   "outputs": []
  },
  {
   "cell_type": "code",
   "source": [],
   "metadata": {
    "id": "vbaxLOfKcZIj"
   },
   "execution_count": null,
   "outputs": []
  },
  {
   "cell_type": "code",
   "source": [],
   "metadata": {
    "colab": {
     "base_uri": "https://localhost:8080/",
     "height": 430
    },
    "id": "2A3pSMArW48s",
    "outputId": "db8df177-1187-4b53-8b0a-af829488a8e5"
   },
   "execution_count": null,
   "outputs": [
    {
     "output_type": "display_data",
     "data": {
      "text/plain": [
       "<Figure size 640x480 with 1 Axes>"
      ],
      "image/png": "[encoded data removed]"
     },
     "metadata": {}
    }
   ]
  },
  {
   "cell_type": "markdown",
   "source": [
    "**Tres puntos extras:** A quien tenga la mejor marca."
   ],
   "metadata": {
    "id": "e_8rAN05YvXF"
   }
  },
  {
   "cell_type": "markdown",
   "source": [
    "**Pregunta:** ¿Cuál es la proyección poblacional en cinco décadas (lo que dura tu gestión)? ¿Cuál es la población máxima que se puede alcanzar de acuerdo con este modelo?"
   ],
   "metadata": {
    "id": "43PYmfmccdgy"
   }
  }
 ]
}
