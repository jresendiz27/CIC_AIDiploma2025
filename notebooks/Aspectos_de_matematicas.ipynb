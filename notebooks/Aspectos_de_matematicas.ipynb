{
 "nbformat": 4,
 "nbformat_minor": 0,
 "metadata": {
  "colab": {
   "provenance": []
  },
  "kernelspec": {
   "name": "python3",
   "display_name": "Python 3 (ipykernel)",
   "language": "python"
  },
  "language_info": {
   "name": "python"
  }
 },
 "cells": [
  {
   "cell_type": "markdown",
   "source": [
    "## Contenido\n",
    "\n",
    "1. Conjuntos\n",
    "2. Funciones\n",
    "3. Vectores\n",
    "4. Matrices\n",
    "5. Probabilidad"
   ],
   "metadata": {
    "id": "O-xZ57xNOCYR"
   }
  },
  {
   "cell_type": "markdown",
   "source": [
    "### Conjuntos"
   ],
   "metadata": {
    "id": "BAKOMIZsONDx"
   }
  },
  {
   "cell_type": "markdown",
   "source": [
    "Un conjunto es una colección de elementos. Ejemplo: $ A = \\{1,3,5\\}, B=\\{1\\}, \\mathbb{N}, \\mathbb{S} $\n",
    "\n",
    "Operaciones:\n",
    "\n",
    "- Union: $ A\\cup B $\n",
    "- Intersección $ A \\cap B $\n",
    "- Subconjunto $ A \\subset B $\n",
    "- Complemento $ A^{c} $\n",
    "- Diferencia $ A - B $"
   ],
   "metadata": {
    "id": "uiT7Rqj3Of7v"
   }
  },
  {
   "cell_type": "code",
   "execution_count": 1,
   "metadata": {
    "id": "I5QaWml4N-Uw"
   },
   "outputs": [],
   "source": [
    "# Hacer las operaciones de conjuntos en python\n",
    "\n",
    "A = { 1, 2, 3, 4 }\n",
    "B = { 3, 4, 5, 6 }\n",
    "universo = {1, 2, 3, 4, 5, 6, 7, 8, 9, 10, 11, 12}"
   ]
  },
  {
   "cell_type": "code",
   "source": [
    "union = A | B\n",
    "print(f\"Unión (A ∪ B): {union}\")"
   ],
   "metadata": {
    "id": "sCc1KnGIfHHb",
    "colab": {
     "base_uri": "https://localhost:8080/"
    },
    "outputId": "12ad7ec2-e17b-4a2d-d962-c3fe36d7614f"
   },
   "execution_count": 2,
   "outputs": [
    {
     "output_type": "stream",
     "name": "stdout",
     "text": [
      "Unión (A ∪ B): {1, 2, 3, 4, 5, 6}\n"
     ]
    }
   ]
  },
  {
   "cell_type": "code",
   "source": [
    "interseccion = A & B\n",
    "print(f\"Intersección (A ∩ B): {interseccion}\")"
   ],
   "metadata": {
    "id": "Y9LCpzQqfKq7",
    "colab": {
     "base_uri": "https://localhost:8080/"
    },
    "outputId": "1773388a-a8f1-4099-99cc-2660574bf022"
   },
   "execution_count": 3,
   "outputs": [
    {
     "output_type": "stream",
     "name": "stdout",
     "text": [
      "Intersección (A ∩ B): {3, 4}\n"
     ]
    }
   ]
  },
  {
   "cell_type": "code",
   "source": [
    "diferencia = A - B\n",
    "print(f\"Diferencia (A - B): {diferencia}\")"
   ],
   "metadata": {
    "id": "PYcqyI5jfN28",
    "colab": {
     "base_uri": "https://localhost:8080/"
    },
    "outputId": "8fa04117-8413-41e2-d86e-15d0b8fb86cc"
   },
   "execution_count": 4,
   "outputs": [
    {
     "output_type": "stream",
     "name": "stdout",
     "text": [
      "Diferencia (A - B): {1, 2}\n"
     ]
    }
   ]
  },
  {
   "cell_type": "code",
   "source": [
    "complemento_A = universo - A\n",
    "print(f\"Complemento de A: {complemento_A}\")"
   ],
   "metadata": {
    "id": "UITUpdJ-fPy8",
    "colab": {
     "base_uri": "https://localhost:8080/"
    },
    "outputId": "388bb54d-25f0-4b6e-ac8b-c49f8a9f71e0"
   },
   "execution_count": 5,
   "outputs": [
    {
     "output_type": "stream",
     "name": "stdout",
     "text": [
      "Complemento de A: {8, 5, 6, 7}\n"
     ]
    }
   ]
  },
  {
   "cell_type": "code",
   "source": [
    "C = {1, 2}\n",
    "print(f\"C es subconjunto de A: {C.issubset(A)}\")"
   ],
   "metadata": {
    "id": "MVUAqF1NfTBC",
    "colab": {
     "base_uri": "https://localhost:8080/"
    },
    "outputId": "882a3ee7-4b32-4b43-f77b-86e3d884b614"
   },
   "execution_count": 6,
   "outputs": [
    {
     "output_type": "stream",
     "name": "stdout",
     "text": [
      "C es subconjunto de A: True\n"
     ]
    }
   ]
  },
  {
   "cell_type": "code",
   "source": [
    "A = { 1, 2, 3, 4 }\n",
    "B = { 3, 4, 5, 6 }\n",
    "\n",
    "#A.symmetric_difference(B)\n",
    "\n",
    "(A | B) - (A & B)"
   ],
   "metadata": {
    "colab": {
     "base_uri": "https://localhost:8080/"
    },
    "id": "6KKT-U4Eprnf",
    "outputId": "f9e1d2b1-fac4-43c8-ae37-d24da43a44ec"
   },
   "execution_count": 10,
   "outputs": [
    {
     "output_type": "execute_result",
     "data": {
      "text/plain": [
       "{1, 2, 5, 6}"
      ]
     },
     "metadata": {},
     "execution_count": 10
    }
   ]
  },
  {
   "cell_type": "markdown",
   "source": [
    "### Funciones"
   ],
   "metadata": {
    "id": "Dfr7SIugOSfo"
   }
  },
  {
   "cell_type": "markdown",
   "source": [
    "Una función es una regla de asignación de conjuntos $ f: A \\rightarrow B $\n",
    "\n",
    "Ejemplo:\n",
    "\n",
    "$ f: \\mathbb{R} \\rightarrow \\mathbb{R} $\n",
    "\n",
    "$ f(x) = x^{3} - \\sqrt{x} $\n",
    "\n",
    "$ g(x) = x^{2} $\n"
   ],
   "metadata": {
    "id": "cg10Z9r7P0NR"
   }
  },
  {
   "cell_type": "code",
   "execution_count": 27,
   "metadata": {
    "id": "I_hZU-xrOSfp",
    "colab": {
     "base_uri": "https://localhost:8080/",
     "height": 453
    },
    "outputId": "f9f15e4f-6440-414c-ea1b-247db2e81683"
   },
   "outputs": [
    {
     "output_type": "display_data",
     "data": {
      "text/plain": [
       "<Figure size 640x480 with 1 Axes>"
      ],
      "image/png": "[encoded data removed]"
     },
     "metadata": {}
    }
   ],
   "source": [
    "import matplotlib.pyplot as plt\n",
    "import math\n",
    "\n",
    "x = [ 0.1, 1, 10, 15, 18, 30, 50 ]\n",
    "y = [ punto ** 3 - punto ** (1/2) for punto in x ]\n",
    "y2 = [ punto ** 4 for punto in x ] # list comprehension\n",
    "\n",
    "plt.plot(x, y, color=\"#A453B3\", label=\"$ f(x) = x^{3} - \\sqrt{x} $\")\n",
    "plt.plot(x, y2, color=\"#ACD3B3\", label=\"$ f(x) = x^{4} $\")\n",
    "plt.legend()\n",
    "plt.title(\"Ejemplo de función\")\n",
    "plt.show()"
   ]
  },
  {
   "cell_type": "markdown",
   "source": [
    "Funciones Recursivas:\n",
    "\n",
    "Son funciones que se definen a través de un caso base y un caso recursivo. Ejemplo:\n",
    "\n",
    "$ 0! = 1 $\n",
    "\n",
    "$ (n)! = n \\times (n-1)! $\n",
    "\n",
    "$ (n-1)! = (n-1) \\times (n-2)! $"
   ],
   "metadata": {
    "id": "LPJzUd8tQcFU"
   }
  },
  {
   "cell_type": "code",
   "source": [
    "# Implementar función factorial\n",
    "def factorial(n):\n",
    "  # Caso base\n",
    "  if n == 0 or n == 1:\n",
    "    return 1\n",
    "\n",
    "  # Caso recursivo\n",
    "  return n * factorial(n-1)\n",
    "\n",
    "factorial(5)"
   ],
   "metadata": {
    "id": "bRsUgnINf_TS",
    "colab": {
     "base_uri": "https://localhost:8080/"
    },
    "outputId": "b49db35c-cf54-4c08-fbb2-8214a3b6f4e3"
   },
   "execution_count": 28,
   "outputs": [
    {
     "output_type": "execute_result",
     "data": {
      "text/plain": [
       "120"
      ]
     },
     "metadata": {},
     "execution_count": 28
    }
   ]
  },
  {
   "cell_type": "markdown",
   "source": [
    "Fibonacci\n",
    "\n",
    "$ x_{0}, x{1} = 1 $\n",
    "\n",
    "$ x_{n} = x_{n-1} + x_{n-2} $"
   ],
   "metadata": {
    "id": "iFPUsNxOxMyE"
   }
  },
  {
   "cell_type": "code",
   "source": [
    "# Implementar funciones recursivas en Python. Sucesión de Fibonacci\n",
    "\n",
    "def fibonacci(n):\n",
    "  # Caso base\n",
    "  if n == 1:\n",
    "    return 1\n",
    "  elif n == 0:\n",
    "    return 0\n",
    "  else:\n",
    "    # Caso recursivo\n",
    "    return fibonacci(n-1) + fibonacci(n-2)\n",
    "\n",
    "for i in range(10):\n",
    "  print(fibonacci(i))"
   ],
   "metadata": {
    "id": "ewGPJpDoQzht",
    "colab": {
     "base_uri": "https://localhost:8080/"
    },
    "outputId": "9c12abeb-a7f0-47a1-ba4e-1b9ab7a57ef7"
   },
   "execution_count": 37,
   "outputs": [
    {
     "output_type": "stream",
     "name": "stdout",
     "text": [
      "0\n",
      "1\n",
      "1\n",
      "2\n",
      "3\n",
      "5\n",
      "8\n",
      "13\n",
      "21\n",
      "34\n"
     ]
    }
   ]
  },
  {
   "cell_type": "markdown",
   "source": [
    "Funciones reales de variable real:\n",
    "\n",
    "Una función real de variable real está dada por $f: \\mathbb{R} \\rightarrow \\mathbb{R}$, toma un número real y devuelve otro número real. Ejemplo:\n",
    "\n",
    "$ f(x) = x + sin(x)$"
   ],
   "metadata": {
    "id": "SZihV5woQ514"
   }
  },
  {
   "cell_type": "markdown",
   "source": [
    "Ecuación de la recta:\n",
    "\n",
    "Una ecuación lineal es de la forma $\\alpha x + \\beta y = c$, ningún término tiene exponentes o funciones trascendentales.\n",
    "\n",
    "Generalmente se expresan como $y= mx + b$ o $f(x) = mx + b$\n",
    "\n",
    "La ecuación de la recta que pasa por un punto $(x_{1}, y_{1})$ está dada por:\n",
    "\n",
    "$ y - y_{1} = m(x - x_{1}) $\n",
    "\n",
    "Una línea está definida por dos puntos"
   ],
   "metadata": {
    "id": "Q7XtVmr_RL4o"
   }
  },
  {
   "cell_type": "markdown",
   "source": [
    "Pendiente y razón de cambio:\n",
    "\n",
    "La razón de cambio de una función o ecuación, es considerar el cociente del cambio del eje $x$ y del eje $y$, es decir, $\\Delta x $ y $\\Delta y $. $\\Delta x$ es el cambio en el eje $x$, mientras que $\\Delta y$ es el cambio en el eje $y$. Si tenemos dos puntos distintos $(x_{1}, y_{1})$ y $(x_{2}, y_{2})$, la razón de cambio está dada por:\n",
    "\n",
    "$ \\frac{\\Delta y}{\\Delta x} = \\frac{y_{2} - y_{1}}{x_{2} - x_{1}} $\n",
    "\n",
    "En las funciones lineales, la razón de cambio es constante y se denomina $m$."
   ],
   "metadata": {
    "id": "QR353UNQSPr9"
   }
  },
  {
   "cell_type": "code",
   "source": [
    "# Halla la ecuación de la recta que pasa por (1,0) y (0,1)\n",
    "\"\"\"\n",
    "m = -1\n",
    "y = (-1) (x - 1)\n",
    "y = - x + 1\n",
    "\"\"\"\n",
    "import matplotlib.pyplot as plt\n",
    "import numpy as np\n",
    "\n",
    "x = np.linspace(-2, 2, 100)\n",
    "y = - x + 1\n",
    "\n",
    "plt.plot(x,y, label=\"$y = -x + 1$\", color=\"#21DBA1\")\n",
    "plt.scatter([1,0], [0,1], color=\"red\", zorder=5, label=\"Puntos de la ecuación\")\n",
    "plt.grid(True)\n",
    "plt.title(\"Recta que pasa por los puntos [1,0] [0,1]\")\n",
    "plt.axhline(0, color=\"blue\", linewidth=1.5)\n",
    "plt.axvline(0, color=\"blue\", linewidth=1.5)\n",
    "plt.xlabel(\"x\")\n",
    "plt.ylabel(\"y\")\n",
    "plt.legend()\n",
    "plt.show()"
   ],
   "metadata": {
    "id": "Wv8inMXHUFPk",
    "colab": {
     "base_uri": "https://localhost:8080/",
     "height": 472
    },
    "outputId": "245696e6-42d6-49dc-8af4-4997abe09de6"
   },
   "execution_count": 43,
   "outputs": [
    {
     "output_type": "display_data",
     "data": {
      "text/plain": [
       "<Figure size 640x480 with 1 Axes>"
      ],
      "image/png": "[encoded data removed]"
     },
     "metadata": {}
    }
   ]
  },
  {
   "cell_type": "code",
   "source": [
    "# Halla la ecuación de la recta de pendiente 3 que pasa por (1, -2)\n",
    "\"\"\"\n",
    "y + 2 = 3 (x - 1)\n",
    "y = 3x -5\n",
    "\"\"\"\n"
   ],
   "metadata": {
    "id": "BgBrHmZ3ULBt"
   },
   "execution_count": null,
   "outputs": []
  },
  {
   "cell_type": "markdown",
   "source": [
    "Polinomios:\n",
    "\n",
    "Un polinomio es una ecuación con términos de diferentes exponentes:\n",
    "\n",
    "$ \\sum_{i=0}^{n} a_{i}x^{i} = a_{0} + a_{1}x + a_{2}x^{2} + ... + a_{n}x^{n} $"
   ],
   "metadata": {
    "id": "1Mr25tm6UX_C"
   }
  },
  {
   "cell_type": "markdown",
   "source": [
    "Funciones multivariadas\n",
    "\n",
    "Una función multivariada es de la forma $f: \\mathbb{R}^{n} \\rightarrow \\mathbb{R} $. Ejemplo:\n",
    "\n",
    "$f(x,y) = x^{2} + y$"
   ],
   "metadata": {
    "id": "9LF7i7WMU6p7"
   }
  },
  {
   "cell_type": "markdown",
   "source": [
    "### Vectores\n",
    "\n",
    "Un vector puede ser entendido como una lista de números. Ejemplo: $ v = (3, 1, 4)$\n",
    "\n",
    "Suma de vectores: $ (v_{1}, ..., v_{n}) + (w_{1}, ..., w_{n}) = (v_{1}+w_{1},..., v_{n} + w_{n})$\n",
    "\n",
    "Producto escalar: $k (v_{1}, ..., v_{n}) = (kv_{1}, ..., kv_{n})$\n",
    "\n",
    "Producto punto: $(v_{1}, ..., v_{n}) \\dot (w_{1}, ..., w_{n}) = \\sum_{i=1}^{n}v_{i}w_{i} = (v_{1}w_{1} + ... + v_{n}w_{n})$\n"
   ],
   "metadata": {
    "id": "ddtyWea9OV6y"
   }
  },
  {
   "cell_type": "code",
   "metadata": {
    "id": "Id3BpW6-OV6z",
    "ExecuteTime": {
     "end_time": "2025-05-09T02:47:48.285551Z",
     "start_time": "2025-05-09T02:47:48.239816Z"
    }
   },
   "source": [
    "import numpy as np\n",
    "vector_a = np.random.random(10)\n",
    "vector_b = np.random.random(10)\n",
    "\n",
    "print(np.dot(vector_a, vector_b))"
   ],
   "outputs": [
    {
     "name": "stdout",
     "output_type": "stream",
     "text": [
      "2.6280173045214887\n"
     ]
    }
   ],
   "execution_count": 1
  },
  {
   "cell_type": "markdown",
   "source": [
    "Norma y distancia\n",
    "\n",
    "La norma de un vector está dada por:\n",
    "\n",
    "$ ||(v_{1}, ..., v_{n})|| = \\sqrt{(v_{1}^{2} +...+ v_{n}^{2})}$\n",
    "\n",
    "distancia entre dos vectores:\n",
    "\n",
    "$ d(v,w) = ||v-w||$"
   ],
   "metadata": {
    "id": "d6w2ZKsKV_HK"
   }
  },
  {
   "cell_type": "code",
   "source": [
    "np.linalg.norm(vector_a, ord=2)\n",
    "np.linalg.norm(vector_a - vector_b, ord=2)"
   ],
   "metadata": {
    "id": "-yManyQFWeoR",
    "ExecuteTime": {
     "end_time": "2025-05-09T02:50:24.272612Z",
     "start_time": "2025-05-09T02:50:24.269620Z"
    }
   },
   "outputs": [
    {
     "data": {
      "text/plain": [
       "np.float64(1.639354177590649)"
      ]
     },
     "execution_count": 4,
     "metadata": {},
     "output_type": "execute_result"
    }
   ],
   "execution_count": 4
  },
  {
   "cell_type": "markdown",
   "source": [
    "### Matrices"
   ],
   "metadata": {
    "id": "_efHkRYGOZ44"
   }
  },
  {
   "cell_type": "markdown",
   "source": [
    "Una matriz es un arreglo de $n \\times m$ con $n$ filas y $m$ columnas. Usualmente se representa el espacio de las matrices de entrada real como $\\mathbb{R}^{n \\times m}$. La entrada $A_{i,j}$ de una matriz es la columna $i$ y fila $j$.\n",
    "\n",
    "$ A = \\left( \\begin{matrix}\n",
    "1 & 3 & 4 \\\\\n",
    "3 & 2 & 1 \\\\\n",
    "0 & 1 & 1\n",
    "\\end{matrix} \\right) $"
   ],
   "metadata": {
    "id": "wOzaVOI9Wgs5"
   }
  },
  {
   "cell_type": "markdown",
   "source": [
    "La suma de matrices se hace entrada por entrada:\n",
    "\n",
    "$ A = \\left( \\begin{matrix}\n",
    "1 & 1 & 6 & 1 \\\\\n",
    "9 & 4 & 1 & 3 \\\\\n",
    "0 & 3 & 2 & 2\n",
    "\\end{matrix} \\right) + \\left( \\begin{matrix}\n",
    "1 & 0 & 0 & 1 \\\\\n",
    "0 & 2 & 0 & 6 \\\\\n",
    "5 & 0 & 1 & 2\n",
    "\\end{matrix} \\right) $"
   ],
   "metadata": {
    "id": "BltVtNIvXfCZ"
   }
  },
  {
   "cell_type": "code",
   "source": [
    "shape = (1,3,3)\n",
    "shape2 = (1,3,2)\n",
    "bi_dimensional = np.random.randint(0,10, size=shape)\n",
    "another_matrix = np.random.randint(0,10, size=shape2)\n",
    "print(bi_dimensional)"
   ],
   "metadata": {
    "id": "Wum_z0QLObOo",
    "ExecuteTime": {
     "end_time": "2025-05-09T03:03:58.008409Z",
     "start_time": "2025-05-09T03:03:58.005768Z"
    }
   },
   "outputs": [
    {
     "name": "stdout",
     "output_type": "stream",
     "text": [
      "[[[8 5 5]\n",
      "  [5 6 9]\n",
      "  [9 9 2]]]\n"
     ]
    }
   ],
   "execution_count": 21
  },
  {
   "cell_type": "markdown",
   "source": [
    "Multiplicación de matrices:\n",
    "\n",
    "Dos matrices se puede multiplicar si $ A \\in \\mathbb{R}^{n,m}$ y $ B \\in \\mathbb{R}^{m,p}$ y el resultado $ A \\times B \\in \\mathbb{R}^{n,p}$\n",
    "\n",
    "Para multiplicar dos matrices hacemos los siguientes pasos.\n",
    "Consideremos la siguiente multiplicación:\n",
    "\n",
    "$ \\left( \\begin{matrix}\n",
    "1 & 3 & 4 \\\\\n",
    "3 & 2 & 1 \\\\\n",
    "0 & 1 & 1\n",
    "\\end{matrix} \\right) \\times \\left( \\begin{matrix}\n",
    "1 & 0 \\\\\n",
    "0 & 2 \\\\\n",
    "0 & 0\n",
    "\\end{matrix} \\right) = \\left( \\begin{matrix}\n",
    "1 & 6 \\\\\n",
    "3 & 4 \\\\\n",
    "0 & 2\n",
    "\\end{matrix} \\right) $\n"
   ],
   "metadata": {
    "id": "QxfW6gl3YBOY"
   }
  },
  {
   "cell_type": "code",
   "source": [
    "print((another_matrix * bi_dimensional))\n",
    "print(np.linalg.matmul(bi_dimensional, another_matrix))\n"
   ],
   "metadata": {
    "id": "CSfM8rfXZpkn",
    "ExecuteTime": {
     "end_time": "2025-05-09T03:04:35.132529Z",
     "start_time": "2025-05-09T03:04:35.129904Z"
    }
   },
   "outputs": [
    {
     "name": "stdout",
     "output_type": "stream",
     "text": [
      "[[[ 77  59]\n",
      "  [ 77  75]\n",
      "  [110  48]]]\n"
     ]
    }
   ],
   "execution_count": 25
  },
  {
   "cell_type": "markdown",
   "source": [
    "LA matriz identidad de $n \\times n$ es denotada como $I_{n}$ y está dada por\n",
    "\n",
    "$ I_{n} = \\left( \\begin{matrix}\n",
    "1 & 0 & \\dots & 0 \\\\\n",
    "0 & 1 & \\dots & 0 \\\\\n",
    "\\vdots & \\vdots & \\ddots & \\vdots \\\\\n",
    "0 & 0 & \\dots & 1\n",
    "\\end{matrix} \\right) $"
   ],
   "metadata": {
    "id": "KgsTOqtlZqYm"
   }
  },
  {
   "cell_type": "markdown",
   "source": [
    "### Probabilidad\n"
   ],
   "metadata": {
    "id": "mUbBy6fZObvQ"
   }
  },
  {
   "cell_type": "markdown",
   "source": [
    "La probabilidad funciona como una asignación de un evento o eventos con un número real en el intervalo $[0,1]$ que indica qué tan probable es el evento.\n",
    "\n",
    "La unión de todos los eventos se denomina espacio muestral.\n",
    "\n",
    "\n",
    "Axiomas: Sea $A$ un evento, el conjunto de todos los eventos $S = \\cup_{i}A_{i}$\n",
    "\n",
    "$P(A) \\geq 0$\n",
    "\n",
    "$P(S) = 1$\n",
    "\n",
    "Si $A_{1}$ y $A_{2}$ son mutuamente excluyentes, entonces\n",
    "\n",
    "$ P(A_{1} \\cup A_{2}) = P(A_{1}) + P(A_{2}) $"
   ],
   "metadata": {
    "id": "zWw7rag7alsP"
   }
  },
  {
   "cell_type": "code",
   "source": [
    "# Ejemplo: Lanzar un dado justo y calcular la probabilidad de obtener un número par.\n"
   ],
   "metadata": {
    "id": "188D9QBvdhvV"
   },
   "execution_count": null,
   "outputs": []
  },
  {
   "cell_type": "markdown",
   "source": [
    "Probabilidad condicional\n",
    "\n",
    "La probabilidad de que ocurra el evento $A$ dado que $B$ ha ocurrido, es igual a\n",
    "\n",
    "$ P(A|B) = \\frac{P(A \\cap B)}{ P(B) } $\n",
    "\n",
    "Dos eventos son independientes si $P(A \\cap B) = P(A)P(B) $\n",
    "\n",
    "Ley multiplicativa: $ P(A \\cap B) = P(A|B) P(B) $\n",
    "\n",
    "Ley aditiva: $ P(A \\cap B) = P(A) + P(B) - P(A \\cup B)$"
   ],
   "metadata": {
    "id": "d6PXyAzjbcol"
   }
  },
  {
   "cell_type": "code",
   "source": [
    "# Ejemplo: En una bolsa hay 3 bolas rojas y 2 verdes. Sacas una al azar sin devolverla y luego sacas otra.\n",
    "# ¿Cuál es la probabilidad de que la segunda bola sea verde dado que la primera fue roja?\n"
   ],
   "metadata": {
    "id": "5MDAe51ZOdOY"
   },
   "execution_count": null,
   "outputs": []
  },
  {
   "cell_type": "markdown",
   "source": [
    "Teorema de Bayes\n",
    "\n",
    "Partición: Una partición $\\{B_{1}, \\dots, B_{k} \\}$ de un conjunto $S$ cumple lo siguiente:\n",
    "\n",
    "$ S = \\cup_{i=1}^{k}B_{i} = B_{1} \\cup B_{2} \\cup \\dots \\cup B_{k} $\n",
    "\n",
    "$ B_{i} \\cap B_{j} = \\emptyset $ para $ i \\neq j$"
   ],
   "metadata": {
    "id": "2VPdgD9NcKdW"
   }
  },
  {
   "cell_type": "markdown",
   "source": [
    "Ley de la probabilidad Total\n",
    "\n",
    "Sea $\\{B_{1}, \\dots, B_{k} \\}$ una partición del espacio muestral $S$. Entonces\n",
    "\n",
    "$P(A) = \\sum_{i=1}^{k} P(A|B_{i})P(B_{i})$"
   ],
   "metadata": {
    "id": "0eVzk2Omc-s9"
   }
  },
  {
   "cell_type": "markdown",
   "source": [
    "Teorema de Bayes\n",
    "\n",
    "Dados dos eventos:\n",
    "\n",
    "$P(A|B) = \\frac{P(B|A)P(A)}{P(B)}$"
   ],
   "metadata": {
    "id": "6hU290qsdRIl"
   }
  },
  {
   "cell_type": "code",
   "source": [
    "# Probabilidad de estar enfermo dado test positivo\n",
    "# Definir símbolos\n",
    "P_A = 0.01       # Probabilidad de tener una enfermedad\n",
    "P_B_given_A = 0.95   # Test positivo si está enfermo\n",
    "P_B_given_not_A = 0.10  # Falso positivo\n",
    "P_not_A = 1 - P_A\n",
    "\n",
    "# Bayes: P(A | B) = [P(B|A) * P(A)] / [P(B|A)*P(A) + P(B|¬A)*P(¬A)]\n",
    "P_A_given_B = #TODO\n",
    "print(f\"Ejemplo 1 - Probabilidad de estar enfermo dado test positivo: {P_A_given_B:.4f}\")"
   ],
   "metadata": {
    "id": "Mj_5_0BhdfW9"
   },
   "execution_count": null,
   "outputs": []
  },
  {
   "cell_type": "code",
   "source": [
    "# Probabilidad de spam dado que contiene 'free'\n",
    "# P(Spam) = 0.2\n",
    "# P(\"free\" | Spam) = 0.9\n",
    "# P(\"free\" | No Spam) = 0.1\n",
    "P_S =\n",
    "P_not_S =\n",
    "P_word_given_S =\n",
    "P_word_given_not_S =\n",
    "\n",
    "P_S_given_word = #TODO\n",
    "\n",
    "print(f\"Ejemplo 2 - Probabilidad de spam dado que contiene 'free': {P_S_given_word:.2f}\")"
   ],
   "metadata": {
    "id": "8lSFQgHzdf6D"
   },
   "execution_count": null,
   "outputs": []
  },
  {
   "cell_type": "code",
   "source": [
    "# Probabilidad de incendio dado que suena la alarma\n",
    "# P(Fuego) = 0.01\n",
    "# P(Alarma | Fuego) = 0.99\n",
    "# P(Alarma | ¬Fuego) = 0.05\n",
    "P_F =\n",
    "P_not_F =\n",
    "P_A_given_F =\n",
    "P_A_given_not_F =\n",
    "\n",
    "P_F_given_A = #TODO\n",
    "\n",
    "print(f\"Ejemplo 3 - Probabilidad de incendio dado que suena la alarma: {P_F_given_A:.4f}\")"
   ],
   "metadata": {
    "id": "jbgiKOMLdgW0"
   },
   "execution_count": null,
   "outputs": []
  }
 ]
}
