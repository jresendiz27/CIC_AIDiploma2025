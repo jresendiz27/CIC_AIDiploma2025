{
  "nbformat": 4,
  "nbformat_minor": 0,
  "metadata": {
    "colab": {
      "provenance": []
    },
    "kernelspec": {
      "name": "python3",
      "display_name": "Python 3"
    },
    "language_info": {
      "name": "python"
    }
  },
  "cells": [
    {
      "cell_type": "markdown",
      "source": [
        "# Probabilidad\n",
        "\n",
        "En este Notebook revisaremos algunos conceptos básicos de Probabilidad. Para ello utilizaremos la librería random principalmente."
      ],
      "metadata": {
        "id": "_nOapFucNnl2"
      }
    },
    {
      "cell_type": "code",
      "execution_count": null,
      "metadata": {
        "id": "qEyYz3hjM09p"
      },
      "outputs": [],
      "source": [
        "import random\n",
        "from tqdm import tqdm\n",
        "import numpy as np"
      ]
    },
    {
      "cell_type": "code",
      "source": [
        "r = random.random()\n",
        "print(r)"
      ],
      "metadata": {
        "colab": {
          "base_uri": "https://localhost:8080/"
        },
        "id": "B6HxYwPTNmKl",
        "outputId": "2440d62e-ba4f-4cc8-b143-d2a3546ac07d"
      },
      "execution_count": null,
      "outputs": [
        {
          "output_type": "stream",
          "name": "stdout",
          "text": [
            "0.6394267984578837\n"
          ]
        }
      ]
    },
    {
      "cell_type": "markdown",
      "source": [
        "Juguemos al dado."
      ],
      "metadata": {
        "id": "sy0RQlGIOhK7"
      }
    },
    {
      "cell_type": "code",
      "source": [
        "random.randint(1,6)"
      ],
      "metadata": {
        "colab": {
          "base_uri": "https://localhost:8080/"
        },
        "id": "Dc2HtSUWOJZl",
        "outputId": "bb6fa5a3-ff89-41fc-da7d-89659fdf67b4"
      },
      "execution_count": null,
      "outputs": [
        {
          "output_type": "execute_result",
          "data": {
            "text/plain": [
              "1"
            ]
          },
          "metadata": {},
          "execution_count": 3
        }
      ]
    },
    {
      "cell_type": "markdown",
      "source": [
        "¿Cuál es la probabilidad de que $x = 1$ en un dado?"
      ],
      "metadata": {
        "id": "1aGe9P1sOb56"
      }
    },
    {
      "cell_type": "code",
      "source": [
        "I = []\n",
        "\n",
        "for _ in tqdm(range(10000000)):\n",
        "   x = random.randint(1,6)\n",
        "   if x == 1:\n",
        "      I.append(1)\n",
        "   else:\n",
        "      I.append(0)\n",
        "\n",
        "I = np.array(I)\n",
        "\n",
        "print(np.mean(I))"
      ],
      "metadata": {
        "colab": {
          "base_uri": "https://localhost:8080/"
        },
        "id": "IfRn0fnmObHD",
        "outputId": "6733bbf9-e560-4d5b-9141-57b7092d3816"
      },
      "execution_count": null,
      "outputs": [
        {
          "output_type": "stream",
          "name": "stderr",
          "text": [
            "100%|██████████| 10000000/10000000 [00:08<00:00, 1131416.75it/s]\n"
          ]
        },
        {
          "output_type": "stream",
          "name": "stdout",
          "text": [
            "0.1664879\n"
          ]
        }
      ]
    },
    {
      "cell_type": "code",
      "source": [
        "1/6"
      ],
      "metadata": {
        "colab": {
          "base_uri": "https://localhost:8080/"
        },
        "id": "J6lio97qO77B",
        "outputId": "ea51b2e5-a635-4a5e-bb3f-ab54b4983dfe"
      },
      "execution_count": null,
      "outputs": [
        {
          "output_type": "execute_result",
          "data": {
            "text/plain": [
              "0.16666666666666666"
            ]
          },
          "metadata": {},
          "execution_count": 5
        }
      ]
    },
    {
      "cell_type": "markdown",
      "source": [
        "\n",
        "\n",
        "Probabilidad de que sea par y sea menor a 5."
      ],
      "metadata": {
        "id": "Mkr-X8NdP4_2"
      }
    },
    {
      "cell_type": "code",
      "source": [
        "I = []\n",
        "\n",
        "for _ in range(1000000):\n",
        "   x = random.randint(1,6)\n",
        "   if x % 2 == 0 and x < 5:\n",
        "      I.append(1)\n",
        "   else:\n",
        "      I.append(0)\n",
        "\n",
        "I = np.array(I)\n",
        "\n",
        "print(np.mean(I))"
      ],
      "metadata": {
        "colab": {
          "base_uri": "https://localhost:8080/"
        },
        "id": "eAVGRv4vQBN9",
        "outputId": "a12b0228-7ba2-4fd7-8452-ab400fdcc032"
      },
      "execution_count": null,
      "outputs": [
        {
          "output_type": "stream",
          "name": "stdout",
          "text": [
            "0.333448\n"
          ]
        }
      ]
    },
    {
      "cell_type": "markdown",
      "source": [
        "**Unión de probabilidades**\n",
        "\n",
        "$$\\Pr(A\\cup B) = \\Pr(A) + \\Pr(B) - \\Pr(A \\cap B)$$"
      ],
      "metadata": {
        "id": "2j3cTO-FPbJP"
      }
    },
    {
      "cell_type": "markdown",
      "source": [
        "Calculemos la probabilidad de que sea 1 o sea 5."
      ],
      "metadata": {
        "id": "ZyTwj9cyQKTU"
      }
    },
    {
      "cell_type": "code",
      "source": [
        "I = []\n",
        "\n",
        "for _ in range(1000000):\n",
        "   x = random.randint(1,6)\n",
        "   if x == 1 or x == 5:\n",
        "      I.append(1)\n",
        "   else:\n",
        "      I.append(0)\n",
        "\n",
        "I = np.array(I)\n",
        "\n",
        "print(np.mean(I))"
      ],
      "metadata": {
        "colab": {
          "base_uri": "https://localhost:8080/"
        },
        "id": "CIgLTmykPZ9f",
        "outputId": "6b6b220c-0609-4b56-d245-a544c1dd9b47"
      },
      "execution_count": null,
      "outputs": [
        {
          "output_type": "stream",
          "name": "stdout",
          "text": [
            "0.333815\n"
          ]
        }
      ]
    },
    {
      "cell_type": "markdown",
      "source": [
        "**Probabilidad condicional**\n",
        "\n",
        "$$ \\Pr(A | B) = \\frac{\\Pr(A \\cap B)}{\\Pr(B)}$$\n",
        "\n",
        "$$\\Pr(A \\cap B) =  \\Pr(A | B)\\Pr(B)$$\n",
        "\n",
        "\n",
        "Independencia: $\\Pr(A | B) = \\Pr(A)$\n",
        "\n",
        "**Teorema de Bayes**\n",
        "\n",
        "$$ \\Pr(A | B) = \\frac{\\Pr(B | A) \\Pr(A)}{\\Pr(B)}$$"
      ],
      "metadata": {
        "id": "N-eNJ9QJQgWi"
      }
    },
    {
      "cell_type": "markdown",
      "source": [
        "¿Cuál es la probabilidad de que $x = 1$ dado que $x = 2$?"
      ],
      "metadata": {
        "id": "qGgcDrwdQxi6"
      }
    },
    {
      "cell_type": "code",
      "source": [
        "I = []\n",
        "\n",
        "for _ in range(1000000):\n",
        "   x = random.randint(1,6)\n",
        "   if x == 2:\n",
        "      if x == 1:\n",
        "          I.append(1)\n",
        "      else:\n",
        "          I.append(0)\n",
        "   # NO USAR :else:\n",
        "   #   I.append(0)\n",
        "\n",
        "I = np.array(I)\n",
        "\n",
        "print(np.mean(I))"
      ],
      "metadata": {
        "colab": {
          "base_uri": "https://localhost:8080/"
        },
        "id": "MVoRxDvDQf8L",
        "outputId": "0c9442c1-9c5b-4c71-8969-358ed7d24695"
      },
      "execution_count": null,
      "outputs": [
        {
          "output_type": "stream",
          "name": "stdout",
          "text": [
            "0.0\n"
          ]
        }
      ]
    },
    {
      "cell_type": "markdown",
      "source": [
        "¿Cuál es la probabilidad de que $x_{n} = 1$ dado que $x_{n-1} = 2$?\n",
        "\n"
      ],
      "metadata": {
        "id": "d_T3cNAiRilH"
      }
    },
    {
      "cell_type": "code",
      "source": [
        "I = []\n",
        "\n",
        "xp = random.randint(1,6)\n",
        "\n",
        "for _ in range(1000000):\n",
        "   x = random.randint(1,6)\n",
        "   if xp == 2:\n",
        "      if x == 1:\n",
        "          I.append(1)\n",
        "      else:\n",
        "          I.append(0)\n",
        "   xp = x\n",
        "\n",
        "I = np.array(I)\n",
        "\n",
        "print(np.mean(I))"
      ],
      "metadata": {
        "colab": {
          "base_uri": "https://localhost:8080/"
        },
        "id": "H9UexouFRiR3",
        "outputId": "b40eea59-6176-4f6e-a45c-37e18ae3837a"
      },
      "execution_count": null,
      "outputs": [
        {
          "output_type": "stream",
          "name": "stdout",
          "text": [
            "0.16802956108991499\n"
          ]
        }
      ]
    },
    {
      "cell_type": "code",
      "source": [
        "I = []\n",
        "I2 = []\n",
        "I3 = []\n",
        "\n",
        "xp = random.randint(1,6)\n",
        "\n",
        "for _ in range(1000000):\n",
        "   x = random.randint(1,6)\n",
        "   if x == 1:\n",
        "      I3.append(1)\n",
        "      if xp == 2:\n",
        "          I.append(1)\n",
        "      else:\n",
        "          I.append(0)\n",
        "   else:\n",
        "      I3.append(0)\n",
        "\n",
        "   if xp == 2:\n",
        "      I2.append(1)\n",
        "   else:\n",
        "      I2.append(0)\n",
        "\n",
        "\n",
        "   xp = x\n",
        "\n",
        "I = np.array(I)\n",
        "I2 = np.array(I2)\n",
        "I3 = np.array(I3)\n",
        "\n",
        "print((np.mean(I)* np.mean(I3) ) / np.mean(I2))"
      ],
      "metadata": {
        "colab": {
          "base_uri": "https://localhost:8080/"
        },
        "id": "4K_iH-oPR39G",
        "outputId": "46b445bd-ea67-4b0c-b0df-4a05d95dcf1e"
      },
      "execution_count": null,
      "outputs": [
        {
          "output_type": "stream",
          "name": "stdout",
          "text": [
            "0.16678393803260744\n"
          ]
        }
      ]
    },
    {
      "cell_type": "markdown",
      "source": [
        "*Matriz de confusión*\n",
        "\n",
        "|P|N|\n",
        "|----------|----------|\n",
        "| tp   | fn  |\n",
        "| fp   | tn  |\n",
        "\n",
        "tp: verdaderos positivos\n",
        "tn: verdaderos negativos\n",
        "fn: falsos negativos\n",
        "fp: falsos positivos\n",
        "\n",
        "\n",
        "Supongamos que nuestro detector de spam tiene la siguiente matriz de confusión:\n",
        "\n",
        "\n",
        "| P | N |\n",
        "|----------|----------|\n",
        "| 940   | 90   |\n",
        "| 60    | 10  |\n",
        "\n",
        "\n",
        "¿Cuál es la probabilidad de que dado que un correo se detecta como spam en realidad lo es?\n",
        "\n"
      ],
      "metadata": {
        "id": "JUuXj4gBUpqU"
      }
    },
    {
      "cell_type": "code",
      "source": [],
      "metadata": {
        "id": "MncoZkDObbth"
      },
      "execution_count": null,
      "outputs": []
    },
    {
      "cell_type": "code",
      "source": [],
      "metadata": {
        "id": "kBAZzOBiO-kY"
      },
      "execution_count": null,
      "outputs": []
    }
  ]
}