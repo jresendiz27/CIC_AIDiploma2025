{
 "cells": [
  {
   "cell_type": "markdown",
   "metadata": {
    "id": "view-in-github",
    "colab_type": "text"
   },
   "source": [
    "<a href=\"https://colab.research.google.com/github/jresendiz27/CIC_AIDiploma2025/blob/main/notebooks/Tarea_1_Python_Scores.ipynb\" target=\"_parent\"><img src=\"https://colab.research.google.com/assets/colab-badge.svg\" alt=\"Open In Colab\"/></a>"
   ]
  },
  {
   "cell_type": "markdown",
   "metadata": {
    "id": "2dySJn5KxJWf"
   },
   "source": [
    "# Tarea de Python\n",
    "\n"
   ]
  },
  {
   "cell_type": "markdown",
   "metadata": {
    "id": "cgOmx6KJMSF1"
   },
   "source": [
    "Para la siguiente tarea, vamos a implementar algunos de los pioneros sistemas de Inteligencia Artificial, que son los **árboles de decisión**. No es necesario saber mucho de IA, simplemente programar en Python.\n",
    "\n",
    "Supongamos que es el analista principal en el sector educativo y tiene que implementar diagnósticos para el examen de admisión a universidades públicas. Hay dos instrumentos de evaluación: un examen en habilidades numéricas y otros en habilidades lingüísticas. Entonces recibe los siguientes datos preliminares:\n",
    "\n",
    "| ID del Estudiante | Habilidades Numéricas (puntaje) | Habilidades Lingüísticas (puntaje) | Admitido |\n",
    "|--------------------|---------------------------------|------------------------------------|----------|\n",
    "| 001                | 85                              | 90                                 | Sí       |\n",
    "| 002                | 60                              | 78                                 | No       |\n",
    "| 003                | 92                              | 88                                 | Sí       |\n",
    "| 004                | 70                              | 65                                 | No       |\n",
    "| 005                | 80                              | 95                                 | Sí       |\n",
    "| 006                | 55                              | 72                                 | No       |\n",
    "| 007                | 90                              | 85                                 | Sí       |\n",
    "| 008                | 67                              | 60                                 | No       |\n",
    "| 009                | 78                              | 88                                 | Sí       |\n",
    "| 010                | 40                              | 50                                 | No       |\n",
    "\n",
    "\n"
   ]
  },
  {
   "cell_type": "markdown",
   "metadata": {
    "id": "Mbuw7xsOb9sZ"
   },
   "source": []
  },
  {
   "cell_type": "markdown",
   "metadata": {
    "id": "NnU0ORW9OLlz"
   },
   "source": [
    "**Ejercicio** (2 puntos): Convierte la tabla en formato de Pandas."
   ]
  },
  {
   "cell_type": "code",
   "metadata": {
    "id": "opeuH3bYOLFf",
    "ExecuteTime": {
     "end_time": "2025-05-03T17:42:17.546449Z",
     "start_time": "2025-05-03T17:42:17.536274Z"
    }
   },
   "source": [
    "import pandas as pd\n",
    "import numpy as np\n",
    "from pandas import DataFrame\n",
    "\n",
    "headers = ['student_id', 'numerical_skills_score', 'linguistic_skills_score', 'admitted']\n",
    "preliminar_data = [\n",
    "    ['001', 85, 90, True],\n",
    "    ['002', 60, 78, False],\n",
    "    ['003', 92, 88, True],\n",
    "    ['004', 70, 65, False],\n",
    "    ['005', 80, 95, True],\n",
    "    ['006', 55, 72, False],\n",
    "    ['007', 90, 85, True],\n",
    "    ['008', 67, 60, False],\n",
    "    ['009', 78, 88, True],\n",
    "    ['010', 40, 50, False],\n",
    "]\n",
    "\n",
    "df = pd.DataFrame(preliminar_data, columns=headers)"
   ],
   "outputs": [],
   "execution_count": null
  },
  {
   "cell_type": "markdown",
   "metadata": {
    "id": "ynn_1agOPt0j"
   },
   "source": [
    "**Ejercicio** (2 puntos). Utilizando Python, calcula la media de los estudiantes en cada examen que son admitidos y la media de los estudiantes en cada examen que no son admitidos."
   ]
  },
  {
   "cell_type": "code",
   "metadata": {
    "id": "CdlpWo3_PsUL",
    "ExecuteTime": {
     "end_time": "2025-05-03T17:33:28.728737Z",
     "start_time": "2025-05-03T17:33:28.721534Z"
    },
    "outputId": "280a5d31-4f01-43dd-f93e-9e80559d3057"
   },
   "source": [
    "avg_admitted = df['admitted'].mean()\n",
    "avg_rejected = 1 - avg_admitted\n",
    "print(f\"Avg Admitted: {avg_admitted * 100} %\")\n",
    "print(f\"Avg Rejected: {avg_rejected * 100} %\")"
   ],
   "outputs": [
    {
     "name": "stdout",
     "output_type": "stream",
     "text": [
      "Avg Admitted: 50.0 %\n",
      "Avg Rejected: 50.0 %\n"
     ]
    }
   ],
   "execution_count": null
  },
  {
   "cell_type": "markdown",
   "metadata": {
    "id": "JCvSOvcoOaBT"
   },
   "source": [
    "**Ejercicio** (1 punto): Descarga la tabla en formato CSV."
   ]
  },
  {
   "cell_type": "code",
   "metadata": {
    "id": "dgFO58c0xCL8",
    "ExecuteTime": {
     "end_time": "2025-05-03T17:39:00.761635Z",
     "start_time": "2025-05-03T17:39:00.752765Z"
    },
    "outputId": "a816a69e-8c96-4ab8-c210-304982aeee55"
   },
   "source": [
    "from IPython.display import FileLink\n",
    "\n",
    "FILENAME = './data.csv'\n",
    "df.to_csv(FILENAME, index=False)\n",
    "\n",
    "\n",
    "FileLink(FILENAME)"
   ],
   "outputs": [
    {
     "data": {
      "text/plain": [
       "/home/jresendiz/Documents/CIC_AIDiploma2025/notebooks/data.csv"
      ],
      "text/html": [
       "<a href='./data.csv' target='_blank'>./data.csv</a><br>"
      ]
     },
     "execution_count": 17,
     "metadata": {},
     "output_type": "execute_result"
    }
   ],
   "execution_count": null
  },
  {
   "cell_type": "markdown",
   "metadata": {
    "id": "444dxX4tOfWj"
   },
   "source": [
    "**Ejercicio** (2 puntos): Visualizar los datos es muy importante para el análisis exploratorio de datos. Utiliza Matplotlib para visualizar los datos. Es importante no sólo graficarlos, sino que también marcar con un color cada clase."
   ]
  },
  {
   "cell_type": "code",
   "metadata": {
    "id": "l4wCfltXO5IN",
    "ExecuteTime": {
     "end_time": "2025-05-03T18:01:45.791214Z",
     "start_time": "2025-05-03T18:01:45.324772Z"
    },
    "outputId": "0ac9bd17-0cca-4de7-c955-5576e0b91ee2"
   },
   "source": [
    "%matplotlib inline\n",
    "import matplotlib.pyplot as plt\n",
    "\n",
    "colors = df['admitted'].map({True: 'green', False: 'red'})\n",
    "numerical_min_score = df[df['admitted'] == True]['numerical_skills_score'].min()\n",
    "\n",
    "numerical_data = df[['student_id', 'numerical_skills_score']].plot(kind='scatter', x='student_id', y='numerical_skills_score', c=colors)\n",
    "plt.title(\"Numerical Skills Score\")\n",
    "plt.xlabel(\"Student Id\")\n",
    "plt.ylabel(\"Numerical Score\")\n",
    "plt.axhline(numerical_min_score, color='red', linestyle='--', label='Min score for numerical')\n",
    "\n",
    "for i, row in df.iterrows():\n",
    "    numerical_data.annotate(row['student_id'], (row['student_id'], row['numerical_skills_score']))\n",
    "\n",
    "plt.grid(True)\n",
    "plt.show()\n",
    "\n",
    "linguistic_data = df[['student_id', 'linguistic_skills_score']].plot(kind='scatter', x='student_id', y='linguistic_skills_score', c=colors)\n",
    "linguistic_min_score = df[df['admitted'] == True]['linguistic_skills_score'].min()\n",
    "plt.title(\"Linguistic Skills Score\")\n",
    "plt.xlabel(\"Student Id\")\n",
    "plt.ylabel(\"Linguistic Score\")\n",
    "plt.axhline(linguistic_min_score, color='red', linestyle='--', label='Min score for Linguistics')\n",
    "\n",
    "for i, row in df.iterrows():\n",
    "    linguistic_data.annotate(row['student_id'], (row['student_id'], row['linguistic_skills_score']))\n",
    "\n",
    "plt.grid(True)\n",
    "plt.show()\n"
   ],
   "outputs": [
    {
     "data": {
      "text/plain": [
       "<Figure size 640x480 with 1 Axes>"
      ],
      "image/png": "[encoded data removed]"
     },
     "metadata": {},
     "output_type": "display_data"
    },
    {
     "data": {
      "text/plain": [
       "<Figure size 640x480 with 1 Axes>"
      ],
      "image/png": "[encoded data removed]"
     },
     "metadata": {},
     "output_type": "display_data"
    }
   ],
   "execution_count": null
  },
  {
   "cell_type": "markdown",
   "metadata": {
    "id": "x7zVsiJ_O5eq"
   },
   "source": [
    "**Ejercicio** (2 puntos): Diseña varias reglas de decisión para clasificar si un alumno va a aprobar o no de acuerdo con los resultados del diagnóstico. Por ejemplo \"si los alumnos obtienen más de 85 en habilidades lingüísticas aprobarán\". Implementa esas reglas en una función en Python."
   ]
  },
  {
   "cell_type": "code",
   "metadata": {
    "id": "gQfAVT9RPhgc",
    "ExecuteTime": {
     "end_time": "2025-05-03T18:15:39.284991Z",
     "start_time": "2025-05-03T18:15:39.274577Z"
    },
    "outputId": "8c86697d-31e3-45f2-acef-bdb251ef128f"
   },
   "source": [
    "from pandas import DataFrame\n",
    "\n",
    "def is_going_to_pass_linguistic(data_frame: DataFrame, min_score : int=None) -> DataFrame:\n",
    "    if min_score is None:\n",
    "        min_score = 80\n",
    "    return data_frame[data_frame['linguistic_skills_score'] >= min_score]\n",
    "\n",
    "def is_going_to_pass_numerical(data_frame: DataFrame, min_score: int = None) -> DataFrame:\n",
    "    if min_score is None:\n",
    "        min_score = 80\n",
    "    return data_frame[data_frame['numerical_skills_score'] >= min_score]\n",
    "\n",
    "MIN_SCORE = 90\n",
    "\n",
    "passed_numerical: DataFrame = is_going_to_pass_numerical(df, MIN_SCORE)\n",
    "passed_linguistic: DataFrame = is_going_to_pass_linguistic(df, MIN_SCORE)\n",
    "\n",
    "print(f\"Passed Numerical with {MIN_SCORE} score: {passed_numerical['student_id'].values}\")\n",
    "print(f\"Passed Linguistic with {MIN_SCORE} score: {passed_linguistic['student_id'].values}\")"
   ],
   "outputs": [
    {
     "name": "stdout",
     "output_type": "stream",
     "text": [
      "Passed Numerical with 90 score: ['003' '007']\n",
      "Passed Linguistic with 90 score: ['001' '005']\n"
     ]
    }
   ],
   "execution_count": null
  },
  {
   "cell_type": "markdown",
   "metadata": {
    "id": "pbnkIf9-Ph4T"
   },
   "source": [
    "**Ejercicio** (1 punto): Utiliza la función para clasificar si la persona con id 011 con resultados de 75 en ambos exámenes aprobará o no."
   ]
  },
  {
   "cell_type": "code",
   "metadata": {
    "id": "A1v6hHPcQ8Hz",
    "ExecuteTime": {
     "end_time": "2025-05-03T18:26:03.190051Z",
     "start_time": "2025-05-03T18:26:03.181762Z"
    },
    "outputId": "9822e2fb-6e96-471b-fe33-d245d9ea0e45"
   },
   "source": [
    "def student_passed_both(data_frame: DataFrame, student_id: str, min_score: int = None) -> bool:\n",
    "    result = data_frame[\n",
    "        (data_frame['student_id'] == student_id)\n",
    "        &\n",
    "        (data_frame['linguistic_skills_score'] >= min_score)\n",
    "        &\n",
    "        (data_frame['numerical_skills_score'] >= min_score)]\n",
    "    return not result.empty\n",
    "\n",
    "STUDENT_ID = '011'\n",
    "MIN_SCORE = 75\n",
    "\n",
    "print(f\"Student passed both? student_id: {STUDENT_ID}, min_score: {MIN_SCORE}, result: {student_passed_both(df, STUDENT_ID, MIN_SCORE)}\")"
   ],
   "outputs": [
    {
     "name": "stdout",
     "output_type": "stream",
     "text": [
      "Student passed both? student_id: 011, min_score: 75, result: False\n"
     ]
    }
   ],
   "execution_count": null
  },
  {
   "metadata": {
    "ExecuteTime": {
     "end_time": "2025-05-23T03:11:29.194009Z",
     "start_time": "2025-05-23T03:11:29.175690Z"
    }
   },
   "cell_type": "code",
   "source": [
    "import pandas as pd\n",
    "df = pd.read_csv('/home/jresendiz/Downloads/202405010000TMax.csv', encoding='ISO-8859-3')\n",
    "print(df.keys())\n",
    "print(df.count())\n",
    "mex_results = df[df['Edo'] == 'CDMX']\n",
    "mex_results"
   ],
   "outputs": [
    {
     "name": "stdout",
     "output_type": "stream",
     "text": [
      "Index(['Lon', 'Lat', 'Clave', 'Edo', 'Est', 'Tmax'], dtype='object')\n",
      "Lon      1255\n",
      "Lat      1255\n",
      "Clave    1255\n",
      "Edo      1255\n",
      "Est      1251\n",
      "Tmax     1255\n",
      "dtype: int64\n"
     ]
    },
    {
     "data": {
      "text/plain": [
       "       Lon    Lat       Clave   Edo  \\\n",
       "110 -99.20  19.30       DATDF  CDMX   \n",
       "111 -99.08  19.47       SJADF  CDMX   \n",
       "112 -99.14  19.52       CEADF  CDMX   \n",
       "113 -99.20  19.27  ECOGUARDAS  CDMX   \n",
       "114 -99.10  19.39       TEZDF  CDMX   \n",
       "115 -99.20  19.41       CTMDF  CDMX   \n",
       "116 -99.09  19.48       GCNDF  CDMX   \n",
       "117 -99.07  19.44        MMMX  CDMX   \n",
       "118 -99.22  19.44       IBMSE  CDMX   \n",
       "119 -99.26  19.36       SFESE  CDMX   \n",
       "120 -99.16  19.35        ENP6  CDMX   \n",
       "121 -99.10  19.39        ENP2  CDMX   \n",
       "122 -99.20  19.31        CCHS  CDMX   \n",
       "123 -99.20  19.40        ENP4  CDMX   \n",
       "124 -99.20  19.50        CCHA  CDMX   \n",
       "125 -99.06  19.38        CCHO  CDMX   \n",
       "126 -99.19  19.42     MDELREY  CDMX   \n",
       "127 -99.12  19.27        ENP1  CDMX   \n",
       "128 -99.16  19.15       AJUSE  CDMX   \n",
       "129 -99.19  19.37        ENP8  CDMX   \n",
       "130 -99.09  19.48        ENP3  CDMX   \n",
       "131 -99.01  19.25  TULYEHUALC  CDMX   \n",
       "132 -99.18  19.33         CCA  CDMX   \n",
       "133 -99.13  19.42        ENP7  CDMX   \n",
       "134 -99.12  19.48        ENP9  CDMX   \n",
       "135 -99.15  19.20       TOPSE  CDMX   \n",
       "136 -99.26  19.36       SANSE  CDMX   \n",
       "137 -99.20  19.40  TACUBAYAob  CDMX   \n",
       "\n",
       "                                                   Est  Tmax  \n",
       "110                       Desviación Alta, Cd. de Méx.  26.2  \n",
       "111                    San Juan de Aragón, Cd. de Méx.  32.0  \n",
       "112                    Campamento Amealco, Cd. de Méx.  34.4  \n",
       "113                Ecoguardas Ajusco, Cd. de Méx. SMN*  31.8  \n",
       "114                         Tezontle, Cd. de Méx. SMN*  31.2  \n",
       "115              Observatorio de Tacubaya, Cd. de Méx.  32.7  \n",
       "116                              km 6+250, Cd. de Méx.  36.1  \n",
       "117  Aeropuerto Internacional de la Ciudad de Méxic...  31.1  \n",
       "118                       Legaria, Cd. de Méx. SGIRPC*  31.6  \n",
       "119                      Santa Fe, Cd. de Méx. SGIRPC*  27.4  \n",
       "120  Escuela Nacional Preparatoria 6, Cd. de Méx. U...  31.8  \n",
       "121  Escuela Nacional Preparatoria 2, Cd. de Méx. U...  31.6  \n",
       "122  Colegio de Ciencias y Humanidades Sur, Cd. de ...  30.9  \n",
       "123  Escuela Nacional Preparatoria 4, Cd. de Méx. U...  31.5  \n",
       "124  Colegio de Ciencias y Humanidades Azcapotzalco...  31.1  \n",
       "125  Colegio de Ciencias y Humanidades Oriente, Cd....  31.7  \n",
       "126                    Molino del Rey, Cd. de Méx SMN*  31.4  \n",
       "127  Escuela Nacional Preparatoria 1, Cd. de Méx. U...  32.0  \n",
       "128                        Ajusco, Cd. de Méx. SGIRPC*  27.5  \n",
       "129  Escuela Nacional Preparatoria 8, Cd. de Méx. U...  30.4  \n",
       "130  Escuela Nacional Preparatoria 3, Cd. de Méx. U...  32.6  \n",
       "131                     Tulyehualco, Cd. de Méx. UNAM*  30.9  \n",
       "132  Centro de Ciencias de la Atmósfera, Cd. de Méx...  31.2  \n",
       "133  Escuela Nacional Preparatoria 7, Cd. de Méx. U...  32.5  \n",
       "134  Escuela Nacional Preparatoria 9, Cd. de Méx. U...  31.9  \n",
       "135                      Topilejo, Cd. de Méx. SGIRPC*  26.8  \n",
       "136                     Santa Ana, Cd. de Méx. SGIRPC*  29.1  \n",
       "137         Observatorio de Tacubaya, Cd. de Méx. SMN*  31.6  "
      ],
      "text/html": [
       "<div>\n",
       "<style scoped>\n",
       "    .dataframe tbody tr th:only-of-type {\n",
       "        vertical-align: middle;\n",
       "    }\n",
       "\n",
       "    .dataframe tbody tr th {\n",
       "        vertical-align: top;\n",
       "    }\n",
       "\n",
       "    .dataframe thead th {\n",
       "        text-align: right;\n",
       "    }\n",
       "</style>\n",
       "<table border=\"1\" class=\"dataframe\">\n",
       "  <thead>\n",
       "    <tr style=\"text-align: right;\">\n",
       "      <th></th>\n",
       "      <th>Lon</th>\n",
       "      <th>Lat</th>\n",
       "      <th>Clave</th>\n",
       "      <th>Edo</th>\n",
       "      <th>Est</th>\n",
       "      <th>Tmax</th>\n",
       "    </tr>\n",
       "  </thead>\n",
       "  <tbody>\n",
       "    <tr>\n",
       "      <th>110</th>\n",
       "      <td>-99.20</td>\n",
       "      <td>19.30</td>\n",
       "      <td>DATDF</td>\n",
       "      <td>CDMX</td>\n",
       "      <td>Desviación Alta, Cd. de Méx.</td>\n",
       "      <td>26.2</td>\n",
       "    </tr>\n",
       "    <tr>\n",
       "      <th>111</th>\n",
       "      <td>-99.08</td>\n",
       "      <td>19.47</td>\n",
       "      <td>SJADF</td>\n",
       "      <td>CDMX</td>\n",
       "      <td>San Juan de Aragón, Cd. de Méx.</td>\n",
       "      <td>32.0</td>\n",
       "    </tr>\n",
       "    <tr>\n",
       "      <th>112</th>\n",
       "      <td>-99.14</td>\n",
       "      <td>19.52</td>\n",
       "      <td>CEADF</td>\n",
       "      <td>CDMX</td>\n",
       "      <td>Campamento Amealco, Cd. de Méx.</td>\n",
       "      <td>34.4</td>\n",
       "    </tr>\n",
       "    <tr>\n",
       "      <th>113</th>\n",
       "      <td>-99.20</td>\n",
       "      <td>19.27</td>\n",
       "      <td>ECOGUARDAS</td>\n",
       "      <td>CDMX</td>\n",
       "      <td>Ecoguardas Ajusco, Cd. de Méx. SMN*</td>\n",
       "      <td>31.8</td>\n",
       "    </tr>\n",
       "    <tr>\n",
       "      <th>114</th>\n",
       "      <td>-99.10</td>\n",
       "      <td>19.39</td>\n",
       "      <td>TEZDF</td>\n",
       "      <td>CDMX</td>\n",
       "      <td>Tezontle, Cd. de Méx. SMN*</td>\n",
       "      <td>31.2</td>\n",
       "    </tr>\n",
       "    <tr>\n",
       "      <th>115</th>\n",
       "      <td>-99.20</td>\n",
       "      <td>19.41</td>\n",
       "      <td>CTMDF</td>\n",
       "      <td>CDMX</td>\n",
       "      <td>Observatorio de Tacubaya, Cd. de Méx.</td>\n",
       "      <td>32.7</td>\n",
       "    </tr>\n",
       "    <tr>\n",
       "      <th>116</th>\n",
       "      <td>-99.09</td>\n",
       "      <td>19.48</td>\n",
       "      <td>GCNDF</td>\n",
       "      <td>CDMX</td>\n",
       "      <td>km 6+250, Cd. de Méx.</td>\n",
       "      <td>36.1</td>\n",
       "    </tr>\n",
       "    <tr>\n",
       "      <th>117</th>\n",
       "      <td>-99.07</td>\n",
       "      <td>19.44</td>\n",
       "      <td>MMMX</td>\n",
       "      <td>CDMX</td>\n",
       "      <td>Aeropuerto Internacional de la Ciudad de Méxic...</td>\n",
       "      <td>31.1</td>\n",
       "    </tr>\n",
       "    <tr>\n",
       "      <th>118</th>\n",
       "      <td>-99.22</td>\n",
       "      <td>19.44</td>\n",
       "      <td>IBMSE</td>\n",
       "      <td>CDMX</td>\n",
       "      <td>Legaria, Cd. de Méx. SGIRPC*</td>\n",
       "      <td>31.6</td>\n",
       "    </tr>\n",
       "    <tr>\n",
       "      <th>119</th>\n",
       "      <td>-99.26</td>\n",
       "      <td>19.36</td>\n",
       "      <td>SFESE</td>\n",
       "      <td>CDMX</td>\n",
       "      <td>Santa Fe, Cd. de Méx. SGIRPC*</td>\n",
       "      <td>27.4</td>\n",
       "    </tr>\n",
       "    <tr>\n",
       "      <th>120</th>\n",
       "      <td>-99.16</td>\n",
       "      <td>19.35</td>\n",
       "      <td>ENP6</td>\n",
       "      <td>CDMX</td>\n",
       "      <td>Escuela Nacional Preparatoria 6, Cd. de Méx. U...</td>\n",
       "      <td>31.8</td>\n",
       "    </tr>\n",
       "    <tr>\n",
       "      <th>121</th>\n",
       "      <td>-99.10</td>\n",
       "      <td>19.39</td>\n",
       "      <td>ENP2</td>\n",
       "      <td>CDMX</td>\n",
       "      <td>Escuela Nacional Preparatoria 2, Cd. de Méx. U...</td>\n",
       "      <td>31.6</td>\n",
       "    </tr>\n",
       "    <tr>\n",
       "      <th>122</th>\n",
       "      <td>-99.20</td>\n",
       "      <td>19.31</td>\n",
       "      <td>CCHS</td>\n",
       "      <td>CDMX</td>\n",
       "      <td>Colegio de Ciencias y Humanidades Sur, Cd. de ...</td>\n",
       "      <td>30.9</td>\n",
       "    </tr>\n",
       "    <tr>\n",
       "      <th>123</th>\n",
       "      <td>-99.20</td>\n",
       "      <td>19.40</td>\n",
       "      <td>ENP4</td>\n",
       "      <td>CDMX</td>\n",
       "      <td>Escuela Nacional Preparatoria 4, Cd. de Méx. U...</td>\n",
       "      <td>31.5</td>\n",
       "    </tr>\n",
       "    <tr>\n",
       "      <th>124</th>\n",
       "      <td>-99.20</td>\n",
       "      <td>19.50</td>\n",
       "      <td>CCHA</td>\n",
       "      <td>CDMX</td>\n",
       "      <td>Colegio de Ciencias y Humanidades Azcapotzalco...</td>\n",
       "      <td>31.1</td>\n",
       "    </tr>\n",
       "    <tr>\n",
       "      <th>125</th>\n",
       "      <td>-99.06</td>\n",
       "      <td>19.38</td>\n",
       "      <td>CCHO</td>\n",
       "      <td>CDMX</td>\n",
       "      <td>Colegio de Ciencias y Humanidades Oriente, Cd....</td>\n",
       "      <td>31.7</td>\n",
       "    </tr>\n",
       "    <tr>\n",
       "      <th>126</th>\n",
       "      <td>-99.19</td>\n",
       "      <td>19.42</td>\n",
       "      <td>MDELREY</td>\n",
       "      <td>CDMX</td>\n",
       "      <td>Molino del Rey, Cd. de Méx SMN*</td>\n",
       "      <td>31.4</td>\n",
       "    </tr>\n",
       "    <tr>\n",
       "      <th>127</th>\n",
       "      <td>-99.12</td>\n",
       "      <td>19.27</td>\n",
       "      <td>ENP1</td>\n",
       "      <td>CDMX</td>\n",
       "      <td>Escuela Nacional Preparatoria 1, Cd. de Méx. U...</td>\n",
       "      <td>32.0</td>\n",
       "    </tr>\n",
       "    <tr>\n",
       "      <th>128</th>\n",
       "      <td>-99.16</td>\n",
       "      <td>19.15</td>\n",
       "      <td>AJUSE</td>\n",
       "      <td>CDMX</td>\n",
       "      <td>Ajusco, Cd. de Méx. SGIRPC*</td>\n",
       "      <td>27.5</td>\n",
       "    </tr>\n",
       "    <tr>\n",
       "      <th>129</th>\n",
       "      <td>-99.19</td>\n",
       "      <td>19.37</td>\n",
       "      <td>ENP8</td>\n",
       "      <td>CDMX</td>\n",
       "      <td>Escuela Nacional Preparatoria 8, Cd. de Méx. U...</td>\n",
       "      <td>30.4</td>\n",
       "    </tr>\n",
       "    <tr>\n",
       "      <th>130</th>\n",
       "      <td>-99.09</td>\n",
       "      <td>19.48</td>\n",
       "      <td>ENP3</td>\n",
       "      <td>CDMX</td>\n",
       "      <td>Escuela Nacional Preparatoria 3, Cd. de Méx. U...</td>\n",
       "      <td>32.6</td>\n",
       "    </tr>\n",
       "    <tr>\n",
       "      <th>131</th>\n",
       "      <td>-99.01</td>\n",
       "      <td>19.25</td>\n",
       "      <td>TULYEHUALC</td>\n",
       "      <td>CDMX</td>\n",
       "      <td>Tulyehualco, Cd. de Méx. UNAM*</td>\n",
       "      <td>30.9</td>\n",
       "    </tr>\n",
       "    <tr>\n",
       "      <th>132</th>\n",
       "      <td>-99.18</td>\n",
       "      <td>19.33</td>\n",
       "      <td>CCA</td>\n",
       "      <td>CDMX</td>\n",
       "      <td>Centro de Ciencias de la Atmósfera, Cd. de Méx...</td>\n",
       "      <td>31.2</td>\n",
       "    </tr>\n",
       "    <tr>\n",
       "      <th>133</th>\n",
       "      <td>-99.13</td>\n",
       "      <td>19.42</td>\n",
       "      <td>ENP7</td>\n",
       "      <td>CDMX</td>\n",
       "      <td>Escuela Nacional Preparatoria 7, Cd. de Méx. U...</td>\n",
       "      <td>32.5</td>\n",
       "    </tr>\n",
       "    <tr>\n",
       "      <th>134</th>\n",
       "      <td>-99.12</td>\n",
       "      <td>19.48</td>\n",
       "      <td>ENP9</td>\n",
       "      <td>CDMX</td>\n",
       "      <td>Escuela Nacional Preparatoria 9, Cd. de Méx. U...</td>\n",
       "      <td>31.9</td>\n",
       "    </tr>\n",
       "    <tr>\n",
       "      <th>135</th>\n",
       "      <td>-99.15</td>\n",
       "      <td>19.20</td>\n",
       "      <td>TOPSE</td>\n",
       "      <td>CDMX</td>\n",
       "      <td>Topilejo, Cd. de Méx. SGIRPC*</td>\n",
       "      <td>26.8</td>\n",
       "    </tr>\n",
       "    <tr>\n",
       "      <th>136</th>\n",
       "      <td>-99.26</td>\n",
       "      <td>19.36</td>\n",
       "      <td>SANSE</td>\n",
       "      <td>CDMX</td>\n",
       "      <td>Santa Ana, Cd. de Méx. SGIRPC*</td>\n",
       "      <td>29.1</td>\n",
       "    </tr>\n",
       "    <tr>\n",
       "      <th>137</th>\n",
       "      <td>-99.20</td>\n",
       "      <td>19.40</td>\n",
       "      <td>TACUBAYAob</td>\n",
       "      <td>CDMX</td>\n",
       "      <td>Observatorio de Tacubaya, Cd. de Méx. SMN*</td>\n",
       "      <td>31.6</td>\n",
       "    </tr>\n",
       "  </tbody>\n",
       "</table>\n",
       "</div>"
      ]
     },
     "execution_count": 27,
     "metadata": {},
     "output_type": "execute_result"
    }
   ],
   "execution_count": 27
  },
  {
   "metadata": {},
   "cell_type": "code",
   "outputs": [],
   "execution_count": null,
   "source": ""
  }
 ],
 "metadata": {
  "colab": {
   "provenance": [],
   "include_colab_link": true
  },
  "kernelspec": {
   "display_name": "Python 3 (ipykernel)",
   "language": "python",
   "name": "python3"
  },
  "language_info": {
   "codemirror_mode": {
    "name": "ipython",
    "version": 3
   },
   "file_extension": ".py",
   "mimetype": "text/x-python",
   "name": "python",
   "nbconvert_exporter": "python",
   "pygments_lexer": "ipython3",
   "version": "3.12.9"
  }
 },
 "nbformat": 4,
 "nbformat_minor": 0
}
