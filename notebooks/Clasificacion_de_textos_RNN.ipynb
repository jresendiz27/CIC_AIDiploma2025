{
  "cells": [
    {
      "cell_type": "markdown",
      "metadata": {
        "id": "hX4n9TsbGw-f"
      },
      "source": [
        "# Clasificación de textos\n",
        "\n",
        "El siguiente código de clasificación de textos con Redes Neuronales Recurrentes está basado en https://www.tensorflow.org/text/tutorials/text_classification_rnn.\n",
        "\n",
        "Las modificaciones que se hacen son las siguientes:\n",
        "\n",
        "\n",
        "1.   Modificación del texto para adaptación a la audiencia en español.\n",
        "2.   Adaptación del código a las versiones actuales de Tensorflow.\n",
        "3.   Inclusión de redes neuronales recurrentes básicas y GRU, además de métodos clásicos.\n",
        "4.   La barra de progreso se va a mostrar.\n",
        "5.   Algunas indicaciones explicativas se añadieron.\n",
        "6.   Se hizo otro *shuffle* de los datos.\n",
        "7.   Ligeros cambios en algunas constantes.\n",
        "8.   No validaremos con el conjunto de prueba.\n",
        "\n",
        "Dicho esto, no me demanden. Aquí muestro la licencia:\n",
        "\n"
      ]
    },
    {
      "cell_type": "code",
      "execution_count": null,
      "metadata": {
        "id": "0nbI5DtDGw-i"
      },
      "outputs": [],
      "source": [
        "#@title Licensed under the Apache License, Version 2.0 (the \"License\");\n",
        "# you may not use this file except in compliance with the License.\n",
        "# You may obtain a copy of the License at\n",
        "#\n",
        "# https://www.apache.org/licenses/LICENSE-2.0\n",
        "#\n",
        "# Unless required by applicable law or agreed to in writing, software\n",
        "# distributed under the License is distributed on an \"AS IS\" BASIS,\n",
        "# WITHOUT WARRANTIES OR CONDITIONS OF ANY KIND, either express or implied.\n",
        "# See the License for the specific language governing permissions and\n",
        "# limitations under the License."
      ]
    },
    {
      "cell_type": "markdown",
      "metadata": {
        "id": "_2VQo4bajwUU"
      },
      "source": [
        "## Introducción\n",
        "\n",
        "En el siguiente código vamos a ver cómo clasificar textos con diversas redes neuronales recurrentes. Para ello utilizaremos el *dataset* IMDB, que incluye reseñas de películas, etiquetadas como \"positiva\" o \"negativa\". Esto es un ejemplo de **análisis de sentimientos**."
      ]
    },
    {
      "cell_type": "code",
      "execution_count": null,
      "metadata": {
        "id": "z682XYsrjkY9"
      },
      "outputs": [],
      "source": [
        "import numpy as np\n",
        "\n",
        "import tensorflow_datasets as tfds\n",
        "import tensorflow as tf"
      ]
    },
    {
      "cell_type": "markdown",
      "metadata": {
        "id": "1rXHa-w9JZhb"
      },
      "source": [
        "La siguiente función nos permite graficar con facilidad lo que necesitamos, que es la evolución de las métricas a través de las épocas.  "
      ]
    },
    {
      "cell_type": "code",
      "execution_count": null,
      "metadata": {
        "id": "Mp1Z7P9pYRSK"
      },
      "outputs": [],
      "source": [
        "import matplotlib.pyplot as plt\n",
        "\n",
        "\n",
        "def plot_graphs(history, metric):\n",
        "  plt.plot(history.history[metric])\n",
        "  plt.xlabel(\"Epochs\")\n",
        "  plt.ylabel(metric)\n",
        "  plt.legend([metric])"
      ]
    },
    {
      "cell_type": "markdown",
      "metadata": {
        "id": "pRmMubr0jrE2"
      },
      "source": [
        "## Descargar y configurar el *dataset*\n",
        "\n",
        "\n",
        "Necesitamos descargar el dataset IMDB utilizando el formato de Tensorflow para conjuntos de datos [TFDS](https://www.tensorflow.org/datasets). Para más detalles de cómo cargar y ordenar manualmente el conjunto de datos, véase el siguiente [tutorial](https://www.tensorflow.org/tutorials/load_data/text)."
      ]
    },
    {
      "cell_type": "code",
      "execution_count": null,
      "metadata": {
        "id": "SHRwRoP2nVHX",
        "outputId": "cddb6047-4a2d-4d4e-d36b-ad69414b1c94",
        "colab": {
          "base_uri": "https://localhost:8080/",
          "height": 188,
          "referenced_widgets": [
            "5795e37a691b4b8fa22188c49d9d215f",
            "65c012f7c2584c6589376ce998a6b598",
            "c24cefabac4a4451b19221ff9c0238a0",
            "ba7bf4facbf4406e95513f6d927ba0f7",
            "707275808bf248cdb1f99975c8bf3017",
            "eaeb835865af42968b38e7d5918edd3b",
            "0fdbb4c2a4b24cc48ab0ce797640739a",
            "6b1eb93778a8419f9cfa9a620467dcaa",
            "98e39b3299d24784bfb437f64bcec417",
            "8ef7bda39d864fe696636f0cd8545cdd",
            "737252bb71f741ba8b7e725da96a2b90",
            "e3512128afd142eaaed033cb2323b5a0",
            "da58a381f6cd43ebaffcef42b8bbe347",
            "c2d36bb50bed47538ed49cd218d4d4e6",
            "c0f71185020a4e9489c2c29ff7ce14aa",
            "c9d7c2633fba405cba02eb3f62318284",
            "8d855d9b3d934845b26ba252aac77bb2",
            "e5176702d4f24541bf8b9714fd9ea238",
            "f2a4628f078041b0907bc452238ee1b0",
            "f61b75eaa4e64a16bfc72b9cbf1d47a1",
            "85f4a6f51cda46ef91123d8db0cdaefa",
            "5d9c7d34a6a04d9aa1eacfe5bcbb1942",
            "6d07086c1b5440889248c3024ee97222",
            "fcde2bd553294913a37e98e3c3b3786d",
            "1bae04e2504944ccb4b77ff4e3baf33e",
            "a0d0cb4f02b340f58c32e0738031c496",
            "af9890d1486748f1b0d9e5364fdeb089",
            "b2294c37f06a4510a607ee8912d6b38d",
            "741a4fe2d9c7411198cebfb243f9d1b8",
            "43305a936fd04eeaa0a83a3fc737368b",
            "2ab603692d4d4bfc963006bb1fa7d525",
            "6db56441ec3b4b30b8dbf15a522c93f1",
            "13956b7d8e54446893552fd11fcc5f6d",
            "03f7589c1e224085bc5262710efbc2dd",
            "3b8985492c034c7590ac4afd483230d9",
            "fcdfb6eef38b49a59429235d578f0fe9",
            "383e6cbebd9f4cd0a7b2941661db06c5",
            "c735f768071c45789592b3d6f30601de",
            "4f0aae3e4406405fb11d3e094c9a1686",
            "ccc04eb481f8443ab331121aa74a1b30",
            "01916bd401a140bc848eff45d68116dc",
            "0330f127ea4143a784e1b88d26b39a07",
            "eb943382938e4881be3dfa44edc31546",
            "0acdd80c66ae4a6280de289b0b4c3465",
            "9aac63ddab224662bc06f2104176eeab",
            "ce11dec32192426983d32713a54bf766",
            "c2797f9904b04532b36c3be7968e5284",
            "98e1d85935804639b764ee701eb32f47",
            "4931b3af4644418c80b0446896061923",
            "513f6d09ea8844029010eb14657b58de",
            "9f31e545cdb0467fbc41a00fe71030bd",
            "9c114ca0f0b44ea4b9327d93cfa48254",
            "0d40fe77cc734f828612795c2a24014e",
            "1b8939342e414e5d8281f89cd4c19d31",
            "affd86bc92a247ed9c266d5a44f696ac",
            "9bd15100641743dba9055624b10bc00b",
            "af5f0162aaba4e088d2a5c0ac49b1fce",
            "e347acf84aa74ac89a369ec3585d489c",
            "224cf915748e433f9f0e8393539710cd",
            "9e820221dc064ea48aa0e44af901e8e8",
            "94dcf71cb3774cbf8f31d4f46668ca56",
            "e6dbf2a856404d46abd32d999d80c6fb",
            "86e7a84ebd554c668d8a18e35edeed4b",
            "8901f91997944c56936908e4680750f8",
            "48c068d937dd47b1aa0169e8018a515f",
            "35542f1b6cb04564908c54cb742eb845",
            "e0026332f3f84032bbe2024c0ebbcc38",
            "0edce1bd543d4bdd8dc643b64348bfcd",
            "022cfbf77c9f413f93a3dd935052bca5",
            "44477174b81042068c82dab421fc7ad6",
            "2082360480c3457ea9c2ffa34d02758e",
            "9683893184274cb2ae50850c89b55dba",
            "4afaaaf2135a4012866220dc36d0445a",
            "b9bbca23781e4affa0631a1772399e7e",
            "a5f39fad88e049d1b9b7542fcd8d0a85",
            "0e1ec26c97e54269972cc909d8d03e5e",
            "b4538a9c0e1a4b359708f781489098e9",
            "15f207ff8ec64aba8783d99201c6b76d",
            "94c36d7662c347a5bc430ba531227157",
            "4d4098327165458bbe957e9edabaacf7",
            "a67dbc5552f0413caca430a2db4b39ff",
            "c3552540e3334a0aa29cf3f708fbb215",
            "6e96e18fa12841aebdffb57ff5cd01fe",
            "82d5c6445000443c838f938cf140c3cb",
            "1ba3e042edb54e7193e984de484537b5",
            "19ec22b5a8f548a1b7565334e52adc1d",
            "2d5c369d2ead465f832d22092ebe813c",
            "101d1b77d956478bb4c22e9f36dbff66",
            "4561a720f1ee465d8c708037a2a9c406",
            "19904ea630e741688f612fa7a93e732e",
            "0bb4002f00ee4c158e3164c24ecda842",
            "4b18f48e76a04b4ea411d12526be377e",
            "83031230f517443da4b782a7ab1a5daa",
            "b5f1d49fa7d6491cba415a267f08b624",
            "7c89ca3d023649b9b8ffdf083dfee6bf",
            "0a65585937e449bb88a1cc317d5cf300",
            "aebc0123135b476d8feae33e901f9985",
            "ec04fd8315684197bf8981c83a4abf47",
            "c71be84e588c490c9040695ba08e2675"
          ]
        }
      },
      "outputs": [
        {
          "output_type": "stream",
          "name": "stderr",
          "text": [
            "WARNING:absl:Variant folder /root/tensorflow_datasets/imdb_reviews/plain_text/1.0.0 has no dataset_info.json\n"
          ]
        },
        {
          "output_type": "stream",
          "name": "stdout",
          "text": [
            "Downloading and preparing dataset Unknown size (download: Unknown size, generated: Unknown size, total: Unknown size) to /root/tensorflow_datasets/imdb_reviews/plain_text/1.0.0...\n"
          ]
        },
        {
          "output_type": "display_data",
          "data": {
            "text/plain": [
              "Dl Completed...: 0 url [00:00, ? url/s]"
            ],
            "application/vnd.jupyter.widget-view+json": {
              "version_major": 2,
              "version_minor": 0,
              "model_id": "5795e37a691b4b8fa22188c49d9d215f"
            }
          },
          "metadata": {}
        },
        {
          "output_type": "display_data",
          "data": {
            "text/plain": [
              "Dl Size...: 0 MiB [00:00, ? MiB/s]"
            ],
            "application/vnd.jupyter.widget-view+json": {
              "version_major": 2,
              "version_minor": 0,
              "model_id": "e3512128afd142eaaed033cb2323b5a0"
            }
          },
          "metadata": {}
        },
        {
          "output_type": "display_data",
          "data": {
            "text/plain": [
              "Generating splits...:   0%|          | 0/3 [00:00<?, ? splits/s]"
            ],
            "application/vnd.jupyter.widget-view+json": {
              "version_major": 2,
              "version_minor": 0,
              "model_id": "6d07086c1b5440889248c3024ee97222"
            }
          },
          "metadata": {}
        },
        {
          "output_type": "display_data",
          "data": {
            "text/plain": [
              "Generating train examples...: 0 examples [00:00, ? examples/s]"
            ],
            "application/vnd.jupyter.widget-view+json": {
              "version_major": 2,
              "version_minor": 0,
              "model_id": "03f7589c1e224085bc5262710efbc2dd"
            }
          },
          "metadata": {}
        },
        {
          "output_type": "display_data",
          "data": {
            "text/plain": [
              "Shuffling /root/tensorflow_datasets/imdb_reviews/plain_text/incomplete.WN3LQU_1.0.0/imdb_reviews-train.tfrecor…"
            ],
            "application/vnd.jupyter.widget-view+json": {
              "version_major": 2,
              "version_minor": 0,
              "model_id": "9aac63ddab224662bc06f2104176eeab"
            }
          },
          "metadata": {}
        },
        {
          "output_type": "display_data",
          "data": {
            "text/plain": [
              "Generating test examples...: 0 examples [00:00, ? examples/s]"
            ],
            "application/vnd.jupyter.widget-view+json": {
              "version_major": 2,
              "version_minor": 0,
              "model_id": "9bd15100641743dba9055624b10bc00b"
            }
          },
          "metadata": {}
        },
        {
          "output_type": "display_data",
          "data": {
            "text/plain": [
              "Shuffling /root/tensorflow_datasets/imdb_reviews/plain_text/incomplete.WN3LQU_1.0.0/imdb_reviews-test.tfrecord…"
            ],
            "application/vnd.jupyter.widget-view+json": {
              "version_major": 2,
              "version_minor": 0,
              "model_id": "e0026332f3f84032bbe2024c0ebbcc38"
            }
          },
          "metadata": {}
        },
        {
          "output_type": "display_data",
          "data": {
            "text/plain": [
              "Generating unsupervised examples...: 0 examples [00:00, ? examples/s]"
            ],
            "application/vnd.jupyter.widget-view+json": {
              "version_major": 2,
              "version_minor": 0,
              "model_id": "15f207ff8ec64aba8783d99201c6b76d"
            }
          },
          "metadata": {}
        },
        {
          "output_type": "display_data",
          "data": {
            "text/plain": [
              "Shuffling /root/tensorflow_datasets/imdb_reviews/plain_text/incomplete.WN3LQU_1.0.0/imdb_reviews-unsupervised.…"
            ],
            "application/vnd.jupyter.widget-view+json": {
              "version_major": 2,
              "version_minor": 0,
              "model_id": "4561a720f1ee465d8c708037a2a9c406"
            }
          },
          "metadata": {}
        },
        {
          "output_type": "stream",
          "name": "stdout",
          "text": [
            "Dataset imdb_reviews downloaded and prepared to /root/tensorflow_datasets/imdb_reviews/plain_text/1.0.0. Subsequent calls will reuse this data.\n"
          ]
        },
        {
          "output_type": "execute_result",
          "data": {
            "text/plain": [
              "(TensorSpec(shape=(), dtype=tf.string, name=None),\n",
              " TensorSpec(shape=(), dtype=tf.int64, name=None))"
            ]
          },
          "metadata": {},
          "execution_count": 4
        }
      ],
      "source": [
        "dataset, info = tfds.load('imdb_reviews', with_info=True,\n",
        "                          as_supervised=True)\n",
        "train_dataset, test_dataset = dataset['train'], dataset['test']\n",
        "\n",
        "train_dataset.element_spec"
      ]
    },
    {
      "cell_type": "markdown",
      "metadata": {
        "id": "nWA4c2ir7g6p"
      },
      "source": [
        "Los *datasets* de Tensorflow suelen ser más difíciles de manejar que los de Keras nativos. Por ejemplo, no podemos llamar a los datos simplemente haciendo\n",
        "\n",
        "```\n",
        "train_dataset[0]\n",
        "```\n",
        "\n",
        "Para acceder y ver un dato, tenemos que utilizar ```dataset.take(n)``` donde n es el número de datos que queremos ver. No podemos acceder al mismo directamente, sino que tenemos que convertirlo a una lista.\n"
      ]
    },
    {
      "cell_type": "code",
      "source": [
        "list(train_dataset.take(1))"
      ],
      "metadata": {
        "colab": {
          "base_uri": "https://localhost:8080/"
        },
        "id": "ilNbiVwNDrnf",
        "outputId": "a4248c26-5c24-4397-e9b4-ae72c0f1b44c"
      },
      "execution_count": null,
      "outputs": [
        {
          "output_type": "execute_result",
          "data": {
            "text/plain": [
              "[(<tf.Tensor: shape=(), dtype=string, numpy=b\"This was an absolutely terrible movie. Don't be lured in by Christopher Walken or Michael Ironside. Both are great actors, but this must simply be their worst role in history. Even their great acting could not redeem this movie's ridiculous storyline. This movie is an early nineties US propaganda piece. The most pathetic scenes were those when the Columbian rebels were making their cases for revolutions. Maria Conchita Alonso appeared phony, and her pseudo-love affair with Walken was nothing but a pathetic emotional plug in a movie that was devoid of any real meaning. I am disappointed that there are movies like this, ruining actor's like Christopher Walken's good name. I could barely sit through it.\">,\n",
              "  <tf.Tensor: shape=(), dtype=int64, numpy=0>)]"
            ]
          },
          "metadata": {},
          "execution_count": 5
        }
      ]
    },
    {
      "cell_type": "markdown",
      "source": [
        "En general también podemos convertir todo el *dataset* a una enorme lista."
      ],
      "metadata": {
        "id": "5M_CywX2FQN9"
      }
    },
    {
      "cell_type": "code",
      "source": [
        "list(train_dataset)[0][0].numpy()"
      ],
      "metadata": {
        "colab": {
          "base_uri": "https://localhost:8080/"
        },
        "id": "QMvq8X2rFVYl",
        "outputId": "66e8726c-d9fb-442f-f1b4-dfd84c1535a6"
      },
      "execution_count": null,
      "outputs": [
        {
          "output_type": "execute_result",
          "data": {
            "text/plain": [
              "b\"This was an absolutely terrible movie. Don't be lured in by Christopher Walken or Michael Ironside. Both are great actors, but this must simply be their worst role in history. Even their great acting could not redeem this movie's ridiculous storyline. This movie is an early nineties US propaganda piece. The most pathetic scenes were those when the Columbian rebels were making their cases for revolutions. Maria Conchita Alonso appeared phony, and her pseudo-love affair with Walken was nothing but a pathetic emotional plug in a movie that was devoid of any real meaning. I am disappointed that there are movies like this, ruining actor's like Christopher Walken's good name. I could barely sit through it.\""
            ]
          },
          "metadata": {},
          "execution_count": 6
        }
      ]
    },
    {
      "cell_type": "markdown",
      "source": [
        "Podemos ver varios ejemplos utilizando un bucle for."
      ],
      "metadata": {
        "id": "WyLEwq1vESgW"
      }
    },
    {
      "cell_type": "code",
      "execution_count": null,
      "metadata": {
        "id": "vd4_BGKyurao",
        "outputId": "b566efc7-8b8e-4cd5-f6ff-07fc01a60515",
        "colab": {
          "base_uri": "https://localhost:8080/"
        }
      },
      "outputs": [
        {
          "output_type": "stream",
          "name": "stdout",
          "text": [
            "text:  b\"This was an absolutely terrible movie. Don't be lured in by Christopher Walken or Michael Ironside. Both are great actors, but this must simply be their worst role in history. Even their great acting could not redeem this movie's ridiculous storyline. This movie is an early nineties US propaganda piece. The most pathetic scenes were those when the Columbian rebels were making their cases for revolutions. Maria Conchita Alonso appeared phony, and her pseudo-love affair with Walken was nothing but a pathetic emotional plug in a movie that was devoid of any real meaning. I am disappointed that there are movies like this, ruining actor's like Christopher Walken's good name. I could barely sit through it.\"\n",
            "label:  0\n",
            "text:  b'I have been known to fall asleep during films, but this is usually due to a combination of things including, really tired, being warm and comfortable on the sette and having just eaten a lot. However on this occasion I fell asleep because the film was rubbish. The plot development was constant. Constantly slow and boring. Things seemed to happen, but with no explanation of what was causing them or why. I admit, I may have missed part of the film, but i watched the majority of it and everything just seemed to happen of its own accord without any real concern for anything else. I cant recommend this film at all.'\n",
            "label:  0\n",
            "text:  b'Mann photographs the Alberta Rocky Mountains in a superb fashion, and Jimmy Stewart and Walter Brennan give enjoyable performances as they always seem to do. <br /><br />But come on Hollywood - a Mountie telling the people of Dawson City, Yukon to elect themselves a marshal (yes a marshal!) and to enforce the law themselves, then gunfighters battling it out on the streets for control of the town? <br /><br />Nothing even remotely resembling that happened on the Canadian side of the border during the Klondike gold rush. Mr. Mann and company appear to have mistaken Dawson City for Deadwood, the Canadian North for the American Wild West.<br /><br />Canadian viewers be prepared for a Reefer Madness type of enjoyable howl with this ludicrous plot, or, to shake your head in disgust.'\n",
            "label:  0\n",
            "text:  b'This is the kind of film for a snowy Sunday afternoon when the rest of the world can go ahead with its own business as you descend into a big arm-chair and mellow for a couple of hours. Wonderful performances from Cher and Nicolas Cage (as always) gently row the plot along. There are no rapids to cross, no dangerous waters, just a warm and witty paddle through New York life at its best. A family film in every sense and one that deserves the praise it received.'\n",
            "label:  1\n",
            "text:  b'As others have mentioned, all the women that go nude in this film are mostly absolutely gorgeous. The plot very ably shows the hypocrisy of the female libido. When men are around they want to be pursued, but when no \"men\" are around, they become the pursuers of a 14 year old boy. And the boy becomes a man really fast (we should all be so lucky at this age!). He then gets up the courage to pursue his true love.'\n",
            "label:  1\n"
          ]
        }
      ],
      "source": [
        "for example, label in train_dataset.take(5):\n",
        "  print('text: ', example.numpy())\n",
        "  print('label: ', label.numpy())"
      ]
    },
    {
      "cell_type": "markdown",
      "source": [
        "El *dataset* es muy grande, como podemos ver a continuación y está ordenado, lo cual no es necesariamente bueno en algunos casos. Este conjunto de datos es tan grande que incluso algunos transformadores como DistilBERT no pueden digerirlos si tenemos recursos limitados."
      ],
      "metadata": {
        "id": "33nXNfU4EgZO"
      }
    },
    {
      "cell_type": "code",
      "source": [
        "len(train_dataset)"
      ],
      "metadata": {
        "colab": {
          "base_uri": "https://localhost:8080/"
        },
        "id": "nCK79NKaE5lU",
        "outputId": "6fe50eff-c15b-4fb2-b70a-cae19a77f614"
      },
      "execution_count": null,
      "outputs": [
        {
          "output_type": "execute_result",
          "data": {
            "text/plain": [
              "25000"
            ]
          },
          "metadata": {},
          "execution_count": 8
        }
      ]
    },
    {
      "cell_type": "code",
      "source": [
        "len(test_dataset)"
      ],
      "metadata": {
        "colab": {
          "base_uri": "https://localhost:8080/"
        },
        "id": "V80YhxryFAKb",
        "outputId": "9ab5baa1-2811-487b-a26e-af41dbbbe8be"
      },
      "execution_count": null,
      "outputs": [
        {
          "output_type": "execute_result",
          "data": {
            "text/plain": [
              "25000"
            ]
          },
          "metadata": {},
          "execution_count": 9
        }
      ]
    },
    {
      "cell_type": "markdown",
      "source": [
        "Los datos están ordenados en el sentido que tenemos\n",
        "\n",
        "texto0 $→$ 0\n",
        "\n",
        "texto1 $→$ 0\n",
        "\n",
        "texto2 $→$ 0\n",
        "\n",
        "$\\vdots$\n",
        "\n",
        "texto12500 $→$ 1\n",
        "\n",
        "texto12501 $→$ 1\n",
        "\n",
        "Tenemos que desordenarlos si queremos tomar una muestra (¿por qué?). Ese proceso de desordenar se conoce como *shuffle* y en Tensorflow necesitamos especificar el tamaño del *buffer*, es decir, el espacio de la memoria que vamos a destinar para ese desordenamiento. Entre más grande el *buffer* es mejor la calidad de la aleatoriedad de los datos mezclados pero ocupamos más recursos. La regla básica es: si tu RAM explota porque es pequeña, utiliza un tamaño de *buffer* menor.\n",
        "\n"
      ],
      "metadata": {
        "id": "M66vziVIUi5y"
      }
    },
    {
      "cell_type": "code",
      "source": [
        "BUFFER_SIZE = 10000\n",
        "\n",
        "small_train_dataset = train_dataset.shuffle(BUFFER_SIZE).take(2000)\n",
        "small_test_dataset =  test_dataset.shuffle(BUFFER_SIZE).take(400)"
      ],
      "metadata": {
        "id": "4d8DGC7QUMEk"
      },
      "execution_count": null,
      "outputs": []
    },
    {
      "cell_type": "code",
      "source": [
        "for example, label in small_train_dataset.take(5):\n",
        "  print('texts: ', example.numpy())\n",
        "  print('labels: ', label.numpy())\n",
        "  print()"
      ],
      "metadata": {
        "colab": {
          "base_uri": "https://localhost:8080/"
        },
        "id": "iXNJTT3DWuzV",
        "outputId": "71204992-648a-4dd0-f59c-875ff0bc3e50"
      },
      "execution_count": null,
      "outputs": [
        {
          "output_type": "stream",
          "name": "stdout",
          "text": [
            "texts:  b\"This Showtime movie really deserves a far better viewer rating than a 4.5; I gave it a 10 based on the story and the acting of the two stars. After reading the viewer comments, I was surprised at how many folks expected this movie to be a comedy. Yeah, I see that IMDb lists it as Comedy/Drama under Genre. That sure is misleading, isn't it? Fortunately, I saw the movie before logging onto this website so I did not have that expectation. In fact, based on the synopsis of what I heard, I fully expected it to simply be a Drama. I'm wondering if disappoint at this not being a funny movie caused so many low votes.<br /><br />Another factor that might have caused low votes is that this movie is very much 'character-driven'. 'Driving Miss Daisy' is an example of another character-driven movie that comes to mind. Someone's previous comment complained about a boring trial. Tom's (Danny Glover) work scenes seemed to distract from the real plot of the movie. That is, how he was engineering the upward social climb of his family - or his personal troops, if you will. However, they served to establish credibility and justification as his right to move to Greenwich and move 'up' in the world.<br /><br />Tom's obsession became a compulsion. He proved that he would stop at nothing to blend into the white neighborhood. His chagrin when another black person moved next door was not due to skin color. It was because of everything the 'interloper' represented; everything that Tom had left behind. In essence, Tom had become an Oreo cookie: Black on the outside but White on the inside.<br /><br />The last 20 minutes of this movie are among the most powerfully written, directed and acted (by Whoopi Goldberg) I have ever had the pleasure to witness. I realized that the climax of the film was not the obvious event that happened next door (don't want to give it away). The climax is verbal and Whoopi delivers it. I am still not clear if it is the conversation when she informs Tom which college Tom -Two is going to or when she releases it, all in the middle of the night and Tom wakes up. Nevertheless, the denouement is great. You know that life on that street will never be the same.<br /><br />My favorite kind of character-driven flick: people go through problems, some pain, do their dance, they grow, they change, and life goes on. As an audience member, I may learn something or be inspired.\"\n",
            "labels:  1\n",
            "\n",
            "texts:  b\"Yes, this is one of the great musical movies I grew up with with such great entertainers as Frank Sinatra and Gene Kelly, not to mention the petite and glorious voice of Kathryn Grayson. The music and dancing is superb. I understand Frank took lessons from Kelly; and there is Kelly dancing with Jerry Mouse, which is quite unique for the time. Betty Garrett plays the waitress who falls in love with Sinatra. She is one of Hollywood's great underrated stars. I saw this again on A&E TV and as well have it in my old VCR tapes. Never get tired of these old musicals. Whatever happened to Hollywood??\"\n",
            "labels:  1\n",
            "\n",
            "texts:  b'Give this movie a break! Its worth at least a \"7\"! That little girl is a good actor and she\\'s cute, too. Jim Belushi is a comic genius. You can\\'t help but feel good at the end! I wish there were more wholesome shows like this, that you can enjoy with your kids!'\n",
            "labels:  1\n",
            "\n",
            "texts:  b'Myself and my groovadelic 20-something pals just can\\'t get enough of this awesome Parker Posey CLASSIC! I tried renting this on DVD, but can\\'t seem to find it - too bad, as I\\'m sure the features would be \"extra special\" !! :) We all highly recommend this uber-cool comedy flickerino for a date, or even just a cozy night home alone! This would also be the purr-fect type of movie to watch with your cat, or even throw a party based on, like a \"Party Girl\" party, just like the one in the movie that the lovable, huggable, squeezable Parker Posey goes to at the end. Oh, and be on the lookout for a gripping and HILARIOUS surprise ending... move aside, The Sixth Sense, you\\'ve just been outdone by a way radder movie! Sorry, no offense, just calling it like it is! Take it from an old flick lover, comedy just doesn\\'t get better than \"Party Girl\" with Parker P! Feel it! Yours, Ronald Marie MacDougall (aka DJ Cyber-Rap)'\n",
            "labels:  1\n",
            "\n",
            "texts:  b'\"I\\'ll Take You There\" tells of a woebegone man who loses his wife to another and finds an unlikely ally in a blind date. Unlike most romantic comedies, this little indie is mostly tongue-in-cheek situational comedy featuring Rogers and Sheedy with little emphasis on romance. A sort of road trip flick with many fun and some poignant moments keeps moving, stays fresh, and is a worthwhile watch for indie lovers.'\n",
            "labels:  1\n",
            "\n"
          ]
        }
      ]
    },
    {
      "cell_type": "markdown",
      "metadata": {
        "id": "z2qVJzcEluH_"
      },
      "source": [
        "El proceso de *shuffle* también se puede organizar directamente en *batches*, que es la forma que Tensorflow prefiere para organizar sus conjuntos de datos. Para ello definimos un tamaño de lote."
      ]
    },
    {
      "cell_type": "code",
      "execution_count": null,
      "metadata": {
        "id": "dDsCaZCDYZgm"
      },
      "outputs": [],
      "source": [
        "BATCH_SIZE = 64"
      ]
    },
    {
      "cell_type": "markdown",
      "source": [
        "``prefetch(tf.data.AUTOTUNE)`` permite que se preprocesen los datos en segundo plano mientras el modelo se entrena y ``tf.data.AUTOTUNE`` permite que se ajuste el número de elementos a preprocesar considerando los recursos, lo cual optimiza el rendimiento."
      ],
      "metadata": {
        "id": "DrcYr0oKYD3h"
      }
    },
    {
      "cell_type": "code",
      "execution_count": null,
      "metadata": {
        "id": "VznrltNOnUc5"
      },
      "outputs": [],
      "source": [
        "train_dataset = train_dataset.shuffle(BUFFER_SIZE).batch(BATCH_SIZE).prefetch(tf.data.AUTOTUNE)\n",
        "test_dataset = test_dataset.batch(BATCH_SIZE).prefetch(tf.data.AUTOTUNE)"
      ]
    },
    {
      "cell_type": "markdown",
      "source": [
        "Ahora ``train_dataset.take(1)`` tiene un lote, por lo que es normal esperar que tenga 64 elementos."
      ],
      "metadata": {
        "id": "2GPDJ1k9ZAY3"
      }
    },
    {
      "cell_type": "code",
      "source": [
        "list(train_dataset.take(1))[0][0].numpy()"
      ],
      "metadata": {
        "colab": {
          "base_uri": "https://localhost:8080/"
        },
        "id": "UGD3FHrmhcm4",
        "outputId": "91f33d17-e553-4634-b285-df2960824c82"
      },
      "execution_count": null,
      "outputs": [
        {
          "output_type": "execute_result",
          "data": {
            "text/plain": [
              "array([b'The extraordinary Rosemary Forsyth is the main reason to see this flick. Why she never became a bigger store may never be known. But she is exceptional and steals every scene she\\'s in. Garson Kanin directed this piece of fluff and the cast is first rate, with Robert Drivas and Brenda Vaccaro especially memorable. A \"9\" out of \"10.\"',\n",
              "       b'As a huge baseball fan, my scrutiny of this film is how realistic it appears. Dennis Quaid had all of the right moves and stances of a major league pitcher. It is a fantastic true story told with just a little too much \"Disney\" for my taste.',\n",
              "       b'I liked the movie a real lot. Wanted to see it just for Dara Tomanovich, but the plot and story were ok too. A very cool change in plot when you least expect it.',\n",
              "       b'My choice for greatest movie ever used to be Laughton\\'s \"Night of the Hunter\" which remains superb in my canon. But, it may have been supplanted by \"Shower\" which is the most artistically Daoist movie I have seen. The way that caring for others is represented by the flowing of water, and the way that water can be made inspiration, and comfort, and cleansing, and etc. is the essence of the Dao. It is possible to argue that the the NOFTH and Shower themes are similar, and that Lillian Gish in the former represents the purest form of Christianity as the operators of the bathhouse represent the purest form of Daoism. I would not in any way argue against such an interpretation. Both movies are visual joys in their integration of idea and image. Yet, Shower presents such an unstylized view of the sacredness of everyday life that I give it the nod. I revere both.',\n",
              "       b\"This could have been a very good film, if I had been able to watch it. The hand held camera was very bouncy. From the opening credits I was worried. Several of us watching it felt very nauseous by the end. But we did stay until the end because it was such a charming and interesting film, giving some insight to the young pop culture in South Africa. The black and white film did enhance the artful feeling of it. The acting seemed very authentic. Some of the dialog was a little hard to understand, but a theater full of non-South Africans seemed to find most of it funny. If you get motion sickness at all though, you may seriously consider skipping this film. It's quaint, but not worth the nausea.\",\n",
              "       b\"This is definitely one of the greatest Disney movies ever made. It's a real pleaser to anyone. It'll make you laugh, it'll make you cry, and it'll put you into suspense.<br /><br />Basically, what Homeward Bound is about is three household pets who are sent to live on a farm while their owners go on vacation. They don't know what is going on, and desperately wanting to go home, they escape from the farm and try to find their way home through the wilderness.<br /><br />This is one of the last movies that Don Ameche starred in. He provided the voice of Shadow, the old, wise and friendly golden retriever. Also starring in this movie was Sally Field providing the voice of Sassy, the Himalayan cat. But seriously, what this movie is all about is Chance! Voiced by Michael J. Fox (my all-time favorite actor), Chance is basically all you'd expect from a dog, lovable, playful, energetic and goofy, and every time I crack up when watching this movie, it's because of Chance; it's like the comedy never ends! <br /><br />This movie is also very sad at times. It sometimes reminds people of the times they've been alone or when they lose their pets.<br /><br />One scene that always puts me in suspense is the scene where the trio is trying to escape from the pound; I especially feel shocked at the part where Chance gets his collar caught in the fence and almost doesn't make it. The movie had other suspenseful moments, but none to me seem more suspenseful than that one.<br /><br />Overall, it's a wonderful family movie. If you enjoyed this movie, you'll probably enjoy the sequel too. I give this movie a solid 9 out of 10!\",\n",
              "       b\"The original Lensman series of novels is a classic of the genre. It's pure adventure SF with some substance (here and there) and I've always wondered why Hollywood hasn't filmed it verbatim because it's just the kind of thing they love: massive explosions, super-weapons, uber-heroics, hero gets the girl, aliens (great CGI potential), good versus evil in the purest form, etc etc. Instead (and bear in mind I'm a Japan-o-phile and anime lover) we get this horrendous kiddies movie that rips the guts out of the story, mixes in Star-Wars (ironic as the latter ripped off the books occasionally) pastiches and dumbs the whole thing down to 'Thundercats' level. To see Kimball Kinnison, the epitome of the Galactic Patrol officer and second stage Lensman portrayed as a small boy is pitiful (etc). I just can't understand why the makers did this because they obviously had the rights to the story and could have made far more money (FAR!) by telling straight. It makes no sense.\",\n",
              "       b'There\\'s nothing new for me to say: 4 hours of people dying over and over in the same hill. The cast was stellar, but unfortunately the producer/director/editor/God goofed. He should have eaten humble pie (if not for his own sake then for the men who died in Kargil), hired one of these brilliant Bollywood directors, hired a real scriptwriter, hired a real editor, hired a musician that wasn\\'t related to him in some way (and who seemed to have listened to some bad version of \"Apocalypse Now\" on some cheap Indian drug), hired a real professional crew, thrown away all the fireworks and told a real story. Unfortunately he, like the bigwigs of the Indian Army, made decisions that were terrible for his actors, and terrible for his audience. We all died over and over. <br /><br />Please don\\'t do that again, Sir! Sushma Kathmandu, Nepal<br /><br />ps: Next time an Indian director decides to glorify the Gurkha regiment, I suggest he hire more than one Nepali to represent the team. Surely there are plenty of Nepali men working in Bombay--last count was 40,000 to half a million.',\n",
              "       b'The plot of Corpse Grinders 2 is very much similar to the original Corpse Grinders, what is left that is different from the other film consists of weird aliens.<br /><br />It is my belief that this film would be the #1 worst film on IMDb - if anyone had actually watched it. The plot is disconnected and, in several (way too many) instances, makes absolutely no sense whatsoever. The real wonder here is why in the world was this sequel created to such an unsuccessful and horrendous (but still somewhat better) film.<br /><br />I would highly recommend this film if you enjoy watching terrible movies for a good laugh.',\n",
              "       b\"This movie was a fairly entertaining comedy about Murphy's Law being applied to home ownership and construction. If a film like this was being made today no doubt the family would be dysfunctional. Since it was set in the 'simpler' forties, we get what is supposed to be a typical family of the era. Grant of course perfectly blends the comedic and dramatic elements and he works with a more than competent supporting cast highlighted by Loy and Douglas. Their shenanigans make for a solid ninety minutes of entertainment, 7/10.\",\n",
              "       b\"Esther Williams gets her first post MGM starring role and gets off<br /><br />to a good start. This film is a well acted entertaining suspense<br /><br />with a mature theme that would be repeated a million times more<br /><br />in the future - innocent girl stalked creepy woman hater. Esther<br /><br />looks great and if she wanted to, probably could have gone on to<br /><br />do more and better films but according to her autobiography, <br /><br />pretty much gave up working for marriage. Either way she is so<br /><br />likable and engaging that its fun to see her in a totally different role<br /><br />outside of the 'swimming musical'. Universal was fabulous for<br /><br />making films with former MGM stars after that studio began<br /><br />dropping its biggest names as it began to slide down hill. Stars<br /><br />like Lana Turner, June Allyson and others got to make quality first<br /><br />rate films at Universal as they obviously still had drawing power at<br /><br />the box office. I wish Esther had made more but since she didnt, it<br /><br />makes this one all the more special.\",\n",
              "       b\"The Priyadarshan/Paresh Rawal combo has been golden before with the likes of HERA PHERI and HUNGAMA so I went into the movie (at an Indian multiplex) with high hopes, especially after the slick promos. Unfortunately, like HULCHUL before it, this movie was a huge disappointment.<br /><br />Like others have commented, the premise of the movie, which was already stale to begin with, just gets stretched on and on without any development or additional layering. After a while, you just want the movie to end so you can go home (if I had been watching this at home, it would have been much easier to cut my losses). Akshay Kumar's performance is average at best and John Abraham should not try doing comedy again. The comedy aspects of the movie overall were pretty week. I only remember giggling like twice the entire movie. Definitely no sidesplitting belly laughs that consumed me in HERA PHERI or even to a lesser extent in AWARA PAAGAL DEEWANA. Paresh Rawal had a few of his expected classic moments, but overall, because his role and character wasn't given much room to grow, he didn't make much of an impact in this film.<br /><br />Neha Dhupia, who makes only an appearance in the movie, was fun to look at while she was on screen. And some of the songs are fun. Especially the opening and closing songs of ADA and KISS ME BABY, respectively. Otherwise, you're better off just passing on this movie.\",\n",
              "       b\"This is the movie I've seen more times than any other (I believe I saw it on average once every year since it was released). And every time I see it, it is equally fantastic and always reveals something new to me. The cast was most probably a combination of the very best there ever was in ex Yu cinematography. This movie is an absolute must for any self respecting movie lover. In the same league: Maratonci trce pocasni krug, Balkanski spijun and Otac na sluzbenom putu. This is a poker of movies everyone should have in his private video collection.\",\n",
              "       b\"On a distant planet a psychopath is saved from execution by a space monk. He releases a few fellow inmates and breaks out of the prison in a spaceship. They dock onto a ludicrously enormous spacecraft that is orbiting a supernova star. This massive craft is populated by only three people, presumably because the budget of the film did not extend to hiring many actors. Anyway, to cut a long story short, the three goodies end up in a game of cat and mouse with the baddies.<br /><br />The psychopath in this movie is curious in that he is annoying. 'Annoying' is generally not a term one would use to describe a lunatic - unhinged, frightening, dangerous maybe but not 'annoying' but he is. The three people manning the giant ship are seriously unconvincing as warranting such important roles - this ship is practically the size of a city! Considering that the film is set approximately 50 years in the future, it is somewhat optimistic that such a huge man-made craft could exist, never mind the fact that it is used for such a relatively mundane task. Despite the vast size of the spaceship, the crew all have appallingly kitted out, tiny rooms and the dining room consists of what appears to be a plastic table and chairs. But there are a lot of corridors.<br /><br />The film is fairly well acted and it works as an averagey sci-fi thriller. But nothing great.\",\n",
              "       b'This movie is a classic in every sense of the word. It is very entertaining and also very disturbing. The acting in this movie is well done. The story itself is believable, suspenseful, and well thought out. Character development is also done well, the audience can clearly see how each of the characters is emotionally tested through this film. The villains in this movie are very threatening, from the first moment the audience sees them they can tell that they are up to something. This movie shows how a human being, when taken from civilization and put in the middle of the woods, facing a life or death situation can slowly become almost as wild and feral as the animals that inhabit it. Not everyone is going to like this film, there is a lot of disturbing content that may make some viewers uncomfortable. It is definitely worth watching. This movie is a masterpiece.',\n",
              "       b\"In Arlington Heights, IL we never had a cafeteria in any of the elementary schools (1961) so I rode my bike home from school for lunch and always watched this game. True, I was 11, but I thought it was the greatest thing on! I'd draw hidden pictures on my blackboard and see if my family or friends could find it. I also remember winning wonderful cars (Pontiac or Oldsmobile) if the contestant got the final hidden picture game. I even had the home version!<br /><br />I wonder why this game lasted so briefly. I enjoyed the music and the hidden pictures - the only one I could ever get was the lemon hidden as part of a bridge over a garden stream.<br /><br />Really good memories are connected with Camouflage.\",\n",
              "       b'No doubt intended as a totally campy joke, \"Full Moon High\" portrays 1950s teenager Tony Walker (Adam Arkin) accompanying his father (Ed McMahon) on a trip to Romania. Sure enough, Tony gets bitten, and grows fur and fangs whenever there\\'s a full moon. A particularly interesting aspect in this movie is that he can\\'t age as long as he has the werewolf curse, and that he has to fulfill a destiny - even if it takes twenty years.<br /><br />But otherwise, the movie\\'s just plain funny once it gets going. Ed McMahon\\'s character is an over-patriotic right-wing yahoo (he thinks that everyone should have listened to Joe McCarthy), Kenneth Mars\\'s coach/principal is a tense dweeb, and then there\\'s more. One of the most eye-opening cast members is Demond Wilson - best remembered as Lamont on \"Sanford and Son\" - as a bus driver who gets a big surprise. But probably the funniest scene is the changing of the presidents; then gag with Gerald Ford really summed him up! Anyway, it\\'s a real treat. Considering that Alan Arkin - who plays a zany psychiatrist - just won an Oscar on Sunday night and thanked his sons, I wonder whether or not he remembers co-starring with two of them in this movie (aside from Adam, his son Anthony also has a small role). Quite funny. Also starring Elizabeth Hartman.<br /><br />PS: director Larry Cohen is probably best known for the killer baby flick \"It\\'s Alive\".',\n",
              "       b\"Now let me tell you about this movie, this movie is MY FAVORITE MOVIE!!! This movie has excellent combat fighting. This movie does sound like a silly story line about how Jet Li plays a super hero, like Spider-Man, or etc. But once you've seen this movie, you would probably want to see it again and again. I rate this movie 10/10.\",\n",
              "       b'Here\\'s a rare gem for those of you that haven\\'t seen or most likely not even heard of this. During the 80s, Dennis Quaid was a hot commodity, but in the early 90s, Dennis Quaid disappeared from the scene. In 1993, he burst back onto the big screen with three movies, all of which unfortunately bombed. Two of those films I liked very much, and let me elaborate on one of them.<br /><br />\"Wilder Napalm\" is a crazy flick about two brothers, Wallace (Quaid) and Wilder (Arliss Howard), whom are...fire starters: yes they have the power of pyrokinetics. <br /><br />Wilder has decided not to use his power anymore (for anything not useful anyway) after a fatal incident during his youth, where he and his brother blew up an abandoned house which killed a man who was inside unbeknownest to them. Nowadays, Wilder is a firefighter and is married to the wacky Vida (Debra Winger), who is under house arrest for, guess what, arson (see the movie to understand this better). Wilder also hasn\\'t spoken to Wallace in 5 years, because Wallace set his hair on fire during his bachelor party.<br /><br />Wallace loves his pyro power and uses it for amusement. He also runs a Carnival and is the head clown. When the Carnival comes to Wilder\\'s town, Wallace decides to reunite with his brother and also to see Vida, whom which Wallace has been in love with! Vida\\'s house arrest sees its end, but Wilder is preoccupied. So, Wallace steps in and the fun begins. Brother vs. brother...fighting fire with fire! <br /><br />Some great fireball throwing in this flick...eat your heart out, Drew Barrymore!<br /><br />The film also has some really weird, yet funny elements, like Wilder\\'s fire unit sings songs acapella during firefights and after wards. Jim Varney (globally known as \\'Ernest\\') pops in as Wallace\\'s redneck carnival buddy. \"Wilder Napalm\" is brilliantly shot...and cleverly put together...very off the wall and avant-guard.<br /><br />Give this one a look...',\n",
              "       b\"Its spelled S-L-A-S-H-E-R-S. I was happy when the main character flashed her boobs. That was pretty tight. Before and after that the movie pretty much blows. The acting is like E-list and it's shown well in the movie. Not to mention it is so low budget that Preacherman and Chainsaw Charlie are played by the same person. The whole movie looks like it was shot with a camcorder instead of half way decent film. The only other reason I liked the movie was because Chainsaw Charlie and Doctor Ripper were funny. They said many stupid things that made me laugh. Other than that if you see this movie at Blockbuster do everyone a favor hide it behind Lawnmowerman 2. Anybody that thinks this movie is good should be mentally evaluated.\",\n",
              "       b\"This movie gets both a 6/10 rating from me, as well as a 9/10. Here is why: As a standard horror movie for the standard horror crowd, where action and gore and scares are taken into consideration, this movie WILL bore you. It's basically a family drama similar to what you'd see on the Lifetime channel, but put in a horror universe. The story and formula are age-old, retreaded hundreds of times. If you're looking for any originality in the plot structure or the minimal conflicts, you'll be disappointed. Take away the zombies and you'll have something just as melodramatic as A Beautiful Mind, tripping on cheese. This is the 6/10.<br /><br />However, the basic synopsis and idea is pretty original and over-the-top. It's literally something you and your friends would joke about when you're half-drunk . . . but that joke actually got a theatrical release. The idea gets a 9/10 from me. The only reason it isn't perfect is because they could have taken it even further, but they didn't.<br /><br />The mix of both is mixed. I thought it was funny, but as with most all comedies, it wasn't THAT funny. I had my mom and little sister watch it with me and the jokes we made about it were funnier than the jokes scripted. There were moments of utter genius, but there were also moments of pure boredom.<br /><br />I sincerely hope that other movies take this kind of over-the-top risk and original ideas. I just can't say it was perfect, or even near it, because of the lack of originality to the plot.<br /><br />A GREAT family movie. A great movie to watch with a bunch of guys (or girls). A great movie to watch with anyone . . . but if you watch it alone, it will be a bit boring. Other people always make this kind of movie funnier and richer.<br /><br />4/10\",\n",
              "       b'Metro-Goldwyn-Mayer is a very lost player in the short cartoon market. This market is essentially dominated by the Looney Tunes and the Merry Melodies shorts, coming from Warner Bros. But MGM is also able of releasing hidden gems, like \"To Spring\", an astonishing story about the most beautiful season of the year.<br /><br />In the environment depicted here, spring isn\\'t caused by natural cycles, but is fabricated. And by who? By little male elves who live below ground. Each spring, when the snow begins to melt, they start working. They begin by felling rainbow rock columns, then reducing them to rubble and using this rubble to turn it into color fluids, which will be moved up to the ground and bearing grass, flowers... In other words, spring! The first half of the cartoon depicts spring\\'s fabrication, but the second part is a little bit different. Old Man Winter comes back and he tries to extend winter by destroying the elves\\' work. So from this point, we assist to a battle between the elves and Old Man Winter.<br /><br />The music heard here is deliciously wonderful. The melodic parts stick in the head like an ink spot on a paper sheet. The second part melodies are thrilling and they perfectly fit with the action. This is just fantastico, Giorgio! The animation sequences are also a delight. The colors are well mixed and every little detail is shown into a massive, epic environment. The concept itself is brilliant. The elves are attracting characters, so is Old Man Winter, who effectively portrays the cold and ruthless feelings of the white season.<br /><br />There\\'s also a strong message included here. The battle seems lost for the elves at the end, until a single late arriving elf jump into the action and it leads to the elves\\' victory over winter. So the point is: only one single person can make the difference.<br /><br />In conclusion, \"To Spring\" is a remarkable lost classic from short cartoon era. What is even more remarkable is that this cartoon\\'s director made his debut here. And who is \"To Spring\"\\'s director? It\\'s a certain William Hanna...',\n",
              "       b'If you want to see a movie that terribly mixes up one Latin country with any other Latin country, \"The Celestine Prophecy\" is a good example: 1. Per\\xc3\\xba, not even in its most violent times, has not shown polices or soldiers as much as in this film. This showed a country like El Salvador when Civil War. Since I\\'m a Peruvian who lives in Lima (the capital of Per\\xc3\\xba), it was too funny to me seeing the police guards here, there and everywhere. 2. If you have a car in Per\\xc3\\xba, and you want (or need) to be a taxi driver, just post a sticker with the word \"Taxi\" on the front glass of your car and you can drive freely in Peruvian streets (there are taxi companies, but their rates are quite expensive). No need of yellow or a black/white squared band on the doors of your car. Well, taxis in this film have that band, somethin that you will never see in Per\\xc3\\xba. 3. Peruvian people are not Caribbean styled clothing. For example, when a taxi driver comes out, he was wearing a \"Guayabera\" (Cuban shirt), a white hat, and 40\\'s mustaches, like Clark Gable. Not one Peruvian man looks like that, please! Per\\xc3\\xba is not the Caribbeans! 4. A scene shows a woman on a street with a quite long skirt, like the typical folklore dresses in Latin America. Take a walk anywhere in Per\\xc3\\xba, and you\\'ll never find a woman wearing like that, unless you are watching a typical dance. 5. Cast could\\'ve been better: I can not deny H\\xc3\\xa9ctor Elizondo is a great actor, but he\\'s not a Latin actor (his father was Basque and his mother from Puerto Rico, but he was born in New York) and his Spanish is not fluent. It\\'s notorious Spanish is not his first language. There are dozens of very good Latin actors who could\\'ve performed as Cardinal Sebasti\\xc3\\xa1n. Petrus Antonius (General Rodr\\xc3\\xadguez) was also a bad choice for a \"Latin Police officer\". It was so funny seeing Elizondo and Petronius in General Rodr\\xc3\\xadguez\\'s office. They looked like two English or American students in a Spanish class, making their best effort in order to pronounce Spanish. Unsuccessfully, of course. Castulo Guerra was better in his Spanish. A \"Peruvian\" officer, who announced Cardinal Sebasti\\xc3\\xa1n, spoke a quite funny Spanish too. There are very good Peruvian actors, like Augusto Alvarez-Calder\\xc3\\xb3n and Christian Meier (just to mention two out of many Peruvian actors), who could\\'ve performed with excellence. 6. I admit that a fictional movie can let itself a license inventing cities or, even, countries. But, please, when creating a name, be careful when using a foreign language: The town portrayed in this movie should\\'ve been called \"Vicente\" and not \"Viciente\". Vicente is a male name, and Viciente has never been used. 7. I disagree one user, who says that this movie was filmed on locations in Per\\xc3\\xba. Not one location is Peruvian, although the production has used in excess posters showing \"Inca Kola\", the Peruvian soda. As not few American films, this one must have used any Latin country. After all, for American producers or directors, a Latin place is identical to any other Latin place. 8. In the first scenes, when John (Matthew Settle) flies to Per\\xc3\\xba, he\\'s supposed to arrive to the only one international airport in Per\\xc3\\xba: Jorge Ch\\xc3\\xa1vez Airport (in Lima, the capital). Actually, believe me, it must be any airport in the world, but Peruvian airport. And, of course, in Peruvian airports there are no military or police guards. 9. When this John takes a room in a Peruvian hotel, this one has a fan and, obviously has no air conditioner. Please, this doesn\\'t happen in no hotel in Per\\xc3\\xba(and other Latin countries), unless you get a 1 star hotel! 10. The rebels who fight against the government are... \\xc2\\xa1Colombians! Their accent was, with no doubt, from Colombia. For casting them, the producers should\\'ve hired Peruvian actors. In few words, it would\\'ve been cheaper filming in Per\\xc3\\xba.<br /><br />I could go on with more examples out of this film, that led me to give it a \"1\" (awful) vote, but I fell asleep after about 20 minutes from its beginning. But dear producers: It\\'s not a tragedy: There are many worse movies with not few mistakes. Just let\\'s remember \"Indiana Jones and the kingdom of the Crystal skull\" and indescribable Disney\\'s \"The Emperor\\'s new groove\". The list of bad films could be endless...',\n",
              "       b'This is one of the best animated family films of all time. Moreover, virtually all of the serious rivals for this title came from the same creative mind of Hiyao Miyazaki and his Studio Ghibli. Specifically, other great films include \"My Neighbor Totoro\" and \"Kikki\\'s Delivery Service.\" Spirited Away is quite good, but a bit too creepy for typical family fare - better for teenagers and adult. The one thing that sets \"Laputa: Castle in the Sky\" apart from other films by Miyazaki is that it is far more of a tension-filled adventure ride.<br /><br />Why is this film so good? Because it\\'s a complete package: the animation is very well done, and the story is truly engaging and compelling.<br /><br />Most Japanese anime is imaginative, but decidedly dark or cynical or violent; and the animation itself is often jerky, stylized, and juvenile. None of these problems plague Castle in the Sky. It has imagination to burn, and the characters are well drawn, if slightly exaggerated versions of realistic people. (None of those trench-coat wearing posers) There is plenty of adventure, but not blood and gore. The animation is smooth, detailed, and cinematic ally composed - not a lot of flat shots. The backgrounds are wonderful.<br /><br />The voice acting in the dubbed English version is first rate, particularly the two leads, Pazo (James Van der Beek) and Sheeta (Anna Paquin). The sound engineering is great, too. Use your studio sound, if you\\'ve got it.<br /><br />One aspect that I particularly enjoyed is that much of the back story is left unexplained. Laputa was once inhabited, and is now abandoned. Why? We never know. We know as much as we need to know, and then we just have to accept the rest, which is easy to do because the invented world is so fully realized. Indeed, it is fair to say that the world is more fully realized than most of the minor characters, who are for the most part one-dimensional stock characters (e.g., gruff general, silly sidekick, kooky old miner, etc.) Highly recommended for people aged 6 to 60!',\n",
              "       b'Slaughter High is intrinsically your emblematic 80s slasher flick. A prank goes out of hand leaving a geeky guy horribly burnt. A few years later the geeky guy returns and starts killing the people who hurt him. Now the story might sound intriguing and very entertaining, but what makes this horrible film so different from the rest of the 80s slasher flicks is that it has some humorless flaws and continuation errors.<br /><br />The acting is horrendous, however, actually not as bad as one would suspect. Though it doesn\\'t help that every character in the film are so grody and unlikable. The lead, Carol Manning (Caroline Munro) is the easily the biggest tormentor of them all and she\\'s the one that we are ostensibly supposed to share compassion and root for. Not to mention, the geeky guy is almost too geeky and I think that even stereotypical geeks themselves would be rudely maddened and just downright antagonized by how geeky he his, so when he gets mauled, does anyone really care? <br /><br />There is much unintentional laughter potential. Munro\\'s lack of acting talent is quite apparent, which puts her down at the same level as the rest of the awful cast. However, the most amusement is easily when the film poorly attempts to pose Munro, who is in her mid 30s at the time, as a teenager amongst a cast of teenagers. And then when it comes to later life and Munro is playing around her real age, the rest of the cast do not pass as adults. This all goes well with a theme song that is a hilariously pose of heavy metal thrash accompanied by maniacal laughter and a voice shrieking \"I\\'ll get you.\" With that being said, Slaughter High really isn\\'t a very good slasher flick, but it does have a bad cheesy entertainment value to it. Perhaps an essential for hardcore slasher fans, but don\\'t expect dilemma, suspense, or any credibility from it. Horrible!!!',\n",
              "       b\"S.I.C.K. really stands for So Incredibly Crappy i Killed myself. There was absolutely no acting to speak of. The best part of the whole production was the art work on the cover of the box.The budgeting of this movie was sufficient. The filming was sub sesame street. The production looks like that of the underground filming for mob hits. The props used in this movie were stolen from a clothing store. The ending was so predictable you should fast forward to the last 5 minutes and laugh. If there is a book out there for this movie I'm sure it's better. I would avoid this at all costs. I did enjoy the intimate scenes they made the whole movie worth it. just kidding.\",\n",
              "       b'An excellent example of \"cowboy noir\", as it\\'s been called, in which unemployed Michael (Nicolas Cage) loses out on a job because he insists on being honest (he\\'s got a bum leg). With really nothing else he can do, he decides that for once he\\'s going to lie. When he walks into a bar, and the owner Wayne (the late, great J.T. Walsh) mistakes him for a hit-man whom Wayne has hired to do in his sexy young wife Suzanne (Lara Flynn Boyle in fine form), Michael plays along and accepts Waynes\\' money. *Then* he goes to Suzanne and informs her of her husbands\\' intentions, and accepts *her* money to get rid of Wayne! If that didn\\'t complicate things enough, the real hit-man, \"Lyle from Dallas\" (Dennis Hopper, in a perfect role for him) shows up and Michael is in even more trouble than before.<br /><br />\"Red Rock West\" gets a lot out of the locations. Director John Dahl, who co-wrote the script with his brother Rick, was smart in realizing the potential of a story set in a truly isolated small town that may have seen better days and in which the residents could be involved in any manner of schemes. It\\'s also an amusing idea of the kind of trouble an honest person could get into if they decided to abandon their principles and give in to any level of temptation. It\\'s an appreciably dark and twist-laden story with an assortment of main characters that are if not corrupt, have at least been morally compromised like Michael. The lighting by cinematographer Marc Reshovsky is superb in its moodiness; even the climax set in a graveyard lends a nice morbid quality to the whole thing. Even if the writing isn\\'t particularly \"logical or credible\", the film has a nice way of intriguing the viewer and just drawing them right in.<br /><br />Cage does a good job in the lead, but his co-stars have a grand old time sinking their teeth into their meaty and greed-motivated characters. Hopper, Boyle, and Walsh are all fun to watch in these parts. Timothy Carhart and Dan Shor are fine as Walshs\\' deputies (in one especially good twist, Walsh is also the local sheriff), and there\\'s an entertaining cameo role for country & western star Dwight Yoakam, who also graces the film with an enjoyable end credits tune.<br /><br />It\\'s quite a good little film worth checking out. It moves forward at an impressive pace, and if nothing else is certainly never boring.<br /><br />8/10',\n",
              "       b'The first \"side-story\" in the universal century Gundam universe presents a refreshing new look at the war between earth and the space colonies. The focus is no longer on a small group of individuals who would go on to play pivotal roles in the conflict, but on the everyday civilian population and how the war is seen through their eyes.<br /><br />The story does contain some Gundam staples, its premise being the attempts by a ZEON squad to capture an experimental Gundam, but it the execution of the plot that made this show so interesting to watch. This series focuses on the experiences of a young boy named Alfred and the relationship between his neighbor, Christina Mckenzie who is secretly a Federation pilot and a newbie Zeon pilot named Bernie Wiseman. Alfred develops a sort of \"brotherly love\" for Bernie while our young Zeon pilot also falls for Christina.<br /><br />\"War in the Pocket\" proves that you do not need a sweeping epic tale about special individuals to make for a good war story. There are no uber ace pilots or large scale fleet battles to be seen here. This short 6 episode OVA focuses a lot more on character emotional drama over other themes like politics or philosophy and i love how realistically portrayed the characters are. Alfred is your typical everyday kid who plays violent computer games and thinks the armed forces is cool. He is then given a crash course in the horrible realities of war. The unlikely friendship and bonding between Bernie and Christina, each not knowing the fact that they are soldiers on different sides of the war, is played very real without going overboard with the romance drama stuff. Same goes for the endearing relationship between Alfred and Bernie. That being said, i would not want to spoil much of the story here, but it makes it a whole lot more heart wrenching to watch the tragedies that unfold as the show moves along all the way to its emotionally devastating twist ending. <br /><br />Despite its lack of action, this show never falls into the category of \"boring\". The characters are just that engaging enough to carry the whole show. Not to worry as there are a number of mobile suit action scenes scattered here and there. Each are beautifully animated on a level that surpasses that of an OVA and are sure to satisfy the craving for some \"mandatory\" mobile suit battles in a Gundam series.<br /><br />Normally watching anime in Japanese or English, i would leave up to personal preference. But in this case, i strongly recommend the English voice track over the Japanese one. Not only do the characters, whom all except Alfred are caucasian, sound more believable in English but the performances of the English voice cast are on par and even surpass the Japanese one, instilling each character with such realistic emotions and intonations that they sound just the acting in some live action TV dramas.<br /><br />In short, this show does not try to impress the audience. What it does is conveys numerous heartwarming themes that hit closest to home especially the death of innocence on the battlefield and the horrors of war through the eyes of a child. A truly moving little story that deserves more credit than it is being given.',\n",
              "       b'If you want to know the real story of the Wendigo, I suggest you pick up a copy of Algernon Blackwell\\'s original story. This movie was not only bad but had nothing to do with the book.<br /><br />I loved the book when I read it as a kid (In \"Campfire Chillers\" by E.M. Freeman)and was so excited to see a movie based on it come out. I was so disappointed when I finally saw it. Another thing is that there were too many PC (Politically Correct) undertones throughout the movie that had no place in the film. When the book was written PC didn\\'t even exist.<br /><br />My suggestion is don\\'t waste your time or money!! If you see it on the video store shelf LEAVE IT THERE.',\n",
              "       b\"I just thought it was excellent and I still do. I'm grateful we're still able to see different stuff from what Hollywood almost floods us with. Saving Grace is smart and enjoyable - those who feel offended by the marijuana thing better go see the America's bride sort of movie.<br /><br />Saving Grace also shows that a funny movie doesn't have to be stupid. I was laughing my ass off during most of it but also pondering questions about what was the female lead character supposed to do to pay her deceased husband's debts.<br /><br />In a nutshell - a witty storyline with typical English humour and good acting and directing. You couldn't ask for more.<br /><br />7/10.\",\n",
              "       b'Justifications for what happened to his movie in terms of distributors and secondary directors, drunks and receptionists doing script rewrites aside, let\\'s just take this movie as it\\'s offered, without extraneous explanations.<br /><br />This movie is God awful. Straight up craptastic. Rather than rehash what may serve as a plot, I\\'ll run a highlight reel of some curious points that made me scratch my head.<br /><br />A class (of 5) take a field trip for a history class to the middle of friggin\\' nowhere Ireland. These students may be Canadian or American, it\\'s difficult to tell. That it was filmed in a Canadian forest rather than Ireland is rather obvious as well. One student seems to know nothing about history and is basically the \"dumb jock\" character from a number of kick ass 80\\'s movie, except when he channels Randy from Scream. One character may be Chris Klein\\'s stunt double. He has a girlfriend who probably gets killed, but it\\'s never really established if that is true. One character is sullen and removed from her peers...just...cuz... and then there\\'s a blonde girl. Yay blonde girl.<br /><br />Ireland has a population of 2. They\\'re cousins. Gary, who is clearly the same age or younger than the rest of the cast, is called \"sir\" more than once. He\\'s very ominous and wears a knit cap. His cousin is a roughed up porn star with the worst Irish accent to befoul film in my lifetime and most likely beyond.<br /><br />Picturesque Ireland features many Canadian forests and swampy areas and 2 ducks which appear more than once in cut scenes.<br /><br />The producers got a discount on volume fake entrails. Good for them.<br /><br />Unbeknownst to me, horribly inbred freaks have access to brand spanking new hunting knives. Perhaps there\\'s some kind of outdoorsman outlet nearby with a blind and deaf clerk working the register.<br /><br />Also unbeknownst to me, if you inbreed for roughly 600 years, as the story leads us to believe happened, you end up being somewhat lumpy, yet amazingly spry and fairly strong. Genetics are a wonderful game of craps.<br /><br />There may or may not be more than one freak in this film. Reference is made to \"them\" and we see shadows, yet only one odd looking dude is seen ever. And when one odd looking dude is finally killed, apparently all danger is passed. I\\'m running with my initial assumption that no one thought to outfit a second man in full make up, thus they just used the one. That\\'s what it looks like on screen, anyway.<br /><br />Richard Grieco should be ashamed.<br /><br />Also of note, aside from those shiny new knives, the inbred freaks have access to some posh leather gear, as once Richard Grieco cuts his bonds, there are fresh ones ready for the next sucker who gets tied up...who also then escapes, because the chains give you enough slack to just undo them, making one wonder why they even bother tying anyone up.<br /><br />A dead body in a shack will be maggot-ridden after what I would guess is about 2 hours has passed. Said dead body will also have glasses on, when no characters wore them. Curious.<br /><br />Jenna Jameson appears for no reason from stage left, chats for 2 minutes, vanishes stage left. In the middle of a giant forest. That\\'s not unusual, as Gary can also pop out of nowhere, which is also known as whatever exists in TV land off the screen.<br /><br />Ms. Jameson dies sadly and somehow her clothes vanish like my hopes that this movie wouldn\\'t suck wind.<br /><br />I offer a special nod to the \"Breeder\" character, the poor girl who has been used by the freaks for months (or maybe years) for breeding purposes. The poor girl who still has eye shadow on and emotes on camera with all the passion and conviction of a stuffed chihuahua.<br /><br />The ending of this movie was clearly tacked on by a drunk or someone with a fierce mental disability that has been cultivated and encouraged with excessive gasoline drinking over the years.<br /><br />Apparently this wasn\\'t just random crap I found on the movie network late at night, apparently people have heard of and even followed this movie through it\\'s production. How sad for you all. I have nothing more to say. May God have mercy on us all.',\n",
              "       b'This movie really rocks! Jeff Wincott is terrific in the film! His fighting incredible! He is such a fast martial artist! Brigitte Nielsen & Matthias Hues was very good! Mission of Justice is an action packed movie that is never boring! If you like fighting movies with incredible non stop action then check out Mission of Justice today!',\n",
              "       b\"It was a good story, but not very well told. I liked the themes and the main story line, which wasn't as clear as it could have been. Maybe there was too much going on and a lack of ability to reign it all in. The acting was okay to cheesy, some were stronger than others and even the stronger actors had their moments of lesser quality acting. It took me a couple of months to get through the entire movie because it didn't keep my attention and the flow was just bad. I only just finished watching it and I'm glad I did as the movie finally gets moving and has some continuity toward the end. Again, a good story, but the delivery was sub par. Would recommend it for the story line and maybe a little eye candy, and I do mean, a little.\",\n",
              "       b'Back in 2004 I saw \"True\", Tom Tykwer\\'s contribution to Paris Je T\\'aime. When I saw it I loved it and became thrilled. It became my favorite short film and made me appreciate the format so much. Of course I wanted to watch the whole film, and I would even check who was attached, etc.<br /><br />Yesterday I finally saw it, courtesy of the internet.<br /><br />First of all I must say that it looks AWESOME. The photography is BEAUTIFUL in every short and shot, at the worst being nothing special - but still brilliant and clear. Later I read the trivia here, and maybe it\\'s how scanning in 6K gives more justice to all the DP\\'s work. My special favorites are the \"Quais de Seine\" first scene (that sunlight!), the Sin City-esquire (but better for me) \"Quartier de la Madeleine\", and \"14th Arrondisement\" - but you know, what the hell I like them all: \"True\" or \"Faubourg Saint-Denis\" still makes me nervous with those brilliant colours (my eyes, they tremble!) and \"Quartier Latin\" is gold imprisoned on silver. Beautiful.<br /><br />Yes, these are some BEAUTIFUL short films.<br /><br />Now let\\'s get onto the content. I very much (and I mean VERY MUCH) like the eclecticism that is so successfully felt. You never have have the same themes or treatment between two shorts, and I think the formula is restrictive enough to let all these artists explore beautiful and deepening things inside the shorts. I loved coming from a simple love story into a crazy-Chinese-musical-in-Paris-with-Barbet-Schroeder into a social commentary into a terror comedy into a humble monologue. I love surprises! And this film has them! It\\'s great they took a chance to let all these director\\'s flesh out things that are not usual in mainstream cinema (which I have come to heavily despise). It\\'s not heavily experimental, but I can breath the breathing space these people had.<br /><br />I like the small time and I love the acting. I love the simplicity and I love the love. I like the simple feelings and the beauty and the eclecticism and in general it\\'s a film that is very very very nice to see, alone or with someone. To simply feel. It left me feeling very good.<br /><br />There is something about the earnestness in it... it\\'s so frank...<br /><br />What I didn\\'t like? Well, for me there are two shorts that aren\\'t exactly the best - \"Quais de Seine\" (which is good natured, sure, and maybe even necessary, but feels too much like a commercial?) and \"P\\xc3\\xa8re-Lachaise\" that even though I love the acting, I felt it\\'s themes were forced. But that of course, is just me. \"Tour Eiffel\" I also didn\\'t love but I think is probably because of my very different sensibility from that of Sylvain Chomet? I don\\'t know if this film has a special interest for people who already know the actor\\'s and directors, and so they can delight in their interaction, in the surprises (look out for Alexander Payne in a funny role) and basically in \"what will this director do with this?\" great question. I enjoyed it very much in that way.<br /><br />I repeat now: Most shorts I loved and all of them together form a beautiful and energetic mix. I definitely recommend it. Definitely!!! So, watch it if you like Eclectic Beautiful Love!',\n",
              "       b'It\\'s rare that I come across a film this awful, this annoying and this irritating. It is without doubt one of the worst films I\\'ve ever seen.<br /><br />The plot, when it\\'s not a blur of confusing and pointlessly over flashy editing, is ludicrous. Why did Domino become such a bad-ass tough bitch? Because her gold fish died when she was a kid and this \"traumatic\" event left her emotionally stunted, and hating everyone. When the dialogue is not clich\\xc3\\xa9d or banal, it\\'s littered with laughable lines such as: \"There are three kinds of people in this world: the rich... the poor... and everyone else\". At one point the bounty hunters have some guy tied up in the back of their bus who has a combination number tattooed on his arm. Because of a confusing mobile phone call, instead of rolling his sleeve up and just reading the number, they blow off his arm with a shotgun. At another point, the bounty hunters take a bomb to a meeting arranged with the mafia and threaten to set the bomb off unless the mafia let them go!? Clearly not going to the meeting would have been just too easy.<br /><br />Keira Knightley is unconvincing and dreadfully miscast. Mickey Rourke does manage to salvage some credibility from this mess.<br /><br />I have enjoyed some of Tony Scott\\'s previous films, True Romance being one, but all I could think while suffering this drivel was that it must have been made by a complete idiot.',\n",
              "       b\"Please Don't hate me but i have to be honest, watching this movie, i had a lot of fun,,<br /><br />It's a Movie with a Stupid Cast and Stupid Songs!!!<br /><br />Unnecessary songs!!! Mehbooba... A Total Insult to the Original One Holi.... well.. it was OK! due to the Tradition Every Movie got to have one!! Chad Raha hai Nasha Whatever... Very UNNEEDED stupid Song jee Le... Sounded like a Playboy Song Stupid Song...<br /><br />Other than Songs. The Movie was OK This was Ram Gopal Verma's Own Adaptation... If you think like that you will like this movie<br /><br />Well this movie only Depends on the Viewer and on his judgement whether he/she thinks this movie is total Copy He/She would want to hit her Head on the Cinema Seat OR if he/She Thinks of the Directors Own Look he/she would be relaxed and take a look at this movie<br /><br />Anyways I looked at both ways i would Congratulate and Abuse Ram Gopal for this Disaster that he made...<br /><br />Well Some other Things that bothered that The CAST was Incredibly Bad<br /><br />Amitabh Bachchan As Babban/Gabbar (Amitabh in his own Movie Remake Funny what was the Director Thinking) Ajay Devgan As Heero/Veeru(Bobby Deol Could have been Better) Prashant Raj As Raj/Jai(Abhishek was Meant for this role Despite doing a Special Appearance in the Mehbooba song) Sushmita Sen As Radha/Durga(Jaya Bachchan was Right Tabu was Right for this Role) Nisha Kothari As Ghungroo/Basanti(I think Esha Deol would have been Great) Mohanlal As Narishma/Thakur(Mohanlal Is So Cute....Oops Sorry hehehehe, He Was OK I could not Think of anyone)<br /><br />The Movie would have Even FAIRED a LIttle if the Cast was OK<br /><br />I movie wasn't even exciting, the movie was just OK , Just for watching<br /><br />The Overall Rating<br /><br />Direction... 8/10 I Got to him some credit Cinematography... 9/10 Script... 3/10 BAD Scripting Songs... 5/10 Unnecessary in the Movie, could have been better, Easy on the Ears on to be played in PC's and IPod's and Stuff Cast... 1/10<br /><br />Total ... 3/10<br /><br />Syed Shabbir Aly Naqvi from Pakistan\",\n",
              "       b'Flat out the funniest spoof of pretentious art house films ever made.<br /><br />This flick exposes all the clich\\xc3\\xa9s, and then some! Excruciatingly bad (Downs-Syndrome!) actors. Terribly heavy self important dialog. Scenes that are supposed to shock but fall flat. Jarring editing. Pointless plot points. All wrapped up in a kind of smirky miasma of disrespect for the audience and vague psych-drivel.<br /><br />It achieves exactly what it was designed to. A hilarious satire of those tedious movies made by spoiled teenage trust-funders, to show to their parents when they ask them what they\\'ve been doing for the last two years! After \"What Is It?\" received its Cannes award, presenter Werner Herzog was rumored to have been told that the film was in fact a spoof, in part of his own films! He supposedly blew up at the info. To this day he refuses to discuss the incident.<br /><br />Anyway, see it and laugh, this will be a classic of humor for many years to come.',\n",
              "       b\"This is the true story of how three British soldiers escaped from the German Prisoner Of War (POW) camp, Stalag Luft III, during the Second World War. This is the same POW camp that was the scene for the Great Escape which resulted in the murder of 50 re-captured officers by the Gestapo (and later was made into a very successful movie of the same name). <br /><br />While the other POWs in Stalag Luft III are busy working on their three massive tunnels (known as Tom, Dick & Harry), two enterprising British prisoners came up with the idea to build a wooden vaulting horse which could be placed near the compound wire fence, shortening the distance they would have to tunnel from this starting point to freedom. The idea to build their version of the Trojan Horse came to them while they were discussing 'classic' attempts for escape and observing some POWs playing leap-frog in the compound.<br /><br />Initially containing one, and later with two POWs hidden inside, the wooden horse could be carried out into the compound and placed in almost the same position, near the fence, on a daily basis. While volunteer POWS vaulted over the horse, the escapees were busy inside the horse digging a tunnel from under the vaulting horse while positioned near the wire, under the wire, and into the woods. <br /><br />The story also details the dangers that two of the three escaping POWs faced while traveling through Germany and occupied Europe after they emerged from the tunnel. All three POWs who tried to escape actually hit home runs (escaped successfully to their home base.). The Wooden Horse gives a very accurate and true feeling of the tension and events of a POW breakout. The movie was shot on the actual locations along the route the two POWs traveled in their escape. Made with far less a budget than The Great Escape, The Wooden Horse is more realistic if not more exciting than The Great Escape and never fails to keep you from the edge of your seat rooting for the POWs to make good their escape. <br /><br />The story line is crisp and the acting rings true and is taut enough to keep the tension up all the way through the movie. The Wooden Horse is based on the book of the same name by one of the escapees, Eric Williams, and is, by far, the best POW escape story ever made into a movie. Some of the actual POWs were used in the movie to reprise their existence as prisoners in Stalag Luft III. I give this movie a well deserved ten.\",\n",
              "       b'I also saw this movie at a local screening about a year ago. First, I\\'m going to say that it looks great. Cassella is incredibly talented and a fantastic cinematographer. I just wish the movie had been as good as it looks. I would not call this a horror movie. Putting in a few shots of a decaying ghost does not make it a horror movie. There\\'s no mystery, there\\'s no suspense, you know who did it the entire time. <br /><br />It\\'s a drama. You know what\\'s going on with both sides the entire movie. The acting was okay, I guess, but nothing special.<br /><br />And the tagline, \"Revenge can be deadly\"....really?...they should have check how many hundreds of horror/thriller movies have that exact same tagline?<br /><br />It pains me to say some of this, but I know a lot of the people who worked on this movie, and I know they don\\'t want people blowing smoke up their ass, so I give my honest opinion.',\n",
              "       b'\"Happy Go Lovely\" has only two things going for it. And those two things are Vera-Ellen\\'s legs. This is a British (Excelsior Films) version of an M-G-M musical complete with second tier stars. I would imagine that Vera-Ellen took this role thinking that it might finally propel her to the status of a major musical star. But, I\\'m sorry to say, Ms. Ellen\\'s chance did not pay off.<br /><br />Opening with a horrible Scottish number and stumbling thru awful dialog to the next dull tune, this movie seems very heavy handed and sloppy. The predictable mistaken identity plot is very thin, and with the exception of David Niven, Cesar Romero (who is way over the top in his role of a Producer) and Bobby Howes (who is totally wasted in a nothing role) the rest of the cast is totally forgettable.<br /><br />The choreography is boring, but Ms. Ellen gives it her all. She was never as famous as most of the other musical stars(and she shouldn\\'t be since she couldn\\'t sing and even had a \"dancing stand in\" in several of her pictures\". But when she did dance, it was just entrancing.<br /><br />It\\'s too bad that this film that could have made her a star did not give her the tools she needed to shine.<br /><br />4 out of 10',\n",
              "       b\"one word boring.<br /><br />the young demi looks good, but she's pregnant (- point for that =D) the movie is not scary at all...<br /><br />the first scenes looked little crappy, i could render better clouds with my laptop, and after effects. but that was then... and now is now. some movies do not get old well... this is one of them.<br /><br />not worth renting or buying... get something better instead like the exorcist, ...<br /><br />next =D<br /><br />oh the drama part in the beginning just and simply suxor =D\",\n",
              "       b'This movie does a great job of explaining the problems that we faced and the fears that we had before we put man into space. As a history of space flight, it is still used today in classrooms that can get one of the rare prints of it. Disney has shown it on \"Vault Disney\" and I wish they would do so again.',\n",
              "       b'Bette Midler is again Divine! Raunchily humorous. In love with Burlesque. Capable of bringing you down to tears either with old jokes with new dresses or merely with old songs with more power & punch than ever. All in All Singing new ballads, power-singing the good old/perennial ones such as \"The Rose\"; \"Stay With Me\" and yes, even \"Wind Beneath My Wings\". The best way to appreciate the Divine Miss M has always been libe - since this is the next best thing to it, I strongly recommended to all with a mixture of adult wide-eyed enchantment and appreciation and a child\\'s mischievous wish for pushing all boundaries!',\n",
              "       b'I basically found Eden\\'s Curve to be a very poorly constructed that made it difficult to watch. However, there is something I must say about how the director captured something about the atmosphere of the early 70\\'s in the choice of settings and clothing. The \"back to the earth\" philosophy and the interest in sexual exploration and drugs that was not dramatically decadent, as portrayed in many later versions of the 70\\'s was right on, as was the \"don\\'t ask don\\'t tell\" pseudo-liberalism of the fraternity made up of east-coast intellectuals, except that I would have thought this was more likely of a New England school rather than one in Virginia, where I imagine the \"good ole boy\" mentality still dominated even elitist schools like this one. Another thing I appreciated and could relate to is that this was a time when homosexuality was not linked so much to leathermen or drag queens and I appreciated some homosexual roles not related to these terribly overused images. I felt it was very unfortunate that \"gay culture\" took on certain standard forms in the 80\\'s out of Castro and Christopher Streets and these defined the movement and left out huge numbers of gay men that were more subdued in their lifestyles. I appreciated the film mainly as a way of remembering a more natural way we were about our sexuality and personal relationships without \"the scene.\"',\n",
              "       b'Just got my copy of this DVD two disc set and while not perfect, I found the overall experience to be a fun way to waste some time. I have to say right up front that I am a huge fan of Zombie movies, and I truly think that the fine people who made these films must be too. I also have a soft spot for people who are trying, sometimes against all odds, to live a dream. And again, these people are doing it. Is this some award-winning collection of amazing film? No. Not even close. But for what they do on their meager budgets, these films should be recommended. For me, the bottom line is always, was I entertained? Did I have a good time with this movie? And here the answer to both was \"Yes.\" The first in the series is also the most raw. It opens with some kind of accident at a nuclear facility and people melt down or something. Cut to some years later and a new housing community is built over the old reactor site. Some kids making a video fall into a hole and find themselves trapped in the bottom levels of the facility. They get rescued, but the hole is not sealed and the people from the opening start lumbering out of the hole. Soon, the whole town is overtaken by the undead. And these zombies are fun. They go from cool rot makeup to the cheapest slap on white-face ever, but they are fun. The whole movie culminates in a showdown between the final survivors of the area and the undead, with our heroes going into the reactor\\'s lower levels to take out the flesh eating zombies and seal the hole forever! Pretty cheesy, but I think it was meant to be. Still, it moves very fast, has buckets of gruesome effects and really tries to have some style. The acting is uneven, but a few good performances shine through and one really should listen to the commentary track. I went back and watched it again with that on and found it to be a good bit of information on the trials and fun that the crew and cast experienced on the movie. Director Todd Sheets seems pretty proud of this, his first film, but also has no delusions. He knows it\\'s a trashy zombie movie, but he does show respect to people involved. Also, Sheets has a great sense of humor and some humble integrity that others could learn from in the movie field. The behind the scenes of Zombie Bloodbath is pretty fun as well. I felt it was almost as entertaining as the film it was made for. There are some great interviews and behind the scenes footage, mixed with news stories about the film from some major places like CNN, FOX and MTV. Over all, a fun little film that is VERY rough around the edges, but still had me laughing and enjoying the ride! I have seen many DV films, and some shot of video films, and many are quite dull, but this one really wasn\\'t. While newer DV films are technically superior, they just aren\\'t fun! Overall, this is a solid, if a bit flawed, release with plenty of extras and TONS of gore and splatter. While not breaking any grand rules of move making, I found the series to be fun and always a laugh, so I give this set a solid recommendation. Todd Sheets was not trying to make award winning art here folks, he was trying, sometimes against all odds it seems, to make fun zero budget, splattery horror and to that end, he has succeeded in spades.',\n",
              "       b\"I was really surprised with this movie. Going in to the sneak preview, knowing nothing about the movie except for the one trailer I'd seen, I thought it was going to be a Dude Where's My Car kind of crap fest. I was expecting bad sex jokes and farting and a pathetic lead character who will get laid in the end because that's just how movies work. Instead I got a smart, surprisingly original movie about a decent, average guy who just never had sex.<br /><br />Yes, the film is chock full o' sex jokes and vulgarity and the occasional hey-look-a-nipple!, but it's done much in the spirit of Bad Santa rather than Sorority Boys. All the characters are people you probably know in real life, redeemable friends who are just trying to hook a brother up and live their lives.<br /><br />I went in thinking this movie was going to be total crap, and I was very surprised. Yea, it's pretty over the top (c'mon, it's a movie about a 40 year old virgin!), but it's very smartly done.<br /><br />In the end, you're really pulling for this guy to get laid, which says a lot about the movie because honestly, did you really care if Ashton Kutcher found his car or not?\",\n",
              "       b'When I first saw the cover of this movie (a giant bug chasing a few nurses) And the name \"Blue Monkey\", I knew I wasn\\'t in for any big Hollywood movie. I was pleasantly surprised to see Steve Railsback in this cheese-ball flick, who always does a good job in whatever role he tackles.... The FX are pretty corny, there isn\\'t too much of a plot, and I\\'m still not sure why this movie is called Blue Monkey, because there is nothing in this movie to do with monkey. But come on people, what did you expect?? It\\'s not really as bad as it seems.... If you enjoy the old 50\\'s style black and white bug attack movies, this one is basically an updated version, without the updates special FX',\n",
              "       b\"Cinderella was one of the first movies I ever saw, and to me it is timeless. It is a lovely looking film, with gorgeous animation. My favourite animation scene was the dress scene- I just love those mice. The songs are also lovely, not as good as Snow White's, but they are a delight to sing, and are reminiscent of Tchaikovsky. A dream is a Wish and So this is love? are standouts. The characters are also a delight. Cinderella is idealistic and strong, and the mice provided great comic relief. The stepsisters were also well done, as well as Lucifer. But I loved the stepmother the best, she was really evil, in comparison to a great character in the name of the Fairy Godmother. It is true, the movie drags slightly, with the antics of the mice, but they were genuinely funny, so I don't care. I don't think it is overrated, underrated don't you mean? It rarely plays on television, but the really bad sequel does on Cinemagic on a regular basis. if you want a great Cinderella adaptation, try the wonderful Ever After, or the lavish Slipper and the Rose, which isn't as good. But whatever you do, avoid the sequel, which I have the mistake of owning, because you'll thank me. 9/10. Bethany Cox\",\n",
              "       b'Wow. I LOVED the whole series, and am shocked at comments by people who thought it ended badly. Perhaps it waffled a bit in seasons 4 & 5, while remaining better than anything else on television. But 6 and particularly 6b were beautiful permutations on the themes developed in the more muscular first three seasons. <br /><br />6B started with such a sombre mood and Janice\\'s always keen insight into the family angst - that doom-filled line about knowing Tony\\'s penchant for sitting and staring. Anyone who missed the implications of that for the rest of the series does not know Tony. Melfi\\'s discomfort over the psychiatric study and its references to the sociopath\\'s self-deluding sentimentality for pets and animals goes back to the first episodes of the series, say, with Tony\\'s panic attack over the ducks leaving his pool and resonates with Phil\\'s \"wave bye-bye\" line to his grandchildren before the coup de grace of the final episode (not to get into Chase\\'s dark humour).<br /><br />I could go on and on, but I\\'ll just add that I thought the final show - starting with the opening strains of Vanilla Fudge to supply the ironic foreshadow (\"You Keep Me Hangin\\' On\") to the terminal moments where Tony fades back into complacency with his family in tow or blasts apart like AJ\\'s SUV or Phil\\'s head were, utterly, utterly PERFECT. The best TV ever. <br /><br />Pretty good in a dying medium pathologically supplying the \"jack-off fantasies\" AJ derides (and then into which he promptly subsides). A tip of the pork pie to Mr. Chase.',\n",
              "       b'And I\\'m serious! Truly one of the most fantastic films I have ever had the pleasure of watching. What\\'s so wonderful is that very rarely does a good book turn into a movie that is not only good, but if possible better than the novel it was based on. Perhaps in the case of Lord of the Rings and Trainspotting, but it is a rare occurrence indeed. But I think that the fact that Louis Sachar was involved from the beginning helped masses, so that the film sticks close to the story but takes it even further. This film has many elements that make it what it is:<br /><br />1. A unique, original story with a good mix of fun and humour, but a mature edge. 2. Brilliant actors. Adults and kids alike, these actors know how to bring the story to life and deliver their lines with enthusiasm and style without going overboard, as sometimes happen with kids movies. 3. Breathtaking scenery. And it doesn\\'t matter if it\\'s real or CGI, the setting in itself is a masterpiece. I especially love the image of the holes from a birds eye view. 4. A talented director who breathes life into the book and turns it into technicolour genius. The transitions in time work well and capture the steady climax from the book, leading up to the twists throughout the film. 5. Louis Sachar! The guy who had me reading a book nonstop from start to finish so that I couldn\\'t put it down. He makes sure that the script sticks to the book, with new bits added in to make it even better. 6. And speaking of the script! The one-liners in this are smart, funny and unpatronising. But there are also parts to make you smile, make you cry, and tug at your heartstrings to make you love this story all the more. 7. Beautiful soundtrack. There\\'s not a song in this film that I haven\\'t fallen for, and that\\'s something considering I\\'m supposed to be a punk-rocker. The songs link to the story well and add extra jazz to the overall style of the film. If you\\'re going to buy the film, I recommend you buy the soundtrack too, especially for \"If Only\", which centres around the story and contains the chorus from the book.<br /><br />I do not work for the people who made Holes, by the way, I\\'m just a fan, plugging my favourite film and giving it the review it deserves. If you haven\\'t seen it, do it. Now. This very instant. Go!',\n",
              "       b'I chose to see this movie because it got a good score here on IMDb. But a lot of people either have really poor taste or someone\\'s been fixing the score.<br /><br />Either way it was a real disappointment. The movie is exactly as stupid and far fetched as the title would suggest. There really is no reason to give a summary of the plot - but here goes: it felt like someone had been thinking: \"Wouldn\\'t it be cool to make a movie where there were snakes on a plane? And then the snakes for some reason would go crazy and start biting and stuff?!?\" And that\\'s about it! The plot is thin and unoriginal. The snakes are bad CGI (but it makes sense to cut corners on a movie that no one in their right mind will recommend to anyone!). The acting is poor, and all people are unbelievable stereo types.<br /><br />To sum it up: It\\'s one of the worst movies I\\'ve ever seen - stay away!',\n",
              "       b\"I bought this game on eBay having heard that it was a similar game to Elite. The gameplay is indeed very similar, and is very addictive. Once I'd played it a couple of times, I immediately went back on eBay and bought copies for all my kids so they could join in the fun too.... I have played this game right through and the storyline makes it feel as if you are actually in a movie, it's brilliant. If you have trouble feeling free to explore because of the restrictive nature of the storyline in the single-player game, simply set up a Freelancer server on your own PC (easy to do and the software is included) and play to your heart's content. There are still a huge number of Freelancer servers on the Internet, so multiplayer is no problem and is not all that threatening, because you don't often meant other players unless you want to. So go get a copy of this game, learn it by playing the single-player campaign, then set up an online presence and enjoy yourself. The depth of this game is staggering, with huge systems to explore and wrecks to find, as well as all sorts of other things to discover - hidden planets, wormholes, secret bases, the list is nearly endless. Fantastic game and especially as you can get it for a couple of quid on eBay. Get one with the full written manual if you can (blue box, not Xplosiv red box), it's loads better!\",\n",
              "       b'I am completely appalled to see that the average rating for this movie is 5.2/10 For what affects me, it is definitely one of the worst movies I have ever seen and I still keep wondering why I watched it until the end. First of all, the plot is totally hopeless, and the acting truly awful. I think that any totally unknown actress would have been better for the role than Susan Lucci; concerning Mr. Kamar Del\\'s Reyes, I think it would have been a better choice for him to remain in his \"Valley of the Dolls\". To sum up, it is total waste of time(and i\\'m trying to stay polite...) to avoid at any cost. My rating is 1 and I still think it is well paid, but since we cannot give a O....',\n",
              "       b\"What else can you say about this movie,except that it's plain awful.Tina Louise and Adam West are the reasons why to see this,but,that's it,but their talents are wasted in this junk.I think that they used a double in some of Adam's scenes,like when he's running because you can't see his face.If Adam was embarrassed in being in Zombie Nightmare,just think what he must've felt about appearing in this??? If it was before or after,I'm not sure,but,still,Zombie Nightmare is a classic(check out the Mystery Science Theater 3000 version first and last)compared to this.The gang is very annoying and over-acting by some of the actors.A rip-off of The Wild One starring Marlon Brando,of course.Tina looks stunning though.I hope her and Adam got a good paycheck!! Pass!\",\n",
              "       b'!!!!! POSSIBLE SPOILER !!!!!<br /><br />You`d think a story involving Archie Grey Owl - An Englishman posing as a red indian - would have a massive amount of humour involved . In fact I`d say the only way to treat a film like this where a remarkable man cons the gullible public is to treat it as a comedy . However Richard Attenborough commits something akin to a crime by making GREY OWL a serious drama . Worse , he`s made an extremely dire film too . Pierce Brosnan lacks the charisma needed for the title role and the romantic subplot between Grey Owl and Pony ( Played by the equally wooden Annie Gaupeau ) lacks any type of on screen chemistry . But to be fair to the cast their not helped with the script which fails to portray Archie as the cheeky chappy he is of fooling everyone into believing he`s a native American . The producers and screenwriter have made the major error of having the film centre around the plot twist of Archie being an Englishman - That`s why I wrote \" Possible spoiler \" it`s not actually revealed untill late in the film that the title character is English , but it`s obvious that everyone who viewed this movie knew that beforehand hence there`s absolutely no surprise involved.<br /><br />Yes I do agree with everyone that the scenery is lovely and that it has a deep ecological message which isn`t actually a new concept . Theodore Roosevelt was the first important environmentalist of the 20th century if truth be told . And it should also be remembered that with the exception of SOYLENT GREEN ( And possibly THE TWO TOWERS if you want to class it as having a green message ) that there hasn`t actually been a great ecological film . In fact most environmentally concious films suck and that includes GREY OWL , a film that unsurprisingly had a serious problem in finding a distributor',\n",
              "       b'Anthony Mann\\'s westerns with Jimmy Stewart are slowly gaining for that director a position with John Ford and Howard Hawks as the best film director in that genre. He certainly knows how to give dimension to nice guy Stewart - in Mann\\'s films there is an edge to Jimmy that is slowly demonstrated to the audience. In WINCHESTER \\'73 it was the relationship of Stewart to his brother and how it twists him into a figure of vengeance. Here it is a \"I trust only myself\" attitude, which leads to one complication after another. Even before the film properly begins he (as Jeff Webster) kills two of his hired cowboys who were helping on a cattle drive to Seattle because of some dispute (we never are clear about it - either they wanted to leave the cattle drive, or they tried to steal the cattle). <br /><br />He meets his match in Skagway, the port he has to get to in order to take his herd to Dawson. Skagway\\'s boss is a so-called law man named Gannon (John McIntyre) who reminds one of the real boss of Skagway in the \"Gold Rush\" Jefferson \"Soapy\" Smith and Judge Roy Bean. The problem is that neither Smith nor Bean would have gotten quite as sleazy as Gannon in turning every opportunity into a chance to make some money. Stewart\\'s herd interrupted a public hanging - so (as a penalty fine) the herd is confiscated (to be sold later for Gannon\\'s profit). <br /><br />Stewart is partner with Ben (Walter Brennan - who oddly enough won his last Oscar playing Judge Roy Bean). They are also joined by Rube Morris (Jay C. Flippen) and also meet two women, the sophisticated Rhonda Castle (Ruth Roman) and the friendly and helpful Renee Vallon (Corinne Calvert). Rhonda works closely with Gannon, but had helped Jeff earlier in fleeing the authorities in Seattle. However, she has a similar \"I only trust myself\" attitude to Jeff. She does offer him employment to get supplies for herself to Dawson. He, Ben, and Rube go but at night (while the others are asleep) they go back and steal back their cattle. Renee follows and warns them that Gannon and his associates are following. Jeff holds off Gannon long enough for the cattle herd to be brought over the Canadian border, although Gannon points out that since Jeff has to return by way of Skagway Gannon can wait until he does to hang him.<br /><br />The reunited party of Rhonda and Jeff split over the trail to take to Dawson, Jeff opting for a longer and safer route. After he is proved right, they go by his route and reach Dawson only to find there is a lawless element threatening the community due to the gold fields. The herd is sold to Rhonda, and Jeff, Ben, Rube, and Renee start prospecting. There is soon two groups in the town of Dawson. One led by Connie Gilchrist and Chubby Johnson want to build a decent town. But the Mounties won\\'t be setting up a station in Dawson for months. The other, centering around the \"dancehall\" run by Rhonda, are in cahoots with Gannon who has a vast claim jumping scheme using his gang of gunslingers (Robert J. Wilke - really scary in one sequence with Chubby Johnson and Jay C. Flippen, Jack Elam, and Harry Morgan). Jeff wishes to steer clear of both, and head with his new wealth and Ben for a ranch they want in Utah. But will they get there? And will Jeff remain neutral?<br /><br />The performances are dandy here, including Stewart as a man who is willing to face all comers, but would otherwise be peaceful enough. Brennan is playing one of his patented old codgers, whose love of good coffee has unexpectedly bad results. Flippen is a drunk at first, but tragedy and responsibility shake him into a better frame of mind - and one who has a chance to verbally stab Stewart in the heart using Stewart\\'s own words against him. McIntyre would achieve stardom on television in WAGON TRAIN replacing Ward Bond, but his work in Mann\\'s films show his abilities as a villain (such as his trade post opportunist who outsmarts himself in WINCHESTER \\'73). He is, as is said elsewhere on this thread, really sleazy - but he has a sense of humor. Roman is an interesting blend of opportunist and human being, whose fate is determined by her better feelings. And Calvert is both a voice of conscience and a frontier \"Gigi\" aware that she is more than a young girl but a budding woman.<br /><br />Best of all is the Canadian Rockies background - as wonderful in its way as the use of Monument Valley by John Ford. Mann certainly did a first rate job directing this film, and the viewer will appreciate the results.',\n",
              "       b'I noticed this movie was getting trashed well before it hit the theaters and I too didn\\'t have high hopes for it. I figured it was another \"You Got Served\" type of movie with some nice dance moves and horrid acting. I was at the theater and deciding between this and Meet the Spartans and picked this. To my surprise the acting wasn\\'t bad at all and the movie was actually pretty good. The fact that it has a lower rating than You Got Served is absolutely ridiculous. Instead of listening to the garbage posted on here I recommend going to see a matin\\xc3\\xa9e showing of this movie so you don\\'t spend too much. I think you will be pleasantly surprised with how wrong everyone has been about it. When it comes to dance movies this is certainly one of the better ones with far superior acting than many of the other ones. Go see the movie and judge for yourself. Hopefully the rating will rise after it comes out on DVD and more people check the movie out instead of judging it based on comments before the movie released.<br /><br />edit The movie is now moving closer to its correct rating. Over 1000 people have given it a rating of 9, a bit too high but at least it is helping to offset the ridiculous votes of 1.',\n",
              "       b\"Such a delightful movie! Very heart warming. One can't help falling in love with the character of Gigi. He's adorable as a child and grows into a sensitive artist. The whole movie revolves around him. He lives in a wonderful world \\xc2\\x96 living all life \\xc2\\x96 curiosity, desire and anticipation. There is an elder brother who tries to steal his glory but really remains in the shadow all his life. The father is very stereotypically Italian and so is the mother. I wanted the father to come and reunite with the mother in the last scene \\xc2\\x96 and have them cry and laugh. I also wish that there was at least something redeeming about the elder brother. His personality seems to have been trashed entirely. Passion and ardour \\xc2\\x96 that's the key to life. And looking through the camera \\xc2\\x96 focusing on small details and savoring the delicate details of life.\",\n",
              "       b\"Caught this film in about 1990 on video by chance and without knowing what i was in for. Many horror fans may have missed this thinking it was a typical prison film and the ones who did get it didn't like it as it was not what they wanted to see. The above mentioned factors are probably the reasons it is low rated but just ignore that and give it a whirl if you're a fan of the genre.<br /><br />It has strong suits in all departments from script and atmosphere to acting and the prison itself. <br /><br />An absolute diamond, a film i still have on video to this day. Check it out.\",\n",
              "       b'First of all: I love good Splattermovies and am not afraid to get in touch with art, but this zero-budget-flick is none of it! The picture-quality is so damned low, the soundtrack the most annoying one I ever (!!!!)heard, and as for the FX... well the super-low quality makes some of them look not as bad as they would in a real movie (what this junk here isn\\'t). No concept, a wafer-thin storyline, primitive acting and rare dialog - I think I counted about 10 sentences in the whole movie, each one repeated about 20 times... same for a lot of film-sequences (may be an indication for which kind of audience this crap was made!!!) The story seems to be that a young boy had to watch his father rape and kill his mother, got psychological damaged and as an adult goes touring, performing a show of self-mutilation. So far, so good... But for these pseudo-art-idiot-directors, this plot is just a line to put cheap produced shock scenes in a row which neither have a message nor make any sense (freshly taken-out bowels are thrown on a naked, bound woman in an earth-hole... why?? and why is that the only time you see both woman and thrower in the whole bloody \"movie\")??? Disturbing? Yes!! Sick? Yes!! Necessary? No! Artistically? NO!!!!! Everyone mistaking this cheap gore-show for art should as soon as possible visit his psychiatrist or should watch Pink Floyd\\'s \"The Wall\" to see how a similar topic can be worked out in an artful way... I hope this was your first and last (!!!!!!!!) movie, Andrew Cobb... !!!! And all you gore-heads out there, remember: Not everything that looks cheap and makes obviously no sense at all is automatically \"Art\"...',\n",
              "       b'Watching this I mainly noticed the ad placements. DHL, Aquawhite Strips, Rockstar and more. It\\'s one product placement after another. It\\'s quite obvious how this movie got its funding. Jessica Simpson\\'s \"acting\" is laughable. Any Dick shouldn\\'t ever get work because he plays the same lame character. The \"story\" is just a backdrop for this very long commercial. I can\\'t believe this movie was even considered for theatrical release. The longer you watch this movie the more you\\'re embarrassed for everyone involved. The only minor saving grace is Larry Miller and Rachael Lee Cook, who gets almost no screen time as Jessica\\'s cousin. I\\'m embarrassed I watched the whole thing. I would recommend avoiding this one.',\n",
              "       b'God, I was bored out of my head as I watched this pilot. I had been expecting a lot from it, as I\\'m a huge fan of James Cameron (and not just since \"Titanic\", I might add), and his name in the credits I thought would be a guarantee of quality (Then again, he also wrote the leaden Strange Days..). But the thing failed miserably at grabbing my attention at any point of its almost two hours of duration. In all that time, it barely went beyond its two line synopsis, and I would be very hard pressed to try to figure out any kind of coherent plot out of all the mess of strands that went nowhere. On top of that, I don\\'t think the acrobatics outdid even those of any regular \"A-Team\" episode. As for Alba, yes, she is gorgeous, of course, but the fact that she only displays one single facial expression the entire movie (pouty and surly), makes me also get bored of her \"gal wit an attitude\" schtick pretty soon. You can count me out of this one, Mr. Cameron!',\n",
              "       b'A fondly-remembered melodrama \\xc2\\x96 thanks chiefly to Ronald Colman\\'s fine Oscar-winning central performance \\xc2\\x96 about an oft-treated theme: the nature of acting and how it can overtake one\\'s perception of reality. In this case, we have a well-known thespian tackling Shakespeare\\'s \"Othello\", so that the film\\'s last third delves effectively into the thriller genre \\xc2\\x96 with press agent Edmond O\\'Brien (who happens to really be besotted with Colman\\'s co-star and ex-wife Signe Hasso) \\'investigating\\' the actor\\'s possible involvement in the Desdemona-like strangling of a celebrity-seeking waitress (a very slim Shelley Winters). The theatrical/New York atmosphere of the immediate post-war era is vividly captured by the husband-and-wife screen writing team of Garson Kanin and Ruth Gordon and legendary \"actor\\'s director\" George Cukor (all of whom were recognized by the Academy with nominations); incidentally, the film nabbed a second Oscar for Miklos Rozsa\\'s eclectic score. Colman, forever the suave leading man blessed besides with a velvety voice, does well enough by Shakespeare \\xc2\\x96 gaining conviction the farther his character slips into obsessive jealousy, a murderous rage and, eventually, paranoia; however, he is not let down by a supporting cast which also includes director Ray Collins, reporter Millard Mitchell, detective Joe Sawyer and coroner Whit Bissell. Though the mid-section is a bit strained, the film makes up for any deficiencies with a remarkably-handled Expressionist denouement.',\n",
              "       b\"An absolutely brilliant film! Jiri Trnka, the master of puppet animation, confronts totalitarianism in this, his final, film. It would be banned by the Communist Czechoslovakian government (at the time), despite taking the country's highest animation award.<br /><br />In this dark and entertaining short film, an artist attempts to create a new pot for his favourite plant. He happily makes his creations while dreaming that his plant will grow to be a beautiful rose. All of a sudden, he here's a knock at the door, and in comes this giant omnipotent hand, that tries to force the artist to make statues in it's likeness. The artist resists as best he can, but he eventually becomes overwhelmed by the constant attempts, by the hand, to force him to conform. He becomes brainwashed; an intellectual zombie. At this point the hand attaches strings to the artist, puts him in a cage, and uses him to make hand statues. All the while glorifying the artist's work and awarding him with medals and honours.<br /><br />The artist's inner lust to be able to express himself freely is what helps him prevail over his indoctrination, and enables him escape his prison, whether it be literal or in his mind, and return to his home where he now must live in constant fear of the wrath of the omnipotent hand. He shuts himself in, thinking he is out of the reach of the almighty hand, but in the process he puts his plant and pot up high, hoping it is out of the reach of the hand, and it ends up falling on his head, killing him. The artist is inevitabally destroyed by his own creation. All because of the constant fear he had to live with once he escaped the hand's strings. Once dead, the hand paints the artist as a great person, a national hero. Unfortunately not in the circumstances or for the reasons that the artist would like to be remembered.<br /><br />Trnka's condemnation of Totalitarian society, and their lack of right for free expression is dark, damning and an amazingly animated. It is no wonder the government banned it as this is the sort of media that people admire, and would perhaps even listen to. That was obviously not acceptable. An amazing example of an artists civil disobedience and the impact it can have. And still quite relevant today for many parts of the world, from the US to the middle east. A must see and definite 10 out of 10! Talk about going out with a bang!\"],\n",
              "      dtype=object)"
            ]
          },
          "metadata": {},
          "execution_count": 14
        }
      ]
    },
    {
      "cell_type": "code",
      "source": [
        "list(train_dataset.take(1))[0][0].numpy()[0]"
      ],
      "metadata": {
        "colab": {
          "base_uri": "https://localhost:8080/"
        },
        "id": "W08-L-l-PJix",
        "outputId": "77dd8015-323a-4da3-efc0-80298a6d7df7"
      },
      "execution_count": null,
      "outputs": [
        {
          "output_type": "execute_result",
          "data": {
            "text/plain": [
              "b\"If you haven't seen this obscure little charmer, you should seek it out. It is the story of a bumbling, wartime Sad Sack (Fred MacMurray) who is listed 4-F each time he attempts to join any branch of the military. He finds a magic lamp which of course contains a genie (Gene Sheldon), but the genie is even more bumbling than MacMurray is, sending him across time to serve in all the wrong times and places than the one he wants. It is cute, cheerful, and pure fluff, and you can't help but like it. The plots is much like a Disney film, particularly since the two stars (MacMurray and Sheldon) both made numerous Disney films in the 50's and 60's, although not together. Needless to say, it all ends well for everyone, and the viewer goes away feeling pretty good.\""
            ]
          },
          "metadata": {},
          "execution_count": 15
        }
      ]
    },
    {
      "cell_type": "code",
      "source": [
        "list(train_dataset.take(1))[0][1]"
      ],
      "metadata": {
        "colab": {
          "base_uri": "https://localhost:8080/"
        },
        "id": "00xIWRAGhxod",
        "outputId": "5cf9817b-625e-43d4-8942-3431dcb99537"
      },
      "execution_count": null,
      "outputs": [
        {
          "output_type": "execute_result",
          "data": {
            "text/plain": [
              "<tf.Tensor: shape=(64,), dtype=int64, numpy=\n",
              "array([0, 0, 1, 1, 1, 1, 0, 0, 0, 1, 1, 1, 1, 0, 0, 1, 0, 1, 0, 1, 1, 1,\n",
              "       0, 1, 0, 1, 0, 0, 0, 1, 0, 0, 1, 1, 0, 1, 1, 1, 0, 1, 0, 0, 0, 0,\n",
              "       1, 0, 1, 0, 0, 1, 1, 1, 1, 1, 0, 1, 0, 0, 0, 1, 1, 0, 1, 1])>"
            ]
          },
          "metadata": {},
          "execution_count": 16
        }
      ]
    },
    {
      "cell_type": "code",
      "source": [
        "list(train_dataset.take(1))[0][0].numpy().shape"
      ],
      "metadata": {
        "colab": {
          "base_uri": "https://localhost:8080/"
        },
        "id": "LiS3ub5MZHj3",
        "outputId": "755305b6-61b1-4267-fa48-bcc8b7a8bf84"
      },
      "execution_count": null,
      "outputs": [
        {
          "output_type": "execute_result",
          "data": {
            "text/plain": [
              "(64,)"
            ]
          },
          "metadata": {},
          "execution_count": 17
        }
      ]
    },
    {
      "cell_type": "markdown",
      "source": [
        "Notemos que el tamaño del *dataset* no se alteró."
      ],
      "metadata": {
        "id": "8hOJcqE6jIJq"
      }
    },
    {
      "cell_type": "code",
      "source": [
        "len(train_dataset)"
      ],
      "metadata": {
        "colab": {
          "base_uri": "https://localhost:8080/"
        },
        "id": "JlR3W_iSPue5",
        "outputId": "8f32f916-ae24-4494-af88-8a26fd119906"
      },
      "execution_count": null,
      "outputs": [
        {
          "output_type": "execute_result",
          "data": {
            "text/plain": [
              "391"
            ]
          },
          "metadata": {},
          "execution_count": 18
        }
      ]
    },
    {
      "cell_type": "code",
      "source": [
        "len(train_dataset)*64"
      ],
      "metadata": {
        "colab": {
          "base_uri": "https://localhost:8080/"
        },
        "id": "mctEbyobiKHi",
        "outputId": "8dbd67ea-2043-43bf-c207-7a3d41d64da2"
      },
      "execution_count": null,
      "outputs": [
        {
          "output_type": "execute_result",
          "data": {
            "text/plain": [
              "25024"
            ]
          },
          "metadata": {},
          "execution_count": 19
        }
      ]
    },
    {
      "cell_type": "markdown",
      "source": [
        "El último lote tendrá menos de 64 datos.\n",
        "\n"
      ],
      "metadata": {
        "id": "pbMNF_Zuje1f"
      }
    },
    {
      "cell_type": "code",
      "source": [
        "list(train_dataset)[-1][0].numpy().shape"
      ],
      "metadata": {
        "colab": {
          "base_uri": "https://localhost:8080/"
        },
        "id": "elMr0eG3jjq3",
        "outputId": "fc802e0d-23c3-4ce5-e824-c28038dbbd6b"
      },
      "execution_count": null,
      "outputs": [
        {
          "output_type": "execute_result",
          "data": {
            "text/plain": [
              "(40,)"
            ]
          },
          "metadata": {},
          "execution_count": 20
        }
      ]
    },
    {
      "cell_type": "code",
      "source": [
        "(len(train_dataset) -1 )*64 + 40"
      ],
      "metadata": {
        "colab": {
          "base_uri": "https://localhost:8080/"
        },
        "id": "FeEMlkakjsEp",
        "outputId": "7bf1a8a3-9ed5-42bf-af88-92f01920c984"
      },
      "execution_count": null,
      "outputs": [
        {
          "output_type": "execute_result",
          "data": {
            "text/plain": [
              "25000"
            ]
          },
          "metadata": {},
          "execution_count": 21
        }
      ]
    },
    {
      "cell_type": "markdown",
      "source": [
        "Veamos algunos datos."
      ],
      "metadata": {
        "id": "TR8yNRGFZiF8"
      }
    },
    {
      "cell_type": "code",
      "execution_count": null,
      "metadata": {
        "id": "jqkvdcFv41wC",
        "outputId": "bd2adabf-0141-46f1-9e54-4d35d85974be",
        "colab": {
          "base_uri": "https://localhost:8080/"
        }
      },
      "outputs": [
        {
          "output_type": "stream",
          "name": "stdout",
          "text": [
            "texts:  [b'I haven\\'t watched the movie yet, but can\\'t wait to see it! It seems very interesting and inspirational. It was one of the most interesting trailers I\\'ve ever seen: the questions it posed really stopped me and made me think, the unique approach to the sport of boxing as a metaphor for the \"battle within\"... thank god somebody is hitting another angle with the boxing thing. This film looks so fresh and smart. And the actor is really hot. I especially enjoyed the short clip with the actor from the Rocky movies, really clever. I thought that the topic selected-overcoming adversities and childhood traumas-is timeless, and god knows a lot of people need it. Bring it on.'\n",
            " b'The one of the most remarkable sci-fi movies of the millennium. Not only a movie but an incredible future vision, this movie establishes a new standard of s/f movies. hail and kill!'\n",
            " b\"Just a dumb old movie. First Stanwyck's son gets his foot trapped in a really dumb way, and then her husband gets his foot trapped in another really dumb way. In an effort to save him, Stanwyck gets unlucky, yet again, and comes across an escaped convict. She has a chance to kill him but fails in a very dumb way. In the end her husband is saved, and Stanwyck tells us through narration what the dumb message of the movie is. All's well than ends dumb.<br /><br />I could never figure out how an unattractive woman like Stanwyck ever made it as a leading lady in Hollywood's glamour-oriented Golden Era; that nose is so beautiful\\xc2\\x85 So photogenic\\xc2\\x85 The film is mercifully short, running a little over an hour. It's as though the director sensed that he was making crap, so he thought it best to keep the crap short.\"]\n",
            "\n",
            "labels:  [1 1 0]\n"
          ]
        }
      ],
      "source": [
        "for example, label in train_dataset.take(1):\n",
        "  print('texts: ', example.numpy()[:3])\n",
        "  print()\n",
        "  print('labels: ', label.numpy()[:3])"
      ]
    },
    {
      "cell_type": "markdown",
      "source": [
        "# Clasificación con métodos clásicos\n",
        "\n",
        "Para utilizar los clasificadores clásicos, es muy difícil utilizar todo el conjunto de datos por lo que tenemos que utilizar la versión reducida (``small_train_dataset`` y ``small_test_dataset``). Eso normalmente es un problema, porque no estamos midiendo de la misma forma, pero al menos somos conscientes de que estamos tomando una muestra de los datos para tal fin. No obstante, nuestros datos también están en un formato de Tensorflow, por lo que tenemos que convertirlos a una lista de textos."
      ],
      "metadata": {
        "id": "Mq4lF2iWZtm6"
      }
    },
    {
      "cell_type": "code",
      "source": [
        "dato1 = list(small_train_dataset)[0]"
      ],
      "metadata": {
        "id": "oS9w5TxQQ8id"
      },
      "execution_count": null,
      "outputs": []
    },
    {
      "cell_type": "code",
      "source": [
        "dato1"
      ],
      "metadata": {
        "colab": {
          "base_uri": "https://localhost:8080/"
        },
        "id": "tOiO_qnUeCTr",
        "outputId": "2eb712bf-4d02-44e8-b639-5fb8e72d4b32"
      },
      "execution_count": null,
      "outputs": [
        {
          "output_type": "execute_result",
          "data": {
            "text/plain": [
              "(<tf.Tensor: shape=(), dtype=string, numpy=b'Brilliant execution in displaying once and for all, this time in the venue of politics, of how \"good intentions do actually pave the road to hell\". Excellent!'>,\n",
              " <tf.Tensor: shape=(), dtype=int64, numpy=1>)"
            ]
          },
          "metadata": {},
          "execution_count": 24
        }
      ]
    },
    {
      "cell_type": "code",
      "source": [
        "dato1[0].numpy()"
      ],
      "metadata": {
        "colab": {
          "base_uri": "https://localhost:8080/"
        },
        "id": "ru_bcNTYRO21",
        "outputId": "c886fa92-a59f-4fa6-870a-ce02069d0d1e"
      },
      "execution_count": null,
      "outputs": [
        {
          "output_type": "execute_result",
          "data": {
            "text/plain": [
              "b'Brilliant execution in displaying once and for all, this time in the venue of politics, of how \"good intentions do actually pave the road to hell\". Excellent!'"
            ]
          },
          "metadata": {},
          "execution_count": 25
        }
      ]
    },
    {
      "cell_type": "code",
      "source": [
        "dato1[1].numpy()"
      ],
      "metadata": {
        "colab": {
          "base_uri": "https://localhost:8080/"
        },
        "id": "l1O3iexsRTyv",
        "outputId": "d9f3beaa-6932-4f96-9494-7e34e2b28057"
      },
      "execution_count": null,
      "outputs": [
        {
          "output_type": "execute_result",
          "data": {
            "text/plain": [
              "np.int64(1)"
            ]
          },
          "metadata": {},
          "execution_count": 26
        }
      ]
    },
    {
      "cell_type": "markdown",
      "source": [
        "Convierte el dataset en X_train, X_test, y_train, y_test."
      ],
      "metadata": {
        "id": "i9cFiWQtRlZQ"
      }
    },
    {
      "cell_type": "code",
      "source": [
        "# Ejercicio 1\n",
        "X_train = []\n",
        "y_train = []\n",
        "\n",
        "small_train_dataset = list(small_train_dataset)\n",
        "small_test_dataset = list(small_test_dataset)\n",
        "\n",
        "for i in range(len(small_train_dataset)):\n",
        "  dato_i = small_train_dataset[i]\n",
        "  example = dato_i[0].numpy()\n",
        "  label = dato_i[1].numpy()\n",
        "  X_train.append(example)\n",
        "  y_train.append(label)\n",
        "\n",
        "X_test = []\n",
        "y_test = []\n",
        "\n",
        "for i in range(len(small_test_dataset)):\n",
        "  dato_i = small_test_dataset[i]\n",
        "  example = dato_i[0].numpy()\n",
        "  label = dato_i[1].numpy()\n",
        "  X_test.append(example)\n",
        "  y_test.append(label)\n",
        "\n"
      ],
      "metadata": {
        "id": "D-Bit_F4bbp1"
      },
      "execution_count": null,
      "outputs": []
    },
    {
      "cell_type": "code",
      "source": [
        "X_train = []\n",
        "y_train = []\n",
        "\n",
        "for example, label in small_train_dataset:\n",
        "  X_train.append(example.numpy())\n",
        "  y_train.append(label.numpy())\n"
      ],
      "metadata": {
        "id": "qnvTdT-8lETm"
      },
      "execution_count": null,
      "outputs": []
    },
    {
      "cell_type": "code",
      "source": [
        "len(X_train)"
      ],
      "metadata": {
        "colab": {
          "base_uri": "https://localhost:8080/"
        },
        "id": "DrLAw4YzQwS9",
        "outputId": "65b467d3-dcf2-466a-bf10-741b688f7b96"
      },
      "execution_count": null,
      "outputs": [
        {
          "output_type": "execute_result",
          "data": {
            "text/plain": [
              "2000"
            ]
          },
          "metadata": {},
          "execution_count": 32
        }
      ]
    },
    {
      "cell_type": "code",
      "source": [
        "len(X_train[0])"
      ],
      "metadata": {
        "colab": {
          "base_uri": "https://localhost:8080/"
        },
        "id": "36JqnxknRDuH",
        "outputId": "6d0ba956-032a-40f4-880d-887c206ce6ff"
      },
      "execution_count": null,
      "outputs": [
        {
          "output_type": "execute_result",
          "data": {
            "text/plain": [
              "397"
            ]
          },
          "metadata": {},
          "execution_count": 34
        }
      ]
    },
    {
      "cell_type": "code",
      "source": [
        "len(y_train)"
      ],
      "metadata": {
        "colab": {
          "base_uri": "https://localhost:8080/"
        },
        "id": "3G_vq6e7RA-c",
        "outputId": "8680adca-ea06-4f18-ed5e-73b14412ea61"
      },
      "execution_count": null,
      "outputs": [
        {
          "output_type": "execute_result",
          "data": {
            "text/plain": [
              "2000"
            ]
          },
          "metadata": {},
          "execution_count": 33
        }
      ]
    },
    {
      "cell_type": "markdown",
      "source": [
        "Ahora ya tenemos los *datasets* en el formato debido y podemos cargarle los clasificadores clásicos. Utilizaremos Random Forest."
      ],
      "metadata": {
        "id": "gedG_E7gc1AX"
      }
    },
    {
      "cell_type": "code",
      "source": [
        "import sklearn.feature_extraction.text as sk_text\n",
        "from sklearn.ensemble import RandomForestClassifier\n",
        "from sklearn.metrics import accuracy_score\n",
        "from sklearn.pipeline import make_pipeline"
      ],
      "metadata": {
        "id": "zHyoDDs9aLzb"
      },
      "execution_count": null,
      "outputs": []
    },
    {
      "cell_type": "markdown",
      "source": [
        "Vectorizamos."
      ],
      "metadata": {
        "id": "2qVelYaQdG_5"
      }
    },
    {
      "cell_type": "code",
      "source": [
        "# Ejercicio 2\n",
        "vectorizer = sk_text.TfidfVectorizer()\n",
        "X_train = vectorizer.fit_transform(X_train)\n",
        "X_test = vectorizer.transform(X_test)"
      ],
      "metadata": {
        "id": "0xGRVsuca7lj"
      },
      "execution_count": null,
      "outputs": []
    },
    {
      "cell_type": "markdown",
      "source": [
        "Implementamos Random Forest para tal fin."
      ],
      "metadata": {
        "id": "ctlHxwJ4dLNA"
      }
    },
    {
      "cell_type": "code",
      "source": [
        "# Ejercicio 3\n",
        "classifier = RandomForestClassifier(n_estimators=500)\n",
        "classifier.fit(X_train, y_train)"
      ],
      "metadata": {
        "colab": {
          "base_uri": "https://localhost:8080/",
          "height": 80
        },
        "id": "pNPdm8k9dTwY",
        "outputId": "276ec7c8-3a4b-41c2-c6f6-995a2c7e1ec0"
      },
      "execution_count": null,
      "outputs": [
        {
          "output_type": "execute_result",
          "data": {
            "text/plain": [
              "RandomForestClassifier(n_estimators=500)"
            ],
            "text/html": [
              "<style>#sk-container-id-1 {\n",
              "  /* Definition of color scheme common for light and dark mode */\n",
              "  --sklearn-color-text: #000;\n",
              "  --sklearn-color-text-muted: #666;\n",
              "  --sklearn-color-line: gray;\n",
              "  /* Definition of color scheme for unfitted estimators */\n",
              "  --sklearn-color-unfitted-level-0: #fff5e6;\n",
              "  --sklearn-color-unfitted-level-1: #f6e4d2;\n",
              "  --sklearn-color-unfitted-level-2: #ffe0b3;\n",
              "  --sklearn-color-unfitted-level-3: chocolate;\n",
              "  /* Definition of color scheme for fitted estimators */\n",
              "  --sklearn-color-fitted-level-0: #f0f8ff;\n",
              "  --sklearn-color-fitted-level-1: #d4ebff;\n",
              "  --sklearn-color-fitted-level-2: #b3dbfd;\n",
              "  --sklearn-color-fitted-level-3: cornflowerblue;\n",
              "\n",
              "  /* Specific color for light theme */\n",
              "  --sklearn-color-text-on-default-background: var(--sg-text-color, var(--theme-code-foreground, var(--jp-content-font-color1, black)));\n",
              "  --sklearn-color-background: var(--sg-background-color, var(--theme-background, var(--jp-layout-color0, white)));\n",
              "  --sklearn-color-border-box: var(--sg-text-color, var(--theme-code-foreground, var(--jp-content-font-color1, black)));\n",
              "  --sklearn-color-icon: #696969;\n",
              "\n",
              "  @media (prefers-color-scheme: dark) {\n",
              "    /* Redefinition of color scheme for dark theme */\n",
              "    --sklearn-color-text-on-default-background: var(--sg-text-color, var(--theme-code-foreground, var(--jp-content-font-color1, white)));\n",
              "    --sklearn-color-background: var(--sg-background-color, var(--theme-background, var(--jp-layout-color0, #111)));\n",
              "    --sklearn-color-border-box: var(--sg-text-color, var(--theme-code-foreground, var(--jp-content-font-color1, white)));\n",
              "    --sklearn-color-icon: #878787;\n",
              "  }\n",
              "}\n",
              "\n",
              "#sk-container-id-1 {\n",
              "  color: var(--sklearn-color-text);\n",
              "}\n",
              "\n",
              "#sk-container-id-1 pre {\n",
              "  padding: 0;\n",
              "}\n",
              "\n",
              "#sk-container-id-1 input.sk-hidden--visually {\n",
              "  border: 0;\n",
              "  clip: rect(1px 1px 1px 1px);\n",
              "  clip: rect(1px, 1px, 1px, 1px);\n",
              "  height: 1px;\n",
              "  margin: -1px;\n",
              "  overflow: hidden;\n",
              "  padding: 0;\n",
              "  position: absolute;\n",
              "  width: 1px;\n",
              "}\n",
              "\n",
              "#sk-container-id-1 div.sk-dashed-wrapped {\n",
              "  border: 1px dashed var(--sklearn-color-line);\n",
              "  margin: 0 0.4em 0.5em 0.4em;\n",
              "  box-sizing: border-box;\n",
              "  padding-bottom: 0.4em;\n",
              "  background-color: var(--sklearn-color-background);\n",
              "}\n",
              "\n",
              "#sk-container-id-1 div.sk-container {\n",
              "  /* jupyter's `normalize.less` sets `[hidden] { display: none; }`\n",
              "     but bootstrap.min.css set `[hidden] { display: none !important; }`\n",
              "     so we also need the `!important` here to be able to override the\n",
              "     default hidden behavior on the sphinx rendered scikit-learn.org.\n",
              "     See: https://github.com/scikit-learn/scikit-learn/issues/21755 */\n",
              "  display: inline-block !important;\n",
              "  position: relative;\n",
              "}\n",
              "\n",
              "#sk-container-id-1 div.sk-text-repr-fallback {\n",
              "  display: none;\n",
              "}\n",
              "\n",
              "div.sk-parallel-item,\n",
              "div.sk-serial,\n",
              "div.sk-item {\n",
              "  /* draw centered vertical line to link estimators */\n",
              "  background-image: linear-gradient(var(--sklearn-color-text-on-default-background), var(--sklearn-color-text-on-default-background));\n",
              "  background-size: 2px 100%;\n",
              "  background-repeat: no-repeat;\n",
              "  background-position: center center;\n",
              "}\n",
              "\n",
              "/* Parallel-specific style estimator block */\n",
              "\n",
              "#sk-container-id-1 div.sk-parallel-item::after {\n",
              "  content: \"\";\n",
              "  width: 100%;\n",
              "  border-bottom: 2px solid var(--sklearn-color-text-on-default-background);\n",
              "  flex-grow: 1;\n",
              "}\n",
              "\n",
              "#sk-container-id-1 div.sk-parallel {\n",
              "  display: flex;\n",
              "  align-items: stretch;\n",
              "  justify-content: center;\n",
              "  background-color: var(--sklearn-color-background);\n",
              "  position: relative;\n",
              "}\n",
              "\n",
              "#sk-container-id-1 div.sk-parallel-item {\n",
              "  display: flex;\n",
              "  flex-direction: column;\n",
              "}\n",
              "\n",
              "#sk-container-id-1 div.sk-parallel-item:first-child::after {\n",
              "  align-self: flex-end;\n",
              "  width: 50%;\n",
              "}\n",
              "\n",
              "#sk-container-id-1 div.sk-parallel-item:last-child::after {\n",
              "  align-self: flex-start;\n",
              "  width: 50%;\n",
              "}\n",
              "\n",
              "#sk-container-id-1 div.sk-parallel-item:only-child::after {\n",
              "  width: 0;\n",
              "}\n",
              "\n",
              "/* Serial-specific style estimator block */\n",
              "\n",
              "#sk-container-id-1 div.sk-serial {\n",
              "  display: flex;\n",
              "  flex-direction: column;\n",
              "  align-items: center;\n",
              "  background-color: var(--sklearn-color-background);\n",
              "  padding-right: 1em;\n",
              "  padding-left: 1em;\n",
              "}\n",
              "\n",
              "\n",
              "/* Toggleable style: style used for estimator/Pipeline/ColumnTransformer box that is\n",
              "clickable and can be expanded/collapsed.\n",
              "- Pipeline and ColumnTransformer use this feature and define the default style\n",
              "- Estimators will overwrite some part of the style using the `sk-estimator` class\n",
              "*/\n",
              "\n",
              "/* Pipeline and ColumnTransformer style (default) */\n",
              "\n",
              "#sk-container-id-1 div.sk-toggleable {\n",
              "  /* Default theme specific background. It is overwritten whether we have a\n",
              "  specific estimator or a Pipeline/ColumnTransformer */\n",
              "  background-color: var(--sklearn-color-background);\n",
              "}\n",
              "\n",
              "/* Toggleable label */\n",
              "#sk-container-id-1 label.sk-toggleable__label {\n",
              "  cursor: pointer;\n",
              "  display: flex;\n",
              "  width: 100%;\n",
              "  margin-bottom: 0;\n",
              "  padding: 0.5em;\n",
              "  box-sizing: border-box;\n",
              "  text-align: center;\n",
              "  align-items: start;\n",
              "  justify-content: space-between;\n",
              "  gap: 0.5em;\n",
              "}\n",
              "\n",
              "#sk-container-id-1 label.sk-toggleable__label .caption {\n",
              "  font-size: 0.6rem;\n",
              "  font-weight: lighter;\n",
              "  color: var(--sklearn-color-text-muted);\n",
              "}\n",
              "\n",
              "#sk-container-id-1 label.sk-toggleable__label-arrow:before {\n",
              "  /* Arrow on the left of the label */\n",
              "  content: \"▸\";\n",
              "  float: left;\n",
              "  margin-right: 0.25em;\n",
              "  color: var(--sklearn-color-icon);\n",
              "}\n",
              "\n",
              "#sk-container-id-1 label.sk-toggleable__label-arrow:hover:before {\n",
              "  color: var(--sklearn-color-text);\n",
              "}\n",
              "\n",
              "/* Toggleable content - dropdown */\n",
              "\n",
              "#sk-container-id-1 div.sk-toggleable__content {\n",
              "  max-height: 0;\n",
              "  max-width: 0;\n",
              "  overflow: hidden;\n",
              "  text-align: left;\n",
              "  /* unfitted */\n",
              "  background-color: var(--sklearn-color-unfitted-level-0);\n",
              "}\n",
              "\n",
              "#sk-container-id-1 div.sk-toggleable__content.fitted {\n",
              "  /* fitted */\n",
              "  background-color: var(--sklearn-color-fitted-level-0);\n",
              "}\n",
              "\n",
              "#sk-container-id-1 div.sk-toggleable__content pre {\n",
              "  margin: 0.2em;\n",
              "  border-radius: 0.25em;\n",
              "  color: var(--sklearn-color-text);\n",
              "  /* unfitted */\n",
              "  background-color: var(--sklearn-color-unfitted-level-0);\n",
              "}\n",
              "\n",
              "#sk-container-id-1 div.sk-toggleable__content.fitted pre {\n",
              "  /* unfitted */\n",
              "  background-color: var(--sklearn-color-fitted-level-0);\n",
              "}\n",
              "\n",
              "#sk-container-id-1 input.sk-toggleable__control:checked~div.sk-toggleable__content {\n",
              "  /* Expand drop-down */\n",
              "  max-height: 200px;\n",
              "  max-width: 100%;\n",
              "  overflow: auto;\n",
              "}\n",
              "\n",
              "#sk-container-id-1 input.sk-toggleable__control:checked~label.sk-toggleable__label-arrow:before {\n",
              "  content: \"▾\";\n",
              "}\n",
              "\n",
              "/* Pipeline/ColumnTransformer-specific style */\n",
              "\n",
              "#sk-container-id-1 div.sk-label input.sk-toggleable__control:checked~label.sk-toggleable__label {\n",
              "  color: var(--sklearn-color-text);\n",
              "  background-color: var(--sklearn-color-unfitted-level-2);\n",
              "}\n",
              "\n",
              "#sk-container-id-1 div.sk-label.fitted input.sk-toggleable__control:checked~label.sk-toggleable__label {\n",
              "  background-color: var(--sklearn-color-fitted-level-2);\n",
              "}\n",
              "\n",
              "/* Estimator-specific style */\n",
              "\n",
              "/* Colorize estimator box */\n",
              "#sk-container-id-1 div.sk-estimator input.sk-toggleable__control:checked~label.sk-toggleable__label {\n",
              "  /* unfitted */\n",
              "  background-color: var(--sklearn-color-unfitted-level-2);\n",
              "}\n",
              "\n",
              "#sk-container-id-1 div.sk-estimator.fitted input.sk-toggleable__control:checked~label.sk-toggleable__label {\n",
              "  /* fitted */\n",
              "  background-color: var(--sklearn-color-fitted-level-2);\n",
              "}\n",
              "\n",
              "#sk-container-id-1 div.sk-label label.sk-toggleable__label,\n",
              "#sk-container-id-1 div.sk-label label {\n",
              "  /* The background is the default theme color */\n",
              "  color: var(--sklearn-color-text-on-default-background);\n",
              "}\n",
              "\n",
              "/* On hover, darken the color of the background */\n",
              "#sk-container-id-1 div.sk-label:hover label.sk-toggleable__label {\n",
              "  color: var(--sklearn-color-text);\n",
              "  background-color: var(--sklearn-color-unfitted-level-2);\n",
              "}\n",
              "\n",
              "/* Label box, darken color on hover, fitted */\n",
              "#sk-container-id-1 div.sk-label.fitted:hover label.sk-toggleable__label.fitted {\n",
              "  color: var(--sklearn-color-text);\n",
              "  background-color: var(--sklearn-color-fitted-level-2);\n",
              "}\n",
              "\n",
              "/* Estimator label */\n",
              "\n",
              "#sk-container-id-1 div.sk-label label {\n",
              "  font-family: monospace;\n",
              "  font-weight: bold;\n",
              "  display: inline-block;\n",
              "  line-height: 1.2em;\n",
              "}\n",
              "\n",
              "#sk-container-id-1 div.sk-label-container {\n",
              "  text-align: center;\n",
              "}\n",
              "\n",
              "/* Estimator-specific */\n",
              "#sk-container-id-1 div.sk-estimator {\n",
              "  font-family: monospace;\n",
              "  border: 1px dotted var(--sklearn-color-border-box);\n",
              "  border-radius: 0.25em;\n",
              "  box-sizing: border-box;\n",
              "  margin-bottom: 0.5em;\n",
              "  /* unfitted */\n",
              "  background-color: var(--sklearn-color-unfitted-level-0);\n",
              "}\n",
              "\n",
              "#sk-container-id-1 div.sk-estimator.fitted {\n",
              "  /* fitted */\n",
              "  background-color: var(--sklearn-color-fitted-level-0);\n",
              "}\n",
              "\n",
              "/* on hover */\n",
              "#sk-container-id-1 div.sk-estimator:hover {\n",
              "  /* unfitted */\n",
              "  background-color: var(--sklearn-color-unfitted-level-2);\n",
              "}\n",
              "\n",
              "#sk-container-id-1 div.sk-estimator.fitted:hover {\n",
              "  /* fitted */\n",
              "  background-color: var(--sklearn-color-fitted-level-2);\n",
              "}\n",
              "\n",
              "/* Specification for estimator info (e.g. \"i\" and \"?\") */\n",
              "\n",
              "/* Common style for \"i\" and \"?\" */\n",
              "\n",
              ".sk-estimator-doc-link,\n",
              "a:link.sk-estimator-doc-link,\n",
              "a:visited.sk-estimator-doc-link {\n",
              "  float: right;\n",
              "  font-size: smaller;\n",
              "  line-height: 1em;\n",
              "  font-family: monospace;\n",
              "  background-color: var(--sklearn-color-background);\n",
              "  border-radius: 1em;\n",
              "  height: 1em;\n",
              "  width: 1em;\n",
              "  text-decoration: none !important;\n",
              "  margin-left: 0.5em;\n",
              "  text-align: center;\n",
              "  /* unfitted */\n",
              "  border: var(--sklearn-color-unfitted-level-1) 1pt solid;\n",
              "  color: var(--sklearn-color-unfitted-level-1);\n",
              "}\n",
              "\n",
              ".sk-estimator-doc-link.fitted,\n",
              "a:link.sk-estimator-doc-link.fitted,\n",
              "a:visited.sk-estimator-doc-link.fitted {\n",
              "  /* fitted */\n",
              "  border: var(--sklearn-color-fitted-level-1) 1pt solid;\n",
              "  color: var(--sklearn-color-fitted-level-1);\n",
              "}\n",
              "\n",
              "/* On hover */\n",
              "div.sk-estimator:hover .sk-estimator-doc-link:hover,\n",
              ".sk-estimator-doc-link:hover,\n",
              "div.sk-label-container:hover .sk-estimator-doc-link:hover,\n",
              ".sk-estimator-doc-link:hover {\n",
              "  /* unfitted */\n",
              "  background-color: var(--sklearn-color-unfitted-level-3);\n",
              "  color: var(--sklearn-color-background);\n",
              "  text-decoration: none;\n",
              "}\n",
              "\n",
              "div.sk-estimator.fitted:hover .sk-estimator-doc-link.fitted:hover,\n",
              ".sk-estimator-doc-link.fitted:hover,\n",
              "div.sk-label-container:hover .sk-estimator-doc-link.fitted:hover,\n",
              ".sk-estimator-doc-link.fitted:hover {\n",
              "  /* fitted */\n",
              "  background-color: var(--sklearn-color-fitted-level-3);\n",
              "  color: var(--sklearn-color-background);\n",
              "  text-decoration: none;\n",
              "}\n",
              "\n",
              "/* Span, style for the box shown on hovering the info icon */\n",
              ".sk-estimator-doc-link span {\n",
              "  display: none;\n",
              "  z-index: 9999;\n",
              "  position: relative;\n",
              "  font-weight: normal;\n",
              "  right: .2ex;\n",
              "  padding: .5ex;\n",
              "  margin: .5ex;\n",
              "  width: min-content;\n",
              "  min-width: 20ex;\n",
              "  max-width: 50ex;\n",
              "  color: var(--sklearn-color-text);\n",
              "  box-shadow: 2pt 2pt 4pt #999;\n",
              "  /* unfitted */\n",
              "  background: var(--sklearn-color-unfitted-level-0);\n",
              "  border: .5pt solid var(--sklearn-color-unfitted-level-3);\n",
              "}\n",
              "\n",
              ".sk-estimator-doc-link.fitted span {\n",
              "  /* fitted */\n",
              "  background: var(--sklearn-color-fitted-level-0);\n",
              "  border: var(--sklearn-color-fitted-level-3);\n",
              "}\n",
              "\n",
              ".sk-estimator-doc-link:hover span {\n",
              "  display: block;\n",
              "}\n",
              "\n",
              "/* \"?\"-specific style due to the `<a>` HTML tag */\n",
              "\n",
              "#sk-container-id-1 a.estimator_doc_link {\n",
              "  float: right;\n",
              "  font-size: 1rem;\n",
              "  line-height: 1em;\n",
              "  font-family: monospace;\n",
              "  background-color: var(--sklearn-color-background);\n",
              "  border-radius: 1rem;\n",
              "  height: 1rem;\n",
              "  width: 1rem;\n",
              "  text-decoration: none;\n",
              "  /* unfitted */\n",
              "  color: var(--sklearn-color-unfitted-level-1);\n",
              "  border: var(--sklearn-color-unfitted-level-1) 1pt solid;\n",
              "}\n",
              "\n",
              "#sk-container-id-1 a.estimator_doc_link.fitted {\n",
              "  /* fitted */\n",
              "  border: var(--sklearn-color-fitted-level-1) 1pt solid;\n",
              "  color: var(--sklearn-color-fitted-level-1);\n",
              "}\n",
              "\n",
              "/* On hover */\n",
              "#sk-container-id-1 a.estimator_doc_link:hover {\n",
              "  /* unfitted */\n",
              "  background-color: var(--sklearn-color-unfitted-level-3);\n",
              "  color: var(--sklearn-color-background);\n",
              "  text-decoration: none;\n",
              "}\n",
              "\n",
              "#sk-container-id-1 a.estimator_doc_link.fitted:hover {\n",
              "  /* fitted */\n",
              "  background-color: var(--sklearn-color-fitted-level-3);\n",
              "}\n",
              "</style><div id=\"sk-container-id-1\" class=\"sk-top-container\"><div class=\"sk-text-repr-fallback\"><pre>RandomForestClassifier(n_estimators=500)</pre><b>In a Jupyter environment, please rerun this cell to show the HTML representation or trust the notebook. <br />On GitHub, the HTML representation is unable to render, please try loading this page with nbviewer.org.</b></div><div class=\"sk-container\" hidden><div class=\"sk-item\"><div class=\"sk-estimator fitted sk-toggleable\"><input class=\"sk-toggleable__control sk-hidden--visually\" id=\"sk-estimator-id-1\" type=\"checkbox\" checked><label for=\"sk-estimator-id-1\" class=\"sk-toggleable__label fitted sk-toggleable__label-arrow\"><div><div>RandomForestClassifier</div></div><div><a class=\"sk-estimator-doc-link fitted\" rel=\"noreferrer\" target=\"_blank\" href=\"https://scikit-learn.org/1.6/modules/generated/sklearn.ensemble.RandomForestClassifier.html\">?<span>Documentation for RandomForestClassifier</span></a><span class=\"sk-estimator-doc-link fitted\">i<span>Fitted</span></span></div></label><div class=\"sk-toggleable__content fitted\"><pre>RandomForestClassifier(n_estimators=500)</pre></div> </div></div></div></div>"
            ]
          },
          "metadata": {},
          "execution_count": 37
        }
      ]
    },
    {
      "cell_type": "markdown",
      "source": [
        "Ahora evaluamos."
      ],
      "metadata": {
        "id": "2UiXXZC0dZnJ"
      }
    },
    {
      "cell_type": "code",
      "source": [
        "# Ejercicio 4\n",
        "y_pred = classifier.predict(X_test)\n",
        "accuracy_score(y_test, y_pred)"
      ],
      "metadata": {
        "colab": {
          "base_uri": "https://localhost:8080/"
        },
        "id": "HFefE8BGdftf",
        "outputId": "e73b319b-f3bc-4221-883c-0c8abf873c1b"
      },
      "execution_count": null,
      "outputs": [
        {
          "output_type": "execute_result",
          "data": {
            "text/plain": [
              "0.835"
            ]
          },
          "metadata": {},
          "execution_count": 38
        }
      ]
    },
    {
      "cell_type": "markdown",
      "source": [
        "Implementemos."
      ],
      "metadata": {
        "id": "6pCZ4cjxeuNH"
      }
    },
    {
      "cell_type": "code",
      "source": [
        "text = \"The movie was good. The animation and the graphics were out of this world. I would recommend this movie.\""
      ],
      "metadata": {
        "id": "W3WgMPcUew_D"
      },
      "execution_count": null,
      "outputs": []
    },
    {
      "cell_type": "code",
      "source": [
        "cf = make_pipeline(vectorizer, classifier)\n",
        "cf.predict_proba([text])"
      ],
      "metadata": {
        "colab": {
          "base_uri": "https://localhost:8080/"
        },
        "id": "euCcG2l8e1Ua",
        "outputId": "57ccc040-68da-4712-e644-4770aef567c9"
      },
      "execution_count": null,
      "outputs": [
        {
          "output_type": "execute_result",
          "data": {
            "text/plain": [
              "array([[0.328, 0.672]])"
            ]
          },
          "metadata": {},
          "execution_count": 40
        }
      ]
    },
    {
      "cell_type": "code",
      "source": [
        "text = \"The movie was awful! Worst movie I have seen!\"\n",
        "cf.predict_proba([text])"
      ],
      "metadata": {
        "colab": {
          "base_uri": "https://localhost:8080/"
        },
        "id": "0zgpv3EGfXDW",
        "outputId": "a57a362f-e2fa-452a-83e1-3446a891dc39"
      },
      "execution_count": null,
      "outputs": [
        {
          "output_type": "execute_result",
          "data": {
            "text/plain": [
              "array([[0.642, 0.358]])"
            ]
          },
          "metadata": {},
          "execution_count": 41
        }
      ]
    },
    {
      "cell_type": "markdown",
      "source": [
        "# Clasificación con Redes Neuronales Recurrentes\n",
        "\n",
        "Continuemos ahora con las RNNs."
      ],
      "metadata": {
        "id": "87v_rtpmaWxh"
      }
    },
    {
      "cell_type": "markdown",
      "metadata": {
        "id": "s5eWCo88voPY"
      },
      "source": [
        "## Codificación del texto"
      ]
    },
    {
      "cell_type": "markdown",
      "metadata": {
        "id": "TFevcItw15P_"
      },
      "source": [
        "En nuestro *dataset* tenemos texto crudo pero requerimos preprocesarlo. Una forma de hacer eso es mediante una capa de vectorización `TextVectorization` que reduce el texto utilizando un tamaño máximo de vocabulario que vamos a emplear. Este codificador tiene que \"adaptarse\" al texto, es decir, considerar todo el conjunto de entrenamiento para reducir a las 1000 palabras más comunes utilizando el método `.adapt`. Asimismo, hacemos un mapeo para sólo considerar los textos dentro del `.adapt`."
      ]
    },
    {
      "cell_type": "code",
      "execution_count": null,
      "metadata": {
        "id": "uC25Lu1Yvuqy"
      },
      "outputs": [],
      "source": [
        "VOCAB_SIZE = 1000\n",
        "encoder = tf.keras.layers.TextVectorization(\n",
        "    max_tokens=VOCAB_SIZE)\n",
        "encoder.adapt(train_dataset.map(lambda text, label: text))"
      ]
    },
    {
      "cell_type": "markdown",
      "metadata": {
        "id": "IuQzVBbe3Ldu"
      },
      "source": [
        "Veamos las palabras más frecuentes del vocabulario. Notemos que las palabras que son menos frecuentes serán asignadas con un *token* especial llamado [UNK]."
      ]
    },
    {
      "cell_type": "code",
      "execution_count": null,
      "metadata": {
        "id": "tBoyjjWg0Ac9",
        "outputId": "9f6fbe72-9811-4c67-c95d-eb381e48b1ac",
        "colab": {
          "base_uri": "https://localhost:8080/"
        }
      },
      "outputs": [
        {
          "output_type": "execute_result",
          "data": {
            "text/plain": [
              "array(['', '[UNK]', 'the', 'and', 'a', 'of', 'to', 'is', 'in', 'it', 'i',\n",
              "       'this', 'that', 'br', 'was', 'as', 'for', 'with', 'movie', 'but',\n",
              "       'film', 'on', 'not', 'you', 'are', 'his', 'have', 'he', 'be',\n",
              "       'one', 'its', 'at', 'all', 'by', 'an', 'they', 'from', 'who', 'so',\n",
              "       'like', 'her', 'just', 'or', 'about', 'has', 'if', 'out', 'some',\n",
              "       'there', 'what'], dtype='<U14')"
            ]
          },
          "metadata": {},
          "execution_count": 43
        }
      ],
      "source": [
        "vocab = np.array(encoder.get_vocabulary())\n",
        "vocab[:50]"
      ]
    },
    {
      "cell_type": "markdown",
      "metadata": {
        "id": "mjId5pua3jHQ"
      },
      "source": [
        "Veamos exactamente qué hace el codificador. Vamos a pasarle 3 textos que ya teníamos cargados en `example` (un lote)."
      ]
    },
    {
      "cell_type": "code",
      "source": [
        "for text_batch, label_batch in train_dataset.take(1):\n",
        "  print(text_batch[:3].numpy())"
      ],
      "metadata": {
        "colab": {
          "base_uri": "https://localhost:8080/"
        },
        "id": "DPkajBy0ll_d",
        "outputId": "e2930ac1-5419-4e72-c078-397f75fc7bc0"
      },
      "execution_count": null,
      "outputs": [
        {
          "output_type": "stream",
          "name": "stdout",
          "text": [
            "[b\"Words really can't describe how bad this film is. I thought Zandalee was bad, but at least that had some nice shots and the occasional good chin stroking moment here and there to stop you from nodding off. This is just laughable! Terrible script, poor direction, awful acting and you know what? I can't think of a single thing to recommend about it other than the fact that it isn't too long. If you want 100 minutes worth of entertainment, book yourself in at the dentist and have some root canal work - far more enjoyable and much better value for money (assuming that you need it!). Incidentally, I need to type 10 lines of text to complete this review - PLEASE DO NOT BUY THIS MOVIE. IT IS TERRIBLE!\"\n",
            " b'Marvelous cult film from 1979 in which the students of Vince Lombardi High School are confronted with a new, dictatorial principal named Miss Togar (Mary Woronov). Togar is a music hater and blames the musical tastes of the students for their transgressions. Leading the charge against her is fun-loving Riff Randell (P.J. Soles), the #1 Ramones fan who, more than anything, wants the rock group to record her songs.<br /><br />Now *this* is an impossible movie to resist. First and foremost, the soundtrack is incredible, with songs by such artists as Alice Cooper and the Velvet Underground in addition to the infectious non-stop assortment of Ramones songs. \"Teenage Lobotomy\", \"Sheena is a Punk Rocker\", and \"Blitzkrieg Bop\" are just a few of them. Next, the cast truly gives it their all, with Soles an ideal choice for the role of Riff; she is a true delight. Vincent Van Patten and Dey Young are earnest as Tom and Kate, Woronov is well cast against type as the snooty and disdainful Togar, Clint Howard has one of his best ever parts as washroom-occupying entrepreneur Eaglebauer, and New World regulars such as Dick Miller, Paul Bartel (particularly fun as music teacher Mr. McGree) and The Real Don Steele are fun as always. And, of course, it\\'s a treat to see The Ramones playing themselves.<br /><br />The movie has true spirit. The energy level is high, with co-story author and director Allan Arkush bringing a great deal of flair to the proceedings. There\\'s also a great sense of humor. The paper airplane gag is a superb example of this. This extends right to the \"wipe\" style of scene transitions. There are even hilarious giant mice created by future makeup effects notable Rob Bottin, in one of his earliest gigs.<br /><br />About as good as an authority-defying, defend-one\\'s-right-to-party film can get. \"Rock \\'n\\' Roll High School\" is, quite simply, a wonderful cult film.<br /><br />8/10'\n",
            " b\"This film was screen as part of the 2007 Sydney Mardi Gras Film Festival. I had no expectation of the film as someone else choose it for me.<br /><br />I actually like films that take time to develop, films that allow the characters to unfold and lets the story flow. Stillness is good. But this film though was just plain slow.<br /><br />Credit must go to the two main actors. There was a sense of tension between them as two totally different people, misfits really, come together in a very awkward way. There were tender moments and sadness as we learned more about them.<br /><br />I also liked the setting and the way it was shot. It was claustrophobic and monochrome and it added to the film's intimacy and reinforces the oddness of the characters.<br /><br />I just don't understand the ending. What was the point of it all?\"]\n"
          ]
        }
      ]
    },
    {
      "cell_type": "markdown",
      "source": [
        "Notemos que al aplicar el codificador convertimos a nuestros números en secuencias de números, donde cada número es un identificador de cada palabra o *token*. Dado que las oraciones no tienen la misma longitud, se la hace un *padding* de ceros al final para rellenar el espacio vacío. Es a partir de este momento que identificamos la noción de *token*, una unidad mínima de representación del texto, que coloquialmente corresponde a las palabras y en este caso es casi exactamente lo mismo que una palabra, exceptuando que ciertos espacios y los [UNK]'s no son exactamente palabras."
      ],
      "metadata": {
        "id": "xtk-POS2mio8"
      }
    },
    {
      "cell_type": "code",
      "source": [
        "example = text_batch[:3].numpy()\n",
        "example"
      ],
      "metadata": {
        "colab": {
          "base_uri": "https://localhost:8080/"
        },
        "id": "1VRCE3yrcCh-",
        "outputId": "847b62cd-7304-4458-c747-7f3d7284a7d7"
      },
      "execution_count": null,
      "outputs": [
        {
          "output_type": "execute_result",
          "data": {
            "text/plain": [
              "array([b\"Words really can't describe how bad this film is. I thought Zandalee was bad, but at least that had some nice shots and the occasional good chin stroking moment here and there to stop you from nodding off. This is just laughable! Terrible script, poor direction, awful acting and you know what? I can't think of a single thing to recommend about it other than the fact that it isn't too long. If you want 100 minutes worth of entertainment, book yourself in at the dentist and have some root canal work - far more enjoyable and much better value for money (assuming that you need it!). Incidentally, I need to type 10 lines of text to complete this review - PLEASE DO NOT BUY THIS MOVIE. IT IS TERRIBLE!\",\n",
              "       b'Marvelous cult film from 1979 in which the students of Vince Lombardi High School are confronted with a new, dictatorial principal named Miss Togar (Mary Woronov). Togar is a music hater and blames the musical tastes of the students for their transgressions. Leading the charge against her is fun-loving Riff Randell (P.J. Soles), the #1 Ramones fan who, more than anything, wants the rock group to record her songs.<br /><br />Now *this* is an impossible movie to resist. First and foremost, the soundtrack is incredible, with songs by such artists as Alice Cooper and the Velvet Underground in addition to the infectious non-stop assortment of Ramones songs. \"Teenage Lobotomy\", \"Sheena is a Punk Rocker\", and \"Blitzkrieg Bop\" are just a few of them. Next, the cast truly gives it their all, with Soles an ideal choice for the role of Riff; she is a true delight. Vincent Van Patten and Dey Young are earnest as Tom and Kate, Woronov is well cast against type as the snooty and disdainful Togar, Clint Howard has one of his best ever parts as washroom-occupying entrepreneur Eaglebauer, and New World regulars such as Dick Miller, Paul Bartel (particularly fun as music teacher Mr. McGree) and The Real Don Steele are fun as always. And, of course, it\\'s a treat to see The Ramones playing themselves.<br /><br />The movie has true spirit. The energy level is high, with co-story author and director Allan Arkush bringing a great deal of flair to the proceedings. There\\'s also a great sense of humor. The paper airplane gag is a superb example of this. This extends right to the \"wipe\" style of scene transitions. There are even hilarious giant mice created by future makeup effects notable Rob Bottin, in one of his earliest gigs.<br /><br />About as good as an authority-defying, defend-one\\'s-right-to-party film can get. \"Rock \\'n\\' Roll High School\" is, quite simply, a wonderful cult film.<br /><br />8/10',\n",
              "       b\"This film was screen as part of the 2007 Sydney Mardi Gras Film Festival. I had no expectation of the film as someone else choose it for me.<br /><br />I actually like films that take time to develop, films that allow the characters to unfold and lets the story flow. Stillness is good. But this film though was just plain slow.<br /><br />Credit must go to the two main actors. There was a sense of tension between them as two totally different people, misfits really, come together in a very awkward way. There were tender moments and sadness as we learned more about them.<br /><br />I also liked the setting and the way it was shot. It was claustrophobic and monochrome and it added to the film's intimacy and reinforces the oddness of the characters.<br /><br />I just don't understand the ending. What was the point of it all?\"],\n",
              "      dtype=object)"
            ]
          },
          "metadata": {},
          "execution_count": 63
        }
      ]
    },
    {
      "cell_type": "code",
      "execution_count": null,
      "metadata": {
        "id": "RGc7C9WiwRWs",
        "outputId": "1fc9ab3b-78b4-4ec0-9097-7a3c7a2bb8ad",
        "colab": {
          "base_uri": "https://localhost:8080/"
        }
      },
      "outputs": [
        {
          "output_type": "execute_result",
          "data": {
            "text/plain": [
              "array([[694,  63, 175,   1,  87,  84,  11,  20,   7,  10, 199,   1,  14,\n",
              "         84,  19,  31, 212,  12,  67,  47, 317, 640,   3,   2,   1,  50,\n",
              "          1,   1, 552, 132,   3,  48,   6, 608,  23,  36,   1, 127,  11,\n",
              "          7,  41,   1, 384, 225, 330, 463, 381, 112,   3,  23, 118,  49,\n",
              "         10, 175, 103,   5,   4, 687, 151,   6, 368,  43,   9,  81,  71,\n",
              "          2, 185,  12,   9, 207, 100, 206,  45,  23, 178,   1, 233, 277,\n",
              "          5, 728, 271, 626,   8,  31,   2,   1,   3,  26,  47,   1,   1,\n",
              "        161, 234,  52, 736,   3,  73, 125,   1,  16, 276,   1,  12,  23,\n",
              "        341,   9,   1,  10, 341,   6, 584, 302, 406,   5,   1,   6, 573,\n",
              "         11, 730, 583,  82,  22, 796,  11,  18,   9,   7, 384,   0,   0,\n",
              "          0,   0,   0,   0,   0,   0,   0,   0,   0,   0,   0,   0,   0,\n",
              "          0,   0,   0,   0,   0,   0,   0,   0,   0,   0,   0,   0,   0,\n",
              "          0,   0,   0,   0,   0,   0,   0,   0,   0,   0,   0,   0,   0,\n",
              "          0,   0,   0,   0,   0,   0,   0,   0,   0,   0,   0,   0,   0,\n",
              "          0,   0,   0,   0,   0,   0,   0,   0,   0,   0,   0,   0,   0,\n",
              "          0,   0,   0,   0,   0,   0,   0,   0,   0,   0,   0,   0,   0,\n",
              "          0,   0,   0,   0,   0,   0,   0,   0,   0,   0,   0,   0,   0,\n",
              "          0,   0,   0,   0,   0,   0,   0,   0,   0,   0,   0,   0,   0,\n",
              "          0,   0,   0,   0,   0,   0,   0,   0,   0,   0,   0,   0,   0,\n",
              "          0,   0,   0,   0,   0,   0,   0,   0,   0,   0,   0,   0,   0,\n",
              "          0,   0,   0,   0,   0,   0,   0,   0,   0,   0,   0,   0,   0,\n",
              "          0,   0,   0,   0,   0,   0,   0,   0,   0,   0,   0,   0,   0,\n",
              "          0,   0,   0,   0,   0,   0,   0,   0,   0,   0,   0,   0,   0,\n",
              "          0,   0,   0,   0,   0,   0,   0,   0,   0,   0,   0,   0,   0,\n",
              "          0,   0,   0,   0,   0,   0,   0,   0],\n",
              "       [  1,   1,  20,  36,   1,   8,  60,   2,   1,   5,   1,   1, 322,\n",
              "        400,  24,   1,  17,   4, 155,   1,   1, 753, 714,   1,   1,   1,\n",
              "          1,   7,   4, 223,   1,   3,   1,   2, 619,   1,   5,   2,   1,\n",
              "         16,  65,   1, 944,   2,   1, 416,  40,   7,   1,   1,   1,   1,\n",
              "          1,   2, 470,   1, 331,  37,  52,  71, 229, 471,   2, 744, 579,\n",
              "          6,   1,  40,   1,  13, 150,  11,   7,  34,   1,  18,   6,   1,\n",
              "         86,   3,   1,   2, 800,   7,   1,  17, 678,  33, 136,   1,  15,\n",
              "          1,   1,   3,   2,   1,   1,   8,   1,   6,   2,   1,   1,   1,\n",
              "          5,   1, 678,   1,   1,   1,   7,   4,   1,   1,   3,   1,   1,\n",
              "         24,  41,   4, 164,   5,  98, 367,   2, 177, 353, 388,   9,  65,\n",
              "         32,  17,   1,  34,   1,   1,  16,   2, 214,   5,   1,  55,   7,\n",
              "          4, 281,   1,   1,   1,   1,   3,   1, 182,  24,   1,  15, 809,\n",
              "          3,   1,   1,   7,  74, 177, 416, 584,  15,   2,   1,   3,   1,\n",
              "          1,   1,   1,  44,  29,   5,  25, 115, 122, 510,  15,   1,   1,\n",
              "          1,   3, 155, 188,   1, 136,  15,   1,   1, 713,   1, 558, 250,\n",
              "         15, 223,   1, 436,   1,   3,   2, 146,   1,   1,  24, 250,  15,\n",
              "        203,   3,   5, 259,  30,   4,   1,   6,  68,   2,   1, 380,   1,\n",
              "         13,   2,  18,  44, 281,   1,   2,   1, 680,   7, 322,  17,   1,\n",
              "          1,   3, 172,   1,   1,   1,   4,  85, 837,   5,   1,   6,   2,\n",
              "          1, 213,  79,   4,  85, 278,   5, 484,   2,   1,   1,   1,   7,\n",
              "          4, 895, 454,   5,  11,  11,   1, 205,   6,   2,   1, 430,   5,\n",
              "        135,   1,  48,  24,  54, 650,   1,   1,   1,  33, 710,   1, 303,\n",
              "          1,   1,   1,   8,  29,   5,  25,   1,   1,  13,  43,  15,  50,\n",
              "         15,  34,   1,   1,  20,  69,  76, 744,   1,   1, 322, 400,   7,\n",
              "        176, 316,   4, 374,   1, 739,  13,   1],\n",
              "       [ 11,  20,  14, 293,  15, 171,   5,   2,   1,   1,   1,   1,  20,\n",
              "          1,  10,  67,  57,   1,   5,   2,  20,  15, 283, 329,   1,   9,\n",
              "         16,   1,  13,  10, 157,  39,  95,  12, 189,  62,   6,   1,  95,\n",
              "         12,   1,   2, 102,   6,   1,   3, 599,   2,  64,   1,   1,   7,\n",
              "         50,  19,  11,  20, 149,  14,  41,   1,   1,  13,   1, 217, 138,\n",
              "          6,   2, 105, 274, 152,  48,  14,   4, 278,   5,   1, 193,  98,\n",
              "         15, 105, 467, 267,  83,   1,  63, 209, 295,   8,   4,  53,   1,\n",
              "         97,  48,  66,   1, 379,   3,   1,  15,  72,   1,  52,  43,   1,\n",
              "         13,  10,  79, 405,   2, 961,   3,   2,  97,   9,  14, 319,   9,\n",
              "         14,   1,   3,   1,   3,   9,   1,   6,   2,  95,   1,   3,   1,\n",
              "          2,   1,   5,   2,   1,  13,  10,  41,  90, 373,   2, 282,  49,\n",
              "         14,   2, 215,   5,   9,  32,   0,   0,   0,   0,   0,   0,   0,\n",
              "          0,   0,   0,   0,   0,   0,   0,   0,   0,   0,   0,   0,   0,\n",
              "          0,   0,   0,   0,   0,   0,   0,   0,   0,   0,   0,   0,   0,\n",
              "          0,   0,   0,   0,   0,   0,   0,   0,   0,   0,   0,   0,   0,\n",
              "          0,   0,   0,   0,   0,   0,   0,   0,   0,   0,   0,   0,   0,\n",
              "          0,   0,   0,   0,   0,   0,   0,   0,   0,   0,   0,   0,   0,\n",
              "          0,   0,   0,   0,   0,   0,   0,   0,   0,   0,   0,   0,   0,\n",
              "          0,   0,   0,   0,   0,   0,   0,   0,   0,   0,   0,   0,   0,\n",
              "          0,   0,   0,   0,   0,   0,   0,   0,   0,   0,   0,   0,   0,\n",
              "          0,   0,   0,   0,   0,   0,   0,   0,   0,   0,   0,   0,   0,\n",
              "          0,   0,   0,   0,   0,   0,   0,   0,   0,   0,   0,   0,   0,\n",
              "          0,   0,   0,   0,   0,   0,   0,   0,   0,   0,   0,   0,   0,\n",
              "          0,   0,   0,   0,   0,   0,   0,   0,   0,   0,   0,   0,   0,\n",
              "          0,   0,   0,   0,   0,   0,   0,   0]])"
            ]
          },
          "metadata": {},
          "execution_count": 64
        }
      ],
      "source": [
        "encoded_example = encoder(example)[:3].numpy()\n",
        "encoded_example"
      ]
    },
    {
      "cell_type": "markdown",
      "metadata": {
        "id": "F5cjz0bS39IN"
      },
      "source": [
        "Este proceso no es reversible del todo, principalmente porque:\n",
        "1. Hay un preprocesamiento que convierte las palabras a minúsculas y remueve los signos de puntuación. Esto porque el valor default del argumento `standardize` de `preprocessing.TextVectorization` es `\"lower_and_strip_punctuation\"`.\n",
        "2. Hemos reducido el vocabulario a 1000 palabras comunes. Por lo tanto, habrán muchas palabras convertidas a [UNK] que desconoceremos su valor.\n",
        "\n",
        "Nota: un modelo de lenguaje puede revertir eso, pero con cierta probabilidad y si ya tenemos un modelo de lenguaje lo bastante grande, ya no necesitamos nuestros [UNK]'s."
      ]
    },
    {
      "cell_type": "code",
      "execution_count": null,
      "metadata": {
        "id": "N_tD0QY5wXaK",
        "outputId": "db4b5cc2-ae82-48b3-fda9-a090b36fbe57",
        "colab": {
          "base_uri": "https://localhost:8080/"
        }
      },
      "outputs": [
        {
          "output_type": "stream",
          "name": "stdout",
          "text": [
            "Original:  b\"Words really can't describe how bad this film is. I thought Zandalee was bad, but at least that had some nice shots and the occasional good chin stroking moment here and there to stop you from nodding off. This is just laughable! Terrible script, poor direction, awful acting and you know what? I can't think of a single thing to recommend about it other than the fact that it isn't too long. If you want 100 minutes worth of entertainment, book yourself in at the dentist and have some root canal work - far more enjoyable and much better value for money (assuming that you need it!). Incidentally, I need to type 10 lines of text to complete this review - PLEASE DO NOT BUY THIS MOVIE. IT IS TERRIBLE!\"\n",
            "Revertida:  words really cant [UNK] how bad this film is i thought [UNK] was bad but at least that had some nice shots and the [UNK] good [UNK] [UNK] moment here and there to stop you from [UNK] off this is just [UNK] terrible script poor direction awful acting and you know what i cant think of a single thing to recommend about it other than the fact that it isnt too long if you want [UNK] minutes worth of entertainment book yourself in at the [UNK] and have some [UNK] [UNK] work far more enjoyable and much better [UNK] for money [UNK] that you need it [UNK] i need to type 10 lines of [UNK] to complete this review please do not buy this movie it is terrible                                                                                                                                                                                                \n",
            "\n",
            "Original:  b'Marvelous cult film from 1979 in which the students of Vince Lombardi High School are confronted with a new, dictatorial principal named Miss Togar (Mary Woronov). Togar is a music hater and blames the musical tastes of the students for their transgressions. Leading the charge against her is fun-loving Riff Randell (P.J. Soles), the #1 Ramones fan who, more than anything, wants the rock group to record her songs.<br /><br />Now *this* is an impossible movie to resist. First and foremost, the soundtrack is incredible, with songs by such artists as Alice Cooper and the Velvet Underground in addition to the infectious non-stop assortment of Ramones songs. \"Teenage Lobotomy\", \"Sheena is a Punk Rocker\", and \"Blitzkrieg Bop\" are just a few of them. Next, the cast truly gives it their all, with Soles an ideal choice for the role of Riff; she is a true delight. Vincent Van Patten and Dey Young are earnest as Tom and Kate, Woronov is well cast against type as the snooty and disdainful Togar, Clint Howard has one of his best ever parts as washroom-occupying entrepreneur Eaglebauer, and New World regulars such as Dick Miller, Paul Bartel (particularly fun as music teacher Mr. McGree) and The Real Don Steele are fun as always. And, of course, it\\'s a treat to see The Ramones playing themselves.<br /><br />The movie has true spirit. The energy level is high, with co-story author and director Allan Arkush bringing a great deal of flair to the proceedings. There\\'s also a great sense of humor. The paper airplane gag is a superb example of this. This extends right to the \"wipe\" style of scene transitions. There are even hilarious giant mice created by future makeup effects notable Rob Bottin, in one of his earliest gigs.<br /><br />About as good as an authority-defying, defend-one\\'s-right-to-party film can get. \"Rock \\'n\\' Roll High School\" is, quite simply, a wonderful cult film.<br /><br />8/10'\n",
            "Revertida:  [UNK] [UNK] film from [UNK] in which the [UNK] of [UNK] [UNK] high school are [UNK] with a new [UNK] [UNK] named miss [UNK] [UNK] [UNK] [UNK] is a music [UNK] and [UNK] the musical [UNK] of the [UNK] for their [UNK] leading the [UNK] against her is [UNK] [UNK] [UNK] [UNK] [UNK] the 1 [UNK] fan who more than anything wants the rock group to [UNK] her [UNK] br now this is an [UNK] movie to [UNK] first and [UNK] the soundtrack is [UNK] with songs by such [UNK] as [UNK] [UNK] and the [UNK] [UNK] in [UNK] to the [UNK] [UNK] [UNK] of [UNK] songs [UNK] [UNK] [UNK] is a [UNK] [UNK] and [UNK] [UNK] are just a few of them next the cast truly gives it their all with [UNK] an [UNK] [UNK] for the role of [UNK] she is a true [UNK] [UNK] [UNK] [UNK] and [UNK] young are [UNK] as tom and [UNK] [UNK] is well cast against type as the [UNK] and [UNK] [UNK] [UNK] [UNK] has one of his best ever parts as [UNK] [UNK] [UNK] and new world [UNK] such as [UNK] [UNK] paul [UNK] particularly fun as music [UNK] mr [UNK] and the real [UNK] [UNK] are fun as always and of course its a [UNK] to see the [UNK] playing [UNK] br the movie has true [UNK] the [UNK] level is high with [UNK] [UNK] and director [UNK] [UNK] [UNK] a great deal of [UNK] to the [UNK] theres also a great sense of humor the [UNK] [UNK] [UNK] is a superb example of this this [UNK] right to the [UNK] style of scene [UNK] there are even hilarious [UNK] [UNK] [UNK] by future [UNK] effects [UNK] [UNK] [UNK] in one of his [UNK] [UNK] br about as good as an [UNK] [UNK] film can get rock [UNK] [UNK] high school is quite simply a wonderful [UNK] filmbr br [UNK]\n",
            "\n",
            "Original:  b\"This film was screen as part of the 2007 Sydney Mardi Gras Film Festival. I had no expectation of the film as someone else choose it for me.<br /><br />I actually like films that take time to develop, films that allow the characters to unfold and lets the story flow. Stillness is good. But this film though was just plain slow.<br /><br />Credit must go to the two main actors. There was a sense of tension between them as two totally different people, misfits really, come together in a very awkward way. There were tender moments and sadness as we learned more about them.<br /><br />I also liked the setting and the way it was shot. It was claustrophobic and monochrome and it added to the film's intimacy and reinforces the oddness of the characters.<br /><br />I just don't understand the ending. What was the point of it all?\"\n",
            "Revertida:  this film was screen as part of the [UNK] [UNK] [UNK] [UNK] film [UNK] i had no [UNK] of the film as someone else [UNK] it for [UNK] br i actually like films that take time to [UNK] films that [UNK] the characters to [UNK] and lets the story [UNK] [UNK] is good but this film though was just [UNK] [UNK] br [UNK] must go to the two main actors there was a sense of [UNK] between them as two totally different people [UNK] really come together in a very [UNK] way there were [UNK] moments and [UNK] as we [UNK] more about [UNK] br i also liked the setting and the way it was shot it was [UNK] and [UNK] and it [UNK] to the films [UNK] and [UNK] the [UNK] of the [UNK] br i just dont understand the ending what was the point of it all                                                                                                                                                                           \n",
            "\n"
          ]
        }
      ],
      "source": [
        "for n in range(3):\n",
        "  print(\"Original: \", example[n])\n",
        "  print(\"Revertida: \", \" \".join(vocab[encoded_example[n]]))\n",
        "  print()"
      ]
    },
    {
      "cell_type": "code",
      "source": [
        "list(train_dataset.take(1))"
      ],
      "metadata": {
        "id": "_WiPCiGjBGE6",
        "outputId": "41d804e4-7765-439e-ef39-34b38024aca8",
        "colab": {
          "base_uri": "https://localhost:8080/"
        }
      },
      "execution_count": null,
      "outputs": [
        {
          "output_type": "execute_result",
          "data": {
            "text/plain": [
              "[(<tf.Tensor: shape=(64,), dtype=string, numpy=\n",
              "  array([b\"It seems to be a perfect day for swimming. A normal family wants to gain advantage from it and takes a trip to the beach. Unfortunately it happens that the father is trapped under a pier and neither his wife nor the small son is able to help him out of this - whereas the tide is rising. The woman (Barbara Stanwyck) takes the car and searches for help.<br /><br />John Sturges' short movie (69 minutes) is powerful because of unanswered questions. Stanwyck finds a guy who could help, but there is a price she has to pay for this. There is a double question the movie poses. How far would you go to help the man that you love, and on the other hand - observing Stanwyck's behaviors towards the stranger - does she really love her husband? Like a good short story this movie leaves the viewer to himself with questions he can only answer himself.\",\n",
              "         b\"This movie pretty much sucked. I'm in the Army and the soldiers depicted in this movie are horrible. If your in the Military and you see this movie you'll laugh and be upset the entire movie because of the way they acted as a squad. It was ridiculous. They acted like a bunch of normal people with Army uniforms on not knowing what to do. It was a pretty gory movie I'd have to say the least. There was a couple scenes where they try to make you jump. I'd recommend seeing it if you are bored and want to see a violent, gory movie. It will be a better movie also if your not in the Military. I also would have to say I liked the first one better than this one.\",\n",
              "         b\"I happily admit that I'm a sucker for a beautiful film, and sufficiently inventive camera movements and angles can be enough to keep my interest in a fairly long film. Not one the length of Gojoe though, even though it had some of the most remarkable cinematography I've seen since the Korean period piece MUSA. However, Gojoe provides far more than just beautiful images (as does MUSA... don't which to imply a contrast) - it's second greatest strength is superb acting, and a fascinating story with some very dark philosophy. I must admit to being quite unsure what the point was it was trying to make in the end, but it definitely provokes some thoughts along the way. Vague ones, but definitely thoughts :p<br /><br />One department in which the film could have been better is the action. There's a tremendous amount of bloodletting in the film, but the action is all filmed with hyperkinetic close-ups, and frequently obscured by objects in the foreground. It does create some very intense and impressive visuals, but it would have been nice to see some more actual moves, something to make it more believable that the villains could just wade through entire armies laying waste to everyone.<br /><br />Still, the film is definitely one of the most interesting and most beautiful films I've seen for quite some time. Recommended!\",\n",
              "         b'-=contains spoiler from both original and movie versions=-<br /><br />i am a huge fan of Notre dame De Paris musical,i also read book this summer and i watched movie today,in the beginning i was hopeful to watch a good film especially when i saw 6.3 IMDb point.first scenes were good but i actually waited for,theaters scene directly from book,but it was normal but when Esmeralda kisses gringoire i felt something is wrong..they don\\'t even kiss in book,even in musical..<br /><br />and there were huge gap why Esmeralda being judged by sorcerer,in the book she teaches her goat how to respond numbers of clock or write word \"phoebus\".. wait there were a phoebus weren\\'t there? in this movie he is some soldier junk nothing more,the creators made Quasimodo\\'s love to show around and they even canceled Frollo\\'s love..but Notre dame was frollo. his thoughts his struggles between love of god and love of human in movie we cant find anything like that all we have is,some villain who is really bad and kills people whose clashes with his thoughts..and not mentioning phoebus,not mentioning love of frollo,not mentioning jehan (brother of frollo) not mentioning mother of Esmeralda (maybe it is OK,the storyline would have chopped much)they even not mentioned the real story.. (another PS:frollo wasn\\'t a opus dei or some cult member he actually in interest with alchemy he tries to make gold..he was stuck in science and religion)<br /><br />finally don\\'t watch this movie,it is some kind of directors edition to real masterpiece,and if you have watched it before read the book,god have mercy on you..you must read to book immediately..<br /><br />this movie is worse than hunchback of Notre dame II the animated movie,spend your time with watching Notre dame De Paris musical.. enough said..',\n",
              "         b'EUROPA (ZENTROPA) is a masterpiece that gives the viewer the excitement that must have come with the birth of the narrative film nearly a century ago. This film is truly unique, and a work of genius. The camerawork and the editing are brilliant, and combined with the narrative tropes of alienation used in the film, creates an eerie and unforgettable cinematic experience.<br /><br />The participation of Barbara Suwkowa and Eddie Constantine in the cast are two guilty pleasures that should be seen and enjoyed. Max Von Sydow provides his great voice as the narrator.<br /><br />A one of a kind movie! Four stars (highest rating).',\n",
              "         b'This film was not only one of John Ford\\'s own personal favorites but also numbered directors Sergei M. Eisenstein and Bertrand Tavernier among its high-profile admirers. Ironically, I\\'ve just caught up with it myself via Criterion\\'s recent 2-Disc Set after missing out on a couple of original language screenings of it on Italian TV many years ago and again a few times on TV while in Hollywood! <br /><br />The film marked Ford\\'s first of nine collaborations with Henry Fonda and is also a quintessential example of Ford\\'s folksy Americana vein. A beautifully made and pictorially quite poetic piece of work, the courtroom sequences (and eventual revelation) in its second half still pack quite a wallop, apart from giving stalwart character actor Donald Meek a memorably meaty role as the prosecuting attorney.<br /><br />Fonda is, of course, perfectly cast as a bashful, inexperienced but rigorous and humanistic lawyer who was destined to become President; Fonda would go on to portray other fictitious politicians on film - most notably in Franklin J. Schaffner\\'s THE BEST MAN (1964) and Sidney Lumet\\'s FAIL-SAFE (1964) - and it\\'s surprising now to learn that he was reluctant at the time about accepting the role of Lincoln since, in his view, that was \"like playing God\"! <br /><br />It is interesting to note here that Ford had previously tackled Abraham Lincoln (tangentially) in THE PRISONER OF SHARK ISLAND (1936), a superb but perhaps little-known gem which has, luckily, just been released as a Special Edition DVD by the UK\\'s veritable Criterion stand-in, Eureka\\'s \"Masters Of Cinema\" label. Besides, I also have two more Abraham Lincoln films in my DVD collection which I\\'ve yet to watch and, incidentally, both were directed by D. W. Griffith - THE BIRTH OF A NATION (1915) and ABRAHAM LINCOLN (1930) - and, had I not just received a bunch of films I\\'ve never watched before just now, I would have gladly given them a spin based on my highly-satisfying viewing experience with YOUNG MR. LINCOLN.',\n",
              "         b\"Released two years before I was born, this Oscar-winning movie has it all - lavish Technicolor sets and costumes, breathtaking cinematography, superb wall-to-wall Gershwin music, superior choreography, a lighter-than-air screenplay, and great performances by Kelly, Levant, Foch, Guetary, and Caron. Hollywood doesn't make 'em like this anymore. Definitely, this is my favorite movie of all time, a standard by which I judge all other films. ENJOY, ENJOY, ENJOY!\",\n",
              "         b'Not that many films have truly exploited the fear of going to the dentist that many people have. Those in the profession have some genuinely intimidating looking instruments. Give writers Dennis Paoli, Stuart Gordon, and Charles Finch for deriving maximum make-you- squirm-in-your-seat shock value from their premise.<br /><br />Corbin Bernsen, in a nicely nuanced performance, is Alan Feinstone, dedicated dentist whose train jumps off the tracks early on. An unbalanced obsessive-compulsive, he starts dwelling on thoughts of decay, even imagining it where there isn\\'t any, and also equating decay with corruption of society in general. Having witnessed his unfaithful wife Brooke (Linda Hoffman) getting it on with their pool boy, he determines to punish her. At the same time, he\\'s under pressure from a smarmy I.R.S. agent (Earl Boen, best known as Dr. Silberman from the \"Terminator\" franchise) to do a favor in exchange for the agent keeping his mouth shut about Feinstone\\'s financial affairs. Feinstone starts to perceive everybody around him as decayed in one way or another, and he goes on a murder spree as police detective Gibbs (the always welcome Ken Foree) picks up his trail.<br /><br />Director Brian Yuzna clearly has great fun with the script. It allows for some genuinely nasty and remarkably entertaining gore scenes that do just as well as creating sympathy for the victims as thrilling the audience. The script gives the Feinstone character some fine lines of dialog and is overall quite sly and amusing, with large doses of pitch-black humor (such as Feinstone ordering a victim to \"get their tongue out of the way!\"). Brooke and the I.R.S. agent figure in particularly effective torture scenes. The makeup effects are for the most part quite good. And the film does a fine job of maintaining its forward momentum, as Feinstone, with his relentless drive for perfection, switches from respected professional to unhinged killer in record time.<br /><br />Foree, always cool and fun to watch, is rather wasted in a standard-issue detective role, but there\\'s some enjoyment in watching Boen play his slimeball part to the hilt. Hoffman and Christa Sauls provide very appealing eye candy. And a pre-fame Mark Ruffalo can be seen in a small supporting role. But this is all very much Bernsen\\'s show as he sinks his teeth (pardon me for using that expression) into his plum leading part with total conviction.<br /><br />\"The Dentist\" ranks as one of the more original and interesting horror films to come out of the 1990\\'s.<br /><br />8/10',\n",
              "         b\"No reason to bother renting this flick. From the opening credits on, I knew I was in trouble.<br /><br />It was filmed as though it was a soft porn movie, but there really isn't anything erotic about it. The look into the world of sex addiction is intriguing, but only to a point.<br /><br />Boring sex scenes, bad plot, and cameos by Ed Begley Jr. and Rosanna Arquette aren't enough to save this film.\",\n",
              "         b\"...the first film I had to walk out on. And it was the cast and crew pre-screening (Not that I was involved, I hasten to add). I made it through the first hour, so I reckon I'm just qualified to comment, but that was my limit.<br /><br />Like other comments here, how did this get through any kind of QA. An accumulation of the very worst in dialogue, the epitome of wooden acting, awful casting, all wrapped together without a plot.<br /><br />Tara Fitzgerald's casting was bizarre, almost comic. She possesses the worst Russian accent in movie history.<br /><br />As I left the screening, the director and producers were drinking in a bar outside the cinema. They obviously couldn't sit through it again either.<br /><br />\",\n",
              "         b\"Una giornata particolare is a film which has made brilliant use of closed spaces.It is in these dull,empty spaces that the audience sees the emotional turmoil and boisterous outbursts of Ettore Scola's two leading characters.Marcello Mastroianni and Sophia Loren play two frustrated individuals who decide to come together for some brief moments of their listless lives.It is the element of sadness associated with the narrative that makes us believe that people will take sides with characters close to them.All men would really feel sorry for Sophia Loren's character.All women would surely cry their hearts out at Marcello Mastroianni's existential plight.Disguised sexualities are also one of the key issues of this somber,poignant film.Most of the characters grapple with issues related to their own sexualities.Una giornata particolare cannot be termed as a pro gay film although it has been nicely depicted that a homosexual chap mixes well with women.This is a film for which Italian director Ettore Scola has crafted a fairly good mix of fact and fiction.His idea is to show how the arrival of Hitler changed destinies of ordinary Italian folks.A word about the courageous personnage played magnificently by great Marcello Mastroianni.He acts as a real man who does not beg for pity.He happily accepts his fate and readies himself to face the worst time of his short yet meaningful life.A true masterpiece of cinema !!!\",\n",
              "         b'I have seen many, many productions of The Nutcracker. Now perhaps I viewed this movie from the tainted point of view of a theatrical director, but I was disappointed. I\\'m sure people in the specific business of ballet choreography find this production impressive but from a purely theatrical perspective I found everything from design to choreography to be lackluster and unbefitting of a \"motion picture\". None of the traditionally \"weird\" and impressive costumes looked like what they were supposed to be (i.e. the candies didn\\'t look like candies, the rats didn\\'t look like rats but rather like chocolate kisses,) the acting was weak, perhaps toned down too much for the screen, and the choreography just didn\\'t do anything for me. This makes the entire show very satisfactory (at best), as if it were intended to not set itself apart from any other production. But remember, again, this is from the artistic perspective of a theatrical director, not a dancer or a choreographer, but a straight male theatrical director.',\n",
              "         b'There are some elements that save this movie from being a total catastrophe, but are overshadowed with bad acting, plot holes, deus ex machina thrown ins, stupid dialogs, weak script, and predictable clich\\xc3\\xa9s...<br /><br />What we have here is a horror movie with a storyline that goes nowhere for most of the time. A group of unlikely heroes including a black guy that gets it first (yeah, that clich\\xc3\\xa9 seems to be still very much alive even in Finland), seem to have trouble trying to exit a mysteriously empty hospital. There are shrieking ghosts (very imaginative), zombies (at one point I thought at least they didn\\'t use zombies, but they came), and Finnish glam-rock band with demonic make-up on, getting in their way. There is also some time-shift doodle present, but it adds up nothing to the storyline. Autistic girl and a hobo seem to have some deeper understanding of a situation, but they never spell it out to the viewer, or their confused friends. Their lines consist only of profound life lesson thoughts like: \"What happens will happen...\" or \"Light can\\'t live in the darkness...\" or the ominous \"I need a red crayon... red crayon.\" So all this characters (including worried father and sweet doctor in distress types) end up doing is running around them dark floors, and from or mistakenly to the demons. Occasionally a ghost or a group of zombies show up, and if it seems a demon keyboardist can\\'t spot a group of six people coming towards it, waving a flashlight and conversing, it was just pretending. And apparently this demon can break through walls without much hassle, but opening elevator door is beyond its capabilities.<br /><br />In the end we even get a \"it was all a dream\" sequence twist. Or maybe it wasn\\'t. Oh, boy I wish this movie was, and that kind that makes time seem to move faster so it all plays out in just 10 minutes or so...',\n",
              "         b'Words can\\'t simply describe how awful this film is. I watched it on video last night, and I simply could not believe what I was seeing. Basically, \"Snakeeater\" is about an ex-military man (Lorenzo Lamas) and his search for his kidnapped sister who has been held captive by Deliverance-style Rednecks. The film\\'s acting, writing, direction, photography, and editing are deplorable along with a song called \"Soldier\" that has to be one of the worst theme songs of all time!<br /><br />However, there is one treat. \"Horshack\" (Ron Pallio) from \"Welcome Back Carter\" is in the film playing a laughable bad guy. Otherwise, please avoid this mess at ALL COSTS.',\n",
              "         b'When the remake of When A Stranger Calls was out, obviously I was interested in watching the original. Then when I read about the original (which I recall had my sisters totally freaked out back in the day) I saw that the real money is on Black Christmas, which apparently beat everyone to the \"the caller is in the house\" punch. So I Netflix that, and it sits at the top of my list for months due to its \"very long wait.\" All this time I am getting more and more eager to see it! Then one day, out of the blue, it finally arrives! ...And it\\'s a total snore.<br /><br />Sure, maybe I had elevated expectations, but I don\\'t think it would have gained more had I seen it fresh. The thing is it\\'s Christmas in some Canadian college town, and there\\'s this sorority having a party. We see some killer-POV shots as he climbs this trellis and sneaks into the attic. So we KNOW he\\'s in the house. Then we\\'re introduced to our characters\\xc2\\x97-Olivia Hussey as the mousy, whiny, Canadian-accented Jess. Margot Kidder as the annoying, overtly aggressive alcoholic Barb. She\\'s so annoying even her mother dis-invites her for her Christmas festivities. There\\'s also this irritating Janis Ian clone (\"Phil\") and this alcoholic den mother Mrs. Mac, seen taking nips from the various bottles of booze she has stashed all over the house. We also meet Jess\\'s highly-strung boyfriend Peter, played by Keir Dullea of 2001 and Bunny Lake is Missing fame, though halfway through the film I was still asking myself \"Which one\\'s Keir Dullea?\"<br /><br />So it seems that the house has been receiving obscene phone calls, but this was before email, so they couldn\\'t ask him to send a photo. Then\\xc2\\x97-well, you know how they say those plastic dry-cleaning bags are not a toy? One of the sisters finds that out the hard way. Don\\'t worry if you don\\'t catch the first 14 shots of the plastic-encased corpse face as it reposes in the attic\\xc2\\x97-there\\'ll be 28 more interspersed throughout the film, obviously there to make you say \"Oh my God! There\\'s a corpse in the attic!\" Though after the first hour that changes to: \"How come the dumb police haven\\'t found the rather prominently-placed plastic-encased corpse in the attic?\" Especially as it is made abundantly clear that it is clearly visible from outside the house. Really, any time before CSI came on the air must have been such a golden age of crime; the cops are so dumb. Fortunately some of them look like John Saxon.<br /><br />Anyway, after a lot more darn boring human drama, the house mother fears that her precious kitty has ascended a vertical ladder and has pushed open a heavy-looking trap door that rests atop it (those wily cats!), for she sticks her head in there and ends up with a hook pulley in her neck for the trouble. Now we have two corpses up in the attic\\xc2\\x97-hey, why don\\'t we have 75 more shots trying to chill us by the fact that there are now TWO corpses in the attic?<br /><br />So by now the police have begun to take the situation seriously, and tap the houses\\' phone and station a cop outside. They inform Jess and her pal Janis Ian that if the obscene caller calls back, they need to keep him on the phone. Jessica, who has grown even more whiny, mousy and annoying keeps asking the caller \"Who is this? What do you want? Who are you?\" after like the first 89 calls, when it is clear that he is not going to answer her. Isn\\'t that like a sign a developmental disability? The inability to learn from unsuccessful attempts at something? And what\\'s he going to do, suddenly say \"Oh yeah, hi, it\\'s Bob from the Laundromat?\" Dumb Jess.<br /><br />Spoilers! Anyway, soon Janis Ian and Lois Lane (Kidder) are piled in bed with ketchup splashed on their faces (this film\\'s idea of gore), and idiot Jess realizes that not a single door or window in the house is locked. Hello? Are you being stalked or what? Then the cops realize that the killer is in the house, and call Jess and tell her \"don\\'t ask questions, just do as I say\\xc2\\x85 walk to the front door and get out.\" So what does moron Jess do? Starts screaming \"Phil? Barb? Phil? Barb?\" Hey, great idea sister. Now why don\\'t you go right upstairs where you know a psychotic killer is lurking? Of course she does, and sees her former friends, all splashed with ketchup, prompting this viewer to scream at the screen: \"Have a clue now?!\"<br /><br />Now, obviously one needs to be understanding and realize that this movie was made before the classic slasher movie tropes were solidly in place, and that it doesn\\'t move to the same pace we\\'re used to, and seeing a plastic-covered corpse in the attic like 206 times probably WAS scary back in the day, and people weren\\'t used to being stalked by psychopaths, so they wouldn\\'t think to, you know, lock the doors or windows. And they might be tempted to wander upstairs when they have just been told that a rabid killer is up there. You see, people were stupid back in the 70s. We have to understand that. One of the big shocks is that we don\\'t even see our proto-Final Girl kill the psycho. But believe me, that fact is more interesting being read in this review than sitting through the movie for. Spoilers end! <br /><br />------ Hey, check out Cinema de Merde, my website on bad and cheesy movies (with a few good movies thrown in). You can find the URL in my email address above.',\n",
              "         b\"An awful film! It must have been up against some real stinkers to be nominated for the Golden Globe. They've taken the story of the first famous female Renaissance painter and mangled it beyond recognition. My complaint is not that they've taken liberties with the facts; if the story were good, that would perfectly fine. But it's simply bizarre -- by all accounts the true story of this artist would have made for a far better film, so why did they come up with this dishwater-dull script? I suppose there weren't enough naked people in the factual version. It's hurriedly capped off in the end with a summary of the artist's life -- we could have saved ourselves a couple of hours if they'd favored the rest of the film with same brevity.\",\n",
              "         b'Generally speaking, the plot was much better than I was expecting. The laugh track was a bit annoying at times and did tend to get in the way; however, there were enough real chuckles in this episode to make up for it. My biggest surprise was finding some of the best lines and situations were not shown in the trailers. Spade, in particular, was not presented in the best light in the earlier promotions, but his character comes across quite well in the pilot. There is is enough eye-candy to please almost anyone and all the regular characters seem up to the task ahead of them. Now, if the writers can just live up to what they have begun.',\n",
              "         b\"I was unlucky enough to have seen this at the Sidewalk Film Festival. Sidewalk as a whole was a disappointment and this movie was the final nail in the coffin. Being a devout fan of Lewis Carroll's 'Alice' books I was very excited about this movie's premier, which only made it that much more uncomfortable to watch. Normally I'm enthusiastic about modern re-tellings if they are treated well. Usually it's interesting to see the parallels between the past and present within a familiar story. Unfortunately this movie was less of a modern retelling and more of a pop culture perversion. The adaptation of the original's characters seemed juvenile and usually proved to be horribly annoying. It probably didn't help that the actors weren't very good either. Most performances were ridiculously over the top, which I assume was either due to bad direction or an effort to make up for a bad script. I did not laugh once through out the duration of the film. All of the jokes were outdated references to not so current events that are sure to lose their poignancy as time goes by. Really, the only highlight of the film was the opening sequence in which the white rabbit is on his way to meet Alice, but even then the score was a poor imitation of Danny Elfman's work. Also, I'd have to say that the conversion of the croquet game into a rave dance-off was awful. It was with out a doubt the low point of the film.<br /><br />What a joke. Don't see this movie. After its conclusion I was genuinely angry.\",\n",
              "         b'HOLLOW MAN is one of the better horror films of the past decade. The sub-plot is original and the main plot is even better. The special effects are brilliant and possibly the best I have ever seen in a horror film. Kevin Bacon proves again that he can handle any role that comes his way.<br /><br />Claude Rains shocked the world with THE INVISIBLE MAN in 1933, well now, Kevin Bacon has shocked *us* with HOLLOW MAN. One of the most thrilling horror films ever. The action is intense and the chills are true. You may actually find yourself jumping if you are watching it in the dark on a stormy night. The supporting cast includes Elizabeth Shue, Josh Brolin, Kim Dickens, Joey Slotnick, Greg Grunberg, and Mary Randle. All of whom do an exceptional job. <br /><br />---SPOILERS---<br /><br />Dr. Sebastian Caine (Kevin Bacon) and his team have discovered the secret to making someone invisible. After animal testings, they move on to human testing. But someone has to be the subject. Volenteering, Caine is turned invisible. But when his team is unable to bring back into visibility, Caine is driven mad by his condition as he seeks his revenge...*end spoilers*<br /><br />The film has created memorable shock sequences and is destined to become a classic well into the next century. Becoming the basis for a spoof joke in SCARY MOVIE 2, this film grabs you by the throat and never lets go. The first 45 minutes or so are slow, developing the characters and showing how their experiments work. The second half is exciting and appealing to most action and horror fans. Think of DEEP BLUE SEA. Then change the sharks into an crazy invisible man. And then change the water into fire and explosions. A rehashing of a killer shark movie. Interesting... HOLLOW MAN gets 5/5.',\n",
              "         b\"So, where are the cannibals? Those intrigued by the title and the 'real cannibal' appeal of this film will be let down. Instead, we are shown a strange man and his re-visiting of a Papua New Guinea village full of natives, one of whom was his lover several decades prior. The man, Tobias Schneebaum is New York Jewish as they come and somehow, this is intertwined with the documentary as he appears in his yamika in several scenes.<br /><br />There are no real cannibals here: only stories relayed by some of the natives and by Tobias himself. Not all together a bad film. Very interesting and great cinematography. Schneebaum remains highly likable throughout and provides us with a fascinating glimpse into a life that is about as far removed from Western Civilization as one can get.<br /><br />It's just not what it claims to be on the cover and in the plot summary.<br /><br />4 out of 10, kids.\",\n",
              "         b'Jim Belushi is terrific as the \"Average Joe\" who gets his 15 minutes in \"The Twilight Zone\". Michael Cane is the mysterious bar tender who not only listens to Belushi\\'s \"story\", but has a \"cure\" for all of Belushi\\'s middle class problems: A magic potion to bring about an avalanche of changes in Belushi\\'s life.<br /><br />Flashbacks show a 15 year old horribly ashamed of causing his High School Baseball Team\\'s Championship defeat. Belushi goes on with his \"pitiful life\", seemingly happy, but always wondering \"what if...\" For what seems to be several days, Belushi experiences a \"different\" life, one of enormous success, admired and hated by others in equal measure.<br /><br />This is not quite \"It\\'s A Wonderful Life\", but some elements are similar, and very endearing. The \"ending\" is predictable, but still satisfying. Watch for a very young Cortney Cox in a bit part as \"fatal attraction\" -like other woman. A very pleasant film!',\n",
              "         b'Shinjuku Triad Society, albeit from perfect, is a fiercely compelling film for what it tries to depict in its uber-conventional realm. It\\'s a yakuza/triad picture, involving cops versus Japanese &/or Chinese gangsters (mostly Chinese, as the title suggests), but already even in his first technical \\'debut\\', Takashi Miike is already establishing many aspects to films that he would make from here-on in. Social issues like black market trading of precious goods, in this case human organs usually from children; nostalgia for childhood and one\\'s roots, which was especially prevalent in Dead or Alive 2; thumbing-of-the-nose at taboos like gay sex and (satirical) rape/violence towards women; blood-curdling violence. It\\'s certainly not as surreal as some of Miike\\'s most recent films, but this is expected as he\\'s trying out things that he\\'s just starting to learn, following a track record of straight to video programmers. It\\'s got all of those qualities, and it\\'s also, like the films that would follow from it, equally savage and heartfelt, crazy (in spots) and sardonic in its drama, and solid for genre fans.<br /><br />The story concerns two brothers, one a Chinese orphan raised in Japan, Tatsuhito Kiriya (Kippei Shiina, pretty decent as a Eastwood-esquire anti-hero/hero), who\\'s become a detective, and another, who\\'s become a gangster, or a would-be one. The main arch likely takeover gang comes from Wang (a definite pun on what the gang represents during its spare-time, played by Tomorowo Taguchi as a typical wacko with real terror in his eyes), and his partner Karino (Takeshi Caesar, who\\'s threatening even when just repeating a commandment over and over to a woman who\\'s just had her eye plugged out following a sour deal), who are the ruthless kind to pop up almost organically in a Miike movie. There\\'s some intrigue involving the organ-trading scheme with the gangsters, which Kiriya almost becomes a victim of, and the gang\\'s penchant for gay sex- at least with one little puppet of sorts who does whatever the main gangsters want. It all leads up to vengeance and redemption, qualities that Miike and his writer are trying to emulate from Shakespeare (hence the Macbeth bit with Wang washing his bloody hangs over and over after some gay sex saying \"it won\\'t come off\").<br /><br />If it doesn\\'t add up to the same emotional level of impact that a great Shakespeare play would have, it\\'s par for the course of a film like this. Miike\\'s goals are met, though just met, in his low-scale ambitions: a gangster picture with some added levels of harsh familial trouble (the main tension between the brothers comes out of profession and duty to parents), notes on the crueler aspects of underworld crime, and what the realm of unrepentant sex, with both sexes, brings out psychologically in the characters. At the same time, Shinjuku Triad Society also contains more than a few moments of classic biting black-comedy from the Miike oeuvre. Some of it just has to be taken with a grain of salt for what the director does in his outrageousness, like the bit at the beginning with the chair smashing over the face, or the randomness of the \"interrogation\" as it goes into a very twisted area. There\\'s even a laugh-out-loud line from the young sex-slave after finishing an act on one of the bosses: \"Thank you, Mr. Weeny-Burger.\" Miike and his writer don\\'t have enough here to make the film a full-on dark comedy like Ichi or, of course, Visitor Q, but there\\'s enough to bring some appropriate levity to the darker aspects to the story and characters.<br /><br />As the first entry of the \"Black Society\" trilogy, as it\\'s called, I was quite impressed, and it\\'s a fine quasi-calling card from one of the craziest new artists in contemporary cinema.',\n",
              "         b'On the 1998 summer blockbuster hit BASEketball (1998): \"This is one of those movies that is usually seen on the big jumbo-tron screen in a sports bar during the day - when everyone is quite drunk. Unfortunately, I was sober when I saw this movie.\"<br /><br />So quoted the late Gene Siskel for this lame-brained, supposed yukfest that came out two weeks after the far superior \"There\\'s Something About Mary\" in a one-upmanship game during July of 1998. \"Mary\" was a gross-out fest, but in addition to the many gags, it had a lot of heart, which is why it was the highest grossing comedy of that memorable summer.<br /><br />\"BASEketball\" tried to outdo Mary, but it fizzled in more ways that one. You take the creators of \"South Park,\" Trey Parker and Matt Stone, who are fortunately not behind the movie but in front of the camera, the only member of ZAZ David Zucker helming the picture in desperate need of a paycheck, and the other two Jim Abrahams and Jerry Zucker clearly stayed out or probably warned him against the picture, a small bit by now 90 years young Ernest Borgnine, wasting his precious time in his distinguished career, dying on a hotdog and singing \"I\\'m Too Sexy\" as he videotapes his will, Jenny McCarthy, who has little screen time as Borgnine\\'s not-too-weeping trophy widow young enough to be his granddaughter, a bigger female part by Yasmine Bleeth as a dedicated social worker whose charges are underprivileged youngsters, and the only interesting and meaningful player in this turkey, Robert Vaughn as a corrupt archrival, and pointless cameos by \"Airplane!\" alumni Kareem Abdul Jabaar and the late Robert Stack who seemed nostalgic for the 1980 masterpiece and it\\'s much fresher humor created by the ZAZ family. What do all these people make up? A desperate cast and crew trying to replicate \"Airplane!\" humor and mixing it up with the crudity of \"South Park,\" but failing in every way.<br /><br />To make this long 100-minute movie short, \"BASEketball,\" a real game invented by David Zucker and his friends in his hometown of Milwaukee, is about two lazy losers (Parker and Stone) and their pint-sized mutual friend who invent baseball and basketball (hence the title) together on the driveway of one\\'s house. After Borgnine dies, he bequeaths the ownership of his BASEketball team, the Milwaukee Beers to Parker and Stone. Sure enough, the game goes national, and archrivals Vaughn and McCarthy want to take away ownership of the Beers team from them. But Bleeth is in love with both men, particularly Parker, and one poor, sick charge in need of a liver transplant goes ga-ga over them. Those are the characters, not strongly developed.<br /><br />Now witless gags ensue. Blood, electroshock hair, egg-throwing and screaming are among them. Parker and Stone nearly kill the youngster in the hospital, but he pulls through the liver transplant. Borgnine sings and rubs ointment on his chest in the videotaped will. McCarthy, who seemed to get over Borgnine\\'s death by choking on a frank right away, quickly massages Vaughn in the next scene. Cheerleaders dance in skimpy outfits. There is plenty of music on the soundtrack that is played for the hard of hearing. And David Zucker forces the parodies of \"Riverdance\" and \"Titanic.\" Parody forcing is nothing new to ZAZ, post \"Airplane!\" and \"The Naked Gun\" series.<br /><br />And like Siskel, I was sober as well, but I was also getting sleepy. This movie should be played over and over to coarse-mannered barroom patrons who enjoy it as they chug down beers, but will they remain alert and awake, or pass out during the unfunny parts? If they pass out, then they won\\'t realize that they are luckily missing stupidity and absurdity. Hats off to them!',\n",
              "         b'This is not a horror film, but a boring sex movie. A very bad movie, to be avoided by any serious horror fan. No plot, awful acting and annoying music. If you only watch the trailer you will know enough... It\\'s a shame that such thing is available on VHS or video while there are so many good movies unavailable. If you like vampires try the Hammer Productions or the Italian Gothic from Mario Bava and Antonio Margheriti instead. Those are masterpieces if you compare this with this trash. Rating = even \"1\" is too much! And believe me, I am not the only one with this opinion.',\n",
              "         b'So, what\\'s the reason? Is there some sort of vendetta against this AWESOME show or somebody involved therein? Why would the best show I\\'ve seen in years be canceled? I\\'m addicted. I saw this show on randomly last fall, and immediately loved it, and watched it every week. Then it went away, and I tried to Tivo it, but it wasn\\'t being aired. So I forgot about it for awhile, until I found the episodes on ABC\\'s website. Now I want MORE. I agree with everybody else - with the rest of the junk on TV today, it was refreshing to see something as well-rounded and developed as this. I watch Boston Legal for my eccentric-comedic fix, and House for my intellectual-mystery-jackass fix. My wife loves Grey\\'s Anatomy for its \"realism\", and I do love/hate the show, but it could not be farther from real for me. WAY too much drama. Everything that can go wrong, does. But for once, there\\'s a drama that\\'s REALLY real. Real people, real problems. Sure, there are some extremes like a former gangster turned good, girl running from the mob, etc., but these people (especially in NYC) are really out there, and I relate to each and every one of them. I can\\'t seem to get enough. I just hope that ABC will get their heads out of their bean-counting butts and continue this show. Get some respect for having a QUALITY drama out there. This could be one of the best shows of all time. If somebody will just let it.',\n",
              "         b\"If you didn't enjoy this movie, either your dead, or you hate Adam Sandler or Don Cheadle.<br /><br />An Excellent cast, all of who gave good performances. This movie proved that Adam Sandler is good actor, despite what critics say. Adam Sandler is becoming a very well respected actor. It all started with his performance in Big Daddy, then he did a couple bad movies, then he broke through with terrific performance in 50 First Dates, The Longest Yard, then Click, and now Reign Over Me.<br /><br />Back to the movie. Adam Sandler plays a man who has lost everything. The closest thing to family he has are a mother-in-law and father-in-law. After his old college roommate (Cheadle) ran into him, he seems to turn his life around. I will say no more, because I do not want to ruin the movie, but I strongly recommend this movie. One of the best movies of 2007.\",\n",
              "         b'In \"Brave New Girl,\" Holly comes from a small town in Texas, sings \"The Yellow Rose of Texas\" at a local competition, and gets admitted to a prestigious arts college in Philadelphia. From there the movie grows into a colorful story of friendship and loyalty. I loved this movie. It was full of great singing and acting and characters that kept it moving at a very nice pace. The acting was, of course, wonderful. Virginia Madsen and Lindsey Haun were outstanding, as well as Nick Roth The camera work was really done well and I was very pleased with the end (It seems a sequel could be in the making). Kudos to the director and all others that participated on this production. Quite a gem in the film archives.',\n",
              "         b'I\\'m a big mark for the music of Neil Young, and with that and the glowing praise the film received in many alt-indie press circles, hit the first showing of Greendale I could find. My excitement was short-lived, as this turgid storyline and weak lyrical momentum left most filmgoers either asleep or disappointed.<br /><br />Neil says the film started as a soundtrack, and the characters came to life so much that they just filmed the soundtrack. Not the best way to craft a story. No character really has an arc, and when \"significant\" events do happen, the viewer doesn\\'t cared, because film technique annoyance levels are so high by that point. The film is all song, and to that end, the characters on end mouth the lyrics as they\\'re sung...the technique works for the first stanza it is done, and is grating on the nerves after that. It doesn\\'t feel real or fake, it just feels unwelcome.<br /><br />Terrible acting, with characters finding one mood and playing all of it. Poor lighting at times. The only kudos I can give the film are in regard to several scenes shot as newscast, but the technique is so used in cinema today that this film did little to further it. An alright soundtrack, but nothing I\\'m quick to buy. A bad film.',\n",
              "         b\"Gwoemul (The Host) - Due to pollution in the Han river a mutated beast goes on the rampage. The youngest member of the Park family is snatched by the beast, and it is up to the rest of her family to find her, before she becomes the beast's latest meal.<br /><br />Firstly, I love monster movies: Mutated bears, over-sized alligators, packs of ravening Komodo dragons, the whole lot. Creature features are my favourite kind of Horror film. So, I really wanted to like The Host, but it wasn't to be. <br /><br />There were three major problems with it:<br /><br />The first can be seen with a quick look at it's IMDb page<br /><br />Genre: Action / Comedy / Drama / Fantasy / Horror / Sci-Fi / Thriller<br /><br />Too many damned genres. It took itself too seriously to be a comedy, and yet was too light hearted to have any real message (though it did seem to be trying to make some kind of statement. Anti-pollution, anti-American or anti-government). The drama was misplaced and mixed in a confusing mish-mash with all the other styles.<br /><br />Secondly, after the initial monster attack nothing happens for almost the entire film. The central family wander about looking for one of their own while the governments of Korea and America, apparently, do nothing. And that's it, they just wander about, occasionally hitting one another, presumably for a bit of comedy relief. This lack of action made my attention wander, and apparently it did the same for the director, as whole plot threads go unresolved (a mystery plague invented by the evil Americans is completely forgotten about, and is never resolved).<br /><br />And lastly, the film is clumsily political. It paints the Americans as being stupid and evil, but gives us no American characters with any more depth than a cartoon villain. The opening scene has the most obvious stupid American vs wise Korean moment. With a Korean morgue assistant asking his boss, the coroner, not to pour chemicals into the Han river. The American coroner all but cackles maniacally as he orders the assistant to carry on. As well as being racist, it's lazy film-making and there is no excuse for that.<br /><br />On the plus side, the monster is good, kind of a mix of The Relic and Deep Rising. Some of the movement effects are quite cool, and the initial monster chase through the park is a lot of fun. There are also some nice shots in the film. Some of which remind me, strangely, of the way Firefly was filmed (shuddering cameras, out of focus shots etc).There is also a nice scene at the end, where the hero and a little boy he has saved are sitting in the family's mobile food stall. It's night-time and snow is falling, the street-lamp is giving out a cold light, but the food stall has a warm glow coming from it.<br /><br />Overall, I was really disappointed by this film. I'd been looking forward to a decent creature flick, and instead I get some pseudo-political,horror-comedy lite. Looking at the comments on IMDb I can't help but think that if this had been a US production it would have been slated. Just 'cause it's a foreign flick doesn't mean it's any good. There have been some great movies out of Korea in recent years (The vengeance trilogy and Brotherhood, for example), but this certainly isn't one of them. <br /><br />For once I'm in favour of a remake. Tighten up the directing, improve the scripting and this could have been a nice film. As it is, it's not worth a couple of hours of anyone's time.\",\n",
              "         b'It is always a nice suprise when a film made for TV turns out to be entertaining such as Little Richard. This is a very watchable film about the story of Rock and Roller ,Little Richard played by an actor called Leon who i have never seen before but does an very good job. As most TV films , this is a little tamer than if made for Cinema which is a shame because i am sure there is lot we could have seen about Little Richard that was controversial. Instead we see a lot religous rubbish which is the only thing that spoils the film and eventually spoilt a very promising career. All in all this film is good and the acting is above average fot a TV film. 7 out of 10.',\n",
              "         b'I hate this programme: not only is the very concept ludicrous, but it tries so hard to be feasible (something that was left out of similar \"I confess\" ending programmes like, Muder: She Wrote).<br /><br />Sigh. Why is it that the writers can\\'t ever be intelligent enough in this programme to come up with evidence that would stick and win a decision in court?<br /><br />Come on: after X-amount of years of the cases being unsolved, why must EVERY SUSPECT, EVERY EPISODE *CONFESS* (damn it!) to a murder which would otherwise go unsolved?<br /><br />I bet all police wish that criminals were this good sportsmen: \"Aw, shucks, officer, you\\'re a bright one - I guess if you\\'ve uncovered enough to convince yourself I did it, I may as well admit to it and make it easier for you in court. What can I say? It\\'s a fair cop.\"<br /><br />Absolute dog s**t and an insult to those of us with with enough brains to even have heard of I.Q.',\n",
              "         b'I went into this film expecting it to be similar to The Matrix or Pi. Boy, was I wrong. Yes, there is a poorly written, poorly acted plot in the movie (with CG animated cells and peptides to boot). However, the real focus of the film are the \"expert\" talking heads spewing out new age feel-good hogwash in between plot segments.<br /><br />Sure, it stars off innocently enough. There is a little bit of real quantum physics in the beginning. It states, for example, that electrons exist as both particle and wave, and that an atom is mostly empty space. However, the movie takes a giant (and unscientific) leap, saying that sub-atomic quantum effects happen on large scales as well. The talking heads take it even further. According to them, the following are true:<br /><br />-When Columbus arrived in the Caribbean, the natives were unable to see his ships because their minds were incapable of perceiving something so different. -Meditation can reduce the murder rate. -With positive thought, you can walk on water. -Your thoughts can change the formations of ice crystals in bottles of water.<br /><br />And hey, that\\'s only in the first 40 minutes!<br /><br />Watching the movie was torture. This film felt like a movie they would show you to get you to join a cult. After doing my homework, I realized that it basically is just that.<br /><br />On the other hand, this could be seen as a campy comedy (albeit one that\\'s not funny).<br /><br />Save your time and money: don\\'t see this movie.',\n",
              "         b'This is the most boring worthless piece of crap I\\'ve ever wasted an hour of my life on. All I can say is thank God it was only an hour. Over half of this \\'movie\\' is footage from the original \"Criminally Insane\". At the very least, I was able to see the highlights from that rare exploitation classic, since for some reality-defying reason my video store only has \"Criminally Insane II\" (as it had it, \"Crazy Fat Ethel II\"). But the rest of this movie is some of the absolute worst home-video acting and backyard filmmaking you\\'ll ever see. Why is it my video store has this and not the original? Why does stuff like this actually end up in video stores? Why do people rent it and not immediately burn the copy once they\\'ve seen its sheer horror? Why - AAUUGGHH - Why, God, why?<br /><br />Unless you enjoy seeing annoying fruits eating an entire candy bar in an excruciatingly slow scene, or said fruit getting hung from the stair railing in an even slower scene, or a character getting stabbed sideways (don\\'t ask) multiple times in the back, or brain cell-murdering monologues about giving poisoned tea to one\\'s wife and then complaining that all the talk has made one\\'s own tea go cold, or the mentally-retarded eating fly soup, or just simply want to see Crazy Fat Ethel dancing with a bloody knife in a garden: Don\\'t watch this movie. Repeat: Do NOT watch this movie. Do not rent this movie. If at all possible, do not walk past a shelf in a video store that has a copy of this movie setting on it. You can still be saved, but it is too late for me now. . .',\n",
              "         b\"I saw this series when it world premiered at the Toronto Film Festival. I liked the idea behind the film, where two men got together and told a director from each country to direct a movie about 911. These directors never met before until the project was complete, and they saw how it looked all together. WARNING: SPOILERS AHEAD!!!!!!!!!!!!!!!!!!!!!! All the pieces were very powerful, and some were controversial. If you are an American, then you may not like this as some of the pieces may be found anti-american. However, i know a few Americans who enjoyed these series. The piece that i found the best was the one from India. It was about how a muslim family, living in the States, had 2 sons, and one of them was missing. The Americans gave them the cold shoulder and automatically assumed that he was linked with the terrorist bombing. It captures the mom's despair and humiliation of these accusations so well, that it brought tears to my eyes. In the end we see that her son had died while trying to save the many victims from the crash of the towers. This was a true story, and that was what made it so real. There were a lot of emotional and powerful pieces, and the African piece was one of the best. It was humourous yet just as powerful as the others. A must see for everyone, and hopefully America will unban this, and let it play in their country.\",\n",
              "         b\"If the movies are to be believed, Chinese ghosts are much prettier and more mischievous than their Western counterparts. The storylines of the three 'Chinese Ghost' films are largely identical, but the direction is excellent and the detail and colour is such that it's not a huge problem. As always, humour is an integral part of the film, accompanied, of course, by a great deal of mugging. For those who haven't encountered the 'Chinese GhostStory' trilogy yet, this film offers an interesting departure from the Western horror/ghost genre; for those who have, another enjoyable romp in the Chinese ghost world.\",\n",
              "         b'It\\'s unfortunate that you can\\'t go any lower than one star. Prior to watching The Wicker Man, I had considered Aliens 3 to be the only movie that would actually merit negative stars. In all fairness, The Wicker Man doesn\\'t detract from the enjoyment of an earlier film, but the fact remains that my cumulative movie enjoyment has been reduced by seeing it.<br /><br />There is a cheap trick all too often used in Hollywood when the producers are too stingy to hire good writers or in too much of a hurry to allow them to bring a plot to a satisfactory conclusion: slap in a shocker ending and hope that the public will mistake it for something artistic or meaningful. It is a gambit that rarely succeeds and in this case manages only to splatter embarrassment on a fine actor and ridicule upon the producers. Even more so in that the \"carefully crafted\" (or however they put it) conclusion didn\\'t seem to follow logically from the plot (which naturally I can\\'t elaborate on without introducing spoilers), and instead negates what merit the plot had up to that point.<br /><br />It is a film that might logically appeal to psychopaths, pedophiles, and possibly die-hard Nicholas Cage fans, but only to a few of the mainstream audience. If you really want something along these lines, I heartily recommend M. Night Shyamalan\\'s The Village instead. Lacking some kind of memory-erasing pill, I suppose I need to watch something better to force it from my mind, say, Attack of the Killer Tomatoes or Pee-wee\\'s Big Adventure?',\n",
              "         b'This review applies for the cut of the film that\\'s generally available as \"Fury of the Wolfman\". I understand there is an uncut version out there with additional footage, and I would hope that it contained at least eight or nine crucial scenes that seem to be missing from the cut known as \"Fury of the Wolfman\". In short, the movie makes absolutely no sense whatsoever. It is utter nonsense, and incomprehensible nonsense at that.<br /><br />Waldemar Daninsky, that venerable lycanthropic antihero portrayed by Paul Naschy in a seemingly endless series of films, is apparently a normal guy who has just come back from a trip to Tibet, where he was attacked by a yeti. Somehow this has turned him into a werewolf. Daninsky is a doctor, a scientist, and an instructor at what appears to be a college. One of his female colleagues, Ilona Elmann, is involved in a vague form of hypnosis...\"Chematodes\", a nonsense word used to refer to a bunch of wires attached to a victim\\'s head. Ellman feels this will enable her to \"change the direction of the human brain\", naturally enabling her to rule the world, provided she can get us all attached to those wires with no trouble.<br /><br />Elmann is also into werewolves, because she kidnaps Daninsky and takes him to her hidden laboratory. She has a bunch of other people trapped there as well. Some of them look like gypsies, and are chained up, being in varying states of lucidity. Others are clearly hippies. Elmann feels that one day she may be able to \"help them be human again\" (?), but in the meantime she controls them with her chematodes. Waldemar becomes her hairy hit man, wandering around like a werewolf zombie--that is until the filmmakers decide to use footage spliced in from another Naschy werewolf film, \"Frankenstein\\'s Bloody Terror\" (don\\'t ask), at which point Naschy\\'s werewolf makeup changes considerably and he lurches around like an animal.<br /><br />Is this making any sense? No? Good. That\\'s the film\\'s saving grace. It doesn\\'t try and engage you on any kind of intellectual level, it just goes full speed ahead with whatever nonsense dialogue or cheap horror movie sets it can muster up. \"Fury of the Wolfman\" may be the best Halloween party movie ever. You absolutely do not need to pay attention to it, and in fact if you do, you will be completely confused.',\n",
              "         b'My husband is a huge Robin Williams fan. I like him too, but have generally found that he should \"stick to what he does best\" and focus on comedic roles. My thoughts were confirmed with this movie. I was completely bored throughout the entire film. The story was predictable. I realize it was inspired by a true story. But, my guess is that there could have been some suspense or intrigue even while maintaining truth in the story. None of the characters were well developed. There was a side story about the main character and his partner. This relationship could have been explored further. More important, though, would have been a deeper exploration of the mother of the \"boy\". Her psychological profile would have been interesting to delve into. She obviously has a long history that was not touched upon except in the most superficial way. If my husband wasn\\'t such a huge Williams fan, we would have left 20 minutes into it. Too bad I can\\'t get my $20 or 2 hours back.',\n",
              "         b\"I scooped up this title by accident with the Grindhouse Vol. 1 collection of pure Euro-trash movies. But this movie has a nice stamp of approval and should deserve a better transfer than what is out there. Stupednous it is not... satisfying it is! Watching this movie I couldn't help to wonder... how come Sergio Martino didn't make this flick? This has his signature all over it and punctuated by Edwedge Fenech (alas not as well known as she should be but she did get a nice cameo in Hostel II). Double-crosses and triple-crosses underly and cement this film from beginning to end with Lee Van Cleef oozing coolness under pressure from the 1st second. Did this guy have to go to Italy to finally reach his potential or did the studio system let this guy slip through? Besides Lee's more recognizable films, film-goers should try this on for size and see how if Sergio Leone would've lowered his epic scale down on Once Upon a Time in America to half the running time (and 1/4 of the budget) this is what it would've turned out to be like. So refreshing, it should be taken in during the day at home and make it for an couch matin\\xc3\\xa9e\",\n",
              "         b'This a Casper the Friendly Ghost short from my childhood, and I re-watch it on YouTube (Thank GOD! for You Tube); after that I love this short, and it is one of my favorite Casper shorts.<br /><br />I love how the short starts off spooky with Frank Gallop\\'s haunting narration; until we get to see Casper sitting by his tombstone in the cemetery, reading. While every ghost rose from the graves to \"boo\" people, Casper decides to leave in search for a friend. But in trying to make a friend, anyone who sees Casper runs away. Poor Casper sat on a log and weep; until a little fox cub comes up an nuzzles him. Casper and the little fox quickly bond and he quickly names the cub Ferdie and considers him to be his very best friend. <br /><br />Casper and Ferdie\\'s relationship is put in tremendous jeopardy however when Casper is not keeping a close eye on Ferdie while they are playing a game of Hide and Seek. While Ferdie is hiding a hunter and two of his hunting dogs come and try to kill little Ferdie and Ferdie is running as fast as possible until he is out of breath and starts panting. While the hunter is firing gunshots towards Ferdie Casper notices they are trying to kill him and flies in the hunter\\'s direction and pleads that the hunter leaves Ferdie alone. And the hunter and dogs are terrified of Casper. Casper yells to Ferdie that the hunter and the dogs are gone and that everything is fine. But Casper sees Ferdie\\'s body is not moving and asks if he is OK. When Casper sees Ferdie has died he starts mourning in pain because he lost \"the only friend he ever had in his whole life.\" Casper returns back to the cemetery where he has buried Ferdie and has made a gravestone for him next to Casper\\'s gravestone. Casper continues mourning in pain until he sees that Ferdie has resurrected as a ghost himself. Ferdie starts licking Casper on his cheek. Casper screams for joy because he has been reunited with Ferdie.<br /><br />Overall, it is a really good short; though surprisingly disturbing, showing death in a family-oriented cartoon.',\n",
              "         b\"This movie is an extremely funny and heartwarming story about an orphanage that is in financial trouble. When the director goes on vacation, his dad agrees to step in temporarily to run things.<br /><br />This is positively the best work that Leslie Nielson has ever done. His idea in the film to rent out children is immediately innovative, and his sales techniques will definitely make you laugh.<br /><br />The little girl in this movie is so sweet and charming that I know I will never forget her. Just make sure that you don't miss the first five minutes of the movie! <br /><br />Such great family entertainment is so rare these days. If you go for slightly corny pictures with happy endings,go for this one! I could watch this over and over, and I often do! My only complaint about this movie is that it is so difficult to find a copy.\",\n",
              "         b'This is an installment in the notorious Guinea Pig series. A short lived japanese TV-show, that got cancelled after a psychopath admitted to being inspired in the killing of a young schoolgirl by the show. This short in the series is, like all the other films in the series, practically without any story. A group of guys have captured a young woman. They tie her down and proceeds to torturing her to death while videofilming her. They beat her, pour boiling oil over her, use pliers on her and finally, in \"loving\" closeup, push a needle through her eye. This is the most straightforward of all the Guinea Pig movies, and one of the first. It was probably this film, more than any of the others, that gave Guinea Pig the rumour of being snuff. They certainly gave inspiration to Nicolas Cage\\'s movie \"8 mm.\". These movies have gotten quite popular in horror circles. They have progressed to more polished, but equally graphic movies like \"Naked Blood\". They probably fill the void left by the Mondo movies, that got slightly cleaned up and became reality TV. Not recommended, but will probably allure those who will see anything once, and wonder why afterwards, I know I did.',\n",
              "         b\"This budget-starved Italian action/sci-fi hybrid features David Warbeck as a Miami reporter who is chosen by the ghosts of the people of Atlantis (!) to stop an evil businessman (Academy Award nominee John Ireland) from using a telepathic fetus grown using spores from an asteroid to rule the world. You got all that? Despite such a loopy plot, this is actually quite a bore and the RAIDERS OF ATLANTIS sneers at it with contempt. Honestly, the most (intentionally) creative thing about this flick is the slight reworking of Herbie Hancock's BEVERLY HILLS COP theme for the opening titles. The most unintentionally creative bit involves a scene in a lab that is inexplicably shown twice back-to-back. Perhaps director Alberto De Martino wanted to get all avant garde on us in the twilight of his career? I was going to declare this Ireland's worst film on his resume but then I saw SATAN'S CHEERLEADERS was listed on there. I would also like to safely declare that I am probably the only person in the history of the world to do a double feature of this and Hitchcock's VERTIGO.\",\n",
              "         b\"I'm not at all picky about horror movies, and I'm willing to watch pretty much any of them. That doesn't mean that I'm willing to re-watch many of them, or that I won't have criticism for them. This movie is creepy, and is very well done. In fact, I think this movie would make an excellent double-bill with Session 9.<br /><br />I should specify, before I get to my comments, that I watched this alone. I started watching it before going to bed, and got about 15 minutes in before I realized that it was too effective, so I saved the rest of it for the morning. Even while watching it in broad daylight, it was still creepy. However, I can't vouch for how effective it would be when watching in a larger group.<br /><br />After the death of their daughter, a couple move to a remote cabin as a means of trying to come to terms with this death. Let me make note of this death - this is one of the rare movies that doesn't shy away from the death of a child. This is much more important, as it both sets the tone, as well as explains much of the acting that permeates the movie.<br /><br />The couple is not doing well. The wife has distanced herself from the relationship, and the husband is doing what he can to try to bring her back. While some of the comments have complained about their acting - one specified that they act more like a father and daughter than husband and wife, and that's legitimate. He's trying to give her more direction. It's a role that men sometimes take on.<br /><br />There are a variety of scares in the film, and most are fairly non-violent, though grotesque in some ways. The story itself feels very straightforward for most of the film, and takes an odd turn near the end. While the turn is not absurd, it is certainly not what you expected from the way things had been progressing.<br /><br />Moody, atmospheric, and very well done for something that appears to have been shot on video.\",\n",
              "         b\"In Arlington Heights, IL we never had a cafeteria in any of the elementary schools (1961) so I rode my bike home from school for lunch and always watched this game. True, I was 11, but I thought it was the greatest thing on! I'd draw hidden pictures on my blackboard and see if my family or friends could find it. I also remember winning wonderful cars (Pontiac or Oldsmobile) if the contestant got the final hidden picture game. I even had the home version!<br /><br />I wonder why this game lasted so briefly. I enjoyed the music and the hidden pictures - the only one I could ever get was the lemon hidden as part of a bridge over a garden stream.<br /><br />Really good memories are connected with Camouflage.\",\n",
              "         b'A drifter looking for a job is mistaken for a hit man in a small Wyoming town, leading to all kinds of complications. Cage is perfectly cast as the unlucky schmuck hoping to make a quick buck and get out of town but finding he can\\'t escape the title town. Hopper does what he does best, playing a psycho known as \"Lyle from Dallas,\" the real hit man. Walsh as a crooked sheriff and Boyle as a femme fatale round out the fine cast. The script by brothers John and Rick Dahl contains delicious twists and turns, and John\\'s direction creates a terrific \"neo noir\" atmosphere. Witty and very entertaining, it sucks the viewer in from the start and never lets up.',\n",
              "         b'There is no possible reason I can fathom why this movie was ever made.<br /><br />Why must Hollywood continue to crank out one horrible update of a classic after another? ( Cases in point: Mister Magoo, The Avengers - awful! )<br /><br />Christopher Lloyd, whom I normally enjoy, was so miserably miscast in this role. His manic portrayal of our beloved \"Uncle Martin\" is so unspeakably unenjoyable to be almost criminal. His ranting, groaning, grimacing and histrionics provide us with no reason to care for his character except as some 1 dimensional cartoon character.<br /><br />The director must have thought that fast movements, screaming dialogue and \"one-take\" slapstick had some similarity to comedy. Apparently he told EVERY ACTOR to act as if they had red ants in their pants.<br /><br />Fault must lie with the irresponsibly wrought script. I think the writer used \"It\\'s a Mad, Mad, Mad, Mad World\" as an example of a fine comedy script. As manic as that 1963 classic is, it is far superior to this claptrap - in fact - suddenly it looks pretty good in comparison.<br /><br />What is most sad about this movie is that it must have apparently been written to appeal to young children. I just am not sure whose children it was made for. Certainly no self-respecting, card-carrying child I know!<br /><br />If they HAD to remake \"My Favorite Martian\", why didn\\'t they add some of the timeless charm of the original classic? <br /><br />Unfortunately, IMDB.com cannot factor in \"zero\" as a rating for its readers, that is the only rating that comes to mind in describing this travesty.<br /><br />One good thing did come from this movie, the actors and crew were paid - I think.',\n",
              "         b\"The trailer for this movie didn't do the movie justice. And while the movie didn't know what it really wanted to get across, the first half of the movie being a light, romance comedy and the second have a more serious, romantic drama, the overall impact was much better than I thought it would be. This movie was more of a date movie, but the trailer made it into more of a suspense thriller which it never really turned out to be. Kidman, being one of my favorites, of course I'm biased, but this movie proved to be a light, sensitive, if somewhat quirky movie that deserved better. Three out of four stars. 9/5/02.\",\n",
              "         b\"I was never so bored in my life. Hours of pretentious, self-obsessed heroin-addicted basket cases lounging around whining about their problems. It's like watching lizards molt. Even the sex scenes will induce a serious case of narcolepsy. If you have insomnia, rent this.\",\n",
              "         b'David Aames is a rich good-looking guy who lives in New York City. When his \\'sleeping partner\\' Julie Gianni gets very jealous after David falls for Spanish beauty Sofia, she gets David into her car and tells him that he\\'s the only guy she loves and wants to be with, but seeing as he\\'s in love with Sofia, she decides to commit suicide with David in the car with her, by driving off a bridge. David survives the crash, but is left with a disfigured face. He is then charged with the murder of Julie. The thing is, David doesn\\'t know what\\'s real and what\\'s not as he keeps having these strange dreams (Most of which are actually nightmares.) and flashbacks, some of which just don\\'t make sense to him. Everything will soon come back to him though as he\\'s begins to find out the truth.<br /><br />Well, there\\'s an all star cast here, including Tom Cruise, Pen\\xc3\\xa9lope Cruz, Cameron Diaz, Kurt Russell, Jason Lee and Noah Taylor who all give good performances in the movie. In the movie they all put off different things about there characters, like happiness, sadness, angry, etc. really well. There\\'s also a cameo in the movie from the brilliant, Steven Spielberg.<br /><br />Vanilla Sky is a well made, different, interesting and original movie which will leave you talking about it a lot after it\\'s finished. It\\'s not just a thriller, but it\\'s a real psychological thriller. The trailer for the movie is really good, but the movie is so different from what it might be made out to be. It\\'s been directed very well and there were a couple of really great scenes here too. All in all, an enjoyable movie which should be really be paid attention too. They are sure making a lot of \"Are they dead, if not who is dead\" movies recently.',\n",
              "         b\"The first time I ever saw this movie was back in the 1980s as a wee lad. My dad actually recorded it off the TV. I must have watched is over 20 times, before the relatively recent release on DVD.<br /><br />I of course bought and watched the DVD and was taken aback by how much the dialogue had changed. In the first version, which I still have on VHS, the mood of the film, thanks to the dialogue, was actually very dark. However the new version, featuring Van Der Beek et al, is more comic.<br /><br />To put it another way, it's like watching the original US release of Akira with that dub, before watching the remastered version with the literal translation of the Japanese.<br /><br />I'm in no way complaining, the story and quality of animation are not detracted from, but it does raise the question of whether Miyazaki intended for a lighter or darker narrative and theme in his film.....\",\n",
              "         b\"The picture is developed in 1873 and talks as Lin McAdam(James Stewart) and High Spade(Millard Michell)arrive to Dodge City looking for an enemy called Dutch Henry(Stephen McNally).The sheriff Wyatt Hearp(Will Ger)obligates to leave their guns.Both participate in an shot contest and Stewart earns a Winchester 73,the rifle greatest of the west but is robbed and starting the possession hand to hand(John McIntire,Charles Drake ,Dan Duryea).Meanwhile the starring is going on the vengeance.<br /><br />First western interpreted by James Stewart directed by Anthony Mann that achieved revive the genre during 50 decade. The film has an extraordinary casting including brief apparition of Rock Hudson and Tony Curtis,both newcomers. The picture is well narrated and directed by the magnificent director Anthony Mann who has made abundant classics western:Bend the river,Far country,man of Laramie,naked spur,tin star. Of course, all the essential elements western are in this film,thus,Red Indians attack,raid by outlaws,final showdown.The breathtaking cinematography by Greta Garbo's favourite photographer Willian Daniels. James Stewart inaugurated a new type of wage,the percentage on the box office that will imitate posteriorly others great Hollywood stars. Although the argument is an adaptation of \\xc2\\xa8Big gun\\xc2\\xa8 novel of Stuart L.Lake and screenwriter is Borden Chase,is also based about real events because 4 July 1876 in Dodge City had a shot competition and the winner was rewarded with a Winchester 73 model 1873 with ability shoot 17 cartridges caliber 44/40 in few seconds.\",\n",
              "         b\"This early Sirk melodrama, shot in black and white, is a minor film, yet showcases the flair of the German director in enhancing tired story lines into something resembling art. Set in the 1910's, Barbara Stanwyck is the woman who has sinned by abandoning her small-town husband and family for the lure of the Chicago stage. She never fulfilled her ambitions, and is drawn back to the town she left by an eager letter from her daughter informing her that she too has taken a liking to the theatre (a high school production, that is). Back in her old town she once again comes up against small-mindedness, and has to deal with her hostile eldest daughter, bewildered (and boring) husband (Richard Carlson) and ex-lover. The plot is nothing new but Sirk sets himself apart by creating meaningful compositions, with every frame carefully shot, and he is aided immeasurably by having Stanwyck as his leading lady. It runs a crisp 76 minutes, and that's just as well, because the material doesn't really have the legs to go any further.\",\n",
              "         b'Based on fact, this is the story of a teenager named Homer Hickam (Jake Gyllenhaal), growing up in a coal town in West Virginia where a boy\\'s usual destiny was to \"end up in the mines.\" But Homer had his eye on the sky and a love for flying rockets, to the dismay of his mine-foreman father, and the consternation of the townsfolk generally. A misfit for sure, he and three of his equally outcast buddies begin making rockets, which they fly from a patch of barren land eight miles out of town, so as to no longer terrorize the community with their oft-times errant rockets. Unfortunately, most of the town and especially Homer\\'s father (Chris Cooper) thinks that they are wasting their time. However, the people become intrigued and soon start coming out in droves to watch the \\'Rocketboys\\' send off their homemade missiles. Only one teacher (Laura Dern) in the high school understands their efforts and lets them know that they could become contenders in the national science fair with college scholarships being the prize. Now the gang must learn to perfect their craft and overcome the many problems facing them as they shoot for the stars. Director Joe Johnston has always been a famous name for his movies such as Jumanji & Jurassic Park 3 & \"October Sky\" surely stands above all of his other films. Without any doubts, \"October Sky\" is his best effort & obviously his best film. It\\'s not only a true story filmed extremely well, but even as a movie, it has every single thing, which is required for a top level cinema. And along with Johnston\\'s extra-ordinary direction, are some exceptional performances. Jake Gyllenhaal was around 19, when this movie was released & he gives a beautiful & natural performance. He is a perfect actor. Chris Cooper as his father, also gives a very fine performance. The same goes for Laura Dern & also she looks beautiful. Even the rest of the performances are extremely well. The background score was fine. Highly inspiring movie, which lifts up your spirit sky high. One of those movies which definitely inspires you for all of your life. An amazing inspiring movie along with loads of entertainment. Not to be missed.',\n",
              "         b'I tuned into this thing one night on a cable channel a few minutes after the credits ran, so I didn\\'t know who had done it at first. The longer I saw it, the more I started thinking, \"Jesus, this looks like an Albert Pyun flick.\" Wasn\\'t quite sure, though, for two main reasons: the photography was quite good (and the Utah desert scenery was beautiful), and Scott Paulin gave an hilarious performance as Simon, a murderous cyborg, but with some style and a sense of humor. Paulin must have ad-libbed the many clever one-liners he shot out, because Albert Pyun hasn\\'t written anything even remotely funny or coherent in his career. Unfortunately, Paulin doesn\\'t have all that much screen time before he\\'s gone, and the movie\\'s the worse for it. Lance Henriksen, playing the evil head cyborg, growls his way through his part, as he\\'s done in countless other movies like this. I don\\'t know what the hell Kris Kristofferson is doing in this thing; maybe he wanted to see what the Utah desert looked like and get paid for it. He goes through the movie looking (and sounding) like he just woke up, and in fact spends most of the last half of the movie on his back in a tent. Kathy Long, the nominal hero, has a great body, is attractive, has a great body, fights extremely well, has a great body, and doesn\\'t have an iota of acting talent, but that doesn\\'t matter in a movie like this. This being an Albert Pyun film, it\\'s full of the trademarks that we\\'ve all come to know and love: inane and idiotic dialog, choppy editing, and the impression that they lost a reel in the middle of the picture and figured, \"Ah, nobody\\'ll ever notice.\"<br /><br />As bad as this movie is, however, it\\'s a shade above most of Pyun\\'s other efforts--this is \"Citizen Kane\" compared to his brain-numbing \"Adrenaline: Feel the Rush\", for example. The fights are pretty well done, if repetitive (after she knocks down eight or nine guys one after the other, you find yourself saying, \"Alright already, go to something else\"), and Long is very athletic (and, as a previous poster has noted, has a great derri\\xc3\\xa8re). It\\'s not a good movie by any stretch of the imagination, but it\\'s not anywhere near as incoherent and incompetent as Pyun\\'s usual extravaganzas. You could do worse than rent this movie--not much worse, granted, but worse nonetheless.',\n",
              "         b'Aside for being classic in the aspect of its cheesy lines and terrible acting, this film should never be watched unless you are looking for a good cure for your insomnia. I can\\'t imagine anyone actually thinking this was a \"good movie.\"',\n",
              "         b'Watching beautiful women sneaking around, playing cops and robbers is one of the most delightful guilty pleasures the medium film lets me enjoy. So The House on Carroll Street was not entirely a waste of time, although the story is contrived and the screenplay uninspired and somewhat irritating.<br /><br />There are many allusions to different Hitchcock pictures, not least the choice of Kelly McGillis in the starring role. She is dressed up as Grace Kelly, and she is not far off the mark. Not at all. But her character is not convincing. The way she is introduced to the audience, she should be someone with political convictions and a purpose in life. After all the movie deals with a clearly defined time period, true events and a specific issue. But the story degenerates within the first minutes into a sorry run-off-the-mill crime story with unbelievable coincidences, high predictability and a set of two dimensional characters. This is all the more regrettable, as the performances of the actors are good, as are the photography and the set design.<br /><br />The finale in Central Station, New York is breath taking. It starts in the subterranean section and then moves up to the roof. The movie can be praised for its good use of architecture.',\n",
              "         b'I rented this some years ago, the video store had only VHS at the time. Straight to video was hitting it\\'s strides (you know, where the box covers use the same font and color schemes of successful films).I didn\\'t know what to expect other than what was printed. First thing I thought while watching was \"what the hells\\' wrong with the sound?\"-Obviously there was no dialogue dubbing. Words echoed, so I stopped munching on whatever I had to pay closer attention-mind you there\\'s no Shakespeare here!,just simple talk. The story is simple enough, boy meets girl etc.. What struck me as humorous and heartfelt was, the people in the movie didn\\'t seem like caricatures written into the story,but rather non-actors plucked temporarily from their real jobs(uniforms included). All the while, you begin to sense what the filmmaker is after,then see that there are no attempts at cheap humor(people hurting their privates,using vulgarities this couldn\\'t have hurt the marketing. There was something honest about it. I thought if they\\'d have a bigger budget then it would have been better, which i\\'m sure they considered daily,but, they went ahead and made it. This, I felt, was what independent film-making is all about.The word \"Indy\", is thrown around as if it\\'s a Genre..Ha!..that\\'s funny!',\n",
              "         b'I was very disappointed by this movie. I thought that \"Scary Movie\" although not a great movie was very good and funny. \"Scary Movie 2\" on the other hand was boring, not funny, and at times plain stupid.<br /><br />The Exorcist/Amityville spoof was probably the best part of the movie. James Woods was great.<br /><br />Now, I\\'ll admit that I am at a disadvantage since I have not seen a few of the movies that this parodies unlike the first, where I had basically seen them all. But bad comedy is still bad comedy.<br /><br />Something that really hurt this movie was the timing, which ruined some of what might have been good jokes. Scenes and jokes drag out way to long.<br /><br />Also, the same jokes keep getting repeated again and again. For example, the talking bird. Ok it was funny the first and maybe even the second time. But it kept getting repeated to the point of annoying. The routine between the wheelchair guy and Hanson (Chris Elliott) was amusing at first but it kept getting repeated and ended up stupid and even tasteless.<br /><br />Some jokes even got repeated from the first movie. For example, the \\'creaming\\' I guess you would call it of Cindy (Anna Faris) was funny in \"Scary Movie\" because Cindy had been holding out on giving her boyfriend sex for so long, that essentially he had blue balls from hell and it was funny when he \\'creamed\\' her. But this time around it was out of place and not funny.<br /><br />The bathroom and sexual humor in general was more amusing and well timed the first time around. The scat humor was excessive though and rather unneccessary in the second film.<br /><br />Tori Spelling was annoying and really had no place in this movie.<br /><br />But I did enjoy Shorty (Marlon Wayans) who in my opinion was the funniest character in the first film. The scene with him and the pot plant was one of my favorites from the second film.<br /><br />Don\\'t get me wrong, I love the Wayans family and their humor. That is why this film is so disappointing . . . they have a lot more comic ability than endless scat jokes.',\n",
              "         b'Sometimes realism can work against the effectiveness of a film. That\\'s no problem here. The sets are cheesy, inside and out. The fog is ubiquitous, half disguising the shabbiness of the production. If there\\'s a bar, the name painted on the front window says simply, \"Wine And Spirits.\" The result is a claustrophobic set of scenes. Not a single shot of a city or even a fake skyline. That\\'s the kind of Dublin this story is about, just as Jack the Ripper movies are about seedy, foggy, cobblestoned Whitechapel. Who would want it any other way? How could it have been any other way with no bankable stars, a minuscule budget, and a four-week shooting schedule? The acting follows suit -- outrageously hammy on everyone\\'s part. Sometimes, my God, it\\'s positively excruciating. Mrs. McPhillips moaning after Frankie is shot dead outside the house. Victor McLaglin however delivers exactly the right kind of overdone performance. Wardrobe has stuffed him into a too-small jacket so that he seems to be bursting out of it like Frankenstein\\'s monster. His every movement seems to go a little farther than it was intended to. When he slaps his cap on his head, he bops himself on the temple. A big, blustering, blubbering baby, he seems constantly drunk. He betrays his best friend for the reward money which will take him and his would-be girl to America, not a good guy in the ordinary sense. Yet we wince as he begins to spend the 20 pounds, more and more of it during a wild, alcoholic night, because every expensive and grandiose gesture takes him farther from his dream. I wouldn\\'t argue it, but I can understand why he won an Oscar.<br /><br />As for Max Steiner\\'s score, wow. Every movement, already overdone, is not only underlined by the Mickey Mouse music but highlighted in glossy yellow. It shouldn\\'t have happened -- the heavenly choirs, the endearing young charms, the minstrel boy, the gurgling tune while McLaglen drinks from the bottle. It would have been better off with no score at all.<br /><br />Well, how is it as a whole? Dated -- by any measure, but not a product of its times. That\\'s why I admire it. Yes, the symbolism is clumsy at times. McLaglen, a real dummy, bumping his head against a hanging sign. The fog. The blind man. But what impresses me is how little of this was being tried at the time. What strikes us as overly arty today was in 1936 something quite different from what was seen in most of the programmers being ground out at the time. If it falls short at times, it doesn\\'t matter. The movie was an act of courage, politically and morally as well as poetically. (The legion of decency condemned it because of a scene in a brothel.) A director\\'s goal should exceed his grasp, or what\\'s a script for? Watching it now, however, in 2006, the story is more disturbing than ever. John Ford obviously sympathized with the Irish rebels. They kill, but only out of what they see as necessity. (\"He knows too much to live. What if he goes to the Tans? Oh, it\\'s not me-self I\\'m thinking of but all of us, of Ireland herself.\") The Irish are sentimentalized and sympathetic. I wonder if the Jihadists in the Middle East don\\'t use a similar logic to justify their acts of violence.',\n",
              "         b\"My Super Ex Girlfriend turned out to be a pleasant surprise for me, I was really expecting a horrible movie that would probably be stupid and predictable, and you know what? It was! But this movie did have so many wonderful laughs and a fun plot that anyone could get a kick out of. I know that this was a very cheesy movie, but Uma and Anna were just so cool and Steve was such a great addition along with a great cast that looked like they had so much fun and that's what made the movie really work.<br /><br />Jenny Johnson(scary, that's my best friend's actual name) is not your typical average librarian looking woman, when Matt, your average male, asks her out, he's in for more than he expected, he's asked G-Girl out on a date, the super hero of the world! But when he finds out what a jealous and crazy girl she really is and decides that it may be a good idea that they spend some time apart, but Jenny won't have it since he's fallen for another girl, Hannah, and she will make his life a living hell, I mean, let's face it, he couldn't have chosen a better girl to break up with.<br /><br />The effect were corny, but you seriously move past them quickly, the story and cast made the story really work and I loved Uma in this movie, it was such a step up from Prime. My Super Ex Girlfriend is a fun movie that you shouldn't really take seriously, it's just a cute romantic comedy that I think if I could get a laugh out of it, anyone could.<br /><br />7/10\",\n",
              "         b\"I personally watched this to see the footage of the 60's and 70's. It was fascinating to learn how the drug movement essentially started and became pop culture and an eventual uncompromising force in life. The interviews of the classic rock stars are titillating and humorous. You feel like you're in on a secret and nodding your head at the same time...because it feels so good and familiar. I loved it, all segments from 60's-present day. I highly recommend this for all aspects, including rock music, the hipper movement, politics and good 'ol history. I check marked the box saying this contains a spoiler, only because I have no idea what some might consider a spoiler or not in this regards, since I discussed what's in all 4 segments, so just wanted to be safe.\",\n",
              "         b\"I have seen a couple movies on eating disorders but this one was definitely my favorite one. The problem with the other ones was that the people with the eating disorders towards the end just automatically get better or accept the fact that they need help and thats it. this movie I thought was more realistic cause in this one the main character Lexi doesn't automatically just get better. She gets better and then has a drawback. I think this movie shows more than the others that I've seen that getting better doesn't just happen, it's hard work and takes time, it's a long path to recovery. I think this movie shows all of that very well. There should be more movies like this.\",\n",
              "         b'I always feel strange and guilty saying it (because I\\'m a fairly well-educated non-teenager), but I actually sort of like the Olsen twins, and I respect the movies they make, even though I\\'ve never really been their target audience. \"When in Rome\" was a traditional Mary-Kate and Ashley movie, complete with the foreign travel, accents, motorbikes, adult romance as a \"B\" storyline, fashion orientation, and even the gag reel over the credits. I enjoyed myself. \"When in Rome\" and the other Olsen twin movies never pretend to be anything they\\'re not; most of the time, they only premiere on video, and they never claim to be the next \"Citizen Kane\" or even \"An Affair to Remember.\" My point is, people who watch this movie and expect it to be anything other than another Olsen twin movie will be disappointed.<br /><br />That said, those who ARE fans of the Olsen twins will really enjoy themselves. For those of us who\\'ve watched them since the first episodes of \"Full House,\" it\\'s really great to see them growing into more mature roles. This movie provides important historical and geographical information, just like many of their other movies (remember 10 Downing Street from \"Winning London\" and the visit to the Louvre from \"Passport to Paris\"?) as well as providing good, clean fun that can be enjoyed by the whole family.<br /><br />As long as I still feel like I\\'m on my soapbox, and as long as I can make it relevant to the movie, let me take a moment to challenge those who reject the Olsen twins: in order to be a fan of the Olsen twins, you don\\'t have to be some pre-teen \"valley girl\" from California. In fact, that\\'s not really the target audience. If it were, the MK&A fashion line of clothes and accessories would be run through Gap or some store like that, not Wal-Mart. \"When in Rome,\" while it does feature \"high fashion\" and globe-trotting and two girls from a valley in Cali, isn\\'t really ABOUT that... it\\'s more about inspiring young girls who have initiative to let it take them places. If that means setting the movie in some glamorous foreign city with cute guys on motorbikes, so be it. That\\'s called marketing--you take an idea and sell it by making it appealing. At least they\\'re sending a good message, even if the means seem a little superficial. <br /><br />Basically, don\\'t knock the film until you\\'ve seen it, and then don\\'t knock it until you\\'ve tried to understand what the Olsen twins do: they encourage young girls to be creative, intuitive, and driven young women. This movie does that, I think, just like their others. Kids - enjoy. Parents - do the same. If you like the Olsen twins, you won\\'t be disappointed.'],\n",
              "        dtype=object)>,\n",
              "  <tf.Tensor: shape=(64,), dtype=int64, numpy=\n",
              "  array([1, 0, 1, 0, 1, 1, 1, 1, 0, 0, 1, 0, 0, 0, 0, 0, 1, 0, 1, 0, 1, 1,\n",
              "         0, 0, 1, 1, 1, 0, 0, 1, 0, 0, 0, 1, 1, 0, 0, 0, 1, 1, 1, 0, 0, 1,\n",
              "         1, 1, 0, 1, 0, 1, 1, 1, 1, 1, 0, 0, 0, 1, 0, 1, 1, 1, 1, 1])>)]"
            ]
          },
          "metadata": {},
          "execution_count": 49
        }
      ]
    },
    {
      "cell_type": "code",
      "source": [
        "len(encoder.get_vocabulary())"
      ],
      "metadata": {
        "colab": {
          "base_uri": "https://localhost:8080/"
        },
        "id": "KZO7HJGaUAft",
        "outputId": "000ff0ae-af93-4d9f-94d2-66ba1355c224"
      },
      "execution_count": null,
      "outputs": [
        {
          "output_type": "execute_result",
          "data": {
            "text/plain": [
              "1000"
            ]
          },
          "metadata": {},
          "execution_count": 53
        }
      ]
    },
    {
      "cell_type": "markdown",
      "source": [
        "## Red de Elman o Red Recurrente Vainilla\n",
        "\n",
        "Implementaremos una red recurrente \"vainilla\" (básica, red de Elman) con un tamaño de estado oculto de 64, es decir, 64 unidades en la capa recurrente. Primero tiene una capa de *embedding* que vectoriza a las palabras en forma conveniente. Finalmente le ponemos una capa densa de 64 unidades y una sola salida."
      ],
      "metadata": {
        "id": "2YuAzy6wo9PV"
      }
    },
    {
      "cell_type": "code",
      "source": [
        "model = tf.keras.Sequential([\n",
        "    encoder,\n",
        "    tf.keras.layers.Embedding(\n",
        "        input_dim=len(encoder.get_vocabulary()),\n",
        "        output_dim=64,\n",
        "        mask_zero=True # usamos una máscara para hacer padding y\n",
        "                       # considerar tamaños de secuencia distintos.\n",
        "    ),\n",
        "    tf.keras.layers.SimpleRNN(64),\n",
        "    tf.keras.layers.Dense(64, activation='relu'),\n",
        "    tf.keras.layers.Dense(1)\n",
        "])"
      ],
      "metadata": {
        "id": "nrgt8XEDpBbc"
      },
      "execution_count": null,
      "outputs": []
    },
    {
      "cell_type": "markdown",
      "source": [
        "Ahora compilamos utilizando la Entropía Cruzada Categórica Binaria y el optimizador Adam con alpha = 1e-4. ¡No olvidemos que estamos resolviendo un problema de clasificación binaria!"
      ],
      "metadata": {
        "id": "cer0pcxDrL_9"
      }
    },
    {
      "cell_type": "code",
      "source": [
        "model.compile(loss=tf.keras.losses.BinaryCrossentropy(from_logits=True),\n",
        "              optimizer=tf.keras.optimizers.Adam(1e-4),\n",
        "              metrics=['accuracy'])"
      ],
      "metadata": {
        "id": "KMtf-OIUrKt3"
      },
      "execution_count": null,
      "outputs": []
    },
    {
      "cell_type": "code",
      "source": [
        "model.summary()"
      ],
      "metadata": {
        "colab": {
          "base_uri": "https://localhost:8080/",
          "height": 321
        },
        "id": "8S5CR8EIlV16",
        "outputId": "6d3119f7-1620-4d71-9a80-e6d80e2c0ed0"
      },
      "execution_count": null,
      "outputs": [
        {
          "output_type": "display_data",
          "data": {
            "text/plain": [
              "\u001b[1mModel: \"sequential_1\"\u001b[0m\n"
            ],
            "text/html": [
              "<pre style=\"white-space:pre;overflow-x:auto;line-height:normal;font-family:Menlo,'DejaVu Sans Mono',consolas,'Courier New',monospace\"><span style=\"font-weight: bold\">Model: \"sequential_1\"</span>\n",
              "</pre>\n"
            ]
          },
          "metadata": {}
        },
        {
          "output_type": "display_data",
          "data": {
            "text/plain": [
              "┏━━━━━━━━━━━━━━━━━━━━━━━━━━━━━━━━━┳━━━━━━━━━━━━━━━━━━━━━━━━┳━━━━━━━━━━━━━━━┓\n",
              "┃\u001b[1m \u001b[0m\u001b[1mLayer (type)                   \u001b[0m\u001b[1m \u001b[0m┃\u001b[1m \u001b[0m\u001b[1mOutput Shape          \u001b[0m\u001b[1m \u001b[0m┃\u001b[1m \u001b[0m\u001b[1m      Param #\u001b[0m\u001b[1m \u001b[0m┃\n",
              "┡━━━━━━━━━━━━━━━━━━━━━━━━━━━━━━━━━╇━━━━━━━━━━━━━━━━━━━━━━━━╇━━━━━━━━━━━━━━━┩\n",
              "│ text_vectorization              │ (\u001b[38;5;45mNone\u001b[0m, \u001b[38;5;45mNone\u001b[0m)           │             \u001b[38;5;34m0\u001b[0m │\n",
              "│ (\u001b[38;5;33mTextVectorization\u001b[0m)             │                        │               │\n",
              "├─────────────────────────────────┼────────────────────────┼───────────────┤\n",
              "│ embedding_1 (\u001b[38;5;33mEmbedding\u001b[0m)         │ (\u001b[38;5;45mNone\u001b[0m, \u001b[38;5;45mNone\u001b[0m, \u001b[38;5;34m64\u001b[0m)       │        \u001b[38;5;34m64,000\u001b[0m │\n",
              "├─────────────────────────────────┼────────────────────────┼───────────────┤\n",
              "│ simple_rnn_1 (\u001b[38;5;33mSimpleRNN\u001b[0m)        │ (\u001b[38;5;45mNone\u001b[0m, \u001b[38;5;34m64\u001b[0m)             │         \u001b[38;5;34m8,256\u001b[0m │\n",
              "├─────────────────────────────────┼────────────────────────┼───────────────┤\n",
              "│ dense_2 (\u001b[38;5;33mDense\u001b[0m)                 │ (\u001b[38;5;45mNone\u001b[0m, \u001b[38;5;34m64\u001b[0m)             │         \u001b[38;5;34m4,160\u001b[0m │\n",
              "├─────────────────────────────────┼────────────────────────┼───────────────┤\n",
              "│ dense_3 (\u001b[38;5;33mDense\u001b[0m)                 │ (\u001b[38;5;45mNone\u001b[0m, \u001b[38;5;34m1\u001b[0m)              │            \u001b[38;5;34m65\u001b[0m │\n",
              "└─────────────────────────────────┴────────────────────────┴───────────────┘\n"
            ],
            "text/html": [
              "<pre style=\"white-space:pre;overflow-x:auto;line-height:normal;font-family:Menlo,'DejaVu Sans Mono',consolas,'Courier New',monospace\">┏━━━━━━━━━━━━━━━━━━━━━━━━━━━━━━━━━┳━━━━━━━━━━━━━━━━━━━━━━━━┳━━━━━━━━━━━━━━━┓\n",
              "┃<span style=\"font-weight: bold\"> Layer (type)                    </span>┃<span style=\"font-weight: bold\"> Output Shape           </span>┃<span style=\"font-weight: bold\">       Param # </span>┃\n",
              "┡━━━━━━━━━━━━━━━━━━━━━━━━━━━━━━━━━╇━━━━━━━━━━━━━━━━━━━━━━━━╇━━━━━━━━━━━━━━━┩\n",
              "│ text_vectorization              │ (<span style=\"color: #00d7ff; text-decoration-color: #00d7ff\">None</span>, <span style=\"color: #00d7ff; text-decoration-color: #00d7ff\">None</span>)           │             <span style=\"color: #00af00; text-decoration-color: #00af00\">0</span> │\n",
              "│ (<span style=\"color: #0087ff; text-decoration-color: #0087ff\">TextVectorization</span>)             │                        │               │\n",
              "├─────────────────────────────────┼────────────────────────┼───────────────┤\n",
              "│ embedding_1 (<span style=\"color: #0087ff; text-decoration-color: #0087ff\">Embedding</span>)         │ (<span style=\"color: #00d7ff; text-decoration-color: #00d7ff\">None</span>, <span style=\"color: #00d7ff; text-decoration-color: #00d7ff\">None</span>, <span style=\"color: #00af00; text-decoration-color: #00af00\">64</span>)       │        <span style=\"color: #00af00; text-decoration-color: #00af00\">64,000</span> │\n",
              "├─────────────────────────────────┼────────────────────────┼───────────────┤\n",
              "│ simple_rnn_1 (<span style=\"color: #0087ff; text-decoration-color: #0087ff\">SimpleRNN</span>)        │ (<span style=\"color: #00d7ff; text-decoration-color: #00d7ff\">None</span>, <span style=\"color: #00af00; text-decoration-color: #00af00\">64</span>)             │         <span style=\"color: #00af00; text-decoration-color: #00af00\">8,256</span> │\n",
              "├─────────────────────────────────┼────────────────────────┼───────────────┤\n",
              "│ dense_2 (<span style=\"color: #0087ff; text-decoration-color: #0087ff\">Dense</span>)                 │ (<span style=\"color: #00d7ff; text-decoration-color: #00d7ff\">None</span>, <span style=\"color: #00af00; text-decoration-color: #00af00\">64</span>)             │         <span style=\"color: #00af00; text-decoration-color: #00af00\">4,160</span> │\n",
              "├─────────────────────────────────┼────────────────────────┼───────────────┤\n",
              "│ dense_3 (<span style=\"color: #0087ff; text-decoration-color: #0087ff\">Dense</span>)                 │ (<span style=\"color: #00d7ff; text-decoration-color: #00d7ff\">None</span>, <span style=\"color: #00af00; text-decoration-color: #00af00\">1</span>)              │            <span style=\"color: #00af00; text-decoration-color: #00af00\">65</span> │\n",
              "└─────────────────────────────────┴────────────────────────┴───────────────┘\n",
              "</pre>\n"
            ]
          },
          "metadata": {}
        },
        {
          "output_type": "display_data",
          "data": {
            "text/plain": [
              "\u001b[1m Total params: \u001b[0m\u001b[38;5;34m229,445\u001b[0m (896.27 KB)\n"
            ],
            "text/html": [
              "<pre style=\"white-space:pre;overflow-x:auto;line-height:normal;font-family:Menlo,'DejaVu Sans Mono',consolas,'Courier New',monospace\"><span style=\"font-weight: bold\"> Total params: </span><span style=\"color: #00af00; text-decoration-color: #00af00\">229,445</span> (896.27 KB)\n",
              "</pre>\n"
            ]
          },
          "metadata": {}
        },
        {
          "output_type": "display_data",
          "data": {
            "text/plain": [
              "\u001b[1m Trainable params: \u001b[0m\u001b[38;5;34m76,481\u001b[0m (298.75 KB)\n"
            ],
            "text/html": [
              "<pre style=\"white-space:pre;overflow-x:auto;line-height:normal;font-family:Menlo,'DejaVu Sans Mono',consolas,'Courier New',monospace\"><span style=\"font-weight: bold\"> Trainable params: </span><span style=\"color: #00af00; text-decoration-color: #00af00\">76,481</span> (298.75 KB)\n",
              "</pre>\n"
            ]
          },
          "metadata": {}
        },
        {
          "output_type": "display_data",
          "data": {
            "text/plain": [
              "\u001b[1m Non-trainable params: \u001b[0m\u001b[38;5;34m0\u001b[0m (0.00 B)\n"
            ],
            "text/html": [
              "<pre style=\"white-space:pre;overflow-x:auto;line-height:normal;font-family:Menlo,'DejaVu Sans Mono',consolas,'Courier New',monospace\"><span style=\"font-weight: bold\"> Non-trainable params: </span><span style=\"color: #00af00; text-decoration-color: #00af00\">0</span> (0.00 B)\n",
              "</pre>\n"
            ]
          },
          "metadata": {}
        },
        {
          "output_type": "display_data",
          "data": {
            "text/plain": [
              "\u001b[1m Optimizer params: \u001b[0m\u001b[38;5;34m152,964\u001b[0m (597.52 KB)\n"
            ],
            "text/html": [
              "<pre style=\"white-space:pre;overflow-x:auto;line-height:normal;font-family:Menlo,'DejaVu Sans Mono',consolas,'Courier New',monospace\"><span style=\"font-weight: bold\"> Optimizer params: </span><span style=\"color: #00af00; text-decoration-color: #00af00\">152,964</span> (597.52 KB)\n",
              "</pre>\n"
            ]
          },
          "metadata": {}
        }
      ]
    },
    {
      "cell_type": "markdown",
      "source": [
        "Finalmente ya podemos entrenar a 3 épocas. Este proceso es muy lento y va a tardar media hora."
      ],
      "metadata": {
        "id": "1UZJXjvBrz3r"
      }
    },
    {
      "cell_type": "code",
      "source": [
        "history = model.fit(train_dataset, epochs=10)"
      ],
      "metadata": {
        "colab": {
          "base_uri": "https://localhost:8080/"
        },
        "id": "B0PLftOXr18E",
        "outputId": "d61ccfd3-8a8e-4bcf-c9f7-336c4dec0149"
      },
      "execution_count": null,
      "outputs": [
        {
          "output_type": "stream",
          "name": "stdout",
          "text": [
            "Epoch 1/10\n",
            "\u001b[1m391/391\u001b[0m \u001b[32m━━━━━━━━━━━━━━━━━━━━\u001b[0m\u001b[37m\u001b[0m \u001b[1m204s\u001b[0m 512ms/step - accuracy: 0.5051 - loss: 0.6924\n",
            "Epoch 2/10\n",
            "\u001b[1m391/391\u001b[0m \u001b[32m━━━━━━━━━━━━━━━━━━━━\u001b[0m\u001b[37m\u001b[0m \u001b[1m202s\u001b[0m 513ms/step - accuracy: 0.6254 - loss: 0.6042\n",
            "Epoch 3/10\n",
            "\u001b[1m391/391\u001b[0m \u001b[32m━━━━━━━━━━━━━━━━━━━━\u001b[0m\u001b[37m\u001b[0m \u001b[1m202s\u001b[0m 513ms/step - accuracy: 0.7904 - loss: 0.4567\n",
            "Epoch 4/10\n",
            "\u001b[1m391/391\u001b[0m \u001b[32m━━━━━━━━━━━━━━━━━━━━\u001b[0m\u001b[37m\u001b[0m \u001b[1m205s\u001b[0m 524ms/step - accuracy: 0.8387 - loss: 0.3649\n",
            "Epoch 5/10\n",
            "\u001b[1m391/391\u001b[0m \u001b[32m━━━━━━━━━━━━━━━━━━━━\u001b[0m\u001b[37m\u001b[0m \u001b[1m203s\u001b[0m 519ms/step - accuracy: 0.8546 - loss: 0.3399\n",
            "Epoch 6/10\n",
            "\u001b[1m391/391\u001b[0m \u001b[32m━━━━━━━━━━━━━━━━━━━━\u001b[0m\u001b[37m\u001b[0m \u001b[1m211s\u001b[0m 539ms/step - accuracy: 0.8625 - loss: 0.3151\n",
            "Epoch 7/10\n",
            "\u001b[1m391/391\u001b[0m \u001b[32m━━━━━━━━━━━━━━━━━━━━\u001b[0m\u001b[37m\u001b[0m \u001b[1m212s\u001b[0m 541ms/step - accuracy: 0.8676 - loss: 0.3068\n",
            "Epoch 8/10\n",
            "\u001b[1m391/391\u001b[0m \u001b[32m━━━━━━━━━━━━━━━━━━━━\u001b[0m\u001b[37m\u001b[0m \u001b[1m205s\u001b[0m 523ms/step - accuracy: 0.8736 - loss: 0.2980\n",
            "Epoch 9/10\n",
            "\u001b[1m391/391\u001b[0m \u001b[32m━━━━━━━━━━━━━━━━━━━━\u001b[0m\u001b[37m\u001b[0m \u001b[1m200s\u001b[0m 512ms/step - accuracy: 0.8794 - loss: 0.2881\n",
            "Epoch 10/10\n",
            "\u001b[1m391/391\u001b[0m \u001b[32m━━━━━━━━━━━━━━━━━━━━\u001b[0m\u001b[37m\u001b[0m \u001b[1m213s\u001b[0m 541ms/step - accuracy: 0.8783 - loss: 0.2827\n"
          ]
        }
      ]
    },
    {
      "cell_type": "markdown",
      "source": [
        "Finalmente procedemos a evaluar:"
      ],
      "metadata": {
        "id": "Dt3d4wBdt9ql"
      }
    },
    {
      "cell_type": "code",
      "source": [
        "test_loss, test_acc = model.evaluate(test_dataset)\n",
        "\n",
        "print('Test Loss:', test_loss)\n",
        "print('Test Accuracy:', test_acc)"
      ],
      "metadata": {
        "colab": {
          "base_uri": "https://localhost:8080/"
        },
        "id": "BQ2SXvzFt9Of",
        "outputId": "1820ae2c-6dc3-4e18-f7db-3e2fd93b7915"
      },
      "execution_count": null,
      "outputs": [
        {
          "output_type": "stream",
          "name": "stdout",
          "text": [
            "\u001b[1m391/391\u001b[0m \u001b[32m━━━━━━━━━━━━━━━━━━━━\u001b[0m\u001b[37m\u001b[0m \u001b[1m50s\u001b[0m 126ms/step - accuracy: 0.8554 - loss: 0.3337\n",
            "Test Loss: 0.3342169523239136\n",
            "Test Accuracy: 0.8543599843978882\n"
          ]
        }
      ]
    },
    {
      "cell_type": "markdown",
      "source": [
        "Graficamos."
      ],
      "metadata": {
        "id": "MIhJSOfeu0m8"
      }
    },
    {
      "cell_type": "code",
      "source": [
        "plt.figure(figsize=(16, 8))\n",
        "plt.subplot(1, 2, 1)\n",
        "plot_graphs(history, 'accuracy')\n",
        "plt.ylim(None, 1)\n",
        "plt.subplot(1, 2, 2)\n",
        "plot_graphs(history, 'loss')\n",
        "plt.ylim(0, None)"
      ],
      "metadata": {
        "colab": {
          "base_uri": "https://localhost:8080/",
          "height": 638
        },
        "id": "KzEZlNRvuz-I",
        "outputId": "0dbb7302-55fe-4505-e74c-59d6c63cf0b2"
      },
      "execution_count": null,
      "outputs": [
        {
          "output_type": "execute_result",
          "data": {
            "text/plain": [
              "(0.0, 0.7063082292675972)"
            ]
          },
          "metadata": {},
          "execution_count": 68
        },
        {
          "output_type": "display_data",
          "data": {
            "text/plain": [
              "<Figure size 1600x800 with 2 Axes>"
            ],
            "image/png": "[encoded data removed]"
          },
          "metadata": {}
        }
      ]
    },
    {
      "cell_type": "markdown",
      "source": [
        "Ahora necesitamos usar el modelo. Sin embargo, no podemos utilizarlo directamente sino que debemos convertirlo en un tensor de Tensorflow."
      ],
      "metadata": {
        "id": "r2iGpIaGv4gH"
      }
    },
    {
      "cell_type": "code",
      "source": [
        "sample_text = ('The movie was cool. The animation and the graphics were out of this world. I would recommend this movie.')\n",
        "sample_text_tensor = tf.constant([sample_text])"
      ],
      "metadata": {
        "id": "20kjCm3Wv31J"
      },
      "execution_count": null,
      "outputs": []
    },
    {
      "cell_type": "markdown",
      "source": [
        "Ahora lo podemos utilizar directamente. En este caso, si el resultado >= 0 entonces es positivo, en otro caso el texto es negativo."
      ],
      "metadata": {
        "id": "ZcTmm86_wyh9"
      }
    },
    {
      "cell_type": "code",
      "source": [
        "predictions = model.predict(sample_text_tensor)\n",
        "print(predictions)"
      ],
      "metadata": {
        "colab": {
          "base_uri": "https://localhost:8080/"
        },
        "id": "xqTBaB1iw036",
        "outputId": "3fead9cd-83f9-4902-d562-f9340c3c6d03"
      },
      "execution_count": null,
      "outputs": [
        {
          "output_type": "stream",
          "name": "stdout",
          "text": [
            "\u001b[1m1/1\u001b[0m \u001b[32m━━━━━━━━━━━━━━━━━━━━\u001b[0m\u001b[37m\u001b[0m \u001b[1m0s\u001b[0m 61ms/step\n",
            "[[0.45729405]]\n"
          ]
        }
      ]
    },
    {
      "cell_type": "markdown",
      "source": [
        "Probemos con un texto claramente negativo."
      ],
      "metadata": {
        "id": "1Ul6U2bbxH4M"
      }
    },
    {
      "cell_type": "code",
      "source": [
        "sample_text = ('The movie was terrible!!.')\n",
        "sample_text_tensor = tf.constant([sample_text])\n",
        "predictions = model.predict(sample_text_tensor)\n",
        "print(predictions)"
      ],
      "metadata": {
        "colab": {
          "base_uri": "https://localhost:8080/"
        },
        "id": "q-WzTxOzxGY7",
        "outputId": "84cf91be-bc9d-4adb-a562-fbb49d1313bb"
      },
      "execution_count": null,
      "outputs": [
        {
          "output_type": "stream",
          "name": "stdout",
          "text": [
            "\u001b[1m1/1\u001b[0m \u001b[32m━━━━━━━━━━━━━━━━━━━━\u001b[0m\u001b[37m\u001b[0m \u001b[1m0s\u001b[0m 40ms/step\n",
            "[[-1.3553845]]\n"
          ]
        }
      ]
    },
    {
      "cell_type": "markdown",
      "source": [
        "## LSTM"
      ],
      "metadata": {
        "id": "ehkreNKozOYK"
      }
    },
    {
      "cell_type": "markdown",
      "source": [
        "Definimos el siguiente modelo con la LSTM. Utilizaremos la misma estructura que en la red recurrente anterior."
      ],
      "metadata": {
        "id": "6kQX0VP5zeFL"
      }
    },
    {
      "cell_type": "code",
      "source": [
        "model = tf.keras.Sequential([\n",
        "    encoder,\n",
        "    tf.keras.layers.Embedding(\n",
        "        input_dim=len(encoder.get_vocabulary()),\n",
        "        output_dim=64,\n",
        "        mask_zero=True),\n",
        "    tf.keras.layers.LSTM(64),\n",
        "    tf.keras.layers.Dense(64, activation='relu'),\n",
        "    tf.keras.layers.Dense(1)\n",
        "])"
      ],
      "metadata": {
        "id": "miyh7rwHzQGO"
      },
      "execution_count": null,
      "outputs": []
    },
    {
      "cell_type": "code",
      "source": [
        "model.summary()"
      ],
      "metadata": {
        "colab": {
          "base_uri": "https://localhost:8080/",
          "height": 305
        },
        "id": "CwJTxbiLk83N",
        "outputId": "09b7b9f6-b05e-4bf4-e321-2195da3efa59"
      },
      "execution_count": null,
      "outputs": [
        {
          "output_type": "display_data",
          "data": {
            "text/plain": [
              "\u001b[1mModel: \"sequential_2\"\u001b[0m\n"
            ],
            "text/html": [
              "<pre style=\"white-space:pre;overflow-x:auto;line-height:normal;font-family:Menlo,'DejaVu Sans Mono',consolas,'Courier New',monospace\"><span style=\"font-weight: bold\">Model: \"sequential_2\"</span>\n",
              "</pre>\n"
            ]
          },
          "metadata": {}
        },
        {
          "output_type": "display_data",
          "data": {
            "text/plain": [
              "┏━━━━━━━━━━━━━━━━━━━━━━━━━━━━━━━━━┳━━━━━━━━━━━━━━━━━━━━━━━━┳━━━━━━━━━━━━━━━┓\n",
              "┃\u001b[1m \u001b[0m\u001b[1mLayer (type)                   \u001b[0m\u001b[1m \u001b[0m┃\u001b[1m \u001b[0m\u001b[1mOutput Shape          \u001b[0m\u001b[1m \u001b[0m┃\u001b[1m \u001b[0m\u001b[1m      Param #\u001b[0m\u001b[1m \u001b[0m┃\n",
              "┡━━━━━━━━━━━━━━━━━━━━━━━━━━━━━━━━━╇━━━━━━━━━━━━━━━━━━━━━━━━╇━━━━━━━━━━━━━━━┩\n",
              "│ text_vectorization              │ (\u001b[38;5;45mNone\u001b[0m, \u001b[38;5;45mNone\u001b[0m)           │             \u001b[38;5;34m0\u001b[0m │\n",
              "│ (\u001b[38;5;33mTextVectorization\u001b[0m)             │                        │               │\n",
              "├─────────────────────────────────┼────────────────────────┼───────────────┤\n",
              "│ embedding_2 (\u001b[38;5;33mEmbedding\u001b[0m)         │ ?                      │   \u001b[38;5;34m0\u001b[0m (unbuilt) │\n",
              "├─────────────────────────────────┼────────────────────────┼───────────────┤\n",
              "│ lstm (\u001b[38;5;33mLSTM\u001b[0m)                     │ ?                      │   \u001b[38;5;34m0\u001b[0m (unbuilt) │\n",
              "├─────────────────────────────────┼────────────────────────┼───────────────┤\n",
              "│ dense_4 (\u001b[38;5;33mDense\u001b[0m)                 │ ?                      │   \u001b[38;5;34m0\u001b[0m (unbuilt) │\n",
              "├─────────────────────────────────┼────────────────────────┼───────────────┤\n",
              "│ dense_5 (\u001b[38;5;33mDense\u001b[0m)                 │ ?                      │   \u001b[38;5;34m0\u001b[0m (unbuilt) │\n",
              "└─────────────────────────────────┴────────────────────────┴───────────────┘\n"
            ],
            "text/html": [
              "<pre style=\"white-space:pre;overflow-x:auto;line-height:normal;font-family:Menlo,'DejaVu Sans Mono',consolas,'Courier New',monospace\">┏━━━━━━━━━━━━━━━━━━━━━━━━━━━━━━━━━┳━━━━━━━━━━━━━━━━━━━━━━━━┳━━━━━━━━━━━━━━━┓\n",
              "┃<span style=\"font-weight: bold\"> Layer (type)                    </span>┃<span style=\"font-weight: bold\"> Output Shape           </span>┃<span style=\"font-weight: bold\">       Param # </span>┃\n",
              "┡━━━━━━━━━━━━━━━━━━━━━━━━━━━━━━━━━╇━━━━━━━━━━━━━━━━━━━━━━━━╇━━━━━━━━━━━━━━━┩\n",
              "│ text_vectorization              │ (<span style=\"color: #00d7ff; text-decoration-color: #00d7ff\">None</span>, <span style=\"color: #00d7ff; text-decoration-color: #00d7ff\">None</span>)           │             <span style=\"color: #00af00; text-decoration-color: #00af00\">0</span> │\n",
              "│ (<span style=\"color: #0087ff; text-decoration-color: #0087ff\">TextVectorization</span>)             │                        │               │\n",
              "├─────────────────────────────────┼────────────────────────┼───────────────┤\n",
              "│ embedding_2 (<span style=\"color: #0087ff; text-decoration-color: #0087ff\">Embedding</span>)         │ ?                      │   <span style=\"color: #00af00; text-decoration-color: #00af00\">0</span> (unbuilt) │\n",
              "├─────────────────────────────────┼────────────────────────┼───────────────┤\n",
              "│ lstm (<span style=\"color: #0087ff; text-decoration-color: #0087ff\">LSTM</span>)                     │ ?                      │   <span style=\"color: #00af00; text-decoration-color: #00af00\">0</span> (unbuilt) │\n",
              "├─────────────────────────────────┼────────────────────────┼───────────────┤\n",
              "│ dense_4 (<span style=\"color: #0087ff; text-decoration-color: #0087ff\">Dense</span>)                 │ ?                      │   <span style=\"color: #00af00; text-decoration-color: #00af00\">0</span> (unbuilt) │\n",
              "├─────────────────────────────────┼────────────────────────┼───────────────┤\n",
              "│ dense_5 (<span style=\"color: #0087ff; text-decoration-color: #0087ff\">Dense</span>)                 │ ?                      │   <span style=\"color: #00af00; text-decoration-color: #00af00\">0</span> (unbuilt) │\n",
              "└─────────────────────────────────┴────────────────────────┴───────────────┘\n",
              "</pre>\n"
            ]
          },
          "metadata": {}
        },
        {
          "output_type": "display_data",
          "data": {
            "text/plain": [
              "\u001b[1m Total params: \u001b[0m\u001b[38;5;34m0\u001b[0m (0.00 B)\n"
            ],
            "text/html": [
              "<pre style=\"white-space:pre;overflow-x:auto;line-height:normal;font-family:Menlo,'DejaVu Sans Mono',consolas,'Courier New',monospace\"><span style=\"font-weight: bold\"> Total params: </span><span style=\"color: #00af00; text-decoration-color: #00af00\">0</span> (0.00 B)\n",
              "</pre>\n"
            ]
          },
          "metadata": {}
        },
        {
          "output_type": "display_data",
          "data": {
            "text/plain": [
              "\u001b[1m Trainable params: \u001b[0m\u001b[38;5;34m0\u001b[0m (0.00 B)\n"
            ],
            "text/html": [
              "<pre style=\"white-space:pre;overflow-x:auto;line-height:normal;font-family:Menlo,'DejaVu Sans Mono',consolas,'Courier New',monospace\"><span style=\"font-weight: bold\"> Trainable params: </span><span style=\"color: #00af00; text-decoration-color: #00af00\">0</span> (0.00 B)\n",
              "</pre>\n"
            ]
          },
          "metadata": {}
        },
        {
          "output_type": "display_data",
          "data": {
            "text/plain": [
              "\u001b[1m Non-trainable params: \u001b[0m\u001b[38;5;34m0\u001b[0m (0.00 B)\n"
            ],
            "text/html": [
              "<pre style=\"white-space:pre;overflow-x:auto;line-height:normal;font-family:Menlo,'DejaVu Sans Mono',consolas,'Courier New',monospace\"><span style=\"font-weight: bold\"> Non-trainable params: </span><span style=\"color: #00af00; text-decoration-color: #00af00\">0</span> (0.00 B)\n",
              "</pre>\n"
            ]
          },
          "metadata": {}
        }
      ]
    },
    {
      "cell_type": "code",
      "source": [
        "model.compile(loss=tf.keras.losses.BinaryCrossentropy(from_logits=True),\n",
        "              optimizer=tf.keras.optimizers.Adam(1e-4),\n",
        "              metrics=['accuracy'])"
      ],
      "metadata": {
        "id": "MEtuyo6x4fk8"
      },
      "execution_count": null,
      "outputs": []
    },
    {
      "cell_type": "code",
      "source": [
        "history = model.fit(train_dataset, epochs=10,\n",
        "                    validation_data=test_dataset,\n",
        "                    validation_steps=30)"
      ],
      "metadata": {
        "colab": {
          "base_uri": "https://localhost:8080/"
        },
        "id": "MEZL5DC34o77",
        "outputId": "c9d769cd-be68-4ab4-820a-dc453bca26ca"
      },
      "execution_count": null,
      "outputs": [
        {
          "output_type": "stream",
          "name": "stdout",
          "text": [
            "Epoch 1/10\n",
            "\u001b[1m391/391\u001b[0m \u001b[32m━━━━━━━━━━━━━━━━━━━━\u001b[0m\u001b[37m\u001b[0m \u001b[1m411s\u001b[0m 1s/step - accuracy: 0.5104 - loss: 0.6885 - val_accuracy: 0.7130 - val_loss: 0.5409\n",
            "Epoch 2/10\n",
            "\u001b[1m391/391\u001b[0m \u001b[32m━━━━━━━━━━━━━━━━━━━━\u001b[0m\u001b[37m\u001b[0m \u001b[1m445s\u001b[0m 1s/step - accuracy: 0.7591 - loss: 0.4905 - val_accuracy: 0.8349 - val_loss: 0.3793\n",
            "Epoch 3/10\n",
            "\u001b[1m391/391\u001b[0m \u001b[32m━━━━━━━━━━━━━━━━━━━━\u001b[0m\u001b[37m\u001b[0m \u001b[1m407s\u001b[0m 1s/step - accuracy: 0.8445 - loss: 0.3616 - val_accuracy: 0.8474 - val_loss: 0.3492\n",
            "Epoch 4/10\n",
            "\u001b[1m391/391\u001b[0m \u001b[32m━━━━━━━━━━━━━━━━━━━━\u001b[0m\u001b[37m\u001b[0m \u001b[1m411s\u001b[0m 1s/step - accuracy: 0.8586 - loss: 0.3334 - val_accuracy: 0.8443 - val_loss: 0.3413\n",
            "Epoch 5/10\n",
            "\u001b[1m391/391\u001b[0m \u001b[32m━━━━━━━━━━━━━━━━━━━━\u001b[0m\u001b[37m\u001b[0m \u001b[1m442s\u001b[0m 1s/step - accuracy: 0.8590 - loss: 0.3297 - val_accuracy: 0.8510 - val_loss: 0.3385\n",
            "Epoch 6/10\n",
            "\u001b[1m375/391\u001b[0m \u001b[32m━━━━━━━━━━━━━━━━━━━\u001b[0m\u001b[37m━\u001b[0m \u001b[1m16s\u001b[0m 1s/step - accuracy: 0.8657 - loss: 0.3173"
          ]
        }
      ]
    },
    {
      "cell_type": "code",
      "source": [
        "test_loss, test_acc = model.evaluate(test_dataset)\n",
        "\n",
        "print('Test Loss:', test_loss)\n",
        "print('Test Accuracy:', test_acc)"
      ],
      "metadata": {
        "id": "s_Oidndb5Y80"
      },
      "execution_count": null,
      "outputs": []
    },
    {
      "cell_type": "code",
      "source": [
        "plt.figure(figsize=(16, 8))\n",
        "plt.subplot(1, 2, 1)\n",
        "plot_graphs(history, 'accuracy')\n",
        "plt.ylim(None, 1)\n",
        "plt.subplot(1, 2, 2)\n",
        "plot_graphs(history, 'loss')\n",
        "plt.ylim(0, None)"
      ],
      "metadata": {
        "id": "bDMF88Jk5uJf"
      },
      "execution_count": null,
      "outputs": []
    },
    {
      "cell_type": "code",
      "source": [
        "sample_text = ('The movie was cool. The animation and the graphics were out of this world. I would recommend this movie.')\n",
        "sample_text_tensor = tf.constant([sample_text])\n",
        "predictions = model.predict(sample_text_tensor)\n",
        "print(predictions)"
      ],
      "metadata": {
        "id": "6hCnYmmN5hl2"
      },
      "execution_count": null,
      "outputs": []
    },
    {
      "cell_type": "code",
      "source": [
        "sample_text = ('The movie was terrible!!.')\n",
        "sample_text_tensor = tf.constant([sample_text])\n",
        "predictions = model.predict(sample_text_tensor)\n",
        "print(predictions)"
      ],
      "metadata": {
        "id": "QyaCLQrh5z5z"
      },
      "execution_count": null,
      "outputs": []
    },
    {
      "cell_type": "markdown",
      "metadata": {
        "id": "bjUqGVBxGw-t"
      },
      "source": [
        "## BiLSTM"
      ]
    },
    {
      "cell_type": "markdown",
      "source": [
        "Finalmente definiremos el modelo de LSTM siguiendo el siguiente diagrama.\n",
        "\n",
        "\n"
      ],
      "metadata": {
        "id": "bJU3yPZfxt_I"
      }
    },
    {
      "cell_type": "markdown",
      "metadata": {
        "id": "W7zsmInBOCPO"
      },
      "source": [
        "![A drawing of the information flow in the model](https://github.com/tensorflow/text/blob/master/docs/tutorials/images/bidirectional.png?raw=1)"
      ]
    },
    {
      "cell_type": "markdown",
      "metadata": {
        "id": "V4fodCI7soQi"
      },
      "source": [
        "De este modo podemos implementar a la red recurrente bidireccional."
      ]
    },
    {
      "cell_type": "code",
      "execution_count": null,
      "metadata": {
        "id": "LwfoBkmRYcP3"
      },
      "outputs": [],
      "source": [
        "model = tf.keras.Sequential([\n",
        "    encoder,\n",
        "    tf.keras.layers.Embedding(\n",
        "        input_dim=len(encoder.get_vocabulary()),\n",
        "        output_dim=64,\n",
        "        mask_zero=True),\n",
        "    tf.keras.layers.Bidirectional(tf.keras.layers.LSTM(64)),\n",
        "    tf.keras.layers.Dense(64, activation='relu'),\n",
        "    tf.keras.layers.Dense(1)\n",
        "])"
      ]
    },
    {
      "cell_type": "code",
      "execution_count": null,
      "metadata": {
        "id": "kj2xei41YZjC"
      },
      "outputs": [],
      "source": [
        "model.compile(loss=tf.keras.losses.BinaryCrossentropy(from_logits=True),\n",
        "              optimizer=tf.keras.optimizers.Adam(1e-4),\n",
        "              metrics=['accuracy'])"
      ]
    },
    {
      "cell_type": "code",
      "source": [
        "model.summary()"
      ],
      "metadata": {
        "id": "upBck2KQp9gN"
      },
      "execution_count": null,
      "outputs": []
    },
    {
      "cell_type": "code",
      "execution_count": null,
      "metadata": {
        "id": "hw86wWS4YgR2"
      },
      "outputs": [],
      "source": [
        "history = model.fit(train_dataset, epochs=10,\n",
        "                    validation_steps=30)"
      ]
    },
    {
      "cell_type": "code",
      "execution_count": null,
      "metadata": {
        "id": "BaNbXi43YgUT"
      },
      "outputs": [],
      "source": [
        "test_loss, test_acc = model.evaluate(test_dataset)\n",
        "\n",
        "print('Test Loss:', test_loss)\n",
        "print('Test Accuracy:', test_acc)"
      ]
    },
    {
      "cell_type": "code",
      "execution_count": null,
      "metadata": {
        "id": "OZmwt_mzaQJk"
      },
      "outputs": [],
      "source": [
        "plt.figure(figsize=(16, 8))\n",
        "plt.subplot(1, 2, 1)\n",
        "plot_graphs(history, 'accuracy')\n",
        "plt.ylim(None, 1)\n",
        "plt.subplot(1, 2, 2)\n",
        "plot_graphs(history, 'loss')\n",
        "plt.ylim(0, None)"
      ]
    },
    {
      "cell_type": "code",
      "source": [
        "model.predict(test_dataset)"
      ],
      "metadata": {
        "id": "jwgSfT8T9Ply"
      },
      "execution_count": null,
      "outputs": []
    },
    {
      "cell_type": "code",
      "source": [
        "sample_text = ('The movie was cool. The animation and the graphics were out of this world. I would recommend this movie.')\n",
        "sample_text_tensor = tf.constant([sample_text])\n",
        "predictions = model.predict(sample_text_tensor)\n",
        "print(predictions)"
      ],
      "metadata": {
        "id": "qsEKfrdM-IgK"
      },
      "execution_count": null,
      "outputs": []
    },
    {
      "cell_type": "code",
      "source": [
        "sample_text = ('The movie was terrible!!.')\n",
        "sample_text_tensor = tf.constant([sample_text])\n",
        "predictions = model.predict(sample_text_tensor)\n",
        "print(predictions)"
      ],
      "metadata": {
        "id": "e5AgiLod-ocg"
      },
      "execution_count": null,
      "outputs": []
    },
    {
      "cell_type": "markdown",
      "metadata": {
        "id": "7g1evcaRpTKm"
      },
      "source": [
        "## BiLSTM en stack\n",
        "\n",
        "Es posible apilar redes recurrentes de este modo.\n",
        "\n",
        "![layered_bidirectional](https://github.com/tensorflow/text/blob/master/docs/tutorials/images/layered_bidirectional.png?raw=1)"
      ]
    },
    {
      "cell_type": "code",
      "execution_count": null,
      "metadata": {
        "id": "jo1jjO3vn0jo"
      },
      "outputs": [],
      "source": [
        "model = tf.keras.Sequential([\n",
        "    encoder,\n",
        "    tf.keras.layers.Embedding(len(encoder.get_vocabulary()), 64, mask_zero=True),\n",
        "    tf.keras.layers.Bidirectional(tf.keras.layers.LSTM(64,  return_sequences=True)),\n",
        "    tf.keras.layers.Bidirectional(tf.keras.layers.LSTM(32)),\n",
        "    tf.keras.layers.Dense(64, activation='relu'),\n",
        "    tf.keras.layers.Dropout(0.5),\n",
        "    tf.keras.layers.Dense(1)\n",
        "])"
      ]
    },
    {
      "cell_type": "code",
      "execution_count": null,
      "metadata": {
        "id": "hEPV5jVGp-is"
      },
      "outputs": [],
      "source": [
        "model.compile(loss=tf.keras.losses.BinaryCrossentropy(from_logits=True),\n",
        "              optimizer=tf.keras.optimizers.Adam(1e-4),\n",
        "              metrics=['accuracy'])"
      ]
    },
    {
      "cell_type": "code",
      "execution_count": null,
      "metadata": {
        "id": "LeSE-YjdqAeN",
        "colab": {
          "base_uri": "https://localhost:8080/"
        },
        "outputId": "357c8e70-ed98-4474-db71-7bbbbcf8c94d"
      },
      "outputs": [
        {
          "output_type": "stream",
          "name": "stdout",
          "text": [
            "Epoch 1/10\n",
            "\u001b[1m391/391\u001b[0m \u001b[32m━━━━━━━━━━━━━━━━━━━━\u001b[0m\u001b[37m\u001b[0m \u001b[1m46s\u001b[0m 104ms/step - accuracy: 0.5213 - loss: 0.6751\n",
            "Epoch 2/10\n",
            "\u001b[1m391/391\u001b[0m \u001b[32m━━━━━━━━━━━━━━━━━━━━\u001b[0m\u001b[37m\u001b[0m \u001b[1m80s\u001b[0m 101ms/step - accuracy: 0.8239 - loss: 0.3961\n",
            "Epoch 3/10\n",
            "\u001b[1m391/391\u001b[0m \u001b[32m━━━━━━━━━━━━━━━━━━━━\u001b[0m\u001b[37m\u001b[0m \u001b[1m41s\u001b[0m 102ms/step - accuracy: 0.8484 - loss: 0.3411\n",
            "Epoch 4/10\n",
            "\u001b[1m391/391\u001b[0m \u001b[32m━━━━━━━━━━━━━━━━━━━━\u001b[0m\u001b[37m\u001b[0m \u001b[1m41s\u001b[0m 101ms/step - accuracy: 0.8611 - loss: 0.3271\n",
            "Epoch 5/10\n",
            "\u001b[1m391/391\u001b[0m \u001b[32m━━━━━━━━━━━━━━━━━━━━\u001b[0m\u001b[37m\u001b[0m \u001b[1m48s\u001b[0m 119ms/step - accuracy: 0.8630 - loss: 0.3169\n",
            "Epoch 6/10\n",
            "\u001b[1m391/391\u001b[0m \u001b[32m━━━━━━━━━━━━━━━━━━━━\u001b[0m\u001b[37m\u001b[0m \u001b[1m76s\u001b[0m 103ms/step - accuracy: 0.8612 - loss: 0.3190\n",
            "Epoch 7/10\n",
            "\u001b[1m391/391\u001b[0m \u001b[32m━━━━━━━━━━━━━━━━━━━━\u001b[0m\u001b[37m\u001b[0m \u001b[1m41s\u001b[0m 105ms/step - accuracy: 0.8706 - loss: 0.3044\n",
            "Epoch 8/10\n",
            "\u001b[1m391/391\u001b[0m \u001b[32m━━━━━━━━━━━━━━━━━━━━\u001b[0m\u001b[37m\u001b[0m \u001b[1m81s\u001b[0m 102ms/step - accuracy: 0.8699 - loss: 0.3000\n",
            "Epoch 9/10\n",
            "\u001b[1m391/391\u001b[0m \u001b[32m━━━━━━━━━━━━━━━━━━━━\u001b[0m\u001b[37m\u001b[0m \u001b[1m41s\u001b[0m 101ms/step - accuracy: 0.8730 - loss: 0.2972\n",
            "Epoch 10/10\n",
            "\u001b[1m391/391\u001b[0m \u001b[32m━━━━━━━━━━━━━━━━━━━━\u001b[0m\u001b[37m\u001b[0m \u001b[1m41s\u001b[0m 101ms/step - accuracy: 0.8680 - loss: 0.3058\n"
          ]
        }
      ],
      "source": [
        "history = model.fit(train_dataset, epochs=10,\n",
        "                    validation_steps=30)"
      ]
    },
    {
      "cell_type": "code",
      "source": [
        "model.summary()"
      ],
      "metadata": {
        "colab": {
          "base_uri": "https://localhost:8080/",
          "height": 385
        },
        "id": "q9OF7GvLuxgT",
        "outputId": "9c33fcd8-c056-468a-d11d-962cacbdc26e"
      },
      "execution_count": null,
      "outputs": [
        {
          "output_type": "display_data",
          "data": {
            "text/plain": [
              "\u001b[1mModel: \"sequential_6\"\u001b[0m\n"
            ],
            "text/html": [
              "<pre style=\"white-space:pre;overflow-x:auto;line-height:normal;font-family:Menlo,'DejaVu Sans Mono',consolas,'Courier New',monospace\"><span style=\"font-weight: bold\">Model: \"sequential_6\"</span>\n",
              "</pre>\n"
            ]
          },
          "metadata": {}
        },
        {
          "output_type": "display_data",
          "data": {
            "text/plain": [
              "┏━━━━━━━━━━━━━━━━━━━━━━━━━━━━━━━━━━━━━━┳━━━━━━━━━━━━━━━━━━━━━━━━━━━━━┳━━━━━━━━━━━━━━━━━┓\n",
              "┃\u001b[1m \u001b[0m\u001b[1mLayer (type)                        \u001b[0m\u001b[1m \u001b[0m┃\u001b[1m \u001b[0m\u001b[1mOutput Shape               \u001b[0m\u001b[1m \u001b[0m┃\u001b[1m \u001b[0m\u001b[1m        Param #\u001b[0m\u001b[1m \u001b[0m┃\n",
              "┡━━━━━━━━━━━━━━━━━━━━━━━━━━━━━━━━━━━━━━╇━━━━━━━━━━━━━━━━━━━━━━━━━━━━━╇━━━━━━━━━━━━━━━━━┩\n",
              "│ text_vectorization                   │ (\u001b[38;5;45mNone\u001b[0m, \u001b[38;5;45mNone\u001b[0m)                │               \u001b[38;5;34m0\u001b[0m │\n",
              "│ (\u001b[38;5;33mTextVectorization\u001b[0m)                  │                             │                 │\n",
              "├──────────────────────────────────────┼─────────────────────────────┼─────────────────┤\n",
              "│ embedding_6 (\u001b[38;5;33mEmbedding\u001b[0m)              │ (\u001b[38;5;45mNone\u001b[0m, \u001b[38;5;45mNone\u001b[0m, \u001b[38;5;34m64\u001b[0m)            │          \u001b[38;5;34m64,000\u001b[0m │\n",
              "├──────────────────────────────────────┼─────────────────────────────┼─────────────────┤\n",
              "│ bidirectional_1 (\u001b[38;5;33mBidirectional\u001b[0m)      │ (\u001b[38;5;45mNone\u001b[0m, \u001b[38;5;45mNone\u001b[0m, \u001b[38;5;34m128\u001b[0m)           │          \u001b[38;5;34m66,048\u001b[0m │\n",
              "├──────────────────────────────────────┼─────────────────────────────┼─────────────────┤\n",
              "│ bidirectional_2 (\u001b[38;5;33mBidirectional\u001b[0m)      │ (\u001b[38;5;45mNone\u001b[0m, \u001b[38;5;34m64\u001b[0m)                  │          \u001b[38;5;34m41,216\u001b[0m │\n",
              "├──────────────────────────────────────┼─────────────────────────────┼─────────────────┤\n",
              "│ dense_12 (\u001b[38;5;33mDense\u001b[0m)                     │ (\u001b[38;5;45mNone\u001b[0m, \u001b[38;5;34m64\u001b[0m)                  │           \u001b[38;5;34m4,160\u001b[0m │\n",
              "├──────────────────────────────────────┼─────────────────────────────┼─────────────────┤\n",
              "│ dropout (\u001b[38;5;33mDropout\u001b[0m)                    │ (\u001b[38;5;45mNone\u001b[0m, \u001b[38;5;34m64\u001b[0m)                  │               \u001b[38;5;34m0\u001b[0m │\n",
              "├──────────────────────────────────────┼─────────────────────────────┼─────────────────┤\n",
              "│ dense_13 (\u001b[38;5;33mDense\u001b[0m)                     │ (\u001b[38;5;45mNone\u001b[0m, \u001b[38;5;34m1\u001b[0m)                   │              \u001b[38;5;34m65\u001b[0m │\n",
              "└──────────────────────────────────────┴─────────────────────────────┴─────────────────┘\n"
            ],
            "text/html": [
              "<pre style=\"white-space:pre;overflow-x:auto;line-height:normal;font-family:Menlo,'DejaVu Sans Mono',consolas,'Courier New',monospace\">┏━━━━━━━━━━━━━━━━━━━━━━━━━━━━━━━━━━━━━━┳━━━━━━━━━━━━━━━━━━━━━━━━━━━━━┳━━━━━━━━━━━━━━━━━┓\n",
              "┃<span style=\"font-weight: bold\"> Layer (type)                         </span>┃<span style=\"font-weight: bold\"> Output Shape                </span>┃<span style=\"font-weight: bold\">         Param # </span>┃\n",
              "┡━━━━━━━━━━━━━━━━━━━━━━━━━━━━━━━━━━━━━━╇━━━━━━━━━━━━━━━━━━━━━━━━━━━━━╇━━━━━━━━━━━━━━━━━┩\n",
              "│ text_vectorization                   │ (<span style=\"color: #00d7ff; text-decoration-color: #00d7ff\">None</span>, <span style=\"color: #00d7ff; text-decoration-color: #00d7ff\">None</span>)                │               <span style=\"color: #00af00; text-decoration-color: #00af00\">0</span> │\n",
              "│ (<span style=\"color: #0087ff; text-decoration-color: #0087ff\">TextVectorization</span>)                  │                             │                 │\n",
              "├──────────────────────────────────────┼─────────────────────────────┼─────────────────┤\n",
              "│ embedding_6 (<span style=\"color: #0087ff; text-decoration-color: #0087ff\">Embedding</span>)              │ (<span style=\"color: #00d7ff; text-decoration-color: #00d7ff\">None</span>, <span style=\"color: #00d7ff; text-decoration-color: #00d7ff\">None</span>, <span style=\"color: #00af00; text-decoration-color: #00af00\">64</span>)            │          <span style=\"color: #00af00; text-decoration-color: #00af00\">64,000</span> │\n",
              "├──────────────────────────────────────┼─────────────────────────────┼─────────────────┤\n",
              "│ bidirectional_1 (<span style=\"color: #0087ff; text-decoration-color: #0087ff\">Bidirectional</span>)      │ (<span style=\"color: #00d7ff; text-decoration-color: #00d7ff\">None</span>, <span style=\"color: #00d7ff; text-decoration-color: #00d7ff\">None</span>, <span style=\"color: #00af00; text-decoration-color: #00af00\">128</span>)           │          <span style=\"color: #00af00; text-decoration-color: #00af00\">66,048</span> │\n",
              "├──────────────────────────────────────┼─────────────────────────────┼─────────────────┤\n",
              "│ bidirectional_2 (<span style=\"color: #0087ff; text-decoration-color: #0087ff\">Bidirectional</span>)      │ (<span style=\"color: #00d7ff; text-decoration-color: #00d7ff\">None</span>, <span style=\"color: #00af00; text-decoration-color: #00af00\">64</span>)                  │          <span style=\"color: #00af00; text-decoration-color: #00af00\">41,216</span> │\n",
              "├──────────────────────────────────────┼─────────────────────────────┼─────────────────┤\n",
              "│ dense_12 (<span style=\"color: #0087ff; text-decoration-color: #0087ff\">Dense</span>)                     │ (<span style=\"color: #00d7ff; text-decoration-color: #00d7ff\">None</span>, <span style=\"color: #00af00; text-decoration-color: #00af00\">64</span>)                  │           <span style=\"color: #00af00; text-decoration-color: #00af00\">4,160</span> │\n",
              "├──────────────────────────────────────┼─────────────────────────────┼─────────────────┤\n",
              "│ dropout (<span style=\"color: #0087ff; text-decoration-color: #0087ff\">Dropout</span>)                    │ (<span style=\"color: #00d7ff; text-decoration-color: #00d7ff\">None</span>, <span style=\"color: #00af00; text-decoration-color: #00af00\">64</span>)                  │               <span style=\"color: #00af00; text-decoration-color: #00af00\">0</span> │\n",
              "├──────────────────────────────────────┼─────────────────────────────┼─────────────────┤\n",
              "│ dense_13 (<span style=\"color: #0087ff; text-decoration-color: #0087ff\">Dense</span>)                     │ (<span style=\"color: #00d7ff; text-decoration-color: #00d7ff\">None</span>, <span style=\"color: #00af00; text-decoration-color: #00af00\">1</span>)                   │              <span style=\"color: #00af00; text-decoration-color: #00af00\">65</span> │\n",
              "└──────────────────────────────────────┴─────────────────────────────┴─────────────────┘\n",
              "</pre>\n"
            ]
          },
          "metadata": {}
        },
        {
          "output_type": "display_data",
          "data": {
            "text/plain": [
              "\u001b[1m Total params: \u001b[0m\u001b[38;5;34m526,469\u001b[0m (2.01 MB)\n"
            ],
            "text/html": [
              "<pre style=\"white-space:pre;overflow-x:auto;line-height:normal;font-family:Menlo,'DejaVu Sans Mono',consolas,'Courier New',monospace\"><span style=\"font-weight: bold\"> Total params: </span><span style=\"color: #00af00; text-decoration-color: #00af00\">526,469</span> (2.01 MB)\n",
              "</pre>\n"
            ]
          },
          "metadata": {}
        },
        {
          "output_type": "display_data",
          "data": {
            "text/plain": [
              "\u001b[1m Trainable params: \u001b[0m\u001b[38;5;34m175,489\u001b[0m (685.50 KB)\n"
            ],
            "text/html": [
              "<pre style=\"white-space:pre;overflow-x:auto;line-height:normal;font-family:Menlo,'DejaVu Sans Mono',consolas,'Courier New',monospace\"><span style=\"font-weight: bold\"> Trainable params: </span><span style=\"color: #00af00; text-decoration-color: #00af00\">175,489</span> (685.50 KB)\n",
              "</pre>\n"
            ]
          },
          "metadata": {}
        },
        {
          "output_type": "display_data",
          "data": {
            "text/plain": [
              "\u001b[1m Non-trainable params: \u001b[0m\u001b[38;5;34m0\u001b[0m (0.00 B)\n"
            ],
            "text/html": [
              "<pre style=\"white-space:pre;overflow-x:auto;line-height:normal;font-family:Menlo,'DejaVu Sans Mono',consolas,'Courier New',monospace\"><span style=\"font-weight: bold\"> Non-trainable params: </span><span style=\"color: #00af00; text-decoration-color: #00af00\">0</span> (0.00 B)\n",
              "</pre>\n"
            ]
          },
          "metadata": {}
        },
        {
          "output_type": "display_data",
          "data": {
            "text/plain": [
              "\u001b[1m Optimizer params: \u001b[0m\u001b[38;5;34m350,980\u001b[0m (1.34 MB)\n"
            ],
            "text/html": [
              "<pre style=\"white-space:pre;overflow-x:auto;line-height:normal;font-family:Menlo,'DejaVu Sans Mono',consolas,'Courier New',monospace\"><span style=\"font-weight: bold\"> Optimizer params: </span><span style=\"color: #00af00; text-decoration-color: #00af00\">350,980</span> (1.34 MB)\n",
              "</pre>\n"
            ]
          },
          "metadata": {}
        }
      ]
    },
    {
      "cell_type": "code",
      "execution_count": null,
      "metadata": {
        "id": "_LdwilM1qPM3",
        "colab": {
          "base_uri": "https://localhost:8080/"
        },
        "outputId": "2e4f58df-d8e4-43fa-8e0f-493be76d772c"
      },
      "outputs": [
        {
          "output_type": "stream",
          "name": "stdout",
          "text": [
            "\u001b[1m391/391\u001b[0m \u001b[32m━━━━━━━━━━━━━━━━━━━━\u001b[0m\u001b[37m\u001b[0m \u001b[1m20s\u001b[0m 50ms/step - accuracy: 0.8639 - loss: 0.3238\n",
            "Test Loss: 0.32185423374176025\n",
            "Test Accuracy: 0.8636000156402588\n"
          ]
        }
      ],
      "source": [
        "test_loss, test_acc = model.evaluate(test_dataset)\n",
        "\n",
        "print('Test Loss:', test_loss)\n",
        "print('Test Accuracy:', test_acc)"
      ]
    },
    {
      "cell_type": "code",
      "source": [
        "plt.figure(figsize=(16, 6))\n",
        "plt.subplot(1, 2, 1)\n",
        "plot_graphs(history, 'accuracy')\n",
        "plt.subplot(1, 2, 2)\n",
        "plot_graphs(history, 'loss')"
      ],
      "metadata": {
        "colab": {
          "base_uri": "https://localhost:8080/",
          "height": 457
        },
        "id": "FES2srYP8Ch8",
        "outputId": "93d59732-a1a8-401b-f9e3-00a5a74e9a86"
      },
      "execution_count": null,
      "outputs": [
        {
          "output_type": "display_data",
          "data": {
            "text/plain": [
              "<Figure size 1600x600 with 2 Axes>"
            ],
            "image/png": "[encoded data removed]"
          },
          "metadata": {}
        }
      ]
    },
    {
      "cell_type": "code",
      "execution_count": null,
      "metadata": {
        "id": "_YYub0EDtwCu",
        "colab": {
          "base_uri": "https://localhost:8080/"
        },
        "outputId": "3767f5ab-5de9-41f9-8c1f-da714b1b18ce"
      },
      "outputs": [
        {
          "output_type": "stream",
          "name": "stdout",
          "text": [
            "\u001b[1m1/1\u001b[0m \u001b[32m━━━━━━━━━━━━━━━━━━━━\u001b[0m\u001b[37m\u001b[0m \u001b[1m0s\u001b[0m 449ms/step\n",
            "[[0.4619339]]\n"
          ]
        }
      ],
      "source": [
        "sample_text = ('The movie was cool. The animation and the graphics were out of this world. I would recommend this movie.')\n",
        "sample_text_tensor = tf.constant([sample_text])\n",
        "predictions = model.predict(sample_text_tensor)\n",
        "print(predictions)"
      ]
    },
    {
      "cell_type": "code",
      "source": [
        "sample_text = ('The movie was terrible!!.')\n",
        "sample_text_tensor = tf.constant([sample_text])\n",
        "predictions = model.predict(sample_text_tensor)\n",
        "print(predictions)"
      ],
      "metadata": {
        "colab": {
          "base_uri": "https://localhost:8080/"
        },
        "id": "YOv9243O8HS3",
        "outputId": "6d0be4e5-0812-47b0-9bb2-cd5ad8cf4e08"
      },
      "execution_count": null,
      "outputs": [
        {
          "output_type": "stream",
          "name": "stdout",
          "text": [
            "\u001b[1m1/1\u001b[0m \u001b[32m━━━━━━━━━━━━━━━━━━━━\u001b[0m\u001b[37m\u001b[0m \u001b[1m0s\u001b[0m 20ms/step\n",
            "[[-0.7402167]]\n"
          ]
        }
      ]
    },
    {
      "cell_type": "markdown",
      "source": [
        "## GRU"
      ],
      "metadata": {
        "id": "0ZyO50vi89tR"
      }
    },
    {
      "cell_type": "markdown",
      "source": [
        "La GRU (*Gated Recurrent Unit*) es un tipo de red recurrente similar a la LSTM pero con menos compuertas y parámetros."
      ],
      "metadata": {
        "id": "yJzv4qDZ9ANG"
      }
    },
    {
      "cell_type": "code",
      "source": [
        "model = tf.keras.Sequential([\n",
        "    encoder,\n",
        "    tf.keras.layers.Embedding(\n",
        "        input_dim=len(encoder.get_vocabulary()),\n",
        "        output_dim=64,\n",
        "        mask_zero=True),\n",
        "    tf.keras.layers.GRU(64),\n",
        "    tf.keras.layers.Dense(64, activation='relu'),\n",
        "    tf.keras.layers.Dense(1)\n",
        "])"
      ],
      "metadata": {
        "id": "owqNpfZZ9PXR"
      },
      "execution_count": null,
      "outputs": []
    },
    {
      "cell_type": "code",
      "source": [
        "model.compile(loss=tf.keras.losses.BinaryCrossentropy(from_logits=True),\n",
        "              optimizer=tf.keras.optimizers.Adam(1e-4),\n",
        "              metrics=['accuracy'])"
      ],
      "metadata": {
        "id": "NJFwozIe9Wyh"
      },
      "execution_count": null,
      "outputs": []
    },
    {
      "cell_type": "code",
      "source": [
        "model.summary()"
      ],
      "metadata": {
        "colab": {
          "base_uri": "https://localhost:8080/",
          "height": 305
        },
        "id": "3-bun9WmsoeY",
        "outputId": "ff21d2d2-246b-4571-b237-03a1388af4e8"
      },
      "execution_count": null,
      "outputs": [
        {
          "output_type": "display_data",
          "data": {
            "text/plain": [
              "\u001b[1mModel: \"sequential_7\"\u001b[0m\n"
            ],
            "text/html": [
              "<pre style=\"white-space:pre;overflow-x:auto;line-height:normal;font-family:Menlo,'DejaVu Sans Mono',consolas,'Courier New',monospace\"><span style=\"font-weight: bold\">Model: \"sequential_7\"</span>\n",
              "</pre>\n"
            ]
          },
          "metadata": {}
        },
        {
          "output_type": "display_data",
          "data": {
            "text/plain": [
              "┏━━━━━━━━━━━━━━━━━━━━━━━━━━━━━━━━━━━━━━┳━━━━━━━━━━━━━━━━━━━━━━━━━━━━━┳━━━━━━━━━━━━━━━━━┓\n",
              "┃\u001b[1m \u001b[0m\u001b[1mLayer (type)                        \u001b[0m\u001b[1m \u001b[0m┃\u001b[1m \u001b[0m\u001b[1mOutput Shape               \u001b[0m\u001b[1m \u001b[0m┃\u001b[1m \u001b[0m\u001b[1m        Param #\u001b[0m\u001b[1m \u001b[0m┃\n",
              "┡━━━━━━━━━━━━━━━━━━━━━━━━━━━━━━━━━━━━━━╇━━━━━━━━━━━━━━━━━━━━━━━━━━━━━╇━━━━━━━━━━━━━━━━━┩\n",
              "│ text_vectorization                   │ (\u001b[38;5;45mNone\u001b[0m, \u001b[38;5;45mNone\u001b[0m)                │               \u001b[38;5;34m0\u001b[0m │\n",
              "│ (\u001b[38;5;33mTextVectorization\u001b[0m)                  │                             │                 │\n",
              "├──────────────────────────────────────┼─────────────────────────────┼─────────────────┤\n",
              "│ embedding_7 (\u001b[38;5;33mEmbedding\u001b[0m)              │ ?                           │     \u001b[38;5;34m0\u001b[0m (unbuilt) │\n",
              "├──────────────────────────────────────┼─────────────────────────────┼─────────────────┤\n",
              "│ gru (\u001b[38;5;33mGRU\u001b[0m)                            │ ?                           │     \u001b[38;5;34m0\u001b[0m (unbuilt) │\n",
              "├──────────────────────────────────────┼─────────────────────────────┼─────────────────┤\n",
              "│ dense_14 (\u001b[38;5;33mDense\u001b[0m)                     │ ?                           │     \u001b[38;5;34m0\u001b[0m (unbuilt) │\n",
              "├──────────────────────────────────────┼─────────────────────────────┼─────────────────┤\n",
              "│ dense_15 (\u001b[38;5;33mDense\u001b[0m)                     │ ?                           │     \u001b[38;5;34m0\u001b[0m (unbuilt) │\n",
              "└──────────────────────────────────────┴─────────────────────────────┴─────────────────┘\n"
            ],
            "text/html": [
              "<pre style=\"white-space:pre;overflow-x:auto;line-height:normal;font-family:Menlo,'DejaVu Sans Mono',consolas,'Courier New',monospace\">┏━━━━━━━━━━━━━━━━━━━━━━━━━━━━━━━━━━━━━━┳━━━━━━━━━━━━━━━━━━━━━━━━━━━━━┳━━━━━━━━━━━━━━━━━┓\n",
              "┃<span style=\"font-weight: bold\"> Layer (type)                         </span>┃<span style=\"font-weight: bold\"> Output Shape                </span>┃<span style=\"font-weight: bold\">         Param # </span>┃\n",
              "┡━━━━━━━━━━━━━━━━━━━━━━━━━━━━━━━━━━━━━━╇━━━━━━━━━━━━━━━━━━━━━━━━━━━━━╇━━━━━━━━━━━━━━━━━┩\n",
              "│ text_vectorization                   │ (<span style=\"color: #00d7ff; text-decoration-color: #00d7ff\">None</span>, <span style=\"color: #00d7ff; text-decoration-color: #00d7ff\">None</span>)                │               <span style=\"color: #00af00; text-decoration-color: #00af00\">0</span> │\n",
              "│ (<span style=\"color: #0087ff; text-decoration-color: #0087ff\">TextVectorization</span>)                  │                             │                 │\n",
              "├──────────────────────────────────────┼─────────────────────────────┼─────────────────┤\n",
              "│ embedding_7 (<span style=\"color: #0087ff; text-decoration-color: #0087ff\">Embedding</span>)              │ ?                           │     <span style=\"color: #00af00; text-decoration-color: #00af00\">0</span> (unbuilt) │\n",
              "├──────────────────────────────────────┼─────────────────────────────┼─────────────────┤\n",
              "│ gru (<span style=\"color: #0087ff; text-decoration-color: #0087ff\">GRU</span>)                            │ ?                           │     <span style=\"color: #00af00; text-decoration-color: #00af00\">0</span> (unbuilt) │\n",
              "├──────────────────────────────────────┼─────────────────────────────┼─────────────────┤\n",
              "│ dense_14 (<span style=\"color: #0087ff; text-decoration-color: #0087ff\">Dense</span>)                     │ ?                           │     <span style=\"color: #00af00; text-decoration-color: #00af00\">0</span> (unbuilt) │\n",
              "├──────────────────────────────────────┼─────────────────────────────┼─────────────────┤\n",
              "│ dense_15 (<span style=\"color: #0087ff; text-decoration-color: #0087ff\">Dense</span>)                     │ ?                           │     <span style=\"color: #00af00; text-decoration-color: #00af00\">0</span> (unbuilt) │\n",
              "└──────────────────────────────────────┴─────────────────────────────┴─────────────────┘\n",
              "</pre>\n"
            ]
          },
          "metadata": {}
        },
        {
          "output_type": "display_data",
          "data": {
            "text/plain": [
              "\u001b[1m Total params: \u001b[0m\u001b[38;5;34m0\u001b[0m (0.00 B)\n"
            ],
            "text/html": [
              "<pre style=\"white-space:pre;overflow-x:auto;line-height:normal;font-family:Menlo,'DejaVu Sans Mono',consolas,'Courier New',monospace\"><span style=\"font-weight: bold\"> Total params: </span><span style=\"color: #00af00; text-decoration-color: #00af00\">0</span> (0.00 B)\n",
              "</pre>\n"
            ]
          },
          "metadata": {}
        },
        {
          "output_type": "display_data",
          "data": {
            "text/plain": [
              "\u001b[1m Trainable params: \u001b[0m\u001b[38;5;34m0\u001b[0m (0.00 B)\n"
            ],
            "text/html": [
              "<pre style=\"white-space:pre;overflow-x:auto;line-height:normal;font-family:Menlo,'DejaVu Sans Mono',consolas,'Courier New',monospace\"><span style=\"font-weight: bold\"> Trainable params: </span><span style=\"color: #00af00; text-decoration-color: #00af00\">0</span> (0.00 B)\n",
              "</pre>\n"
            ]
          },
          "metadata": {}
        },
        {
          "output_type": "display_data",
          "data": {
            "text/plain": [
              "\u001b[1m Non-trainable params: \u001b[0m\u001b[38;5;34m0\u001b[0m (0.00 B)\n"
            ],
            "text/html": [
              "<pre style=\"white-space:pre;overflow-x:auto;line-height:normal;font-family:Menlo,'DejaVu Sans Mono',consolas,'Courier New',monospace\"><span style=\"font-weight: bold\"> Non-trainable params: </span><span style=\"color: #00af00; text-decoration-color: #00af00\">0</span> (0.00 B)\n",
              "</pre>\n"
            ]
          },
          "metadata": {}
        }
      ]
    },
    {
      "cell_type": "code",
      "source": [
        "history = model.fit(train_dataset, epochs=10,\n",
        "                    validation_steps=30)"
      ],
      "metadata": {
        "colab": {
          "base_uri": "https://localhost:8080/"
        },
        "id": "9AxLmmFgASnx",
        "outputId": "bc61c4c8-38a0-417b-cf2e-2fc67e6f8ecd"
      },
      "execution_count": null,
      "outputs": [
        {
          "output_type": "stream",
          "name": "stdout",
          "text": [
            "Epoch 1/10\n",
            "\u001b[1m391/391\u001b[0m \u001b[32m━━━━━━━━━━━━━━━━━━━━\u001b[0m\u001b[37m\u001b[0m \u001b[1m16s\u001b[0m 37ms/step - accuracy: 0.4993 - loss: 0.6925\n",
            "Epoch 2/10\n",
            "\u001b[1m391/391\u001b[0m \u001b[32m━━━━━━━━━━━━━━━━━━━━\u001b[0m\u001b[37m\u001b[0m \u001b[1m14s\u001b[0m 35ms/step - accuracy: 0.6266 - loss: 0.5816\n",
            "Epoch 3/10\n",
            "\u001b[1m391/391\u001b[0m \u001b[32m━━━━━━━━━━━━━━━━━━━━\u001b[0m\u001b[37m\u001b[0m \u001b[1m13s\u001b[0m 34ms/step - accuracy: 0.8390 - loss: 0.3640\n",
            "Epoch 4/10\n",
            "\u001b[1m391/391\u001b[0m \u001b[32m━━━━━━━━━━━━━━━━━━━━\u001b[0m\u001b[37m\u001b[0m \u001b[1m20s\u001b[0m 33ms/step - accuracy: 0.8527 - loss: 0.3394\n",
            "Epoch 5/10\n",
            "\u001b[1m391/391\u001b[0m \u001b[32m━━━━━━━━━━━━━━━━━━━━\u001b[0m\u001b[37m\u001b[0m \u001b[1m13s\u001b[0m 33ms/step - accuracy: 0.8698 - loss: 0.3117\n",
            "Epoch 6/10\n",
            "\u001b[1m391/391\u001b[0m \u001b[32m━━━━━━━━━━━━━━━━━━━━\u001b[0m\u001b[37m\u001b[0m \u001b[1m13s\u001b[0m 34ms/step - accuracy: 0.8653 - loss: 0.3154\n",
            "Epoch 7/10\n",
            "\u001b[1m391/391\u001b[0m \u001b[32m━━━━━━━━━━━━━━━━━━━━\u001b[0m\u001b[37m\u001b[0m \u001b[1m13s\u001b[0m 34ms/step - accuracy: 0.8627 - loss: 0.3157\n",
            "Epoch 8/10\n",
            "\u001b[1m391/391\u001b[0m \u001b[32m━━━━━━━━━━━━━━━━━━━━\u001b[0m\u001b[37m\u001b[0m \u001b[1m14s\u001b[0m 35ms/step - accuracy: 0.8634 - loss: 0.3152\n",
            "Epoch 9/10\n",
            "\u001b[1m391/391\u001b[0m \u001b[32m━━━━━━━━━━━━━━━━━━━━\u001b[0m\u001b[37m\u001b[0m \u001b[1m14s\u001b[0m 35ms/step - accuracy: 0.8708 - loss: 0.3079\n",
            "Epoch 10/10\n",
            "\u001b[1m391/391\u001b[0m \u001b[32m━━━━━━━━━━━━━━━━━━━━\u001b[0m\u001b[37m\u001b[0m \u001b[1m20s\u001b[0m 34ms/step - accuracy: 0.8713 - loss: 0.3009\n"
          ]
        }
      ]
    },
    {
      "cell_type": "code",
      "source": [
        "test_loss, test_acc = model.evaluate(test_dataset)\n",
        "\n",
        "print('Test Loss:', test_loss)\n",
        "print('Test Accuracy:', test_acc)"
      ],
      "metadata": {
        "colab": {
          "base_uri": "https://localhost:8080/"
        },
        "id": "T9fjfLtR9eCi",
        "outputId": "1e961189-2b23-415e-ac38-4178f4c2c4ea"
      },
      "execution_count": null,
      "outputs": [
        {
          "output_type": "stream",
          "name": "stdout",
          "text": [
            "\u001b[1m391/391\u001b[0m \u001b[32m━━━━━━━━━━━━━━━━━━━━\u001b[0m\u001b[37m\u001b[0m \u001b[1m7s\u001b[0m 17ms/step - accuracy: 0.8635 - loss: 0.3291\n",
            "Test Loss: 0.3284541666507721\n",
            "Test Accuracy: 0.8622400164604187\n"
          ]
        }
      ]
    },
    {
      "cell_type": "code",
      "source": [
        "plt.figure(figsize=(16, 6))\n",
        "plt.subplot(1, 2, 1)\n",
        "plot_graphs(history, 'accuracy')\n",
        "plt.subplot(1, 2, 2)\n",
        "plot_graphs(history, 'loss')"
      ],
      "metadata": {
        "colab": {
          "base_uri": "https://localhost:8080/",
          "height": 457
        },
        "id": "zk5Y-xZc9g1N",
        "outputId": "7dc072ce-bc57-4cf1-c307-d32b076210a8"
      },
      "execution_count": null,
      "outputs": [
        {
          "output_type": "display_data",
          "data": {
            "text/plain": [
              "<Figure size 1600x600 with 2 Axes>"
            ],
            "image/png": "[encoded data removed]"
          },
          "metadata": {}
        }
      ]
    },
    {
      "cell_type": "code",
      "source": [
        "sample_text = ('The movie was cool. The animation and the graphics were out of this world. I would recommend this movie.')\n",
        "sample_text_tensor = tf.constant([sample_text])\n",
        "predictions = model.predict(sample_text_tensor)\n",
        "print(predictions)"
      ],
      "metadata": {
        "colab": {
          "base_uri": "https://localhost:8080/"
        },
        "id": "74SH-sxN9rCi",
        "outputId": "7feefd0d-56ee-4421-cfda-468d4e2f70f4"
      },
      "execution_count": null,
      "outputs": [
        {
          "output_type": "stream",
          "name": "stderr",
          "text": [
            "WARNING:tensorflow:5 out of the last 396 calls to <function TensorFlowTrainer.make_predict_function.<locals>.one_step_on_data_distributed at 0x7dd67e29c280> triggered tf.function retracing. Tracing is expensive and the excessive number of tracings could be due to (1) creating @tf.function repeatedly in a loop, (2) passing tensors with different shapes, (3) passing Python objects instead of tensors. For (1), please define your @tf.function outside of the loop. For (2), @tf.function has reduce_retracing=True option that can avoid unnecessary retracing. For (3), please refer to https://www.tensorflow.org/guide/function#controlling_retracing and https://www.tensorflow.org/api_docs/python/tf/function for  more details.\n"
          ]
        },
        {
          "output_type": "stream",
          "name": "stdout",
          "text": [
            "\u001b[1m1/1\u001b[0m \u001b[32m━━━━━━━━━━━━━━━━━━━━\u001b[0m\u001b[37m\u001b[0m \u001b[1m0s\u001b[0m 167ms/step\n",
            "[[0.7027178]]\n"
          ]
        }
      ]
    },
    {
      "cell_type": "code",
      "source": [
        "sample_text = ('The movie was not good. The animation and the graphics were terrible. I would not recommend this movie.')\n",
        "sample_text_tensor = tf.constant([sample_text])\n",
        "predictions = model.predict(sample_text_tensor)\n",
        "print(predictions)"
      ],
      "metadata": {
        "colab": {
          "base_uri": "https://localhost:8080/"
        },
        "id": "e1G9Xbb_9ik3",
        "outputId": "0dcba01f-1198-406a-e2b2-6f676834fd4b"
      },
      "execution_count": null,
      "outputs": [
        {
          "output_type": "stream",
          "name": "stdout",
          "text": [
            "\u001b[1m1/1\u001b[0m \u001b[32m━━━━━━━━━━━━━━━━━━━━\u001b[0m\u001b[37m\u001b[0m \u001b[1m0s\u001b[0m 21ms/step\n",
            "[[-1.3503491]]\n"
          ]
        }
      ]
    }
  ],
  "metadata": {
    "colab": {
      "provenance": []
    },
    "kernelspec": {
      "display_name": "Python 3",
      "name": "python3"
    },
    "widgets": {
      "application/vnd.jupyter.widget-state+json": {
        "5795e37a691b4b8fa22188c49d9d215f": {
          "model_module": "@jupyter-widgets/controls",
          "model_name": "HBoxModel",
          "model_module_version": "1.5.0",
          "state": {
            "_dom_classes": [],
            "_model_module": "@jupyter-widgets/controls",
            "_model_module_version": "1.5.0",
            "_model_name": "HBoxModel",
            "_view_count": null,
            "_view_module": "@jupyter-widgets/controls",
            "_view_module_version": "1.5.0",
            "_view_name": "HBoxView",
            "box_style": "",
            "children": [
              "IPY_MODEL_65c012f7c2584c6589376ce998a6b598",
              "IPY_MODEL_c24cefabac4a4451b19221ff9c0238a0",
              "IPY_MODEL_ba7bf4facbf4406e95513f6d927ba0f7"
            ],
            "layout": "IPY_MODEL_707275808bf248cdb1f99975c8bf3017"
          }
        },
        "65c012f7c2584c6589376ce998a6b598": {
          "model_module": "@jupyter-widgets/controls",
          "model_name": "HTMLModel",
          "model_module_version": "1.5.0",
          "state": {
            "_dom_classes": [],
            "_model_module": "@jupyter-widgets/controls",
            "_model_module_version": "1.5.0",
            "_model_name": "HTMLModel",
            "_view_count": null,
            "_view_module": "@jupyter-widgets/controls",
            "_view_module_version": "1.5.0",
            "_view_name": "HTMLView",
            "description": "",
            "description_tooltip": null,
            "layout": "IPY_MODEL_eaeb835865af42968b38e7d5918edd3b",
            "placeholder": "​",
            "style": "IPY_MODEL_0fdbb4c2a4b24cc48ab0ce797640739a",
            "value": "Dl Completed...: 100%"
          }
        },
        "c24cefabac4a4451b19221ff9c0238a0": {
          "model_module": "@jupyter-widgets/controls",
          "model_name": "FloatProgressModel",
          "model_module_version": "1.5.0",
          "state": {
            "_dom_classes": [],
            "_model_module": "@jupyter-widgets/controls",
            "_model_module_version": "1.5.0",
            "_model_name": "FloatProgressModel",
            "_view_count": null,
            "_view_module": "@jupyter-widgets/controls",
            "_view_module_version": "1.5.0",
            "_view_name": "ProgressView",
            "bar_style": "success",
            "description": "",
            "description_tooltip": null,
            "layout": "IPY_MODEL_6b1eb93778a8419f9cfa9a620467dcaa",
            "max": 1,
            "min": 0,
            "orientation": "horizontal",
            "style": "IPY_MODEL_98e39b3299d24784bfb437f64bcec417",
            "value": 1
          }
        },
        "ba7bf4facbf4406e95513f6d927ba0f7": {
          "model_module": "@jupyter-widgets/controls",
          "model_name": "HTMLModel",
          "model_module_version": "1.5.0",
          "state": {
            "_dom_classes": [],
            "_model_module": "@jupyter-widgets/controls",
            "_model_module_version": "1.5.0",
            "_model_name": "HTMLModel",
            "_view_count": null,
            "_view_module": "@jupyter-widgets/controls",
            "_view_module_version": "1.5.0",
            "_view_name": "HTMLView",
            "description": "",
            "description_tooltip": null,
            "layout": "IPY_MODEL_8ef7bda39d864fe696636f0cd8545cdd",
            "placeholder": "​",
            "style": "IPY_MODEL_737252bb71f741ba8b7e725da96a2b90",
            "value": " 1/1 [00:10&lt;00:00, 10.67s/ url]"
          }
        },
        "707275808bf248cdb1f99975c8bf3017": {
          "model_module": "@jupyter-widgets/base",
          "model_name": "LayoutModel",
          "model_module_version": "1.2.0",
          "state": {
            "_model_module": "@jupyter-widgets/base",
            "_model_module_version": "1.2.0",
            "_model_name": "LayoutModel",
            "_view_count": null,
            "_view_module": "@jupyter-widgets/base",
            "_view_module_version": "1.2.0",
            "_view_name": "LayoutView",
            "align_content": null,
            "align_items": null,
            "align_self": null,
            "border": null,
            "bottom": null,
            "display": null,
            "flex": null,
            "flex_flow": null,
            "grid_area": null,
            "grid_auto_columns": null,
            "grid_auto_flow": null,
            "grid_auto_rows": null,
            "grid_column": null,
            "grid_gap": null,
            "grid_row": null,
            "grid_template_areas": null,
            "grid_template_columns": null,
            "grid_template_rows": null,
            "height": null,
            "justify_content": null,
            "justify_items": null,
            "left": null,
            "margin": null,
            "max_height": null,
            "max_width": null,
            "min_height": null,
            "min_width": null,
            "object_fit": null,
            "object_position": null,
            "order": null,
            "overflow": null,
            "overflow_x": null,
            "overflow_y": null,
            "padding": null,
            "right": null,
            "top": null,
            "visibility": null,
            "width": null
          }
        },
        "eaeb835865af42968b38e7d5918edd3b": {
          "model_module": "@jupyter-widgets/base",
          "model_name": "LayoutModel",
          "model_module_version": "1.2.0",
          "state": {
            "_model_module": "@jupyter-widgets/base",
            "_model_module_version": "1.2.0",
            "_model_name": "LayoutModel",
            "_view_count": null,
            "_view_module": "@jupyter-widgets/base",
            "_view_module_version": "1.2.0",
            "_view_name": "LayoutView",
            "align_content": null,
            "align_items": null,
            "align_self": null,
            "border": null,
            "bottom": null,
            "display": null,
            "flex": null,
            "flex_flow": null,
            "grid_area": null,
            "grid_auto_columns": null,
            "grid_auto_flow": null,
            "grid_auto_rows": null,
            "grid_column": null,
            "grid_gap": null,
            "grid_row": null,
            "grid_template_areas": null,
            "grid_template_columns": null,
            "grid_template_rows": null,
            "height": null,
            "justify_content": null,
            "justify_items": null,
            "left": null,
            "margin": null,
            "max_height": null,
            "max_width": null,
            "min_height": null,
            "min_width": null,
            "object_fit": null,
            "object_position": null,
            "order": null,
            "overflow": null,
            "overflow_x": null,
            "overflow_y": null,
            "padding": null,
            "right": null,
            "top": null,
            "visibility": null,
            "width": null
          }
        },
        "0fdbb4c2a4b24cc48ab0ce797640739a": {
          "model_module": "@jupyter-widgets/controls",
          "model_name": "DescriptionStyleModel",
          "model_module_version": "1.5.0",
          "state": {
            "_model_module": "@jupyter-widgets/controls",
            "_model_module_version": "1.5.0",
            "_model_name": "DescriptionStyleModel",
            "_view_count": null,
            "_view_module": "@jupyter-widgets/base",
            "_view_module_version": "1.2.0",
            "_view_name": "StyleView",
            "description_width": ""
          }
        },
        "6b1eb93778a8419f9cfa9a620467dcaa": {
          "model_module": "@jupyter-widgets/base",
          "model_name": "LayoutModel",
          "model_module_version": "1.2.0",
          "state": {
            "_model_module": "@jupyter-widgets/base",
            "_model_module_version": "1.2.0",
            "_model_name": "LayoutModel",
            "_view_count": null,
            "_view_module": "@jupyter-widgets/base",
            "_view_module_version": "1.2.0",
            "_view_name": "LayoutView",
            "align_content": null,
            "align_items": null,
            "align_self": null,
            "border": null,
            "bottom": null,
            "display": null,
            "flex": null,
            "flex_flow": null,
            "grid_area": null,
            "grid_auto_columns": null,
            "grid_auto_flow": null,
            "grid_auto_rows": null,
            "grid_column": null,
            "grid_gap": null,
            "grid_row": null,
            "grid_template_areas": null,
            "grid_template_columns": null,
            "grid_template_rows": null,
            "height": null,
            "justify_content": null,
            "justify_items": null,
            "left": null,
            "margin": null,
            "max_height": null,
            "max_width": null,
            "min_height": null,
            "min_width": null,
            "object_fit": null,
            "object_position": null,
            "order": null,
            "overflow": null,
            "overflow_x": null,
            "overflow_y": null,
            "padding": null,
            "right": null,
            "top": null,
            "visibility": null,
            "width": "20px"
          }
        },
        "98e39b3299d24784bfb437f64bcec417": {
          "model_module": "@jupyter-widgets/controls",
          "model_name": "ProgressStyleModel",
          "model_module_version": "1.5.0",
          "state": {
            "_model_module": "@jupyter-widgets/controls",
            "_model_module_version": "1.5.0",
            "_model_name": "ProgressStyleModel",
            "_view_count": null,
            "_view_module": "@jupyter-widgets/base",
            "_view_module_version": "1.2.0",
            "_view_name": "StyleView",
            "bar_color": null,
            "description_width": ""
          }
        },
        "8ef7bda39d864fe696636f0cd8545cdd": {
          "model_module": "@jupyter-widgets/base",
          "model_name": "LayoutModel",
          "model_module_version": "1.2.0",
          "state": {
            "_model_module": "@jupyter-widgets/base",
            "_model_module_version": "1.2.0",
            "_model_name": "LayoutModel",
            "_view_count": null,
            "_view_module": "@jupyter-widgets/base",
            "_view_module_version": "1.2.0",
            "_view_name": "LayoutView",
            "align_content": null,
            "align_items": null,
            "align_self": null,
            "border": null,
            "bottom": null,
            "display": null,
            "flex": null,
            "flex_flow": null,
            "grid_area": null,
            "grid_auto_columns": null,
            "grid_auto_flow": null,
            "grid_auto_rows": null,
            "grid_column": null,
            "grid_gap": null,
            "grid_row": null,
            "grid_template_areas": null,
            "grid_template_columns": null,
            "grid_template_rows": null,
            "height": null,
            "justify_content": null,
            "justify_items": null,
            "left": null,
            "margin": null,
            "max_height": null,
            "max_width": null,
            "min_height": null,
            "min_width": null,
            "object_fit": null,
            "object_position": null,
            "order": null,
            "overflow": null,
            "overflow_x": null,
            "overflow_y": null,
            "padding": null,
            "right": null,
            "top": null,
            "visibility": null,
            "width": null
          }
        },
        "737252bb71f741ba8b7e725da96a2b90": {
          "model_module": "@jupyter-widgets/controls",
          "model_name": "DescriptionStyleModel",
          "model_module_version": "1.5.0",
          "state": {
            "_model_module": "@jupyter-widgets/controls",
            "_model_module_version": "1.5.0",
            "_model_name": "DescriptionStyleModel",
            "_view_count": null,
            "_view_module": "@jupyter-widgets/base",
            "_view_module_version": "1.2.0",
            "_view_name": "StyleView",
            "description_width": ""
          }
        },
        "e3512128afd142eaaed033cb2323b5a0": {
          "model_module": "@jupyter-widgets/controls",
          "model_name": "HBoxModel",
          "model_module_version": "1.5.0",
          "state": {
            "_dom_classes": [],
            "_model_module": "@jupyter-widgets/controls",
            "_model_module_version": "1.5.0",
            "_model_name": "HBoxModel",
            "_view_count": null,
            "_view_module": "@jupyter-widgets/controls",
            "_view_module_version": "1.5.0",
            "_view_name": "HBoxView",
            "box_style": "",
            "children": [
              "IPY_MODEL_da58a381f6cd43ebaffcef42b8bbe347",
              "IPY_MODEL_c2d36bb50bed47538ed49cd218d4d4e6",
              "IPY_MODEL_c0f71185020a4e9489c2c29ff7ce14aa"
            ],
            "layout": "IPY_MODEL_c9d7c2633fba405cba02eb3f62318284"
          }
        },
        "da58a381f6cd43ebaffcef42b8bbe347": {
          "model_module": "@jupyter-widgets/controls",
          "model_name": "HTMLModel",
          "model_module_version": "1.5.0",
          "state": {
            "_dom_classes": [],
            "_model_module": "@jupyter-widgets/controls",
            "_model_module_version": "1.5.0",
            "_model_name": "HTMLModel",
            "_view_count": null,
            "_view_module": "@jupyter-widgets/controls",
            "_view_module_version": "1.5.0",
            "_view_name": "HTMLView",
            "description": "",
            "description_tooltip": null,
            "layout": "IPY_MODEL_8d855d9b3d934845b26ba252aac77bb2",
            "placeholder": "​",
            "style": "IPY_MODEL_e5176702d4f24541bf8b9714fd9ea238",
            "value": "Dl Size...: 100%"
          }
        },
        "c2d36bb50bed47538ed49cd218d4d4e6": {
          "model_module": "@jupyter-widgets/controls",
          "model_name": "FloatProgressModel",
          "model_module_version": "1.5.0",
          "state": {
            "_dom_classes": [],
            "_model_module": "@jupyter-widgets/controls",
            "_model_module_version": "1.5.0",
            "_model_name": "FloatProgressModel",
            "_view_count": null,
            "_view_module": "@jupyter-widgets/controls",
            "_view_module_version": "1.5.0",
            "_view_name": "ProgressView",
            "bar_style": "success",
            "description": "",
            "description_tooltip": null,
            "layout": "IPY_MODEL_f2a4628f078041b0907bc452238ee1b0",
            "max": 1,
            "min": 0,
            "orientation": "horizontal",
            "style": "IPY_MODEL_f61b75eaa4e64a16bfc72b9cbf1d47a1",
            "value": 1
          }
        },
        "c0f71185020a4e9489c2c29ff7ce14aa": {
          "model_module": "@jupyter-widgets/controls",
          "model_name": "HTMLModel",
          "model_module_version": "1.5.0",
          "state": {
            "_dom_classes": [],
            "_model_module": "@jupyter-widgets/controls",
            "_model_module_version": "1.5.0",
            "_model_name": "HTMLModel",
            "_view_count": null,
            "_view_module": "@jupyter-widgets/controls",
            "_view_module_version": "1.5.0",
            "_view_name": "HTMLView",
            "description": "",
            "description_tooltip": null,
            "layout": "IPY_MODEL_85f4a6f51cda46ef91123d8db0cdaefa",
            "placeholder": "​",
            "style": "IPY_MODEL_5d9c7d34a6a04d9aa1eacfe5bcbb1942",
            "value": " 80/80 [00:10&lt;00:00, 10.01 MiB/s]"
          }
        },
        "c9d7c2633fba405cba02eb3f62318284": {
          "model_module": "@jupyter-widgets/base",
          "model_name": "LayoutModel",
          "model_module_version": "1.2.0",
          "state": {
            "_model_module": "@jupyter-widgets/base",
            "_model_module_version": "1.2.0",
            "_model_name": "LayoutModel",
            "_view_count": null,
            "_view_module": "@jupyter-widgets/base",
            "_view_module_version": "1.2.0",
            "_view_name": "LayoutView",
            "align_content": null,
            "align_items": null,
            "align_self": null,
            "border": null,
            "bottom": null,
            "display": null,
            "flex": null,
            "flex_flow": null,
            "grid_area": null,
            "grid_auto_columns": null,
            "grid_auto_flow": null,
            "grid_auto_rows": null,
            "grid_column": null,
            "grid_gap": null,
            "grid_row": null,
            "grid_template_areas": null,
            "grid_template_columns": null,
            "grid_template_rows": null,
            "height": null,
            "justify_content": null,
            "justify_items": null,
            "left": null,
            "margin": null,
            "max_height": null,
            "max_width": null,
            "min_height": null,
            "min_width": null,
            "object_fit": null,
            "object_position": null,
            "order": null,
            "overflow": null,
            "overflow_x": null,
            "overflow_y": null,
            "padding": null,
            "right": null,
            "top": null,
            "visibility": null,
            "width": null
          }
        },
        "8d855d9b3d934845b26ba252aac77bb2": {
          "model_module": "@jupyter-widgets/base",
          "model_name": "LayoutModel",
          "model_module_version": "1.2.0",
          "state": {
            "_model_module": "@jupyter-widgets/base",
            "_model_module_version": "1.2.0",
            "_model_name": "LayoutModel",
            "_view_count": null,
            "_view_module": "@jupyter-widgets/base",
            "_view_module_version": "1.2.0",
            "_view_name": "LayoutView",
            "align_content": null,
            "align_items": null,
            "align_self": null,
            "border": null,
            "bottom": null,
            "display": null,
            "flex": null,
            "flex_flow": null,
            "grid_area": null,
            "grid_auto_columns": null,
            "grid_auto_flow": null,
            "grid_auto_rows": null,
            "grid_column": null,
            "grid_gap": null,
            "grid_row": null,
            "grid_template_areas": null,
            "grid_template_columns": null,
            "grid_template_rows": null,
            "height": null,
            "justify_content": null,
            "justify_items": null,
            "left": null,
            "margin": null,
            "max_height": null,
            "max_width": null,
            "min_height": null,
            "min_width": null,
            "object_fit": null,
            "object_position": null,
            "order": null,
            "overflow": null,
            "overflow_x": null,
            "overflow_y": null,
            "padding": null,
            "right": null,
            "top": null,
            "visibility": null,
            "width": null
          }
        },
        "e5176702d4f24541bf8b9714fd9ea238": {
          "model_module": "@jupyter-widgets/controls",
          "model_name": "DescriptionStyleModel",
          "model_module_version": "1.5.0",
          "state": {
            "_model_module": "@jupyter-widgets/controls",
            "_model_module_version": "1.5.0",
            "_model_name": "DescriptionStyleModel",
            "_view_count": null,
            "_view_module": "@jupyter-widgets/base",
            "_view_module_version": "1.2.0",
            "_view_name": "StyleView",
            "description_width": ""
          }
        },
        "f2a4628f078041b0907bc452238ee1b0": {
          "model_module": "@jupyter-widgets/base",
          "model_name": "LayoutModel",
          "model_module_version": "1.2.0",
          "state": {
            "_model_module": "@jupyter-widgets/base",
            "_model_module_version": "1.2.0",
            "_model_name": "LayoutModel",
            "_view_count": null,
            "_view_module": "@jupyter-widgets/base",
            "_view_module_version": "1.2.0",
            "_view_name": "LayoutView",
            "align_content": null,
            "align_items": null,
            "align_self": null,
            "border": null,
            "bottom": null,
            "display": null,
            "flex": null,
            "flex_flow": null,
            "grid_area": null,
            "grid_auto_columns": null,
            "grid_auto_flow": null,
            "grid_auto_rows": null,
            "grid_column": null,
            "grid_gap": null,
            "grid_row": null,
            "grid_template_areas": null,
            "grid_template_columns": null,
            "grid_template_rows": null,
            "height": null,
            "justify_content": null,
            "justify_items": null,
            "left": null,
            "margin": null,
            "max_height": null,
            "max_width": null,
            "min_height": null,
            "min_width": null,
            "object_fit": null,
            "object_position": null,
            "order": null,
            "overflow": null,
            "overflow_x": null,
            "overflow_y": null,
            "padding": null,
            "right": null,
            "top": null,
            "visibility": null,
            "width": "20px"
          }
        },
        "f61b75eaa4e64a16bfc72b9cbf1d47a1": {
          "model_module": "@jupyter-widgets/controls",
          "model_name": "ProgressStyleModel",
          "model_module_version": "1.5.0",
          "state": {
            "_model_module": "@jupyter-widgets/controls",
            "_model_module_version": "1.5.0",
            "_model_name": "ProgressStyleModel",
            "_view_count": null,
            "_view_module": "@jupyter-widgets/base",
            "_view_module_version": "1.2.0",
            "_view_name": "StyleView",
            "bar_color": null,
            "description_width": ""
          }
        },
        "85f4a6f51cda46ef91123d8db0cdaefa": {
          "model_module": "@jupyter-widgets/base",
          "model_name": "LayoutModel",
          "model_module_version": "1.2.0",
          "state": {
            "_model_module": "@jupyter-widgets/base",
            "_model_module_version": "1.2.0",
            "_model_name": "LayoutModel",
            "_view_count": null,
            "_view_module": "@jupyter-widgets/base",
            "_view_module_version": "1.2.0",
            "_view_name": "LayoutView",
            "align_content": null,
            "align_items": null,
            "align_self": null,
            "border": null,
            "bottom": null,
            "display": null,
            "flex": null,
            "flex_flow": null,
            "grid_area": null,
            "grid_auto_columns": null,
            "grid_auto_flow": null,
            "grid_auto_rows": null,
            "grid_column": null,
            "grid_gap": null,
            "grid_row": null,
            "grid_template_areas": null,
            "grid_template_columns": null,
            "grid_template_rows": null,
            "height": null,
            "justify_content": null,
            "justify_items": null,
            "left": null,
            "margin": null,
            "max_height": null,
            "max_width": null,
            "min_height": null,
            "min_width": null,
            "object_fit": null,
            "object_position": null,
            "order": null,
            "overflow": null,
            "overflow_x": null,
            "overflow_y": null,
            "padding": null,
            "right": null,
            "top": null,
            "visibility": null,
            "width": null
          }
        },
        "5d9c7d34a6a04d9aa1eacfe5bcbb1942": {
          "model_module": "@jupyter-widgets/controls",
          "model_name": "DescriptionStyleModel",
          "model_module_version": "1.5.0",
          "state": {
            "_model_module": "@jupyter-widgets/controls",
            "_model_module_version": "1.5.0",
            "_model_name": "DescriptionStyleModel",
            "_view_count": null,
            "_view_module": "@jupyter-widgets/base",
            "_view_module_version": "1.2.0",
            "_view_name": "StyleView",
            "description_width": ""
          }
        },
        "6d07086c1b5440889248c3024ee97222": {
          "model_module": "@jupyter-widgets/controls",
          "model_name": "HBoxModel",
          "model_module_version": "1.5.0",
          "state": {
            "_dom_classes": [],
            "_model_module": "@jupyter-widgets/controls",
            "_model_module_version": "1.5.0",
            "_model_name": "HBoxModel",
            "_view_count": null,
            "_view_module": "@jupyter-widgets/controls",
            "_view_module_version": "1.5.0",
            "_view_name": "HBoxView",
            "box_style": "",
            "children": [
              "IPY_MODEL_fcde2bd553294913a37e98e3c3b3786d",
              "IPY_MODEL_1bae04e2504944ccb4b77ff4e3baf33e",
              "IPY_MODEL_a0d0cb4f02b340f58c32e0738031c496"
            ],
            "layout": "IPY_MODEL_af9890d1486748f1b0d9e5364fdeb089"
          }
        },
        "fcde2bd553294913a37e98e3c3b3786d": {
          "model_module": "@jupyter-widgets/controls",
          "model_name": "HTMLModel",
          "model_module_version": "1.5.0",
          "state": {
            "_dom_classes": [],
            "_model_module": "@jupyter-widgets/controls",
            "_model_module_version": "1.5.0",
            "_model_name": "HTMLModel",
            "_view_count": null,
            "_view_module": "@jupyter-widgets/controls",
            "_view_module_version": "1.5.0",
            "_view_name": "HTMLView",
            "description": "",
            "description_tooltip": null,
            "layout": "IPY_MODEL_b2294c37f06a4510a607ee8912d6b38d",
            "placeholder": "​",
            "style": "IPY_MODEL_741a4fe2d9c7411198cebfb243f9d1b8",
            "value": "Generating splits...: 100%"
          }
        },
        "1bae04e2504944ccb4b77ff4e3baf33e": {
          "model_module": "@jupyter-widgets/controls",
          "model_name": "FloatProgressModel",
          "model_module_version": "1.5.0",
          "state": {
            "_dom_classes": [],
            "_model_module": "@jupyter-widgets/controls",
            "_model_module_version": "1.5.0",
            "_model_name": "FloatProgressModel",
            "_view_count": null,
            "_view_module": "@jupyter-widgets/controls",
            "_view_module_version": "1.5.0",
            "_view_name": "ProgressView",
            "bar_style": "",
            "description": "",
            "description_tooltip": null,
            "layout": "IPY_MODEL_43305a936fd04eeaa0a83a3fc737368b",
            "max": 3,
            "min": 0,
            "orientation": "horizontal",
            "style": "IPY_MODEL_2ab603692d4d4bfc963006bb1fa7d525",
            "value": 3
          }
        },
        "a0d0cb4f02b340f58c32e0738031c496": {
          "model_module": "@jupyter-widgets/controls",
          "model_name": "HTMLModel",
          "model_module_version": "1.5.0",
          "state": {
            "_dom_classes": [],
            "_model_module": "@jupyter-widgets/controls",
            "_model_module_version": "1.5.0",
            "_model_name": "HTMLModel",
            "_view_count": null,
            "_view_module": "@jupyter-widgets/controls",
            "_view_module_version": "1.5.0",
            "_view_name": "HTMLView",
            "description": "",
            "description_tooltip": null,
            "layout": "IPY_MODEL_6db56441ec3b4b30b8dbf15a522c93f1",
            "placeholder": "​",
            "style": "IPY_MODEL_13956b7d8e54446893552fd11fcc5f6d",
            "value": " 3/3 [00:34&lt;00:00, 11.82s/ splits]"
          }
        },
        "af9890d1486748f1b0d9e5364fdeb089": {
          "model_module": "@jupyter-widgets/base",
          "model_name": "LayoutModel",
          "model_module_version": "1.2.0",
          "state": {
            "_model_module": "@jupyter-widgets/base",
            "_model_module_version": "1.2.0",
            "_model_name": "LayoutModel",
            "_view_count": null,
            "_view_module": "@jupyter-widgets/base",
            "_view_module_version": "1.2.0",
            "_view_name": "LayoutView",
            "align_content": null,
            "align_items": null,
            "align_self": null,
            "border": null,
            "bottom": null,
            "display": null,
            "flex": null,
            "flex_flow": null,
            "grid_area": null,
            "grid_auto_columns": null,
            "grid_auto_flow": null,
            "grid_auto_rows": null,
            "grid_column": null,
            "grid_gap": null,
            "grid_row": null,
            "grid_template_areas": null,
            "grid_template_columns": null,
            "grid_template_rows": null,
            "height": null,
            "justify_content": null,
            "justify_items": null,
            "left": null,
            "margin": null,
            "max_height": null,
            "max_width": null,
            "min_height": null,
            "min_width": null,
            "object_fit": null,
            "object_position": null,
            "order": null,
            "overflow": null,
            "overflow_x": null,
            "overflow_y": null,
            "padding": null,
            "right": null,
            "top": null,
            "visibility": "hidden",
            "width": null
          }
        },
        "b2294c37f06a4510a607ee8912d6b38d": {
          "model_module": "@jupyter-widgets/base",
          "model_name": "LayoutModel",
          "model_module_version": "1.2.0",
          "state": {
            "_model_module": "@jupyter-widgets/base",
            "_model_module_version": "1.2.0",
            "_model_name": "LayoutModel",
            "_view_count": null,
            "_view_module": "@jupyter-widgets/base",
            "_view_module_version": "1.2.0",
            "_view_name": "LayoutView",
            "align_content": null,
            "align_items": null,
            "align_self": null,
            "border": null,
            "bottom": null,
            "display": null,
            "flex": null,
            "flex_flow": null,
            "grid_area": null,
            "grid_auto_columns": null,
            "grid_auto_flow": null,
            "grid_auto_rows": null,
            "grid_column": null,
            "grid_gap": null,
            "grid_row": null,
            "grid_template_areas": null,
            "grid_template_columns": null,
            "grid_template_rows": null,
            "height": null,
            "justify_content": null,
            "justify_items": null,
            "left": null,
            "margin": null,
            "max_height": null,
            "max_width": null,
            "min_height": null,
            "min_width": null,
            "object_fit": null,
            "object_position": null,
            "order": null,
            "overflow": null,
            "overflow_x": null,
            "overflow_y": null,
            "padding": null,
            "right": null,
            "top": null,
            "visibility": null,
            "width": null
          }
        },
        "741a4fe2d9c7411198cebfb243f9d1b8": {
          "model_module": "@jupyter-widgets/controls",
          "model_name": "DescriptionStyleModel",
          "model_module_version": "1.5.0",
          "state": {
            "_model_module": "@jupyter-widgets/controls",
            "_model_module_version": "1.5.0",
            "_model_name": "DescriptionStyleModel",
            "_view_count": null,
            "_view_module": "@jupyter-widgets/base",
            "_view_module_version": "1.2.0",
            "_view_name": "StyleView",
            "description_width": ""
          }
        },
        "43305a936fd04eeaa0a83a3fc737368b": {
          "model_module": "@jupyter-widgets/base",
          "model_name": "LayoutModel",
          "model_module_version": "1.2.0",
          "state": {
            "_model_module": "@jupyter-widgets/base",
            "_model_module_version": "1.2.0",
            "_model_name": "LayoutModel",
            "_view_count": null,
            "_view_module": "@jupyter-widgets/base",
            "_view_module_version": "1.2.0",
            "_view_name": "LayoutView",
            "align_content": null,
            "align_items": null,
            "align_self": null,
            "border": null,
            "bottom": null,
            "display": null,
            "flex": null,
            "flex_flow": null,
            "grid_area": null,
            "grid_auto_columns": null,
            "grid_auto_flow": null,
            "grid_auto_rows": null,
            "grid_column": null,
            "grid_gap": null,
            "grid_row": null,
            "grid_template_areas": null,
            "grid_template_columns": null,
            "grid_template_rows": null,
            "height": null,
            "justify_content": null,
            "justify_items": null,
            "left": null,
            "margin": null,
            "max_height": null,
            "max_width": null,
            "min_height": null,
            "min_width": null,
            "object_fit": null,
            "object_position": null,
            "order": null,
            "overflow": null,
            "overflow_x": null,
            "overflow_y": null,
            "padding": null,
            "right": null,
            "top": null,
            "visibility": null,
            "width": null
          }
        },
        "2ab603692d4d4bfc963006bb1fa7d525": {
          "model_module": "@jupyter-widgets/controls",
          "model_name": "ProgressStyleModel",
          "model_module_version": "1.5.0",
          "state": {
            "_model_module": "@jupyter-widgets/controls",
            "_model_module_version": "1.5.0",
            "_model_name": "ProgressStyleModel",
            "_view_count": null,
            "_view_module": "@jupyter-widgets/base",
            "_view_module_version": "1.2.0",
            "_view_name": "StyleView",
            "bar_color": null,
            "description_width": ""
          }
        },
        "6db56441ec3b4b30b8dbf15a522c93f1": {
          "model_module": "@jupyter-widgets/base",
          "model_name": "LayoutModel",
          "model_module_version": "1.2.0",
          "state": {
            "_model_module": "@jupyter-widgets/base",
            "_model_module_version": "1.2.0",
            "_model_name": "LayoutModel",
            "_view_count": null,
            "_view_module": "@jupyter-widgets/base",
            "_view_module_version": "1.2.0",
            "_view_name": "LayoutView",
            "align_content": null,
            "align_items": null,
            "align_self": null,
            "border": null,
            "bottom": null,
            "display": null,
            "flex": null,
            "flex_flow": null,
            "grid_area": null,
            "grid_auto_columns": null,
            "grid_auto_flow": null,
            "grid_auto_rows": null,
            "grid_column": null,
            "grid_gap": null,
            "grid_row": null,
            "grid_template_areas": null,
            "grid_template_columns": null,
            "grid_template_rows": null,
            "height": null,
            "justify_content": null,
            "justify_items": null,
            "left": null,
            "margin": null,
            "max_height": null,
            "max_width": null,
            "min_height": null,
            "min_width": null,
            "object_fit": null,
            "object_position": null,
            "order": null,
            "overflow": null,
            "overflow_x": null,
            "overflow_y": null,
            "padding": null,
            "right": null,
            "top": null,
            "visibility": null,
            "width": null
          }
        },
        "13956b7d8e54446893552fd11fcc5f6d": {
          "model_module": "@jupyter-widgets/controls",
          "model_name": "DescriptionStyleModel",
          "model_module_version": "1.5.0",
          "state": {
            "_model_module": "@jupyter-widgets/controls",
            "_model_module_version": "1.5.0",
            "_model_name": "DescriptionStyleModel",
            "_view_count": null,
            "_view_module": "@jupyter-widgets/base",
            "_view_module_version": "1.2.0",
            "_view_name": "StyleView",
            "description_width": ""
          }
        },
        "03f7589c1e224085bc5262710efbc2dd": {
          "model_module": "@jupyter-widgets/controls",
          "model_name": "HBoxModel",
          "model_module_version": "1.5.0",
          "state": {
            "_dom_classes": [],
            "_model_module": "@jupyter-widgets/controls",
            "_model_module_version": "1.5.0",
            "_model_name": "HBoxModel",
            "_view_count": null,
            "_view_module": "@jupyter-widgets/controls",
            "_view_module_version": "1.5.0",
            "_view_name": "HBoxView",
            "box_style": "",
            "children": [
              "IPY_MODEL_3b8985492c034c7590ac4afd483230d9",
              "IPY_MODEL_fcdfb6eef38b49a59429235d578f0fe9",
              "IPY_MODEL_383e6cbebd9f4cd0a7b2941661db06c5"
            ],
            "layout": "IPY_MODEL_c735f768071c45789592b3d6f30601de"
          }
        },
        "3b8985492c034c7590ac4afd483230d9": {
          "model_module": "@jupyter-widgets/controls",
          "model_name": "HTMLModel",
          "model_module_version": "1.5.0",
          "state": {
            "_dom_classes": [],
            "_model_module": "@jupyter-widgets/controls",
            "_model_module_version": "1.5.0",
            "_model_name": "HTMLModel",
            "_view_count": null,
            "_view_module": "@jupyter-widgets/controls",
            "_view_module_version": "1.5.0",
            "_view_name": "HTMLView",
            "description": "",
            "description_tooltip": null,
            "layout": "IPY_MODEL_4f0aae3e4406405fb11d3e094c9a1686",
            "placeholder": "​",
            "style": "IPY_MODEL_ccc04eb481f8443ab331121aa74a1b30",
            "value": "Generating train examples...: "
          }
        },
        "fcdfb6eef38b49a59429235d578f0fe9": {
          "model_module": "@jupyter-widgets/controls",
          "model_name": "FloatProgressModel",
          "model_module_version": "1.5.0",
          "state": {
            "_dom_classes": [],
            "_model_module": "@jupyter-widgets/controls",
            "_model_module_version": "1.5.0",
            "_model_name": "FloatProgressModel",
            "_view_count": null,
            "_view_module": "@jupyter-widgets/controls",
            "_view_module_version": "1.5.0",
            "_view_name": "ProgressView",
            "bar_style": "info",
            "description": "",
            "description_tooltip": null,
            "layout": "IPY_MODEL_01916bd401a140bc848eff45d68116dc",
            "max": 1,
            "min": 0,
            "orientation": "horizontal",
            "style": "IPY_MODEL_0330f127ea4143a784e1b88d26b39a07",
            "value": 1
          }
        },
        "383e6cbebd9f4cd0a7b2941661db06c5": {
          "model_module": "@jupyter-widgets/controls",
          "model_name": "HTMLModel",
          "model_module_version": "1.5.0",
          "state": {
            "_dom_classes": [],
            "_model_module": "@jupyter-widgets/controls",
            "_model_module_version": "1.5.0",
            "_model_name": "HTMLModel",
            "_view_count": null,
            "_view_module": "@jupyter-widgets/controls",
            "_view_module_version": "1.5.0",
            "_view_name": "HTMLView",
            "description": "",
            "description_tooltip": null,
            "layout": "IPY_MODEL_eb943382938e4881be3dfa44edc31546",
            "placeholder": "​",
            "style": "IPY_MODEL_0acdd80c66ae4a6280de289b0b4c3465",
            "value": " 24969/? [00:06&lt;00:00, 5079.41 examples/s]"
          }
        },
        "c735f768071c45789592b3d6f30601de": {
          "model_module": "@jupyter-widgets/base",
          "model_name": "LayoutModel",
          "model_module_version": "1.2.0",
          "state": {
            "_model_module": "@jupyter-widgets/base",
            "_model_module_version": "1.2.0",
            "_model_name": "LayoutModel",
            "_view_count": null,
            "_view_module": "@jupyter-widgets/base",
            "_view_module_version": "1.2.0",
            "_view_name": "LayoutView",
            "align_content": null,
            "align_items": null,
            "align_self": null,
            "border": null,
            "bottom": null,
            "display": null,
            "flex": null,
            "flex_flow": null,
            "grid_area": null,
            "grid_auto_columns": null,
            "grid_auto_flow": null,
            "grid_auto_rows": null,
            "grid_column": null,
            "grid_gap": null,
            "grid_row": null,
            "grid_template_areas": null,
            "grid_template_columns": null,
            "grid_template_rows": null,
            "height": null,
            "justify_content": null,
            "justify_items": null,
            "left": null,
            "margin": null,
            "max_height": null,
            "max_width": null,
            "min_height": null,
            "min_width": null,
            "object_fit": null,
            "object_position": null,
            "order": null,
            "overflow": null,
            "overflow_x": null,
            "overflow_y": null,
            "padding": null,
            "right": null,
            "top": null,
            "visibility": "hidden",
            "width": null
          }
        },
        "4f0aae3e4406405fb11d3e094c9a1686": {
          "model_module": "@jupyter-widgets/base",
          "model_name": "LayoutModel",
          "model_module_version": "1.2.0",
          "state": {
            "_model_module": "@jupyter-widgets/base",
            "_model_module_version": "1.2.0",
            "_model_name": "LayoutModel",
            "_view_count": null,
            "_view_module": "@jupyter-widgets/base",
            "_view_module_version": "1.2.0",
            "_view_name": "LayoutView",
            "align_content": null,
            "align_items": null,
            "align_self": null,
            "border": null,
            "bottom": null,
            "display": null,
            "flex": null,
            "flex_flow": null,
            "grid_area": null,
            "grid_auto_columns": null,
            "grid_auto_flow": null,
            "grid_auto_rows": null,
            "grid_column": null,
            "grid_gap": null,
            "grid_row": null,
            "grid_template_areas": null,
            "grid_template_columns": null,
            "grid_template_rows": null,
            "height": null,
            "justify_content": null,
            "justify_items": null,
            "left": null,
            "margin": null,
            "max_height": null,
            "max_width": null,
            "min_height": null,
            "min_width": null,
            "object_fit": null,
            "object_position": null,
            "order": null,
            "overflow": null,
            "overflow_x": null,
            "overflow_y": null,
            "padding": null,
            "right": null,
            "top": null,
            "visibility": null,
            "width": null
          }
        },
        "ccc04eb481f8443ab331121aa74a1b30": {
          "model_module": "@jupyter-widgets/controls",
          "model_name": "DescriptionStyleModel",
          "model_module_version": "1.5.0",
          "state": {
            "_model_module": "@jupyter-widgets/controls",
            "_model_module_version": "1.5.0",
            "_model_name": "DescriptionStyleModel",
            "_view_count": null,
            "_view_module": "@jupyter-widgets/base",
            "_view_module_version": "1.2.0",
            "_view_name": "StyleView",
            "description_width": ""
          }
        },
        "01916bd401a140bc848eff45d68116dc": {
          "model_module": "@jupyter-widgets/base",
          "model_name": "LayoutModel",
          "model_module_version": "1.2.0",
          "state": {
            "_model_module": "@jupyter-widgets/base",
            "_model_module_version": "1.2.0",
            "_model_name": "LayoutModel",
            "_view_count": null,
            "_view_module": "@jupyter-widgets/base",
            "_view_module_version": "1.2.0",
            "_view_name": "LayoutView",
            "align_content": null,
            "align_items": null,
            "align_self": null,
            "border": null,
            "bottom": null,
            "display": null,
            "flex": null,
            "flex_flow": null,
            "grid_area": null,
            "grid_auto_columns": null,
            "grid_auto_flow": null,
            "grid_auto_rows": null,
            "grid_column": null,
            "grid_gap": null,
            "grid_row": null,
            "grid_template_areas": null,
            "grid_template_columns": null,
            "grid_template_rows": null,
            "height": null,
            "justify_content": null,
            "justify_items": null,
            "left": null,
            "margin": null,
            "max_height": null,
            "max_width": null,
            "min_height": null,
            "min_width": null,
            "object_fit": null,
            "object_position": null,
            "order": null,
            "overflow": null,
            "overflow_x": null,
            "overflow_y": null,
            "padding": null,
            "right": null,
            "top": null,
            "visibility": null,
            "width": "20px"
          }
        },
        "0330f127ea4143a784e1b88d26b39a07": {
          "model_module": "@jupyter-widgets/controls",
          "model_name": "ProgressStyleModel",
          "model_module_version": "1.5.0",
          "state": {
            "_model_module": "@jupyter-widgets/controls",
            "_model_module_version": "1.5.0",
            "_model_name": "ProgressStyleModel",
            "_view_count": null,
            "_view_module": "@jupyter-widgets/base",
            "_view_module_version": "1.2.0",
            "_view_name": "StyleView",
            "bar_color": null,
            "description_width": ""
          }
        },
        "eb943382938e4881be3dfa44edc31546": {
          "model_module": "@jupyter-widgets/base",
          "model_name": "LayoutModel",
          "model_module_version": "1.2.0",
          "state": {
            "_model_module": "@jupyter-widgets/base",
            "_model_module_version": "1.2.0",
            "_model_name": "LayoutModel",
            "_view_count": null,
            "_view_module": "@jupyter-widgets/base",
            "_view_module_version": "1.2.0",
            "_view_name": "LayoutView",
            "align_content": null,
            "align_items": null,
            "align_self": null,
            "border": null,
            "bottom": null,
            "display": null,
            "flex": null,
            "flex_flow": null,
            "grid_area": null,
            "grid_auto_columns": null,
            "grid_auto_flow": null,
            "grid_auto_rows": null,
            "grid_column": null,
            "grid_gap": null,
            "grid_row": null,
            "grid_template_areas": null,
            "grid_template_columns": null,
            "grid_template_rows": null,
            "height": null,
            "justify_content": null,
            "justify_items": null,
            "left": null,
            "margin": null,
            "max_height": null,
            "max_width": null,
            "min_height": null,
            "min_width": null,
            "object_fit": null,
            "object_position": null,
            "order": null,
            "overflow": null,
            "overflow_x": null,
            "overflow_y": null,
            "padding": null,
            "right": null,
            "top": null,
            "visibility": null,
            "width": null
          }
        },
        "0acdd80c66ae4a6280de289b0b4c3465": {
          "model_module": "@jupyter-widgets/controls",
          "model_name": "DescriptionStyleModel",
          "model_module_version": "1.5.0",
          "state": {
            "_model_module": "@jupyter-widgets/controls",
            "_model_module_version": "1.5.0",
            "_model_name": "DescriptionStyleModel",
            "_view_count": null,
            "_view_module": "@jupyter-widgets/base",
            "_view_module_version": "1.2.0",
            "_view_name": "StyleView",
            "description_width": ""
          }
        },
        "9aac63ddab224662bc06f2104176eeab": {
          "model_module": "@jupyter-widgets/controls",
          "model_name": "HBoxModel",
          "model_module_version": "1.5.0",
          "state": {
            "_dom_classes": [],
            "_model_module": "@jupyter-widgets/controls",
            "_model_module_version": "1.5.0",
            "_model_name": "HBoxModel",
            "_view_count": null,
            "_view_module": "@jupyter-widgets/controls",
            "_view_module_version": "1.5.0",
            "_view_name": "HBoxView",
            "box_style": "",
            "children": [
              "IPY_MODEL_ce11dec32192426983d32713a54bf766",
              "IPY_MODEL_c2797f9904b04532b36c3be7968e5284",
              "IPY_MODEL_98e1d85935804639b764ee701eb32f47"
            ],
            "layout": "IPY_MODEL_4931b3af4644418c80b0446896061923"
          }
        },
        "ce11dec32192426983d32713a54bf766": {
          "model_module": "@jupyter-widgets/controls",
          "model_name": "HTMLModel",
          "model_module_version": "1.5.0",
          "state": {
            "_dom_classes": [],
            "_model_module": "@jupyter-widgets/controls",
            "_model_module_version": "1.5.0",
            "_model_name": "HTMLModel",
            "_view_count": null,
            "_view_module": "@jupyter-widgets/controls",
            "_view_module_version": "1.5.0",
            "_view_name": "HTMLView",
            "description": "",
            "description_tooltip": null,
            "layout": "IPY_MODEL_513f6d09ea8844029010eb14657b58de",
            "placeholder": "​",
            "style": "IPY_MODEL_9f31e545cdb0467fbc41a00fe71030bd",
            "value": "Shuffling /root/tensorflow_datasets/imdb_reviews/plain_text/incomplete.WN3LQU_1.0.0/imdb_reviews-train.tfrecord*...:   0%"
          }
        },
        "c2797f9904b04532b36c3be7968e5284": {
          "model_module": "@jupyter-widgets/controls",
          "model_name": "FloatProgressModel",
          "model_module_version": "1.5.0",
          "state": {
            "_dom_classes": [],
            "_model_module": "@jupyter-widgets/controls",
            "_model_module_version": "1.5.0",
            "_model_name": "FloatProgressModel",
            "_view_count": null,
            "_view_module": "@jupyter-widgets/controls",
            "_view_module_version": "1.5.0",
            "_view_name": "ProgressView",
            "bar_style": "",
            "description": "",
            "description_tooltip": null,
            "layout": "IPY_MODEL_9c114ca0f0b44ea4b9327d93cfa48254",
            "max": 25000,
            "min": 0,
            "orientation": "horizontal",
            "style": "IPY_MODEL_0d40fe77cc734f828612795c2a24014e",
            "value": 25000
          }
        },
        "98e1d85935804639b764ee701eb32f47": {
          "model_module": "@jupyter-widgets/controls",
          "model_name": "HTMLModel",
          "model_module_version": "1.5.0",
          "state": {
            "_dom_classes": [],
            "_model_module": "@jupyter-widgets/controls",
            "_model_module_version": "1.5.0",
            "_model_name": "HTMLModel",
            "_view_count": null,
            "_view_module": "@jupyter-widgets/controls",
            "_view_module_version": "1.5.0",
            "_view_name": "HTMLView",
            "description": "",
            "description_tooltip": null,
            "layout": "IPY_MODEL_1b8939342e414e5d8281f89cd4c19d31",
            "placeholder": "​",
            "style": "IPY_MODEL_affd86bc92a247ed9c266d5a44f696ac",
            "value": " 0/25000 [00:00&lt;?, ? examples/s]"
          }
        },
        "4931b3af4644418c80b0446896061923": {
          "model_module": "@jupyter-widgets/base",
          "model_name": "LayoutModel",
          "model_module_version": "1.2.0",
          "state": {
            "_model_module": "@jupyter-widgets/base",
            "_model_module_version": "1.2.0",
            "_model_name": "LayoutModel",
            "_view_count": null,
            "_view_module": "@jupyter-widgets/base",
            "_view_module_version": "1.2.0",
            "_view_name": "LayoutView",
            "align_content": null,
            "align_items": null,
            "align_self": null,
            "border": null,
            "bottom": null,
            "display": null,
            "flex": null,
            "flex_flow": null,
            "grid_area": null,
            "grid_auto_columns": null,
            "grid_auto_flow": null,
            "grid_auto_rows": null,
            "grid_column": null,
            "grid_gap": null,
            "grid_row": null,
            "grid_template_areas": null,
            "grid_template_columns": null,
            "grid_template_rows": null,
            "height": null,
            "justify_content": null,
            "justify_items": null,
            "left": null,
            "margin": null,
            "max_height": null,
            "max_width": null,
            "min_height": null,
            "min_width": null,
            "object_fit": null,
            "object_position": null,
            "order": null,
            "overflow": null,
            "overflow_x": null,
            "overflow_y": null,
            "padding": null,
            "right": null,
            "top": null,
            "visibility": "hidden",
            "width": null
          }
        },
        "513f6d09ea8844029010eb14657b58de": {
          "model_module": "@jupyter-widgets/base",
          "model_name": "LayoutModel",
          "model_module_version": "1.2.0",
          "state": {
            "_model_module": "@jupyter-widgets/base",
            "_model_module_version": "1.2.0",
            "_model_name": "LayoutModel",
            "_view_count": null,
            "_view_module": "@jupyter-widgets/base",
            "_view_module_version": "1.2.0",
            "_view_name": "LayoutView",
            "align_content": null,
            "align_items": null,
            "align_self": null,
            "border": null,
            "bottom": null,
            "display": null,
            "flex": null,
            "flex_flow": null,
            "grid_area": null,
            "grid_auto_columns": null,
            "grid_auto_flow": null,
            "grid_auto_rows": null,
            "grid_column": null,
            "grid_gap": null,
            "grid_row": null,
            "grid_template_areas": null,
            "grid_template_columns": null,
            "grid_template_rows": null,
            "height": null,
            "justify_content": null,
            "justify_items": null,
            "left": null,
            "margin": null,
            "max_height": null,
            "max_width": null,
            "min_height": null,
            "min_width": null,
            "object_fit": null,
            "object_position": null,
            "order": null,
            "overflow": null,
            "overflow_x": null,
            "overflow_y": null,
            "padding": null,
            "right": null,
            "top": null,
            "visibility": null,
            "width": null
          }
        },
        "9f31e545cdb0467fbc41a00fe71030bd": {
          "model_module": "@jupyter-widgets/controls",
          "model_name": "DescriptionStyleModel",
          "model_module_version": "1.5.0",
          "state": {
            "_model_module": "@jupyter-widgets/controls",
            "_model_module_version": "1.5.0",
            "_model_name": "DescriptionStyleModel",
            "_view_count": null,
            "_view_module": "@jupyter-widgets/base",
            "_view_module_version": "1.2.0",
            "_view_name": "StyleView",
            "description_width": ""
          }
        },
        "9c114ca0f0b44ea4b9327d93cfa48254": {
          "model_module": "@jupyter-widgets/base",
          "model_name": "LayoutModel",
          "model_module_version": "1.2.0",
          "state": {
            "_model_module": "@jupyter-widgets/base",
            "_model_module_version": "1.2.0",
            "_model_name": "LayoutModel",
            "_view_count": null,
            "_view_module": "@jupyter-widgets/base",
            "_view_module_version": "1.2.0",
            "_view_name": "LayoutView",
            "align_content": null,
            "align_items": null,
            "align_self": null,
            "border": null,
            "bottom": null,
            "display": null,
            "flex": null,
            "flex_flow": null,
            "grid_area": null,
            "grid_auto_columns": null,
            "grid_auto_flow": null,
            "grid_auto_rows": null,
            "grid_column": null,
            "grid_gap": null,
            "grid_row": null,
            "grid_template_areas": null,
            "grid_template_columns": null,
            "grid_template_rows": null,
            "height": null,
            "justify_content": null,
            "justify_items": null,
            "left": null,
            "margin": null,
            "max_height": null,
            "max_width": null,
            "min_height": null,
            "min_width": null,
            "object_fit": null,
            "object_position": null,
            "order": null,
            "overflow": null,
            "overflow_x": null,
            "overflow_y": null,
            "padding": null,
            "right": null,
            "top": null,
            "visibility": null,
            "width": null
          }
        },
        "0d40fe77cc734f828612795c2a24014e": {
          "model_module": "@jupyter-widgets/controls",
          "model_name": "ProgressStyleModel",
          "model_module_version": "1.5.0",
          "state": {
            "_model_module": "@jupyter-widgets/controls",
            "_model_module_version": "1.5.0",
            "_model_name": "ProgressStyleModel",
            "_view_count": null,
            "_view_module": "@jupyter-widgets/base",
            "_view_module_version": "1.2.0",
            "_view_name": "StyleView",
            "bar_color": null,
            "description_width": ""
          }
        },
        "1b8939342e414e5d8281f89cd4c19d31": {
          "model_module": "@jupyter-widgets/base",
          "model_name": "LayoutModel",
          "model_module_version": "1.2.0",
          "state": {
            "_model_module": "@jupyter-widgets/base",
            "_model_module_version": "1.2.0",
            "_model_name": "LayoutModel",
            "_view_count": null,
            "_view_module": "@jupyter-widgets/base",
            "_view_module_version": "1.2.0",
            "_view_name": "LayoutView",
            "align_content": null,
            "align_items": null,
            "align_self": null,
            "border": null,
            "bottom": null,
            "display": null,
            "flex": null,
            "flex_flow": null,
            "grid_area": null,
            "grid_auto_columns": null,
            "grid_auto_flow": null,
            "grid_auto_rows": null,
            "grid_column": null,
            "grid_gap": null,
            "grid_row": null,
            "grid_template_areas": null,
            "grid_template_columns": null,
            "grid_template_rows": null,
            "height": null,
            "justify_content": null,
            "justify_items": null,
            "left": null,
            "margin": null,
            "max_height": null,
            "max_width": null,
            "min_height": null,
            "min_width": null,
            "object_fit": null,
            "object_position": null,
            "order": null,
            "overflow": null,
            "overflow_x": null,
            "overflow_y": null,
            "padding": null,
            "right": null,
            "top": null,
            "visibility": null,
            "width": null
          }
        },
        "affd86bc92a247ed9c266d5a44f696ac": {
          "model_module": "@jupyter-widgets/controls",
          "model_name": "DescriptionStyleModel",
          "model_module_version": "1.5.0",
          "state": {
            "_model_module": "@jupyter-widgets/controls",
            "_model_module_version": "1.5.0",
            "_model_name": "DescriptionStyleModel",
            "_view_count": null,
            "_view_module": "@jupyter-widgets/base",
            "_view_module_version": "1.2.0",
            "_view_name": "StyleView",
            "description_width": ""
          }
        },
        "9bd15100641743dba9055624b10bc00b": {
          "model_module": "@jupyter-widgets/controls",
          "model_name": "HBoxModel",
          "model_module_version": "1.5.0",
          "state": {
            "_dom_classes": [],
            "_model_module": "@jupyter-widgets/controls",
            "_model_module_version": "1.5.0",
            "_model_name": "HBoxModel",
            "_view_count": null,
            "_view_module": "@jupyter-widgets/controls",
            "_view_module_version": "1.5.0",
            "_view_name": "HBoxView",
            "box_style": "",
            "children": [
              "IPY_MODEL_af5f0162aaba4e088d2a5c0ac49b1fce",
              "IPY_MODEL_e347acf84aa74ac89a369ec3585d489c",
              "IPY_MODEL_224cf915748e433f9f0e8393539710cd"
            ],
            "layout": "IPY_MODEL_9e820221dc064ea48aa0e44af901e8e8"
          }
        },
        "af5f0162aaba4e088d2a5c0ac49b1fce": {
          "model_module": "@jupyter-widgets/controls",
          "model_name": "HTMLModel",
          "model_module_version": "1.5.0",
          "state": {
            "_dom_classes": [],
            "_model_module": "@jupyter-widgets/controls",
            "_model_module_version": "1.5.0",
            "_model_name": "HTMLModel",
            "_view_count": null,
            "_view_module": "@jupyter-widgets/controls",
            "_view_module_version": "1.5.0",
            "_view_name": "HTMLView",
            "description": "",
            "description_tooltip": null,
            "layout": "IPY_MODEL_94dcf71cb3774cbf8f31d4f46668ca56",
            "placeholder": "​",
            "style": "IPY_MODEL_e6dbf2a856404d46abd32d999d80c6fb",
            "value": "Generating test examples...: "
          }
        },
        "e347acf84aa74ac89a369ec3585d489c": {
          "model_module": "@jupyter-widgets/controls",
          "model_name": "FloatProgressModel",
          "model_module_version": "1.5.0",
          "state": {
            "_dom_classes": [],
            "_model_module": "@jupyter-widgets/controls",
            "_model_module_version": "1.5.0",
            "_model_name": "FloatProgressModel",
            "_view_count": null,
            "_view_module": "@jupyter-widgets/controls",
            "_view_module_version": "1.5.0",
            "_view_name": "ProgressView",
            "bar_style": "info",
            "description": "",
            "description_tooltip": null,
            "layout": "IPY_MODEL_86e7a84ebd554c668d8a18e35edeed4b",
            "max": 1,
            "min": 0,
            "orientation": "horizontal",
            "style": "IPY_MODEL_8901f91997944c56936908e4680750f8",
            "value": 1
          }
        },
        "224cf915748e433f9f0e8393539710cd": {
          "model_module": "@jupyter-widgets/controls",
          "model_name": "HTMLModel",
          "model_module_version": "1.5.0",
          "state": {
            "_dom_classes": [],
            "_model_module": "@jupyter-widgets/controls",
            "_model_module_version": "1.5.0",
            "_model_name": "HTMLModel",
            "_view_count": null,
            "_view_module": "@jupyter-widgets/controls",
            "_view_module_version": "1.5.0",
            "_view_name": "HTMLView",
            "description": "",
            "description_tooltip": null,
            "layout": "IPY_MODEL_48c068d937dd47b1aa0169e8018a515f",
            "placeholder": "​",
            "style": "IPY_MODEL_35542f1b6cb04564908c54cb742eb845",
            "value": " 21112/? [00:04&lt;00:00, 5760.79 examples/s]"
          }
        },
        "9e820221dc064ea48aa0e44af901e8e8": {
          "model_module": "@jupyter-widgets/base",
          "model_name": "LayoutModel",
          "model_module_version": "1.2.0",
          "state": {
            "_model_module": "@jupyter-widgets/base",
            "_model_module_version": "1.2.0",
            "_model_name": "LayoutModel",
            "_view_count": null,
            "_view_module": "@jupyter-widgets/base",
            "_view_module_version": "1.2.0",
            "_view_name": "LayoutView",
            "align_content": null,
            "align_items": null,
            "align_self": null,
            "border": null,
            "bottom": null,
            "display": null,
            "flex": null,
            "flex_flow": null,
            "grid_area": null,
            "grid_auto_columns": null,
            "grid_auto_flow": null,
            "grid_auto_rows": null,
            "grid_column": null,
            "grid_gap": null,
            "grid_row": null,
            "grid_template_areas": null,
            "grid_template_columns": null,
            "grid_template_rows": null,
            "height": null,
            "justify_content": null,
            "justify_items": null,
            "left": null,
            "margin": null,
            "max_height": null,
            "max_width": null,
            "min_height": null,
            "min_width": null,
            "object_fit": null,
            "object_position": null,
            "order": null,
            "overflow": null,
            "overflow_x": null,
            "overflow_y": null,
            "padding": null,
            "right": null,
            "top": null,
            "visibility": "hidden",
            "width": null
          }
        },
        "94dcf71cb3774cbf8f31d4f46668ca56": {
          "model_module": "@jupyter-widgets/base",
          "model_name": "LayoutModel",
          "model_module_version": "1.2.0",
          "state": {
            "_model_module": "@jupyter-widgets/base",
            "_model_module_version": "1.2.0",
            "_model_name": "LayoutModel",
            "_view_count": null,
            "_view_module": "@jupyter-widgets/base",
            "_view_module_version": "1.2.0",
            "_view_name": "LayoutView",
            "align_content": null,
            "align_items": null,
            "align_self": null,
            "border": null,
            "bottom": null,
            "display": null,
            "flex": null,
            "flex_flow": null,
            "grid_area": null,
            "grid_auto_columns": null,
            "grid_auto_flow": null,
            "grid_auto_rows": null,
            "grid_column": null,
            "grid_gap": null,
            "grid_row": null,
            "grid_template_areas": null,
            "grid_template_columns": null,
            "grid_template_rows": null,
            "height": null,
            "justify_content": null,
            "justify_items": null,
            "left": null,
            "margin": null,
            "max_height": null,
            "max_width": null,
            "min_height": null,
            "min_width": null,
            "object_fit": null,
            "object_position": null,
            "order": null,
            "overflow": null,
            "overflow_x": null,
            "overflow_y": null,
            "padding": null,
            "right": null,
            "top": null,
            "visibility": null,
            "width": null
          }
        },
        "e6dbf2a856404d46abd32d999d80c6fb": {
          "model_module": "@jupyter-widgets/controls",
          "model_name": "DescriptionStyleModel",
          "model_module_version": "1.5.0",
          "state": {
            "_model_module": "@jupyter-widgets/controls",
            "_model_module_version": "1.5.0",
            "_model_name": "DescriptionStyleModel",
            "_view_count": null,
            "_view_module": "@jupyter-widgets/base",
            "_view_module_version": "1.2.0",
            "_view_name": "StyleView",
            "description_width": ""
          }
        },
        "86e7a84ebd554c668d8a18e35edeed4b": {
          "model_module": "@jupyter-widgets/base",
          "model_name": "LayoutModel",
          "model_module_version": "1.2.0",
          "state": {
            "_model_module": "@jupyter-widgets/base",
            "_model_module_version": "1.2.0",
            "_model_name": "LayoutModel",
            "_view_count": null,
            "_view_module": "@jupyter-widgets/base",
            "_view_module_version": "1.2.0",
            "_view_name": "LayoutView",
            "align_content": null,
            "align_items": null,
            "align_self": null,
            "border": null,
            "bottom": null,
            "display": null,
            "flex": null,
            "flex_flow": null,
            "grid_area": null,
            "grid_auto_columns": null,
            "grid_auto_flow": null,
            "grid_auto_rows": null,
            "grid_column": null,
            "grid_gap": null,
            "grid_row": null,
            "grid_template_areas": null,
            "grid_template_columns": null,
            "grid_template_rows": null,
            "height": null,
            "justify_content": null,
            "justify_items": null,
            "left": null,
            "margin": null,
            "max_height": null,
            "max_width": null,
            "min_height": null,
            "min_width": null,
            "object_fit": null,
            "object_position": null,
            "order": null,
            "overflow": null,
            "overflow_x": null,
            "overflow_y": null,
            "padding": null,
            "right": null,
            "top": null,
            "visibility": null,
            "width": "20px"
          }
        },
        "8901f91997944c56936908e4680750f8": {
          "model_module": "@jupyter-widgets/controls",
          "model_name": "ProgressStyleModel",
          "model_module_version": "1.5.0",
          "state": {
            "_model_module": "@jupyter-widgets/controls",
            "_model_module_version": "1.5.0",
            "_model_name": "ProgressStyleModel",
            "_view_count": null,
            "_view_module": "@jupyter-widgets/base",
            "_view_module_version": "1.2.0",
            "_view_name": "StyleView",
            "bar_color": null,
            "description_width": ""
          }
        },
        "48c068d937dd47b1aa0169e8018a515f": {
          "model_module": "@jupyter-widgets/base",
          "model_name": "LayoutModel",
          "model_module_version": "1.2.0",
          "state": {
            "_model_module": "@jupyter-widgets/base",
            "_model_module_version": "1.2.0",
            "_model_name": "LayoutModel",
            "_view_count": null,
            "_view_module": "@jupyter-widgets/base",
            "_view_module_version": "1.2.0",
            "_view_name": "LayoutView",
            "align_content": null,
            "align_items": null,
            "align_self": null,
            "border": null,
            "bottom": null,
            "display": null,
            "flex": null,
            "flex_flow": null,
            "grid_area": null,
            "grid_auto_columns": null,
            "grid_auto_flow": null,
            "grid_auto_rows": null,
            "grid_column": null,
            "grid_gap": null,
            "grid_row": null,
            "grid_template_areas": null,
            "grid_template_columns": null,
            "grid_template_rows": null,
            "height": null,
            "justify_content": null,
            "justify_items": null,
            "left": null,
            "margin": null,
            "max_height": null,
            "max_width": null,
            "min_height": null,
            "min_width": null,
            "object_fit": null,
            "object_position": null,
            "order": null,
            "overflow": null,
            "overflow_x": null,
            "overflow_y": null,
            "padding": null,
            "right": null,
            "top": null,
            "visibility": null,
            "width": null
          }
        },
        "35542f1b6cb04564908c54cb742eb845": {
          "model_module": "@jupyter-widgets/controls",
          "model_name": "DescriptionStyleModel",
          "model_module_version": "1.5.0",
          "state": {
            "_model_module": "@jupyter-widgets/controls",
            "_model_module_version": "1.5.0",
            "_model_name": "DescriptionStyleModel",
            "_view_count": null,
            "_view_module": "@jupyter-widgets/base",
            "_view_module_version": "1.2.0",
            "_view_name": "StyleView",
            "description_width": ""
          }
        },
        "e0026332f3f84032bbe2024c0ebbcc38": {
          "model_module": "@jupyter-widgets/controls",
          "model_name": "HBoxModel",
          "model_module_version": "1.5.0",
          "state": {
            "_dom_classes": [],
            "_model_module": "@jupyter-widgets/controls",
            "_model_module_version": "1.5.0",
            "_model_name": "HBoxModel",
            "_view_count": null,
            "_view_module": "@jupyter-widgets/controls",
            "_view_module_version": "1.5.0",
            "_view_name": "HBoxView",
            "box_style": "",
            "children": [
              "IPY_MODEL_0edce1bd543d4bdd8dc643b64348bfcd",
              "IPY_MODEL_022cfbf77c9f413f93a3dd935052bca5",
              "IPY_MODEL_44477174b81042068c82dab421fc7ad6"
            ],
            "layout": "IPY_MODEL_2082360480c3457ea9c2ffa34d02758e"
          }
        },
        "0edce1bd543d4bdd8dc643b64348bfcd": {
          "model_module": "@jupyter-widgets/controls",
          "model_name": "HTMLModel",
          "model_module_version": "1.5.0",
          "state": {
            "_dom_classes": [],
            "_model_module": "@jupyter-widgets/controls",
            "_model_module_version": "1.5.0",
            "_model_name": "HTMLModel",
            "_view_count": null,
            "_view_module": "@jupyter-widgets/controls",
            "_view_module_version": "1.5.0",
            "_view_name": "HTMLView",
            "description": "",
            "description_tooltip": null,
            "layout": "IPY_MODEL_9683893184274cb2ae50850c89b55dba",
            "placeholder": "​",
            "style": "IPY_MODEL_4afaaaf2135a4012866220dc36d0445a",
            "value": "Shuffling /root/tensorflow_datasets/imdb_reviews/plain_text/incomplete.WN3LQU_1.0.0/imdb_reviews-test.tfrecord*...:   0%"
          }
        },
        "022cfbf77c9f413f93a3dd935052bca5": {
          "model_module": "@jupyter-widgets/controls",
          "model_name": "FloatProgressModel",
          "model_module_version": "1.5.0",
          "state": {
            "_dom_classes": [],
            "_model_module": "@jupyter-widgets/controls",
            "_model_module_version": "1.5.0",
            "_model_name": "FloatProgressModel",
            "_view_count": null,
            "_view_module": "@jupyter-widgets/controls",
            "_view_module_version": "1.5.0",
            "_view_name": "ProgressView",
            "bar_style": "",
            "description": "",
            "description_tooltip": null,
            "layout": "IPY_MODEL_b9bbca23781e4affa0631a1772399e7e",
            "max": 25000,
            "min": 0,
            "orientation": "horizontal",
            "style": "IPY_MODEL_a5f39fad88e049d1b9b7542fcd8d0a85",
            "value": 25000
          }
        },
        "44477174b81042068c82dab421fc7ad6": {
          "model_module": "@jupyter-widgets/controls",
          "model_name": "HTMLModel",
          "model_module_version": "1.5.0",
          "state": {
            "_dom_classes": [],
            "_model_module": "@jupyter-widgets/controls",
            "_model_module_version": "1.5.0",
            "_model_name": "HTMLModel",
            "_view_count": null,
            "_view_module": "@jupyter-widgets/controls",
            "_view_module_version": "1.5.0",
            "_view_name": "HTMLView",
            "description": "",
            "description_tooltip": null,
            "layout": "IPY_MODEL_0e1ec26c97e54269972cc909d8d03e5e",
            "placeholder": "​",
            "style": "IPY_MODEL_b4538a9c0e1a4b359708f781489098e9",
            "value": " 0/25000 [00:00&lt;?, ? examples/s]"
          }
        },
        "2082360480c3457ea9c2ffa34d02758e": {
          "model_module": "@jupyter-widgets/base",
          "model_name": "LayoutModel",
          "model_module_version": "1.2.0",
          "state": {
            "_model_module": "@jupyter-widgets/base",
            "_model_module_version": "1.2.0",
            "_model_name": "LayoutModel",
            "_view_count": null,
            "_view_module": "@jupyter-widgets/base",
            "_view_module_version": "1.2.0",
            "_view_name": "LayoutView",
            "align_content": null,
            "align_items": null,
            "align_self": null,
            "border": null,
            "bottom": null,
            "display": null,
            "flex": null,
            "flex_flow": null,
            "grid_area": null,
            "grid_auto_columns": null,
            "grid_auto_flow": null,
            "grid_auto_rows": null,
            "grid_column": null,
            "grid_gap": null,
            "grid_row": null,
            "grid_template_areas": null,
            "grid_template_columns": null,
            "grid_template_rows": null,
            "height": null,
            "justify_content": null,
            "justify_items": null,
            "left": null,
            "margin": null,
            "max_height": null,
            "max_width": null,
            "min_height": null,
            "min_width": null,
            "object_fit": null,
            "object_position": null,
            "order": null,
            "overflow": null,
            "overflow_x": null,
            "overflow_y": null,
            "padding": null,
            "right": null,
            "top": null,
            "visibility": "hidden",
            "width": null
          }
        },
        "9683893184274cb2ae50850c89b55dba": {
          "model_module": "@jupyter-widgets/base",
          "model_name": "LayoutModel",
          "model_module_version": "1.2.0",
          "state": {
            "_model_module": "@jupyter-widgets/base",
            "_model_module_version": "1.2.0",
            "_model_name": "LayoutModel",
            "_view_count": null,
            "_view_module": "@jupyter-widgets/base",
            "_view_module_version": "1.2.0",
            "_view_name": "LayoutView",
            "align_content": null,
            "align_items": null,
            "align_self": null,
            "border": null,
            "bottom": null,
            "display": null,
            "flex": null,
            "flex_flow": null,
            "grid_area": null,
            "grid_auto_columns": null,
            "grid_auto_flow": null,
            "grid_auto_rows": null,
            "grid_column": null,
            "grid_gap": null,
            "grid_row": null,
            "grid_template_areas": null,
            "grid_template_columns": null,
            "grid_template_rows": null,
            "height": null,
            "justify_content": null,
            "justify_items": null,
            "left": null,
            "margin": null,
            "max_height": null,
            "max_width": null,
            "min_height": null,
            "min_width": null,
            "object_fit": null,
            "object_position": null,
            "order": null,
            "overflow": null,
            "overflow_x": null,
            "overflow_y": null,
            "padding": null,
            "right": null,
            "top": null,
            "visibility": null,
            "width": null
          }
        },
        "4afaaaf2135a4012866220dc36d0445a": {
          "model_module": "@jupyter-widgets/controls",
          "model_name": "DescriptionStyleModel",
          "model_module_version": "1.5.0",
          "state": {
            "_model_module": "@jupyter-widgets/controls",
            "_model_module_version": "1.5.0",
            "_model_name": "DescriptionStyleModel",
            "_view_count": null,
            "_view_module": "@jupyter-widgets/base",
            "_view_module_version": "1.2.0",
            "_view_name": "StyleView",
            "description_width": ""
          }
        },
        "b9bbca23781e4affa0631a1772399e7e": {
          "model_module": "@jupyter-widgets/base",
          "model_name": "LayoutModel",
          "model_module_version": "1.2.0",
          "state": {
            "_model_module": "@jupyter-widgets/base",
            "_model_module_version": "1.2.0",
            "_model_name": "LayoutModel",
            "_view_count": null,
            "_view_module": "@jupyter-widgets/base",
            "_view_module_version": "1.2.0",
            "_view_name": "LayoutView",
            "align_content": null,
            "align_items": null,
            "align_self": null,
            "border": null,
            "bottom": null,
            "display": null,
            "flex": null,
            "flex_flow": null,
            "grid_area": null,
            "grid_auto_columns": null,
            "grid_auto_flow": null,
            "grid_auto_rows": null,
            "grid_column": null,
            "grid_gap": null,
            "grid_row": null,
            "grid_template_areas": null,
            "grid_template_columns": null,
            "grid_template_rows": null,
            "height": null,
            "justify_content": null,
            "justify_items": null,
            "left": null,
            "margin": null,
            "max_height": null,
            "max_width": null,
            "min_height": null,
            "min_width": null,
            "object_fit": null,
            "object_position": null,
            "order": null,
            "overflow": null,
            "overflow_x": null,
            "overflow_y": null,
            "padding": null,
            "right": null,
            "top": null,
            "visibility": null,
            "width": null
          }
        },
        "a5f39fad88e049d1b9b7542fcd8d0a85": {
          "model_module": "@jupyter-widgets/controls",
          "model_name": "ProgressStyleModel",
          "model_module_version": "1.5.0",
          "state": {
            "_model_module": "@jupyter-widgets/controls",
            "_model_module_version": "1.5.0",
            "_model_name": "ProgressStyleModel",
            "_view_count": null,
            "_view_module": "@jupyter-widgets/base",
            "_view_module_version": "1.2.0",
            "_view_name": "StyleView",
            "bar_color": null,
            "description_width": ""
          }
        },
        "0e1ec26c97e54269972cc909d8d03e5e": {
          "model_module": "@jupyter-widgets/base",
          "model_name": "LayoutModel",
          "model_module_version": "1.2.0",
          "state": {
            "_model_module": "@jupyter-widgets/base",
            "_model_module_version": "1.2.0",
            "_model_name": "LayoutModel",
            "_view_count": null,
            "_view_module": "@jupyter-widgets/base",
            "_view_module_version": "1.2.0",
            "_view_name": "LayoutView",
            "align_content": null,
            "align_items": null,
            "align_self": null,
            "border": null,
            "bottom": null,
            "display": null,
            "flex": null,
            "flex_flow": null,
            "grid_area": null,
            "grid_auto_columns": null,
            "grid_auto_flow": null,
            "grid_auto_rows": null,
            "grid_column": null,
            "grid_gap": null,
            "grid_row": null,
            "grid_template_areas": null,
            "grid_template_columns": null,
            "grid_template_rows": null,
            "height": null,
            "justify_content": null,
            "justify_items": null,
            "left": null,
            "margin": null,
            "max_height": null,
            "max_width": null,
            "min_height": null,
            "min_width": null,
            "object_fit": null,
            "object_position": null,
            "order": null,
            "overflow": null,
            "overflow_x": null,
            "overflow_y": null,
            "padding": null,
            "right": null,
            "top": null,
            "visibility": null,
            "width": null
          }
        },
        "b4538a9c0e1a4b359708f781489098e9": {
          "model_module": "@jupyter-widgets/controls",
          "model_name": "DescriptionStyleModel",
          "model_module_version": "1.5.0",
          "state": {
            "_model_module": "@jupyter-widgets/controls",
            "_model_module_version": "1.5.0",
            "_model_name": "DescriptionStyleModel",
            "_view_count": null,
            "_view_module": "@jupyter-widgets/base",
            "_view_module_version": "1.2.0",
            "_view_name": "StyleView",
            "description_width": ""
          }
        },
        "15f207ff8ec64aba8783d99201c6b76d": {
          "model_module": "@jupyter-widgets/controls",
          "model_name": "HBoxModel",
          "model_module_version": "1.5.0",
          "state": {
            "_dom_classes": [],
            "_model_module": "@jupyter-widgets/controls",
            "_model_module_version": "1.5.0",
            "_model_name": "HBoxModel",
            "_view_count": null,
            "_view_module": "@jupyter-widgets/controls",
            "_view_module_version": "1.5.0",
            "_view_name": "HBoxView",
            "box_style": "",
            "children": [
              "IPY_MODEL_94c36d7662c347a5bc430ba531227157",
              "IPY_MODEL_4d4098327165458bbe957e9edabaacf7",
              "IPY_MODEL_a67dbc5552f0413caca430a2db4b39ff"
            ],
            "layout": "IPY_MODEL_c3552540e3334a0aa29cf3f708fbb215"
          }
        },
        "94c36d7662c347a5bc430ba531227157": {
          "model_module": "@jupyter-widgets/controls",
          "model_name": "HTMLModel",
          "model_module_version": "1.5.0",
          "state": {
            "_dom_classes": [],
            "_model_module": "@jupyter-widgets/controls",
            "_model_module_version": "1.5.0",
            "_model_name": "HTMLModel",
            "_view_count": null,
            "_view_module": "@jupyter-widgets/controls",
            "_view_module_version": "1.5.0",
            "_view_name": "HTMLView",
            "description": "",
            "description_tooltip": null,
            "layout": "IPY_MODEL_6e96e18fa12841aebdffb57ff5cd01fe",
            "placeholder": "​",
            "style": "IPY_MODEL_82d5c6445000443c838f938cf140c3cb",
            "value": "Generating unsupervised examples...: "
          }
        },
        "4d4098327165458bbe957e9edabaacf7": {
          "model_module": "@jupyter-widgets/controls",
          "model_name": "FloatProgressModel",
          "model_module_version": "1.5.0",
          "state": {
            "_dom_classes": [],
            "_model_module": "@jupyter-widgets/controls",
            "_model_module_version": "1.5.0",
            "_model_name": "FloatProgressModel",
            "_view_count": null,
            "_view_module": "@jupyter-widgets/controls",
            "_view_module_version": "1.5.0",
            "_view_name": "ProgressView",
            "bar_style": "info",
            "description": "",
            "description_tooltip": null,
            "layout": "IPY_MODEL_1ba3e042edb54e7193e984de484537b5",
            "max": 1,
            "min": 0,
            "orientation": "horizontal",
            "style": "IPY_MODEL_19ec22b5a8f548a1b7565334e52adc1d",
            "value": 1
          }
        },
        "a67dbc5552f0413caca430a2db4b39ff": {
          "model_module": "@jupyter-widgets/controls",
          "model_name": "HTMLModel",
          "model_module_version": "1.5.0",
          "state": {
            "_dom_classes": [],
            "_model_module": "@jupyter-widgets/controls",
            "_model_module_version": "1.5.0",
            "_model_name": "HTMLModel",
            "_view_count": null,
            "_view_module": "@jupyter-widgets/controls",
            "_view_module_version": "1.5.0",
            "_view_name": "HTMLView",
            "description": "",
            "description_tooltip": null,
            "layout": "IPY_MODEL_2d5c369d2ead465f832d22092ebe813c",
            "placeholder": "​",
            "style": "IPY_MODEL_101d1b77d956478bb4c22e9f36dbff66",
            "value": " 44889/? [00:11&lt;00:00, 5654.98 examples/s]"
          }
        },
        "c3552540e3334a0aa29cf3f708fbb215": {
          "model_module": "@jupyter-widgets/base",
          "model_name": "LayoutModel",
          "model_module_version": "1.2.0",
          "state": {
            "_model_module": "@jupyter-widgets/base",
            "_model_module_version": "1.2.0",
            "_model_name": "LayoutModel",
            "_view_count": null,
            "_view_module": "@jupyter-widgets/base",
            "_view_module_version": "1.2.0",
            "_view_name": "LayoutView",
            "align_content": null,
            "align_items": null,
            "align_self": null,
            "border": null,
            "bottom": null,
            "display": null,
            "flex": null,
            "flex_flow": null,
            "grid_area": null,
            "grid_auto_columns": null,
            "grid_auto_flow": null,
            "grid_auto_rows": null,
            "grid_column": null,
            "grid_gap": null,
            "grid_row": null,
            "grid_template_areas": null,
            "grid_template_columns": null,
            "grid_template_rows": null,
            "height": null,
            "justify_content": null,
            "justify_items": null,
            "left": null,
            "margin": null,
            "max_height": null,
            "max_width": null,
            "min_height": null,
            "min_width": null,
            "object_fit": null,
            "object_position": null,
            "order": null,
            "overflow": null,
            "overflow_x": null,
            "overflow_y": null,
            "padding": null,
            "right": null,
            "top": null,
            "visibility": "hidden",
            "width": null
          }
        },
        "6e96e18fa12841aebdffb57ff5cd01fe": {
          "model_module": "@jupyter-widgets/base",
          "model_name": "LayoutModel",
          "model_module_version": "1.2.0",
          "state": {
            "_model_module": "@jupyter-widgets/base",
            "_model_module_version": "1.2.0",
            "_model_name": "LayoutModel",
            "_view_count": null,
            "_view_module": "@jupyter-widgets/base",
            "_view_module_version": "1.2.0",
            "_view_name": "LayoutView",
            "align_content": null,
            "align_items": null,
            "align_self": null,
            "border": null,
            "bottom": null,
            "display": null,
            "flex": null,
            "flex_flow": null,
            "grid_area": null,
            "grid_auto_columns": null,
            "grid_auto_flow": null,
            "grid_auto_rows": null,
            "grid_column": null,
            "grid_gap": null,
            "grid_row": null,
            "grid_template_areas": null,
            "grid_template_columns": null,
            "grid_template_rows": null,
            "height": null,
            "justify_content": null,
            "justify_items": null,
            "left": null,
            "margin": null,
            "max_height": null,
            "max_width": null,
            "min_height": null,
            "min_width": null,
            "object_fit": null,
            "object_position": null,
            "order": null,
            "overflow": null,
            "overflow_x": null,
            "overflow_y": null,
            "padding": null,
            "right": null,
            "top": null,
            "visibility": null,
            "width": null
          }
        },
        "82d5c6445000443c838f938cf140c3cb": {
          "model_module": "@jupyter-widgets/controls",
          "model_name": "DescriptionStyleModel",
          "model_module_version": "1.5.0",
          "state": {
            "_model_module": "@jupyter-widgets/controls",
            "_model_module_version": "1.5.0",
            "_model_name": "DescriptionStyleModel",
            "_view_count": null,
            "_view_module": "@jupyter-widgets/base",
            "_view_module_version": "1.2.0",
            "_view_name": "StyleView",
            "description_width": ""
          }
        },
        "1ba3e042edb54e7193e984de484537b5": {
          "model_module": "@jupyter-widgets/base",
          "model_name": "LayoutModel",
          "model_module_version": "1.2.0",
          "state": {
            "_model_module": "@jupyter-widgets/base",
            "_model_module_version": "1.2.0",
            "_model_name": "LayoutModel",
            "_view_count": null,
            "_view_module": "@jupyter-widgets/base",
            "_view_module_version": "1.2.0",
            "_view_name": "LayoutView",
            "align_content": null,
            "align_items": null,
            "align_self": null,
            "border": null,
            "bottom": null,
            "display": null,
            "flex": null,
            "flex_flow": null,
            "grid_area": null,
            "grid_auto_columns": null,
            "grid_auto_flow": null,
            "grid_auto_rows": null,
            "grid_column": null,
            "grid_gap": null,
            "grid_row": null,
            "grid_template_areas": null,
            "grid_template_columns": null,
            "grid_template_rows": null,
            "height": null,
            "justify_content": null,
            "justify_items": null,
            "left": null,
            "margin": null,
            "max_height": null,
            "max_width": null,
            "min_height": null,
            "min_width": null,
            "object_fit": null,
            "object_position": null,
            "order": null,
            "overflow": null,
            "overflow_x": null,
            "overflow_y": null,
            "padding": null,
            "right": null,
            "top": null,
            "visibility": null,
            "width": "20px"
          }
        },
        "19ec22b5a8f548a1b7565334e52adc1d": {
          "model_module": "@jupyter-widgets/controls",
          "model_name": "ProgressStyleModel",
          "model_module_version": "1.5.0",
          "state": {
            "_model_module": "@jupyter-widgets/controls",
            "_model_module_version": "1.5.0",
            "_model_name": "ProgressStyleModel",
            "_view_count": null,
            "_view_module": "@jupyter-widgets/base",
            "_view_module_version": "1.2.0",
            "_view_name": "StyleView",
            "bar_color": null,
            "description_width": ""
          }
        },
        "2d5c369d2ead465f832d22092ebe813c": {
          "model_module": "@jupyter-widgets/base",
          "model_name": "LayoutModel",
          "model_module_version": "1.2.0",
          "state": {
            "_model_module": "@jupyter-widgets/base",
            "_model_module_version": "1.2.0",
            "_model_name": "LayoutModel",
            "_view_count": null,
            "_view_module": "@jupyter-widgets/base",
            "_view_module_version": "1.2.0",
            "_view_name": "LayoutView",
            "align_content": null,
            "align_items": null,
            "align_self": null,
            "border": null,
            "bottom": null,
            "display": null,
            "flex": null,
            "flex_flow": null,
            "grid_area": null,
            "grid_auto_columns": null,
            "grid_auto_flow": null,
            "grid_auto_rows": null,
            "grid_column": null,
            "grid_gap": null,
            "grid_row": null,
            "grid_template_areas": null,
            "grid_template_columns": null,
            "grid_template_rows": null,
            "height": null,
            "justify_content": null,
            "justify_items": null,
            "left": null,
            "margin": null,
            "max_height": null,
            "max_width": null,
            "min_height": null,
            "min_width": null,
            "object_fit": null,
            "object_position": null,
            "order": null,
            "overflow": null,
            "overflow_x": null,
            "overflow_y": null,
            "padding": null,
            "right": null,
            "top": null,
            "visibility": null,
            "width": null
          }
        },
        "101d1b77d956478bb4c22e9f36dbff66": {
          "model_module": "@jupyter-widgets/controls",
          "model_name": "DescriptionStyleModel",
          "model_module_version": "1.5.0",
          "state": {
            "_model_module": "@jupyter-widgets/controls",
            "_model_module_version": "1.5.0",
            "_model_name": "DescriptionStyleModel",
            "_view_count": null,
            "_view_module": "@jupyter-widgets/base",
            "_view_module_version": "1.2.0",
            "_view_name": "StyleView",
            "description_width": ""
          }
        },
        "4561a720f1ee465d8c708037a2a9c406": {
          "model_module": "@jupyter-widgets/controls",
          "model_name": "HBoxModel",
          "model_module_version": "1.5.0",
          "state": {
            "_dom_classes": [],
            "_model_module": "@jupyter-widgets/controls",
            "_model_module_version": "1.5.0",
            "_model_name": "HBoxModel",
            "_view_count": null,
            "_view_module": "@jupyter-widgets/controls",
            "_view_module_version": "1.5.0",
            "_view_name": "HBoxView",
            "box_style": "",
            "children": [
              "IPY_MODEL_19904ea630e741688f612fa7a93e732e",
              "IPY_MODEL_0bb4002f00ee4c158e3164c24ecda842",
              "IPY_MODEL_4b18f48e76a04b4ea411d12526be377e"
            ],
            "layout": "IPY_MODEL_83031230f517443da4b782a7ab1a5daa"
          }
        },
        "19904ea630e741688f612fa7a93e732e": {
          "model_module": "@jupyter-widgets/controls",
          "model_name": "HTMLModel",
          "model_module_version": "1.5.0",
          "state": {
            "_dom_classes": [],
            "_model_module": "@jupyter-widgets/controls",
            "_model_module_version": "1.5.0",
            "_model_name": "HTMLModel",
            "_view_count": null,
            "_view_module": "@jupyter-widgets/controls",
            "_view_module_version": "1.5.0",
            "_view_name": "HTMLView",
            "description": "",
            "description_tooltip": null,
            "layout": "IPY_MODEL_b5f1d49fa7d6491cba415a267f08b624",
            "placeholder": "​",
            "style": "IPY_MODEL_7c89ca3d023649b9b8ffdf083dfee6bf",
            "value": "Shuffling /root/tensorflow_datasets/imdb_reviews/plain_text/incomplete.WN3LQU_1.0.0/imdb_reviews-unsupervised.tfrecord*...:   0%"
          }
        },
        "0bb4002f00ee4c158e3164c24ecda842": {
          "model_module": "@jupyter-widgets/controls",
          "model_name": "FloatProgressModel",
          "model_module_version": "1.5.0",
          "state": {
            "_dom_classes": [],
            "_model_module": "@jupyter-widgets/controls",
            "_model_module_version": "1.5.0",
            "_model_name": "FloatProgressModel",
            "_view_count": null,
            "_view_module": "@jupyter-widgets/controls",
            "_view_module_version": "1.5.0",
            "_view_name": "ProgressView",
            "bar_style": "",
            "description": "",
            "description_tooltip": null,
            "layout": "IPY_MODEL_0a65585937e449bb88a1cc317d5cf300",
            "max": 50000,
            "min": 0,
            "orientation": "horizontal",
            "style": "IPY_MODEL_aebc0123135b476d8feae33e901f9985",
            "value": 50000
          }
        },
        "4b18f48e76a04b4ea411d12526be377e": {
          "model_module": "@jupyter-widgets/controls",
          "model_name": "HTMLModel",
          "model_module_version": "1.5.0",
          "state": {
            "_dom_classes": [],
            "_model_module": "@jupyter-widgets/controls",
            "_model_module_version": "1.5.0",
            "_model_name": "HTMLModel",
            "_view_count": null,
            "_view_module": "@jupyter-widgets/controls",
            "_view_module_version": "1.5.0",
            "_view_name": "HTMLView",
            "description": "",
            "description_tooltip": null,
            "layout": "IPY_MODEL_ec04fd8315684197bf8981c83a4abf47",
            "placeholder": "​",
            "style": "IPY_MODEL_c71be84e588c490c9040695ba08e2675",
            "value": " 0/50000 [00:00&lt;?, ? examples/s]"
          }
        },
        "83031230f517443da4b782a7ab1a5daa": {
          "model_module": "@jupyter-widgets/base",
          "model_name": "LayoutModel",
          "model_module_version": "1.2.0",
          "state": {
            "_model_module": "@jupyter-widgets/base",
            "_model_module_version": "1.2.0",
            "_model_name": "LayoutModel",
            "_view_count": null,
            "_view_module": "@jupyter-widgets/base",
            "_view_module_version": "1.2.0",
            "_view_name": "LayoutView",
            "align_content": null,
            "align_items": null,
            "align_self": null,
            "border": null,
            "bottom": null,
            "display": null,
            "flex": null,
            "flex_flow": null,
            "grid_area": null,
            "grid_auto_columns": null,
            "grid_auto_flow": null,
            "grid_auto_rows": null,
            "grid_column": null,
            "grid_gap": null,
            "grid_row": null,
            "grid_template_areas": null,
            "grid_template_columns": null,
            "grid_template_rows": null,
            "height": null,
            "justify_content": null,
            "justify_items": null,
            "left": null,
            "margin": null,
            "max_height": null,
            "max_width": null,
            "min_height": null,
            "min_width": null,
            "object_fit": null,
            "object_position": null,
            "order": null,
            "overflow": null,
            "overflow_x": null,
            "overflow_y": null,
            "padding": null,
            "right": null,
            "top": null,
            "visibility": "hidden",
            "width": null
          }
        },
        "b5f1d49fa7d6491cba415a267f08b624": {
          "model_module": "@jupyter-widgets/base",
          "model_name": "LayoutModel",
          "model_module_version": "1.2.0",
          "state": {
            "_model_module": "@jupyter-widgets/base",
            "_model_module_version": "1.2.0",
            "_model_name": "LayoutModel",
            "_view_count": null,
            "_view_module": "@jupyter-widgets/base",
            "_view_module_version": "1.2.0",
            "_view_name": "LayoutView",
            "align_content": null,
            "align_items": null,
            "align_self": null,
            "border": null,
            "bottom": null,
            "display": null,
            "flex": null,
            "flex_flow": null,
            "grid_area": null,
            "grid_auto_columns": null,
            "grid_auto_flow": null,
            "grid_auto_rows": null,
            "grid_column": null,
            "grid_gap": null,
            "grid_row": null,
            "grid_template_areas": null,
            "grid_template_columns": null,
            "grid_template_rows": null,
            "height": null,
            "justify_content": null,
            "justify_items": null,
            "left": null,
            "margin": null,
            "max_height": null,
            "max_width": null,
            "min_height": null,
            "min_width": null,
            "object_fit": null,
            "object_position": null,
            "order": null,
            "overflow": null,
            "overflow_x": null,
            "overflow_y": null,
            "padding": null,
            "right": null,
            "top": null,
            "visibility": null,
            "width": null
          }
        },
        "7c89ca3d023649b9b8ffdf083dfee6bf": {
          "model_module": "@jupyter-widgets/controls",
          "model_name": "DescriptionStyleModel",
          "model_module_version": "1.5.0",
          "state": {
            "_model_module": "@jupyter-widgets/controls",
            "_model_module_version": "1.5.0",
            "_model_name": "DescriptionStyleModel",
            "_view_count": null,
            "_view_module": "@jupyter-widgets/base",
            "_view_module_version": "1.2.0",
            "_view_name": "StyleView",
            "description_width": ""
          }
        },
        "0a65585937e449bb88a1cc317d5cf300": {
          "model_module": "@jupyter-widgets/base",
          "model_name": "LayoutModel",
          "model_module_version": "1.2.0",
          "state": {
            "_model_module": "@jupyter-widgets/base",
            "_model_module_version": "1.2.0",
            "_model_name": "LayoutModel",
            "_view_count": null,
            "_view_module": "@jupyter-widgets/base",
            "_view_module_version": "1.2.0",
            "_view_name": "LayoutView",
            "align_content": null,
            "align_items": null,
            "align_self": null,
            "border": null,
            "bottom": null,
            "display": null,
            "flex": null,
            "flex_flow": null,
            "grid_area": null,
            "grid_auto_columns": null,
            "grid_auto_flow": null,
            "grid_auto_rows": null,
            "grid_column": null,
            "grid_gap": null,
            "grid_row": null,
            "grid_template_areas": null,
            "grid_template_columns": null,
            "grid_template_rows": null,
            "height": null,
            "justify_content": null,
            "justify_items": null,
            "left": null,
            "margin": null,
            "max_height": null,
            "max_width": null,
            "min_height": null,
            "min_width": null,
            "object_fit": null,
            "object_position": null,
            "order": null,
            "overflow": null,
            "overflow_x": null,
            "overflow_y": null,
            "padding": null,
            "right": null,
            "top": null,
            "visibility": null,
            "width": null
          }
        },
        "aebc0123135b476d8feae33e901f9985": {
          "model_module": "@jupyter-widgets/controls",
          "model_name": "ProgressStyleModel",
          "model_module_version": "1.5.0",
          "state": {
            "_model_module": "@jupyter-widgets/controls",
            "_model_module_version": "1.5.0",
            "_model_name": "ProgressStyleModel",
            "_view_count": null,
            "_view_module": "@jupyter-widgets/base",
            "_view_module_version": "1.2.0",
            "_view_name": "StyleView",
            "bar_color": null,
            "description_width": ""
          }
        },
        "ec04fd8315684197bf8981c83a4abf47": {
          "model_module": "@jupyter-widgets/base",
          "model_name": "LayoutModel",
          "model_module_version": "1.2.0",
          "state": {
            "_model_module": "@jupyter-widgets/base",
            "_model_module_version": "1.2.0",
            "_model_name": "LayoutModel",
            "_view_count": null,
            "_view_module": "@jupyter-widgets/base",
            "_view_module_version": "1.2.0",
            "_view_name": "LayoutView",
            "align_content": null,
            "align_items": null,
            "align_self": null,
            "border": null,
            "bottom": null,
            "display": null,
            "flex": null,
            "flex_flow": null,
            "grid_area": null,
            "grid_auto_columns": null,
            "grid_auto_flow": null,
            "grid_auto_rows": null,
            "grid_column": null,
            "grid_gap": null,
            "grid_row": null,
            "grid_template_areas": null,
            "grid_template_columns": null,
            "grid_template_rows": null,
            "height": null,
            "justify_content": null,
            "justify_items": null,
            "left": null,
            "margin": null,
            "max_height": null,
            "max_width": null,
            "min_height": null,
            "min_width": null,
            "object_fit": null,
            "object_position": null,
            "order": null,
            "overflow": null,
            "overflow_x": null,
            "overflow_y": null,
            "padding": null,
            "right": null,
            "top": null,
            "visibility": null,
            "width": null
          }
        },
        "c71be84e588c490c9040695ba08e2675": {
          "model_module": "@jupyter-widgets/controls",
          "model_name": "DescriptionStyleModel",
          "model_module_version": "1.5.0",
          "state": {
            "_model_module": "@jupyter-widgets/controls",
            "_model_module_version": "1.5.0",
            "_model_name": "DescriptionStyleModel",
            "_view_count": null,
            "_view_module": "@jupyter-widgets/base",
            "_view_module_version": "1.2.0",
            "_view_name": "StyleView",
            "description_width": ""
          }
        }
      }
    }
  },
  "nbformat": 4,
  "nbformat_minor": 0
}