{
  "nbformat": 4,
  "nbformat_minor": 0,
  "metadata": {
    "colab": {
      "provenance": []
    },
    "kernelspec": {
      "name": "python3",
      "display_name": "Python 3"
    },
    "language_info": {
      "name": "python"
    }
  },
  "cells": [
    {
      "cell_type": "markdown",
      "source": [
        "# EMNIST\n",
        "\n",
        "EMNIST es una extensión a MNIST donde involucra varios *datasets*, incluyendo la clasificación de caracteres alfabéticos. Es un problema intrínsecamente difícil, los mejores modelos no llegan a 96% según https://paperswithcode.com/sota/image-classification-on-emnist-letters. Además, es un problema práctico, puesto que es importante poder leer manuscritos a mano. Vamos a crear un modelo que pueda resolver, aunque no llegue al 96%.\n"
      ],
      "metadata": {
        "id": "rTVcAesg5mxI"
      }
    },
    {
      "cell_type": "code",
      "execution_count": null,
      "metadata": {
        "id": "t7p66-Fr5KMD"
      },
      "outputs": [],
      "source": [
        "from keras.utils import to_categorical\n",
        "from scipy import io as spio\n",
        "import numpy as np\n",
        "import matplotlib.pyplot as plt"
      ]
    },
    {
      "cell_type": "markdown",
      "source": [
        "Cargamos el conjunto de datos, de la siguiente forma."
      ],
      "metadata": {
        "id": "tLY5aTyM_LpZ"
      }
    },
    {
      "cell_type": "code",
      "source": [
        "emnist = spio.loadmat('emnist-letters.mat')\n",
        "\n",
        "X_train = emnist['dataset'][0][0][0][0][0][0]\n",
        "X_train = X_train.astype(np.float32)\n",
        "y_train = emnist[\"dataset\"][0][0][0][0][0][1]\n",
        "\n",
        "X_test = emnist[\"dataset\"][0][0][1][0][0][0]\n",
        "X_test = X_test.astype(np.float32)\n",
        "\n",
        "y_test = emnist[\"dataset\"][0][0][1][0][0][1]\n",
        "\n",
        "X_train = X_train.reshape(124800,28,28,1)\n",
        "X_test = X_test.reshape(20800,28,28,1)\n",
        "\n",
        "\n",
        "X_train = X_train / 255.\n",
        "X_test  = X_test / 255.\n",
        "\n",
        "y_train = to_categorical(y_train)\n",
        "y_test = to_categorical(y_test)"
      ],
      "metadata": {
        "id": "XvQQJ6T89tIj"
      },
      "execution_count": null,
      "outputs": []
    },
    {
      "cell_type": "markdown",
      "source": [
        "Ahora visualizamos los datos."
      ],
      "metadata": {
        "id": "IRVchCaA_17H"
      }
    },
    {
      "cell_type": "code",
      "source": [
        "plt.figure(figsize=(4,4))\n",
        "plt.imshow(X_train[0,:,:,0],cmap='gray')\n",
        "plt.show()"
      ],
      "metadata": {
        "colab": {
          "base_uri": "https://localhost:8080/",
          "height": 368
        },
        "id": "cuXgKfPO_1g4",
        "outputId": "1f23de78-4008-44dc-aafd-c39ccaa049e3"
      },
      "execution_count": null,
      "outputs": [
        {
          "output_type": "display_data",
          "data": {
            "text/plain": [
              "<Figure size 400x400 with 1 Axes>"
            ],
            "image/png": "[encoded data removed]"
          },
          "metadata": {}
        }
      ]
    },
    {
      "cell_type": "code",
      "source": [
        "print(y_train[0])"
      ],
      "metadata": {
        "id": "dXP1ikvrAfVq"
      },
      "execution_count": null,
      "outputs": []
    },
    {
      "cell_type": "markdown",
      "source": [
        "**Ejercicio**: Crea un red neuronal convolucional que clasifique las imágenes y mide la exactitud de la misma."
      ],
      "metadata": {
        "id": "jmhKQFY8AlA-"
      }
    },
    {
      "cell_type": "code",
      "source": [],
      "metadata": {
        "id": "6UQZI8SW9y6K"
      },
      "execution_count": null,
      "outputs": []
    }
  ]
}