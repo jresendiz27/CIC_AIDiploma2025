{
  "nbformat": 4,
  "nbformat_minor": 0,
  "metadata": {
    "colab": {
      "provenance": []
    },
    "kernelspec": {
      "name": "python3",
      "display_name": "Python 3"
    },
    "language_info": {
      "name": "python"
    }
  },
  "cells": [
    {
      "cell_type": "code",
      "source": [
        "!pip install -q lightgbm"
      ],
      "metadata": {
        "id": "vYM9fvosbasV"
      },
      "execution_count": 2,
      "outputs": []
    },
    {
      "cell_type": "code",
      "execution_count": 3,
      "metadata": {
        "id": "MFSl8AgPafC1"
      },
      "outputs": [],
      "source": [
        "import pandas as pd\n",
        "import numpy as np\n",
        "import matplotlib.pyplot as plt\n",
        "import seaborn as sns\n",
        "\n",
        "from sklearn.model_selection import train_test_split\n",
        "from sklearn.metrics import mean_squared_error, r2_score\n",
        "\n",
        "from sklearn.linear_model import LinearRegression\n",
        "from sklearn.tree import DecisionTreeRegressor\n",
        "import lightgbm as lgb"
      ]
    },
    {
      "cell_type": "code",
      "source": [
        "# Cargar dataset\n",
        "# Utilizamos un dataset incluido en seaborn como ejemplo: 'mpg' (consumo de gasolina)\n",
        "df = sns.load_dataset('mpg').dropna()\n",
        "df = df.select_dtypes(include=[np.number])  # solo variables numéricas"
      ],
      "metadata": {
        "id": "NtIKKSddbfYA"
      },
      "execution_count": 4,
      "outputs": []
    },
    {
      "cell_type": "code",
      "source": [
        "df.head()"
      ],
      "metadata": {
        "id": "POqxLwIXcsSq"
      },
      "execution_count": null,
      "outputs": []
    },
    {
      "cell_type": "code",
      "source": [
        "# Definir variables\n",
        "X = df.drop('mpg', axis=1)\n",
        "y = df['mpg']\n",
        "\n",
        "X_train, X_test, y_train, y_test = train_test_split(X, y, test_size=0.2, random_state=42)"
      ],
      "metadata": {
        "id": "5Dwghn1nbjQk"
      },
      "execution_count": 5,
      "outputs": []
    },
    {
      "cell_type": "code",
      "source": [
        "# Entrenar modelos\n",
        "\n",
        "## Regresión lineal\n",
        "lr = LinearRegression()\n",
        "lr.fit(X_train, y_train)\n",
        "y_pred_lr = lr.predict(X_test)\n",
        "\n",
        "## Árbol de decisión para regresión\n",
        "tree = DecisionTreeRegressor(random_state=42, max_depth=5)\n",
        "tree.fit(X_train, y_train)\n",
        "y_pred_tree = tree.predict(X_test)\n",
        "\n",
        "## LightGBM\n",
        "lgb_train = lgb.Dataset(X_train, y_train)\n",
        "lgb_eval = lgb.Dataset(X_test, y_test, reference=lgb_train)\n",
        "\n",
        "params = {\n",
        "    'objective': 'regression',\n",
        "    'metric': 'rmse',\n",
        "    'verbosity': -1,\n",
        "    'boosting_type': 'gbdt'\n",
        "}\n",
        "\n",
        "gbm = lgb.train(params, lgb_train, num_boost_round=100, valid_sets=[lgb_eval])\n",
        "y_pred_lgb = gbm.predict(X_test)"
      ],
      "metadata": {
        "id": "tcnwiEbNbncq"
      },
      "execution_count": 8,
      "outputs": []
    },
    {
      "cell_type": "code",
      "source": [
        "# Evaluar resultados\n",
        "\n",
        "def eval_model(y_test, y_pred, name):\n",
        "    print(f'🔹 {name}')\n",
        "    print(f'  RMSE: {mean_squared_error(y_test, y_pred):.2f}')\n",
        "    print(f'  R²:   {r2_score(y_test, y_pred):.2f}\\n')\n",
        "\n",
        "eval_model(y_test, y_pred_lr, 'Regresión Lineal')\n",
        "eval_model(y_test, y_pred_tree, 'Árbol de Decisión')\n",
        "eval_model(y_test, y_pred_lgb, 'LightGBM')"
      ],
      "metadata": {
        "id": "i35JeN-rbuBo"
      },
      "execution_count": null,
      "outputs": []
    },
    {
      "cell_type": "code",
      "source": [
        "# Visualización\n",
        "plt.figure(figsize=(10, 5))\n",
        "plt.plot(y_test.values, label='Real', marker='o')\n",
        "plt.plot(y_pred_lr, label='Linear', marker='.')\n",
        "plt.plot(y_pred_tree, label='Tree', marker='x')\n",
        "plt.plot(y_pred_lgb, label='LightGBM', marker='s')\n",
        "plt.legend()\n",
        "plt.title(\"Predicciones de modelos de regresión\")\n",
        "plt.grid()\n",
        "plt.show()"
      ],
      "metadata": {
        "id": "bT6LgVZdbvuq"
      },
      "execution_count": null,
      "outputs": []
    }
  ]
}