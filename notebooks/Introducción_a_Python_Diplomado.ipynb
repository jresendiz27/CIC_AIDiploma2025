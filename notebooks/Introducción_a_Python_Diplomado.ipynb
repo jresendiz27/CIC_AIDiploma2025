{
 "nbformat": 4,
 "nbformat_minor": 0,
 "metadata": {
  "colab": {
   "provenance": [],
   "toc_visible": true
  },
  "kernelspec": {
   "name": "python3",
   "display_name": "Python 3 (ipykernel)",
   "language": "python"
  },
  "language_info": {
   "name": "python"
  }
 },
 "cells": [
  {
   "cell_type": "markdown",
   "source": [
    "# Introducción a la programación en Python"
   ],
   "metadata": {
    "id": "9Wp7Nt0DvT_m"
   }
  },
  {
   "cell_type": "code",
   "source": [
    "print(\"Hola mundo\")"
   ],
   "metadata": {
    "colab": {
     "base_uri": "https://localhost:8080/"
    },
    "id": "oWxe6SYb6rWS",
    "outputId": "24757b61-2ca8-45d6-8af8-3a02d36171de"
   },
   "execution_count": null,
   "outputs": [
    {
     "output_type": "stream",
     "name": "stdout",
     "text": [
      "Hola mundo\n"
     ]
    }
   ]
  },
  {
   "cell_type": "code",
   "source": "print(\"Hola mundo\")",
   "metadata": {
    "colab": {
     "base_uri": "https://localhost:8080/",
     "height": 106
    },
    "id": "9SeetJtj6zGK",
    "outputId": "8852b418-46d7-460a-b6be-0677ef8ad2b0"
   },
   "execution_count": null,
   "outputs": [
    {
     "output_type": "error",
     "ename": "SyntaxError",
     "evalue": "Missing parentheses in call to 'print'. Did you mean print(...)? (<ipython-input-2-f449a8d835d7>, line 1)",
     "traceback": [
      "\u001B[0;36m  File \u001B[0;32m\"<ipython-input-2-f449a8d835d7>\"\u001B[0;36m, line \u001B[0;32m1\u001B[0m\n\u001B[0;31m    print \"Hola mundo\"\u001B[0m\n\u001B[0m    ^\u001B[0m\n\u001B[0;31mSyntaxError\u001B[0m\u001B[0;31m:\u001B[0m Missing parentheses in call to 'print'. Did you mean print(...)?\n"
     ]
    }
   ]
  },
  {
   "cell_type": "code",
   "source": [
    "print('Texto de prueba')"
   ],
   "metadata": {
    "colab": {
     "base_uri": "https://localhost:8080/"
    },
    "id": "1IRqu7hu78u3",
    "outputId": "f54d4fb9-670a-4d6f-e1b4-4140e9fd2b31"
   },
   "execution_count": null,
   "outputs": [
    {
     "output_type": "stream",
     "name": "stdout",
     "text": [
      "Texto de prueba\n"
     ]
    }
   ]
  },
  {
   "cell_type": "code",
   "source": "print('texto malo')",
   "metadata": {
    "colab": {
     "base_uri": "https://localhost:8080/",
     "height": 106
    },
    "id": "6AR_H2co8GWM",
    "outputId": "4ddb3561-1517-45c8-f02e-27e7fe2d8caf"
   },
   "execution_count": null,
   "outputs": [
    {
     "output_type": "error",
     "ename": "SyntaxError",
     "evalue": "unterminated string literal (detected at line 1) (<ipython-input-4-85adc9a9a77f>, line 1)",
     "traceback": [
      "\u001B[0;36m  File \u001B[0;32m\"<ipython-input-4-85adc9a9a77f>\"\u001B[0;36m, line \u001B[0;32m1\u001B[0m\n\u001B[0;31m    print('texto malo)\u001B[0m\n\u001B[0m          ^\u001B[0m\n\u001B[0;31mSyntaxError\u001B[0m\u001B[0;31m:\u001B[0m unterminated string literal (detected at line 1)\n"
     ]
    }
   ]
  },
  {
   "cell_type": "code",
   "source": [
    "\"hola mundo\""
   ],
   "metadata": {
    "colab": {
     "base_uri": "https://localhost:8080/",
     "height": 35
    },
    "id": "Ae2C1Vrb8R1P",
    "outputId": "f746dcc5-d7a0-4980-e7f7-729ef227612c"
   },
   "execution_count": null,
   "outputs": [
    {
     "output_type": "execute_result",
     "data": {
      "text/plain": [
       "'hola mundo'"
      ],
      "application/vnd.google.colaboratory.intrinsic+json": {
       "type": "string"
      }
     },
     "metadata": {},
     "execution_count": 5
    }
   ]
  },
  {
   "cell_type": "markdown",
   "source": [
    "Texto dummy"
   ],
   "metadata": {
    "id": "md4envTQv0bJ"
   }
  },
  {
   "cell_type": "code",
   "source": [],
   "metadata": {
    "id": "JgN-YaX2vxrR"
   },
   "execution_count": null,
   "outputs": []
  },
  {
   "cell_type": "markdown",
   "source": [
    "## Aritmética básica"
   ],
   "metadata": {
    "id": "Ss2Q-ttLxGhw"
   }
  },
  {
   "cell_type": "code",
   "execution_count": null,
   "metadata": {
    "colab": {
     "base_uri": "https://localhost:8080/"
    },
    "id": "boUuJMOyvMr7",
    "outputId": "4ae120d0-4364-42b5-ad3d-9966e5bf36b4"
   },
   "outputs": [
    {
     "output_type": "stream",
     "name": "stdout",
     "text": [
      "4\n",
      "10.6\n"
     ]
    }
   ],
   "source": [
    "a = 4    # Declaración de una variable\n",
    "b = 6.6\n",
    "\"\"\"\n",
    "Bloque comentado\n",
    "\n",
    "Nada de lo que está aquí se va a ejecutar\n",
    "\n",
    "\"\"\"\n",
    "print(a)\n",
    "print(  a + b )"
   ]
  },
  {
   "cell_type": "markdown",
   "source": [
    "### Errores comunes\n",
    "\n",
    "No podemos iniciar con número el identificador.\n"
   ],
   "metadata": {
    "id": "92hbbLiBExa-"
   }
  },
  {
   "cell_type": "code",
   "source": [
    "1a = 4"
   ],
   "metadata": {
    "colab": {
     "base_uri": "https://localhost:8080/",
     "height": 106
    },
    "id": "j4jjBw-dEzFK",
    "outputId": "8af7e995-b9bf-405b-ed70-be38f0f40c03"
   },
   "execution_count": null,
   "outputs": [
    {
     "output_type": "error",
     "ename": "SyntaxError",
     "evalue": "invalid decimal literal (<ipython-input-8-d81613091d86>, line 1)",
     "traceback": [
      "\u001B[0;36m  File \u001B[0;32m\"<ipython-input-8-d81613091d86>\"\u001B[0;36m, line \u001B[0;32m1\u001B[0m\n\u001B[0;31m    1a = 4\u001B[0m\n\u001B[0m    ^\u001B[0m\n\u001B[0;31mSyntaxError\u001B[0m\u001B[0;31m:\u001B[0m invalid decimal literal\n"
     ]
    }
   ]
  },
  {
   "cell_type": "markdown",
   "source": [
    "No podemos utilizar un espacio dentro del identificador de la variable."
   ],
   "metadata": {
    "id": "ugTQwZCyFPUD"
   }
  },
  {
   "cell_type": "code",
   "source": [
    "a b = 4"
   ],
   "metadata": {
    "colab": {
     "base_uri": "https://localhost:8080/",
     "height": 106
    },
    "id": "0OqgAXTmE46T",
    "outputId": "af214bd4-c6a6-48d0-bad9-a2b07ab22148"
   },
   "execution_count": null,
   "outputs": [
    {
     "output_type": "error",
     "ename": "SyntaxError",
     "evalue": "invalid syntax (<ipython-input-9-97edbf20c603>, line 1)",
     "traceback": [
      "\u001B[0;36m  File \u001B[0;32m\"<ipython-input-9-97edbf20c603>\"\u001B[0;36m, line \u001B[0;32m1\u001B[0m\n\u001B[0;31m    a b = 4\u001B[0m\n\u001B[0m      ^\u001B[0m\n\u001B[0;31mSyntaxError\u001B[0m\u001B[0;31m:\u001B[0m invalid syntax\n"
     ]
    }
   ]
  },
  {
   "cell_type": "markdown",
   "source": [
    "No podemos dejar algo sin asignar"
   ],
   "metadata": {
    "id": "5j0vdSuZFb_i"
   }
  },
  {
   "cell_type": "code",
   "source": [
    "a ="
   ],
   "metadata": {
    "colab": {
     "base_uri": "https://localhost:8080/",
     "height": 106
    },
    "id": "JkpbtwIFFfDf",
    "outputId": "17af9a08-664a-4c9b-c8b1-025974cfd5e1"
   },
   "execution_count": null,
   "outputs": [
    {
     "output_type": "error",
     "ename": "SyntaxError",
     "evalue": "invalid syntax (<ipython-input-10-2c049fb40fc4>, line 1)",
     "traceback": [
      "\u001B[0;36m  File \u001B[0;32m\"<ipython-input-10-2c049fb40fc4>\"\u001B[0;36m, line \u001B[0;32m1\u001B[0m\n\u001B[0;31m    a =\u001B[0m\n\u001B[0m       ^\u001B[0m\n\u001B[0;31mSyntaxError\u001B[0m\u001B[0;31m:\u001B[0m invalid syntax\n"
     ]
    }
   ]
  },
  {
   "cell_type": "markdown",
   "source": [
    "No podemos olvidarnos del identificador"
   ],
   "metadata": {
    "id": "UC-OBuf5Fjbb"
   }
  },
  {
   "cell_type": "code",
   "source": [
    "= 3"
   ],
   "metadata": {
    "colab": {
     "base_uri": "https://localhost:8080/",
     "height": 106
    },
    "id": "IoBD0GYbFneM",
    "outputId": "beea7972-e796-4bf1-e201-f906d1b114f5"
   },
   "execution_count": null,
   "outputs": [
    {
     "output_type": "error",
     "ename": "SyntaxError",
     "evalue": "invalid syntax (<ipython-input-11-6549259aac0c>, line 1)",
     "traceback": [
      "\u001B[0;36m  File \u001B[0;32m\"<ipython-input-11-6549259aac0c>\"\u001B[0;36m, line \u001B[0;32m1\u001B[0m\n\u001B[0;31m    = 3\u001B[0m\n\u001B[0m    ^\u001B[0m\n\u001B[0;31mSyntaxError\u001B[0m\u001B[0;31m:\u001B[0m invalid syntax\n"
     ]
    }
   ]
  },
  {
   "cell_type": "markdown",
   "source": [
    "No podemos usar una variable no declarada."
   ],
   "metadata": {
    "id": "fPtzQx5IF_JT"
   }
  },
  {
   "cell_type": "code",
   "source": [
    "c = d + 1"
   ],
   "metadata": {
    "colab": {
     "base_uri": "https://localhost:8080/",
     "height": 141
    },
    "id": "GssubjmBGB8a",
    "outputId": "ba666a84-74d1-4d80-de2a-32d76769afe9"
   },
   "execution_count": null,
   "outputs": [
    {
     "output_type": "error",
     "ename": "NameError",
     "evalue": "name 'd' is not defined",
     "traceback": [
      "\u001B[0;31m---------------------------------------------------------------------------\u001B[0m",
      "\u001B[0;31mNameError\u001B[0m                                 Traceback (most recent call last)",
      "\u001B[0;32m<ipython-input-12-a5322c3ebb25>\u001B[0m in \u001B[0;36m<cell line: 0>\u001B[0;34m()\u001B[0m\n\u001B[0;32m----> 1\u001B[0;31m \u001B[0mc\u001B[0m \u001B[0;34m=\u001B[0m \u001B[0md\u001B[0m \u001B[0;34m+\u001B[0m \u001B[0;36m1\u001B[0m\u001B[0;34m\u001B[0m\u001B[0;34m\u001B[0m\u001B[0m\n\u001B[0m",
      "\u001B[0;31mNameError\u001B[0m: name 'd' is not defined"
     ]
    }
   ]
  },
  {
   "cell_type": "markdown",
   "source": [
    "No podemos utilizar caracteres reservados (en su mayoría)"
   ],
   "metadata": {
    "id": "Ja65UyfDGVeK"
   }
  },
  {
   "cell_type": "code",
   "source": [
    "p# = 2"
   ],
   "metadata": {
    "colab": {
     "base_uri": "https://localhost:8080/",
     "height": 141
    },
    "id": "dx6Ylf2nGU8a",
    "outputId": "7f3d3dbb-520a-400a-fad7-2a97f0e3ea2b"
   },
   "execution_count": null,
   "outputs": [
    {
     "output_type": "error",
     "ename": "NameError",
     "evalue": "name 'p' is not defined",
     "traceback": [
      "\u001B[0;31m---------------------------------------------------------------------------\u001B[0m",
      "\u001B[0;31mNameError\u001B[0m                                 Traceback (most recent call last)",
      "\u001B[0;32m<ipython-input-13-7758084f7683>\u001B[0m in \u001B[0;36m<cell line: 0>\u001B[0;34m()\u001B[0m\n\u001B[0;32m----> 1\u001B[0;31m \u001B[0mp\u001B[0m\u001B[0;31m# = 2\u001B[0m\u001B[0;34m\u001B[0m\u001B[0;34m\u001B[0m\u001B[0m\n\u001B[0m",
      "\u001B[0;31mNameError\u001B[0m: name 'p' is not defined"
     ]
    }
   ]
  },
  {
   "cell_type": "code",
   "source": [
    "p' = 2"
   ],
   "metadata": {
    "colab": {
     "base_uri": "https://localhost:8080/",
     "height": 106
    },
    "id": "CDas_La9GwIy",
    "outputId": "778eb43a-0dfa-4d67-c0e5-8d930b5dff15"
   },
   "execution_count": null,
   "outputs": [
    {
     "output_type": "error",
     "ename": "SyntaxError",
     "evalue": "unterminated string literal (detected at line 1) (<ipython-input-14-90c0d2d89f6f>, line 1)",
     "traceback": [
      "\u001B[0;36m  File \u001B[0;32m\"<ipython-input-14-90c0d2d89f6f>\"\u001B[0;36m, line \u001B[0;32m1\u001B[0m\n\u001B[0;31m    p' = 2\u001B[0m\n\u001B[0m     ^\u001B[0m\n\u001B[0;31mSyntaxError\u001B[0m\u001B[0;31m:\u001B[0m unterminated string literal (detected at line 1)\n"
     ]
    }
   ]
  },
  {
   "cell_type": "code",
   "source": [
    "p% = 2"
   ],
   "metadata": {
    "colab": {
     "base_uri": "https://localhost:8080/",
     "height": 106
    },
    "id": "lqddUUS2HUup",
    "outputId": "e48d8547-0fe1-4380-9b48-93cd9a07b406"
   },
   "execution_count": null,
   "outputs": [
    {
     "output_type": "error",
     "ename": "SyntaxError",
     "evalue": "invalid syntax (<ipython-input-15-fda59b1edc78>, line 1)",
     "traceback": [
      "\u001B[0;36m  File \u001B[0;32m\"<ipython-input-15-fda59b1edc78>\"\u001B[0;36m, line \u001B[0;32m1\u001B[0m\n\u001B[0;31m    p% = 2\u001B[0m\n\u001B[0m       ^\u001B[0m\n\u001B[0;31mSyntaxError\u001B[0m\u001B[0;31m:\u001B[0m invalid syntax\n"
     ]
    }
   ]
  },
  {
   "cell_type": "code",
   "source": [
    "p+ = 2"
   ],
   "metadata": {
    "colab": {
     "base_uri": "https://localhost:8080/",
     "height": 106
    },
    "id": "zYowJCT1HdIp",
    "outputId": "c7e54f20-e967-403f-eea5-a1239cf7e07b"
   },
   "execution_count": null,
   "outputs": [
    {
     "output_type": "error",
     "ename": "SyntaxError",
     "evalue": "invalid syntax (<ipython-input-16-271462777dd4>, line 1)",
     "traceback": [
      "\u001B[0;36m  File \u001B[0;32m\"<ipython-input-16-271462777dd4>\"\u001B[0;36m, line \u001B[0;32m1\u001B[0m\n\u001B[0;31m    p+ = 2\u001B[0m\n\u001B[0m       ^\u001B[0m\n\u001B[0;31mSyntaxError\u001B[0m\u001B[0;31m:\u001B[0m invalid syntax\n"
     ]
    }
   ]
  },
  {
   "cell_type": "code",
   "source": [
    "p+=2"
   ],
   "metadata": {
    "colab": {
     "base_uri": "https://localhost:8080/",
     "height": 141
    },
    "id": "Eq6sJoMuHo6A",
    "outputId": "6c4301e0-d1ad-44e3-bf08-de396f818a00"
   },
   "execution_count": null,
   "outputs": [
    {
     "output_type": "error",
     "ename": "NameError",
     "evalue": "name 'p' is not defined",
     "traceback": [
      "\u001B[0;31m---------------------------------------------------------------------------\u001B[0m",
      "\u001B[0;31mNameError\u001B[0m                                 Traceback (most recent call last)",
      "\u001B[0;32m<ipython-input-17-59411d4b2735>\u001B[0m in \u001B[0;36m<cell line: 0>\u001B[0;34m()\u001B[0m\n\u001B[0;32m----> 1\u001B[0;31m \u001B[0mp\u001B[0m\u001B[0;34m+=\u001B[0m\u001B[0;36m2\u001B[0m\u001B[0;34m\u001B[0m\u001B[0;34m\u001B[0m\u001B[0m\n\u001B[0m",
      "\u001B[0;31mNameError\u001B[0m: name 'p' is not defined"
     ]
    }
   ]
  },
  {
   "cell_type": "markdown",
   "source": [
    "No usar palabras reservadas."
   ],
   "metadata": {
    "id": "pYUGUJ5JH8ob"
   }
  },
  {
   "cell_type": "code",
   "source": [
    "print = 2"
   ],
   "metadata": {
    "id": "IR_xh7hiH7cI"
   },
   "execution_count": null,
   "outputs": []
  },
  {
   "cell_type": "code",
   "source": [
    "print"
   ],
   "metadata": {
    "colab": {
     "base_uri": "https://localhost:8080/"
    },
    "id": "zHrjhYlWIE_h",
    "outputId": "80a9d78c-5d72-40f3-d2b3-60397274bd4e"
   },
   "execution_count": null,
   "outputs": [
    {
     "output_type": "execute_result",
     "data": {
      "text/plain": [
       "2"
      ]
     },
     "metadata": {},
     "execution_count": 19
    }
   ]
  },
  {
   "cell_type": "code",
   "source": [
    "print(2)"
   ],
   "metadata": {
    "colab": {
     "base_uri": "https://localhost:8080/",
     "height": 141
    },
    "id": "xmCgpXBhIGX5",
    "outputId": "8c710194-3b9a-4a52-b54e-45b754f554f5"
   },
   "execution_count": null,
   "outputs": [
    {
     "output_type": "error",
     "ename": "TypeError",
     "evalue": "'int' object is not callable",
     "traceback": [
      "\u001B[0;31m---------------------------------------------------------------------------\u001B[0m",
      "\u001B[0;31mTypeError\u001B[0m                                 Traceback (most recent call last)",
      "\u001B[0;32m<ipython-input-20-e97122a20972>\u001B[0m in \u001B[0;36m<cell line: 1>\u001B[0;34m()\u001B[0m\n\u001B[0;32m----> 1\u001B[0;31m \u001B[0mprint\u001B[0m\u001B[0;34m(\u001B[0m\u001B[0;36m2\u001B[0m\u001B[0;34m)\u001B[0m\u001B[0;34m\u001B[0m\u001B[0;34m\u001B[0m\u001B[0m\n\u001B[0m",
      "\u001B[0;31mTypeError\u001B[0m: 'int' object is not callable"
     ]
    }
   ]
  },
  {
   "cell_type": "code",
   "source": [
    "list = [1,2,3]"
   ],
   "metadata": {
    "id": "wN1Y8nFeIV03"
   },
   "execution_count": null,
   "outputs": []
  },
  {
   "cell_type": "markdown",
   "source": [
    "### No errores comunes\n",
    "\n",
    "Sí podemos usar números."
   ],
   "metadata": {
    "id": "Un6UpexxGKpM"
   }
  },
  {
   "cell_type": "code",
   "source": [
    "a1 = 2"
   ],
   "metadata": {
    "id": "f2O9tScOGN06"
   },
   "execution_count": null,
   "outputs": []
  },
  {
   "cell_type": "code",
   "source": [
    "a2a = 2"
   ],
   "metadata": {
    "id": "8zQrVG3FH50Q"
   },
   "execution_count": null,
   "outputs": []
  },
  {
   "cell_type": "markdown",
   "source": [
    "Puedo usar espacios no iniciales ni dentro del identificador."
   ],
   "metadata": {
    "id": "zepDasycGT0z"
   }
  },
  {
   "cell_type": "code",
   "source": [
    "aa               =          2"
   ],
   "metadata": {
    "id": "fu77t-Z9GUYS"
   },
   "execution_count": null,
   "outputs": []
  },
  {
   "cell_type": "code",
   "source": [
    "aa"
   ],
   "metadata": {
    "colab": {
     "base_uri": "https://localhost:8080/"
    },
    "id": "83ywvckSJy0u",
    "outputId": "ab0066b6-9743-438f-e36c-b30654a69f88"
   },
   "execution_count": null,
   "outputs": [
    {
     "output_type": "execute_result",
     "data": {
      "text/plain": [
       "2"
      ]
     },
     "metadata": {},
     "execution_count": 19
    }
   ]
  },
  {
   "cell_type": "code",
   "source": [
    "aa=1"
   ],
   "metadata": {
    "id": "v_50leq-KWAV"
   },
   "execution_count": null,
   "outputs": []
  },
  {
   "cell_type": "code",
   "source": [
    "a"
   ],
   "metadata": {
    "colab": {
     "base_uri": "https://localhost:8080/"
    },
    "id": "ibZLIMd4J6ft",
    "outputId": "399b888c-57c8-4ab7-cd01-ad1b3810f606"
   },
   "execution_count": null,
   "outputs": [
    {
     "output_type": "execute_result",
     "data": {
      "text/plain": [
       "4"
      ]
     },
     "metadata": {},
     "execution_count": 21
    }
   ]
  },
  {
   "cell_type": "code",
   "source": [
    "3"
   ],
   "metadata": {
    "colab": {
     "base_uri": "https://localhost:8080/"
    },
    "id": "DyAuDJ4ZFqRh",
    "outputId": "a5af4611-d36c-4e7b-cd08-0ba5846b22c5"
   },
   "execution_count": null,
   "outputs": [
    {
     "output_type": "execute_result",
     "data": {
      "text/plain": [
       "3"
      ]
     },
     "metadata": {},
     "execution_count": 7
    }
   ]
  },
  {
   "cell_type": "code",
   "source": [
    "4\n",
    "2"
   ],
   "metadata": {
    "colab": {
     "base_uri": "https://localhost:8080/"
    },
    "id": "C-hzdw7RFz6k",
    "outputId": "07a7ce11-e3ec-4384-e94f-27c6a9dcc94b"
   },
   "execution_count": null,
   "outputs": [
    {
     "output_type": "execute_result",
     "data": {
      "text/plain": [
       "2"
      ]
     },
     "metadata": {},
     "execution_count": 22
    }
   ]
  },
  {
   "cell_type": "markdown",
   "source": [
    "Operar variables con variables ya declaradas."
   ],
   "metadata": {
    "id": "6jcTG__ILIAs"
   }
  },
  {
   "cell_type": "code",
   "source": [
    "c = a + b + 1"
   ],
   "metadata": {
    "id": "_gs6Qy5PLLVm"
   },
   "execution_count": null,
   "outputs": []
  },
  {
   "cell_type": "code",
   "source": [
    "c"
   ],
   "metadata": {
    "colab": {
     "base_uri": "https://localhost:8080/"
    },
    "id": "RjkWW-m8LOeO",
    "outputId": "2e1a2748-6fe3-41d4-c9dd-75a39a6e24b9"
   },
   "execution_count": null,
   "outputs": [
    {
     "output_type": "execute_result",
     "data": {
      "text/plain": [
       "11.6"
      ]
     },
     "metadata": {},
     "execution_count": 24
    }
   ]
  },
  {
   "cell_type": "markdown",
   "source": [
    "Cuidado."
   ],
   "metadata": {
    "id": "8HMmPBwpLVVr"
   }
  },
  {
   "cell_type": "code",
   "source": [
    "  d = a"
   ],
   "metadata": {
    "id": "lperTiHJLHfX"
   },
   "execution_count": null,
   "outputs": []
  },
  {
   "cell_type": "code",
   "source": [
    "a = 1"
   ],
   "metadata": {
    "id": "gBGoEUu9AdmL"
   },
   "execution_count": null,
   "outputs": []
  },
  {
   "cell_type": "markdown",
   "source": [
    "Se pueden usar comas con los prints."
   ],
   "metadata": {
    "id": "FE4Z1W3_Lah1"
   }
  },
  {
   "cell_type": "code",
   "source": [
    "print(a,d)"
   ],
   "metadata": {
    "colab": {
     "base_uri": "https://localhost:8080/"
    },
    "id": "2z9lUuT-LW8T",
    "outputId": "988281e0-86ca-4712-ec5b-2cd4f28a3ef9"
   },
   "execution_count": null,
   "outputs": [
    {
     "output_type": "stream",
     "name": "stdout",
     "text": [
      "1 4\n"
     ]
    }
   ]
  },
  {
   "cell_type": "code",
   "source": [
    "a = 0"
   ],
   "metadata": {
    "id": "6AETiTiLLd6j"
   },
   "execution_count": null,
   "outputs": []
  },
  {
   "cell_type": "code",
   "source": [
    "print(a,d)"
   ],
   "metadata": {
    "colab": {
     "base_uri": "https://localhost:8080/"
    },
    "id": "PEEtSeUULhIU",
    "outputId": "45b82541-3a9b-4e66-a65c-c2cfabb8c510"
   },
   "execution_count": null,
   "outputs": [
    {
     "output_type": "stream",
     "name": "stdout",
     "text": [
      "0 4\n"
     ]
    }
   ]
  },
  {
   "cell_type": "markdown",
   "source": [
    "### Buenas prácticas"
   ],
   "metadata": {
    "id": "u6xaMo8PKiGf"
   }
  },
  {
   "cell_type": "code",
   "source": [
    "a_1            = 1\n",
    "numeroUsuario  = 2 # Esta variable representa al id del usuario en cuestión.\n",
    "numero_usuario = 2"
   ],
   "metadata": {
    "id": "bZuIHV5OKkrc"
   },
   "execution_count": null,
   "outputs": []
  },
  {
   "cell_type": "markdown",
   "source": [
    "Tipos de variable."
   ],
   "metadata": {
    "id": "mwWGzQhNNe7I"
   }
  },
  {
   "cell_type": "code",
   "source": [
    "type(a)"
   ],
   "metadata": {
    "colab": {
     "base_uri": "https://localhost:8080/"
    },
    "id": "u-bJ9IlFNdg0",
    "outputId": "39f41c14-096a-4d25-b94f-e17da67f54f9"
   },
   "execution_count": null,
   "outputs": [
    {
     "output_type": "execute_result",
     "data": {
      "text/plain": [
       "int"
      ]
     },
     "metadata": {},
     "execution_count": 33
    }
   ]
  },
  {
   "cell_type": "code",
   "source": [
    "type(b)"
   ],
   "metadata": {
    "colab": {
     "base_uri": "https://localhost:8080/"
    },
    "id": "n0T4Solz8WOw",
    "outputId": "0a12ea5d-4c63-489e-d57a-698563e0491e"
   },
   "execution_count": null,
   "outputs": [
    {
     "output_type": "execute_result",
     "data": {
      "text/plain": [
       "float"
      ]
     },
     "metadata": {},
     "execution_count": 34
    }
   ]
  },
  {
   "cell_type": "code",
   "source": [
    "float(a)"
   ],
   "metadata": {
    "colab": {
     "base_uri": "https://localhost:8080/"
    },
    "id": "nmX8szwY8i_O",
    "outputId": "bbcbad6e-aec7-4f09-c329-873cf823c0ab"
   },
   "execution_count": null,
   "outputs": [
    {
     "output_type": "execute_result",
     "data": {
      "text/plain": [
       "0.0"
      ]
     },
     "metadata": {},
     "execution_count": 35
    }
   ]
  },
  {
   "cell_type": "code",
   "source": [
    "int(3.141592)"
   ],
   "metadata": {
    "colab": {
     "base_uri": "https://localhost:8080/"
    },
    "id": "w2LSNLkmOFG4",
    "outputId": "8856083e-2752-43d5-8f06-74db03e133e7"
   },
   "execution_count": null,
   "outputs": [
    {
     "output_type": "execute_result",
     "data": {
      "text/plain": [
       "3"
      ]
     },
     "metadata": {},
     "execution_count": 36
    }
   ]
  },
  {
   "cell_type": "code",
   "source": [
    "int(3.941592)"
   ],
   "metadata": {
    "colab": {
     "base_uri": "https://localhost:8080/"
    },
    "id": "Gf31hRTHBJZH",
    "outputId": "55271fe9-4a88-479d-ffff-2faaf98a3473"
   },
   "execution_count": null,
   "outputs": [
    {
     "output_type": "execute_result",
     "data": {
      "text/plain": [
       "3"
      ]
     },
     "metadata": {},
     "execution_count": 37
    }
   ]
  },
  {
   "cell_type": "code",
   "source": [
    "round(3.9)"
   ],
   "metadata": {
    "colab": {
     "base_uri": "https://localhost:8080/"
    },
    "id": "diLtfB5jBNp4",
    "outputId": "a436222d-ecf6-40cf-e53c-1c8e9c1b1dee"
   },
   "execution_count": null,
   "outputs": [
    {
     "output_type": "execute_result",
     "data": {
      "text/plain": [
       "4"
      ]
     },
     "metadata": {},
     "execution_count": 38
    }
   ]
  },
  {
   "cell_type": "code",
   "source": [
    "round(3.979999,2)"
   ],
   "metadata": {
    "colab": {
     "base_uri": "https://localhost:8080/"
    },
    "id": "yzYKPmJmBR7k",
    "outputId": "e767a867-ad3f-423f-e988-a1abc17f0ec1"
   },
   "execution_count": null,
   "outputs": [
    {
     "output_type": "execute_result",
     "data": {
      "text/plain": [
       "3.98"
      ]
     },
     "metadata": {},
     "execution_count": 40
    }
   ]
  },
  {
   "cell_type": "code",
   "source": [
    "a = float(a)"
   ],
   "metadata": {
    "id": "IbQpb6QRNlHJ"
   },
   "execution_count": null,
   "outputs": []
  },
  {
   "cell_type": "code",
   "source": [
    "a"
   ],
   "metadata": {
    "colab": {
     "base_uri": "https://localhost:8080/"
    },
    "id": "bU2aKCAdNwV6",
    "outputId": "4af755fd-f4d7-4bba-c88a-4d8253fbd6d7"
   },
   "execution_count": null,
   "outputs": [
    {
     "output_type": "execute_result",
     "data": {
      "text/plain": [
       "0.0"
      ]
     },
     "metadata": {},
     "execution_count": 42
    }
   ]
  },
  {
   "cell_type": "markdown",
   "source": [
    "Operaciones básicas."
   ],
   "metadata": {
    "id": "mbkGKTJ-Nzob"
   }
  },
  {
   "cell_type": "code",
   "source": [
    "5//3"
   ],
   "metadata": {
    "colab": {
     "base_uri": "https://localhost:8080/"
    },
    "id": "rpkYYw8w8q9Q",
    "outputId": "d8b408b6-18bb-49a9-b77d-d4b291929c53"
   },
   "execution_count": null,
   "outputs": [
    {
     "output_type": "execute_result",
     "data": {
      "text/plain": [
       "1"
      ]
     },
     "metadata": {},
     "execution_count": 48
    }
   ]
  },
  {
   "cell_type": "code",
   "source": [
    "5 % 3"
   ],
   "metadata": {
    "colab": {
     "base_uri": "https://localhost:8080/"
    },
    "id": "5EmzAlW7BvPb",
    "outputId": "b80de7ce-66c6-4096-a016-b28bba72bf93"
   },
   "execution_count": null,
   "outputs": [
    {
     "output_type": "execute_result",
     "data": {
      "text/plain": [
       "2"
      ]
     },
     "metadata": {},
     "execution_count": 50
    }
   ]
  },
  {
   "cell_type": "code",
   "source": [
    "5 / 3"
   ],
   "metadata": {
    "colab": {
     "base_uri": "https://localhost:8080/"
    },
    "id": "sf_m2IsZOAyS",
    "outputId": "e3f6d755-9a25-4e29-9700-26f8f6966a32"
   },
   "execution_count": null,
   "outputs": [
    {
     "output_type": "execute_result",
     "data": {
      "text/plain": [
       "1.6666666666666667"
      ]
     },
     "metadata": {},
     "execution_count": 49
    }
   ]
  },
  {
   "cell_type": "code",
   "source": [
    "4*2."
   ],
   "metadata": {
    "colab": {
     "base_uri": "https://localhost:8080/"
    },
    "id": "hO5pJMcKv3GS",
    "outputId": "c6276bc8-bdab-4acb-ec3e-0052efc7b0db"
   },
   "execution_count": null,
   "outputs": [
    {
     "output_type": "execute_result",
     "data": {
      "text/plain": [
       "8.0"
      ]
     },
     "metadata": {},
     "execution_count": 46
    }
   ]
  },
  {
   "cell_type": "code",
   "source": [
    "4**2"
   ],
   "metadata": {
    "colab": {
     "base_uri": "https://localhost:8080/"
    },
    "id": "napb-ZOvv7Xp",
    "outputId": "352bbf47-83f5-45cc-aa3c-0a6a57f58bc3"
   },
   "execution_count": null,
   "outputs": [
    {
     "output_type": "execute_result",
     "data": {
      "text/plain": [
       "16"
      ]
     },
     "metadata": {},
     "execution_count": 44
    }
   ]
  },
  {
   "cell_type": "code",
   "source": [
    "4/2"
   ],
   "metadata": {
    "colab": {
     "base_uri": "https://localhost:8080/"
    },
    "id": "N3u5DO9xwkHY",
    "outputId": "8eb01a10-daa7-4345-f2aa-1a979ed8b1b8"
   },
   "execution_count": null,
   "outputs": [
    {
     "output_type": "execute_result",
     "data": {
      "text/plain": [
       "2.0"
      ]
     },
     "metadata": {},
     "execution_count": 47
    }
   ]
  },
  {
   "cell_type": "code",
   "source": [
    "8**(1/3)"
   ],
   "metadata": {
    "colab": {
     "base_uri": "https://localhost:8080/"
    },
    "id": "Je1AOBiK9HHu",
    "outputId": "c6063e0a-6f6c-4179-bb72-093fad730a1d"
   },
   "execution_count": null,
   "outputs": [
    {
     "output_type": "execute_result",
     "data": {
      "text/plain": [
       "2.0"
      ]
     },
     "metadata": {},
     "execution_count": 51
    }
   ]
  },
  {
   "cell_type": "markdown",
   "source": [
    "$$\n",
    "\\sqrt[n]{p} = p^{1/n}\n",
    "$$"
   ],
   "metadata": {
    "id": "I_2BczzDOd7P"
   }
  },
  {
   "cell_type": "code",
   "source": [
    "import math"
   ],
   "metadata": {
    "id": "ETEjfNHiACPs"
   },
   "execution_count": null,
   "outputs": []
  },
  {
   "cell_type": "code",
   "source": [
    "math.sqrt(4)"
   ],
   "metadata": {
    "colab": {
     "base_uri": "https://localhost:8080/"
    },
    "id": "dA6okw4qAL8L",
    "outputId": "db8fcfcc-dbdf-4e75-9063-71e79dd8af80"
   },
   "execution_count": null,
   "outputs": [
    {
     "output_type": "execute_result",
     "data": {
      "text/plain": [
       "2.0"
      ]
     },
     "metadata": {},
     "execution_count": 53
    }
   ]
  },
  {
   "cell_type": "code",
   "source": [
    "math.e"
   ],
   "metadata": {
    "colab": {
     "base_uri": "https://localhost:8080/"
    },
    "id": "H-dw9SS2AnWB",
    "outputId": "e1c81e6b-6fb0-4c93-f14d-3e81e791d033"
   },
   "execution_count": null,
   "outputs": [
    {
     "output_type": "execute_result",
     "data": {
      "text/plain": [
       "2.718281828459045"
      ]
     },
     "metadata": {},
     "execution_count": 54
    }
   ]
  },
  {
   "cell_type": "code",
   "source": [
    "math.pi"
   ],
   "metadata": {
    "colab": {
     "base_uri": "https://localhost:8080/"
    },
    "id": "lIEwNtUdqODP",
    "outputId": "854e23da-b9cb-4547-bced-afb38bc79909"
   },
   "execution_count": null,
   "outputs": [
    {
     "output_type": "execute_result",
     "data": {
      "text/plain": [
       "3.141592653589793"
      ]
     },
     "metadata": {},
     "execution_count": 55
    }
   ]
  },
  {
   "cell_type": "markdown",
   "source": [
    "## Variables booleanas"
   ],
   "metadata": {
    "id": "M34rnhQAxxLI"
   }
  },
  {
   "cell_type": "markdown",
   "source": [
    "| $A$    | $B$    | $A \\land B$ |\n",
    "|--------|--------|-------------|\n",
    "| True   | True   | True        |\n",
    "| True   | False  | False       |\n",
    "| False  | True   | False       |\n",
    "| False  | False  | False       |\n",
    "\n",
    "| $A$    | $B$    | $A \\lor B$ |\n",
    "|--------|--------|-------------|\n",
    "| True   | True   | True        |\n",
    "| True   | False  | True       |\n",
    "| False  | True   | True       |\n",
    "| False  | False  | False       |\n"
   ],
   "metadata": {
    "id": "6faP9-3IQaVQ"
   }
  },
  {
   "cell_type": "code",
   "source": [
    "a = True\n",
    "b = False"
   ],
   "metadata": {
    "id": "PWJgEN5FwmTJ"
   },
   "execution_count": null,
   "outputs": []
  },
  {
   "cell_type": "code",
   "source": [
    "print(a)"
   ],
   "metadata": {
    "colab": {
     "base_uri": "https://localhost:8080/"
    },
    "id": "BiYu6LDrcVer",
    "outputId": "4fe4b764-e1c7-45f7-f279-3bf12c867a0e"
   },
   "execution_count": null,
   "outputs": [
    {
     "output_type": "stream",
     "name": "stdout",
     "text": [
      "True\n"
     ]
    }
   ]
  },
  {
   "cell_type": "code",
   "source": [
    "type(a)"
   ],
   "metadata": {
    "colab": {
     "base_uri": "https://localhost:8080/"
    },
    "id": "WkT2mdIV-Fzd",
    "outputId": "7b983c6c-5b83-49ab-c199-0e4ab2e93450"
   },
   "execution_count": null,
   "outputs": [
    {
     "output_type": "execute_result",
     "data": {
      "text/plain": [
       "bool"
      ]
     },
     "metadata": {},
     "execution_count": 58
    }
   ]
  },
  {
   "cell_type": "code",
   "source": [
    "a or b"
   ],
   "metadata": {
    "colab": {
     "base_uri": "https://localhost:8080/"
    },
    "id": "8x3MnOvKw2KJ",
    "outputId": "b5182943-40ac-4eb1-9b3b-5695c126fe60"
   },
   "execution_count": null,
   "outputs": [
    {
     "output_type": "execute_result",
     "data": {
      "text/plain": [
       "True"
      ]
     },
     "metadata": {},
     "execution_count": 59
    }
   ]
  },
  {
   "cell_type": "code",
   "source": [
    "True or False"
   ],
   "metadata": {
    "colab": {
     "base_uri": "https://localhost:8080/"
    },
    "id": "k-peZSl6P9B7",
    "outputId": "5ebf31c3-de3c-4906-af16-896f07acb645"
   },
   "execution_count": null,
   "outputs": [
    {
     "output_type": "execute_result",
     "data": {
      "text/plain": [
       "True"
      ]
     },
     "metadata": {},
     "execution_count": 60
    }
   ]
  },
  {
   "cell_type": "code",
   "source": [
    "False or True"
   ],
   "metadata": {
    "colab": {
     "base_uri": "https://localhost:8080/"
    },
    "id": "c5PMZJ1uQAf1",
    "outputId": "044844ee-6165-4ca4-e81a-78e56bb7ea13"
   },
   "execution_count": null,
   "outputs": [
    {
     "output_type": "execute_result",
     "data": {
      "text/plain": [
       "True"
      ]
     },
     "metadata": {},
     "execution_count": 61
    }
   ]
  },
  {
   "cell_type": "code",
   "source": [
    "False or False"
   ],
   "metadata": {
    "colab": {
     "base_uri": "https://localhost:8080/"
    },
    "id": "ms6Uit54QDv5",
    "outputId": "64a49a21-0c27-43a1-e2ae-cc54fa496faa"
   },
   "execution_count": null,
   "outputs": [
    {
     "output_type": "execute_result",
     "data": {
      "text/plain": [
       "False"
      ]
     },
     "metadata": {},
     "execution_count": 62
    }
   ]
  },
  {
   "cell_type": "code",
   "source": [
    "a or b"
   ],
   "metadata": {
    "colab": {
     "base_uri": "https://localhost:8080/"
    },
    "id": "Y7I84gTfQKmA",
    "outputId": "89e14a8c-2541-419c-a623-04c033cb3fd9"
   },
   "execution_count": null,
   "outputs": [
    {
     "output_type": "execute_result",
     "data": {
      "text/plain": [
       "True"
      ]
     },
     "metadata": {},
     "execution_count": 63
    }
   ]
  },
  {
   "cell_type": "code",
   "source": [
    "a or b == True"
   ],
   "metadata": {
    "colab": {
     "base_uri": "https://localhost:8080/"
    },
    "id": "mckGSG3T-RbL",
    "outputId": "01f04657-2bd6-488a-e459-9aee2f8f850b"
   },
   "execution_count": null,
   "outputs": [
    {
     "output_type": "execute_result",
     "data": {
      "text/plain": [
       "True"
      ]
     },
     "metadata": {},
     "execution_count": 64
    }
   ]
  },
  {
   "cell_type": "code",
   "source": [
    "a and b"
   ],
   "metadata": {
    "colab": {
     "base_uri": "https://localhost:8080/"
    },
    "id": "cUNqidUfw4cS",
    "outputId": "fcd8ab5e-a796-4beb-a9b4-014f3a968ebd"
   },
   "execution_count": null,
   "outputs": [
    {
     "output_type": "execute_result",
     "data": {
      "text/plain": [
       "False"
      ]
     },
     "metadata": {},
     "execution_count": 66
    }
   ]
  },
  {
   "cell_type": "code",
   "source": [
    "True or True"
   ],
   "metadata": {
    "colab": {
     "base_uri": "https://localhost:8080/"
    },
    "id": "z1EQN8_oQWbr",
    "outputId": "168fc1dc-b165-4ebe-b44e-7009ecbcd07c"
   },
   "execution_count": null,
   "outputs": [
    {
     "output_type": "execute_result",
     "data": {
      "text/plain": [
       "True"
      ]
     },
     "metadata": {},
     "execution_count": 67
    }
   ]
  },
  {
   "cell_type": "code",
   "source": [
    "True and True"
   ],
   "metadata": {
    "colab": {
     "base_uri": "https://localhost:8080/"
    },
    "id": "8nqtI-NOvVgH",
    "outputId": "4a5093e3-3bd6-4fd8-a403-b8fa1f5cad12"
   },
   "execution_count": null,
   "outputs": [
    {
     "output_type": "execute_result",
     "data": {
      "text/plain": [
       "True"
      ]
     },
     "metadata": {},
     "execution_count": 68
    }
   ]
  },
  {
   "cell_type": "code",
   "source": [
    "True and False"
   ],
   "metadata": {
    "colab": {
     "base_uri": "https://localhost:8080/"
    },
    "id": "OTS2Q3P3vYiz",
    "outputId": "bfc94404-c704-4917-b65c-ab9cd1bddc49"
   },
   "execution_count": null,
   "outputs": [
    {
     "output_type": "execute_result",
     "data": {
      "text/plain": [
       "False"
      ]
     },
     "metadata": {},
     "execution_count": 69
    }
   ]
  },
  {
   "cell_type": "code",
   "source": [
    "False and True"
   ],
   "metadata": {
    "colab": {
     "base_uri": "https://localhost:8080/"
    },
    "id": "j96seCzKvcyV",
    "outputId": "a26ccac8-1f29-4095-fb85-ce8c8acc0961"
   },
   "execution_count": null,
   "outputs": [
    {
     "output_type": "execute_result",
     "data": {
      "text/plain": [
       "False"
      ]
     },
     "metadata": {},
     "execution_count": 3
    }
   ]
  },
  {
   "cell_type": "code",
   "source": [
    "False and False"
   ],
   "metadata": {
    "colab": {
     "base_uri": "https://localhost:8080/"
    },
    "id": "5TxTQxnjvfUE",
    "outputId": "ef266a41-2ca7-45e5-b6c6-71d9c69db67f"
   },
   "execution_count": null,
   "outputs": [
    {
     "output_type": "execute_result",
     "data": {
      "text/plain": [
       "False"
      ]
     },
     "metadata": {},
     "execution_count": 4
    }
   ]
  },
  {
   "cell_type": "code",
   "source": [
    "not 1"
   ],
   "metadata": {
    "colab": {
     "base_uri": "https://localhost:8080/"
    },
    "id": "uXDDvz_aw6yk",
    "outputId": "f5712782-0b07-4bac-fafd-d8659fcced16"
   },
   "execution_count": null,
   "outputs": [
    {
     "output_type": "execute_result",
     "data": {
      "text/plain": [
       "False"
      ]
     },
     "metadata": {},
     "execution_count": 70
    }
   ]
  },
  {
   "cell_type": "code",
   "source": [
    "True + 5.2"
   ],
   "metadata": {
    "colab": {
     "base_uri": "https://localhost:8080/"
    },
    "id": "-b8pqcyAG_pK",
    "outputId": "1427b678-1664-4135-d021-43de4354040b"
   },
   "execution_count": null,
   "outputs": [
    {
     "output_type": "execute_result",
     "data": {
      "text/plain": [
       "6.2"
      ]
     },
     "metadata": {},
     "execution_count": 71
    }
   ]
  },
  {
   "cell_type": "code",
   "source": [
    "a = 5.5\n",
    "b = 7\n",
    "print(a < b)\n",
    "print(a <= b)\n",
    "print(a > b)\n",
    "print(a >= b)\n",
    "print(a == b)"
   ],
   "metadata": {
    "colab": {
     "base_uri": "https://localhost:8080/"
    },
    "id": "odhdDOExxCbU",
    "outputId": "239fdce3-4305-487d-a160-d651d6305933"
   },
   "execution_count": null,
   "outputs": [
    {
     "output_type": "stream",
     "name": "stdout",
     "text": [
      "True\n",
      "True\n",
      "False\n",
      "False\n",
      "False\n"
     ]
    }
   ]
  },
  {
   "cell_type": "markdown",
   "source": [
    "## Variable int"
   ],
   "metadata": {
    "id": "PpSGVTAyw6tC"
   }
  },
  {
   "cell_type": "code",
   "source": [
    "2+ 3"
   ],
   "metadata": {
    "colab": {
     "base_uri": "https://localhost:8080/"
    },
    "id": "Em3DWdzJw96Z",
    "outputId": "829ee07d-618c-4a98-f3cd-2e4ad385629d"
   },
   "execution_count": null,
   "outputs": [
    {
     "output_type": "execute_result",
     "data": {
      "text/plain": [
       "5"
      ]
     },
     "metadata": {},
     "execution_count": 73
    }
   ]
  },
  {
   "cell_type": "code",
   "source": [
    "2*3"
   ],
   "metadata": {
    "colab": {
     "base_uri": "https://localhost:8080/"
    },
    "id": "F_ygTLVUw_04",
    "outputId": "7ed701ea-78e8-49fa-9b0f-fea414891f10"
   },
   "execution_count": null,
   "outputs": [
    {
     "output_type": "execute_result",
     "data": {
      "text/plain": [
       "6"
      ]
     },
     "metadata": {},
     "execution_count": 74
    }
   ]
  },
  {
   "cell_type": "code",
   "source": [
    "2**3"
   ],
   "metadata": {
    "colab": {
     "base_uri": "https://localhost:8080/"
    },
    "id": "F2t-LFYZxB1m",
    "outputId": "ad6e869d-fcb5-412b-b831-a29416fdddaf"
   },
   "execution_count": null,
   "outputs": [
    {
     "output_type": "execute_result",
     "data": {
      "text/plain": [
       "8"
      ]
     },
     "metadata": {},
     "execution_count": 75
    }
   ]
  },
  {
   "cell_type": "code",
   "source": [
    "4/2"
   ],
   "metadata": {
    "colab": {
     "base_uri": "https://localhost:8080/"
    },
    "id": "7Tka-khIxDoU",
    "outputId": "2cea2383-3213-4ef1-d67b-867cd3e97382"
   },
   "execution_count": null,
   "outputs": [
    {
     "output_type": "execute_result",
     "data": {
      "text/plain": [
       "2.0"
      ]
     },
     "metadata": {},
     "execution_count": 76
    }
   ]
  },
  {
   "cell_type": "code",
   "source": [
    "4//2"
   ],
   "metadata": {
    "colab": {
     "base_uri": "https://localhost:8080/"
    },
    "id": "td-yVV1zxJWF",
    "outputId": "8ce28eb7-83d7-463f-97bb-a83cac361181"
   },
   "execution_count": null,
   "outputs": [
    {
     "output_type": "execute_result",
     "data": {
      "text/plain": [
       "2"
      ]
     },
     "metadata": {},
     "execution_count": 77
    }
   ]
  },
  {
   "cell_type": "code",
   "source": [
    "3//2"
   ],
   "metadata": {
    "colab": {
     "base_uri": "https://localhost:8080/"
    },
    "id": "4sfimCEyxMgs",
    "outputId": "a88dff3b-e233-4039-b7c0-72849a327ebc"
   },
   "execution_count": null,
   "outputs": [
    {
     "output_type": "execute_result",
     "data": {
      "text/plain": [
       "1"
      ]
     },
     "metadata": {},
     "execution_count": 78
    }
   ]
  },
  {
   "cell_type": "code",
   "source": [
    "3/2"
   ],
   "metadata": {
    "colab": {
     "base_uri": "https://localhost:8080/"
    },
    "id": "_dOemlShxR-w",
    "outputId": "d41f8d38-f3fd-43f4-f831-88c13c0b6c89"
   },
   "execution_count": null,
   "outputs": [
    {
     "output_type": "execute_result",
     "data": {
      "text/plain": [
       "1.5"
      ]
     },
     "metadata": {},
     "execution_count": 79
    }
   ]
  },
  {
   "cell_type": "code",
   "source": [
    "3 % 2"
   ],
   "metadata": {
    "colab": {
     "base_uri": "https://localhost:8080/"
    },
    "id": "NUyreRzwxUwx",
    "outputId": "5b30c447-81dd-4253-ea0d-9b8444bf911b"
   },
   "execution_count": null,
   "outputs": [
    {
     "output_type": "execute_result",
     "data": {
      "text/plain": [
       "1"
      ]
     },
     "metadata": {},
     "execution_count": 80
    }
   ]
  },
  {
   "cell_type": "code",
   "source": [
    "n = 5\n",
    "n // 2 == n / 2"
   ],
   "metadata": {
    "colab": {
     "base_uri": "https://localhost:8080/"
    },
    "id": "Y0YX9ChRxviq",
    "outputId": "d5c73d51-68c7-42cb-c02c-c6138c908343"
   },
   "execution_count": null,
   "outputs": [
    {
     "output_type": "execute_result",
     "data": {
      "text/plain": [
       "False"
      ]
     },
     "metadata": {},
     "execution_count": 81
    }
   ]
  },
  {
   "cell_type": "code",
   "source": [
    "n = 6\n",
    "n % 2 == 0"
   ],
   "metadata": {
    "colab": {
     "base_uri": "https://localhost:8080/"
    },
    "id": "YLyNCSqtyLxH",
    "outputId": "b8d2af53-128f-4300-dfde-42a576fed120"
   },
   "execution_count": null,
   "outputs": [
    {
     "output_type": "execute_result",
     "data": {
      "text/plain": [
       "True"
      ]
     },
     "metadata": {},
     "execution_count": 82
    }
   ]
  },
  {
   "cell_type": "code",
   "source": [
    "2.0 == 2"
   ],
   "metadata": {
    "colab": {
     "base_uri": "https://localhost:8080/"
    },
    "id": "rTd451T0H0Wj",
    "outputId": "ef87db94-e1aa-4b53-95cf-b44ce2feea04"
   },
   "execution_count": null,
   "outputs": [
    {
     "output_type": "execute_result",
     "data": {
      "text/plain": [
       "True"
      ]
     },
     "metadata": {},
     "execution_count": 83
    }
   ]
  },
  {
   "cell_type": "code",
   "source": [
    "int(4.9)"
   ],
   "metadata": {
    "colab": {
     "base_uri": "https://localhost:8080/"
    },
    "id": "MZLrbkXMywXZ",
    "outputId": "a5a8f76f-3628-4eae-8cf2-4bd162a1383d"
   },
   "execution_count": null,
   "outputs": [
    {
     "output_type": "execute_result",
     "data": {
      "text/plain": [
       "4"
      ]
     },
     "metadata": {},
     "execution_count": 84
    }
   ]
  },
  {
   "cell_type": "code",
   "source": [
    "round(4.9)"
   ],
   "metadata": {
    "colab": {
     "base_uri": "https://localhost:8080/"
    },
    "id": "NftcPc4Hy-rN",
    "outputId": "dc12bb6b-d637-4592-a612-907a2907b7d5"
   },
   "execution_count": null,
   "outputs": [
    {
     "output_type": "execute_result",
     "data": {
      "text/plain": [
       "5"
      ]
     },
     "metadata": {},
     "execution_count": 85
    }
   ]
  },
  {
   "cell_type": "code",
   "source": [
    "float(4)"
   ],
   "metadata": {
    "colab": {
     "base_uri": "https://localhost:8080/"
    },
    "id": "BZMeWv9Fyy1A",
    "outputId": "811f697e-d5a4-4fa0-adf2-e5c689ecf901"
   },
   "execution_count": null,
   "outputs": [
    {
     "output_type": "execute_result",
     "data": {
      "text/plain": [
       "4.0"
      ]
     },
     "metadata": {},
     "execution_count": 86
    }
   ]
  },
  {
   "cell_type": "code",
   "source": [
    "max(2,7)"
   ],
   "metadata": {
    "colab": {
     "base_uri": "https://localhost:8080/"
    },
    "id": "wDuANFO3zICe",
    "outputId": "6a6e961b-742d-484b-c252-ebde6cb37b29"
   },
   "execution_count": null,
   "outputs": [
    {
     "output_type": "execute_result",
     "data": {
      "text/plain": [
       "7"
      ]
     },
     "metadata": {},
     "execution_count": 88
    }
   ]
  },
  {
   "cell_type": "code",
   "source": [
    "min(2,7,4)"
   ],
   "metadata": {
    "colab": {
     "base_uri": "https://localhost:8080/"
    },
    "id": "pB3OKtPlzLya",
    "outputId": "ea586d1f-ef7c-4907-dc5f-9cb281658df8"
   },
   "execution_count": null,
   "outputs": [
    {
     "output_type": "execute_result",
     "data": {
      "text/plain": [
       "2"
      ]
     },
     "metadata": {},
     "execution_count": 87
    }
   ]
  },
  {
   "cell_type": "markdown",
   "source": [
    "## Variable string"
   ],
   "metadata": {
    "id": "vCRJIC0R4IwW"
   }
  },
  {
   "cell_type": "code",
   "source": [
    "a = ''\n",
    "print(a)"
   ],
   "metadata": {
    "colab": {
     "base_uri": "https://localhost:8080/"
    },
    "id": "eNbviOSQzrzm",
    "outputId": "526e348c-e6a4-4dd1-aa59-b7f556e2fa82"
   },
   "execution_count": null,
   "outputs": [
    {
     "output_type": "stream",
     "name": "stdout",
     "text": [
      "\n"
     ]
    }
   ]
  },
  {
   "cell_type": "code",
   "source": [],
   "metadata": {
    "id": "vCfw85I7IZPx"
   },
   "execution_count": null,
   "outputs": []
  },
  {
   "cell_type": "code",
   "source": [
    "a = '\\tHola\\n\\nHola\\\\'\n",
    "print(a)"
   ],
   "metadata": {
    "colab": {
     "base_uri": "https://localhost:8080/"
    },
    "id": "FwYOfjcX4L5y",
    "outputId": "b12dec47-2630-42ac-998c-0596ce2d3d78"
   },
   "execution_count": null,
   "outputs": [
    {
     "output_type": "stream",
     "name": "stdout",
     "text": [
      "\tHola\n",
      "\n",
      "Hola\\\n"
     ]
    }
   ]
  },
  {
   "cell_type": "code",
   "source": [
    "a = \"'Hola'\"\n",
    "print(a)"
   ],
   "metadata": {
    "colab": {
     "base_uri": "https://localhost:8080/"
    },
    "id": "NoR7aLVm9KkY",
    "outputId": "d46d05d9-504c-4cdb-bb6c-c11f7e2906fe"
   },
   "execution_count": null,
   "outputs": [
    {
     "output_type": "stream",
     "name": "stdout",
     "text": [
      "'Hola'\n"
     ]
    }
   ]
  },
  {
   "cell_type": "code",
   "source": [
    "a = \"\"\"\n",
    "A: \"Hola\"\n",
    "B: \"¿Cómo estás?\"\n",
    "\"\"\"\n",
    "print(a)"
   ],
   "metadata": {
    "colab": {
     "base_uri": "https://localhost:8080/"
    },
    "id": "OnHEmnxJ9Wkv",
    "outputId": "e95f6752-b09c-486e-88b2-ef55b0e0e8e8"
   },
   "execution_count": null,
   "outputs": [
    {
     "output_type": "stream",
     "name": "stdout",
     "text": [
      "\n",
      "A: \"Hola\"\n",
      "B: \"¿Cómo estás?\"\n",
      "\n"
     ]
    }
   ]
  },
  {
   "cell_type": "code",
   "source": [
    "a = \"Hola'\n",
    "print(a)"
   ],
   "metadata": {
    "colab": {
     "base_uri": "https://localhost:8080/",
     "height": 106
    },
    "id": "BbdGv4N19he5",
    "outputId": "341db1dc-23d8-493b-8cee-b43290362647"
   },
   "execution_count": null,
   "outputs": [
    {
     "output_type": "error",
     "ename": "SyntaxError",
     "evalue": "unterminated string literal (detected at line 1) (<ipython-input-98-31786fda869b>, line 1)",
     "traceback": [
      "\u001B[0;36m  File \u001B[0;32m\"<ipython-input-98-31786fda869b>\"\u001B[0;36m, line \u001B[0;32m1\u001B[0m\n\u001B[0;31m    a = \"Hola'\u001B[0m\n\u001B[0m        ^\u001B[0m\n\u001B[0;31mSyntaxError\u001B[0m\u001B[0;31m:\u001B[0m unterminated string literal (detected at line 1)\n"
     ]
    }
   ]
  },
  {
   "cell_type": "code",
   "source": [],
   "metadata": {
    "id": "nMrioZhO9NSi"
   },
   "execution_count": null,
   "outputs": []
  },
  {
   "cell_type": "code",
   "source": [
    "len(a)"
   ],
   "metadata": {
    "colab": {
     "base_uri": "https://localhost:8080/"
    },
    "id": "ZqKMIlyc2oFK",
    "outputId": "35989096-c8ef-4a82-dc38-2b23f7e6824f"
   },
   "execution_count": null,
   "outputs": [
    {
     "output_type": "execute_result",
     "data": {
      "text/plain": [
       "29"
      ]
     },
     "metadata": {},
     "execution_count": 100
    }
   ]
  },
  {
   "cell_type": "code",
   "source": [
    "a[1] = '0'"
   ],
   "metadata": {
    "colab": {
     "base_uri": "https://localhost:8080/",
     "height": 141
    },
    "id": "blBRxjV_2Y67",
    "outputId": "669e0ee6-4a86-440c-ab8c-7ec67a6d0b12"
   },
   "execution_count": null,
   "outputs": [
    {
     "output_type": "error",
     "ename": "TypeError",
     "evalue": "'str' object does not support item assignment",
     "traceback": [
      "\u001B[0;31m---------------------------------------------------------------------------\u001B[0m",
      "\u001B[0;31mTypeError\u001B[0m                                 Traceback (most recent call last)",
      "\u001B[0;32m<ipython-input-101-e3225ccf1732>\u001B[0m in \u001B[0;36m<cell line: 0>\u001B[0;34m()\u001B[0m\n\u001B[0;32m----> 1\u001B[0;31m \u001B[0ma\u001B[0m\u001B[0;34m[\u001B[0m\u001B[0;36m1\u001B[0m\u001B[0;34m]\u001B[0m \u001B[0;34m=\u001B[0m \u001B[0;34m'0'\u001B[0m\u001B[0;34m\u001B[0m\u001B[0;34m\u001B[0m\u001B[0m\n\u001B[0m",
      "\u001B[0;31mTypeError\u001B[0m: 'str' object does not support item assignment"
     ]
    }
   ]
  },
  {
   "cell_type": "code",
   "source": [
    "a"
   ],
   "metadata": {
    "colab": {
     "base_uri": "https://localhost:8080/",
     "height": 35
    },
    "id": "COhk0ofismGi",
    "outputId": "55add05a-5202-4071-9d07-ab432414b3c1"
   },
   "execution_count": null,
   "outputs": [
    {
     "output_type": "execute_result",
     "data": {
      "text/plain": [
       "'\\nA: \"Hola\"\\nB: \"¿Cómo estás?\"\\n'"
      ],
      "application/vnd.google.colaboratory.intrinsic+json": {
       "type": "string"
      }
     },
     "metadata": {},
     "execution_count": 102
    }
   ]
  },
  {
   "cell_type": "code",
   "source": [
    "a = \"1234\"\n",
    "a[3]"
   ],
   "metadata": {
    "colab": {
     "base_uri": "https://localhost:8080/",
     "height": 35
    },
    "id": "BRlfeApBC2Aa",
    "outputId": "caf5ebd1-ebf6-4a40-e920-51aed1a394c6"
   },
   "execution_count": null,
   "outputs": [
    {
     "output_type": "execute_result",
     "data": {
      "text/plain": [
       "'4'"
      ],
      "application/vnd.google.colaboratory.intrinsic+json": {
       "type": "string"
      }
     },
     "metadata": {},
     "execution_count": 103
    }
   ]
  },
  {
   "cell_type": "code",
   "source": [
    "a[20]"
   ],
   "metadata": {
    "colab": {
     "base_uri": "https://localhost:8080/",
     "height": 141
    },
    "id": "jzJOuDp-2FYC",
    "outputId": "9c5181f5-278f-4aa3-f562-204f0f3ee3dd"
   },
   "execution_count": null,
   "outputs": [
    {
     "output_type": "error",
     "ename": "IndexError",
     "evalue": "string index out of range",
     "traceback": [
      "\u001B[0;31m---------------------------------------------------------------------------\u001B[0m",
      "\u001B[0;31mIndexError\u001B[0m                                Traceback (most recent call last)",
      "\u001B[0;32m<ipython-input-104-2ba6acdce15e>\u001B[0m in \u001B[0;36m<cell line: 0>\u001B[0;34m()\u001B[0m\n\u001B[0;32m----> 1\u001B[0;31m \u001B[0ma\u001B[0m\u001B[0;34m[\u001B[0m\u001B[0;36m20\u001B[0m\u001B[0;34m]\u001B[0m\u001B[0;34m\u001B[0m\u001B[0;34m\u001B[0m\u001B[0m\n\u001B[0m",
      "\u001B[0;31mIndexError\u001B[0m: string index out of range"
     ]
    }
   ]
  },
  {
   "cell_type": "code",
   "source": [
    "type(a)"
   ],
   "metadata": {
    "colab": {
     "base_uri": "https://localhost:8080/"
    },
    "id": "T8xNLdst-oSF",
    "outputId": "4b3ac695-80b3-483f-cb89-fa77dcb86b1c"
   },
   "execution_count": null,
   "outputs": [
    {
     "output_type": "execute_result",
     "data": {
      "text/plain": [
       "str"
      ]
     },
     "metadata": {},
     "execution_count": 105
    }
   ]
  },
  {
   "cell_type": "code",
   "source": [
    "b = 'ha'*5 + ' Python goes br' + 'br'*10\n",
    "print(b)"
   ],
   "metadata": {
    "colab": {
     "base_uri": "https://localhost:8080/"
    },
    "id": "JVfLiWwz4P-9",
    "outputId": "b854637e-5577-4345-f9ef-894cfd13ddcd"
   },
   "execution_count": null,
   "outputs": [
    {
     "output_type": "stream",
     "name": "stdout",
     "text": [
      "hahahahaha Python goes brbrbrbrbrbrbrbrbrbrbr\n"
     ]
    }
   ]
  },
  {
   "cell_type": "markdown",
   "source": [
    "## Listas y tuplas (colecciones)\n",
    "\n",
    "https://docs.python.org/3/tutorial/datastructures.html\n",
    "\n"
   ],
   "metadata": {
    "id": "S4oPSclP4rEZ"
   }
  },
  {
   "cell_type": "code",
   "source": [
    "a = (1,2,3,4)\n",
    "print(a[0])"
   ],
   "metadata": {
    "colab": {
     "base_uri": "https://localhost:8080/"
    },
    "id": "pdJDPiaq4tGi",
    "outputId": "8d258144-2935-434a-dd54-99c1683ec89f"
   },
   "execution_count": null,
   "outputs": [
    {
     "output_type": "stream",
     "name": "stdout",
     "text": [
      "1\n"
     ]
    }
   ]
  },
  {
   "cell_type": "code",
   "source": [
    "print(a[3])"
   ],
   "metadata": {
    "colab": {
     "base_uri": "https://localhost:8080/"
    },
    "id": "wFfntOh841km",
    "outputId": "1c9ea0ef-7326-4331-e12d-94e301272da2"
   },
   "execution_count": null,
   "outputs": [
    {
     "output_type": "stream",
     "name": "stdout",
     "text": [
      "4\n"
     ]
    }
   ]
  },
  {
   "cell_type": "code",
   "source": [
    "print(len(a))"
   ],
   "metadata": {
    "colab": {
     "base_uri": "https://localhost:8080/"
    },
    "id": "wyqBsSea5CND",
    "outputId": "ddd13bb8-9a95-4251-8a86-3fad9cd6d98f"
   },
   "execution_count": null,
   "outputs": [
    {
     "output_type": "stream",
     "name": "stdout",
     "text": [
      "4\n"
     ]
    }
   ]
  },
  {
   "cell_type": "code",
   "source": [
    "print(type(a))"
   ],
   "metadata": {
    "colab": {
     "base_uri": "https://localhost:8080/"
    },
    "id": "sjqWEB205Lsw",
    "outputId": "45fcbfef-ce0e-46bf-cc00-71f3518098b8"
   },
   "execution_count": null,
   "outputs": [
    {
     "output_type": "stream",
     "name": "stdout",
     "text": [
      "<class 'tuple'>\n"
     ]
    }
   ]
  },
  {
   "cell_type": "code",
   "source": [
    "a[0] = 100"
   ],
   "metadata": {
    "colab": {
     "base_uri": "https://localhost:8080/",
     "height": 141
    },
    "id": "zEDKxPGB2zhx",
    "outputId": "c008c1a7-33a4-43bc-814a-5eaaadda059d"
   },
   "execution_count": null,
   "outputs": [
    {
     "output_type": "error",
     "ename": "TypeError",
     "evalue": "'tuple' object does not support item assignment",
     "traceback": [
      "\u001B[0;31m---------------------------------------------------------------------------\u001B[0m",
      "\u001B[0;31mTypeError\u001B[0m                                 Traceback (most recent call last)",
      "\u001B[0;32m<ipython-input-111-b6d7a4db9a51>\u001B[0m in \u001B[0;36m<cell line: 0>\u001B[0;34m()\u001B[0m\n\u001B[0;32m----> 1\u001B[0;31m \u001B[0ma\u001B[0m\u001B[0;34m[\u001B[0m\u001B[0;36m0\u001B[0m\u001B[0;34m]\u001B[0m \u001B[0;34m=\u001B[0m \u001B[0;36m100\u001B[0m\u001B[0;34m\u001B[0m\u001B[0;34m\u001B[0m\u001B[0m\n\u001B[0m",
      "\u001B[0;31mTypeError\u001B[0m: 'tuple' object does not support item assignment"
     ]
    }
   ]
  },
  {
   "cell_type": "code",
   "source": [
    "a = list(a)"
   ],
   "metadata": {
    "id": "cEtQSWE9vMD2"
   },
   "execution_count": null,
   "outputs": []
  },
  {
   "cell_type": "code",
   "source": [
    "a"
   ],
   "metadata": {
    "colab": {
     "base_uri": "https://localhost:8080/"
    },
    "id": "anlBxK-03AqY",
    "outputId": "680e41df-ba09-4641-da26-cb816fa024c2"
   },
   "execution_count": null,
   "outputs": [
    {
     "output_type": "execute_result",
     "data": {
      "text/plain": [
       "[1, 2, 3, 4]"
      ]
     },
     "metadata": {},
     "execution_count": 113
    }
   ]
  },
  {
   "cell_type": "code",
   "source": [
    "a[0] = 100"
   ],
   "metadata": {
    "id": "O21xQ1Yi_Tzc"
   },
   "execution_count": null,
   "outputs": []
  },
  {
   "cell_type": "code",
   "source": [
    "a"
   ],
   "metadata": {
    "colab": {
     "base_uri": "https://localhost:8080/"
    },
    "id": "RPjhLSVGvPU3",
    "outputId": "41662c89-35cb-4f71-8192-ecd0f2c2c7b6"
   },
   "execution_count": null,
   "outputs": [
    {
     "output_type": "execute_result",
     "data": {
      "text/plain": [
       "[100, 2, 3, 4]"
      ]
     },
     "metadata": {},
     "execution_count": 115
    }
   ]
  },
  {
   "cell_type": "code",
   "source": [
    "b = [1,2,3,4]"
   ],
   "metadata": {
    "id": "Y17uQtyn5J8D"
   },
   "execution_count": null,
   "outputs": []
  },
  {
   "cell_type": "code",
   "source": [
    "c = []"
   ],
   "metadata": {
    "id": "JManszSK3Q6e"
   },
   "execution_count": null,
   "outputs": []
  },
  {
   "cell_type": "code",
   "source": [
    "b[0]"
   ],
   "metadata": {
    "colab": {
     "base_uri": "https://localhost:8080/"
    },
    "id": "OtoBnHGF5TKo",
    "outputId": "84d2c9bd-2db5-4968-f33a-0177c6c0ca66"
   },
   "execution_count": null,
   "outputs": [
    {
     "output_type": "execute_result",
     "data": {
      "text/plain": [
       "1"
      ]
     },
     "metadata": {},
     "execution_count": 118
    }
   ]
  },
  {
   "cell_type": "code",
   "source": [
    "len(b)"
   ],
   "metadata": {
    "colab": {
     "base_uri": "https://localhost:8080/"
    },
    "id": "GkQbN0rd_lAK",
    "outputId": "c7cfe16c-002c-47a1-eb91-d68312af961c"
   },
   "execution_count": null,
   "outputs": [
    {
     "output_type": "execute_result",
     "data": {
      "text/plain": [
       "4"
      ]
     },
     "metadata": {},
     "execution_count": 119
    }
   ]
  },
  {
   "cell_type": "code",
   "source": [
    "b[0] = -1\n",
    "print(b)"
   ],
   "metadata": {
    "colab": {
     "base_uri": "https://localhost:8080/"
    },
    "id": "kQDH9fHJ5U6m",
    "outputId": "ea0d7187-0509-430c-e9cf-5d5f0e6f8276"
   },
   "execution_count": null,
   "outputs": [
    {
     "output_type": "stream",
     "name": "stdout",
     "text": [
      "[-1, 2, 3, 4]\n"
     ]
    }
   ]
  },
  {
   "cell_type": "code",
   "source": [
    "b.append(5)"
   ],
   "metadata": {
    "id": "rQ5hwCDsvX8t"
   },
   "execution_count": null,
   "outputs": []
  },
  {
   "cell_type": "code",
   "source": [
    "b"
   ],
   "metadata": {
    "colab": {
     "base_uri": "https://localhost:8080/"
    },
    "id": "Ny0cog4FvdW2",
    "outputId": "812b8f64-e213-4507-87a2-197c25669fea"
   },
   "execution_count": null,
   "outputs": [
    {
     "output_type": "execute_result",
     "data": {
      "text/plain": [
       "[-1, 2, 3, 4, 5]"
      ]
     },
     "metadata": {},
     "execution_count": 123
    }
   ]
  },
  {
   "cell_type": "code",
   "source": [
    "b.pop()"
   ],
   "metadata": {
    "colab": {
     "base_uri": "https://localhost:8080/"
    },
    "id": "vDmP6oZkvg9t",
    "outputId": "b0a7bcbc-a594-4303-a647-c2ceeb564cb9"
   },
   "execution_count": null,
   "outputs": [
    {
     "output_type": "execute_result",
     "data": {
      "text/plain": [
       "5"
      ]
     },
     "metadata": {},
     "execution_count": 124
    }
   ]
  },
  {
   "cell_type": "code",
   "source": [
    "b"
   ],
   "metadata": {
    "colab": {
     "base_uri": "https://localhost:8080/"
    },
    "id": "1Op44v8-vjqe",
    "outputId": "f354eb2e-0a84-42e8-a1a7-33d0349ae097"
   },
   "execution_count": null,
   "outputs": [
    {
     "output_type": "execute_result",
     "data": {
      "text/plain": [
       "[-1, 2, 3, 4]"
      ]
     },
     "metadata": {},
     "execution_count": 125
    }
   ]
  },
  {
   "cell_type": "code",
   "source": [
    "b.remove(3)"
   ],
   "metadata": {
    "id": "tRZ7mLre3-KH"
   },
   "execution_count": null,
   "outputs": []
  },
  {
   "cell_type": "code",
   "source": [
    "b"
   ],
   "metadata": {
    "colab": {
     "base_uri": "https://localhost:8080/"
    },
    "id": "5NA10E6a4LiA",
    "outputId": "f4c285e6-19a0-4d6b-8b0a-62091871d8a0"
   },
   "execution_count": null,
   "outputs": [
    {
     "output_type": "execute_result",
     "data": {
      "text/plain": [
       "[-1, 2, 4]"
      ]
     },
     "metadata": {},
     "execution_count": 127
    }
   ]
  },
  {
   "cell_type": "code",
   "source": [
    "b = [1,1,3,4,6,1]"
   ],
   "metadata": {
    "id": "Y-ENBkbK4NoB"
   },
   "execution_count": null,
   "outputs": []
  },
  {
   "cell_type": "code",
   "source": [
    "b.remove(1)\n",
    "b"
   ],
   "metadata": {
    "colab": {
     "base_uri": "https://localhost:8080/"
    },
    "id": "cFuHhbLT4Q6f",
    "outputId": "ba55240b-2c6b-4810-bde0-b9e2a55d10f4"
   },
   "execution_count": null,
   "outputs": [
    {
     "output_type": "execute_result",
     "data": {
      "text/plain": [
       "[1, 3, 4, 6, 1]"
      ]
     },
     "metadata": {},
     "execution_count": 131
    }
   ]
  },
  {
   "cell_type": "code",
   "source": [
    "b = [3,2,1,7]\n",
    "sorted(b)"
   ],
   "metadata": {
    "colab": {
     "base_uri": "https://localhost:8080/"
    },
    "id": "VWlPhnP4BLoy",
    "outputId": "82dbf3a0-0197-45fc-b0c5-974788917682"
   },
   "execution_count": null,
   "outputs": [
    {
     "output_type": "execute_result",
     "data": {
      "text/plain": [
       "[1, 2, 3, 7]"
      ]
     },
     "metadata": {},
     "execution_count": 132
    }
   ]
  },
  {
   "cell_type": "code",
   "source": [
    "b = [3,2,1,7]\n",
    "b.sort()\n",
    "b"
   ],
   "metadata": {
    "colab": {
     "base_uri": "https://localhost:8080/"
    },
    "id": "4cmC9zjx4c6v",
    "outputId": "58441a99-1e5e-4095-f312-8c2a94da5fb9"
   },
   "execution_count": null,
   "outputs": [
    {
     "output_type": "execute_result",
     "data": {
      "text/plain": [
       "[1, 2, 3, 7]"
      ]
     },
     "metadata": {},
     "execution_count": 133
    }
   ]
  },
  {
   "cell_type": "code",
   "source": [
    "b = [3,2,1,7]\n",
    "b.sort(reverse=True)\n",
    "b"
   ],
   "metadata": {
    "colab": {
     "base_uri": "https://localhost:8080/"
    },
    "id": "3wuEardp4g1e",
    "outputId": "f041297a-0779-4d3a-9703-1fc0fcd2d685"
   },
   "execution_count": null,
   "outputs": [
    {
     "output_type": "execute_result",
     "data": {
      "text/plain": [
       "[7, 3, 2, 1]"
      ]
     },
     "metadata": {},
     "execution_count": 134
    }
   ]
  },
  {
   "cell_type": "code",
   "source": [
    "a = [1,2,3]\n",
    "b = [2,3]\n",
    "a + b"
   ],
   "metadata": {
    "colab": {
     "base_uri": "https://localhost:8080/"
    },
    "id": "P7b7e5gj4sJu",
    "outputId": "f8029610-b5d1-42ca-8b3f-c66c351da2f5"
   },
   "execution_count": null,
   "outputs": [
    {
     "output_type": "execute_result",
     "data": {
      "text/plain": [
       "[1, 2, 3, 2, 3]"
      ]
     },
     "metadata": {},
     "execution_count": 135
    }
   ]
  },
  {
   "cell_type": "code",
   "source": [
    "a = ['inglés','francés']\n",
    "b = ['alemán','chino',2]\n",
    "a + b"
   ],
   "metadata": {
    "colab": {
     "base_uri": "https://localhost:8080/"
    },
    "id": "j_yEQkeD5izO",
    "outputId": "b8b2f0eb-d42a-4f2e-a18d-efb5278703a8"
   },
   "execution_count": null,
   "outputs": [
    {
     "output_type": "execute_result",
     "data": {
      "text/plain": [
       "['inglés', 'francés', 'alemán', 'chino', 2]"
      ]
     },
     "metadata": {},
     "execution_count": 137
    }
   ]
  },
  {
   "cell_type": "code",
   "source": [
    "a = [1,2,3,3]"
   ],
   "metadata": {
    "id": "RNUR14ZjNZhZ"
   },
   "execution_count": null,
   "outputs": []
  },
  {
   "cell_type": "code",
   "source": [
    "a[0]"
   ],
   "metadata": {
    "colab": {
     "base_uri": "https://localhost:8080/"
    },
    "id": "-47lQOPLVYd0",
    "outputId": "44899f81-c07f-42c3-bd34-9b4fcff370d4"
   },
   "execution_count": null,
   "outputs": [
    {
     "output_type": "execute_result",
     "data": {
      "text/plain": [
       "1"
      ]
     },
     "metadata": {},
     "execution_count": 139
    }
   ]
  },
  {
   "cell_type": "code",
   "source": [
    "a[-1]"
   ],
   "metadata": {
    "colab": {
     "base_uri": "https://localhost:8080/"
    },
    "id": "YkCjZ8aSVik0",
    "outputId": "dd5acf27-b596-4673-b9c7-6f07b2e2b9d4"
   },
   "execution_count": null,
   "outputs": [
    {
     "output_type": "execute_result",
     "data": {
      "text/plain": [
       "3"
      ]
     },
     "metadata": {},
     "execution_count": 145
    }
   ]
  },
  {
   "cell_type": "code",
   "source": [
    "a[0:2]"
   ],
   "metadata": {
    "colab": {
     "base_uri": "https://localhost:8080/"
    },
    "id": "48b-hVZwVaA3",
    "outputId": "d635060a-bfbc-41c4-da5b-6163a2df8f94"
   },
   "execution_count": null,
   "outputs": [
    {
     "output_type": "execute_result",
     "data": {
      "text/plain": [
       "[1, 2]"
      ]
     },
     "metadata": {},
     "execution_count": 146
    }
   ]
  },
  {
   "cell_type": "code",
   "source": [
    "a[0:3]"
   ],
   "metadata": {
    "colab": {
     "base_uri": "https://localhost:8080/"
    },
    "id": "B4imEO2oVcrj",
    "outputId": "5e9562b3-0bcf-4c57-f17d-759ba456c62a"
   },
   "execution_count": null,
   "outputs": [
    {
     "output_type": "execute_result",
     "data": {
      "text/plain": [
       "[1, 2, 3]"
      ]
     },
     "metadata": {},
     "execution_count": 147
    }
   ]
  },
  {
   "cell_type": "code",
   "source": [
    "a[1:2]"
   ],
   "metadata": {
    "colab": {
     "base_uri": "https://localhost:8080/"
    },
    "id": "frZXy1HRVePa",
    "outputId": "f235e2f0-da1b-4d28-9c93-93e928e84bae"
   },
   "execution_count": null,
   "outputs": [
    {
     "output_type": "execute_result",
     "data": {
      "text/plain": [
       "[2]"
      ]
     },
     "metadata": {},
     "execution_count": 149
    }
   ]
  },
  {
   "cell_type": "code",
   "source": [
    "a.count(3)"
   ],
   "metadata": {
    "colab": {
     "base_uri": "https://localhost:8080/"
    },
    "id": "l4HNum9-NbQM",
    "outputId": "3824d765-9320-4b9d-a7de-c49906302eab"
   },
   "execution_count": null,
   "outputs": [
    {
     "output_type": "execute_result",
     "data": {
      "text/plain": [
       "2"
      ]
     },
     "metadata": {},
     "execution_count": 2
    }
   ]
  },
  {
   "cell_type": "code",
   "source": [
    "a.remove(3)"
   ],
   "metadata": {
    "id": "oQ1bMvOYNei7"
   },
   "execution_count": null,
   "outputs": []
  },
  {
   "cell_type": "code",
   "source": [
    "a"
   ],
   "metadata": {
    "colab": {
     "base_uri": "https://localhost:8080/"
    },
    "id": "pZwNY5UaNhNi",
    "outputId": "597099a0-5d3a-4d4e-b461-ea225357d96b"
   },
   "execution_count": null,
   "outputs": [
    {
     "output_type": "execute_result",
     "data": {
      "text/plain": [
       "[1, 2, 3]"
      ]
     },
     "metadata": {},
     "execution_count": 4
    }
   ]
  },
  {
   "cell_type": "code",
   "source": [
    "l = [3,'a',3.14159,0]"
   ],
   "metadata": {
    "id": "rHH-m7-yOxvN"
   },
   "execution_count": null,
   "outputs": []
  },
  {
   "cell_type": "code",
   "source": [
    "l[2:4]"
   ],
   "metadata": {
    "colab": {
     "base_uri": "https://localhost:8080/"
    },
    "id": "517oC7nPO5Au",
    "outputId": "256bfc1b-4dea-4fbb-b8bd-9c7ffc0bd4f4"
   },
   "execution_count": null,
   "outputs": [
    {
     "output_type": "execute_result",
     "data": {
      "text/plain": [
       "[3.14159, 0]"
      ]
     },
     "metadata": {},
     "execution_count": 154
    }
   ]
  },
  {
   "cell_type": "markdown",
   "source": [
    "## Conjuntos"
   ],
   "metadata": {
    "id": "bO0DSrHq5ecB"
   }
  },
  {
   "cell_type": "code",
   "source": [
    "A = set()"
   ],
   "metadata": {
    "id": "hyZ6lJL65eE2"
   },
   "execution_count": null,
   "outputs": []
  },
  {
   "cell_type": "code",
   "source": [
    "A = {}"
   ],
   "metadata": {
    "id": "7VIEvsXp509w"
   },
   "execution_count": null,
   "outputs": []
  },
  {
   "cell_type": "code",
   "source": [
    "len(A)"
   ],
   "metadata": {
    "colab": {
     "base_uri": "https://localhost:8080/"
    },
    "id": "-bjuF51o6AMl",
    "outputId": "addaec1f-6151-48ec-a779-e80bfecb1e41"
   },
   "execution_count": null,
   "outputs": [
    {
     "output_type": "execute_result",
     "data": {
      "text/plain": [
       "0"
      ]
     },
     "metadata": {},
     "execution_count": 157
    }
   ]
  },
  {
   "cell_type": "code",
   "source": [
    "A = {1,2,3,4,5,6,6}"
   ],
   "metadata": {
    "id": "lnu__p4S6DJ7"
   },
   "execution_count": null,
   "outputs": []
  },
  {
   "cell_type": "code",
   "source": [
    "print(A)"
   ],
   "metadata": {
    "colab": {
     "base_uri": "https://localhost:8080/"
    },
    "id": "tSstNWqOQkk7",
    "outputId": "5e64efe4-e9f6-4cb3-9d27-906ca01b444f"
   },
   "execution_count": null,
   "outputs": [
    {
     "output_type": "stream",
     "name": "stdout",
     "text": [
      "{1, 2, 3, 4, 5, 6}\n"
     ]
    }
   ]
  },
  {
   "cell_type": "code",
   "source": [
    "2 in A"
   ],
   "metadata": {
    "colab": {
     "base_uri": "https://localhost:8080/"
    },
    "id": "xZLk8scS6Jtw",
    "outputId": "8604595d-a4ba-4e43-f2d7-ed657ae4e38d"
   },
   "execution_count": null,
   "outputs": [
    {
     "output_type": "execute_result",
     "data": {
      "text/plain": [
       "True"
      ]
     },
     "metadata": {},
     "execution_count": 161
    }
   ]
  },
  {
   "cell_type": "code",
   "source": [
    "10 in A"
   ],
   "metadata": {
    "colab": {
     "base_uri": "https://localhost:8080/"
    },
    "id": "GhLP1StC6Mgt",
    "outputId": "53f0d99b-a6c1-4879-e8c3-c17e11d6c68b"
   },
   "execution_count": null,
   "outputs": [
    {
     "output_type": "execute_result",
     "data": {
      "text/plain": [
       "False"
      ]
     },
     "metadata": {},
     "execution_count": 162
    }
   ]
  },
  {
   "cell_type": "code",
   "source": [
    "A"
   ],
   "metadata": {
    "colab": {
     "base_uri": "https://localhost:8080/"
    },
    "id": "3Ze-gqkdQzDf",
    "outputId": "169903ca-af42-4d39-96ac-f7d874554863"
   },
   "execution_count": null,
   "outputs": [
    {
     "output_type": "execute_result",
     "data": {
      "text/plain": [
       "{1, 2, 3, 4, 5, 6}"
      ]
     },
     "metadata": {},
     "execution_count": 165
    }
   ]
  },
  {
   "cell_type": "code",
   "source": [
    "B = {5,5,6,7,8,9,10}"
   ],
   "metadata": {
    "id": "AifK2how6QhX"
   },
   "execution_count": null,
   "outputs": []
  },
  {
   "cell_type": "code",
   "source": [
    "B"
   ],
   "metadata": {
    "colab": {
     "base_uri": "https://localhost:8080/"
    },
    "id": "4WrFfns46WR4",
    "outputId": "7debe836-9a62-4d50-daea-bad019f334c0"
   },
   "execution_count": null,
   "outputs": [
    {
     "output_type": "execute_result",
     "data": {
      "text/plain": [
       "{5, 6, 7, 8, 9, 10}"
      ]
     },
     "metadata": {},
     "execution_count": 164
    }
   ]
  },
  {
   "cell_type": "code",
   "source": [
    "C = {1,2}"
   ],
   "metadata": {
    "id": "zqJSlfjP6bKA"
   },
   "execution_count": null,
   "outputs": []
  },
  {
   "cell_type": "code",
   "source": [
    "C.issubset(A)"
   ],
   "metadata": {
    "colab": {
     "base_uri": "https://localhost:8080/"
    },
    "id": "LCQiRq_Y6ifI",
    "outputId": "fb366a3a-ef00-41f4-fde4-c5617c53764f"
   },
   "execution_count": null,
   "outputs": [
    {
     "output_type": "execute_result",
     "data": {
      "text/plain": [
       "True"
      ]
     },
     "metadata": {},
     "execution_count": 167
    }
   ]
  },
  {
   "cell_type": "code",
   "source": [
    "A.issubset(C)"
   ],
   "metadata": {
    "colab": {
     "base_uri": "https://localhost:8080/"
    },
    "id": "9XhvA9Ha6oaW",
    "outputId": "8b254231-8f7d-4d1a-dd47-b583781b8936"
   },
   "execution_count": null,
   "outputs": [
    {
     "output_type": "execute_result",
     "data": {
      "text/plain": [
       "False"
      ]
     },
     "metadata": {},
     "execution_count": 168
    }
   ]
  },
  {
   "cell_type": "code",
   "source": [
    "C.issubset(B)"
   ],
   "metadata": {
    "colab": {
     "base_uri": "https://localhost:8080/"
    },
    "id": "Y9U9LKkk6t-X",
    "outputId": "63a00f52-e652-4c24-fd41-dd6af95c3f6e"
   },
   "execution_count": null,
   "outputs": [
    {
     "output_type": "execute_result",
     "data": {
      "text/plain": [
       "False"
      ]
     },
     "metadata": {},
     "execution_count": 169
    }
   ]
  },
  {
   "cell_type": "code",
   "source": [
    "A.union(B)"
   ],
   "metadata": {
    "colab": {
     "base_uri": "https://localhost:8080/"
    },
    "id": "4QBEjHUL6-db",
    "outputId": "47f41768-31b5-4944-e0d8-9b6e867cfd2f"
   },
   "execution_count": null,
   "outputs": [
    {
     "output_type": "execute_result",
     "data": {
      "text/plain": [
       "{1, 2, 3, 4, 5, 6, 7, 8, 9, 10}"
      ]
     },
     "metadata": {},
     "execution_count": 170
    }
   ]
  },
  {
   "cell_type": "code",
   "source": [
    "A.intersection(B)"
   ],
   "metadata": {
    "colab": {
     "base_uri": "https://localhost:8080/"
    },
    "id": "dwIvFayW7LPk",
    "outputId": "40763eac-9919-435b-b790-50dea2120431"
   },
   "execution_count": null,
   "outputs": [
    {
     "output_type": "execute_result",
     "data": {
      "text/plain": [
       "{5, 6}"
      ]
     },
     "metadata": {},
     "execution_count": 171
    }
   ]
  },
  {
   "cell_type": "code",
   "source": [
    "A.add(7)"
   ],
   "metadata": {
    "id": "o1FFCosr7t9P"
   },
   "execution_count": null,
   "outputs": []
  },
  {
   "cell_type": "code",
   "source": [
    "A"
   ],
   "metadata": {
    "colab": {
     "base_uri": "https://localhost:8080/"
    },
    "id": "VyXdNGSw7w0Y",
    "outputId": "c98241db-12cb-4792-ab27-1d9f16290654"
   },
   "execution_count": null,
   "outputs": [
    {
     "output_type": "execute_result",
     "data": {
      "text/plain": [
       "{1, 2, 3, 4, 5, 6, 7}"
      ]
     },
     "metadata": {},
     "execution_count": 173
    }
   ]
  },
  {
   "cell_type": "code",
   "source": [
    "A.intersection(B)"
   ],
   "metadata": {
    "colab": {
     "base_uri": "https://localhost:8080/"
    },
    "id": "yT4LRb0a7yaR",
    "outputId": "a553dcab-7011-4640-efa6-ce46720206c8"
   },
   "execution_count": null,
   "outputs": [
    {
     "output_type": "execute_result",
     "data": {
      "text/plain": [
       "{5, 6, 7}"
      ]
     },
     "metadata": {},
     "execution_count": 174
    }
   ]
  },
  {
   "cell_type": "code",
   "source": [
    "A-B"
   ],
   "metadata": {
    "colab": {
     "base_uri": "https://localhost:8080/"
    },
    "id": "F2Mceu258Bo6",
    "outputId": "1e6e7418-7939-4e7b-ee2c-43d74180a70d"
   },
   "execution_count": null,
   "outputs": [
    {
     "output_type": "execute_result",
     "data": {
      "text/plain": [
       "{1, 2, 3, 4}"
      ]
     },
     "metadata": {},
     "execution_count": 175
    }
   ]
  },
  {
   "cell_type": "code",
   "source": [
    "B-A"
   ],
   "metadata": {
    "colab": {
     "base_uri": "https://localhost:8080/"
    },
    "id": "69QunlqA8GQS",
    "outputId": "eb5fc560-c799-40b4-8571-b3331a770e90"
   },
   "execution_count": null,
   "outputs": [
    {
     "output_type": "execute_result",
     "data": {
      "text/plain": [
       "{8, 9, 10}"
      ]
     },
     "metadata": {},
     "execution_count": 176
    }
   ]
  },
  {
   "cell_type": "code",
   "source": [
    "A = list(A)\n",
    "A"
   ],
   "metadata": {
    "colab": {
     "base_uri": "https://localhost:8080/"
    },
    "id": "x-JSpY088Jtn",
    "outputId": "3b983955-c7b3-4db5-be1d-7909185f76e2"
   },
   "execution_count": null,
   "outputs": [
    {
     "output_type": "execute_result",
     "data": {
      "text/plain": [
       "[1, 2, 3, 4, 5, 6, 7]"
      ]
     },
     "metadata": {},
     "execution_count": 177
    }
   ]
  },
  {
   "cell_type": "code",
   "source": [
    "A = set(A)\n",
    "A"
   ],
   "metadata": {
    "colab": {
     "base_uri": "https://localhost:8080/"
    },
    "id": "rk_tBSjs8RNw",
    "outputId": "0ba79916-9622-48ae-a1a4-ea16ad33e312"
   },
   "execution_count": null,
   "outputs": [
    {
     "output_type": "execute_result",
     "data": {
      "text/plain": [
       "{1, 2, 3, 4, 5, 6, 7}"
      ]
     },
     "metadata": {},
     "execution_count": 178
    }
   ]
  },
  {
   "cell_type": "markdown",
   "source": [
    "## Diccionarios"
   ],
   "metadata": {
    "id": "T59F9oPs8rLN"
   }
  },
  {
   "cell_type": "code",
   "source": [
    "RAE = dict()"
   ],
   "metadata": {
    "id": "mDa-FIUF8Rl8"
   },
   "execution_count": null,
   "outputs": []
  },
  {
   "cell_type": "code",
   "source": [
    "RAE = {\"caer\": \"acción y efecto de caerse\", \"derramar\": \"vertir un líquido\", \"trabajar\": \"labor que se hace para obtener el sustento\" }"
   ],
   "metadata": {
    "id": "RwtKlO0s8utM"
   },
   "execution_count": null,
   "outputs": []
  },
  {
   "cell_type": "code",
   "source": [
    "RAE['casa'] = \"lugar en el que habitan las personas\""
   ],
   "metadata": {
    "id": "WxlKjgwJ9BIa"
   },
   "execution_count": null,
   "outputs": []
  },
  {
   "cell_type": "code",
   "source": [
    "RAE"
   ],
   "metadata": {
    "colab": {
     "base_uri": "https://localhost:8080/"
    },
    "id": "gb0fwLLO9pby",
    "outputId": "10cd18e3-7ad5-4b20-9fa8-9c92157a787e"
   },
   "execution_count": null,
   "outputs": [
    {
     "output_type": "execute_result",
     "data": {
      "text/plain": [
       "{'caer': 'acción y efecto de caerse',\n",
       " 'derramar': 'vertir un líquido',\n",
       " 'trabajar': 'labor que se hace para obtener el sustento',\n",
       " 'casa': 'lugar en el que habitan las personas'}"
      ]
     },
     "metadata": {},
     "execution_count": 182
    }
   ]
  },
  {
   "cell_type": "code",
   "source": [
    "RAE['derramar']"
   ],
   "metadata": {
    "colab": {
     "base_uri": "https://localhost:8080/",
     "height": 35
    },
    "id": "upL3sgqN9vDY",
    "outputId": "3ad06cdc-9ace-462c-ee28-70806cfec759"
   },
   "execution_count": null,
   "outputs": [
    {
     "output_type": "execute_result",
     "data": {
      "text/plain": [
       "'vertir un líquido'"
      ],
      "application/vnd.google.colaboratory.intrinsic+json": {
       "type": "string"
      }
     },
     "metadata": {},
     "execution_count": 190
    }
   ]
  },
  {
   "cell_type": "code",
   "source": [
    "RAE.keys()"
   ],
   "metadata": {
    "colab": {
     "base_uri": "https://localhost:8080/"
    },
    "id": "xSa67Gbe9_gp",
    "outputId": "526bdc39-91f3-4441-c020-e11b81f46a05"
   },
   "execution_count": null,
   "outputs": [
    {
     "output_type": "execute_result",
     "data": {
      "text/plain": [
       "dict_keys(['caer', 'derramar', 'trabajar', 'casa'])"
      ]
     },
     "metadata": {},
     "execution_count": 184
    }
   ]
  },
  {
   "cell_type": "code",
   "source": [
    "RAE.values()"
   ],
   "metadata": {
    "colab": {
     "base_uri": "https://localhost:8080/"
    },
    "id": "F2coGMP5-CEU",
    "outputId": "fc5c3dcd-2752-4829-ebbd-dce756832acb"
   },
   "execution_count": null,
   "outputs": [
    {
     "output_type": "execute_result",
     "data": {
      "text/plain": [
       "dict_values(['acción y efecto de caerse', 'vertir un líquido', 'labor que se hace para obtener el sustento', 'lugar en el que habitan las personas'])"
      ]
     },
     "metadata": {},
     "execution_count": 185
    }
   ]
  },
  {
   "cell_type": "code",
   "source": [
    "CV = {\"nombre\":\"Fernando Aguilar\", \"edad\":27,\"ocupación\":\"estudiante doctoral\", \"pasatiempo\":\"leer\"}"
   ],
   "metadata": {
    "id": "dCEL_jVD93io"
   },
   "execution_count": null,
   "outputs": []
  },
  {
   "cell_type": "code",
   "source": [
    "CV['edad']"
   ],
   "metadata": {
    "colab": {
     "base_uri": "https://localhost:8080/"
    },
    "id": "zb7BqNCM-N1I",
    "outputId": "93c8505c-b2a3-4055-b0ad-06ceb776d690"
   },
   "execution_count": null,
   "outputs": [
    {
     "output_type": "execute_result",
     "data": {
      "text/plain": [
       "27"
      ]
     },
     "metadata": {},
     "execution_count": 187
    }
   ]
  },
  {
   "cell_type": "code",
   "source": [
    "CV['estudios'] = ['MCC','LM']"
   ],
   "metadata": {
    "id": "4d12rz-XT1mF"
   },
   "execution_count": null,
   "outputs": []
  },
  {
   "cell_type": "code",
   "source": [
    "CV"
   ],
   "metadata": {
    "colab": {
     "base_uri": "https://localhost:8080/"
    },
    "id": "pigTqlRwT69f",
    "outputId": "26464c9b-1938-49a1-84fa-688c2baccb3a"
   },
   "execution_count": null,
   "outputs": [
    {
     "output_type": "execute_result",
     "data": {
      "text/plain": [
       "{'nombre': 'Fernando Aguilar',\n",
       " 'edad': 27,\n",
       " 'ocupación': 'estudiante doctoral',\n",
       " 'pasatiempo': 'leer',\n",
       " 'grado de estudios': 'maestría',\n",
       " 'estudios': ['MCC', 'LM']}"
      ]
     },
     "metadata": {},
     "execution_count": 192
    }
   ]
  },
  {
   "cell_type": "markdown",
   "source": [
    "## Sentencia if"
   ],
   "metadata": {
    "id": "kJJEnS_Aye73"
   }
  },
  {
   "cell_type": "markdown",
   "source": [
    "![image.png](data:image/png;base64,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)"
   ],
   "metadata": {
    "id": "KJXVMMsiRQxD"
   }
  },
  {
   "cell_type": "code",
   "source": [
    "var_bool = True\n",
    "\n",
    "if var_bool:\n",
    "    print(\"hola\")\n",
    "else:\n",
    "    print(\"adiós\")"
   ],
   "metadata": {
    "colab": {
     "base_uri": "https://localhost:8080/"
    },
    "id": "PN6mzVnmRkdt",
    "outputId": "4c687f9d-30eb-4ef5-cb30-88edb0aaea9b"
   },
   "execution_count": null,
   "outputs": [
    {
     "output_type": "stream",
     "name": "stdout",
     "text": [
      "hola\n"
     ]
    }
   ]
  },
  {
   "cell_type": "code",
   "source": [
    "hora = 17\n",
    "if hora < 12:\n",
    "    print(\"Buenos días\")\n",
    "elif hora < 18:\n",
    "    print(\"Buenas tardes\")\n",
    "else:\n",
    "    print(\"Buenas noches\")"
   ],
   "metadata": {
    "id": "gTVZi17nWIaO"
   },
   "execution_count": null,
   "outputs": []
  },
  {
   "cell_type": "markdown",
   "source": [
    "Construyamos un programa que diga si una persona entra al antro o no."
   ],
   "metadata": {
    "id": "mpgvsRcvSyxz"
   }
  },
  {
   "cell_type": "code",
   "source": [
    "edad = input(\"Dime tu edad : \")\n",
    "edad = int(edad)\n",
    "\n",
    "if edad >= 18:\n",
    "    print(\"Puedes entrar:)\")\n",
    "else:\n",
    "    print(\"No puedes entrar\")"
   ],
   "metadata": {
    "colab": {
     "base_uri": "https://localhost:8080/"
    },
    "id": "IvwjtkDUSyOU",
    "outputId": "1ac17510-7161-4883-dd55-54f9fdfda155"
   },
   "execution_count": null,
   "outputs": [
    {
     "output_type": "stream",
     "name": "stdout",
     "text": [
      "Dime tu edad : 27\n",
      "Puedes entrar:)\n"
     ]
    }
   ]
  },
  {
   "cell_type": "code",
   "source": [
    "nat = input(\"Fecha de nacimiento en formato dd/mm/yyyy : \")\n",
    "hoy = \"05/04/2025\"\n"
   ],
   "metadata": {
    "colab": {
     "base_uri": "https://localhost:8080/"
    },
    "id": "yzl5PuCzUWU0",
    "outputId": "23ac2878-656e-4e68-f27a-c0a19b81c543"
   },
   "execution_count": null,
   "outputs": [
    {
     "name": "stdout",
     "output_type": "stream",
     "text": [
      "Fecha de nacimiento en formato dd/mm/yyyy : 20/07/2000\n"
     ]
    }
   ]
  },
  {
   "cell_type": "code",
   "source": [
    "nat[6:10]"
   ],
   "metadata": {
    "colab": {
     "base_uri": "https://localhost:8080/",
     "height": 35
    },
    "id": "yL0eS_JSVnNd",
    "outputId": "0d51dd58-66b1-4139-fad6-14ef0d3f6fca"
   },
   "execution_count": null,
   "outputs": [
    {
     "output_type": "execute_result",
     "data": {
      "text/plain": [
       "'2000'"
      ],
      "application/vnd.google.colaboratory.intrinsic+json": {
       "type": "string"
      }
     },
     "metadata": {},
     "execution_count": 197
    }
   ]
  },
  {
   "cell_type": "code",
   "source": [
    "dia_n = int(nat[0:2])\n",
    "mes_n = int(nat[3:5])\n",
    "año_n = int(nat[6:10])\n",
    "\n",
    "dia_h = int(hoy[0:2])\n",
    "mes_h = int(hoy[3:5])\n",
    "año_h = int(hoy[6:10])"
   ],
   "metadata": {
    "id": "-dMwWsnKVPUM"
   },
   "execution_count": null,
   "outputs": []
  },
  {
   "cell_type": "code",
   "source": [
    "edad = año_h - año_n\n",
    "if mes_n > mes_h:\n",
    "    edad -= 1\n",
    "elif mes_n == mes_h:\n",
    "    if dia_n > dia_h:\n",
    "        edad -= 1\n",
    "\n",
    "print(edad)"
   ],
   "metadata": {
    "colab": {
     "base_uri": "https://localhost:8080/"
    },
    "id": "rv3qAX-6Wd7F",
    "outputId": "2a0f4ce3-110e-48dc-aa86-143a7d37a7de"
   },
   "execution_count": null,
   "outputs": [
    {
     "output_type": "stream",
     "name": "stdout",
     "text": [
      "25\n"
     ]
    }
   ]
  },
  {
   "cell_type": "code",
   "source": [
    "if edad >= 21:\n",
    "    print(\"Puedes entrar:)\")\n",
    "elif edad > 30:\n",
    "    print(\"Ya estás viejo\")\n",
    "else:\n",
    "    print(\"No puedes entrar\")"
   ],
   "metadata": {
    "colab": {
     "base_uri": "https://localhost:8080/"
    },
    "id": "mHiaYZDsX0U_",
    "outputId": "c93df385-2f75-4ed6-df13-e170b1b365d6"
   },
   "execution_count": null,
   "outputs": [
    {
     "output_type": "stream",
     "name": "stdout",
     "text": [
      "Puedes entrar:)\n"
     ]
    }
   ]
  },
  {
   "cell_type": "markdown",
   "source": [
    "Realizar un programa que imprima \"hola, bienvenido\" si la entrada es una edad de una persona."
   ],
   "metadata": {
    "id": "k9Ouh2W8yKeD"
   }
  },
  {
   "cell_type": "code",
   "source": [
    "edad = '19'\n",
    "int(edad)"
   ],
   "metadata": {
    "id": "3bpc25w5ytay",
    "colab": {
     "base_uri": "https://localhost:8080/"
    },
    "outputId": "d6b30194-92f3-45fa-fb70-510eb76e9ec6"
   },
   "execution_count": null,
   "outputs": [
    {
     "output_type": "execute_result",
     "data": {
      "text/plain": [
       "19"
      ]
     },
     "metadata": {},
     "execution_count": 77
    }
   ]
  },
  {
   "cell_type": "code",
   "source": [
    "if (type(edad) == int or type(edad) == float) and 0 <= edad and edad <= 150:\n",
    "    print(\"hola, bienvenido\")\n",
    "else:\n",
    "    print('edad inválida')"
   ],
   "metadata": {
    "colab": {
     "base_uri": "https://localhost:8080/"
    },
    "id": "9JJ4Iwl0yJ5y",
    "outputId": "590df136-6b4f-45bc-e4c1-0d5141ec3017"
   },
   "execution_count": null,
   "outputs": [
    {
     "output_type": "stream",
     "name": "stdout",
     "text": [
      "edad inválida\n"
     ]
    }
   ]
  },
  {
   "cell_type": "code",
   "source": [
    "edad = 27"
   ],
   "metadata": {
    "id": "FGYEPC7s69NS"
   },
   "execution_count": null,
   "outputs": []
  },
  {
   "cell_type": "code",
   "source": [
    "if 0 <= edad:\n",
    "    if edad <= 12:\n",
    "        print(\"eres un niño\")\n",
    "    elif edad < 18:\n",
    "        print(\"eres un adolescente\")\n",
    "    elif edad < 40:\n",
    "        print(\"eres joven\")\n",
    "    else:\n",
    "        print(\"eres adulto mayor\")\n",
    "\n",
    "\n",
    "else:\n",
    "  print(\"edad inválida\")"
   ],
   "metadata": {
    "colab": {
     "base_uri": "https://localhost:8080/"
    },
    "id": "Zdk6DF8W5mJF",
    "outputId": "6064d011-dd3b-4c54-8562-8c4c0ef4c1d0"
   },
   "execution_count": null,
   "outputs": [
    {
     "output_type": "stream",
     "name": "stdout",
     "text": [
      "eres joven\n"
     ]
    }
   ]
  },
  {
   "cell_type": "markdown",
   "source": [
    "Haga un código equivalente sin utilizar anidamiento de if's."
   ],
   "metadata": {
    "id": "cE5c4nDoFu3-"
   }
  },
  {
   "cell_type": "markdown",
   "source": [
    "## Sentencia while"
   ],
   "metadata": {
    "id": "zcPOjvI17M-y"
   }
  },
  {
   "cell_type": "markdown",
   "source": [
    "![image.png](data:image/png;base64,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)"
   ],
   "metadata": {
    "id": "9sVYKMSFRaZR"
   }
  },
  {
   "cell_type": "code",
   "source": [
    "k = 0\n",
    "\n",
    "while k < 10:\n",
    "    print(k,'hola')\n",
    "    k += 1 # k = k + 1"
   ],
   "metadata": {
    "colab": {
     "base_uri": "https://localhost:8080/"
    },
    "id": "ETEcOWkW7MQU",
    "outputId": "ab5fe428-528a-492d-814c-d5ed051d9adc"
   },
   "execution_count": null,
   "outputs": [
    {
     "output_type": "stream",
     "name": "stdout",
     "text": [
      "0 hola\n",
      "1 hola\n",
      "2 hola\n",
      "3 hola\n",
      "4 hola\n",
      "5 hola\n",
      "6 hola\n",
      "7 hola\n",
      "8 hola\n",
      "9 hola\n"
     ]
    }
   ]
  },
  {
   "cell_type": "code",
   "source": [
    "k"
   ],
   "metadata": {
    "colab": {
     "base_uri": "https://localhost:8080/"
    },
    "id": "SM-CQ7pWlqhI",
    "outputId": "30d154d3-cdcd-4a82-a8f2-844b9d71930b"
   },
   "execution_count": null,
   "outputs": [
    {
     "output_type": "execute_result",
     "data": {
      "text/plain": [
       "10"
      ]
     },
     "metadata": {},
     "execution_count": 212
    }
   ]
  },
  {
   "cell_type": "code",
   "source": [
    "k = 0\n",
    "\n",
    "while k < 10:\n",
    "    print(k,'hola')"
   ],
   "metadata": {
    "colab": {
     "base_uri": "https://localhost:8080/",
     "height": 1000
    },
    "id": "Xwfl0zvxgjiF",
    "outputId": "40e1c59e-be1c-40b2-f2e9-99dcfd6ea73a"
   },
   "execution_count": null,
   "outputs": [
    {
     "output_type": "stream",
     "name": "stdout",
     "text": [
      "\u001B[1;30;43mSe truncaron las últimas líneas 5000 del resultado de transmisión.\u001B[0m\n",
      "0 hola\n",
      "0 hola\n",
      "0 hola\n",
      "0 hola\n",
      "0 hola\n",
      "0 hola\n",
      "0 hola\n",
      "0 hola\n",
      "0 hola\n",
      "0 hola\n",
      "0 hola\n",
      "0 hola\n",
      "0 hola\n",
      "0 hola\n",
      "0 hola\n",
      "0 hola\n",
      "0 hola\n",
      "0 hola\n",
      "0 hola\n",
      "0 hola\n",
      "0 hola\n",
      "0 hola\n",
      "0 hola\n",
      "0 hola\n",
      "0 hola\n",
      "0 hola\n",
      "0 hola\n",
      "0 hola\n",
      "0 hola\n",
      "0 hola\n",
      "0 hola\n",
      "0 hola\n",
      "0 hola\n",
      "0 hola\n",
      "0 hola\n",
      "0 hola\n",
      "0 hola\n",
      "0 hola\n",
      "0 hola\n",
      "0 hola\n",
      "0 hola\n",
      "0 hola\n",
      "0 hola\n",
      "0 hola\n",
      "0 hola\n",
      "0 hola\n",
      "0 hola\n",
      "0 hola\n",
      "0 hola\n",
      "0 hola\n",
      "0 hola\n",
      "0 hola\n",
      "0 hola\n",
      "0 hola\n",
      "0 hola\n",
      "0 hola\n",
      "0 hola\n",
      "0 hola\n",
      "0 hola\n",
      "0 hola\n",
      "0 hola\n",
      "0 hola\n",
      "0 hola\n",
      "0 hola\n",
      "0 hola\n",
      "0 hola\n",
      "0 hola\n",
      "0 hola\n",
      "0 hola\n",
      "0 hola\n",
      "0 hola\n",
      "0 hola\n",
      "0 hola\n",
      "0 hola\n",
      "0 hola\n",
      "0 hola\n",
      "0 hola\n",
      "0 hola\n",
      "0 hola\n",
      "0 hola\n",
      "0 hola\n",
      "0 hola\n",
      "0 hola\n",
      "0 hola\n",
      "0 hola\n",
      "0 hola\n",
      "0 hola\n",
      "0 hola\n",
      "0 hola\n",
      "0 hola\n",
      "0 hola\n",
      "0 hola\n",
      "0 hola\n",
      "0 hola\n",
      "0 hola\n",
      "0 hola\n",
      "0 hola\n",
      "0 hola\n",
      "0 hola\n",
      "0 hola\n",
      "0 hola\n",
      "0 hola\n",
      "0 hola\n",
      "0 hola\n",
      "0 hola\n",
      "0 hola\n",
      "0 hola\n",
      "0 hola\n",
      "0 hola\n",
      "0 hola\n",
      "0 hola\n",
      "0 hola\n",
      "0 hola\n",
      "0 hola\n",
      "0 hola\n",
      "0 hola\n",
      "0 hola\n",
      "0 hola\n",
      "0 hola\n",
      "0 hola\n",
      "0 hola\n",
      "0 hola\n",
      "0 hola\n",
      "0 hola\n",
      "0 hola\n",
      "0 hola\n",
      "0 hola\n",
      "0 hola\n",
      "0 hola\n",
      "0 hola\n",
      "0 hola\n",
      "0 hola\n",
      "0 hola\n",
      "0 hola\n",
      "0 hola\n",
      "0 hola\n",
      "0 hola\n",
      "0 hola\n",
      "0 hola\n",
      "0 hola\n",
      "0 hola\n",
      "0 hola\n",
      "0 hola\n",
      "0 hola\n",
      "0 hola\n",
      "0 hola\n",
      "0 hola\n",
      "0 hola\n",
      "0 hola\n",
      "0 hola\n",
      "0 hola\n",
      "0 hola\n",
      "0 hola\n",
      "0 hola\n",
      "0 hola\n",
      "0 hola\n",
      "0 hola\n",
      "0 hola\n",
      "0 hola\n",
      "0 hola\n",
      "0 hola\n",
      "0 hola\n",
      "0 hola\n",
      "0 hola\n",
      "0 hola\n",
      "0 hola\n",
      "0 hola\n",
      "0 hola\n",
      "0 hola\n",
      "0 hola\n",
      "0 hola\n",
      "0 hola\n",
      "0 hola\n",
      "0 hola\n",
      "0 hola\n",
      "0 hola\n",
      "0 hola\n",
      "0 hola\n",
      "0 hola\n",
      "0 hola\n",
      "0 hola\n",
      "0 hola\n",
      "0 hola\n",
      "0 hola\n",
      "0 hola\n",
      "0 hola\n",
      "0 hola\n",
      "0 hola\n",
      "0 hola\n",
      "0 hola\n",
      "0 hola\n",
      "0 hola\n",
      "0 hola\n",
      "0 hola\n",
      "0 hola\n",
      "0 hola\n",
      "0 hola\n",
      "0 hola\n",
      "0 hola\n",
      "0 hola\n",
      "0 hola\n",
      "0 hola\n",
      "0 hola\n",
      "0 hola\n",
      "0 hola\n",
      "0 hola\n",
      "0 hola\n",
      "0 hola\n",
      "0 hola\n",
      "0 hola\n",
      "0 hola\n",
      "0 hola\n",
      "0 hola\n",
      "0 hola\n",
      "0 hola\n",
      "0 hola\n",
      "0 hola\n",
      "0 hola\n",
      "0 hola\n",
      "0 hola\n",
      "0 hola\n",
      "0 hola\n",
      "0 hola\n",
      "0 hola\n",
      "0 hola\n",
      "0 hola\n",
      "0 hola\n",
      "0 hola\n",
      "0 hola\n",
      "0 hola\n",
      "0 hola\n",
      "0 hola\n",
      "0 hola\n",
      "0 hola\n",
      "0 hola\n",
      "0 hola\n",
      "0 hola\n",
      "0 hola\n",
      "0 hola\n",
      "0 hola\n",
      "0 hola\n",
      "0 hola\n",
      "0 hola\n",
      "0 hola\n",
      "0 hola\n",
      "0 hola\n",
      "0 hola\n",
      "0 hola\n",
      "0 hola\n",
      "0 hola\n",
      "0 hola\n",
      "0 hola\n",
      "0 hola\n",
      "0 hola\n",
      "0 hola\n",
      "0 hola\n",
      "0 hola\n",
      "0 hola\n",
      "0 hola\n",
      "0 hola\n",
      "0 hola\n",
      "0 hola\n",
      "0 hola\n",
      "0 hola\n",
      "0 hola\n",
      "0 hola\n",
      "0 hola\n",
      "0 hola\n",
      "0 hola\n",
      "0 hola\n",
      "0 hola\n",
      "0 hola\n",
      "0 hola\n",
      "0 hola\n",
      "0 hola\n",
      "0 hola\n",
      "0 hola\n",
      "0 hola\n",
      "0 hola\n",
      "0 hola\n",
      "0 hola\n",
      "0 hola\n",
      "0 hola\n",
      "0 hola\n",
      "0 hola\n",
      "0 hola\n",
      "0 hola\n",
      "0 hola\n",
      "0 hola\n",
      "0 hola\n",
      "0 hola\n",
      "0 hola\n",
      "0 hola\n",
      "0 hola\n",
      "0 hola\n",
      "0 hola\n",
      "0 hola\n",
      "0 hola\n",
      "0 hola\n",
      "0 hola\n",
      "0 hola\n",
      "0 hola\n",
      "0 hola\n",
      "0 hola\n",
      "0 hola\n",
      "0 hola\n",
      "0 hola\n",
      "0 hola\n",
      "0 hola\n",
      "0 hola\n",
      "0 hola\n",
      "0 hola\n",
      "0 hola\n",
      "0 hola\n",
      "0 hola\n",
      "0 hola\n",
      "0 hola\n",
      "0 hola\n",
      "0 hola\n",
      "0 hola\n",
      "0 hola\n",
      "0 hola\n",
      "0 hola\n",
      "0 hola\n",
      "0 hola\n",
      "0 hola\n",
      "0 hola\n",
      "0 hola\n",
      "0 hola\n",
      "0 hola\n",
      "0 hola\n",
      "0 hola\n",
      "0 hola\n",
      "0 hola\n",
      "0 hola\n",
      "0 hola\n",
      "0 hola\n",
      "0 hola\n",
      "0 hola\n",
      "0 hola\n",
      "0 hola\n",
      "0 hola\n",
      "0 hola\n",
      "0 hola\n",
      "0 hola\n",
      "0 hola\n",
      "0 hola\n",
      "0 hola\n",
      "0 hola\n",
      "0 hola\n",
      "0 hola\n",
      "0 hola\n",
      "0 hola\n",
      "0 hola\n",
      "0 hola\n",
      "0 hola\n",
      "0 hola\n",
      "0 hola\n",
      "0 hola\n",
      "0 hola\n",
      "0 hola\n",
      "0 hola\n",
      "0 hola\n",
      "0 hola\n",
      "0 hola\n",
      "0 hola\n",
      "0 hola\n",
      "0 hola\n",
      "0 hola\n",
      "0 hola\n",
      "0 hola\n",
      "0 hola\n",
      "0 hola\n",
      "0 hola\n",
      "0 hola\n",
      "0 hola\n",
      "0 hola\n",
      "0 hola\n",
      "0 hola\n",
      "0 hola\n",
      "0 hola\n",
      "0 hola\n",
      "0 hola\n",
      "0 hola\n",
      "0 hola\n",
      "0 hola\n",
      "0 hola\n",
      "0 hola\n",
      "0 hola\n",
      "0 hola\n",
      "0 hola\n",
      "0 hola\n",
      "0 hola\n",
      "0 hola\n",
      "0 hola\n",
      "0 hola\n",
      "0 hola\n",
      "0 hola\n",
      "0 hola\n",
      "0 hola\n",
      "0 hola\n",
      "0 hola\n",
      "0 hola\n",
      "0 hola\n",
      "0 hola\n",
      "0 hola\n",
      "0 hola\n",
      "0 hola\n",
      "0 hola\n",
      "0 hola\n",
      "0 hola\n",
      "0 hola\n",
      "0 hola\n",
      "0 hola\n",
      "0 hola\n",
      "0 hola\n",
      "0 hola\n",
      "0 hola\n",
      "0 hola\n",
      "0 hola\n",
      "0 hola\n",
      "0 hola\n",
      "0 hola\n",
      "0 hola\n",
      "0 hola\n",
      "0 hola\n",
      "0 hola\n",
      "0 hola\n",
      "0 hola\n",
      "0 hola\n",
      "0 hola\n",
      "0 hola\n",
      "0 hola\n",
      "0 hola\n",
      "0 hola\n",
      "0 hola\n",
      "0 hola\n",
      "0 hola\n",
      "0 hola\n",
      "0 hola\n",
      "0 hola\n",
      "0 hola\n",
      "0 hola\n",
      "0 hola\n",
      "0 hola\n",
      "0 hola\n",
      "0 hola\n",
      "0 hola\n",
      "0 hola\n",
      "0 hola\n",
      "0 hola\n",
      "0 hola\n",
      "0 hola\n",
      "0 hola\n",
      "0 hola\n",
      "0 hola\n",
      "0 hola\n",
      "0 hola\n",
      "0 hola\n",
      "0 hola\n",
      "0 hola\n",
      "0 hola\n",
      "0 hola\n",
      "0 hola\n",
      "0 hola\n",
      "0 hola\n",
      "0 hola\n",
      "0 hola\n",
      "0 hola\n",
      "0 hola\n",
      "0 hola\n",
      "0 hola\n",
      "0 hola\n",
      "0 hola\n",
      "0 hola\n",
      "0 hola\n",
      "0 hola\n",
      "0 hola\n",
      "0 hola\n",
      "0 hola\n",
      "0 hola\n",
      "0 hola\n",
      "0 hola\n",
      "0 hola\n",
      "0 hola\n",
      "0 hola\n",
      "0 hola\n",
      "0 hola\n",
      "0 hola\n",
      "0 hola\n",
      "0 hola\n",
      "0 hola\n",
      "0 hola\n",
      "0 hola\n",
      "0 hola\n",
      "0 hola\n",
      "0 hola\n",
      "0 hola\n",
      "0 hola\n",
      "0 hola\n",
      "0 hola\n",
      "0 hola\n",
      "0 hola\n",
      "0 hola\n",
      "0 hola\n",
      "0 hola\n",
      "0 hola\n",
      "0 hola\n",
      "0 hola\n",
      "0 hola\n",
      "0 hola\n",
      "0 hola\n",
      "0 hola\n",
      "0 hola\n",
      "0 hola\n",
      "0 hola\n",
      "0 hola\n",
      "0 hola\n",
      "0 hola\n",
      "0 hola\n",
      "0 hola\n",
      "0 hola\n",
      "0 hola\n",
      "0 hola\n",
      "0 hola\n",
      "0 hola\n",
      "0 hola\n",
      "0 hola\n",
      "0 hola\n",
      "0 hola\n",
      "0 hola\n",
      "0 hola\n",
      "0 hola\n",
      "0 hola\n",
      "0 hola\n",
      "0 hola\n",
      "0 hola\n",
      "0 hola\n",
      "0 hola\n",
      "0 hola\n",
      "0 hola\n",
      "0 hola\n",
      "0 hola\n",
      "0 hola\n",
      "0 hola\n",
      "0 hola\n",
      "0 hola\n",
      "0 hola\n",
      "0 hola\n",
      "0 hola\n",
      "0 hola\n",
      "0 hola\n",
      "0 hola\n",
      "0 hola\n",
      "0 hola\n",
      "0 hola\n",
      "0 hola\n",
      "0 hola\n",
      "0 hola\n",
      "0 hola\n",
      "0 hola\n",
      "0 hola\n",
      "0 hola\n",
      "0 hola\n",
      "0 hola\n",
      "0 hola\n",
      "0 hola\n",
      "0 hola\n",
      "0 hola\n",
      "0 hola\n",
      "0 hola\n",
      "0 hola\n",
      "0 hola\n",
      "0 hola\n",
      "0 hola\n",
      "0 hola\n",
      "0 hola\n",
      "0 hola\n",
      "0 hola\n",
      "0 hola\n",
      "0 hola\n",
      "0 hola\n",
      "0 hola\n",
      "0 hola\n",
      "0 hola\n",
      "0 hola\n",
      "0 hola\n",
      "0 hola\n",
      "0 hola\n",
      "0 hola\n",
      "0 hola\n",
      "0 hola\n",
      "0 hola\n",
      "0 hola\n",
      "0 hola\n",
      "0 hola\n",
      "0 hola\n",
      "0 hola\n",
      "0 hola\n",
      "0 hola\n",
      "0 hola\n",
      "0 hola\n",
      "0 hola\n",
      "0 hola\n",
      "0 hola\n",
      "0 hola\n",
      "0 hola\n",
      "0 hola\n",
      "0 hola\n",
      "0 hola\n",
      "0 hola\n",
      "0 hola\n",
      "0 hola\n",
      "0 hola\n",
      "0 hola\n",
      "0 hola\n",
      "0 hola\n",
      "0 hola\n",
      "0 hola\n",
      "0 hola\n",
      "0 hola\n",
      "0 hola\n",
      "0 hola\n",
      "0 hola\n",
      "0 hola\n",
      "0 hola\n",
      "0 hola\n",
      "0 hola\n",
      "0 hola\n",
      "0 hola\n",
      "0 hola\n",
      "0 hola\n",
      "0 hola\n",
      "0 hola\n",
      "0 hola\n",
      "0 hola\n",
      "0 hola\n",
      "0 hola\n",
      "0 hola\n",
      "0 hola\n",
      "0 hola\n",
      "0 hola\n",
      "0 hola\n",
      "0 hola\n",
      "0 hola\n",
      "0 hola\n",
      "0 hola\n",
      "0 hola\n",
      "0 hola\n",
      "0 hola\n",
      "0 hola\n",
      "0 hola\n",
      "0 hola\n",
      "0 hola\n",
      "0 hola\n",
      "0 hola\n",
      "0 hola\n",
      "0 hola\n",
      "0 hola\n",
      "0 hola\n",
      "0 hola\n",
      "0 hola\n",
      "0 hola\n",
      "0 hola\n",
      "0 hola\n",
      "0 hola\n",
      "0 hola\n",
      "0 hola\n",
      "0 hola\n",
      "0 hola\n",
      "0 hola\n",
      "0 hola\n",
      "0 hola\n",
      "0 hola\n",
      "0 hola\n",
      "0 hola\n",
      "0 hola\n",
      "0 hola\n",
      "0 hola\n",
      "0 hola\n",
      "0 hola\n",
      "0 hola\n",
      "0 hola\n",
      "0 hola\n",
      "0 hola\n",
      "0 hola\n",
      "0 hola\n",
      "0 hola\n",
      "0 hola\n",
      "0 hola\n",
      "0 hola\n",
      "0 hola\n",
      "0 hola\n",
      "0 hola\n",
      "0 hola\n",
      "0 hola\n",
      "0 hola\n",
      "0 hola\n",
      "0 hola\n",
      "0 hola\n",
      "0 hola\n",
      "0 hola\n",
      "0 hola\n",
      "0 hola\n",
      "0 hola\n",
      "0 hola\n",
      "0 hola\n",
      "0 hola\n",
      "0 hola\n",
      "0 hola\n",
      "0 hola\n",
      "0 hola\n",
      "0 hola\n",
      "0 hola\n",
      "0 hola\n",
      "0 hola\n",
      "0 hola\n",
      "0 hola\n",
      "0 hola\n",
      "0 hola\n",
      "0 hola\n",
      "0 hola\n",
      "0 hola\n",
      "0 hola\n",
      "0 hola\n",
      "0 hola\n",
      "0 hola\n",
      "0 hola\n",
      "0 hola\n",
      "0 hola\n",
      "0 hola\n",
      "0 hola\n",
      "0 hola\n",
      "0 hola\n",
      "0 hola\n",
      "0 hola\n",
      "0 hola\n",
      "0 hola\n",
      "0 hola\n",
      "0 hola\n",
      "0 hola\n",
      "0 hola\n",
      "0 hola\n",
      "0 hola\n",
      "0 hola\n",
      "0 hola\n",
      "0 hola\n",
      "0 hola\n",
      "0 hola\n",
      "0 hola\n",
      "0 hola\n",
      "0 hola\n",
      "0 hola\n",
      "0 hola\n",
      "0 hola\n",
      "0 hola\n",
      "0 hola\n",
      "0 hola\n",
      "0 hola\n",
      "0 hola\n",
      "0 hola\n",
      "0 hola\n",
      "0 hola\n",
      "0 hola\n",
      "0 hola\n",
      "0 hola\n",
      "0 hola\n",
      "0 hola\n",
      "0 hola\n",
      "0 hola\n",
      "0 hola\n",
      "0 hola\n",
      "0 hola\n",
      "0 hola\n",
      "0 hola\n",
      "0 hola\n",
      "0 hola\n",
      "0 hola\n",
      "0 hola\n",
      "0 hola\n",
      "0 hola\n",
      "0 hola\n",
      "0 hola\n",
      "0 hola\n",
      "0 hola\n",
      "0 hola\n",
      "0 hola\n",
      "0 hola\n",
      "0 hola\n",
      "0 hola\n",
      "0 hola\n",
      "0 hola\n",
      "0 hola\n",
      "0 hola\n",
      "0 hola\n",
      "0 hola\n",
      "0 hola\n",
      "0 hola\n",
      "0 hola\n",
      "0 hola\n",
      "0 hola\n",
      "0 hola\n",
      "0 hola\n",
      "0 hola\n",
      "0 hola\n",
      "0 hola\n",
      "0 hola\n",
      "0 hola\n",
      "0 hola\n",
      "0 hola\n",
      "0 hola\n",
      "0 hola\n",
      "0 hola\n",
      "0 hola\n",
      "0 hola\n",
      "0 hola\n",
      "0 hola\n",
      "0 hola\n",
      "0 hola\n",
      "0 hola\n",
      "0 hola\n",
      "0 hola\n",
      "0 hola\n",
      "0 hola\n",
      "0 hola\n",
      "0 hola\n",
      "0 hola\n",
      "0 hola\n",
      "0 hola\n",
      "0 hola\n",
      "0 hola\n",
      "0 hola\n",
      "0 hola\n",
      "0 hola\n",
      "0 hola\n",
      "0 hola\n",
      "0 hola\n",
      "0 hola\n",
      "0 hola\n",
      "0 hola\n",
      "0 hola\n",
      "0 hola\n",
      "0 hola\n",
      "0 hola\n",
      "0 hola\n",
      "0 hola\n",
      "0 hola\n",
      "0 hola\n",
      "0 hola\n",
      "0 hola\n",
      "0 hola\n",
      "0 hola\n",
      "0 hola\n",
      "0 hola\n",
      "0 hola\n",
      "0 hola\n",
      "0 hola\n",
      "0 hola\n",
      "0 hola\n",
      "0 hola\n",
      "0 hola\n",
      "0 hola\n",
      "0 hola\n",
      "0 hola\n",
      "0 hola\n",
      "0 hola\n",
      "0 hola\n",
      "0 hola\n",
      "0 hola\n",
      "0 hola\n",
      "0 hola\n",
      "0 hola\n",
      "0 hola\n",
      "0 hola\n",
      "0 hola\n",
      "0 hola\n",
      "0 hola\n",
      "0 hola\n",
      "0 hola\n",
      "0 hola\n",
      "0 hola\n",
      "0 hola\n",
      "0 hola\n",
      "0 hola\n",
      "0 hola\n",
      "0 hola\n",
      "0 hola\n",
      "0 hola\n",
      "0 hola\n",
      "0 hola\n",
      "0 hola\n",
      "0 hola\n",
      "0 hola\n",
      "0 hola\n",
      "0 hola\n",
      "0 hola\n",
      "0 hola\n",
      "0 hola\n",
      "0 hola\n",
      "0 hola\n",
      "0 hola\n",
      "0 hola\n",
      "0 hola\n",
      "0 hola\n",
      "0 hola\n",
      "0 hola\n",
      "0 hola\n",
      "0 hola\n",
      "0 hola\n",
      "0 hola\n",
      "0 hola\n",
      "0 hola\n",
      "0 hola\n",
      "0 hola\n",
      "0 hola\n",
      "0 hola\n",
      "0 hola\n",
      "0 hola\n",
      "0 hola\n",
      "0 hola\n",
      "0 hola\n",
      "0 hola\n",
      "0 hola\n",
      "0 hola\n",
      "0 hola\n",
      "0 hola\n",
      "0 hola\n",
      "0 hola\n",
      "0 hola\n",
      "0 hola\n",
      "0 hola\n",
      "0 hola\n",
      "0 hola\n",
      "0 hola\n",
      "0 hola\n",
      "0 hola\n",
      "0 hola\n",
      "0 hola\n",
      "0 hola\n",
      "0 hola\n",
      "0 hola\n",
      "0 hola\n",
      "0 hola\n",
      "0 hola\n",
      "0 hola\n",
      "0 hola\n",
      "0 hola\n",
      "0 hola\n",
      "0 hola\n",
      "0 hola\n",
      "0 hola\n",
      "0 hola\n",
      "0 hola\n",
      "0 hola\n",
      "0 hola\n",
      "0 hola\n",
      "0 hola\n",
      "0 hola\n",
      "0 hola\n",
      "0 hola\n",
      "0 hola\n",
      "0 hola\n",
      "0 hola\n",
      "0 hola\n",
      "0 hola\n",
      "0 hola\n",
      "0 hola\n",
      "0 hola\n",
      "0 hola\n",
      "0 hola\n",
      "0 hola\n",
      "0 hola\n",
      "0 hola\n",
      "0 hola\n",
      "0 hola\n",
      "0 hola\n",
      "0 hola\n",
      "0 hola\n",
      "0 hola\n",
      "0 hola\n",
      "0 hola\n",
      "0 hola\n",
      "0 hola\n",
      "0 hola\n",
      "0 hola\n",
      "0 hola\n",
      "0 hola\n",
      "0 hola\n",
      "0 hola\n",
      "0 hola\n",
      "0 hola\n",
      "0 hola\n",
      "0 hola\n",
      "0 hola\n",
      "0 hola\n",
      "0 hola\n",
      "0 hola\n",
      "0 hola\n",
      "0 hola\n",
      "0 hola\n",
      "0 hola\n",
      "0 hola\n",
      "0 hola\n",
      "0 hola\n",
      "0 hola\n",
      "0 hola\n",
      "0 hola\n",
      "0 hola\n",
      "0 hola\n",
      "0 hola\n",
      "0 hola\n",
      "0 hola\n",
      "0 hola\n",
      "0 hola\n",
      "0 hola\n",
      "0 hola\n",
      "0 hola\n",
      "0 hola\n",
      "0 hola\n",
      "0 hola\n",
      "0 hola\n",
      "0 hola\n",
      "0 hola\n",
      "0 hola\n",
      "0 hola\n",
      "0 hola\n",
      "0 hola\n",
      "0 hola\n",
      "0 hola\n",
      "0 hola\n",
      "0 hola\n",
      "0 hola\n",
      "0 hola\n",
      "0 hola\n",
      "0 hola\n",
      "0 hola\n",
      "0 hola\n",
      "0 hola\n",
      "0 hola\n",
      "0 hola\n",
      "0 hola\n",
      "0 hola\n",
      "0 hola\n",
      "0 hola\n",
      "0 hola\n",
      "0 hola\n",
      "0 hola\n",
      "0 hola\n",
      "0 hola\n",
      "0 hola\n",
      "0 hola\n",
      "0 hola\n",
      "0 hola\n",
      "0 hola\n",
      "0 hola\n",
      "0 hola\n",
      "0 hola\n",
      "0 hola\n",
      "0 hola\n",
      "0 hola\n",
      "0 hola\n",
      "0 hola\n",
      "0 hola\n",
      "0 hola\n",
      "0 hola\n",
      "0 hola\n",
      "0 hola\n",
      "0 hola\n",
      "0 hola\n",
      "0 hola\n",
      "0 hola\n",
      "0 hola\n",
      "0 hola\n",
      "0 hola\n",
      "0 hola\n",
      "0 hola\n",
      "0 hola\n",
      "0 hola\n",
      "0 hola\n",
      "0 hola\n",
      "0 hola\n",
      "0 hola\n",
      "0 hola\n",
      "0 hola\n",
      "0 hola\n",
      "0 hola\n",
      "0 hola\n",
      "0 hola\n",
      "0 hola\n",
      "0 hola\n",
      "0 hola\n",
      "0 hola\n",
      "0 hola\n",
      "0 hola\n",
      "0 hola\n",
      "0 hola\n",
      "0 hola\n",
      "0 hola\n",
      "0 hola\n",
      "0 hola\n",
      "0 hola\n",
      "0 hola\n",
      "0 hola\n",
      "0 hola\n",
      "0 hola\n",
      "0 hola\n",
      "0 hola\n",
      "0 hola\n",
      "0 hola\n",
      "0 hola\n",
      "0 hola\n",
      "0 hola\n",
      "0 hola\n",
      "0 hola\n",
      "0 hola\n",
      "0 hola\n",
      "0 hola\n",
      "0 hola\n",
      "0 hola\n",
      "0 hola\n",
      "0 hola\n",
      "0 hola\n",
      "0 hola\n",
      "0 hola\n",
      "0 hola\n",
      "0 hola\n",
      "0 hola\n",
      "0 hola\n",
      "0 hola\n",
      "0 hola\n",
      "0 hola\n",
      "0 hola\n",
      "0 hola\n",
      "0 hola\n",
      "0 hola\n",
      "0 hola\n",
      "0 hola\n",
      "0 hola\n",
      "0 hola\n",
      "0 hola\n",
      "0 hola\n",
      "0 hola\n",
      "0 hola\n",
      "0 hola\n",
      "0 hola\n",
      "0 hola\n",
      "0 hola\n",
      "0 hola\n",
      "0 hola\n",
      "0 hola\n",
      "0 hola\n",
      "0 hola\n",
      "0 hola\n",
      "0 hola\n",
      "0 hola\n",
      "0 hola\n",
      "0 hola\n",
      "0 hola\n",
      "0 hola\n",
      "0 hola\n",
      "0 hola\n",
      "0 hola\n",
      "0 hola\n",
      "0 hola\n",
      "0 hola\n",
      "0 hola\n",
      "0 hola\n",
      "0 hola\n",
      "0 hola\n",
      "0 hola\n",
      "0 hola\n",
      "0 hola\n",
      "0 hola\n",
      "0 hola\n",
      "0 hola\n",
      "0 hola\n",
      "0 hola\n",
      "0 hola\n",
      "0 hola\n",
      "0 hola\n",
      "0 hola\n",
      "0 hola\n",
      "0 hola\n",
      "0 hola\n",
      "0 hola\n",
      "0 hola\n",
      "0 hola\n",
      "0 hola\n",
      "0 hola\n",
      "0 hola\n",
      "0 hola\n",
      "0 hola\n",
      "0 hola\n",
      "0 hola\n",
      "0 hola\n",
      "0 hola\n",
      "0 hola\n",
      "0 hola\n",
      "0 hola\n",
      "0 hola\n",
      "0 hola\n",
      "0 hola\n",
      "0 hola\n",
      "0 hola\n",
      "0 hola\n",
      "0 hola\n",
      "0 hola\n",
      "0 hola\n",
      "0 hola\n",
      "0 hola\n",
      "0 hola\n",
      "0 hola\n",
      "0 hola\n",
      "0 hola\n",
      "0 hola\n",
      "0 hola\n",
      "0 hola\n",
      "0 hola\n",
      "0 hola\n",
      "0 hola\n",
      "0 hola\n",
      "0 hola\n",
      "0 hola\n",
      "0 hola\n",
      "0 hola\n",
      "0 hola\n",
      "0 hola\n",
      "0 hola\n",
      "0 hola\n",
      "0 hola\n",
      "0 hola\n",
      "0 hola\n",
      "0 hola\n",
      "0 hola\n",
      "0 hola\n",
      "0 hola\n",
      "0 hola\n",
      "0 hola\n",
      "0 hola\n",
      "0 hola\n",
      "0 hola\n",
      "0 hola\n",
      "0 hola\n",
      "0 hola\n",
      "0 hola\n",
      "0 hola\n",
      "0 hola\n",
      "0 hola\n",
      "0 hola\n",
      "0 hola\n",
      "0 hola\n",
      "0 hola\n",
      "0 hola\n",
      "0 hola\n",
      "0 hola\n",
      "0 hola\n",
      "0 hola\n",
      "0 hola\n",
      "0 hola\n",
      "0 hola\n",
      "0 hola\n",
      "0 hola\n",
      "0 hola\n",
      "0 hola\n",
      "0 hola\n",
      "0 hola\n",
      "0 hola\n",
      "0 hola\n",
      "0 hola\n",
      "0 hola\n",
      "0 hola\n",
      "0 hola\n",
      "0 hola\n",
      "0 hola\n",
      "0 hola\n",
      "0 hola\n",
      "0 hola\n",
      "0 hola\n",
      "0 hola\n",
      "0 hola\n",
      "0 hola\n",
      "0 hola\n",
      "0 hola\n",
      "0 hola\n",
      "0 hola\n",
      "0 hola\n",
      "0 hola\n",
      "0 hola\n",
      "0 hola\n",
      "0 hola\n",
      "0 hola\n",
      "0 hola\n",
      "0 hola\n",
      "0 hola\n",
      "0 hola\n",
      "0 hola\n",
      "0 hola\n",
      "0 hola\n",
      "0 hola\n",
      "0 hola\n",
      "0 hola\n",
      "0 hola\n",
      "0 hola\n",
      "0 hola\n",
      "0 hola\n",
      "0 hola\n",
      "0 hola\n",
      "0 hola\n",
      "0 hola\n",
      "0 hola\n",
      "0 hola\n",
      "0 hola\n",
      "0 hola\n",
      "0 hola\n",
      "0 hola\n",
      "0 hola\n",
      "0 hola\n",
      "0 hola\n",
      "0 hola\n",
      "0 hola\n",
      "0 hola\n",
      "0 hola\n",
      "0 hola\n",
      "0 hola\n",
      "0 hola\n",
      "0 hola\n",
      "0 hola\n",
      "0 hola\n",
      "0 hola\n",
      "0 hola\n",
      "0 hola\n",
      "0 hola\n",
      "0 hola\n",
      "0 hola\n",
      "0 hola\n",
      "0 hola\n",
      "0 hola\n",
      "0 hola\n",
      "0 hola\n",
      "0 hola\n",
      "0 hola\n",
      "0 hola\n",
      "0 hola\n",
      "0 hola\n",
      "0 hola\n",
      "0 hola\n",
      "0 hola\n",
      "0 hola\n",
      "0 hola\n",
      "0 hola\n",
      "0 hola\n",
      "0 hola\n",
      "0 hola\n",
      "0 hola\n",
      "0 hola\n",
      "0 hola\n",
      "0 hola\n",
      "0 hola\n",
      "0 hola\n",
      "0 hola\n",
      "0 hola\n",
      "0 hola\n",
      "0 hola\n",
      "0 hola\n",
      "0 hola\n",
      "0 hola\n",
      "0 hola\n",
      "0 hola\n",
      "0 hola\n",
      "0 hola\n",
      "0 hola\n",
      "0 hola\n",
      "0 hola\n",
      "0 hola\n",
      "0 hola\n",
      "0 hola\n",
      "0 hola\n",
      "0 hola\n",
      "0 hola\n",
      "0 hola\n",
      "0 hola\n",
      "0 hola\n",
      "0 hola\n",
      "0 hola\n",
      "0 hola\n",
      "0 hola\n",
      "0 hola\n",
      "0 hola\n",
      "0 hola\n",
      "0 hola\n",
      "0 hola\n",
      "0 hola\n",
      "0 hola\n",
      "0 hola\n",
      "0 hola\n",
      "0 hola\n",
      "0 hola\n",
      "0 hola\n",
      "0 hola\n",
      "0 hola\n",
      "0 hola\n",
      "0 hola\n",
      "0 hola\n",
      "0 hola\n",
      "0 hola\n",
      "0 hola\n",
      "0 hola\n",
      "0 hola\n",
      "0 hola\n",
      "0 hola\n",
      "0 hola\n",
      "0 hola\n",
      "0 hola\n",
      "0 hola\n",
      "0 hola\n",
      "0 hola\n",
      "0 hola\n",
      "0 hola\n",
      "0 hola\n",
      "0 hola\n",
      "0 hola\n",
      "0 hola\n",
      "0 hola\n",
      "0 hola\n",
      "0 hola\n",
      "0 hola\n",
      "0 hola\n",
      "0 hola\n",
      "0 hola\n",
      "0 hola\n",
      "0 hola\n",
      "0 hola\n",
      "0 hola\n",
      "0 hola\n",
      "0 hola\n",
      "0 hola\n",
      "0 hola\n",
      "0 hola\n",
      "0 hola\n",
      "0 hola\n",
      "0 hola\n",
      "0 hola\n",
      "0 hola\n",
      "0 hola\n",
      "0 hola\n",
      "0 hola\n",
      "0 hola\n",
      "0 hola\n",
      "0 hola\n",
      "0 hola\n",
      "0 hola\n",
      "0 hola\n",
      "0 hola\n",
      "0 hola\n",
      "0 hola\n",
      "0 hola\n",
      "0 hola\n",
      "0 hola\n",
      "0 hola\n",
      "0 hola\n",
      "0 hola\n",
      "0 hola\n",
      "0 hola\n",
      "0 hola\n",
      "0 hola\n",
      "0 hola\n",
      "0 hola\n",
      "0 hola\n",
      "0 hola\n",
      "0 hola\n",
      "0 hola\n",
      "0 hola\n",
      "0 hola\n",
      "0 hola\n",
      "0 hola\n",
      "0 hola\n",
      "0 hola\n",
      "0 hola\n",
      "0 hola\n",
      "0 hola\n",
      "0 hola\n",
      "0 hola\n",
      "0 hola\n",
      "0 hola\n",
      "0 hola\n",
      "0 hola\n",
      "0 hola\n",
      "0 hola\n",
      "0 hola\n",
      "0 hola\n",
      "0 hola\n",
      "0 hola\n",
      "0 hola\n",
      "0 hola\n",
      "0 hola\n",
      "0 hola\n",
      "0 hola\n",
      "0 hola\n",
      "0 hola\n",
      "0 hola\n",
      "0 hola\n",
      "0 hola\n",
      "0 hola\n",
      "0 hola\n",
      "0 hola\n",
      "0 hola\n",
      "0 hola\n",
      "0 hola\n",
      "0 hola\n",
      "0 hola\n",
      "0 hola\n",
      "0 hola\n",
      "0 hola\n",
      "0 hola\n",
      "0 hola\n",
      "0 hola\n",
      "0 hola\n",
      "0 hola\n",
      "0 hola\n",
      "0 hola\n",
      "0 hola\n",
      "0 hola\n",
      "0 hola\n",
      "0 hola\n",
      "0 hola\n",
      "0 hola\n",
      "0 hola\n",
      "0 hola\n",
      "0 hola\n",
      "0 hola\n",
      "0 hola\n",
      "0 hola\n",
      "0 hola\n",
      "0 hola\n",
      "0 hola\n",
      "0 hola\n",
      "0 hola\n",
      "0 hola\n",
      "0 hola\n",
      "0 hola\n",
      "0 hola\n",
      "0 hola\n",
      "0 hola\n",
      "0 hola\n",
      "0 hola\n",
      "0 hola\n",
      "0 hola\n",
      "0 hola\n",
      "0 hola\n",
      "0 hola\n",
      "0 hola\n",
      "0 hola\n",
      "0 hola\n",
      "0 hola\n",
      "0 hola\n",
      "0 hola\n",
      "0 hola\n",
      "0 hola\n",
      "0 hola\n",
      "0 hola\n",
      "0 hola\n",
      "0 hola\n",
      "0 hola\n",
      "0 hola\n",
      "0 hola\n",
      "0 hola\n",
      "0 hola\n",
      "0 hola\n",
      "0 hola\n",
      "0 hola\n",
      "0 hola\n",
      "0 hola\n",
      "0 hola\n",
      "0 hola\n",
      "0 hola\n",
      "0 hola\n",
      "0 hola\n",
      "0 hola\n",
      "0 hola\n",
      "0 hola\n",
      "0 hola\n",
      "0 hola\n",
      "0 hola\n",
      "0 hola\n",
      "0 hola\n",
      "0 hola\n",
      "0 hola\n",
      "0 hola\n",
      "0 hola\n",
      "0 hola\n",
      "0 hola\n",
      "0 hola\n",
      "0 hola\n",
      "0 hola\n",
      "0 hola\n",
      "0 hola\n",
      "0 hola\n",
      "0 hola\n",
      "0 hola\n",
      "0 hola\n",
      "0 hola\n",
      "0 hola\n",
      "0 hola\n",
      "0 hola\n",
      "0 hola\n",
      "0 hola\n",
      "0 hola\n",
      "0 hola\n",
      "0 hola\n",
      "0 hola\n",
      "0 hola\n",
      "0 hola\n",
      "0 hola\n",
      "0 hola\n",
      "0 hola\n",
      "0 hola\n",
      "0 hola\n",
      "0 hola\n",
      "0 hola\n",
      "0 hola\n",
      "0 hola\n",
      "0 hola\n",
      "0 hola\n",
      "0 hola\n",
      "0 hola\n",
      "0 hola\n",
      "0 hola\n",
      "0 hola\n",
      "0 hola\n",
      "0 hola\n",
      "0 hola\n",
      "0 hola\n",
      "0 hola\n",
      "0 hola\n",
      "0 hola\n",
      "0 hola\n",
      "0 hola\n",
      "0 hola\n",
      "0 hola\n",
      "0 hola\n",
      "0 hola\n",
      "0 hola\n",
      "0 hola\n",
      "0 hola\n",
      "0 hola\n",
      "0 hola\n",
      "0 hola\n",
      "0 hola\n",
      "0 hola\n",
      "0 hola\n",
      "0 hola\n",
      "0 hola\n",
      "0 hola\n",
      "0 hola\n",
      "0 hola\n",
      "0 hola\n",
      "0 hola\n",
      "0 hola\n",
      "0 hola\n",
      "0 hola\n",
      "0 hola\n",
      "0 hola\n",
      "0 hola\n",
      "0 hola\n",
      "0 hola\n",
      "0 hola\n",
      "0 hola\n",
      "0 hola\n",
      "0 hola\n",
      "0 hola\n",
      "0 hola\n",
      "0 hola\n",
      "0 hola\n",
      "0 hola\n",
      "0 hola\n",
      "0 hola\n",
      "0 hola\n",
      "0 hola\n",
      "0 hola\n",
      "0 hola\n",
      "0 hola\n",
      "0 hola\n",
      "0 hola\n",
      "0 hola\n",
      "0 hola\n",
      "0 hola\n",
      "0 hola\n",
      "0 hola\n",
      "0 hola\n",
      "0 hola\n",
      "0 hola\n",
      "0 hola\n",
      "0 hola\n",
      "0 hola\n",
      "0 hola\n",
      "0 hola\n",
      "0 hola\n",
      "0 hola\n",
      "0 hola\n",
      "0 hola\n",
      "0 hola\n",
      "0 hola\n",
      "0 hola\n",
      "0 hola\n",
      "0 hola\n",
      "0 hola\n",
      "0 hola\n",
      "0 hola\n",
      "0 hola\n",
      "0 hola\n",
      "0 hola\n",
      "0 hola\n",
      "0 hola\n",
      "0 hola\n",
      "0 hola\n",
      "0 hola\n",
      "0 hola\n",
      "0 hola\n",
      "0 hola\n",
      "0 hola\n",
      "0 hola\n",
      "0 hola\n",
      "0 hola\n",
      "0 hola\n",
      "0 hola\n",
      "0 hola\n",
      "0 hola\n",
      "0 hola\n",
      "0 hola\n",
      "0 hola\n",
      "0 hola\n",
      "0 hola\n",
      "0 hola\n",
      "0 hola\n",
      "0 hola\n",
      "0 hola\n",
      "0 hola\n",
      "0 hola\n",
      "0 hola\n",
      "0 hola\n",
      "0 hola\n",
      "0 hola\n",
      "0 hola\n",
      "0 hola\n",
      "0 hola\n",
      "0 hola\n",
      "0 hola\n",
      "0 hola\n",
      "0 hola\n",
      "0 hola\n",
      "0 hola\n",
      "0 hola\n",
      "0 hola\n",
      "0 hola\n",
      "0 hola\n",
      "0 hola\n",
      "0 hola\n",
      "0 hola\n",
      "0 hola\n",
      "0 hola\n",
      "0 hola\n",
      "0 hola\n",
      "0 hola\n",
      "0 hola\n",
      "0 hola\n",
      "0 hola\n",
      "0 hola\n",
      "0 hola\n",
      "0 hola\n",
      "0 hola\n",
      "0 hola\n",
      "0 hola\n",
      "0 hola\n",
      "0 hola\n",
      "0 hola\n",
      "0 hola\n",
      "0 hola\n",
      "0 hola\n",
      "0 hola\n",
      "0 hola\n",
      "0 hola\n",
      "0 hola\n",
      "0 hola\n",
      "0 hola\n",
      "0 hola\n",
      "0 hola\n",
      "0 hola\n",
      "0 hola\n",
      "0 hola\n",
      "0 hola\n",
      "0 hola\n",
      "0 hola\n",
      "0 hola\n",
      "0 hola\n",
      "0 hola\n",
      "0 hola\n",
      "0 hola\n",
      "0 hola\n",
      "0 hola\n",
      "0 hola\n",
      "0 hola\n",
      "0 hola\n",
      "0 hola\n",
      "0 hola\n",
      "0 hola\n",
      "0 hola\n",
      "0 hola\n",
      "0 hola\n",
      "0 hola\n",
      "0 hola\n",
      "0 hola\n",
      "0 hola\n",
      "0 hola\n",
      "0 hola\n",
      "0 hola\n",
      "0 hola\n",
      "0 hola\n",
      "0 hola\n",
      "0 hola\n",
      "0 hola\n",
      "0 hola\n",
      "0 hola\n",
      "0 hola\n",
      "0 hola\n",
      "0 hola\n",
      "0 hola\n",
      "0 hola\n",
      "0 hola\n",
      "0 hola\n",
      "0 hola\n",
      "0 hola\n",
      "0 hola\n",
      "0 hola\n",
      "0 hola\n",
      "0 hola\n",
      "0 hola\n",
      "0 hola\n",
      "0 hola\n",
      "0 hola\n",
      "0 hola\n",
      "0 hola\n",
      "0 hola\n",
      "0 hola\n",
      "0 hola\n",
      "0 hola\n",
      "0 hola\n",
      "0 hola\n",
      "0 hola\n",
      "0 hola\n",
      "0 hola\n",
      "0 hola\n",
      "0 hola\n",
      "0 hola\n",
      "0 hola\n",
      "0 hola\n",
      "0 hola\n",
      "0 hola\n",
      "0 hola\n",
      "0 hola\n",
      "0 hola\n",
      "0 hola\n",
      "0 hola\n",
      "0 hola\n",
      "0 hola\n",
      "0 hola\n",
      "0 hola\n",
      "0 hola\n",
      "0 hola\n",
      "0 hola\n",
      "0 hola\n",
      "0 hola\n",
      "0 hola\n",
      "0 hola\n",
      "0 hola\n",
      "0 hola\n",
      "0 hola\n",
      "0 hola\n",
      "0 hola\n",
      "0 hola\n",
      "0 hola\n",
      "0 hola\n",
      "0 hola\n",
      "0 hola\n",
      "0 hola\n",
      "0 hola\n",
      "0 hola\n",
      "0 hola\n",
      "0 hola\n",
      "0 hola\n",
      "0 hola\n",
      "0 hola\n",
      "0 hola\n",
      "0 hola\n",
      "0 hola\n",
      "0 hola\n",
      "0 hola\n",
      "0 hola\n",
      "0 hola\n",
      "0 hola\n",
      "0 hola\n",
      "0 hola\n",
      "0 hola\n",
      "0 hola\n",
      "0 hola\n",
      "0 hola\n",
      "0 hola\n",
      "0 hola\n",
      "0 hola\n",
      "0 hola\n",
      "0 hola\n",
      "0 hola\n",
      "0 hola\n",
      "0 hola\n",
      "0 hola\n",
      "0 hola\n",
      "0 hola\n",
      "0 hola\n",
      "0 hola\n",
      "0 hola\n",
      "0 hola\n",
      "0 hola\n",
      "0 hola\n",
      "0 hola\n",
      "0 hola\n",
      "0 hola\n",
      "0 hola\n",
      "0 hola\n",
      "0 hola\n",
      "0 hola\n",
      "0 hola\n",
      "0 hola\n",
      "0 hola\n",
      "0 hola\n",
      "0 hola\n",
      "0 hola\n",
      "0 hola\n",
      "0 hola\n",
      "0 hola\n",
      "0 hola\n",
      "0 hola\n",
      "0 hola\n",
      "0 hola\n",
      "0 hola\n",
      "0 hola\n",
      "0 hola\n",
      "0 hola\n",
      "0 hola\n",
      "0 hola\n",
      "0 hola\n",
      "0 hola\n",
      "0 hola\n",
      "0 hola\n",
      "0 hola\n",
      "0 hola\n",
      "0 hola\n",
      "0 hola\n",
      "0 hola\n",
      "0 hola\n",
      "0 hola\n",
      "0 hola\n",
      "0 hola\n",
      "0 hola\n",
      "0 hola\n",
      "0 hola\n",
      "0 hola\n",
      "0 hola\n",
      "0 hola\n",
      "0 hola\n",
      "0 hola\n",
      "0 hola\n",
      "0 hola\n",
      "0 hola\n",
      "0 hola\n",
      "0 hola\n",
      "0 hola\n",
      "0 hola\n",
      "0 hola\n",
      "0 hola\n",
      "0 hola\n",
      "0 hola\n",
      "0 hola\n",
      "0 hola\n",
      "0 hola\n",
      "0 hola\n",
      "0 hola\n",
      "0 hola\n",
      "0 hola\n",
      "0 hola\n",
      "0 hola\n",
      "0 hola\n",
      "0 hola\n",
      "0 hola\n",
      "0 hola\n",
      "0 hola\n",
      "0 hola\n",
      "0 hola\n",
      "0 hola\n",
      "0 hola\n",
      "0 hola\n",
      "0 hola\n",
      "0 hola\n",
      "0 hola\n",
      "0 hola\n",
      "0 hola\n",
      "0 hola\n",
      "0 hola\n",
      "0 hola\n",
      "0 hola\n",
      "0 hola\n",
      "0 hola\n",
      "0 hola\n",
      "0 hola\n",
      "0 hola\n",
      "0 hola\n",
      "0 hola\n",
      "0 hola\n",
      "0 hola\n",
      "0 hola\n",
      "0 hola\n",
      "0 hola\n",
      "0 hola\n",
      "0 hola\n",
      "0 hola\n",
      "0 hola\n",
      "0 hola\n",
      "0 hola\n",
      "0 hola\n",
      "0 hola\n",
      "0 hola\n",
      "0 hola\n",
      "0 hola\n",
      "0 hola\n",
      "0 hola\n",
      "0 hola\n",
      "0 hola\n",
      "0 hola\n",
      "0 hola\n",
      "0 hola\n",
      "0 hola\n",
      "0 hola\n",
      "0 hola\n",
      "0 hola\n",
      "0 hola\n",
      "0 hola\n",
      "0 hola\n",
      "0 hola\n",
      "0 hola\n",
      "0 hola\n",
      "0 hola\n",
      "0 hola\n",
      "0 hola\n",
      "0 hola\n",
      "0 hola\n",
      "0 hola\n",
      "0 hola\n",
      "0 hola\n",
      "0 hola\n",
      "0 hola\n",
      "0 hola\n",
      "0 hola\n",
      "0 hola\n",
      "0 hola\n",
      "0 hola\n",
      "0 hola\n",
      "0 hola\n",
      "0 hola\n",
      "0 hola\n",
      "0 hola\n",
      "0 hola\n",
      "0 hola\n",
      "0 hola\n",
      "0 hola\n",
      "0 hola\n",
      "0 hola\n",
      "0 hola\n",
      "0 hola\n",
      "0 hola\n",
      "0 hola\n",
      "0 hola\n",
      "0 hola\n",
      "0 hola\n",
      "0 hola\n",
      "0 hola\n",
      "0 hola\n",
      "0 hola\n",
      "0 hola\n",
      "0 hola\n",
      "0 hola\n",
      "0 hola\n",
      "0 hola\n",
      "0 hola\n",
      "0 hola\n",
      "0 hola\n",
      "0 hola\n",
      "0 hola\n",
      "0 hola\n",
      "0 hola\n",
      "0 hola\n",
      "0 hola\n",
      "0 hola\n",
      "0 hola\n",
      "0 hola\n",
      "0 hola\n",
      "0 hola\n",
      "0 hola\n",
      "0 hola\n",
      "0 hola\n",
      "0 hola\n",
      "0 hola\n",
      "0 hola\n",
      "0 hola\n",
      "0 hola\n",
      "0 hola\n",
      "0 hola\n",
      "0 hola\n",
      "0 hola\n",
      "0 hola\n",
      "0 hola\n",
      "0 hola\n",
      "0 hola\n",
      "0 hola\n",
      "0 hola\n",
      "0 hola\n",
      "0 hola\n",
      "0 hola\n",
      "0 hola\n",
      "0 hola\n",
      "0 hola\n",
      "0 hola\n",
      "0 hola\n",
      "0 hola\n",
      "0 hola\n",
      "0 hola\n",
      "0 hola\n",
      "0 hola\n",
      "0 hola\n",
      "0 hola\n",
      "0 hola\n",
      "0 hola\n",
      "0 hola\n",
      "0 hola\n",
      "0 hola\n",
      "0 hola\n",
      "0 hola\n",
      "0 hola\n",
      "0 hola\n",
      "0 hola\n",
      "0 hola\n",
      "0 hola\n",
      "0 hola\n",
      "0 hola\n",
      "0 hola\n",
      "0 hola\n",
      "0 hola\n",
      "0 hola\n",
      "0 hola\n",
      "0 hola\n",
      "0 hola\n",
      "0 hola\n",
      "0 hola\n",
      "0 hola\n",
      "0 hola\n",
      "0 hola\n",
      "0 hola\n",
      "0 hola\n",
      "0 hola\n",
      "0 hola\n",
      "0 hola\n",
      "0 hola\n",
      "0 hola\n",
      "0 hola\n",
      "0 hola\n",
      "0 hola\n",
      "0 hola\n",
      "0 hola\n",
      "0 hola\n",
      "0 hola\n",
      "0 hola\n",
      "0 hola\n",
      "0 hola\n",
      "0 hola\n",
      "0 hola\n",
      "0 hola\n",
      "0 hola\n",
      "0 hola\n",
      "0 hola\n",
      "0 hola\n",
      "0 hola\n",
      "0 hola\n",
      "0 hola\n",
      "0 hola\n",
      "0 hola\n",
      "0 hola\n",
      "0 hola\n",
      "0 hola\n",
      "0 hola\n",
      "0 hola\n",
      "0 hola\n",
      "0 hola\n",
      "0 hola\n",
      "0 hola\n",
      "0 hola\n",
      "0 hola\n",
      "0 hola\n",
      "0 hola\n",
      "0 hola\n",
      "0 hola\n",
      "0 hola\n",
      "0 hola\n",
      "0 hola\n",
      "0 hola\n",
      "0 hola\n",
      "0 hola\n",
      "0 hola\n",
      "0 hola\n",
      "0 hola\n",
      "0 hola\n",
      "0 hola\n",
      "0 hola\n",
      "0 hola\n",
      "0 hola\n",
      "0 hola\n",
      "0 hola\n",
      "0 hola\n",
      "0 hola\n",
      "0 hola\n",
      "0 hola\n",
      "0 hola\n",
      "0 hola\n",
      "0 hola\n",
      "0 hola\n",
      "0 hola\n",
      "0 hola\n",
      "0 hola\n",
      "0 hola\n",
      "0 hola\n",
      "0 hola\n",
      "0 hola\n",
      "0 hola\n",
      "0 hola\n",
      "0 hola\n",
      "0 hola\n",
      "0 hola\n",
      "0 hola\n",
      "0 hola\n",
      "0 hola\n",
      "0 hola\n",
      "0 hola\n",
      "0 hola\n",
      "0 hola\n",
      "0 hola\n",
      "0 hola\n",
      "0 hola\n",
      "0 hola\n",
      "0 hola\n",
      "0 hola\n",
      "0 hola\n",
      "0 hola\n",
      "0 hola\n",
      "0 hola\n",
      "0 hola\n",
      "0 hola\n",
      "0 hola\n",
      "0 hola\n",
      "0 hola\n",
      "0 hola\n",
      "0 hola\n",
      "0 hola\n",
      "0 hola\n",
      "0 hola\n",
      "0 hola\n",
      "0 hola\n",
      "0 hola\n",
      "0 hola\n",
      "0 hola\n",
      "0 hola\n",
      "0 hola\n",
      "0 hola\n",
      "0 hola\n",
      "0 hola\n",
      "0 hola\n",
      "0 hola\n",
      "0 hola\n",
      "0 hola\n",
      "0 hola\n",
      "0 hola\n",
      "0 hola\n",
      "0 hola\n",
      "0 hola\n",
      "0 hola\n",
      "0 hola\n",
      "0 hola\n",
      "0 hola\n",
      "0 hola\n",
      "0 hola\n",
      "0 hola\n",
      "0 hola\n",
      "0 hola\n",
      "0 hola\n",
      "0 hola\n",
      "0 hola\n",
      "0 hola\n",
      "0 hola\n",
      "0 hola\n",
      "0 hola\n",
      "0 hola\n",
      "0 hola\n",
      "0 hola\n",
      "0 hola\n",
      "0 hola\n",
      "0 hola\n",
      "0 hola\n",
      "0 hola\n",
      "0 hola\n",
      "0 hola\n",
      "0 hola\n",
      "0 hola\n",
      "0 hola\n",
      "0 hola\n",
      "0 hola\n",
      "0 hola\n",
      "0 hola\n",
      "0 hola\n",
      "0 hola\n",
      "0 hola\n",
      "0 hola\n",
      "0 hola\n",
      "0 hola\n",
      "0 hola\n",
      "0 hola\n",
      "0 hola\n",
      "0 hola\n",
      "0 hola\n",
      "0 hola\n",
      "0 hola\n",
      "0 hola\n",
      "0 hola\n",
      "0 hola\n",
      "0 hola\n",
      "0 hola\n",
      "0 hola\n",
      "0 hola\n",
      "0 hola\n",
      "0 hola\n",
      "0 hola\n",
      "0 hola\n",
      "0 hola\n",
      "0 hola\n",
      "0 hola\n",
      "0 hola\n",
      "0 hola\n",
      "0 hola\n",
      "0 hola\n",
      "0 hola\n",
      "0 hola\n",
      "0 hola\n",
      "0 hola\n",
      "0 hola\n",
      "0 hola\n",
      "0 hola\n",
      "0 hola\n",
      "0 hola\n",
      "0 hola\n",
      "0 hola\n",
      "0 hola\n",
      "0 hola\n",
      "0 hola\n",
      "0 hola\n",
      "0 hola\n",
      "0 hola\n",
      "0 hola\n",
      "0 hola\n",
      "0 hola\n",
      "0 hola\n",
      "0 hola\n",
      "0 hola\n",
      "0 hola\n",
      "0 hola\n",
      "0 hola\n",
      "0 hola\n",
      "0 hola\n",
      "0 hola\n",
      "0 hola\n",
      "0 hola\n",
      "0 hola\n",
      "0 hola\n",
      "0 hola\n",
      "0 hola\n",
      "0 hola\n",
      "0 hola\n",
      "0 hola\n",
      "0 hola\n",
      "0 hola\n",
      "0 hola\n",
      "0 hola\n",
      "0 hola\n",
      "0 hola\n",
      "0 hola\n",
      "0 hola\n",
      "0 hola\n",
      "0 hola\n",
      "0 hola\n",
      "0 hola\n",
      "0 hola\n",
      "0 hola\n",
      "0 hola\n",
      "0 hola\n",
      "0 hola\n",
      "0 hola\n",
      "0 hola\n",
      "0 hola\n",
      "0 hola\n",
      "0 hola\n",
      "0 hola\n",
      "0 hola\n",
      "0 hola\n",
      "0 hola\n",
      "0 hola\n",
      "0 hola\n",
      "0 hola\n",
      "0 hola\n",
      "0 hola\n",
      "0 hola\n",
      "0 hola\n",
      "0 hola\n",
      "0 hola\n",
      "0 hola\n",
      "0 hola\n",
      "0 hola\n",
      "0 hola\n",
      "0 hola\n",
      "0 hola\n",
      "0 hola\n",
      "0 hola\n",
      "0 hola\n",
      "0 hola\n",
      "0 hola\n",
      "0 hola\n",
      "0 hola\n",
      "0 hola\n",
      "0 hola\n",
      "0 hola\n",
      "0 hola\n",
      "0 hola\n",
      "0 hola\n",
      "0 hola\n",
      "0 hola\n",
      "0 hola\n",
      "0 hola\n",
      "0 hola\n",
      "0 hola\n",
      "0 hola\n",
      "0 hola\n",
      "0 hola\n",
      "0 hola\n",
      "0 hola\n",
      "0 hola\n",
      "0 hola\n",
      "0 hola\n",
      "0 hola\n",
      "0 hola\n",
      "0 hola\n",
      "0 hola\n",
      "0 hola\n",
      "0 hola\n",
      "0 hola\n",
      "0 hola\n",
      "0 hola\n",
      "0 hola\n",
      "0 hola\n",
      "0 hola\n",
      "0 hola\n",
      "0 hola\n",
      "0 hola\n",
      "0 hola\n",
      "0 hola\n",
      "0 hola\n",
      "0 hola\n",
      "0 hola\n",
      "0 hola\n",
      "0 hola\n",
      "0 hola\n",
      "0 hola\n",
      "0 hola\n",
      "0 hola\n",
      "0 hola\n",
      "0 hola\n",
      "0 hola\n",
      "0 hola\n",
      "0 hola\n",
      "0 hola\n",
      "0 hola\n",
      "0 hola\n",
      "0 hola\n",
      "0 hola\n",
      "0 hola\n",
      "0 hola\n",
      "0 hola\n",
      "0 hola\n",
      "0 hola\n",
      "0 hola\n",
      "0 hola\n",
      "0 hola\n",
      "0 hola\n",
      "0 hola\n",
      "0 hola\n",
      "0 hola\n",
      "0 hola\n",
      "0 hola\n",
      "0 hola\n",
      "0 hola\n",
      "0 hola\n",
      "0 hola\n",
      "0 hola\n",
      "0 hola\n",
      "0 hola\n",
      "0 hola\n",
      "0 hola\n",
      "0 hola\n",
      "0 hola\n",
      "0 hola\n",
      "0 hola\n",
      "0 hola\n",
      "0 hola\n",
      "0 hola\n",
      "0 hola\n",
      "0 hola\n",
      "0 hola\n",
      "0 hola\n",
      "0 hola\n",
      "0 hola\n",
      "0 hola\n",
      "0 hola\n",
      "0 hola\n",
      "0 hola\n",
      "0 hola\n",
      "0 hola\n",
      "0 hola\n",
      "0 hola\n",
      "0 hola\n",
      "0 hola\n",
      "0 hola\n",
      "0 hola\n",
      "0 hola\n",
      "0 hola\n",
      "0 hola\n",
      "0 hola\n",
      "0 hola\n",
      "0 hola\n",
      "0 hola\n",
      "0 hola\n",
      "0 hola\n",
      "0 hola\n",
      "0 hola\n",
      "0 hola\n",
      "0 hola\n",
      "0 hola\n",
      "0 hola\n",
      "0 hola\n",
      "0 hola\n",
      "0 hola\n",
      "0 hola\n",
      "0 hola\n",
      "0 hola\n",
      "0 hola\n",
      "0 hola\n",
      "0 hola\n",
      "0 hola\n",
      "0 hola\n",
      "0 hola\n",
      "0 hola\n",
      "0 hola\n",
      "0 hola\n",
      "0 hola\n",
      "0 hola\n",
      "0 hola\n",
      "0 hola\n",
      "0 hola\n",
      "0 hola\n",
      "0 hola\n",
      "0 hola\n",
      "0 hola\n",
      "0 hola\n",
      "0 hola\n",
      "0 hola\n",
      "0 hola\n",
      "0 hola\n",
      "0 hola\n",
      "0 hola\n",
      "0 hola\n",
      "0 hola\n",
      "0 hola\n",
      "0 hola\n",
      "0 hola\n",
      "0 hola\n",
      "0 hola\n",
      "0 hola\n",
      "0 hola\n",
      "0 hola\n",
      "0 hola\n",
      "0 hola\n",
      "0 hola\n",
      "0 hola\n",
      "0 hola\n",
      "0 hola\n",
      "0 hola\n",
      "0 hola\n",
      "0 hola\n",
      "0 hola\n",
      "0 hola\n",
      "0 hola\n",
      "0 hola\n",
      "0 hola\n",
      "0 hola\n",
      "0 hola\n",
      "0 hola\n",
      "0 hola\n",
      "0 hola\n",
      "0 hola\n",
      "0 hola\n",
      "0 hola\n",
      "0 hola\n",
      "0 hola\n",
      "0 hola\n",
      "0 hola\n",
      "0 hola\n",
      "0 hola\n",
      "0 hola\n",
      "0 hola\n",
      "0 hola\n",
      "0 hola\n",
      "0 hola\n",
      "0 hola\n",
      "0 hola\n",
      "0 hola\n",
      "0 hola\n",
      "0 hola\n",
      "0 hola\n",
      "0 hola\n",
      "0 hola\n",
      "0 hola\n",
      "0 hola\n",
      "0 hola\n",
      "0 hola\n",
      "0 hola\n",
      "0 hola\n",
      "0 hola\n",
      "0 hola\n",
      "0 hola\n",
      "0 hola\n",
      "0 hola\n",
      "0 hola\n",
      "0 hola\n",
      "0 hola\n",
      "0 hola\n",
      "0 hola\n",
      "0 hola\n",
      "0 hola\n",
      "0 hola\n",
      "0 hola\n",
      "0 hola\n",
      "0 hola\n",
      "0 hola\n",
      "0 hola\n",
      "0 hola\n",
      "0 hola\n",
      "0 hola\n",
      "0 hola\n",
      "0 hola\n",
      "0 hola\n",
      "0 hola\n",
      "0 hola\n",
      "0 hola\n",
      "0 hola\n",
      "0 hola\n",
      "0 hola\n",
      "0 hola\n",
      "0 hola\n",
      "0 hola\n",
      "0 hola\n",
      "0 hola\n",
      "0 hola\n",
      "0 hola\n",
      "0 hola\n",
      "0 hola\n",
      "0 hola\n",
      "0 hola\n",
      "0 hola\n",
      "0 hola\n",
      "0 hola\n",
      "0 hola\n",
      "0 hola\n",
      "0 hola\n",
      "0 hola\n",
      "0 hola\n",
      "0 hola\n",
      "0 hola\n",
      "0 hola\n",
      "0 hola\n",
      "0 hola\n",
      "0 hola\n",
      "0 hola\n",
      "0 hola\n",
      "0 hola\n",
      "0 hola\n",
      "0 hola\n",
      "0 hola\n",
      "0 hola\n",
      "0 hola\n",
      "0 hola\n",
      "0 hola\n",
      "0 hola\n",
      "0 hola\n",
      "0 hola\n",
      "0 hola\n",
      "0 hola\n",
      "0 hola\n",
      "0 hola\n",
      "0 hola\n",
      "0 hola\n",
      "0 hola\n",
      "0 hola\n",
      "0 hola\n",
      "0 hola\n",
      "0 hola\n",
      "0 hola\n",
      "0 hola\n",
      "0 hola\n",
      "0 hola\n",
      "0 hola\n",
      "0 hola\n",
      "0 hola\n",
      "0 hola\n",
      "0 hola\n",
      "0 hola\n",
      "0 hola\n",
      "0 hola\n",
      "0 hola\n",
      "0 hola\n",
      "0 hola\n",
      "0 hola\n",
      "0 hola\n",
      "0 hola\n",
      "0 hola\n",
      "0 hola\n",
      "0 hola\n",
      "0 hola\n",
      "0 hola\n",
      "0 hola\n",
      "0 hola\n",
      "0 hola\n",
      "0 hola\n",
      "0 hola\n",
      "0 hola\n",
      "0 hola\n",
      "0 hola\n",
      "0 hola\n",
      "0 hola\n",
      "0 hola\n",
      "0 hola\n",
      "0 hola\n",
      "0 hola\n",
      "0 hola\n",
      "0 hola\n",
      "0 hola\n",
      "0 hola\n",
      "0 hola\n",
      "0 hola\n",
      "0 hola\n",
      "0 hola\n",
      "0 hola\n",
      "0 hola\n",
      "0 hola\n",
      "0 hola\n",
      "0 hola\n",
      "0 hola\n",
      "0 hola\n",
      "0 hola\n",
      "0 hola\n",
      "0 hola\n",
      "0 hola\n",
      "0 hola\n",
      "0 hola\n",
      "0 hola\n",
      "0 hola\n",
      "0 hola\n",
      "0 hola\n",
      "0 hola\n",
      "0 hola\n",
      "0 hola\n",
      "0 hola\n",
      "0 hola\n",
      "0 hola\n",
      "0 hola\n",
      "0 hola\n",
      "0 hola\n",
      "0 hola\n",
      "0 hola\n",
      "0 hola\n",
      "0 hola\n",
      "0 hola\n",
      "0 hola\n",
      "0 hola\n",
      "0 hola\n",
      "0 hola\n",
      "0 hola\n",
      "0 hola\n",
      "0 hola\n",
      "0 hola\n",
      "0 hola\n",
      "0 hola\n",
      "0 hola\n",
      "0 hola\n",
      "0 hola\n",
      "0 hola\n",
      "0 hola\n",
      "0 hola\n",
      "0 hola\n",
      "0 hola\n",
      "0 hola\n",
      "0 hola\n",
      "0 hola\n",
      "0 hola\n",
      "0 hola\n",
      "0 hola\n",
      "0 hola\n",
      "0 hola\n",
      "0 hola\n",
      "0 hola\n",
      "0 hola\n",
      "0 hola\n",
      "0 hola\n",
      "0 hola\n",
      "0 hola\n",
      "0 hola\n",
      "0 hola\n",
      "0 hola\n",
      "0 hola\n",
      "0 hola\n",
      "0 hola\n",
      "0 hola\n",
      "0 hola\n",
      "0 hola\n",
      "0 hola\n",
      "0 hola\n",
      "0 hola\n",
      "0 hola\n",
      "0 hola\n",
      "0 hola\n",
      "0 hola\n",
      "0 hola\n",
      "0 hola\n",
      "0 hola\n",
      "0 hola\n",
      "0 hola\n",
      "0 hola\n",
      "0 hola\n",
      "0 hola\n",
      "0 hola\n",
      "0 hola\n",
      "0 hola\n",
      "0 hola\n",
      "0 hola\n",
      "0 hola\n",
      "0 hola\n",
      "0 hola\n",
      "0 hola\n",
      "0 hola\n",
      "0 hola\n",
      "0 hola\n",
      "0 hola\n",
      "0 hola\n",
      "0 hola\n",
      "0 hola\n",
      "0 hola\n",
      "0 hola\n",
      "0 hola\n",
      "0 hola\n",
      "0 hola\n",
      "0 hola\n",
      "0 hola\n",
      "0 hola\n",
      "0 hola\n",
      "0 hola\n",
      "0 hola\n",
      "0 hola\n",
      "0 hola\n",
      "0 hola\n",
      "0 hola\n",
      "0 hola\n",
      "0 hola\n",
      "0 hola\n",
      "0 hola\n",
      "0 hola\n",
      "0 hola\n",
      "0 hola\n",
      "0 hola\n",
      "0 hola\n",
      "0 hola\n",
      "0 hola\n",
      "0 hola\n",
      "0 hola\n",
      "0 hola\n",
      "0 hola\n",
      "0 hola\n",
      "0 hola\n",
      "0 hola\n",
      "0 hola\n",
      "0 hola\n",
      "0 hola\n",
      "0 hola\n",
      "0 hola\n",
      "0 hola\n",
      "0 hola\n",
      "0 hola\n",
      "0 hola\n",
      "0 hola\n",
      "0 hola\n",
      "0 hola\n",
      "0 hola\n",
      "0 hola\n",
      "0 hola\n",
      "0 hola\n",
      "0 hola\n",
      "0 hola\n",
      "0 hola\n",
      "0 hola\n",
      "0 hola\n",
      "0 hola\n",
      "0 hola\n",
      "0 hola\n",
      "0 hola\n",
      "0 hola\n",
      "0 hola\n",
      "0 hola\n",
      "0 hola\n",
      "0 hola\n",
      "0 hola\n",
      "0 hola\n",
      "0 hola\n",
      "0 hola\n",
      "0 hola\n",
      "0 hola\n",
      "0 hola\n",
      "0 hola\n",
      "0 hola\n",
      "0 hola\n",
      "0 hola\n",
      "0 hola\n",
      "0 hola\n",
      "0 hola\n",
      "0 hola\n",
      "0 hola\n",
      "0 hola\n",
      "0 hola\n",
      "0 hola\n",
      "0 hola\n",
      "0 hola\n",
      "0 hola\n",
      "0 hola\n",
      "0 hola\n",
      "0 hola\n",
      "0 hola\n",
      "0 hola\n",
      "0 hola\n",
      "0 hola\n",
      "0 hola\n",
      "0 hola\n",
      "0 hola\n",
      "0 hola\n",
      "0 hola\n",
      "0 hola\n",
      "0 hola\n",
      "0 hola\n",
      "0 hola\n",
      "0 hola\n",
      "0 hola\n",
      "0 hola\n",
      "0 hola\n",
      "0 hola\n",
      "0 hola\n",
      "0 hola\n",
      "0 hola\n",
      "0 hola\n",
      "0 hola\n",
      "0 hola\n",
      "0 hola\n",
      "0 hola\n",
      "0 hola\n",
      "0 hola\n",
      "0 hola\n",
      "0 hola\n",
      "0 hola\n",
      "0 hola\n",
      "0 hola\n",
      "0 hola\n",
      "0 hola\n",
      "0 hola\n",
      "0 hola\n",
      "0 hola\n",
      "0 hola\n",
      "0 hola\n",
      "0 hola\n",
      "0 hola\n",
      "0 hola\n",
      "0 hola\n",
      "0 hola\n",
      "0 hola\n",
      "0 hola\n",
      "0 hola\n",
      "0 hola\n",
      "0 hola\n",
      "0 hola\n",
      "0 hola\n",
      "0 hola\n",
      "0 hola\n",
      "0 hola\n",
      "0 hola\n",
      "0 hola\n",
      "0 hola\n",
      "0 hola\n",
      "0 hola\n",
      "0 hola\n",
      "0 hola\n",
      "0 hola\n",
      "0 hola\n",
      "0 hola\n",
      "0 hola\n",
      "0 hola\n",
      "0 hola\n",
      "0 hola\n",
      "0 hola\n",
      "0 hola\n",
      "0 hola\n",
      "0 hola\n",
      "0 hola\n",
      "0 hola\n",
      "0 hola\n",
      "0 hola\n",
      "0 hola\n",
      "0 hola\n",
      "0 hola\n",
      "0 hola\n",
      "0 hola\n",
      "0 hola\n",
      "0 hola\n",
      "0 hola\n",
      "0 hola\n",
      "0 hola\n",
      "0 hola\n",
      "0 hola\n",
      "0 hola\n",
      "0 hola\n",
      "0 hola\n",
      "0 hola\n",
      "0 hola\n",
      "0 hola\n",
      "0 hola\n",
      "0 hola\n",
      "0 hola\n",
      "0 hola\n",
      "0 hola\n",
      "0 hola\n",
      "0 hola\n",
      "0 hola\n",
      "0 hola\n",
      "0 hola\n",
      "0 hola\n",
      "0 hola\n",
      "0 hola\n",
      "0 hola\n",
      "0 hola\n",
      "0 hola\n",
      "0 hola\n",
      "0 hola\n",
      "0 hola\n",
      "0 hola\n",
      "0 hola\n",
      "0 hola\n",
      "0 hola\n",
      "0 hola\n",
      "0 hola\n",
      "0 hola\n",
      "0 hola\n",
      "0 hola\n",
      "0 hola\n",
      "0 hola\n",
      "0 hola\n",
      "0 hola\n",
      "0 hola\n",
      "0 hola\n",
      "0 hola\n",
      "0 hola\n",
      "0 hola\n",
      "0 hola\n",
      "0 hola\n",
      "0 hola\n",
      "0 hola\n",
      "0 hola\n",
      "0 hola\n",
      "0 hola\n",
      "0 hola\n",
      "0 hola\n",
      "0 hola\n",
      "0 hola\n",
      "0 hola\n",
      "0 hola\n",
      "0 hola\n",
      "0 hola\n",
      "0 hola\n",
      "0 hola\n",
      "0 hola\n",
      "0 hola\n",
      "0 hola\n",
      "0 hola\n",
      "0 hola\n",
      "0 hola\n",
      "0 hola\n",
      "0 hola\n",
      "0 hola\n",
      "0 hola\n",
      "0 hola\n",
      "0 hola\n",
      "0 hola\n",
      "0 hola\n",
      "0 hola\n",
      "0 hola\n",
      "0 hola\n",
      "0 hola\n",
      "0 hola\n",
      "0 hola\n",
      "0 hola\n",
      "0 hola\n",
      "0 hola\n",
      "0 hola\n",
      "0 hola\n",
      "0 hola\n",
      "0 hola\n",
      "0 hola\n",
      "0 hola\n",
      "0 hola\n",
      "0 hola\n",
      "0 hola\n",
      "0 hola\n",
      "0 hola\n",
      "0 hola\n",
      "0 hola\n",
      "0 hola\n",
      "0 hola\n",
      "0 hola\n",
      "0 hola\n",
      "0 hola\n",
      "0 hola\n",
      "0 hola\n",
      "0 hola\n",
      "0 hola\n",
      "0 hola\n",
      "0 hola\n",
      "0 hola\n",
      "0 hola\n",
      "0 hola\n",
      "0 hola\n",
      "0 hola\n",
      "0 hola\n",
      "0 hola\n",
      "0 hola\n",
      "0 hola\n",
      "0 hola\n",
      "0 hola\n",
      "0 hola\n",
      "0 hola\n",
      "0 hola\n",
      "0 hola\n",
      "0 hola\n",
      "0 hola\n",
      "0 hola\n",
      "0 hola\n",
      "0 hola\n",
      "0 hola\n",
      "0 hola\n",
      "0 hola\n",
      "0 hola\n",
      "0 hola\n",
      "0 hola\n",
      "0 hola\n",
      "0 hola\n",
      "0 hola\n",
      "0 hola\n",
      "0 hola\n",
      "0 hola\n",
      "0 hola\n",
      "0 hola\n",
      "0 hola\n",
      "0 hola\n",
      "0 hola\n",
      "0 hola\n",
      "0 hola\n",
      "0 hola\n",
      "0 hola\n",
      "0 hola\n",
      "0 hola\n",
      "0 hola\n",
      "0 hola\n",
      "0 hola\n",
      "0 hola\n",
      "0 hola\n",
      "0 hola\n",
      "0 hola\n",
      "0 hola\n",
      "0 hola\n",
      "0 hola\n",
      "0 hola\n",
      "0 hola\n",
      "0 hola\n",
      "0 hola\n",
      "0 hola\n",
      "0 hola\n",
      "0 hola\n",
      "0 hola\n",
      "0 hola\n",
      "0 hola\n",
      "0 hola\n",
      "0 hola\n",
      "0 hola\n",
      "0 hola\n",
      "0 hola\n",
      "0 hola\n",
      "0 hola\n",
      "0 hola\n",
      "0 hola\n",
      "0 hola\n",
      "0 hola\n",
      "0 hola\n",
      "0 hola\n",
      "0 hola\n",
      "0 hola\n",
      "0 hola\n",
      "0 hola\n",
      "0 hola\n",
      "0 hola\n",
      "0 hola\n",
      "0 hola\n",
      "0 hola\n",
      "0 hola\n",
      "0 hola\n",
      "0 hola\n",
      "0 hola\n",
      "0 hola\n",
      "0 hola\n",
      "0 hola\n",
      "0 hola\n",
      "0 hola\n",
      "0 hola\n",
      "0 hola\n",
      "0 hola\n",
      "0 hola\n",
      "0 hola\n",
      "0 hola\n",
      "0 hola\n",
      "0 hola\n",
      "0 hola\n",
      "0 hola\n",
      "0 hola\n",
      "0 hola\n",
      "0 hola\n",
      "0 hola\n",
      "0 hola\n",
      "0 hola\n",
      "0 hola\n",
      "0 hola\n",
      "0 hola\n",
      "0 hola\n",
      "0 hola\n",
      "0 hola\n",
      "0 hola\n",
      "0 hola\n",
      "0 hola\n",
      "0 hola\n",
      "0 hola\n",
      "0 hola\n",
      "0 hola\n",
      "0 hola\n",
      "0 hola\n",
      "0 hola\n",
      "0 hola\n",
      "0 hola\n",
      "0 hola\n",
      "0 hola\n",
      "0 hola\n",
      "0 hola\n",
      "0 hola\n",
      "0 hola\n",
      "0 hola\n",
      "0 hola\n",
      "0 hola\n",
      "0 hola\n",
      "0 hola\n",
      "0 hola\n",
      "0 hola\n",
      "0 hola\n",
      "0 hola\n",
      "0 hola\n",
      "0 hola\n",
      "0 hola\n",
      "0 hola\n",
      "0 hola\n",
      "0 hola\n",
      "0 hola\n",
      "0 hola\n",
      "0 hola\n",
      "0 hola\n",
      "0 hola\n",
      "0 hola\n",
      "0 hola\n",
      "0 hola\n",
      "0 hola\n",
      "0 hola\n",
      "0 hola\n",
      "0 hola\n",
      "0 hola\n",
      "0 hola\n",
      "0 hola\n",
      "0 hola\n",
      "0 hola\n",
      "0 hola\n",
      "0 hola\n",
      "0 hola\n",
      "0 hola\n",
      "0 hola\n",
      "0 hola\n",
      "0 hola\n",
      "0 hola\n",
      "0 hola\n",
      "0 hola\n",
      "0 hola\n",
      "0 hola\n",
      "0 hola\n",
      "0 hola\n",
      "0 hola\n",
      "0 hola\n",
      "0 hola\n",
      "0 hola\n",
      "0 hola\n",
      "0 hola\n",
      "0 hola\n",
      "0 hola\n",
      "0 hola\n",
      "0 hola\n",
      "0 hola\n",
      "0 hola\n",
      "0 hola\n",
      "0 hola\n",
      "0 hola\n",
      "0 hola\n",
      "0 hola\n",
      "0 hola\n",
      "0 hola\n",
      "0 hola\n",
      "0 hola\n",
      "0 hola\n",
      "0 hola\n",
      "0 hola\n",
      "0 hola\n",
      "0 hola\n",
      "0 hola\n",
      "0 hola\n",
      "0 hola\n",
      "0 hola\n",
      "0 hola\n",
      "0 hola\n",
      "0 hola\n",
      "0 hola\n",
      "0 hola\n",
      "0 hola\n",
      "0 hola\n",
      "0 hola\n",
      "0 hola\n",
      "0 hola\n",
      "0 hola\n",
      "0 hola\n",
      "0 hola\n",
      "0 hola\n",
      "0 hola\n",
      "0 hola\n",
      "0 hola\n",
      "0 hola\n",
      "0 hola\n",
      "0 hola\n",
      "0 hola\n",
      "0 hola\n",
      "0 hola\n",
      "0 hola\n",
      "0 hola\n",
      "0 hola\n",
      "0 hola\n",
      "0 hola\n",
      "0 hola\n",
      "0 hola\n",
      "0 hola\n",
      "0 hola\n",
      "0 hola\n",
      "0 hola\n",
      "0 hola\n",
      "0 hola\n",
      "0 hola\n",
      "0 hola\n",
      "0 hola\n",
      "0 hola\n",
      "0 hola\n",
      "0 hola\n",
      "0 hola\n",
      "0 hola\n",
      "0 hola\n",
      "0 hola\n",
      "0 hola\n",
      "0 hola\n",
      "0 hola\n",
      "0 hola\n",
      "0 hola\n",
      "0 hola\n",
      "0 hola\n",
      "0 hola\n",
      "0 hola\n",
      "0 hola\n",
      "0 hola\n",
      "0 hola\n",
      "0 hola\n",
      "0 hola\n",
      "0 hola\n",
      "0 hola\n",
      "0 hola\n",
      "0 hola\n",
      "0 hola\n",
      "0 hola\n",
      "0 hola\n",
      "0 hola\n",
      "0 hola\n",
      "0 hola\n",
      "0 hola\n",
      "0 hola\n",
      "0 hola\n",
      "0 hola\n",
      "0 hola\n",
      "0 hola\n",
      "0 hola\n",
      "0 hola\n",
      "0 hola\n",
      "0 hola\n",
      "0 hola\n",
      "0 hola\n",
      "0 hola\n",
      "0 hola\n",
      "0 hola\n",
      "0 hola\n",
      "0 hola\n",
      "0 hola\n",
      "0 hola\n",
      "0 hola\n",
      "0 hola\n",
      "0 hola\n",
      "0 hola\n",
      "0 hola\n",
      "0 hola\n",
      "0 hola\n",
      "0 hola\n",
      "0 hola\n",
      "0 hola\n",
      "0 hola\n",
      "0 hola\n",
      "0 hola\n",
      "0 hola\n",
      "0 hola\n",
      "0 hola\n",
      "0 hola\n",
      "0 hola\n",
      "0 hola\n",
      "0 hola\n",
      "0 hola\n",
      "0 hola\n",
      "0 hola\n",
      "0 hola\n",
      "0 hola\n",
      "0 hola\n",
      "0 hola\n",
      "0 hola\n",
      "0 hola\n",
      "0 hola\n",
      "0 hola\n",
      "0 hola\n",
      "0 hola\n",
      "0 hola\n",
      "0 hola\n",
      "0 hola\n",
      "0 hola\n",
      "0 hola\n",
      "0 hola\n",
      "0 hola\n",
      "0 hola\n",
      "0 hola\n",
      "0 hola\n",
      "0 hola\n",
      "0 hola\n",
      "0 hola\n",
      "0 hola\n",
      "0 hola\n",
      "0 hola\n",
      "0 hola\n",
      "0 hola\n",
      "0 hola\n",
      "0 hola\n",
      "0 hola\n",
      "0 hola\n",
      "0 hola\n",
      "0 hola\n",
      "0 hola\n",
      "0 hola\n",
      "0 hola\n",
      "0 hola\n",
      "0 hola\n",
      "0 hola\n",
      "0 hola\n",
      "0 hola\n",
      "0 hola\n",
      "0 hola\n",
      "0 hola\n",
      "0 hola\n",
      "0 hola\n",
      "0 hola\n",
      "0 hola\n",
      "0 hola\n",
      "0 hola\n",
      "0 hola\n",
      "0 hola\n",
      "0 hola\n",
      "0 hola\n",
      "0 hola\n",
      "0 hola\n",
      "0 hola\n",
      "0 hola\n",
      "0 hola\n",
      "0 hola\n",
      "0 hola\n",
      "0 hola\n",
      "0 hola\n",
      "0 hola\n",
      "0 hola\n",
      "0 hola\n",
      "0 hola\n",
      "0 hola\n",
      "0 hola\n",
      "0 hola\n",
      "0 hola\n",
      "0 hola\n",
      "0 hola\n",
      "0 hola\n",
      "0 hola\n",
      "0 hola\n",
      "0 hola\n",
      "0 hola\n",
      "0 hola\n",
      "0 hola\n",
      "0 hola\n",
      "0 hola\n",
      "0 hola\n",
      "0 hola\n",
      "0 hola\n",
      "0 hola\n",
      "0 hola\n",
      "0 hola\n",
      "0 hola\n",
      "0 hola\n",
      "0 hola\n",
      "0 hola\n",
      "0 hola\n",
      "0 hola\n",
      "0 hola\n",
      "0 hola\n",
      "0 hola\n",
      "0 hola\n",
      "0 hola\n",
      "0 hola\n",
      "0 hola\n",
      "0 hola\n",
      "0 hola\n",
      "0 hola\n",
      "0 hola\n",
      "0 hola\n",
      "0 hola\n",
      "0 hola\n",
      "0 hola\n",
      "0 hola\n",
      "0 hola\n",
      "0 hola\n",
      "0 hola\n",
      "0 hola\n",
      "0 hola\n",
      "0 hola\n",
      "0 hola\n",
      "0 hola\n",
      "0 hola\n",
      "0 hola\n",
      "0 hola\n",
      "0 hola\n",
      "0 hola\n",
      "0 hola\n",
      "0 hola\n",
      "0 hola\n",
      "0 hola\n",
      "0 hola\n",
      "0 hola\n",
      "0 hola\n",
      "0 hola\n",
      "0 hola\n",
      "0 hola\n",
      "0 hola\n",
      "0 hola\n",
      "0 hola\n",
      "0 hola\n",
      "0 hola\n",
      "0 hola\n",
      "0 hola\n",
      "0 hola\n",
      "0 hola\n",
      "0 hola\n",
      "0 hola\n",
      "0 hola\n",
      "0 hola\n",
      "0 hola\n",
      "0 hola\n",
      "0 hola\n",
      "0 hola\n",
      "0 hola\n",
      "0 hola\n",
      "0 hola\n",
      "0 hola\n",
      "0 hola\n",
      "0 hola\n",
      "0 hola\n",
      "0 hola\n",
      "0 hola\n",
      "0 hola\n",
      "0 hola\n",
      "0 hola\n",
      "0 hola\n",
      "0 hola\n",
      "0 hola\n",
      "0 hola\n",
      "0 hola\n",
      "0 hola\n",
      "0 hola\n",
      "0 hola\n",
      "0 hola\n",
      "0 hola\n",
      "0 hola\n",
      "0 hola\n",
      "0 hola\n",
      "0 hola\n",
      "0 hola\n",
      "0 hola\n",
      "0 hola\n",
      "0 hola\n",
      "0 hola\n",
      "0 hola\n",
      "0 hola\n",
      "0 hola\n",
      "0 hola\n",
      "0 hola\n",
      "0 hola\n",
      "0 hola\n",
      "0 hola\n",
      "0 hola\n",
      "0 hola\n",
      "0 hola\n",
      "0 hola\n",
      "0 hola\n",
      "0 hola\n",
      "0 hola\n",
      "0 hola\n",
      "0 hola\n",
      "0 hola\n",
      "0 hola\n",
      "0 hola\n",
      "0 hola\n",
      "0 hola\n",
      "0 hola\n",
      "0 hola\n",
      "0 hola\n",
      "0 hola\n",
      "0 hola\n",
      "0 hola\n",
      "0 hola\n",
      "0 hola\n",
      "0 hola\n",
      "0 hola\n",
      "0 hola\n",
      "0 hola\n",
      "0 hola\n",
      "0 hola\n",
      "0 hola\n",
      "0 hola\n",
      "0 hola\n",
      "0 hola\n",
      "0 hola\n",
      "0 hola\n",
      "0 hola\n",
      "0 hola\n",
      "0 hola\n",
      "0 hola\n",
      "0 hola\n",
      "0 hola\n",
      "0 hola\n",
      "0 hola\n",
      "0 hola\n",
      "0 hola\n",
      "0 hola\n",
      "0 hola\n",
      "0 hola\n",
      "0 hola\n",
      "0 hola\n",
      "0 hola\n",
      "0 hola\n",
      "0 hola\n",
      "0 hola\n",
      "0 hola\n",
      "0 hola\n",
      "0 hola\n",
      "0 hola\n",
      "0 hola\n",
      "0 hola\n",
      "0 hola\n",
      "0 hola\n",
      "0 hola\n",
      "0 hola\n",
      "0 hola\n",
      "0 hola\n",
      "0 hola\n",
      "0 hola\n",
      "0 hola\n",
      "0 hola\n",
      "0 hola\n",
      "0 hola\n",
      "0 hola\n",
      "0 hola\n",
      "0 hola\n",
      "0 hola\n",
      "0 hola\n",
      "0 hola\n",
      "0 hola\n",
      "0 hola\n",
      "0 hola\n",
      "0 hola\n",
      "0 hola\n",
      "0 hola\n",
      "0 hola\n",
      "0 hola\n",
      "0 hola\n",
      "0 hola\n",
      "0 hola\n",
      "0 hola\n",
      "0 hola\n",
      "0 hola\n",
      "0 hola\n",
      "0 hola\n",
      "0 hola\n",
      "0 hola\n",
      "0 hola\n",
      "0 hola\n",
      "0 hola\n",
      "0 hola\n",
      "0 hola\n",
      "0 hola\n",
      "0 hola\n",
      "0 hola\n",
      "0 hola\n",
      "0 hola\n",
      "0 hola\n",
      "0 hola\n",
      "0 hola\n",
      "0 hola\n",
      "0 hola\n",
      "0 hola\n",
      "0 hola\n",
      "0 hola\n",
      "0 hola\n",
      "0 hola\n",
      "0 hola\n",
      "0 hola\n",
      "0 hola\n",
      "0 hola\n",
      "0 hola\n",
      "0 hola\n",
      "0 hola\n",
      "0 hola\n",
      "0 hola\n",
      "0 hola\n",
      "0 hola\n",
      "0 hola\n",
      "0 hola\n",
      "0 hola\n",
      "0 hola\n",
      "0 hola\n",
      "0 hola\n",
      "0 hola\n",
      "0 hola\n",
      "0 hola\n",
      "0 hola\n",
      "0 hola\n",
      "0 hola\n",
      "0 hola\n",
      "0 hola\n",
      "0 hola\n",
      "0 hola\n",
      "0 hola\n",
      "0 hola\n",
      "0 hola\n",
      "0 hola\n",
      "0 hola\n",
      "0 hola\n",
      "0 hola\n",
      "0 hola\n",
      "0 hola\n",
      "0 hola\n",
      "0 hola\n",
      "0 hola\n",
      "0 hola\n",
      "0 hola\n",
      "0 hola\n",
      "0 hola\n",
      "0 hola\n",
      "0 hola\n",
      "0 hola\n",
      "0 hola\n",
      "0 hola\n",
      "0 hola\n",
      "0 hola\n",
      "0 hola\n",
      "0 hola\n",
      "0 hola\n",
      "0 hola\n",
      "0 hola\n",
      "0 hola\n",
      "0 hola\n",
      "0 hola\n",
      "0 hola\n",
      "0 hola\n",
      "0 hola\n",
      "0 hola\n",
      "0 hola\n",
      "0 hola\n",
      "0 hola\n",
      "0 hola\n",
      "0 hola\n",
      "0 hola\n",
      "0 hola\n",
      "0 hola\n",
      "0 hola\n",
      "0 hola\n",
      "0 hola\n",
      "0 hola\n",
      "0 hola\n",
      "0 hola\n",
      "0 hola\n",
      "0 hola\n",
      "0 hola\n",
      "0 hola\n",
      "0 hola\n",
      "0 hola\n",
      "0 hola\n",
      "0 hola\n",
      "0 hola\n",
      "0 hola\n",
      "0 hola\n",
      "0 hola\n",
      "0 hola\n",
      "0 hola\n",
      "0 hola\n",
      "0 hola\n",
      "0 hola\n",
      "0 hola\n",
      "0 hola\n",
      "0 hola\n",
      "0 hola\n",
      "0 hola\n",
      "0 hola\n",
      "0 hola\n",
      "0 hola\n",
      "0 hola\n",
      "0 hola\n",
      "0 hola\n",
      "0 hola\n",
      "0 hola\n",
      "0 hola\n",
      "0 hola\n",
      "0 hola\n",
      "0 hola\n",
      "0 hola\n",
      "0 hola\n",
      "0 hola\n",
      "0 hola\n",
      "0 hola\n",
      "0 hola\n",
      "0 hola\n",
      "0 hola\n",
      "0 hola\n",
      "0 hola\n",
      "0 hola\n",
      "0 hola\n",
      "0 hola\n",
      "0 hola\n",
      "0 hola\n",
      "0 hola\n",
      "0 hola\n",
      "0 hola\n",
      "0 hola\n",
      "0 hola\n",
      "0 hola\n",
      "0 hola\n",
      "0 hola\n",
      "0 hola\n",
      "0 hola\n",
      "0 hola\n",
      "0 hola\n",
      "0 hola\n",
      "0 hola\n",
      "0 hola\n",
      "0 hola\n",
      "0 hola\n",
      "0 hola\n",
      "0 hola\n",
      "0 hola\n",
      "0 hola\n",
      "0 hola\n",
      "0 hola\n",
      "0 hola\n",
      "0 hola\n",
      "0 hola\n",
      "0 hola\n",
      "0 hola\n",
      "0 hola\n",
      "0 hola\n",
      "0 hola\n",
      "0 hola\n",
      "0 hola\n",
      "0 hola\n",
      "0 hola\n",
      "0 hola\n",
      "0 hola\n",
      "0 hola\n",
      "0 hola\n",
      "0 hola\n",
      "0 hola\n",
      "0 hola\n",
      "0 hola\n",
      "0 hola\n",
      "0 hola\n",
      "0 hola\n",
      "0 hola\n",
      "0 hola\n",
      "0 hola\n",
      "0 hola\n",
      "0 hola\n",
      "0 hola\n",
      "0 hola\n",
      "0 hola\n",
      "0 hola\n",
      "0 hola\n",
      "0 hola\n",
      "0 hola\n",
      "0 hola\n",
      "0 hola\n",
      "0 hola\n",
      "0 hola\n",
      "0 hola\n",
      "0 hola\n",
      "0 hola\n",
      "0 hola\n",
      "0 hola\n",
      "0 hola\n",
      "0 hola\n",
      "0 hola\n",
      "0 hola\n",
      "0 hola\n",
      "0 hola\n",
      "0 hola\n",
      "0 hola\n",
      "0 hola\n",
      "0 hola\n",
      "0 hola\n",
      "0 hola\n",
      "0 hola\n",
      "0 hola\n",
      "0 hola\n",
      "0 hola\n",
      "0 hola\n",
      "0 hola\n",
      "0 hola\n",
      "0 hola\n",
      "0 hola\n",
      "0 hola\n",
      "0 hola\n",
      "0 hola\n",
      "0 hola\n",
      "0 hola\n",
      "0 hola\n",
      "0 hola\n",
      "0 hola\n",
      "0 hola\n",
      "0 hola\n",
      "0 hola\n",
      "0 hola\n",
      "0 hola\n",
      "0 hola\n",
      "0 hola\n",
      "0 hola\n",
      "0 hola\n",
      "0 hola\n",
      "0 hola\n",
      "0 hola\n",
      "0 hola\n",
      "0 hola\n",
      "0 hola\n",
      "0 hola\n",
      "0 hola\n",
      "0 hola\n",
      "0 hola\n",
      "0 hola\n",
      "0 hola\n",
      "0 hola\n",
      "0 hola\n",
      "0 hola\n",
      "0 hola\n",
      "0 hola\n",
      "0 hola\n",
      "0 hola\n",
      "0 hola\n",
      "0 hola\n",
      "0 hola\n",
      "0 hola\n",
      "0 hola\n",
      "0 hola\n",
      "0 hola\n",
      "0 hola\n",
      "0 hola\n",
      "0 hola\n",
      "0 hola\n",
      "0 hola\n",
      "0 hola\n",
      "0 hola\n",
      "0 hola\n",
      "0 hola\n",
      "0 hola\n",
      "0 hola\n",
      "0 hola\n",
      "0 hola\n",
      "0 hola\n",
      "0 hola\n",
      "0 hola\n",
      "0 hola\n",
      "0 hola\n",
      "0 hola\n",
      "0 hola\n",
      "0 hola\n",
      "0 hola\n",
      "0 hola\n",
      "0 hola\n",
      "0 hola\n",
      "0 hola\n",
      "0 hola\n",
      "0 hola\n",
      "0 hola\n",
      "0 hola\n",
      "0 hola\n",
      "0 hola\n",
      "0 hola\n",
      "0 hola\n",
      "0 hola\n",
      "0 hola\n",
      "0 hola\n",
      "0 hola\n",
      "0 hola\n",
      "0 hola\n",
      "0 hola\n",
      "0 hola\n",
      "0 hola\n",
      "0 hola\n",
      "0 hola\n",
      "0 hola\n",
      "0 hola\n",
      "0 hola\n",
      "0 hola\n",
      "0 hola\n",
      "0 hola\n",
      "0 hola\n",
      "0 hola\n",
      "0 hola\n",
      "0 hola\n",
      "0 hola\n",
      "0 hola\n",
      "0 hola\n",
      "0 hola\n",
      "0 hola\n",
      "0 hola\n",
      "0 hola\n",
      "0 hola\n",
      "0 hola\n",
      "0 hola\n",
      "0 hola\n",
      "0 hola\n",
      "0 hola\n",
      "0 hola\n",
      "0 hola\n",
      "0 hola\n",
      "0 hola\n",
      "0 hola\n",
      "0 hola\n",
      "0 hola\n",
      "0 hola\n",
      "0 hola\n",
      "0 hola\n",
      "0 hola\n",
      "0 hola\n",
      "0 hola\n",
      "0 hola\n",
      "0 hola\n",
      "0 hola\n",
      "0 hola\n",
      "0 hola\n",
      "0 hola\n",
      "0 hola\n",
      "0 hola\n",
      "0 hola\n",
      "0 hola\n",
      "0 hola\n",
      "0 hola\n",
      "0 hola\n",
      "0 hola\n",
      "0 hola\n",
      "0 hola\n",
      "0 hola\n",
      "0 hola\n",
      "0 hola\n",
      "0 hola\n",
      "0 hola\n",
      "0 hola\n",
      "0 hola\n",
      "0 hola\n",
      "0 hola\n",
      "0 hola\n",
      "0 hola\n",
      "0 hola\n",
      "0 hola\n",
      "0 hola\n",
      "0 hola\n",
      "0 hola\n",
      "0 hola\n",
      "0 hola\n",
      "0 hola\n",
      "0 hola\n",
      "0 hola\n",
      "0 hola\n",
      "0 hola\n",
      "0 hola\n",
      "0 hola\n",
      "0 hola\n",
      "0 hola\n",
      "0 hola\n",
      "0 hola\n",
      "0 hola\n",
      "0 hola\n",
      "0 hola\n",
      "0 hola\n",
      "0 hola\n",
      "0 hola\n",
      "0 hola\n",
      "0 hola\n",
      "0 hola\n",
      "0 hola\n",
      "0 hola\n",
      "0 hola\n",
      "0 hola\n",
      "0 hola\n",
      "0 hola\n",
      "0 hola\n",
      "0 hola\n",
      "0 hola\n",
      "0 hola\n",
      "0 hola\n",
      "0 hola\n",
      "0 hola\n",
      "0 hola\n",
      "0 hola\n",
      "0 hola\n",
      "0 hola\n",
      "0 hola\n",
      "0 hola\n",
      "0 hola\n",
      "0 hola\n",
      "0 hola\n",
      "0 hola\n",
      "0 hola\n",
      "0 hola\n",
      "0 hola\n",
      "0 hola\n",
      "0 hola\n",
      "0 hola\n",
      "0 hola\n",
      "0 hola\n",
      "0 hola\n",
      "0 hola\n",
      "0 hola\n",
      "0 hola\n",
      "0 hola\n",
      "0 hola\n",
      "0 hola\n",
      "0 hola\n",
      "0 hola\n",
      "0 hola\n",
      "0 hola\n",
      "0 hola\n",
      "0 hola\n",
      "0 hola\n",
      "0 hola\n",
      "0 hola\n",
      "0 hola\n",
      "0 hola\n",
      "0 hola\n",
      "0 hola\n",
      "0 hola\n",
      "0 hola\n",
      "0 hola\n",
      "0 hola\n",
      "0 hola\n",
      "0 hola\n",
      "0 hola\n",
      "0 hola\n",
      "0 hola\n",
      "0 hola\n",
      "0 hola\n",
      "0 hola\n",
      "0 hola\n",
      "0 hola\n",
      "0 hola\n",
      "0 hola\n",
      "0 hola\n",
      "0 hola\n",
      "0 hola\n",
      "0 hola\n",
      "0 hola\n",
      "0 hola\n",
      "0 hola\n",
      "0 hola\n",
      "0 hola\n",
      "0 hola\n",
      "0 hola\n",
      "0 hola\n",
      "0 hola\n",
      "0 hola\n",
      "0 hola\n",
      "0 hola\n",
      "0 hola\n",
      "0 hola\n",
      "0 hola\n",
      "0 hola\n",
      "0 hola\n",
      "0 hola\n",
      "0 hola\n",
      "0 hola\n",
      "0 hola\n",
      "0 hola\n",
      "0 hola\n",
      "0 hola\n",
      "0 hola\n",
      "0 hola\n",
      "0 hola\n",
      "0 hola\n",
      "0 hola\n",
      "0 hola\n",
      "0 hola\n",
      "0 hola\n",
      "0 hola\n",
      "0 hola\n",
      "0 hola\n",
      "0 hola\n",
      "0 hola\n",
      "0 hola\n",
      "0 hola\n",
      "0 hola\n",
      "0 hola\n",
      "0 hola\n",
      "0 hola\n",
      "0 hola\n",
      "0 hola\n",
      "0 hola\n",
      "0 hola\n",
      "0 hola\n",
      "0 hola\n",
      "0 hola\n",
      "0 hola\n",
      "0 hola\n",
      "0 hola\n",
      "0 hola\n",
      "0 hola\n",
      "0 hola\n",
      "0 hola\n",
      "0 hola\n",
      "0 hola\n",
      "0 hola\n",
      "0 hola\n",
      "0 hola\n",
      "0 hola\n",
      "0 hola\n",
      "0 hola\n",
      "0 hola\n",
      "0 hola\n",
      "0 hola\n",
      "0 hola\n",
      "0 hola\n",
      "0 hola\n",
      "0 hola\n",
      "0 hola\n",
      "0 hola\n",
      "0 hola\n",
      "0 hola\n",
      "0 hola\n",
      "0 hola\n",
      "0 hola\n",
      "0 hola\n",
      "0 hola\n",
      "0 hola\n",
      "0 hola\n",
      "0 hola\n",
      "0 hola\n",
      "0 hola\n",
      "0 hola\n",
      "0 hola\n",
      "0 hola\n",
      "0 hola\n",
      "0 hola\n",
      "0 hola\n",
      "0 hola\n",
      "0 hola\n",
      "0 hola\n",
      "0 hola\n",
      "0 hola\n",
      "0 hola\n",
      "0 hola\n",
      "0 hola\n",
      "0 hola\n",
      "0 hola\n",
      "0 hola\n",
      "0 hola\n",
      "0 hola\n",
      "0 hola\n",
      "0 hola\n",
      "0 hola\n",
      "0 hola\n",
      "0 hola\n",
      "0 hola\n",
      "0 hola\n",
      "0 hola\n",
      "0 hola\n",
      "0 hola\n",
      "0 hola\n",
      "0 hola\n",
      "0 hola\n",
      "0 hola\n",
      "0 hola\n",
      "0 hola\n",
      "0 hola\n",
      "0 hola\n",
      "0 hola\n",
      "0 hola\n",
      "0 hola\n",
      "0 hola\n",
      "0 hola\n",
      "0 hola\n",
      "0 hola\n",
      "0 hola\n",
      "0 hola\n",
      "0 hola\n",
      "0 hola\n",
      "0 hola\n",
      "0 hola\n",
      "0 hola\n",
      "0 hola\n",
      "0 hola\n",
      "0 hola\n",
      "0 hola\n",
      "0 hola\n",
      "0 hola\n",
      "0 hola\n",
      "0 hola\n",
      "0 hola\n",
      "0 hola\n",
      "0 hola\n",
      "0 hola\n",
      "0 hola\n",
      "0 hola\n",
      "0 hola\n",
      "0 hola\n",
      "0 hola\n",
      "0 hola\n",
      "0 hola\n",
      "0 hola\n",
      "0 hola\n",
      "0 hola\n",
      "0 hola\n",
      "0 hola\n",
      "0 hola\n",
      "0 hola\n",
      "0 hola\n",
      "0 hola\n",
      "0 hola\n",
      "0 hola\n",
      "0 hola\n",
      "0 hola\n",
      "0 hola\n",
      "0 hola\n",
      "0 hola\n",
      "0 hola\n",
      "0 hola\n",
      "0 hola\n",
      "0 hola\n",
      "0 hola\n",
      "0 hola\n",
      "0 hola\n",
      "0 hola\n",
      "0 hola\n",
      "0 hola\n",
      "0 hola\n",
      "0 hola\n",
      "0 hola\n",
      "0 hola\n",
      "0 hola\n",
      "0 hola\n",
      "0 hola\n",
      "0 hola\n",
      "0 hola\n",
      "0 hola\n",
      "0 hola\n",
      "0 hola\n",
      "0 hola\n",
      "0 hola\n",
      "0 hola\n",
      "0 hola\n",
      "0 hola\n",
      "0 hola\n",
      "0 hola\n",
      "0 hola\n",
      "0 hola\n",
      "0 hola\n",
      "0 hola\n",
      "0 hola\n",
      "0 hola\n",
      "0 hola\n",
      "0 hola\n",
      "0 hola\n",
      "0 hola\n",
      "0 hola\n",
      "0 hola\n",
      "0 hola\n",
      "0 hola\n",
      "0 hola\n",
      "0 hola\n",
      "0 hola\n",
      "0 hola\n",
      "0 hola\n",
      "0 hola\n",
      "0 hola\n",
      "0 hola\n",
      "0 hola\n",
      "0 hola\n",
      "0 hola\n",
      "0 hola\n",
      "0 hola\n",
      "0 hola\n",
      "0 hola\n",
      "0 hola\n",
      "0 hola\n",
      "0 hola\n",
      "0 hola\n",
      "0 hola\n",
      "0 hola\n",
      "0 hola\n",
      "0 hola\n",
      "0 hola\n",
      "0 hola\n",
      "0 hola\n",
      "0 hola\n",
      "0 hola\n",
      "0 hola\n",
      "0 hola\n",
      "0 hola\n",
      "0 hola\n",
      "0 hola\n",
      "0 hola\n",
      "0 hola\n",
      "0 hola\n",
      "0 hola\n",
      "0 hola\n",
      "0 hola\n",
      "0 hola\n",
      "0 hola\n",
      "0 hola\n",
      "0 hola\n",
      "0 hola\n",
      "0 hola\n",
      "0 hola\n",
      "0 hola\n",
      "0 hola\n",
      "0 hola\n",
      "0 hola\n",
      "0 hola\n",
      "0 hola\n",
      "0 hola\n",
      "0 hola\n",
      "0 hola\n",
      "0 hola\n",
      "0 hola\n",
      "0 hola\n",
      "0 hola\n",
      "0 hola\n",
      "0 hola\n",
      "0 hola\n",
      "0 hola\n",
      "0 hola\n",
      "0 hola\n",
      "0 hola\n",
      "0 hola\n",
      "0 hola\n",
      "0 hola\n",
      "0 hola\n",
      "0 hola\n",
      "0 hola\n",
      "0 hola\n",
      "0 hola\n",
      "0 hola\n",
      "0 hola\n",
      "0 hola\n",
      "0 hola\n",
      "0 hola\n",
      "0 hola\n",
      "0 hola\n",
      "0 hola\n",
      "0 hola\n",
      "0 hola\n",
      "0 hola\n",
      "0 hola\n",
      "0 hola\n",
      "0 hola\n",
      "0 hola\n",
      "0 hola\n",
      "0 hola\n",
      "0 hola\n",
      "0 hola\n",
      "0 hola\n",
      "0 hola\n",
      "0 hola\n",
      "0 hola\n",
      "0 hola\n",
      "0 hola\n",
      "0 hola\n",
      "0 hola\n",
      "0 hola\n",
      "0 hola\n",
      "0 hola\n",
      "0 hola\n",
      "0 hola\n",
      "0 hola\n",
      "0 hola\n",
      "0 hola\n",
      "0 hola\n",
      "0 hola\n",
      "0 hola\n",
      "0 hola\n",
      "0 hola\n",
      "0 hola\n",
      "0 hola\n",
      "0 hola\n",
      "0 hola\n",
      "0 hola\n",
      "0 hola\n",
      "0 hola\n",
      "0 hola\n",
      "0 hola\n",
      "0 hola\n",
      "0 hola\n",
      "0 hola\n",
      "0 hola\n",
      "0 hola\n",
      "0 hola\n",
      "0 hola\n",
      "0 hola\n",
      "0 hola\n",
      "0 hola\n",
      "0 hola\n",
      "0 hola\n",
      "0 hola\n",
      "0 hola\n",
      "0 hola\n",
      "0 hola\n",
      "0 hola\n",
      "0 hola\n",
      "0 hola\n",
      "0 hola\n",
      "0 hola\n",
      "0 hola\n",
      "0 hola\n",
      "0 hola\n",
      "0 hola\n",
      "0 hola\n",
      "0 hola\n",
      "0 hola\n",
      "0 hola\n",
      "0 hola\n",
      "0 hola\n",
      "0 hola\n",
      "0 hola\n",
      "0 hola\n",
      "0 hola\n",
      "0 hola\n",
      "0 hola\n",
      "0 hola\n",
      "0 hola\n",
      "0 hola\n",
      "0 hola\n",
      "0 hola\n",
      "0 hola\n",
      "0 hola\n",
      "0 hola\n",
      "0 hola\n",
      "0 hola\n",
      "0 hola\n",
      "0 hola\n",
      "0 hola\n",
      "0 hola\n",
      "0 hola\n",
      "0 hola\n",
      "0 hola\n",
      "0 hola\n",
      "0 hola\n",
      "0 hola\n",
      "0 hola\n",
      "0 hola\n",
      "0 hola\n",
      "0 hola\n",
      "0 hola\n",
      "0 hola\n",
      "0 hola\n",
      "0 hola\n",
      "0 hola\n",
      "0 hola\n",
      "0 hola\n",
      "0 hola\n",
      "0 hola\n",
      "0 hola\n",
      "0 hola\n",
      "0 hola\n",
      "0 hola\n",
      "0 hola\n",
      "0 hola\n",
      "0 hola\n",
      "0 hola\n",
      "0 hola\n",
      "0 hola\n",
      "0 hola\n",
      "0 hola\n",
      "0 hola\n",
      "0 hola\n",
      "0 hola\n",
      "0 hola\n",
      "0 hola\n",
      "0 hola\n",
      "0 hola\n",
      "0 hola\n",
      "0 hola\n",
      "0 hola\n",
      "0 hola\n",
      "0 hola\n",
      "0 hola\n",
      "0 hola\n",
      "0 hola\n",
      "0 hola\n",
      "0 hola\n",
      "0 hola\n",
      "0 hola\n",
      "0 hola\n",
      "0 hola\n",
      "0 hola\n",
      "0 hola\n",
      "0 hola\n",
      "0 hola\n",
      "0 hola\n",
      "0 hola\n",
      "0 hola\n",
      "0 hola\n",
      "0 hola\n",
      "0 hola\n",
      "0 hola\n",
      "0 hola\n",
      "0 hola\n",
      "0 hola\n",
      "0 hola\n",
      "0 hola\n",
      "0 hola\n",
      "0 hola\n",
      "0 hola\n",
      "0 hola\n",
      "0 hola\n",
      "0 hola\n",
      "0 hola\n",
      "0 hola\n",
      "0 hola\n",
      "0 hola\n",
      "0 hola\n",
      "0 hola\n",
      "0 hola\n",
      "0 hola\n",
      "0 hola\n",
      "0 hola\n",
      "0 hola\n",
      "0 hola\n",
      "0 hola\n",
      "0 hola\n",
      "0 hola\n",
      "0 hola\n",
      "0 hola\n",
      "0 hola\n",
      "0 hola\n",
      "0 hola\n",
      "0 hola\n",
      "0 hola\n",
      "0 hola\n",
      "0 hola\n",
      "0 hola\n",
      "0 hola\n",
      "0 hola\n",
      "0 hola\n",
      "0 hola\n",
      "0 hola\n",
      "0 hola\n",
      "0 hola\n",
      "0 hola\n",
      "0 hola\n",
      "0 hola\n",
      "0 hola\n",
      "0 hola\n",
      "0 hola\n",
      "0 hola\n",
      "0 hola\n",
      "0 hola\n",
      "0 hola\n",
      "0 hola\n",
      "0 hola\n",
      "0 hola\n",
      "0 hola\n",
      "0 hola\n",
      "0 hola\n",
      "0 hola\n",
      "0 hola\n",
      "0 hola\n",
      "0 hola\n",
      "0 hola\n",
      "0 hola\n",
      "0 hola\n",
      "0 hola\n",
      "0 hola\n",
      "0 hola\n",
      "0 hola\n",
      "0 hola\n",
      "0 hola\n",
      "0 hola\n",
      "0 hola\n",
      "0 hola\n",
      "0 hola\n",
      "0 hola\n",
      "0 hola\n",
      "0 hola\n",
      "0 hola\n",
      "0 hola\n",
      "0 hola\n",
      "0 hola\n",
      "0 hola\n",
      "0 hola\n",
      "0 hola\n",
      "0 hola\n",
      "0 hola\n",
      "0 hola\n",
      "0 hola\n",
      "0 hola\n",
      "0 hola\n",
      "0 hola\n",
      "0 hola\n",
      "0 hola\n",
      "0 hola\n",
      "0 hola\n",
      "0 hola\n",
      "0 hola\n",
      "0 hola\n",
      "0 hola\n",
      "0 hola\n",
      "0 hola\n",
      "0 hola\n",
      "0 hola\n",
      "0 hola\n",
      "0 hola\n",
      "0 hola\n",
      "0 hola\n",
      "0 hola\n",
      "0 hola\n",
      "0 hola\n",
      "0 hola\n",
      "0 hola\n",
      "0 hola\n",
      "0 hola\n",
      "0 hola\n",
      "0 hola\n",
      "0 hola\n",
      "0 hola\n",
      "0 hola\n",
      "0 hola\n",
      "0 hola\n",
      "0 hola\n",
      "0 hola\n",
      "0 hola\n",
      "0 hola\n",
      "0 hola\n",
      "0 hola\n",
      "0 hola\n",
      "0 hola\n",
      "0 hola\n",
      "0 hola\n",
      "0 hola\n",
      "0 hola\n",
      "0 hola\n",
      "0 hola\n",
      "0 hola\n",
      "0 hola\n",
      "0 hola\n",
      "0 hola\n",
      "0 hola\n",
      "0 hola\n",
      "0 hola\n",
      "0 hola\n",
      "0 hola\n",
      "0 hola\n",
      "0 hola\n",
      "0 hola\n",
      "0 hola\n",
      "0 hola\n",
      "0 hola\n",
      "0 hola\n",
      "0 hola\n",
      "0 hola\n",
      "0 hola\n",
      "0 hola\n",
      "0 hola\n",
      "0 hola\n",
      "0 hola\n",
      "0 hola\n",
      "0 hola\n",
      "0 hola\n",
      "0 hola\n",
      "0 hola\n",
      "0 hola\n",
      "0 hola\n",
      "0 hola\n",
      "0 hola\n",
      "0 hola\n",
      "0 hola\n",
      "0 hola\n",
      "0 hola\n",
      "0 hola\n",
      "0 hola\n",
      "0 hola\n",
      "0 hola\n",
      "0 hola\n",
      "0 hola\n",
      "0 hola\n",
      "0 hola\n",
      "0 hola\n",
      "0 hola\n",
      "0 hola\n",
      "0 hola\n",
      "0 hola\n",
      "0 hola\n",
      "0 hola\n",
      "0 hola\n",
      "0 hola\n",
      "0 hola\n",
      "0 hola\n",
      "0 hola\n",
      "0 hola\n",
      "0 hola\n",
      "0 hola\n",
      "0 hola\n",
      "0 hola\n",
      "0 hola\n",
      "0 hola\n",
      "0 hola\n",
      "0 hola\n",
      "0 hola\n",
      "0 hola\n",
      "0 hola\n",
      "0 hola\n",
      "0 hola\n",
      "0 hola\n",
      "0 hola\n",
      "0 hola\n",
      "0 hola\n",
      "0 hola\n",
      "0 hola\n",
      "0 hola\n",
      "0 hola\n",
      "0 hola\n",
      "0 hola\n",
      "0 hola\n",
      "0 hola\n",
      "0 hola\n",
      "0 hola\n",
      "0 hola\n",
      "0 hola\n",
      "0 hola\n",
      "0 hola\n",
      "0 hola\n",
      "0 hola\n",
      "0 hola\n",
      "0 hola\n",
      "0 hola\n",
      "0 hola\n",
      "0 hola\n",
      "0 hola\n",
      "0 hola\n",
      "0 hola\n",
      "0 hola\n",
      "0 hola\n",
      "0 hola\n",
      "0 hola\n",
      "0 hola\n",
      "0 hola\n",
      "0 hola\n",
      "0 hola\n",
      "0 hola\n",
      "0 hola\n",
      "0 hola\n",
      "0 hola\n",
      "0 hola\n",
      "0 hola\n",
      "0 hola\n",
      "0 hola\n",
      "0 hola\n",
      "0 hola\n",
      "0 hola\n",
      "0 hola\n",
      "0 hola\n",
      "0 hola\n",
      "0 hola\n",
      "0 hola\n",
      "0 hola\n",
      "0 hola\n",
      "0 hola\n",
      "0 hola\n",
      "0 hola\n",
      "0 hola\n",
      "0 hola\n",
      "0 hola\n",
      "0 hola\n",
      "0 hola\n",
      "0 hola\n",
      "0 hola\n",
      "0 hola\n",
      "0 hola\n",
      "0 hola\n",
      "0 hola\n",
      "0 hola\n",
      "0 hola\n",
      "0 hola\n",
      "0 hola\n",
      "0 hola\n",
      "0 hola\n",
      "0 hola\n",
      "0 hola\n",
      "0 hola\n",
      "0 hola\n",
      "0 hola\n",
      "0 hola\n",
      "0 hola\n",
      "0 hola\n",
      "0 hola\n",
      "0 hola\n",
      "0 hola\n",
      "0 hola\n",
      "0 hola\n",
      "0 hola\n",
      "0 hola\n",
      "0 hola\n",
      "0 hola\n",
      "0 hola\n",
      "0 "
     ]
    },
    {
     "output_type": "error",
     "ename": "KeyboardInterrupt",
     "evalue": "",
     "traceback": [
      "\u001B[0;31m---------------------------------------------------------------------------\u001B[0m",
      "\u001B[0;31mKeyboardInterrupt\u001B[0m                         Traceback (most recent call last)",
      "\u001B[0;32m<ipython-input-213-8ba2496175ae>\u001B[0m in \u001B[0;36m<cell line: 0>\u001B[0;34m()\u001B[0m\n\u001B[1;32m      2\u001B[0m \u001B[0;34m\u001B[0m\u001B[0m\n\u001B[1;32m      3\u001B[0m \u001B[0;32mwhile\u001B[0m \u001B[0mk\u001B[0m \u001B[0;34m<\u001B[0m \u001B[0;36m10\u001B[0m\u001B[0;34m:\u001B[0m\u001B[0;34m\u001B[0m\u001B[0;34m\u001B[0m\u001B[0m\n\u001B[0;32m----> 4\u001B[0;31m     \u001B[0mprint\u001B[0m\u001B[0;34m(\u001B[0m\u001B[0mk\u001B[0m\u001B[0;34m,\u001B[0m\u001B[0;34m'hola'\u001B[0m\u001B[0;34m)\u001B[0m\u001B[0;34m\u001B[0m\u001B[0;34m\u001B[0m\u001B[0m\n\u001B[0m",
      "\u001B[0;32m/usr/local/lib/python3.11/dist-packages/ipykernel/iostream.py\u001B[0m in \u001B[0;36mwrite\u001B[0;34m(self, string)\u001B[0m\n\u001B[1;32m    548\u001B[0m         \u001B[0;32melse\u001B[0m\u001B[0;34m:\u001B[0m\u001B[0;34m\u001B[0m\u001B[0;34m\u001B[0m\u001B[0m\n\u001B[1;32m    549\u001B[0m \u001B[0;34m\u001B[0m\u001B[0m\n\u001B[0;32m--> 550\u001B[0;31m             \u001B[0mis_child\u001B[0m \u001B[0;34m=\u001B[0m \u001B[0;32mnot\u001B[0m \u001B[0mself\u001B[0m\u001B[0;34m.\u001B[0m\u001B[0m_is_master_process\u001B[0m\u001B[0;34m(\u001B[0m\u001B[0;34m)\u001B[0m\u001B[0;34m\u001B[0m\u001B[0;34m\u001B[0m\u001B[0m\n\u001B[0m\u001B[1;32m    551\u001B[0m             \u001B[0;31m# only touch the buffer in the IO thread to avoid races\u001B[0m\u001B[0;34m\u001B[0m\u001B[0;34m\u001B[0m\u001B[0m\n\u001B[1;32m    552\u001B[0m             \u001B[0;32mwith\u001B[0m \u001B[0mself\u001B[0m\u001B[0;34m.\u001B[0m\u001B[0m_buffer_lock\u001B[0m\u001B[0;34m:\u001B[0m\u001B[0;34m\u001B[0m\u001B[0;34m\u001B[0m\u001B[0m\n",
      "\u001B[0;32m/usr/local/lib/python3.11/dist-packages/ipykernel/iostream.py\u001B[0m in \u001B[0;36m_is_master_process\u001B[0;34m(self)\u001B[0m\n\u001B[1;32m    436\u001B[0m \u001B[0;34m\u001B[0m\u001B[0m\n\u001B[1;32m    437\u001B[0m     \u001B[0;32mdef\u001B[0m \u001B[0m_is_master_process\u001B[0m\u001B[0;34m(\u001B[0m\u001B[0mself\u001B[0m\u001B[0;34m)\u001B[0m\u001B[0;34m:\u001B[0m\u001B[0;34m\u001B[0m\u001B[0;34m\u001B[0m\u001B[0m\n\u001B[0;32m--> 438\u001B[0;31m         \u001B[0;32mreturn\u001B[0m \u001B[0mos\u001B[0m\u001B[0;34m.\u001B[0m\u001B[0mgetpid\u001B[0m\u001B[0;34m(\u001B[0m\u001B[0;34m)\u001B[0m \u001B[0;34m==\u001B[0m \u001B[0mself\u001B[0m\u001B[0;34m.\u001B[0m\u001B[0m_master_pid\u001B[0m\u001B[0;34m\u001B[0m\u001B[0;34m\u001B[0m\u001B[0m\n\u001B[0m\u001B[1;32m    439\u001B[0m \u001B[0;34m\u001B[0m\u001B[0m\n\u001B[1;32m    440\u001B[0m     \u001B[0;32mdef\u001B[0m \u001B[0mset_parent\u001B[0m\u001B[0;34m(\u001B[0m\u001B[0mself\u001B[0m\u001B[0;34m,\u001B[0m \u001B[0mparent\u001B[0m\u001B[0;34m)\u001B[0m\u001B[0;34m:\u001B[0m\u001B[0;34m\u001B[0m\u001B[0;34m\u001B[0m\u001B[0m\n",
      "\u001B[0;31mKeyboardInterrupt\u001B[0m: "
     ]
    }
   ]
  },
  {
   "cell_type": "code",
   "source": [
    "while True:\n",
    "    edad = input(\"Escriba su edad con números >\")\n",
    "    try:\n",
    "        edad = float(edad)\n",
    "        break\n",
    "    except:\n",
    "        print('edad inválida. Por favor, digite su edad únicamente utilizando números.')\n",
    "\n",
    "if edad >= 18:\n",
    "    print(\"hola, bienvenido, su edad es \" + str(int(edad)))\n",
    "else:\n",
    "    print(\"Por favor, vete de aquí.\")"
   ],
   "metadata": {
    "colab": {
     "base_uri": "https://localhost:8080/"
    },
    "id": "fKWXMxxz815M",
    "outputId": "64fb350e-5bbb-4b72-cfc2-1bfc4c8b7394"
   },
   "execution_count": null,
   "outputs": [
    {
     "output_type": "stream",
     "name": "stdout",
     "text": [
      "Escriba su edad con números >ventiz1nco\n",
      "edad inválida. Por favor, digite su edad únicamente utilizando números.\n",
      "Escriba su edad con números >venticinco\n",
      "edad inválida. Por favor, digite su edad únicamente utilizando números.\n",
      "Escriba su edad con números >25\n",
      "hola, bienvenido, su edad es 25\n"
     ]
    }
   ]
  },
  {
   "cell_type": "code",
   "source": [
    "edad = float(\"veinticinco\")"
   ],
   "metadata": {
    "colab": {
     "base_uri": "https://localhost:8080/",
     "height": 141
    },
    "id": "P5tZa4BFmhF2",
    "outputId": "542282e1-6183-4736-d1f2-1ffff58404ca"
   },
   "execution_count": null,
   "outputs": [
    {
     "output_type": "error",
     "ename": "ValueError",
     "evalue": "could not convert string to float: 'veinticinco'",
     "traceback": [
      "\u001B[0;31m---------------------------------------------------------------------------\u001B[0m",
      "\u001B[0;31mValueError\u001B[0m                                Traceback (most recent call last)",
      "\u001B[0;32m<ipython-input-215-f659197d0fa6>\u001B[0m in \u001B[0;36m<cell line: 0>\u001B[0;34m()\u001B[0m\n\u001B[0;32m----> 1\u001B[0;31m \u001B[0medad\u001B[0m \u001B[0;34m=\u001B[0m \u001B[0mfloat\u001B[0m\u001B[0;34m(\u001B[0m\u001B[0;34m\"veinticinco\"\u001B[0m\u001B[0;34m)\u001B[0m\u001B[0;34m\u001B[0m\u001B[0;34m\u001B[0m\u001B[0m\n\u001B[0m",
      "\u001B[0;31mValueError\u001B[0m: could not convert string to float: 'veinticinco'"
     ]
    }
   ]
  },
  {
   "cell_type": "markdown",
   "source": [
    "## Sentencia for"
   ],
   "metadata": {
    "id": "QwxKBIupqQ3Q"
   }
  },
  {
   "cell_type": "code",
   "source": [
    "lista_elementos = [1,'2',3,'cuatro']"
   ],
   "metadata": {
    "id": "t8y-13xYqTJG"
   },
   "execution_count": null,
   "outputs": []
  },
  {
   "cell_type": "code",
   "source": [
    "for elemento in lista_elementos:\n",
    "    print(elemento)"
   ],
   "metadata": {
    "colab": {
     "base_uri": "https://localhost:8080/"
    },
    "id": "TxaGN0b9qP-n",
    "outputId": "adc4cb1d-d814-4f15-d4e4-b65f654c57aa"
   },
   "execution_count": null,
   "outputs": [
    {
     "output_type": "stream",
     "name": "stdout",
     "text": [
      "1\n",
      "2\n",
      "3\n",
      "cuatro\n"
     ]
    }
   ]
  },
  {
   "cell_type": "code",
   "source": [
    "for i in range(10):\n",
    "    print(i)"
   ],
   "metadata": {
    "colab": {
     "base_uri": "https://localhost:8080/"
    },
    "id": "6CLXoAXuqNFa",
    "outputId": "d2bafe65-36c8-4e8d-85a3-634fbfae88a4"
   },
   "execution_count": null,
   "outputs": [
    {
     "output_type": "stream",
     "name": "stdout",
     "text": [
      "0\n",
      "1\n",
      "2\n",
      "3\n",
      "4\n",
      "5\n",
      "6\n",
      "7\n",
      "8\n",
      "9\n"
     ]
    }
   ]
  },
  {
   "cell_type": "code",
   "source": [
    "for i in range(5,14):\n",
    "    print(i)"
   ],
   "metadata": {
    "colab": {
     "base_uri": "https://localhost:8080/"
    },
    "id": "EAM5oY0ysZNo",
    "outputId": "cc8ba1e2-e1ee-4485-cfe0-8ed092a3aa7b"
   },
   "execution_count": null,
   "outputs": [
    {
     "output_type": "stream",
     "name": "stdout",
     "text": [
      "5\n",
      "6\n",
      "7\n",
      "8\n",
      "9\n",
      "10\n",
      "11\n",
      "12\n",
      "13\n"
     ]
    }
   ]
  },
  {
   "cell_type": "code",
   "source": [
    "len(lista_elementos)"
   ],
   "metadata": {
    "colab": {
     "base_uri": "https://localhost:8080/"
    },
    "id": "FMu0funzsKwQ",
    "outputId": "cbad25e7-0eff-4e31-f2e3-45b192e82836"
   },
   "execution_count": null,
   "outputs": [
    {
     "output_type": "execute_result",
     "data": {
      "text/plain": [
       "4"
      ]
     },
     "metadata": {},
     "execution_count": 10
    }
   ]
  },
  {
   "cell_type": "code",
   "source": [
    "for i in range(len(lista_elementos)):\n",
    "    print(i,lista_elementos[i])"
   ],
   "metadata": {
    "colab": {
     "base_uri": "https://localhost:8080/"
    },
    "id": "EG9-YjHUsHkL",
    "outputId": "a95966df-753a-4675-e8bd-e27ac798647c"
   },
   "execution_count": null,
   "outputs": [
    {
     "output_type": "stream",
     "name": "stdout",
     "text": [
      "0 1\n",
      "1 2\n",
      "2 3\n",
      "3 cuatro\n"
     ]
    }
   ]
  },
  {
   "cell_type": "markdown",
   "source": [
    "### Ejercicio y funciones\n",
    "\n",
    "Dado un arreglo, sumar todos los elementos del arreglo."
   ],
   "metadata": {
    "id": "Z-JS3UVN8OFo"
   }
  },
  {
   "cell_type": "code",
   "source": [
    "lista_ejemplo = [7,2,8]\n",
    "\n",
    "print(lista_ejemplo)\n",
    "\n",
    "def sumaLista(lista):\n",
    "    suma = 0\n",
    "    i = 0\n",
    "\n",
    "    while i < len(lista):\n",
    "        suma += lista[i]\n",
    "        i += 1\n",
    "\n",
    "    return suma,i"
   ],
   "metadata": {
    "id": "u6QJKLs37KNc",
    "colab": {
     "base_uri": "https://localhost:8080/"
    },
    "outputId": "23a19e10-1d5a-4999-d662-eabbd9da4a91"
   },
   "execution_count": null,
   "outputs": [
    {
     "output_type": "stream",
     "name": "stdout",
     "text": [
      "[7, 2, 8]\n"
     ]
    }
   ]
  },
  {
   "cell_type": "code",
   "source": [
    "total,n_elementos = sumaLista(lista_ejemplo)\n",
    "print(total,n_elementos)"
   ],
   "metadata": {
    "colab": {
     "base_uri": "https://localhost:8080/"
    },
    "id": "vL-t8uP3rCJw",
    "outputId": "a0884cc9-81ae-4764-cb67-7f03adf0b99e"
   },
   "execution_count": null,
   "outputs": [
    {
     "output_type": "stream",
     "name": "stdout",
     "text": [
      "17 3\n"
     ]
    }
   ]
  },
  {
   "cell_type": "code",
   "source": [
    "suma"
   ],
   "metadata": {
    "colab": {
     "base_uri": "https://localhost:8080/",
     "height": 141
    },
    "id": "7qf3zZ2gqyF8",
    "outputId": "5b337c3a-08f3-459a-8fe4-c1d5b133f652"
   },
   "execution_count": null,
   "outputs": [
    {
     "output_type": "error",
     "ename": "NameError",
     "evalue": "name 'suma' is not defined",
     "traceback": [
      "\u001B[0;31m---------------------------------------------------------------------------\u001B[0m",
      "\u001B[0;31mNameError\u001B[0m                                 Traceback (most recent call last)",
      "\u001B[0;32m<ipython-input-19-df27c241b22a>\u001B[0m in \u001B[0;36m<cell line: 0>\u001B[0;34m()\u001B[0m\n\u001B[0;32m----> 1\u001B[0;31m \u001B[0msuma\u001B[0m\u001B[0;34m\u001B[0m\u001B[0;34m\u001B[0m\u001B[0m\n\u001B[0m",
      "\u001B[0;31mNameError\u001B[0m: name 'suma' is not defined"
     ]
    }
   ]
  },
  {
   "cell_type": "code",
   "source": [
    "lista"
   ],
   "metadata": {
    "colab": {
     "base_uri": "https://localhost:8080/",
     "height": 141
    },
    "id": "rM2D_OWerb5X",
    "outputId": "18a887b9-f0c5-497e-84b4-30451726008a"
   },
   "execution_count": null,
   "outputs": [
    {
     "output_type": "error",
     "ename": "NameError",
     "evalue": "name 'lista' is not defined",
     "traceback": [
      "\u001B[0;31m---------------------------------------------------------------------------\u001B[0m",
      "\u001B[0;31mNameError\u001B[0m                                 Traceback (most recent call last)",
      "\u001B[0;32m<ipython-input-20-47aabe866026>\u001B[0m in \u001B[0;36m<cell line: 0>\u001B[0;34m()\u001B[0m\n\u001B[0;32m----> 1\u001B[0;31m \u001B[0mlista\u001B[0m\u001B[0;34m\u001B[0m\u001B[0;34m\u001B[0m\u001B[0m\n\u001B[0m",
      "\u001B[0;31mNameError\u001B[0m: name 'lista' is not defined"
     ]
    }
   ]
  },
  {
   "cell_type": "code",
   "source": [
    "i"
   ],
   "metadata": {
    "colab": {
     "base_uri": "https://localhost:8080/"
    },
    "id": "Ks5RTsiCtqDu",
    "outputId": "718dc69d-5b8d-4881-db44-0b186bef46b5"
   },
   "execution_count": null,
   "outputs": [
    {
     "output_type": "execute_result",
     "data": {
      "text/plain": [
       "13"
      ]
     },
     "metadata": {},
     "execution_count": 21
    }
   ]
  },
  {
   "cell_type": "code",
   "source": [
    "A = 3\n",
    "\n",
    "def sumaListaEspecial(lista):\n",
    "    suma = 0\n",
    "    i = 0\n",
    "    while i < len(lista):\n",
    "        suma += A*lista[i]\n",
    "        i += 1\n",
    "\n",
    "    return suma,i"
   ],
   "metadata": {
    "id": "7Jg4bF9HsBVy"
   },
   "execution_count": null,
   "outputs": []
  },
  {
   "cell_type": "code",
   "source": [
    "sumaListaEspecial(lista_ejemplo)"
   ],
   "metadata": {
    "colab": {
     "base_uri": "https://localhost:8080/"
    },
    "id": "rT2q5eSSsLwC",
    "outputId": "3cfff84e-8db4-41e2-e594-4736624d9d2e"
   },
   "execution_count": null,
   "outputs": [
    {
     "output_type": "execute_result",
     "data": {
      "text/plain": [
       "(51, 3)"
      ]
     },
     "metadata": {},
     "execution_count": 30
    }
   ]
  },
  {
   "cell_type": "markdown",
   "source": [
    "## Programación funcional"
   ],
   "metadata": {
    "id": "ifB0xgl-SyIj"
   }
  },
  {
   "cell_type": "code",
   "source": [
    "# Lista de precios\n",
    "precios = [100, 150, 200]\n",
    "# Aplicar descuento del 10%\n",
    "precios_con_descuento = list(map(lambda x: x * 0.9, precios))\n",
    "print(precios_con_descuento)"
   ],
   "metadata": {
    "colab": {
     "base_uri": "https://localhost:8080/"
    },
    "id": "LREPd3XKTDtB",
    "outputId": "f7675657-eb94-4623-95ea-e4f5d6d61153"
   },
   "execution_count": null,
   "outputs": [
    {
     "output_type": "stream",
     "name": "stdout",
     "text": [
      "[90.0, 135.0, 180.0]\n"
     ]
    }
   ]
  },
  {
   "cell_type": "code",
   "source": [
    "porcentaje = 0.9\n",
    "\n",
    "precios = [100, 150, 200]\n",
    "precios_con_descuento = []\n",
    "\n",
    "for precio in precios:\n",
    "    precio_con_descuento = precio * porcentaje\n",
    "    precios_con_descuento.append(precio_con_descuento)\n",
    "\n",
    "print(precios_con_descuento)"
   ],
   "metadata": {
    "colab": {
     "base_uri": "https://localhost:8080/"
    },
    "id": "ISNjHzvyvRw9",
    "outputId": "f3cf8b35-70b3-4615-e508-f8725c35218b"
   },
   "execution_count": null,
   "outputs": [
    {
     "output_type": "stream",
     "name": "stdout",
     "text": [
      "[90.0, 135.0, 180.0]\n"
     ]
    }
   ]
  },
  {
   "cell_type": "markdown",
   "source": [
    "### Funciones recursivas\n",
    "\n",
    "$$ 0! = 1 $$\n",
    "\n",
    "$$ n! = n \\cdot (n-1)! $$\n",
    "\n",
    "Otra definición\n",
    "\n",
    "$$ n! = \\prod_{i=1}^{n} i $$\n"
   ],
   "metadata": {
    "id": "7KbdgYPsCOEh"
   }
  },
  {
   "cell_type": "code",
   "source": [
    "def factorial(n):\n",
    "    if n == 0:\n",
    "        return 1\n",
    "    else:\n",
    "        return n*factorial(n-1)"
   ],
   "metadata": {
    "id": "26nIq0z3Cs9v",
    "ExecuteTime": {
     "end_time": "2025-05-01T03:05:45.362361Z",
     "start_time": "2025-05-01T03:05:45.359325Z"
    }
   },
   "outputs": [],
   "execution_count": 1
  },
  {
   "cell_type": "code",
   "source": [
    "5*4*3*2*1"
   ],
   "metadata": {
    "colab": {
     "base_uri": "https://localhost:8080/"
    },
    "id": "6AOH6JAeyR2h",
    "outputId": "175dbff1-10e1-41ac-f403-bda3a8d41042",
    "ExecuteTime": {
     "end_time": "2025-05-01T03:05:51.681712Z",
     "start_time": "2025-05-01T03:05:51.677191Z"
    }
   },
   "outputs": [
    {
     "data": {
      "text/plain": [
       "120"
      ]
     },
     "execution_count": 2,
     "metadata": {},
     "output_type": "execute_result"
    }
   ],
   "execution_count": 2
  },
  {
   "cell_type": "code",
   "source": [
    "factorial(5)"
   ],
   "metadata": {
    "id": "BQ7GUjXQWHJn",
    "colab": {
     "base_uri": "https://localhost:8080/"
    },
    "outputId": "e926cc0c-638b-4885-ed80-a6d71ceccdba"
   },
   "execution_count": null,
   "outputs": [
    {
     "output_type": "execute_result",
     "data": {
      "text/plain": [
       "120"
      ]
     },
     "metadata": {},
     "execution_count": 34
    }
   ]
  },
  {
   "cell_type": "code",
   "source": [
    "def factorial_malo(n):\n",
    "    return n*factorial_malo(n-1)"
   ],
   "metadata": {
    "id": "TT6Wphf6WHMX"
   },
   "execution_count": null,
   "outputs": []
  },
  {
   "cell_type": "code",
   "source": [],
   "metadata": {
    "id": "9uciSESmWHOz"
   },
   "execution_count": null,
   "outputs": []
  },
  {
   "cell_type": "code",
   "source": [
    "factorial_malo(5)"
   ],
   "metadata": {
    "colab": {
     "base_uri": "https://localhost:8080/",
     "height": 269
    },
    "id": "nmfaSeQDDAJ3",
    "outputId": "f8f182b6-0931-4a1d-9153-e177b336d3ad"
   },
   "execution_count": null,
   "outputs": [
    {
     "output_type": "error",
     "ename": "RecursionError",
     "evalue": "maximum recursion depth exceeded",
     "traceback": [
      "\u001B[0;31m---------------------------------------------------------------------------\u001B[0m",
      "\u001B[0;31mRecursionError\u001B[0m                            Traceback (most recent call last)",
      "\u001B[0;32m<ipython-input-37-59733d20552c>\u001B[0m in \u001B[0;36m<cell line: 0>\u001B[0;34m()\u001B[0m\n\u001B[0;32m----> 1\u001B[0;31m \u001B[0mfactorial_malo\u001B[0m\u001B[0;34m(\u001B[0m\u001B[0;36m5\u001B[0m\u001B[0;34m)\u001B[0m\u001B[0;34m\u001B[0m\u001B[0;34m\u001B[0m\u001B[0m\n\u001B[0m",
      "\u001B[0;32m<ipython-input-36-25dc41157e6a>\u001B[0m in \u001B[0;36mfactorial_malo\u001B[0;34m(n)\u001B[0m\n\u001B[1;32m      1\u001B[0m \u001B[0;32mdef\u001B[0m \u001B[0mfactorial_malo\u001B[0m\u001B[0;34m(\u001B[0m\u001B[0mn\u001B[0m\u001B[0;34m)\u001B[0m\u001B[0;34m:\u001B[0m\u001B[0;34m\u001B[0m\u001B[0;34m\u001B[0m\u001B[0m\n\u001B[0;32m----> 2\u001B[0;31m     \u001B[0;32mreturn\u001B[0m \u001B[0mn\u001B[0m\u001B[0;34m*\u001B[0m\u001B[0mfactorial_malo\u001B[0m\u001B[0;34m(\u001B[0m\u001B[0mn\u001B[0m\u001B[0;34m-\u001B[0m\u001B[0;36m1\u001B[0m\u001B[0;34m)\u001B[0m\u001B[0;34m\u001B[0m\u001B[0;34m\u001B[0m\u001B[0m\n\u001B[0m",
      "... last 1 frames repeated, from the frame below ...\n",
      "\u001B[0;32m<ipython-input-36-25dc41157e6a>\u001B[0m in \u001B[0;36mfactorial_malo\u001B[0;34m(n)\u001B[0m\n\u001B[1;32m      1\u001B[0m \u001B[0;32mdef\u001B[0m \u001B[0mfactorial_malo\u001B[0m\u001B[0;34m(\u001B[0m\u001B[0mn\u001B[0m\u001B[0;34m)\u001B[0m\u001B[0;34m:\u001B[0m\u001B[0;34m\u001B[0m\u001B[0;34m\u001B[0m\u001B[0m\n\u001B[0;32m----> 2\u001B[0;31m     \u001B[0;32mreturn\u001B[0m \u001B[0mn\u001B[0m\u001B[0;34m*\u001B[0m\u001B[0mfactorial_malo\u001B[0m\u001B[0;34m(\u001B[0m\u001B[0mn\u001B[0m\u001B[0;34m-\u001B[0m\u001B[0;36m1\u001B[0m\u001B[0;34m)\u001B[0m\u001B[0;34m\u001B[0m\u001B[0;34m\u001B[0m\u001B[0m\n\u001B[0m",
      "\u001B[0;31mRecursionError\u001B[0m: maximum recursion depth exceeded"
     ]
    }
   ]
  },
  {
   "cell_type": "code",
   "source": [
    "def factorial(n):\n",
    "    fact = 1\n",
    "    for i in range(1,n+1):\n",
    "        fact = fact*i\n",
    "    return fact"
   ],
   "metadata": {
    "id": "ZjrqNSiRDDwk",
    "ExecuteTime": {
     "end_time": "2025-05-02T01:54:59.479192Z",
     "start_time": "2025-05-02T01:54:59.476689Z"
    }
   },
   "outputs": [],
   "execution_count": 6
  },
  {
   "cell_type": "code",
   "source": [
    "factorial(5)"
   ],
   "metadata": {
    "id": "LSCAYGIcDinc",
    "outputId": "7b062a86-3548-4234-8974-0574c725ae05",
    "colab": {
     "base_uri": "https://localhost:8080/"
    },
    "ExecuteTime": {
     "end_time": "2025-05-02T01:55:01.120730Z",
     "start_time": "2025-05-02T01:55:01.116236Z"
    }
   },
   "outputs": [
    {
     "data": {
      "text/plain": [
       "120"
      ]
     },
     "execution_count": 7,
     "metadata": {},
     "output_type": "execute_result"
    }
   ],
   "execution_count": 7
  },
  {
   "cell_type": "markdown",
   "source": [
    "# Clases"
   ],
   "metadata": {
    "id": "i9lGqDwISP_d"
   }
  },
  {
   "cell_type": "code",
   "source": [
    "class Polleria:\n",
    "    def __init__(self, nombre, ubicacion):\n",
    "        self.nombre = nombre\n",
    "        self.ubicacion = ubicacion\n",
    "\n",
    "    def mostrar_info(self):\n",
    "        print(f\"Pollería: {self.nombre}, Ubicación: {self.ubicacion}\")\n",
    "\n",
    "negocio = Polleria(\"El Pollo Feliz\", \"Ciudad de México\")\n",
    "negocio.mostrar_info()"
   ],
   "metadata": {
    "id": "kRTVijtmSROT",
    "colab": {
     "base_uri": "https://localhost:8080/"
    },
    "outputId": "29094b7e-ff82-4d03-847b-f341be1d4262"
   },
   "execution_count": null,
   "outputs": [
    {
     "output_type": "stream",
     "name": "stdout",
     "text": [
      "Pollería: El Pollo Feliz, Ubicación: Ciudad de México\n"
     ]
    }
   ]
  },
  {
   "cell_type": "markdown",
   "source": [
    "# Ejercicios\n",
    "\n",
    "1. Implemente una función que calcule la media de una lista\n",
    "\n",
    "$$ \\overline{x} = \\frac{1}{n} \\sum_{i=1}^{n} x_i $$\n",
    "\n",
    "2. Implemente una función que calcule la varianza de una lista\n",
    "\n",
    "$$ \\frac{1}{n-1} \\sum_{i=1}^{n} (x_i-\\overline{x})^2 $$\n",
    "\n",
    "3. Implemente una función que calcule el seno de un ángulo en radianes sin usar math.\n",
    "\n",
    "$$  \\sin(x) = \\sum_{i=0}^{∞} \\frac{ (-1)^i }{ (2i + 1)!} x^{2i +1} $$\n",
    "\n",
    "4. Implemente la función de Fibonacci:\n",
    "\n",
    "$$ f(0) = 0 $$\n",
    "\n",
    "$$ f(1) = 1 $$\n",
    "\n",
    "$$ f(n) = f(n-1) + f(n-2) $$"
   ],
   "metadata": {
    "id": "2mw00nXx_O18"
   }
  },
  {
   "cell_type": "code",
   "source": [
    "# 1. Implemente una función que calcule la media de una lista.\n",
    "#==============================================================\n",
    "def Fmedia(lista: list) -> float:\n",
    "  if not lista:\n",
    "    return 0\n",
    "\n",
    "  return sum(lista)/len(lista)\n",
    "\n",
    "lista = [1,2,3,4,5]\n",
    "print(Fmedia(lista))\n",
    "import statistics\n",
    "print(statistics.mean(lista))"
   ],
   "metadata": {
    "id": "WgBTHPrwFKXt",
    "colab": {
     "base_uri": "https://localhost:8080/"
    },
    "outputId": "65e142b6-f0f9-4ba9-9a1f-59d498d3ccd0",
    "ExecuteTime": {
     "end_time": "2025-05-02T01:51:22.249121Z",
     "start_time": "2025-05-02T01:51:22.244093Z"
    }
   },
   "outputs": [
    {
     "name": "stdout",
     "output_type": "stream",
     "text": [
      "3.0\n",
      "3\n"
     ]
    }
   ],
   "execution_count": 3
  },
  {
   "cell_type": "code",
   "source": [
    "Fmedia(lista)"
   ],
   "metadata": {
    "colab": {
     "base_uri": "https://localhost:8080/"
    },
    "id": "jpx82-bEmUPi",
    "outputId": "34acd4fd-2a66-4052-9950-a67ca34d4689",
    "ExecuteTime": {
     "end_time": "2025-05-02T01:51:35.907874Z",
     "start_time": "2025-05-02T01:51:35.904414Z"
    }
   },
   "outputs": [
    {
     "data": {
      "text/plain": [
       "3.0"
      ]
     },
     "execution_count": 4,
     "metadata": {},
     "output_type": "execute_result"
    }
   ],
   "execution_count": 4
  },
  {
   "cell_type": "code",
   "source": [
    "# 2. Implemente una función que calcule la varianza de una lista\n",
    "#==============================================================\n",
    "def fvarianza(lista: list) -> float:\n",
    "  if not lista:\n",
    "    return 0\n",
    "  average: float = Fmedia(lista)\n",
    "  values = [(x - average) ** 2 for x in lista]\n",
    "  return float(sum(values)/len(lista))\n",
    "\n",
    "lista = [2, 4, 4, 4, 5, 5, 7, 9]\n",
    "print(fvarianza(lista))\n",
    "import statistics\n",
    "print(statistics.variance(lista))"
   ],
   "metadata": {
    "id": "bkz57UJxuFEN",
    "colab": {
     "base_uri": "https://localhost:8080/"
    },
    "outputId": "cce2f614-2c29-4d70-f605-3f1e9e65a61a",
    "ExecuteTime": {
     "end_time": "2025-05-02T01:51:39.636956Z",
     "start_time": "2025-05-02T01:51:39.633155Z"
    }
   },
   "outputs": [
    {
     "name": "stdout",
     "output_type": "stream",
     "text": [
      "4.0\n",
      "4.571428571428571\n"
     ]
    }
   ],
   "execution_count": 5
  },
  {
   "cell_type": "code",
   "source": [
    "fvarianza(lista)"
   ],
   "metadata": {
    "colab": {
     "base_uri": "https://localhost:8080/"
    },
    "id": "t42bKgffUM4M",
    "outputId": "4c8b5916-c56c-46ba-ef52-e2e43d54d0f3"
   },
   "execution_count": null,
   "outputs": [
    {
     "output_type": "execute_result",
     "data": {
      "text/plain": [
       "0.0"
      ]
     },
     "metadata": {},
     "execution_count": 6
    }
   ]
  },
  {
   "cell_type": "code",
   "source": [
    "# 3. Implemente una función que calcule el seno de un ángulo en radianes sin usar math.\n",
    "# ====================================================================================\n",
    "def sin_without_math(angle, samples=20) -> float:\n",
    "  if not angle:\n",
    "    return 0\n",
    "  result: float = 0\n",
    "  for i in range(samples):\n",
    "    sign = (-1) ** i\n",
    "    power = 2 * i + 1\n",
    "    result += sign * ((angle ** power)/factorial(power))\n",
    "  return result\n",
    "\n",
    "import math\n",
    "angulo = 12\n",
    "radians = angulo*math.pi/180\n",
    "print(sin_without_math(angulo))\n",
    "#\n",
    "print(math.sin(angulo))"
   ],
   "metadata": {
    "id": "rABp6ngljXKE",
    "ExecuteTime": {
     "end_time": "2025-05-02T01:55:14.689702Z",
     "start_time": "2025-05-02T01:55:14.686906Z"
    }
   },
   "outputs": [
    {
     "name": "stdout",
     "output_type": "stream",
     "text": [
      "-0.5365777985955943\n",
      "-0.5365729180004349\n"
     ]
    }
   ],
   "execution_count": 9
  },
  {
   "cell_type": "code",
   "source": [
    "import math\n",
    "math.sin(angulo)"
   ],
   "metadata": {
    "colab": {
     "base_uri": "https://localhost:8080/",
     "height": 162
    },
    "id": "f--kTfo4LHsI",
    "outputId": "90293bab-5950-4a8d-dc51-25a00ac056ed",
    "ExecuteTime": {
     "end_time": "2025-05-01T03:16:03.137325Z",
     "start_time": "2025-05-01T03:16:03.134648Z"
    }
   },
   "outputs": [
    {
     "data": {
      "text/plain": [
       "-0.5365729180004349"
      ]
     },
     "execution_count": 17,
     "metadata": {},
     "output_type": "execute_result"
    }
   ],
   "execution_count": 17
  },
  {
   "cell_type": "markdown",
   "source": [
    "# Textos"
   ],
   "metadata": {
    "id": "qjeGBgjxTelj"
   }
  },
  {
   "cell_type": "code",
   "source": [
    "texto = \"The origins of computation can be traced back to humanity's innate drive to understand and manipulate numbers. From primitive counting systems to sophisticated electronic machines, the journey of computation reflects the evolution of human thought and technology. The development of digital computers and the subsequent information age have ushered in a new era of innovation, shaping the world in ways unimaginable in the past. As we continue to push the boundaries of computing, the possibilities for further advancements and discoveries are seemingly limitless, promising a future filled with remarkable technological achievements.\""
   ],
   "metadata": {
    "id": "p8-zlyTrT8jg"
   },
   "execution_count": null,
   "outputs": []
  },
  {
   "cell_type": "code",
   "source": [
    "texto"
   ],
   "metadata": {
    "colab": {
     "base_uri": "https://localhost:8080/",
     "height": 139
    },
    "id": "FPAgLe4Qa_c9",
    "outputId": "529677ce-7416-470d-87b1-4baae7c5de42"
   },
   "execution_count": null,
   "outputs": [
    {
     "output_type": "execute_result",
     "data": {
      "text/plain": [
       "\"The origins of computation can be traced back to humanity's innate drive to understand and manipulate numbers. From primitive counting systems to sophisticated electronic machines, the journey of computation reflects the evolution of human thought and technology. The development of digital computers and the subsequent information age have ushered in a new era of innovation, shaping the world in ways unimaginable in the past. As we continue to push the boundaries of computing, the possibilities for further advancements and discoveries are seemingly limitless, promising a future filled with remarkable technological achievements.\""
      ],
      "application/vnd.google.colaboratory.intrinsic+json": {
       "type": "string"
      }
     },
     "metadata": {},
     "execution_count": 44
    }
   ]
  },
  {
   "cell_type": "code",
   "source": [
    "with open(\"archivo.txt\", \"w\") as f:\n",
    "    f.write(texto)"
   ],
   "metadata": {
    "id": "NpZJarbmUVSI"
   },
   "execution_count": null,
   "outputs": []
  },
  {
   "cell_type": "code",
   "source": [
    "del texto"
   ],
   "metadata": {
    "id": "s0lxaPbxbLuU"
   },
   "execution_count": null,
   "outputs": []
  },
  {
   "cell_type": "code",
   "source": [
    "texto"
   ],
   "metadata": {
    "colab": {
     "base_uri": "https://localhost:8080/",
     "height": 141
    },
    "id": "mdyPvKximnBR",
    "outputId": "5e13e2f6-ec2b-4d53-9763-7c03f0ce7b91"
   },
   "execution_count": null,
   "outputs": [
    {
     "output_type": "error",
     "ename": "NameError",
     "evalue": "name 'texto' is not defined",
     "traceback": [
      "\u001B[0;31m---------------------------------------------------------------------------\u001B[0m",
      "\u001B[0;31mNameError\u001B[0m                                 Traceback (most recent call last)",
      "\u001B[0;32m<ipython-input-47-70e1e91ade5f>\u001B[0m in \u001B[0;36m<cell line: 0>\u001B[0;34m()\u001B[0m\n\u001B[0;32m----> 1\u001B[0;31m \u001B[0mtexto\u001B[0m\u001B[0;34m\u001B[0m\u001B[0;34m\u001B[0m\u001B[0m\n\u001B[0m",
      "\u001B[0;31mNameError\u001B[0m: name 'texto' is not defined"
     ]
    }
   ]
  },
  {
   "cell_type": "code",
   "source": [
    "with open(\"archivo.txt\", \"r\") as f:\n",
    "    contenido = f.read()\n",
    "print(contenido)\n"
   ],
   "metadata": {
    "colab": {
     "base_uri": "https://localhost:8080/"
    },
    "id": "TIqMcL6WTr85",
    "outputId": "88f08784-1d73-4884-d0ce-cce4b4319ced"
   },
   "execution_count": null,
   "outputs": [
    {
     "output_type": "stream",
     "name": "stdout",
     "text": [
      "The origins of computation can be traced back to humanity's innate drive to understand and manipulate numbers. From primitive counting systems to sophisticated electronic machines, the journey of computation reflects the evolution of human thought and technology. The development of digital computers and the subsequent information age have ushered in a new era of innovation, shaping the world in ways unimaginable in the past. As we continue to push the boundaries of computing, the possibilities for further advancements and discoveries are seemingly limitless, promising a future filled with remarkable technological achievements.\n"
     ]
    }
   ]
  },
  {
   "cell_type": "code",
   "source": [
    "contenido"
   ],
   "metadata": {
    "colab": {
     "base_uri": "https://localhost:8080/",
     "height": 139
    },
    "id": "ZmSq_HfYbEsN",
    "outputId": "b147329e-091a-41eb-a918-39a5acfe90c3"
   },
   "execution_count": null,
   "outputs": [
    {
     "output_type": "execute_result",
     "data": {
      "text/plain": [
       "\"The origins of computation can be traced back to humanity's innate drive to understand and manipulate numbers. From primitive counting systems to sophisticated electronic machines, the journey of computation reflects the evolution of human thought and technology. The development of digital computers and the subsequent information age have ushered in a new era of innovation, shaping the world in ways unimaginable in the past. As we continue to push the boundaries of computing, the possibilities for further advancements and discoveries are seemingly limitless, promising a future filled with remarkable technological achievements.\""
      ],
      "application/vnd.google.colaboratory.intrinsic+json": {
       "type": "string"
      }
     },
     "metadata": {},
     "execution_count": 49
    }
   ]
  },
  {
   "cell_type": "markdown",
   "source": [
    "# Librería NumPy"
   ],
   "metadata": {
    "id": "JImvgYXZO5co"
   }
  },
  {
   "cell_type": "code",
   "source": [
    "import numpy as np"
   ],
   "metadata": {
    "id": "kx72uNY9O8ZZ"
   },
   "execution_count": null,
   "outputs": []
  },
  {
   "cell_type": "code",
   "source": [
    "v1 = [1,5]\n",
    "v1 = np.array(v1)\n",
    "\n",
    "v2 = np.array([7,2])"
   ],
   "metadata": {
    "id": "juvH9IIFSNg3"
   },
   "execution_count": null,
   "outputs": []
  },
  {
   "cell_type": "code",
   "source": [
    "v2"
   ],
   "metadata": {
    "colab": {
     "base_uri": "https://localhost:8080/"
    },
    "id": "kvHBAxFRSbQn",
    "outputId": "0d616fbd-a72c-42e3-c344-2d4764437fce"
   },
   "execution_count": null,
   "outputs": [
    {
     "output_type": "execute_result",
     "data": {
      "text/plain": [
       "array([7, 2])"
      ]
     },
     "metadata": {},
     "execution_count": 52
    }
   ]
  },
  {
   "cell_type": "code",
   "source": [
    "type(v1)"
   ],
   "metadata": {
    "colab": {
     "base_uri": "https://localhost:8080/"
    },
    "id": "a6yq0DwkjAXM",
    "outputId": "69ceda21-653e-458e-b03b-ca529eb03fea"
   },
   "execution_count": null,
   "outputs": [
    {
     "output_type": "execute_result",
     "data": {
      "text/plain": [
       "numpy.ndarray"
      ]
     },
     "metadata": {},
     "execution_count": 53
    }
   ]
  },
  {
   "cell_type": "code",
   "source": [
    "v1 + v2"
   ],
   "metadata": {
    "colab": {
     "base_uri": "https://localhost:8080/"
    },
    "id": "rSzSMiSTSeBH",
    "outputId": "02b70cad-d8e6-404c-9cf4-db95d9e06fb5"
   },
   "execution_count": null,
   "outputs": [
    {
     "output_type": "execute_result",
     "data": {
      "text/plain": [
       "array([8, 7])"
      ]
     },
     "metadata": {},
     "execution_count": 54
    }
   ]
  },
  {
   "cell_type": "code",
   "source": [
    "v1*v2"
   ],
   "metadata": {
    "colab": {
     "base_uri": "https://localhost:8080/"
    },
    "id": "Cz2rpz1xjFrr",
    "outputId": "f69ff33b-2a58-4545-de66-73863ce7141c"
   },
   "execution_count": null,
   "outputs": [
    {
     "output_type": "execute_result",
     "data": {
      "text/plain": [
       "array([ 7, 10])"
      ]
     },
     "metadata": {},
     "execution_count": 55
    }
   ]
  },
  {
   "cell_type": "code",
   "source": [
    "v3 = np.array([3,5])\n",
    "print(10*v3)"
   ],
   "metadata": {
    "colab": {
     "base_uri": "https://localhost:8080/"
    },
    "id": "0VjLO685S3XK",
    "outputId": "1845d787-9b85-4c84-9180-49a600cecaa3"
   },
   "execution_count": null,
   "outputs": [
    {
     "output_type": "stream",
     "name": "stdout",
     "text": [
      "[30 50]\n"
     ]
    }
   ]
  },
  {
   "cell_type": "code",
   "source": [
    "a = np.array([3,1,5])\n",
    "b = np.array([7,3,2])"
   ],
   "metadata": {
    "id": "y7dLJmxkT6WD"
   },
   "execution_count": null,
   "outputs": []
  },
  {
   "cell_type": "code",
   "source": [
    "np.sum(a)"
   ],
   "metadata": {
    "colab": {
     "base_uri": "https://localhost:8080/"
    },
    "id": "y2_nTvM2UG--",
    "outputId": "460dc6c9-b80c-4969-b085-359dc7cabe96"
   },
   "execution_count": null,
   "outputs": [
    {
     "output_type": "execute_result",
     "data": {
      "text/plain": [
       "np.int64(9)"
      ]
     },
     "metadata": {},
     "execution_count": 58
    }
   ]
  },
  {
   "cell_type": "code",
   "source": [
    "dot = np.sum(a*b)\n",
    "print(dot)"
   ],
   "metadata": {
    "colab": {
     "base_uri": "https://localhost:8080/"
    },
    "id": "FL75mSSKUArN",
    "outputId": "0d9a5897-e739-49cc-86a8-4fd8325e73d0"
   },
   "execution_count": null,
   "outputs": [
    {
     "output_type": "stream",
     "name": "stdout",
     "text": [
      "34\n"
     ]
    }
   ]
  },
  {
   "cell_type": "code",
   "source": [
    "def punto(a,b):\n",
    "    return np.sum(a*b)"
   ],
   "metadata": {
    "id": "jfNxUucoUQbF"
   },
   "execution_count": null,
   "outputs": []
  },
  {
   "cell_type": "code",
   "source": [
    "def punto(a,b):\n",
    "    dot = 0\n",
    "    for i in range(len(a)):\n",
    "        dot += a[i]*b[i]\n",
    "    return dot"
   ],
   "metadata": {
    "id": "VtwyxYqfC5vl"
   },
   "execution_count": null,
   "outputs": []
  },
  {
   "cell_type": "code",
   "source": [
    "punto(a,b)"
   ],
   "metadata": {
    "colab": {
     "base_uri": "https://localhost:8080/"
    },
    "id": "pnVcreKiUWGi",
    "outputId": "059feda9-133f-4b5e-f5ce-3abef14318e4"
   },
   "execution_count": null,
   "outputs": [
    {
     "output_type": "execute_result",
     "data": {
      "text/plain": [
       "np.int64(34)"
      ]
     },
     "metadata": {},
     "execution_count": 68
    }
   ]
  },
  {
   "cell_type": "code",
   "source": [
    "np.dot(a,b)"
   ],
   "metadata": {
    "colab": {
     "base_uri": "https://localhost:8080/"
    },
    "id": "2h1S39JbUY-f",
    "outputId": "f3c137bc-1e0f-4811-fbb3-f865319580f4"
   },
   "execution_count": null,
   "outputs": [
    {
     "output_type": "execute_result",
     "data": {
      "text/plain": [
       "np.int64(34)"
      ]
     },
     "metadata": {},
     "execution_count": 63
    }
   ]
  },
  {
   "cell_type": "code",
   "source": [
    "a - b"
   ],
   "metadata": {
    "colab": {
     "base_uri": "https://localhost:8080/"
    },
    "id": "ooS5HSuvVHQQ",
    "outputId": "4dfd55da-92f8-450f-d0a3-1c2fcded3bd3"
   },
   "execution_count": null,
   "outputs": [
    {
     "output_type": "execute_result",
     "data": {
      "text/plain": [
       "array([-4, -2,  3])"
      ]
     },
     "metadata": {},
     "execution_count": 64
    }
   ]
  },
  {
   "cell_type": "markdown",
   "source": [
    "#Ejercicio: Implemente dos funciones\n",
    "\n",
    "1. Dado un vector a, calcular su norma.\n",
    "$$ ||a|| =  \\sqrt{ a \\cdot a  } $$\n",
    "\n",
    "2. Dado dos vectores a y b, calcular la distancia.\n",
    "\n",
    "$$ d(a,b) = ||a-b||$$\n",
    "\n"
   ],
   "metadata": {
    "id": "YJiNcFM0SdPu"
   }
  },
  {
   "cell_type": "code",
   "source": [
    "# 1. Dado un vector a, calcular su norma.\n",
    "# =================================================\n",
    "v3 = np.array([3,4])\n"
   ],
   "metadata": {
    "id": "nb5OQoZ3UviY"
   },
   "execution_count": null,
   "outputs": []
  },
  {
   "cell_type": "code",
   "source": [
    "def norm (v3):\n",
    "    ###\n",
    "    ### escribe el código\n",
    "    norma = np.dot(v3,v3)\n",
    "    norma = np.sqrt(norma)\n",
    "    return norma"
   ],
   "metadata": {
    "id": "VlYOjAIZjoQ9"
   },
   "execution_count": null,
   "outputs": []
  },
  {
   "cell_type": "code",
   "source": [
    "norm(v3)"
   ],
   "metadata": {
    "colab": {
     "base_uri": "https://localhost:8080/"
    },
    "id": "IucgiBLTW8QV",
    "outputId": "7aad5a87-fbaf-4591-fff9-e8be94fbce40"
   },
   "execution_count": null,
   "outputs": [
    {
     "output_type": "execute_result",
     "data": {
      "text/plain": [
       "np.float64(5.0)"
      ]
     },
     "metadata": {},
     "execution_count": 72
    }
   ]
  },
  {
   "cell_type": "code",
   "source": [
    "np.linalg.norm(v3)"
   ],
   "metadata": {
    "colab": {
     "base_uri": "https://localhost:8080/"
    },
    "id": "S3DLSld8JAj6",
    "outputId": "c201acb0-5648-48f2-8005-615cd02c1957"
   },
   "execution_count": null,
   "outputs": [
    {
     "output_type": "execute_result",
     "data": {
      "text/plain": [
       "np.float64(5.0)"
      ]
     },
     "metadata": {},
     "execution_count": 73
    }
   ]
  },
  {
   "cell_type": "code",
   "source": [
    "# 1. Dado dos vectores a y b calcular la distancia.\n",
    "# =================================================\n",
    "\n",
    "def distancia(a,b):\n",
    "    v6 = a-b\n",
    "    v7 = v6*v6\n",
    "    N = np.sum(v7)\n",
    "    norma = np.sqrt(N)\n",
    "    return norma\n",
    "\n",
    "def distancia(a,b):\n",
    "    v6 = a-b\n",
    "    return norm(v6)"
   ],
   "metadata": {
    "id": "nakX8ammaRTL"
   },
   "execution_count": null,
   "outputs": []
  },
  {
   "cell_type": "code",
   "source": [
    "v4 = np.array([3,4])\n",
    "v5 = np.array([2,4])\n",
    "\n",
    "distancia(v4,v5)"
   ],
   "metadata": {
    "colab": {
     "base_uri": "https://localhost:8080/"
    },
    "id": "_hWHfIMlblnH",
    "outputId": "0778c58f-3fb6-44ac-de38-dde57a688226"
   },
   "execution_count": null,
   "outputs": [
    {
     "output_type": "execute_result",
     "data": {
      "text/plain": [
       "np.float64(1.0)"
      ]
     },
     "metadata": {},
     "execution_count": 75
    }
   ]
  },
  {
   "cell_type": "code",
   "source": [
    "A = np.array([\n",
    "    [1,3,4],\n",
    "    [3,2,1],\n",
    "    [0,1,1]\n",
    "])"
   ],
   "metadata": {
    "id": "a-O9TbiXWF2p"
   },
   "execution_count": null,
   "outputs": []
  },
  {
   "cell_type": "code",
   "source": [
    "print(A)"
   ],
   "metadata": {
    "colab": {
     "base_uri": "https://localhost:8080/"
    },
    "id": "iKqzXZ2ZWVDt",
    "outputId": "fbc7000e-1ea5-445f-c2ca-e14df62d2e13"
   },
   "execution_count": null,
   "outputs": [
    {
     "output_type": "stream",
     "name": "stdout",
     "text": [
      "[[1 3 4]\n",
      " [3 2 1]\n",
      " [0 1 1]]\n"
     ]
    }
   ]
  },
  {
   "cell_type": "code",
   "source": [
    "A.shape"
   ],
   "metadata": {
    "colab": {
     "base_uri": "https://localhost:8080/"
    },
    "id": "XGMfBPiOj7PZ",
    "outputId": "8879637a-3e8f-4464-e8bd-d3d23c9234b9"
   },
   "execution_count": null,
   "outputs": [
    {
     "output_type": "execute_result",
     "data": {
      "text/plain": [
       "(3, 3)"
      ]
     },
     "metadata": {},
     "execution_count": 78
    }
   ]
  },
  {
   "cell_type": "code",
   "source": [
    "B = np.array([\n",
    "    [1,0],\n",
    "    [0,2],\n",
    "    [0,0]\n",
    "])\n",
    "\n",
    "A = np.array([\n",
    "    [1,3,4],\n",
    "    [3,2,1],\n",
    "    [0,1,1]\n",
    "])"
   ],
   "metadata": {
    "id": "LLJPG52VXjYU"
   },
   "execution_count": null,
   "outputs": []
  },
  {
   "cell_type": "code",
   "source": [
    "B.shape"
   ],
   "metadata": {
    "colab": {
     "base_uri": "https://localhost:8080/"
    },
    "id": "XqM456dgFCNB",
    "outputId": "787b21c0-b7ec-40e1-ff70-fe3ffa924abb"
   },
   "execution_count": null,
   "outputs": [
    {
     "output_type": "execute_result",
     "data": {
      "text/plain": [
       "(3, 2)"
      ]
     },
     "metadata": {},
     "execution_count": 81
    }
   ]
  },
  {
   "cell_type": "code",
   "source": [
    "B"
   ],
   "metadata": {
    "colab": {
     "base_uri": "https://localhost:8080/"
    },
    "id": "JY3uXwRaR-iw",
    "outputId": "ec237004-4136-4e98-d84e-2c7631277bd3"
   },
   "execution_count": null,
   "outputs": [
    {
     "output_type": "execute_result",
     "data": {
      "text/plain": [
       "array([[1, 0],\n",
       "       [0, 2],\n",
       "       [0, 0]])"
      ]
     },
     "metadata": {},
     "execution_count": 82
    }
   ]
  },
  {
   "cell_type": "code",
   "source": [
    "np.matmul(A,B)"
   ],
   "metadata": {
    "colab": {
     "base_uri": "https://localhost:8080/"
    },
    "id": "IVyZATdaX0Ix",
    "outputId": "1de0085b-0a1a-457a-ec06-e2b2d20a39ae"
   },
   "execution_count": null,
   "outputs": [
    {
     "output_type": "execute_result",
     "data": {
      "text/plain": [
       "array([[1, 6],\n",
       "       [3, 4],\n",
       "       [0, 2]])"
      ]
     },
     "metadata": {},
     "execution_count": 83
    }
   ]
  },
  {
   "cell_type": "code",
   "source": [
    "I_3 = np.eye(3)"
   ],
   "metadata": {
    "id": "N1wx-DqIYCjC"
   },
   "execution_count": null,
   "outputs": []
  },
  {
   "cell_type": "code",
   "source": [
    "I_3"
   ],
   "metadata": {
    "colab": {
     "base_uri": "https://localhost:8080/"
    },
    "id": "0zhH7eD7Fb98",
    "outputId": "aa933f80-3c5a-42c5-e657-436ec5460863"
   },
   "execution_count": null,
   "outputs": [
    {
     "output_type": "execute_result",
     "data": {
      "text/plain": [
       "array([[1., 0., 0.],\n",
       "       [0., 1., 0.],\n",
       "       [0., 0., 1.]])"
      ]
     },
     "metadata": {},
     "execution_count": 85
    }
   ]
  },
  {
   "cell_type": "code",
   "source": [
    "np.matmul(A,I_3)"
   ],
   "metadata": {
    "colab": {
     "base_uri": "https://localhost:8080/"
    },
    "id": "gNfT5GphYKBq",
    "outputId": "7069fc16-a17c-4efe-8228-42c5238ccc6f"
   },
   "execution_count": null,
   "outputs": [
    {
     "output_type": "execute_result",
     "data": {
      "text/plain": [
       "array([[1., 3., 4.],\n",
       "       [3., 2., 1.],\n",
       "       [0., 1., 1.]])"
      ]
     },
     "metadata": {},
     "execution_count": 86
    }
   ]
  },
  {
   "cell_type": "code",
   "source": [
    "A"
   ],
   "metadata": {
    "colab": {
     "base_uri": "https://localhost:8080/"
    },
    "id": "ZGc7xOiDkgYF",
    "outputId": "6c0f0c6b-5ca0-45a4-c84b-9ad62498f56c"
   },
   "execution_count": null,
   "outputs": [
    {
     "output_type": "execute_result",
     "data": {
      "text/plain": [
       "array([[1, 3, 4],\n",
       "       [3, 2, 1],\n",
       "       [0, 1, 1]])"
      ]
     },
     "metadata": {},
     "execution_count": 87
    }
   ]
  },
  {
   "cell_type": "code",
   "source": [
    "np.zeros((3,2,3))"
   ],
   "metadata": {
    "id": "HzhC4qJZYPkN",
    "outputId": "85a5fa36-9e36-455d-b30f-372fff80af20",
    "colab": {
     "base_uri": "https://localhost:8080/"
    }
   },
   "execution_count": null,
   "outputs": [
    {
     "output_type": "execute_result",
     "data": {
      "text/plain": [
       "array([[[0., 0., 0.],\n",
       "        [0., 0., 0.]],\n",
       "\n",
       "       [[0., 0., 0.],\n",
       "        [0., 0., 0.]],\n",
       "\n",
       "       [[0., 0., 0.],\n",
       "        [0., 0., 0.]]])"
      ]
     },
     "metadata": {},
     "execution_count": 89
    }
   ]
  },
  {
   "cell_type": "code",
   "source": [
    "np.ones((1,1,1,1,1,1,2))"
   ],
   "metadata": {
    "colab": {
     "base_uri": "https://localhost:8080/"
    },
    "id": "yMn8DbcvFtBg",
    "outputId": "d5167422-92e2-404c-ee21-1ec23132d5b5"
   },
   "execution_count": null,
   "outputs": [
    {
     "output_type": "execute_result",
     "data": {
      "text/plain": [
       "array([[[[[[[1., 1.]]]]]]])"
      ]
     },
     "metadata": {},
     "execution_count": 91
    }
   ]
  },
  {
   "cell_type": "code",
   "source": [
    "B"
   ],
   "metadata": {
    "colab": {
     "base_uri": "https://localhost:8080/"
    },
    "id": "vHab84QfF5Ua",
    "outputId": "cc6b1445-634d-491c-9018-33687f329229"
   },
   "execution_count": null,
   "outputs": [
    {
     "output_type": "execute_result",
     "data": {
      "text/plain": [
       "array([[1, 0],\n",
       "       [0, 2],\n",
       "       [0, 0]])"
      ]
     },
     "metadata": {},
     "execution_count": 92
    }
   ]
  },
  {
   "cell_type": "code",
   "source": [
    "B[2,:]"
   ],
   "metadata": {
    "colab": {
     "base_uri": "https://localhost:8080/"
    },
    "id": "bIc6f4bVF6Ti",
    "outputId": "7abfb574-c4c3-4154-a82f-bfd82aad0589"
   },
   "execution_count": null,
   "outputs": [
    {
     "output_type": "execute_result",
     "data": {
      "text/plain": [
       "array([0, 0])"
      ]
     },
     "metadata": {},
     "execution_count": 96
    }
   ]
  },
  {
   "cell_type": "markdown",
   "source": [
    "# Librería Pandas"
   ],
   "metadata": {
    "id": "bPmZkLwwyN3Q"
   }
  },
  {
   "cell_type": "code",
   "source": [
    "import pandas as pd"
   ],
   "metadata": {
    "id": "y-06N43lyQ7_"
   },
   "execution_count": null,
   "outputs": []
  },
  {
   "cell_type": "code",
   "source": [
    "X = [ [1,2],[3,4]  ]"
   ],
   "metadata": {
    "id": "s0dgQfNnyt7G"
   },
   "execution_count": null,
   "outputs": []
  },
  {
   "cell_type": "code",
   "source": [
    "df = pd.DataFrame(X,columns=['x1','x2'])\n",
    "df"
   ],
   "metadata": {
    "colab": {
     "base_uri": "https://localhost:8080/",
     "height": 125
    },
    "id": "VXwwpM_XyTf1",
    "outputId": "ff72efcd-f789-4b93-de78-3c8dee075d73"
   },
   "execution_count": null,
   "outputs": [
    {
     "output_type": "execute_result",
     "data": {
      "text/plain": [
       "   x1  x2\n",
       "0   1   2\n",
       "1   3   4"
      ],
      "text/html": [
       "\n",
       "  <div id=\"df-05047a8b-914a-4f93-9116-d42eb27d8682\" class=\"colab-df-container\">\n",
       "    <div>\n",
       "<style scoped>\n",
       "    .dataframe tbody tr th:only-of-type {\n",
       "        vertical-align: middle;\n",
       "    }\n",
       "\n",
       "    .dataframe tbody tr th {\n",
       "        vertical-align: top;\n",
       "    }\n",
       "\n",
       "    .dataframe thead th {\n",
       "        text-align: right;\n",
       "    }\n",
       "</style>\n",
       "<table border=\"1\" class=\"dataframe\">\n",
       "  <thead>\n",
       "    <tr style=\"text-align: right;\">\n",
       "      <th></th>\n",
       "      <th>x1</th>\n",
       "      <th>x2</th>\n",
       "    </tr>\n",
       "  </thead>\n",
       "  <tbody>\n",
       "    <tr>\n",
       "      <th>0</th>\n",
       "      <td>1</td>\n",
       "      <td>2</td>\n",
       "    </tr>\n",
       "    <tr>\n",
       "      <th>1</th>\n",
       "      <td>3</td>\n",
       "      <td>4</td>\n",
       "    </tr>\n",
       "  </tbody>\n",
       "</table>\n",
       "</div>\n",
       "    <div class=\"colab-df-buttons\">\n",
       "\n",
       "  <div class=\"colab-df-container\">\n",
       "    <button class=\"colab-df-convert\" onclick=\"convertToInteractive('df-05047a8b-914a-4f93-9116-d42eb27d8682')\"\n",
       "            title=\"Convert this dataframe to an interactive table.\"\n",
       "            style=\"display:none;\">\n",
       "\n",
       "  <svg xmlns=\"http://www.w3.org/2000/svg\" height=\"24px\" viewBox=\"0 -960 960 960\">\n",
       "    <path d=\"M120-120v-720h720v720H120Zm60-500h600v-160H180v160Zm220 220h160v-160H400v160Zm0 220h160v-160H400v160ZM180-400h160v-160H180v160Zm440 0h160v-160H620v160ZM180-180h160v-160H180v160Zm440 0h160v-160H620v160Z\"/>\n",
       "  </svg>\n",
       "    </button>\n",
       "\n",
       "  <style>\n",
       "    .colab-df-container {\n",
       "      display:flex;\n",
       "      gap: 12px;\n",
       "    }\n",
       "\n",
       "    .colab-df-convert {\n",
       "      background-color: #E8F0FE;\n",
       "      border: none;\n",
       "      border-radius: 50%;\n",
       "      cursor: pointer;\n",
       "      display: none;\n",
       "      fill: #1967D2;\n",
       "      height: 32px;\n",
       "      padding: 0 0 0 0;\n",
       "      width: 32px;\n",
       "    }\n",
       "\n",
       "    .colab-df-convert:hover {\n",
       "      background-color: #E2EBFA;\n",
       "      box-shadow: 0px 1px 2px rgba(60, 64, 67, 0.3), 0px 1px 3px 1px rgba(60, 64, 67, 0.15);\n",
       "      fill: #174EA6;\n",
       "    }\n",
       "\n",
       "    .colab-df-buttons div {\n",
       "      margin-bottom: 4px;\n",
       "    }\n",
       "\n",
       "    [theme=dark] .colab-df-convert {\n",
       "      background-color: #3B4455;\n",
       "      fill: #D2E3FC;\n",
       "    }\n",
       "\n",
       "    [theme=dark] .colab-df-convert:hover {\n",
       "      background-color: #434B5C;\n",
       "      box-shadow: 0px 1px 3px 1px rgba(0, 0, 0, 0.15);\n",
       "      filter: drop-shadow(0px 1px 2px rgba(0, 0, 0, 0.3));\n",
       "      fill: #FFFFFF;\n",
       "    }\n",
       "  </style>\n",
       "\n",
       "    <script>\n",
       "      const buttonEl =\n",
       "        document.querySelector('#df-05047a8b-914a-4f93-9116-d42eb27d8682 button.colab-df-convert');\n",
       "      buttonEl.style.display =\n",
       "        google.colab.kernel.accessAllowed ? 'block' : 'none';\n",
       "\n",
       "      async function convertToInteractive(key) {\n",
       "        const element = document.querySelector('#df-05047a8b-914a-4f93-9116-d42eb27d8682');\n",
       "        const dataTable =\n",
       "          await google.colab.kernel.invokeFunction('convertToInteractive',\n",
       "                                                    [key], {});\n",
       "        if (!dataTable) return;\n",
       "\n",
       "        const docLinkHtml = 'Like what you see? Visit the ' +\n",
       "          '<a target=\"_blank\" href=https://colab.research.google.com/notebooks/data_table.ipynb>data table notebook</a>'\n",
       "          + ' to learn more about interactive tables.';\n",
       "        element.innerHTML = '';\n",
       "        dataTable['output_type'] = 'display_data';\n",
       "        await google.colab.output.renderOutput(dataTable, element);\n",
       "        const docLink = document.createElement('div');\n",
       "        docLink.innerHTML = docLinkHtml;\n",
       "        element.appendChild(docLink);\n",
       "      }\n",
       "    </script>\n",
       "  </div>\n",
       "\n",
       "\n",
       "<div id=\"df-28bf749e-154f-4ac3-9f0a-96b88b34da6e\">\n",
       "  <button class=\"colab-df-quickchart\" onclick=\"quickchart('df-28bf749e-154f-4ac3-9f0a-96b88b34da6e')\"\n",
       "            title=\"Suggest charts\"\n",
       "            style=\"display:none;\">\n",
       "\n",
       "<svg xmlns=\"http://www.w3.org/2000/svg\" height=\"24px\"viewBox=\"0 0 24 24\"\n",
       "     width=\"24px\">\n",
       "    <g>\n",
       "        <path d=\"M19 3H5c-1.1 0-2 .9-2 2v14c0 1.1.9 2 2 2h14c1.1 0 2-.9 2-2V5c0-1.1-.9-2-2-2zM9 17H7v-7h2v7zm4 0h-2V7h2v10zm4 0h-2v-4h2v4z\"/>\n",
       "    </g>\n",
       "</svg>\n",
       "  </button>\n",
       "\n",
       "<style>\n",
       "  .colab-df-quickchart {\n",
       "      --bg-color: #E8F0FE;\n",
       "      --fill-color: #1967D2;\n",
       "      --hover-bg-color: #E2EBFA;\n",
       "      --hover-fill-color: #174EA6;\n",
       "      --disabled-fill-color: #AAA;\n",
       "      --disabled-bg-color: #DDD;\n",
       "  }\n",
       "\n",
       "  [theme=dark] .colab-df-quickchart {\n",
       "      --bg-color: #3B4455;\n",
       "      --fill-color: #D2E3FC;\n",
       "      --hover-bg-color: #434B5C;\n",
       "      --hover-fill-color: #FFFFFF;\n",
       "      --disabled-bg-color: #3B4455;\n",
       "      --disabled-fill-color: #666;\n",
       "  }\n",
       "\n",
       "  .colab-df-quickchart {\n",
       "    background-color: var(--bg-color);\n",
       "    border: none;\n",
       "    border-radius: 50%;\n",
       "    cursor: pointer;\n",
       "    display: none;\n",
       "    fill: var(--fill-color);\n",
       "    height: 32px;\n",
       "    padding: 0;\n",
       "    width: 32px;\n",
       "  }\n",
       "\n",
       "  .colab-df-quickchart:hover {\n",
       "    background-color: var(--hover-bg-color);\n",
       "    box-shadow: 0 1px 2px rgba(60, 64, 67, 0.3), 0 1px 3px 1px rgba(60, 64, 67, 0.15);\n",
       "    fill: var(--button-hover-fill-color);\n",
       "  }\n",
       "\n",
       "  .colab-df-quickchart-complete:disabled,\n",
       "  .colab-df-quickchart-complete:disabled:hover {\n",
       "    background-color: var(--disabled-bg-color);\n",
       "    fill: var(--disabled-fill-color);\n",
       "    box-shadow: none;\n",
       "  }\n",
       "\n",
       "  .colab-df-spinner {\n",
       "    border: 2px solid var(--fill-color);\n",
       "    border-color: transparent;\n",
       "    border-bottom-color: var(--fill-color);\n",
       "    animation:\n",
       "      spin 1s steps(1) infinite;\n",
       "  }\n",
       "\n",
       "  @keyframes spin {\n",
       "    0% {\n",
       "      border-color: transparent;\n",
       "      border-bottom-color: var(--fill-color);\n",
       "      border-left-color: var(--fill-color);\n",
       "    }\n",
       "    20% {\n",
       "      border-color: transparent;\n",
       "      border-left-color: var(--fill-color);\n",
       "      border-top-color: var(--fill-color);\n",
       "    }\n",
       "    30% {\n",
       "      border-color: transparent;\n",
       "      border-left-color: var(--fill-color);\n",
       "      border-top-color: var(--fill-color);\n",
       "      border-right-color: var(--fill-color);\n",
       "    }\n",
       "    40% {\n",
       "      border-color: transparent;\n",
       "      border-right-color: var(--fill-color);\n",
       "      border-top-color: var(--fill-color);\n",
       "    }\n",
       "    60% {\n",
       "      border-color: transparent;\n",
       "      border-right-color: var(--fill-color);\n",
       "    }\n",
       "    80% {\n",
       "      border-color: transparent;\n",
       "      border-right-color: var(--fill-color);\n",
       "      border-bottom-color: var(--fill-color);\n",
       "    }\n",
       "    90% {\n",
       "      border-color: transparent;\n",
       "      border-bottom-color: var(--fill-color);\n",
       "    }\n",
       "  }\n",
       "</style>\n",
       "\n",
       "  <script>\n",
       "    async function quickchart(key) {\n",
       "      const quickchartButtonEl =\n",
       "        document.querySelector('#' + key + ' button');\n",
       "      quickchartButtonEl.disabled = true;  // To prevent multiple clicks.\n",
       "      quickchartButtonEl.classList.add('colab-df-spinner');\n",
       "      try {\n",
       "        const charts = await google.colab.kernel.invokeFunction(\n",
       "            'suggestCharts', [key], {});\n",
       "      } catch (error) {\n",
       "        console.error('Error during call to suggestCharts:', error);\n",
       "      }\n",
       "      quickchartButtonEl.classList.remove('colab-df-spinner');\n",
       "      quickchartButtonEl.classList.add('colab-df-quickchart-complete');\n",
       "    }\n",
       "    (() => {\n",
       "      let quickchartButtonEl =\n",
       "        document.querySelector('#df-28bf749e-154f-4ac3-9f0a-96b88b34da6e button');\n",
       "      quickchartButtonEl.style.display =\n",
       "        google.colab.kernel.accessAllowed ? 'block' : 'none';\n",
       "    })();\n",
       "  </script>\n",
       "</div>\n",
       "\n",
       "  <div id=\"id_679b094e-31d1-44ea-9382-2f40f46de1ea\">\n",
       "    <style>\n",
       "      .colab-df-generate {\n",
       "        background-color: #E8F0FE;\n",
       "        border: none;\n",
       "        border-radius: 50%;\n",
       "        cursor: pointer;\n",
       "        display: none;\n",
       "        fill: #1967D2;\n",
       "        height: 32px;\n",
       "        padding: 0 0 0 0;\n",
       "        width: 32px;\n",
       "      }\n",
       "\n",
       "      .colab-df-generate:hover {\n",
       "        background-color: #E2EBFA;\n",
       "        box-shadow: 0px 1px 2px rgba(60, 64, 67, 0.3), 0px 1px 3px 1px rgba(60, 64, 67, 0.15);\n",
       "        fill: #174EA6;\n",
       "      }\n",
       "\n",
       "      [theme=dark] .colab-df-generate {\n",
       "        background-color: #3B4455;\n",
       "        fill: #D2E3FC;\n",
       "      }\n",
       "\n",
       "      [theme=dark] .colab-df-generate:hover {\n",
       "        background-color: #434B5C;\n",
       "        box-shadow: 0px 1px 3px 1px rgba(0, 0, 0, 0.15);\n",
       "        filter: drop-shadow(0px 1px 2px rgba(0, 0, 0, 0.3));\n",
       "        fill: #FFFFFF;\n",
       "      }\n",
       "    </style>\n",
       "    <button class=\"colab-df-generate\" onclick=\"generateWithVariable('df')\"\n",
       "            title=\"Generate code using this dataframe.\"\n",
       "            style=\"display:none;\">\n",
       "\n",
       "  <svg xmlns=\"http://www.w3.org/2000/svg\" height=\"24px\"viewBox=\"0 0 24 24\"\n",
       "       width=\"24px\">\n",
       "    <path d=\"M7,19H8.4L18.45,9,17,7.55,7,17.6ZM5,21V16.75L18.45,3.32a2,2,0,0,1,2.83,0l1.4,1.43a1.91,1.91,0,0,1,.58,1.4,1.91,1.91,0,0,1-.58,1.4L9.25,21ZM18.45,9,17,7.55Zm-12,3A5.31,5.31,0,0,0,4.9,8.1,5.31,5.31,0,0,0,1,6.5,5.31,5.31,0,0,0,4.9,4.9,5.31,5.31,0,0,0,6.5,1,5.31,5.31,0,0,0,8.1,4.9,5.31,5.31,0,0,0,12,6.5,5.46,5.46,0,0,0,6.5,12Z\"/>\n",
       "  </svg>\n",
       "    </button>\n",
       "    <script>\n",
       "      (() => {\n",
       "      const buttonEl =\n",
       "        document.querySelector('#id_679b094e-31d1-44ea-9382-2f40f46de1ea button.colab-df-generate');\n",
       "      buttonEl.style.display =\n",
       "        google.colab.kernel.accessAllowed ? 'block' : 'none';\n",
       "\n",
       "      buttonEl.onclick = () => {\n",
       "        google.colab.notebook.generateWithVariable('df');\n",
       "      }\n",
       "      })();\n",
       "    </script>\n",
       "  </div>\n",
       "\n",
       "    </div>\n",
       "  </div>\n"
      ],
      "application/vnd.google.colaboratory.intrinsic+json": {
       "type": "dataframe",
       "variable_name": "df",
       "summary": "{\n  \"name\": \"df\",\n  \"rows\": 2,\n  \"fields\": [\n    {\n      \"column\": \"x1\",\n      \"properties\": {\n        \"dtype\": \"number\",\n        \"std\": 1,\n        \"min\": 1,\n        \"max\": 3,\n        \"num_unique_values\": 2,\n        \"samples\": [\n          3,\n          1\n        ],\n        \"semantic_type\": \"\",\n        \"description\": \"\"\n      }\n    },\n    {\n      \"column\": \"x2\",\n      \"properties\": {\n        \"dtype\": \"number\",\n        \"std\": 1,\n        \"min\": 2,\n        \"max\": 4,\n        \"num_unique_values\": 2,\n        \"samples\": [\n          4,\n          2\n        ],\n        \"semantic_type\": \"\",\n        \"description\": \"\"\n      }\n    }\n  ]\n}"
      }
     },
     "metadata": {},
     "execution_count": 99
    }
   ]
  },
  {
   "cell_type": "code",
   "source": [
    "df['x1']"
   ],
   "metadata": {
    "colab": {
     "base_uri": "https://localhost:8080/",
     "height": 146
    },
    "id": "gJBcI1R-zO0c",
    "outputId": "a45d813f-4f84-4ad0-a809-89efe07a36df"
   },
   "execution_count": null,
   "outputs": [
    {
     "output_type": "execute_result",
     "data": {
      "text/plain": [
       "0    1\n",
       "1    3\n",
       "Name: x1, dtype: int64"
      ],
      "text/html": [
       "<div>\n",
       "<style scoped>\n",
       "    .dataframe tbody tr th:only-of-type {\n",
       "        vertical-align: middle;\n",
       "    }\n",
       "\n",
       "    .dataframe tbody tr th {\n",
       "        vertical-align: top;\n",
       "    }\n",
       "\n",
       "    .dataframe thead th {\n",
       "        text-align: right;\n",
       "    }\n",
       "</style>\n",
       "<table border=\"1\" class=\"dataframe\">\n",
       "  <thead>\n",
       "    <tr style=\"text-align: right;\">\n",
       "      <th></th>\n",
       "      <th>x1</th>\n",
       "    </tr>\n",
       "  </thead>\n",
       "  <tbody>\n",
       "    <tr>\n",
       "      <th>0</th>\n",
       "      <td>1</td>\n",
       "    </tr>\n",
       "    <tr>\n",
       "      <th>1</th>\n",
       "      <td>3</td>\n",
       "    </tr>\n",
       "  </tbody>\n",
       "</table>\n",
       "</div><br><label><b>dtype:</b> int64</label>"
      ]
     },
     "metadata": {},
     "execution_count": 100
    }
   ]
  },
  {
   "cell_type": "code",
   "source": [
    "data = {'Nombre': ['Ana', 'Juan', 'Luis'], 'Edad': [25, 30, 35]}\n",
    "df = pd.DataFrame(data)\n",
    "print(df)"
   ],
   "metadata": {
    "colab": {
     "base_uri": "https://localhost:8080/"
    },
    "id": "eJ6TuARnzgrU",
    "outputId": "ae347d3d-0c63-4edd-fe3b-641862cbb836"
   },
   "execution_count": null,
   "outputs": [
    {
     "output_type": "stream",
     "name": "stdout",
     "text": [
      "  Nombre  Edad\n",
      "0    Ana    25\n",
      "1   Juan    30\n",
      "2   Luis    35\n"
     ]
    }
   ]
  },
  {
   "cell_type": "code",
   "source": [
    "df['Salario'] = [50000, 50000, 50000]\n",
    "df"
   ],
   "metadata": {
    "colab": {
     "base_uri": "https://localhost:8080/",
     "height": 143
    },
    "id": "uuFZxmaVz2G1",
    "outputId": "45e3a88b-4a2c-43d5-9eb7-9896926ecb12"
   },
   "execution_count": null,
   "outputs": [
    {
     "output_type": "execute_result",
     "data": {
      "text/plain": [
       "  Nombre  Edad  Salario\n",
       "0    Ana    25    50000\n",
       "1   Juan    30    50000\n",
       "2   Luis    35    50000"
      ],
      "text/html": [
       "\n",
       "  <div id=\"df-c321e4da-f4e3-483d-91e1-57daa7ea3038\" class=\"colab-df-container\">\n",
       "    <div>\n",
       "<style scoped>\n",
       "    .dataframe tbody tr th:only-of-type {\n",
       "        vertical-align: middle;\n",
       "    }\n",
       "\n",
       "    .dataframe tbody tr th {\n",
       "        vertical-align: top;\n",
       "    }\n",
       "\n",
       "    .dataframe thead th {\n",
       "        text-align: right;\n",
       "    }\n",
       "</style>\n",
       "<table border=\"1\" class=\"dataframe\">\n",
       "  <thead>\n",
       "    <tr style=\"text-align: right;\">\n",
       "      <th></th>\n",
       "      <th>Nombre</th>\n",
       "      <th>Edad</th>\n",
       "      <th>Salario</th>\n",
       "    </tr>\n",
       "  </thead>\n",
       "  <tbody>\n",
       "    <tr>\n",
       "      <th>0</th>\n",
       "      <td>Ana</td>\n",
       "      <td>25</td>\n",
       "      <td>50000</td>\n",
       "    </tr>\n",
       "    <tr>\n",
       "      <th>1</th>\n",
       "      <td>Juan</td>\n",
       "      <td>30</td>\n",
       "      <td>50000</td>\n",
       "    </tr>\n",
       "    <tr>\n",
       "      <th>2</th>\n",
       "      <td>Luis</td>\n",
       "      <td>35</td>\n",
       "      <td>50000</td>\n",
       "    </tr>\n",
       "  </tbody>\n",
       "</table>\n",
       "</div>\n",
       "    <div class=\"colab-df-buttons\">\n",
       "\n",
       "  <div class=\"colab-df-container\">\n",
       "    <button class=\"colab-df-convert\" onclick=\"convertToInteractive('df-c321e4da-f4e3-483d-91e1-57daa7ea3038')\"\n",
       "            title=\"Convert this dataframe to an interactive table.\"\n",
       "            style=\"display:none;\">\n",
       "\n",
       "  <svg xmlns=\"http://www.w3.org/2000/svg\" height=\"24px\" viewBox=\"0 -960 960 960\">\n",
       "    <path d=\"M120-120v-720h720v720H120Zm60-500h600v-160H180v160Zm220 220h160v-160H400v160Zm0 220h160v-160H400v160ZM180-400h160v-160H180v160Zm440 0h160v-160H620v160ZM180-180h160v-160H180v160Zm440 0h160v-160H620v160Z\"/>\n",
       "  </svg>\n",
       "    </button>\n",
       "\n",
       "  <style>\n",
       "    .colab-df-container {\n",
       "      display:flex;\n",
       "      gap: 12px;\n",
       "    }\n",
       "\n",
       "    .colab-df-convert {\n",
       "      background-color: #E8F0FE;\n",
       "      border: none;\n",
       "      border-radius: 50%;\n",
       "      cursor: pointer;\n",
       "      display: none;\n",
       "      fill: #1967D2;\n",
       "      height: 32px;\n",
       "      padding: 0 0 0 0;\n",
       "      width: 32px;\n",
       "    }\n",
       "\n",
       "    .colab-df-convert:hover {\n",
       "      background-color: #E2EBFA;\n",
       "      box-shadow: 0px 1px 2px rgba(60, 64, 67, 0.3), 0px 1px 3px 1px rgba(60, 64, 67, 0.15);\n",
       "      fill: #174EA6;\n",
       "    }\n",
       "\n",
       "    .colab-df-buttons div {\n",
       "      margin-bottom: 4px;\n",
       "    }\n",
       "\n",
       "    [theme=dark] .colab-df-convert {\n",
       "      background-color: #3B4455;\n",
       "      fill: #D2E3FC;\n",
       "    }\n",
       "\n",
       "    [theme=dark] .colab-df-convert:hover {\n",
       "      background-color: #434B5C;\n",
       "      box-shadow: 0px 1px 3px 1px rgba(0, 0, 0, 0.15);\n",
       "      filter: drop-shadow(0px 1px 2px rgba(0, 0, 0, 0.3));\n",
       "      fill: #FFFFFF;\n",
       "    }\n",
       "  </style>\n",
       "\n",
       "    <script>\n",
       "      const buttonEl =\n",
       "        document.querySelector('#df-c321e4da-f4e3-483d-91e1-57daa7ea3038 button.colab-df-convert');\n",
       "      buttonEl.style.display =\n",
       "        google.colab.kernel.accessAllowed ? 'block' : 'none';\n",
       "\n",
       "      async function convertToInteractive(key) {\n",
       "        const element = document.querySelector('#df-c321e4da-f4e3-483d-91e1-57daa7ea3038');\n",
       "        const dataTable =\n",
       "          await google.colab.kernel.invokeFunction('convertToInteractive',\n",
       "                                                    [key], {});\n",
       "        if (!dataTable) return;\n",
       "\n",
       "        const docLinkHtml = 'Like what you see? Visit the ' +\n",
       "          '<a target=\"_blank\" href=https://colab.research.google.com/notebooks/data_table.ipynb>data table notebook</a>'\n",
       "          + ' to learn more about interactive tables.';\n",
       "        element.innerHTML = '';\n",
       "        dataTable['output_type'] = 'display_data';\n",
       "        await google.colab.output.renderOutput(dataTable, element);\n",
       "        const docLink = document.createElement('div');\n",
       "        docLink.innerHTML = docLinkHtml;\n",
       "        element.appendChild(docLink);\n",
       "      }\n",
       "    </script>\n",
       "  </div>\n",
       "\n",
       "\n",
       "<div id=\"df-f970957f-def6-405f-9bf1-bdd743910172\">\n",
       "  <button class=\"colab-df-quickchart\" onclick=\"quickchart('df-f970957f-def6-405f-9bf1-bdd743910172')\"\n",
       "            title=\"Suggest charts\"\n",
       "            style=\"display:none;\">\n",
       "\n",
       "<svg xmlns=\"http://www.w3.org/2000/svg\" height=\"24px\"viewBox=\"0 0 24 24\"\n",
       "     width=\"24px\">\n",
       "    <g>\n",
       "        <path d=\"M19 3H5c-1.1 0-2 .9-2 2v14c0 1.1.9 2 2 2h14c1.1 0 2-.9 2-2V5c0-1.1-.9-2-2-2zM9 17H7v-7h2v7zm4 0h-2V7h2v10zm4 0h-2v-4h2v4z\"/>\n",
       "    </g>\n",
       "</svg>\n",
       "  </button>\n",
       "\n",
       "<style>\n",
       "  .colab-df-quickchart {\n",
       "      --bg-color: #E8F0FE;\n",
       "      --fill-color: #1967D2;\n",
       "      --hover-bg-color: #E2EBFA;\n",
       "      --hover-fill-color: #174EA6;\n",
       "      --disabled-fill-color: #AAA;\n",
       "      --disabled-bg-color: #DDD;\n",
       "  }\n",
       "\n",
       "  [theme=dark] .colab-df-quickchart {\n",
       "      --bg-color: #3B4455;\n",
       "      --fill-color: #D2E3FC;\n",
       "      --hover-bg-color: #434B5C;\n",
       "      --hover-fill-color: #FFFFFF;\n",
       "      --disabled-bg-color: #3B4455;\n",
       "      --disabled-fill-color: #666;\n",
       "  }\n",
       "\n",
       "  .colab-df-quickchart {\n",
       "    background-color: var(--bg-color);\n",
       "    border: none;\n",
       "    border-radius: 50%;\n",
       "    cursor: pointer;\n",
       "    display: none;\n",
       "    fill: var(--fill-color);\n",
       "    height: 32px;\n",
       "    padding: 0;\n",
       "    width: 32px;\n",
       "  }\n",
       "\n",
       "  .colab-df-quickchart:hover {\n",
       "    background-color: var(--hover-bg-color);\n",
       "    box-shadow: 0 1px 2px rgba(60, 64, 67, 0.3), 0 1px 3px 1px rgba(60, 64, 67, 0.15);\n",
       "    fill: var(--button-hover-fill-color);\n",
       "  }\n",
       "\n",
       "  .colab-df-quickchart-complete:disabled,\n",
       "  .colab-df-quickchart-complete:disabled:hover {\n",
       "    background-color: var(--disabled-bg-color);\n",
       "    fill: var(--disabled-fill-color);\n",
       "    box-shadow: none;\n",
       "  }\n",
       "\n",
       "  .colab-df-spinner {\n",
       "    border: 2px solid var(--fill-color);\n",
       "    border-color: transparent;\n",
       "    border-bottom-color: var(--fill-color);\n",
       "    animation:\n",
       "      spin 1s steps(1) infinite;\n",
       "  }\n",
       "\n",
       "  @keyframes spin {\n",
       "    0% {\n",
       "      border-color: transparent;\n",
       "      border-bottom-color: var(--fill-color);\n",
       "      border-left-color: var(--fill-color);\n",
       "    }\n",
       "    20% {\n",
       "      border-color: transparent;\n",
       "      border-left-color: var(--fill-color);\n",
       "      border-top-color: var(--fill-color);\n",
       "    }\n",
       "    30% {\n",
       "      border-color: transparent;\n",
       "      border-left-color: var(--fill-color);\n",
       "      border-top-color: var(--fill-color);\n",
       "      border-right-color: var(--fill-color);\n",
       "    }\n",
       "    40% {\n",
       "      border-color: transparent;\n",
       "      border-right-color: var(--fill-color);\n",
       "      border-top-color: var(--fill-color);\n",
       "    }\n",
       "    60% {\n",
       "      border-color: transparent;\n",
       "      border-right-color: var(--fill-color);\n",
       "    }\n",
       "    80% {\n",
       "      border-color: transparent;\n",
       "      border-right-color: var(--fill-color);\n",
       "      border-bottom-color: var(--fill-color);\n",
       "    }\n",
       "    90% {\n",
       "      border-color: transparent;\n",
       "      border-bottom-color: var(--fill-color);\n",
       "    }\n",
       "  }\n",
       "</style>\n",
       "\n",
       "  <script>\n",
       "    async function quickchart(key) {\n",
       "      const quickchartButtonEl =\n",
       "        document.querySelector('#' + key + ' button');\n",
       "      quickchartButtonEl.disabled = true;  // To prevent multiple clicks.\n",
       "      quickchartButtonEl.classList.add('colab-df-spinner');\n",
       "      try {\n",
       "        const charts = await google.colab.kernel.invokeFunction(\n",
       "            'suggestCharts', [key], {});\n",
       "      } catch (error) {\n",
       "        console.error('Error during call to suggestCharts:', error);\n",
       "      }\n",
       "      quickchartButtonEl.classList.remove('colab-df-spinner');\n",
       "      quickchartButtonEl.classList.add('colab-df-quickchart-complete');\n",
       "    }\n",
       "    (() => {\n",
       "      let quickchartButtonEl =\n",
       "        document.querySelector('#df-f970957f-def6-405f-9bf1-bdd743910172 button');\n",
       "      quickchartButtonEl.style.display =\n",
       "        google.colab.kernel.accessAllowed ? 'block' : 'none';\n",
       "    })();\n",
       "  </script>\n",
       "</div>\n",
       "\n",
       "  <div id=\"id_81104361-bb74-43b0-b781-f209212e5a7d\">\n",
       "    <style>\n",
       "      .colab-df-generate {\n",
       "        background-color: #E8F0FE;\n",
       "        border: none;\n",
       "        border-radius: 50%;\n",
       "        cursor: pointer;\n",
       "        display: none;\n",
       "        fill: #1967D2;\n",
       "        height: 32px;\n",
       "        padding: 0 0 0 0;\n",
       "        width: 32px;\n",
       "      }\n",
       "\n",
       "      .colab-df-generate:hover {\n",
       "        background-color: #E2EBFA;\n",
       "        box-shadow: 0px 1px 2px rgba(60, 64, 67, 0.3), 0px 1px 3px 1px rgba(60, 64, 67, 0.15);\n",
       "        fill: #174EA6;\n",
       "      }\n",
       "\n",
       "      [theme=dark] .colab-df-generate {\n",
       "        background-color: #3B4455;\n",
       "        fill: #D2E3FC;\n",
       "      }\n",
       "\n",
       "      [theme=dark] .colab-df-generate:hover {\n",
       "        background-color: #434B5C;\n",
       "        box-shadow: 0px 1px 3px 1px rgba(0, 0, 0, 0.15);\n",
       "        filter: drop-shadow(0px 1px 2px rgba(0, 0, 0, 0.3));\n",
       "        fill: #FFFFFF;\n",
       "      }\n",
       "    </style>\n",
       "    <button class=\"colab-df-generate\" onclick=\"generateWithVariable('df')\"\n",
       "            title=\"Generate code using this dataframe.\"\n",
       "            style=\"display:none;\">\n",
       "\n",
       "  <svg xmlns=\"http://www.w3.org/2000/svg\" height=\"24px\"viewBox=\"0 0 24 24\"\n",
       "       width=\"24px\">\n",
       "    <path d=\"M7,19H8.4L18.45,9,17,7.55,7,17.6ZM5,21V16.75L18.45,3.32a2,2,0,0,1,2.83,0l1.4,1.43a1.91,1.91,0,0,1,.58,1.4,1.91,1.91,0,0,1-.58,1.4L9.25,21ZM18.45,9,17,7.55Zm-12,3A5.31,5.31,0,0,0,4.9,8.1,5.31,5.31,0,0,0,1,6.5,5.31,5.31,0,0,0,4.9,4.9,5.31,5.31,0,0,0,6.5,1,5.31,5.31,0,0,0,8.1,4.9,5.31,5.31,0,0,0,12,6.5,5.46,5.46,0,0,0,6.5,12Z\"/>\n",
       "  </svg>\n",
       "    </button>\n",
       "    <script>\n",
       "      (() => {\n",
       "      const buttonEl =\n",
       "        document.querySelector('#id_81104361-bb74-43b0-b781-f209212e5a7d button.colab-df-generate');\n",
       "      buttonEl.style.display =\n",
       "        google.colab.kernel.accessAllowed ? 'block' : 'none';\n",
       "\n",
       "      buttonEl.onclick = () => {\n",
       "        google.colab.notebook.generateWithVariable('df');\n",
       "      }\n",
       "      })();\n",
       "    </script>\n",
       "  </div>\n",
       "\n",
       "    </div>\n",
       "  </div>\n"
      ],
      "application/vnd.google.colaboratory.intrinsic+json": {
       "type": "dataframe",
       "variable_name": "df",
       "summary": "{\n  \"name\": \"df\",\n  \"rows\": 3,\n  \"fields\": [\n    {\n      \"column\": \"Nombre\",\n      \"properties\": {\n        \"dtype\": \"string\",\n        \"num_unique_values\": 3,\n        \"samples\": [\n          \"Ana\",\n          \"Juan\",\n          \"Luis\"\n        ],\n        \"semantic_type\": \"\",\n        \"description\": \"\"\n      }\n    },\n    {\n      \"column\": \"Edad\",\n      \"properties\": {\n        \"dtype\": \"number\",\n        \"std\": 5,\n        \"min\": 25,\n        \"max\": 35,\n        \"num_unique_values\": 3,\n        \"samples\": [\n          25,\n          30,\n          35\n        ],\n        \"semantic_type\": \"\",\n        \"description\": \"\"\n      }\n    },\n    {\n      \"column\": \"Salario\",\n      \"properties\": {\n        \"dtype\": \"number\",\n        \"std\": 0,\n        \"min\": 50000,\n        \"max\": 50000,\n        \"num_unique_values\": 1,\n        \"samples\": [\n          50000\n        ],\n        \"semantic_type\": \"\",\n        \"description\": \"\"\n      }\n    }\n  ]\n}"
      }
     },
     "metadata": {},
     "execution_count": 109
    }
   ]
  },
  {
   "cell_type": "code",
   "source": [
    "print(df.head(2))"
   ],
   "metadata": {
    "colab": {
     "base_uri": "https://localhost:8080/"
    },
    "id": "eRRZwH3E0GSE",
    "outputId": "4d9bd91a-0885-4372-fac5-3e62edb01511"
   },
   "execution_count": null,
   "outputs": [
    {
     "output_type": "stream",
     "name": "stdout",
     "text": [
      "  Nombre  Edad  Salario\n",
      "0    Ana    25    50000\n",
      "1   Juan    30    50000\n"
     ]
    }
   ]
  },
  {
   "cell_type": "code",
   "source": [
    "print(df.tail(2))"
   ],
   "metadata": {
    "colab": {
     "base_uri": "https://localhost:8080/"
    },
    "id": "BPYfv6v-Hb53",
    "outputId": "36e2d113-79b4-4381-fc74-063308905b60"
   },
   "execution_count": null,
   "outputs": [
    {
     "output_type": "stream",
     "name": "stdout",
     "text": [
      "  Nombre  Edad  Salario\n",
      "1   Juan    30    50000\n",
      "2   Luis    35    50000\n"
     ]
    }
   ]
  },
  {
   "cell_type": "code",
   "source": [
    "print(df.describe())"
   ],
   "metadata": {
    "colab": {
     "base_uri": "https://localhost:8080/"
    },
    "id": "4w0-6cJLHdDa",
    "outputId": "2b88da0c-782e-49f7-dc64-658718a83939"
   },
   "execution_count": null,
   "outputs": [
    {
     "output_type": "stream",
     "name": "stdout",
     "text": [
      "       Edad  Salario\n",
      "count   3.0      3.0\n",
      "mean   30.0  50000.0\n",
      "std     5.0      0.0\n",
      "min    25.0  50000.0\n",
      "25%    27.5  50000.0\n",
      "50%    30.0  50000.0\n",
      "75%    32.5  50000.0\n",
      "max    35.0  50000.0\n"
     ]
    }
   ]
  },
  {
   "cell_type": "code",
   "source": [
    "print(df.info())"
   ],
   "metadata": {
    "colab": {
     "base_uri": "https://localhost:8080/"
    },
    "id": "Hfgi0Hk9HeX_",
    "outputId": "2f9ae539-0bf8-4e81-dbe8-d091951b380f"
   },
   "execution_count": null,
   "outputs": [
    {
     "output_type": "stream",
     "name": "stdout",
     "text": [
      "<class 'pandas.core.frame.DataFrame'>\n",
      "RangeIndex: 3 entries, 0 to 2\n",
      "Data columns (total 3 columns):\n",
      " #   Column   Non-Null Count  Dtype \n",
      "---  ------   --------------  ----- \n",
      " 0   Nombre   3 non-null      object\n",
      " 1   Edad     3 non-null      int64 \n",
      " 2   Salario  3 non-null      int64 \n",
      "dtypes: int64(2), object(1)\n",
      "memory usage: 204.0+ bytes\n",
      "None\n"
     ]
    }
   ]
  },
  {
   "cell_type": "code",
   "source": [
    "df = df.drop(columns=['Salario'])"
   ],
   "metadata": {
    "id": "26VtIKzc0DLS"
   },
   "execution_count": null,
   "outputs": []
  },
  {
   "cell_type": "code",
   "source": [
    "df"
   ],
   "metadata": {
    "colab": {
     "base_uri": "https://localhost:8080/",
     "height": 143
    },
    "id": "mU5woJ-9HW3u",
    "outputId": "b898a5b9-41ec-49ae-d354-882a7657c2d9"
   },
   "execution_count": null,
   "outputs": [
    {
     "output_type": "execute_result",
     "data": {
      "text/plain": [
       "  Nombre  Edad\n",
       "0    Ana    25\n",
       "1   Juan    30\n",
       "2   Luis    35"
      ],
      "text/html": [
       "\n",
       "  <div id=\"df-8661e649-f944-4e81-b8cf-bc8dc4a109b8\" class=\"colab-df-container\">\n",
       "    <div>\n",
       "<style scoped>\n",
       "    .dataframe tbody tr th:only-of-type {\n",
       "        vertical-align: middle;\n",
       "    }\n",
       "\n",
       "    .dataframe tbody tr th {\n",
       "        vertical-align: top;\n",
       "    }\n",
       "\n",
       "    .dataframe thead th {\n",
       "        text-align: right;\n",
       "    }\n",
       "</style>\n",
       "<table border=\"1\" class=\"dataframe\">\n",
       "  <thead>\n",
       "    <tr style=\"text-align: right;\">\n",
       "      <th></th>\n",
       "      <th>Nombre</th>\n",
       "      <th>Edad</th>\n",
       "    </tr>\n",
       "  </thead>\n",
       "  <tbody>\n",
       "    <tr>\n",
       "      <th>0</th>\n",
       "      <td>Ana</td>\n",
       "      <td>25</td>\n",
       "    </tr>\n",
       "    <tr>\n",
       "      <th>1</th>\n",
       "      <td>Juan</td>\n",
       "      <td>30</td>\n",
       "    </tr>\n",
       "    <tr>\n",
       "      <th>2</th>\n",
       "      <td>Luis</td>\n",
       "      <td>35</td>\n",
       "    </tr>\n",
       "  </tbody>\n",
       "</table>\n",
       "</div>\n",
       "    <div class=\"colab-df-buttons\">\n",
       "\n",
       "  <div class=\"colab-df-container\">\n",
       "    <button class=\"colab-df-convert\" onclick=\"convertToInteractive('df-8661e649-f944-4e81-b8cf-bc8dc4a109b8')\"\n",
       "            title=\"Convert this dataframe to an interactive table.\"\n",
       "            style=\"display:none;\">\n",
       "\n",
       "  <svg xmlns=\"http://www.w3.org/2000/svg\" height=\"24px\" viewBox=\"0 -960 960 960\">\n",
       "    <path d=\"M120-120v-720h720v720H120Zm60-500h600v-160H180v160Zm220 220h160v-160H400v160Zm0 220h160v-160H400v160ZM180-400h160v-160H180v160Zm440 0h160v-160H620v160ZM180-180h160v-160H180v160Zm440 0h160v-160H620v160Z\"/>\n",
       "  </svg>\n",
       "    </button>\n",
       "\n",
       "  <style>\n",
       "    .colab-df-container {\n",
       "      display:flex;\n",
       "      gap: 12px;\n",
       "    }\n",
       "\n",
       "    .colab-df-convert {\n",
       "      background-color: #E8F0FE;\n",
       "      border: none;\n",
       "      border-radius: 50%;\n",
       "      cursor: pointer;\n",
       "      display: none;\n",
       "      fill: #1967D2;\n",
       "      height: 32px;\n",
       "      padding: 0 0 0 0;\n",
       "      width: 32px;\n",
       "    }\n",
       "\n",
       "    .colab-df-convert:hover {\n",
       "      background-color: #E2EBFA;\n",
       "      box-shadow: 0px 1px 2px rgba(60, 64, 67, 0.3), 0px 1px 3px 1px rgba(60, 64, 67, 0.15);\n",
       "      fill: #174EA6;\n",
       "    }\n",
       "\n",
       "    .colab-df-buttons div {\n",
       "      margin-bottom: 4px;\n",
       "    }\n",
       "\n",
       "    [theme=dark] .colab-df-convert {\n",
       "      background-color: #3B4455;\n",
       "      fill: #D2E3FC;\n",
       "    }\n",
       "\n",
       "    [theme=dark] .colab-df-convert:hover {\n",
       "      background-color: #434B5C;\n",
       "      box-shadow: 0px 1px 3px 1px rgba(0, 0, 0, 0.15);\n",
       "      filter: drop-shadow(0px 1px 2px rgba(0, 0, 0, 0.3));\n",
       "      fill: #FFFFFF;\n",
       "    }\n",
       "  </style>\n",
       "\n",
       "    <script>\n",
       "      const buttonEl =\n",
       "        document.querySelector('#df-8661e649-f944-4e81-b8cf-bc8dc4a109b8 button.colab-df-convert');\n",
       "      buttonEl.style.display =\n",
       "        google.colab.kernel.accessAllowed ? 'block' : 'none';\n",
       "\n",
       "      async function convertToInteractive(key) {\n",
       "        const element = document.querySelector('#df-8661e649-f944-4e81-b8cf-bc8dc4a109b8');\n",
       "        const dataTable =\n",
       "          await google.colab.kernel.invokeFunction('convertToInteractive',\n",
       "                                                    [key], {});\n",
       "        if (!dataTable) return;\n",
       "\n",
       "        const docLinkHtml = 'Like what you see? Visit the ' +\n",
       "          '<a target=\"_blank\" href=https://colab.research.google.com/notebooks/data_table.ipynb>data table notebook</a>'\n",
       "          + ' to learn more about interactive tables.';\n",
       "        element.innerHTML = '';\n",
       "        dataTable['output_type'] = 'display_data';\n",
       "        await google.colab.output.renderOutput(dataTable, element);\n",
       "        const docLink = document.createElement('div');\n",
       "        docLink.innerHTML = docLinkHtml;\n",
       "        element.appendChild(docLink);\n",
       "      }\n",
       "    </script>\n",
       "  </div>\n",
       "\n",
       "\n",
       "<div id=\"df-b89fbfec-34cd-41bd-aa8d-01fac8728235\">\n",
       "  <button class=\"colab-df-quickchart\" onclick=\"quickchart('df-b89fbfec-34cd-41bd-aa8d-01fac8728235')\"\n",
       "            title=\"Suggest charts\"\n",
       "            style=\"display:none;\">\n",
       "\n",
       "<svg xmlns=\"http://www.w3.org/2000/svg\" height=\"24px\"viewBox=\"0 0 24 24\"\n",
       "     width=\"24px\">\n",
       "    <g>\n",
       "        <path d=\"M19 3H5c-1.1 0-2 .9-2 2v14c0 1.1.9 2 2 2h14c1.1 0 2-.9 2-2V5c0-1.1-.9-2-2-2zM9 17H7v-7h2v7zm4 0h-2V7h2v10zm4 0h-2v-4h2v4z\"/>\n",
       "    </g>\n",
       "</svg>\n",
       "  </button>\n",
       "\n",
       "<style>\n",
       "  .colab-df-quickchart {\n",
       "      --bg-color: #E8F0FE;\n",
       "      --fill-color: #1967D2;\n",
       "      --hover-bg-color: #E2EBFA;\n",
       "      --hover-fill-color: #174EA6;\n",
       "      --disabled-fill-color: #AAA;\n",
       "      --disabled-bg-color: #DDD;\n",
       "  }\n",
       "\n",
       "  [theme=dark] .colab-df-quickchart {\n",
       "      --bg-color: #3B4455;\n",
       "      --fill-color: #D2E3FC;\n",
       "      --hover-bg-color: #434B5C;\n",
       "      --hover-fill-color: #FFFFFF;\n",
       "      --disabled-bg-color: #3B4455;\n",
       "      --disabled-fill-color: #666;\n",
       "  }\n",
       "\n",
       "  .colab-df-quickchart {\n",
       "    background-color: var(--bg-color);\n",
       "    border: none;\n",
       "    border-radius: 50%;\n",
       "    cursor: pointer;\n",
       "    display: none;\n",
       "    fill: var(--fill-color);\n",
       "    height: 32px;\n",
       "    padding: 0;\n",
       "    width: 32px;\n",
       "  }\n",
       "\n",
       "  .colab-df-quickchart:hover {\n",
       "    background-color: var(--hover-bg-color);\n",
       "    box-shadow: 0 1px 2px rgba(60, 64, 67, 0.3), 0 1px 3px 1px rgba(60, 64, 67, 0.15);\n",
       "    fill: var(--button-hover-fill-color);\n",
       "  }\n",
       "\n",
       "  .colab-df-quickchart-complete:disabled,\n",
       "  .colab-df-quickchart-complete:disabled:hover {\n",
       "    background-color: var(--disabled-bg-color);\n",
       "    fill: var(--disabled-fill-color);\n",
       "    box-shadow: none;\n",
       "  }\n",
       "\n",
       "  .colab-df-spinner {\n",
       "    border: 2px solid var(--fill-color);\n",
       "    border-color: transparent;\n",
       "    border-bottom-color: var(--fill-color);\n",
       "    animation:\n",
       "      spin 1s steps(1) infinite;\n",
       "  }\n",
       "\n",
       "  @keyframes spin {\n",
       "    0% {\n",
       "      border-color: transparent;\n",
       "      border-bottom-color: var(--fill-color);\n",
       "      border-left-color: var(--fill-color);\n",
       "    }\n",
       "    20% {\n",
       "      border-color: transparent;\n",
       "      border-left-color: var(--fill-color);\n",
       "      border-top-color: var(--fill-color);\n",
       "    }\n",
       "    30% {\n",
       "      border-color: transparent;\n",
       "      border-left-color: var(--fill-color);\n",
       "      border-top-color: var(--fill-color);\n",
       "      border-right-color: var(--fill-color);\n",
       "    }\n",
       "    40% {\n",
       "      border-color: transparent;\n",
       "      border-right-color: var(--fill-color);\n",
       "      border-top-color: var(--fill-color);\n",
       "    }\n",
       "    60% {\n",
       "      border-color: transparent;\n",
       "      border-right-color: var(--fill-color);\n",
       "    }\n",
       "    80% {\n",
       "      border-color: transparent;\n",
       "      border-right-color: var(--fill-color);\n",
       "      border-bottom-color: var(--fill-color);\n",
       "    }\n",
       "    90% {\n",
       "      border-color: transparent;\n",
       "      border-bottom-color: var(--fill-color);\n",
       "    }\n",
       "  }\n",
       "</style>\n",
       "\n",
       "  <script>\n",
       "    async function quickchart(key) {\n",
       "      const quickchartButtonEl =\n",
       "        document.querySelector('#' + key + ' button');\n",
       "      quickchartButtonEl.disabled = true;  // To prevent multiple clicks.\n",
       "      quickchartButtonEl.classList.add('colab-df-spinner');\n",
       "      try {\n",
       "        const charts = await google.colab.kernel.invokeFunction(\n",
       "            'suggestCharts', [key], {});\n",
       "      } catch (error) {\n",
       "        console.error('Error during call to suggestCharts:', error);\n",
       "      }\n",
       "      quickchartButtonEl.classList.remove('colab-df-spinner');\n",
       "      quickchartButtonEl.classList.add('colab-df-quickchart-complete');\n",
       "    }\n",
       "    (() => {\n",
       "      let quickchartButtonEl =\n",
       "        document.querySelector('#df-b89fbfec-34cd-41bd-aa8d-01fac8728235 button');\n",
       "      quickchartButtonEl.style.display =\n",
       "        google.colab.kernel.accessAllowed ? 'block' : 'none';\n",
       "    })();\n",
       "  </script>\n",
       "</div>\n",
       "\n",
       "  <div id=\"id_76f05201-1158-4db5-be8b-f37aa6167bcf\">\n",
       "    <style>\n",
       "      .colab-df-generate {\n",
       "        background-color: #E8F0FE;\n",
       "        border: none;\n",
       "        border-radius: 50%;\n",
       "        cursor: pointer;\n",
       "        display: none;\n",
       "        fill: #1967D2;\n",
       "        height: 32px;\n",
       "        padding: 0 0 0 0;\n",
       "        width: 32px;\n",
       "      }\n",
       "\n",
       "      .colab-df-generate:hover {\n",
       "        background-color: #E2EBFA;\n",
       "        box-shadow: 0px 1px 2px rgba(60, 64, 67, 0.3), 0px 1px 3px 1px rgba(60, 64, 67, 0.15);\n",
       "        fill: #174EA6;\n",
       "      }\n",
       "\n",
       "      [theme=dark] .colab-df-generate {\n",
       "        background-color: #3B4455;\n",
       "        fill: #D2E3FC;\n",
       "      }\n",
       "\n",
       "      [theme=dark] .colab-df-generate:hover {\n",
       "        background-color: #434B5C;\n",
       "        box-shadow: 0px 1px 3px 1px rgba(0, 0, 0, 0.15);\n",
       "        filter: drop-shadow(0px 1px 2px rgba(0, 0, 0, 0.3));\n",
       "        fill: #FFFFFF;\n",
       "      }\n",
       "    </style>\n",
       "    <button class=\"colab-df-generate\" onclick=\"generateWithVariable('df')\"\n",
       "            title=\"Generate code using this dataframe.\"\n",
       "            style=\"display:none;\">\n",
       "\n",
       "  <svg xmlns=\"http://www.w3.org/2000/svg\" height=\"24px\"viewBox=\"0 0 24 24\"\n",
       "       width=\"24px\">\n",
       "    <path d=\"M7,19H8.4L18.45,9,17,7.55,7,17.6ZM5,21V16.75L18.45,3.32a2,2,0,0,1,2.83,0l1.4,1.43a1.91,1.91,0,0,1,.58,1.4,1.91,1.91,0,0,1-.58,1.4L9.25,21ZM18.45,9,17,7.55Zm-12,3A5.31,5.31,0,0,0,4.9,8.1,5.31,5.31,0,0,0,1,6.5,5.31,5.31,0,0,0,4.9,4.9,5.31,5.31,0,0,0,6.5,1,5.31,5.31,0,0,0,8.1,4.9,5.31,5.31,0,0,0,12,6.5,5.46,5.46,0,0,0,6.5,12Z\"/>\n",
       "  </svg>\n",
       "    </button>\n",
       "    <script>\n",
       "      (() => {\n",
       "      const buttonEl =\n",
       "        document.querySelector('#id_76f05201-1158-4db5-be8b-f37aa6167bcf button.colab-df-generate');\n",
       "      buttonEl.style.display =\n",
       "        google.colab.kernel.accessAllowed ? 'block' : 'none';\n",
       "\n",
       "      buttonEl.onclick = () => {\n",
       "        google.colab.notebook.generateWithVariable('df');\n",
       "      }\n",
       "      })();\n",
       "    </script>\n",
       "  </div>\n",
       "\n",
       "    </div>\n",
       "  </div>\n"
      ],
      "application/vnd.google.colaboratory.intrinsic+json": {
       "type": "dataframe",
       "variable_name": "df",
       "summary": "{\n  \"name\": \"df\",\n  \"rows\": 3,\n  \"fields\": [\n    {\n      \"column\": \"Nombre\",\n      \"properties\": {\n        \"dtype\": \"string\",\n        \"num_unique_values\": 3,\n        \"samples\": [\n          \"Ana\",\n          \"Juan\",\n          \"Luis\"\n        ],\n        \"semantic_type\": \"\",\n        \"description\": \"\"\n      }\n    },\n    {\n      \"column\": \"Edad\",\n      \"properties\": {\n        \"dtype\": \"number\",\n        \"std\": 5,\n        \"min\": 25,\n        \"max\": 35,\n        \"num_unique_values\": 3,\n        \"samples\": [\n          25,\n          30,\n          35\n        ],\n        \"semantic_type\": \"\",\n        \"description\": \"\"\n      }\n    }\n  ]\n}"
      }
     },
     "metadata": {},
     "execution_count": 115
    }
   ]
  },
  {
   "cell_type": "code",
   "source": [
    "df.to_csv('salida.csv', index=False)"
   ],
   "metadata": {
    "id": "qW2gKGPrzvCV"
   },
   "execution_count": null,
   "outputs": []
  },
  {
   "cell_type": "code",
   "source": [
    "df.to_excel('salida.xlsx', index=False)"
   ],
   "metadata": {
    "id": "T92FBauR0WA1"
   },
   "execution_count": null,
   "outputs": []
  },
  {
   "cell_type": "code",
   "source": [
    "df2 = pd.read_csv('salida.csv')\n",
    "df2"
   ],
   "metadata": {
    "colab": {
     "base_uri": "https://localhost:8080/",
     "height": 143
    },
    "id": "ALAGwbv_zwc0",
    "outputId": "19eb00a5-f695-441d-fda9-ef56aa5e8a9c"
   },
   "execution_count": null,
   "outputs": [
    {
     "output_type": "execute_result",
     "data": {
      "text/plain": [
       "  Nombre  Edad\n",
       "0    Ana    25\n",
       "1   Juan    30\n",
       "2   Luis    35"
      ],
      "text/html": [
       "\n",
       "  <div id=\"df-89f69ccd-0ffd-43c4-b4c4-3137ea9fd281\" class=\"colab-df-container\">\n",
       "    <div>\n",
       "<style scoped>\n",
       "    .dataframe tbody tr th:only-of-type {\n",
       "        vertical-align: middle;\n",
       "    }\n",
       "\n",
       "    .dataframe tbody tr th {\n",
       "        vertical-align: top;\n",
       "    }\n",
       "\n",
       "    .dataframe thead th {\n",
       "        text-align: right;\n",
       "    }\n",
       "</style>\n",
       "<table border=\"1\" class=\"dataframe\">\n",
       "  <thead>\n",
       "    <tr style=\"text-align: right;\">\n",
       "      <th></th>\n",
       "      <th>Nombre</th>\n",
       "      <th>Edad</th>\n",
       "    </tr>\n",
       "  </thead>\n",
       "  <tbody>\n",
       "    <tr>\n",
       "      <th>0</th>\n",
       "      <td>Ana</td>\n",
       "      <td>25</td>\n",
       "    </tr>\n",
       "    <tr>\n",
       "      <th>1</th>\n",
       "      <td>Juan</td>\n",
       "      <td>30</td>\n",
       "    </tr>\n",
       "    <tr>\n",
       "      <th>2</th>\n",
       "      <td>Luis</td>\n",
       "      <td>35</td>\n",
       "    </tr>\n",
       "  </tbody>\n",
       "</table>\n",
       "</div>\n",
       "    <div class=\"colab-df-buttons\">\n",
       "\n",
       "  <div class=\"colab-df-container\">\n",
       "    <button class=\"colab-df-convert\" onclick=\"convertToInteractive('df-89f69ccd-0ffd-43c4-b4c4-3137ea9fd281')\"\n",
       "            title=\"Convert this dataframe to an interactive table.\"\n",
       "            style=\"display:none;\">\n",
       "\n",
       "  <svg xmlns=\"http://www.w3.org/2000/svg\" height=\"24px\" viewBox=\"0 -960 960 960\">\n",
       "    <path d=\"M120-120v-720h720v720H120Zm60-500h600v-160H180v160Zm220 220h160v-160H400v160Zm0 220h160v-160H400v160ZM180-400h160v-160H180v160Zm440 0h160v-160H620v160ZM180-180h160v-160H180v160Zm440 0h160v-160H620v160Z\"/>\n",
       "  </svg>\n",
       "    </button>\n",
       "\n",
       "  <style>\n",
       "    .colab-df-container {\n",
       "      display:flex;\n",
       "      gap: 12px;\n",
       "    }\n",
       "\n",
       "    .colab-df-convert {\n",
       "      background-color: #E8F0FE;\n",
       "      border: none;\n",
       "      border-radius: 50%;\n",
       "      cursor: pointer;\n",
       "      display: none;\n",
       "      fill: #1967D2;\n",
       "      height: 32px;\n",
       "      padding: 0 0 0 0;\n",
       "      width: 32px;\n",
       "    }\n",
       "\n",
       "    .colab-df-convert:hover {\n",
       "      background-color: #E2EBFA;\n",
       "      box-shadow: 0px 1px 2px rgba(60, 64, 67, 0.3), 0px 1px 3px 1px rgba(60, 64, 67, 0.15);\n",
       "      fill: #174EA6;\n",
       "    }\n",
       "\n",
       "    .colab-df-buttons div {\n",
       "      margin-bottom: 4px;\n",
       "    }\n",
       "\n",
       "    [theme=dark] .colab-df-convert {\n",
       "      background-color: #3B4455;\n",
       "      fill: #D2E3FC;\n",
       "    }\n",
       "\n",
       "    [theme=dark] .colab-df-convert:hover {\n",
       "      background-color: #434B5C;\n",
       "      box-shadow: 0px 1px 3px 1px rgba(0, 0, 0, 0.15);\n",
       "      filter: drop-shadow(0px 1px 2px rgba(0, 0, 0, 0.3));\n",
       "      fill: #FFFFFF;\n",
       "    }\n",
       "  </style>\n",
       "\n",
       "    <script>\n",
       "      const buttonEl =\n",
       "        document.querySelector('#df-89f69ccd-0ffd-43c4-b4c4-3137ea9fd281 button.colab-df-convert');\n",
       "      buttonEl.style.display =\n",
       "        google.colab.kernel.accessAllowed ? 'block' : 'none';\n",
       "\n",
       "      async function convertToInteractive(key) {\n",
       "        const element = document.querySelector('#df-89f69ccd-0ffd-43c4-b4c4-3137ea9fd281');\n",
       "        const dataTable =\n",
       "          await google.colab.kernel.invokeFunction('convertToInteractive',\n",
       "                                                    [key], {});\n",
       "        if (!dataTable) return;\n",
       "\n",
       "        const docLinkHtml = 'Like what you see? Visit the ' +\n",
       "          '<a target=\"_blank\" href=https://colab.research.google.com/notebooks/data_table.ipynb>data table notebook</a>'\n",
       "          + ' to learn more about interactive tables.';\n",
       "        element.innerHTML = '';\n",
       "        dataTable['output_type'] = 'display_data';\n",
       "        await google.colab.output.renderOutput(dataTable, element);\n",
       "        const docLink = document.createElement('div');\n",
       "        docLink.innerHTML = docLinkHtml;\n",
       "        element.appendChild(docLink);\n",
       "      }\n",
       "    </script>\n",
       "  </div>\n",
       "\n",
       "\n",
       "<div id=\"df-d5dd2061-67ff-4d85-b561-6e7ead27415d\">\n",
       "  <button class=\"colab-df-quickchart\" onclick=\"quickchart('df-d5dd2061-67ff-4d85-b561-6e7ead27415d')\"\n",
       "            title=\"Suggest charts\"\n",
       "            style=\"display:none;\">\n",
       "\n",
       "<svg xmlns=\"http://www.w3.org/2000/svg\" height=\"24px\"viewBox=\"0 0 24 24\"\n",
       "     width=\"24px\">\n",
       "    <g>\n",
       "        <path d=\"M19 3H5c-1.1 0-2 .9-2 2v14c0 1.1.9 2 2 2h14c1.1 0 2-.9 2-2V5c0-1.1-.9-2-2-2zM9 17H7v-7h2v7zm4 0h-2V7h2v10zm4 0h-2v-4h2v4z\"/>\n",
       "    </g>\n",
       "</svg>\n",
       "  </button>\n",
       "\n",
       "<style>\n",
       "  .colab-df-quickchart {\n",
       "      --bg-color: #E8F0FE;\n",
       "      --fill-color: #1967D2;\n",
       "      --hover-bg-color: #E2EBFA;\n",
       "      --hover-fill-color: #174EA6;\n",
       "      --disabled-fill-color: #AAA;\n",
       "      --disabled-bg-color: #DDD;\n",
       "  }\n",
       "\n",
       "  [theme=dark] .colab-df-quickchart {\n",
       "      --bg-color: #3B4455;\n",
       "      --fill-color: #D2E3FC;\n",
       "      --hover-bg-color: #434B5C;\n",
       "      --hover-fill-color: #FFFFFF;\n",
       "      --disabled-bg-color: #3B4455;\n",
       "      --disabled-fill-color: #666;\n",
       "  }\n",
       "\n",
       "  .colab-df-quickchart {\n",
       "    background-color: var(--bg-color);\n",
       "    border: none;\n",
       "    border-radius: 50%;\n",
       "    cursor: pointer;\n",
       "    display: none;\n",
       "    fill: var(--fill-color);\n",
       "    height: 32px;\n",
       "    padding: 0;\n",
       "    width: 32px;\n",
       "  }\n",
       "\n",
       "  .colab-df-quickchart:hover {\n",
       "    background-color: var(--hover-bg-color);\n",
       "    box-shadow: 0 1px 2px rgba(60, 64, 67, 0.3), 0 1px 3px 1px rgba(60, 64, 67, 0.15);\n",
       "    fill: var(--button-hover-fill-color);\n",
       "  }\n",
       "\n",
       "  .colab-df-quickchart-complete:disabled,\n",
       "  .colab-df-quickchart-complete:disabled:hover {\n",
       "    background-color: var(--disabled-bg-color);\n",
       "    fill: var(--disabled-fill-color);\n",
       "    box-shadow: none;\n",
       "  }\n",
       "\n",
       "  .colab-df-spinner {\n",
       "    border: 2px solid var(--fill-color);\n",
       "    border-color: transparent;\n",
       "    border-bottom-color: var(--fill-color);\n",
       "    animation:\n",
       "      spin 1s steps(1) infinite;\n",
       "  }\n",
       "\n",
       "  @keyframes spin {\n",
       "    0% {\n",
       "      border-color: transparent;\n",
       "      border-bottom-color: var(--fill-color);\n",
       "      border-left-color: var(--fill-color);\n",
       "    }\n",
       "    20% {\n",
       "      border-color: transparent;\n",
       "      border-left-color: var(--fill-color);\n",
       "      border-top-color: var(--fill-color);\n",
       "    }\n",
       "    30% {\n",
       "      border-color: transparent;\n",
       "      border-left-color: var(--fill-color);\n",
       "      border-top-color: var(--fill-color);\n",
       "      border-right-color: var(--fill-color);\n",
       "    }\n",
       "    40% {\n",
       "      border-color: transparent;\n",
       "      border-right-color: var(--fill-color);\n",
       "      border-top-color: var(--fill-color);\n",
       "    }\n",
       "    60% {\n",
       "      border-color: transparent;\n",
       "      border-right-color: var(--fill-color);\n",
       "    }\n",
       "    80% {\n",
       "      border-color: transparent;\n",
       "      border-right-color: var(--fill-color);\n",
       "      border-bottom-color: var(--fill-color);\n",
       "    }\n",
       "    90% {\n",
       "      border-color: transparent;\n",
       "      border-bottom-color: var(--fill-color);\n",
       "    }\n",
       "  }\n",
       "</style>\n",
       "\n",
       "  <script>\n",
       "    async function quickchart(key) {\n",
       "      const quickchartButtonEl =\n",
       "        document.querySelector('#' + key + ' button');\n",
       "      quickchartButtonEl.disabled = true;  // To prevent multiple clicks.\n",
       "      quickchartButtonEl.classList.add('colab-df-spinner');\n",
       "      try {\n",
       "        const charts = await google.colab.kernel.invokeFunction(\n",
       "            'suggestCharts', [key], {});\n",
       "      } catch (error) {\n",
       "        console.error('Error during call to suggestCharts:', error);\n",
       "      }\n",
       "      quickchartButtonEl.classList.remove('colab-df-spinner');\n",
       "      quickchartButtonEl.classList.add('colab-df-quickchart-complete');\n",
       "    }\n",
       "    (() => {\n",
       "      let quickchartButtonEl =\n",
       "        document.querySelector('#df-d5dd2061-67ff-4d85-b561-6e7ead27415d button');\n",
       "      quickchartButtonEl.style.display =\n",
       "        google.colab.kernel.accessAllowed ? 'block' : 'none';\n",
       "    })();\n",
       "  </script>\n",
       "</div>\n",
       "\n",
       "  <div id=\"id_fcbdddbc-49bb-4211-a626-88999bffe5c7\">\n",
       "    <style>\n",
       "      .colab-df-generate {\n",
       "        background-color: #E8F0FE;\n",
       "        border: none;\n",
       "        border-radius: 50%;\n",
       "        cursor: pointer;\n",
       "        display: none;\n",
       "        fill: #1967D2;\n",
       "        height: 32px;\n",
       "        padding: 0 0 0 0;\n",
       "        width: 32px;\n",
       "      }\n",
       "\n",
       "      .colab-df-generate:hover {\n",
       "        background-color: #E2EBFA;\n",
       "        box-shadow: 0px 1px 2px rgba(60, 64, 67, 0.3), 0px 1px 3px 1px rgba(60, 64, 67, 0.15);\n",
       "        fill: #174EA6;\n",
       "      }\n",
       "\n",
       "      [theme=dark] .colab-df-generate {\n",
       "        background-color: #3B4455;\n",
       "        fill: #D2E3FC;\n",
       "      }\n",
       "\n",
       "      [theme=dark] .colab-df-generate:hover {\n",
       "        background-color: #434B5C;\n",
       "        box-shadow: 0px 1px 3px 1px rgba(0, 0, 0, 0.15);\n",
       "        filter: drop-shadow(0px 1px 2px rgba(0, 0, 0, 0.3));\n",
       "        fill: #FFFFFF;\n",
       "      }\n",
       "    </style>\n",
       "    <button class=\"colab-df-generate\" onclick=\"generateWithVariable('df2')\"\n",
       "            title=\"Generate code using this dataframe.\"\n",
       "            style=\"display:none;\">\n",
       "\n",
       "  <svg xmlns=\"http://www.w3.org/2000/svg\" height=\"24px\"viewBox=\"0 0 24 24\"\n",
       "       width=\"24px\">\n",
       "    <path d=\"M7,19H8.4L18.45,9,17,7.55,7,17.6ZM5,21V16.75L18.45,3.32a2,2,0,0,1,2.83,0l1.4,1.43a1.91,1.91,0,0,1,.58,1.4,1.91,1.91,0,0,1-.58,1.4L9.25,21ZM18.45,9,17,7.55Zm-12,3A5.31,5.31,0,0,0,4.9,8.1,5.31,5.31,0,0,0,1,6.5,5.31,5.31,0,0,0,4.9,4.9,5.31,5.31,0,0,0,6.5,1,5.31,5.31,0,0,0,8.1,4.9,5.31,5.31,0,0,0,12,6.5,5.46,5.46,0,0,0,6.5,12Z\"/>\n",
       "  </svg>\n",
       "    </button>\n",
       "    <script>\n",
       "      (() => {\n",
       "      const buttonEl =\n",
       "        document.querySelector('#id_fcbdddbc-49bb-4211-a626-88999bffe5c7 button.colab-df-generate');\n",
       "      buttonEl.style.display =\n",
       "        google.colab.kernel.accessAllowed ? 'block' : 'none';\n",
       "\n",
       "      buttonEl.onclick = () => {\n",
       "        google.colab.notebook.generateWithVariable('df2');\n",
       "      }\n",
       "      })();\n",
       "    </script>\n",
       "  </div>\n",
       "\n",
       "    </div>\n",
       "  </div>\n"
      ],
      "application/vnd.google.colaboratory.intrinsic+json": {
       "type": "dataframe",
       "variable_name": "df2",
       "summary": "{\n  \"name\": \"df2\",\n  \"rows\": 3,\n  \"fields\": [\n    {\n      \"column\": \"Nombre\",\n      \"properties\": {\n        \"dtype\": \"string\",\n        \"num_unique_values\": 3,\n        \"samples\": [\n          \"Ana\",\n          \"Juan\",\n          \"Luis\"\n        ],\n        \"semantic_type\": \"\",\n        \"description\": \"\"\n      }\n    },\n    {\n      \"column\": \"Edad\",\n      \"properties\": {\n        \"dtype\": \"number\",\n        \"std\": 5,\n        \"min\": 25,\n        \"max\": 35,\n        \"num_unique_values\": 3,\n        \"samples\": [\n          25,\n          30,\n          35\n        ],\n        \"semantic_type\": \"\",\n        \"description\": \"\"\n      }\n    }\n  ]\n}"
      }
     },
     "metadata": {},
     "execution_count": 118
    }
   ]
  },
  {
   "cell_type": "code",
   "source": [
    "df3 = pd.read_excel('salida.xlsx')\n",
    "df3"
   ],
   "metadata": {
    "colab": {
     "base_uri": "https://localhost:8080/",
     "height": 143
    },
    "id": "WTSN4Y5c0Znc",
    "outputId": "2a3292a2-c10c-4b7d-c937-62cb1eed2122"
   },
   "execution_count": null,
   "outputs": [
    {
     "output_type": "execute_result",
     "data": {
      "text/plain": [
       "  Nombre  Edad\n",
       "0    Ana    25\n",
       "1   Juan    30\n",
       "2   Luis    35"
      ],
      "text/html": [
       "\n",
       "  <div id=\"df-f57bd934-5f2d-4795-8d55-e01da6f28657\" class=\"colab-df-container\">\n",
       "    <div>\n",
       "<style scoped>\n",
       "    .dataframe tbody tr th:only-of-type {\n",
       "        vertical-align: middle;\n",
       "    }\n",
       "\n",
       "    .dataframe tbody tr th {\n",
       "        vertical-align: top;\n",
       "    }\n",
       "\n",
       "    .dataframe thead th {\n",
       "        text-align: right;\n",
       "    }\n",
       "</style>\n",
       "<table border=\"1\" class=\"dataframe\">\n",
       "  <thead>\n",
       "    <tr style=\"text-align: right;\">\n",
       "      <th></th>\n",
       "      <th>Nombre</th>\n",
       "      <th>Edad</th>\n",
       "    </tr>\n",
       "  </thead>\n",
       "  <tbody>\n",
       "    <tr>\n",
       "      <th>0</th>\n",
       "      <td>Ana</td>\n",
       "      <td>25</td>\n",
       "    </tr>\n",
       "    <tr>\n",
       "      <th>1</th>\n",
       "      <td>Juan</td>\n",
       "      <td>30</td>\n",
       "    </tr>\n",
       "    <tr>\n",
       "      <th>2</th>\n",
       "      <td>Luis</td>\n",
       "      <td>35</td>\n",
       "    </tr>\n",
       "  </tbody>\n",
       "</table>\n",
       "</div>\n",
       "    <div class=\"colab-df-buttons\">\n",
       "\n",
       "  <div class=\"colab-df-container\">\n",
       "    <button class=\"colab-df-convert\" onclick=\"convertToInteractive('df-f57bd934-5f2d-4795-8d55-e01da6f28657')\"\n",
       "            title=\"Convert this dataframe to an interactive table.\"\n",
       "            style=\"display:none;\">\n",
       "\n",
       "  <svg xmlns=\"http://www.w3.org/2000/svg\" height=\"24px\" viewBox=\"0 -960 960 960\">\n",
       "    <path d=\"M120-120v-720h720v720H120Zm60-500h600v-160H180v160Zm220 220h160v-160H400v160Zm0 220h160v-160H400v160ZM180-400h160v-160H180v160Zm440 0h160v-160H620v160ZM180-180h160v-160H180v160Zm440 0h160v-160H620v160Z\"/>\n",
       "  </svg>\n",
       "    </button>\n",
       "\n",
       "  <style>\n",
       "    .colab-df-container {\n",
       "      display:flex;\n",
       "      gap: 12px;\n",
       "    }\n",
       "\n",
       "    .colab-df-convert {\n",
       "      background-color: #E8F0FE;\n",
       "      border: none;\n",
       "      border-radius: 50%;\n",
       "      cursor: pointer;\n",
       "      display: none;\n",
       "      fill: #1967D2;\n",
       "      height: 32px;\n",
       "      padding: 0 0 0 0;\n",
       "      width: 32px;\n",
       "    }\n",
       "\n",
       "    .colab-df-convert:hover {\n",
       "      background-color: #E2EBFA;\n",
       "      box-shadow: 0px 1px 2px rgba(60, 64, 67, 0.3), 0px 1px 3px 1px rgba(60, 64, 67, 0.15);\n",
       "      fill: #174EA6;\n",
       "    }\n",
       "\n",
       "    .colab-df-buttons div {\n",
       "      margin-bottom: 4px;\n",
       "    }\n",
       "\n",
       "    [theme=dark] .colab-df-convert {\n",
       "      background-color: #3B4455;\n",
       "      fill: #D2E3FC;\n",
       "    }\n",
       "\n",
       "    [theme=dark] .colab-df-convert:hover {\n",
       "      background-color: #434B5C;\n",
       "      box-shadow: 0px 1px 3px 1px rgba(0, 0, 0, 0.15);\n",
       "      filter: drop-shadow(0px 1px 2px rgba(0, 0, 0, 0.3));\n",
       "      fill: #FFFFFF;\n",
       "    }\n",
       "  </style>\n",
       "\n",
       "    <script>\n",
       "      const buttonEl =\n",
       "        document.querySelector('#df-f57bd934-5f2d-4795-8d55-e01da6f28657 button.colab-df-convert');\n",
       "      buttonEl.style.display =\n",
       "        google.colab.kernel.accessAllowed ? 'block' : 'none';\n",
       "\n",
       "      async function convertToInteractive(key) {\n",
       "        const element = document.querySelector('#df-f57bd934-5f2d-4795-8d55-e01da6f28657');\n",
       "        const dataTable =\n",
       "          await google.colab.kernel.invokeFunction('convertToInteractive',\n",
       "                                                    [key], {});\n",
       "        if (!dataTable) return;\n",
       "\n",
       "        const docLinkHtml = 'Like what you see? Visit the ' +\n",
       "          '<a target=\"_blank\" href=https://colab.research.google.com/notebooks/data_table.ipynb>data table notebook</a>'\n",
       "          + ' to learn more about interactive tables.';\n",
       "        element.innerHTML = '';\n",
       "        dataTable['output_type'] = 'display_data';\n",
       "        await google.colab.output.renderOutput(dataTable, element);\n",
       "        const docLink = document.createElement('div');\n",
       "        docLink.innerHTML = docLinkHtml;\n",
       "        element.appendChild(docLink);\n",
       "      }\n",
       "    </script>\n",
       "  </div>\n",
       "\n",
       "\n",
       "<div id=\"df-7eeefc8c-2ad3-492c-a816-182bd75118e1\">\n",
       "  <button class=\"colab-df-quickchart\" onclick=\"quickchart('df-7eeefc8c-2ad3-492c-a816-182bd75118e1')\"\n",
       "            title=\"Suggest charts\"\n",
       "            style=\"display:none;\">\n",
       "\n",
       "<svg xmlns=\"http://www.w3.org/2000/svg\" height=\"24px\"viewBox=\"0 0 24 24\"\n",
       "     width=\"24px\">\n",
       "    <g>\n",
       "        <path d=\"M19 3H5c-1.1 0-2 .9-2 2v14c0 1.1.9 2 2 2h14c1.1 0 2-.9 2-2V5c0-1.1-.9-2-2-2zM9 17H7v-7h2v7zm4 0h-2V7h2v10zm4 0h-2v-4h2v4z\"/>\n",
       "    </g>\n",
       "</svg>\n",
       "  </button>\n",
       "\n",
       "<style>\n",
       "  .colab-df-quickchart {\n",
       "      --bg-color: #E8F0FE;\n",
       "      --fill-color: #1967D2;\n",
       "      --hover-bg-color: #E2EBFA;\n",
       "      --hover-fill-color: #174EA6;\n",
       "      --disabled-fill-color: #AAA;\n",
       "      --disabled-bg-color: #DDD;\n",
       "  }\n",
       "\n",
       "  [theme=dark] .colab-df-quickchart {\n",
       "      --bg-color: #3B4455;\n",
       "      --fill-color: #D2E3FC;\n",
       "      --hover-bg-color: #434B5C;\n",
       "      --hover-fill-color: #FFFFFF;\n",
       "      --disabled-bg-color: #3B4455;\n",
       "      --disabled-fill-color: #666;\n",
       "  }\n",
       "\n",
       "  .colab-df-quickchart {\n",
       "    background-color: var(--bg-color);\n",
       "    border: none;\n",
       "    border-radius: 50%;\n",
       "    cursor: pointer;\n",
       "    display: none;\n",
       "    fill: var(--fill-color);\n",
       "    height: 32px;\n",
       "    padding: 0;\n",
       "    width: 32px;\n",
       "  }\n",
       "\n",
       "  .colab-df-quickchart:hover {\n",
       "    background-color: var(--hover-bg-color);\n",
       "    box-shadow: 0 1px 2px rgba(60, 64, 67, 0.3), 0 1px 3px 1px rgba(60, 64, 67, 0.15);\n",
       "    fill: var(--button-hover-fill-color);\n",
       "  }\n",
       "\n",
       "  .colab-df-quickchart-complete:disabled,\n",
       "  .colab-df-quickchart-complete:disabled:hover {\n",
       "    background-color: var(--disabled-bg-color);\n",
       "    fill: var(--disabled-fill-color);\n",
       "    box-shadow: none;\n",
       "  }\n",
       "\n",
       "  .colab-df-spinner {\n",
       "    border: 2px solid var(--fill-color);\n",
       "    border-color: transparent;\n",
       "    border-bottom-color: var(--fill-color);\n",
       "    animation:\n",
       "      spin 1s steps(1) infinite;\n",
       "  }\n",
       "\n",
       "  @keyframes spin {\n",
       "    0% {\n",
       "      border-color: transparent;\n",
       "      border-bottom-color: var(--fill-color);\n",
       "      border-left-color: var(--fill-color);\n",
       "    }\n",
       "    20% {\n",
       "      border-color: transparent;\n",
       "      border-left-color: var(--fill-color);\n",
       "      border-top-color: var(--fill-color);\n",
       "    }\n",
       "    30% {\n",
       "      border-color: transparent;\n",
       "      border-left-color: var(--fill-color);\n",
       "      border-top-color: var(--fill-color);\n",
       "      border-right-color: var(--fill-color);\n",
       "    }\n",
       "    40% {\n",
       "      border-color: transparent;\n",
       "      border-right-color: var(--fill-color);\n",
       "      border-top-color: var(--fill-color);\n",
       "    }\n",
       "    60% {\n",
       "      border-color: transparent;\n",
       "      border-right-color: var(--fill-color);\n",
       "    }\n",
       "    80% {\n",
       "      border-color: transparent;\n",
       "      border-right-color: var(--fill-color);\n",
       "      border-bottom-color: var(--fill-color);\n",
       "    }\n",
       "    90% {\n",
       "      border-color: transparent;\n",
       "      border-bottom-color: var(--fill-color);\n",
       "    }\n",
       "  }\n",
       "</style>\n",
       "\n",
       "  <script>\n",
       "    async function quickchart(key) {\n",
       "      const quickchartButtonEl =\n",
       "        document.querySelector('#' + key + ' button');\n",
       "      quickchartButtonEl.disabled = true;  // To prevent multiple clicks.\n",
       "      quickchartButtonEl.classList.add('colab-df-spinner');\n",
       "      try {\n",
       "        const charts = await google.colab.kernel.invokeFunction(\n",
       "            'suggestCharts', [key], {});\n",
       "      } catch (error) {\n",
       "        console.error('Error during call to suggestCharts:', error);\n",
       "      }\n",
       "      quickchartButtonEl.classList.remove('colab-df-spinner');\n",
       "      quickchartButtonEl.classList.add('colab-df-quickchart-complete');\n",
       "    }\n",
       "    (() => {\n",
       "      let quickchartButtonEl =\n",
       "        document.querySelector('#df-7eeefc8c-2ad3-492c-a816-182bd75118e1 button');\n",
       "      quickchartButtonEl.style.display =\n",
       "        google.colab.kernel.accessAllowed ? 'block' : 'none';\n",
       "    })();\n",
       "  </script>\n",
       "</div>\n",
       "\n",
       "  <div id=\"id_f64f7512-a6e4-476c-95a0-fd7b2df59cbc\">\n",
       "    <style>\n",
       "      .colab-df-generate {\n",
       "        background-color: #E8F0FE;\n",
       "        border: none;\n",
       "        border-radius: 50%;\n",
       "        cursor: pointer;\n",
       "        display: none;\n",
       "        fill: #1967D2;\n",
       "        height: 32px;\n",
       "        padding: 0 0 0 0;\n",
       "        width: 32px;\n",
       "      }\n",
       "\n",
       "      .colab-df-generate:hover {\n",
       "        background-color: #E2EBFA;\n",
       "        box-shadow: 0px 1px 2px rgba(60, 64, 67, 0.3), 0px 1px 3px 1px rgba(60, 64, 67, 0.15);\n",
       "        fill: #174EA6;\n",
       "      }\n",
       "\n",
       "      [theme=dark] .colab-df-generate {\n",
       "        background-color: #3B4455;\n",
       "        fill: #D2E3FC;\n",
       "      }\n",
       "\n",
       "      [theme=dark] .colab-df-generate:hover {\n",
       "        background-color: #434B5C;\n",
       "        box-shadow: 0px 1px 3px 1px rgba(0, 0, 0, 0.15);\n",
       "        filter: drop-shadow(0px 1px 2px rgba(0, 0, 0, 0.3));\n",
       "        fill: #FFFFFF;\n",
       "      }\n",
       "    </style>\n",
       "    <button class=\"colab-df-generate\" onclick=\"generateWithVariable('df3')\"\n",
       "            title=\"Generate code using this dataframe.\"\n",
       "            style=\"display:none;\">\n",
       "\n",
       "  <svg xmlns=\"http://www.w3.org/2000/svg\" height=\"24px\"viewBox=\"0 0 24 24\"\n",
       "       width=\"24px\">\n",
       "    <path d=\"M7,19H8.4L18.45,9,17,7.55,7,17.6ZM5,21V16.75L18.45,3.32a2,2,0,0,1,2.83,0l1.4,1.43a1.91,1.91,0,0,1,.58,1.4,1.91,1.91,0,0,1-.58,1.4L9.25,21ZM18.45,9,17,7.55Zm-12,3A5.31,5.31,0,0,0,4.9,8.1,5.31,5.31,0,0,0,1,6.5,5.31,5.31,0,0,0,4.9,4.9,5.31,5.31,0,0,0,6.5,1,5.31,5.31,0,0,0,8.1,4.9,5.31,5.31,0,0,0,12,6.5,5.46,5.46,0,0,0,6.5,12Z\"/>\n",
       "  </svg>\n",
       "    </button>\n",
       "    <script>\n",
       "      (() => {\n",
       "      const buttonEl =\n",
       "        document.querySelector('#id_f64f7512-a6e4-476c-95a0-fd7b2df59cbc button.colab-df-generate');\n",
       "      buttonEl.style.display =\n",
       "        google.colab.kernel.accessAllowed ? 'block' : 'none';\n",
       "\n",
       "      buttonEl.onclick = () => {\n",
       "        google.colab.notebook.generateWithVariable('df3');\n",
       "      }\n",
       "      })();\n",
       "    </script>\n",
       "  </div>\n",
       "\n",
       "    </div>\n",
       "  </div>\n"
      ],
      "application/vnd.google.colaboratory.intrinsic+json": {
       "type": "dataframe",
       "variable_name": "df3",
       "summary": "{\n  \"name\": \"df3\",\n  \"rows\": 3,\n  \"fields\": [\n    {\n      \"column\": \"Nombre\",\n      \"properties\": {\n        \"dtype\": \"string\",\n        \"num_unique_values\": 3,\n        \"samples\": [\n          \"Ana\",\n          \"Juan\",\n          \"Luis\"\n        ],\n        \"semantic_type\": \"\",\n        \"description\": \"\"\n      }\n    },\n    {\n      \"column\": \"Edad\",\n      \"properties\": {\n        \"dtype\": \"number\",\n        \"std\": 5,\n        \"min\": 25,\n        \"max\": 35,\n        \"num_unique_values\": 3,\n        \"samples\": [\n          25,\n          30,\n          35\n        ],\n        \"semantic_type\": \"\",\n        \"description\": \"\"\n      }\n    }\n  ]\n}"
      }
     },
     "metadata": {},
     "execution_count": 119
    }
   ]
  },
  {
   "cell_type": "code",
   "source": [
    "df = df.sort_values(by='Edad')\n",
    "df"
   ],
   "metadata": {
    "colab": {
     "base_uri": "https://localhost:8080/",
     "height": 143
    },
    "id": "RJbAn6y00p-8",
    "outputId": "b526a7ba-6f37-4d7f-ce0d-d04dce3b340b"
   },
   "execution_count": null,
   "outputs": [
    {
     "output_type": "execute_result",
     "data": {
      "text/plain": [
       "  Nombre  Edad\n",
       "0    Ana    25\n",
       "1   Juan    30\n",
       "2   Luis    35"
      ],
      "text/html": [
       "\n",
       "  <div id=\"df-c5527c41-49c5-4a46-ba52-d15fcd9edf3b\" class=\"colab-df-container\">\n",
       "    <div>\n",
       "<style scoped>\n",
       "    .dataframe tbody tr th:only-of-type {\n",
       "        vertical-align: middle;\n",
       "    }\n",
       "\n",
       "    .dataframe tbody tr th {\n",
       "        vertical-align: top;\n",
       "    }\n",
       "\n",
       "    .dataframe thead th {\n",
       "        text-align: right;\n",
       "    }\n",
       "</style>\n",
       "<table border=\"1\" class=\"dataframe\">\n",
       "  <thead>\n",
       "    <tr style=\"text-align: right;\">\n",
       "      <th></th>\n",
       "      <th>Nombre</th>\n",
       "      <th>Edad</th>\n",
       "    </tr>\n",
       "  </thead>\n",
       "  <tbody>\n",
       "    <tr>\n",
       "      <th>0</th>\n",
       "      <td>Ana</td>\n",
       "      <td>25</td>\n",
       "    </tr>\n",
       "    <tr>\n",
       "      <th>1</th>\n",
       "      <td>Juan</td>\n",
       "      <td>30</td>\n",
       "    </tr>\n",
       "    <tr>\n",
       "      <th>2</th>\n",
       "      <td>Luis</td>\n",
       "      <td>35</td>\n",
       "    </tr>\n",
       "  </tbody>\n",
       "</table>\n",
       "</div>\n",
       "    <div class=\"colab-df-buttons\">\n",
       "\n",
       "  <div class=\"colab-df-container\">\n",
       "    <button class=\"colab-df-convert\" onclick=\"convertToInteractive('df-c5527c41-49c5-4a46-ba52-d15fcd9edf3b')\"\n",
       "            title=\"Convert this dataframe to an interactive table.\"\n",
       "            style=\"display:none;\">\n",
       "\n",
       "  <svg xmlns=\"http://www.w3.org/2000/svg\" height=\"24px\" viewBox=\"0 -960 960 960\">\n",
       "    <path d=\"M120-120v-720h720v720H120Zm60-500h600v-160H180v160Zm220 220h160v-160H400v160Zm0 220h160v-160H400v160ZM180-400h160v-160H180v160Zm440 0h160v-160H620v160ZM180-180h160v-160H180v160Zm440 0h160v-160H620v160Z\"/>\n",
       "  </svg>\n",
       "    </button>\n",
       "\n",
       "  <style>\n",
       "    .colab-df-container {\n",
       "      display:flex;\n",
       "      gap: 12px;\n",
       "    }\n",
       "\n",
       "    .colab-df-convert {\n",
       "      background-color: #E8F0FE;\n",
       "      border: none;\n",
       "      border-radius: 50%;\n",
       "      cursor: pointer;\n",
       "      display: none;\n",
       "      fill: #1967D2;\n",
       "      height: 32px;\n",
       "      padding: 0 0 0 0;\n",
       "      width: 32px;\n",
       "    }\n",
       "\n",
       "    .colab-df-convert:hover {\n",
       "      background-color: #E2EBFA;\n",
       "      box-shadow: 0px 1px 2px rgba(60, 64, 67, 0.3), 0px 1px 3px 1px rgba(60, 64, 67, 0.15);\n",
       "      fill: #174EA6;\n",
       "    }\n",
       "\n",
       "    .colab-df-buttons div {\n",
       "      margin-bottom: 4px;\n",
       "    }\n",
       "\n",
       "    [theme=dark] .colab-df-convert {\n",
       "      background-color: #3B4455;\n",
       "      fill: #D2E3FC;\n",
       "    }\n",
       "\n",
       "    [theme=dark] .colab-df-convert:hover {\n",
       "      background-color: #434B5C;\n",
       "      box-shadow: 0px 1px 3px 1px rgba(0, 0, 0, 0.15);\n",
       "      filter: drop-shadow(0px 1px 2px rgba(0, 0, 0, 0.3));\n",
       "      fill: #FFFFFF;\n",
       "    }\n",
       "  </style>\n",
       "\n",
       "    <script>\n",
       "      const buttonEl =\n",
       "        document.querySelector('#df-c5527c41-49c5-4a46-ba52-d15fcd9edf3b button.colab-df-convert');\n",
       "      buttonEl.style.display =\n",
       "        google.colab.kernel.accessAllowed ? 'block' : 'none';\n",
       "\n",
       "      async function convertToInteractive(key) {\n",
       "        const element = document.querySelector('#df-c5527c41-49c5-4a46-ba52-d15fcd9edf3b');\n",
       "        const dataTable =\n",
       "          await google.colab.kernel.invokeFunction('convertToInteractive',\n",
       "                                                    [key], {});\n",
       "        if (!dataTable) return;\n",
       "\n",
       "        const docLinkHtml = 'Like what you see? Visit the ' +\n",
       "          '<a target=\"_blank\" href=https://colab.research.google.com/notebooks/data_table.ipynb>data table notebook</a>'\n",
       "          + ' to learn more about interactive tables.';\n",
       "        element.innerHTML = '';\n",
       "        dataTable['output_type'] = 'display_data';\n",
       "        await google.colab.output.renderOutput(dataTable, element);\n",
       "        const docLink = document.createElement('div');\n",
       "        docLink.innerHTML = docLinkHtml;\n",
       "        element.appendChild(docLink);\n",
       "      }\n",
       "    </script>\n",
       "  </div>\n",
       "\n",
       "\n",
       "<div id=\"df-f026623d-a1e0-4a51-88da-68fde59fa886\">\n",
       "  <button class=\"colab-df-quickchart\" onclick=\"quickchart('df-f026623d-a1e0-4a51-88da-68fde59fa886')\"\n",
       "            title=\"Suggest charts\"\n",
       "            style=\"display:none;\">\n",
       "\n",
       "<svg xmlns=\"http://www.w3.org/2000/svg\" height=\"24px\"viewBox=\"0 0 24 24\"\n",
       "     width=\"24px\">\n",
       "    <g>\n",
       "        <path d=\"M19 3H5c-1.1 0-2 .9-2 2v14c0 1.1.9 2 2 2h14c1.1 0 2-.9 2-2V5c0-1.1-.9-2-2-2zM9 17H7v-7h2v7zm4 0h-2V7h2v10zm4 0h-2v-4h2v4z\"/>\n",
       "    </g>\n",
       "</svg>\n",
       "  </button>\n",
       "\n",
       "<style>\n",
       "  .colab-df-quickchart {\n",
       "      --bg-color: #E8F0FE;\n",
       "      --fill-color: #1967D2;\n",
       "      --hover-bg-color: #E2EBFA;\n",
       "      --hover-fill-color: #174EA6;\n",
       "      --disabled-fill-color: #AAA;\n",
       "      --disabled-bg-color: #DDD;\n",
       "  }\n",
       "\n",
       "  [theme=dark] .colab-df-quickchart {\n",
       "      --bg-color: #3B4455;\n",
       "      --fill-color: #D2E3FC;\n",
       "      --hover-bg-color: #434B5C;\n",
       "      --hover-fill-color: #FFFFFF;\n",
       "      --disabled-bg-color: #3B4455;\n",
       "      --disabled-fill-color: #666;\n",
       "  }\n",
       "\n",
       "  .colab-df-quickchart {\n",
       "    background-color: var(--bg-color);\n",
       "    border: none;\n",
       "    border-radius: 50%;\n",
       "    cursor: pointer;\n",
       "    display: none;\n",
       "    fill: var(--fill-color);\n",
       "    height: 32px;\n",
       "    padding: 0;\n",
       "    width: 32px;\n",
       "  }\n",
       "\n",
       "  .colab-df-quickchart:hover {\n",
       "    background-color: var(--hover-bg-color);\n",
       "    box-shadow: 0 1px 2px rgba(60, 64, 67, 0.3), 0 1px 3px 1px rgba(60, 64, 67, 0.15);\n",
       "    fill: var(--button-hover-fill-color);\n",
       "  }\n",
       "\n",
       "  .colab-df-quickchart-complete:disabled,\n",
       "  .colab-df-quickchart-complete:disabled:hover {\n",
       "    background-color: var(--disabled-bg-color);\n",
       "    fill: var(--disabled-fill-color);\n",
       "    box-shadow: none;\n",
       "  }\n",
       "\n",
       "  .colab-df-spinner {\n",
       "    border: 2px solid var(--fill-color);\n",
       "    border-color: transparent;\n",
       "    border-bottom-color: var(--fill-color);\n",
       "    animation:\n",
       "      spin 1s steps(1) infinite;\n",
       "  }\n",
       "\n",
       "  @keyframes spin {\n",
       "    0% {\n",
       "      border-color: transparent;\n",
       "      border-bottom-color: var(--fill-color);\n",
       "      border-left-color: var(--fill-color);\n",
       "    }\n",
       "    20% {\n",
       "      border-color: transparent;\n",
       "      border-left-color: var(--fill-color);\n",
       "      border-top-color: var(--fill-color);\n",
       "    }\n",
       "    30% {\n",
       "      border-color: transparent;\n",
       "      border-left-color: var(--fill-color);\n",
       "      border-top-color: var(--fill-color);\n",
       "      border-right-color: var(--fill-color);\n",
       "    }\n",
       "    40% {\n",
       "      border-color: transparent;\n",
       "      border-right-color: var(--fill-color);\n",
       "      border-top-color: var(--fill-color);\n",
       "    }\n",
       "    60% {\n",
       "      border-color: transparent;\n",
       "      border-right-color: var(--fill-color);\n",
       "    }\n",
       "    80% {\n",
       "      border-color: transparent;\n",
       "      border-right-color: var(--fill-color);\n",
       "      border-bottom-color: var(--fill-color);\n",
       "    }\n",
       "    90% {\n",
       "      border-color: transparent;\n",
       "      border-bottom-color: var(--fill-color);\n",
       "    }\n",
       "  }\n",
       "</style>\n",
       "\n",
       "  <script>\n",
       "    async function quickchart(key) {\n",
       "      const quickchartButtonEl =\n",
       "        document.querySelector('#' + key + ' button');\n",
       "      quickchartButtonEl.disabled = true;  // To prevent multiple clicks.\n",
       "      quickchartButtonEl.classList.add('colab-df-spinner');\n",
       "      try {\n",
       "        const charts = await google.colab.kernel.invokeFunction(\n",
       "            'suggestCharts', [key], {});\n",
       "      } catch (error) {\n",
       "        console.error('Error during call to suggestCharts:', error);\n",
       "      }\n",
       "      quickchartButtonEl.classList.remove('colab-df-spinner');\n",
       "      quickchartButtonEl.classList.add('colab-df-quickchart-complete');\n",
       "    }\n",
       "    (() => {\n",
       "      let quickchartButtonEl =\n",
       "        document.querySelector('#df-f026623d-a1e0-4a51-88da-68fde59fa886 button');\n",
       "      quickchartButtonEl.style.display =\n",
       "        google.colab.kernel.accessAllowed ? 'block' : 'none';\n",
       "    })();\n",
       "  </script>\n",
       "</div>\n",
       "\n",
       "  <div id=\"id_ce33b352-3d2b-4329-91b9-ed3f7708466b\">\n",
       "    <style>\n",
       "      .colab-df-generate {\n",
       "        background-color: #E8F0FE;\n",
       "        border: none;\n",
       "        border-radius: 50%;\n",
       "        cursor: pointer;\n",
       "        display: none;\n",
       "        fill: #1967D2;\n",
       "        height: 32px;\n",
       "        padding: 0 0 0 0;\n",
       "        width: 32px;\n",
       "      }\n",
       "\n",
       "      .colab-df-generate:hover {\n",
       "        background-color: #E2EBFA;\n",
       "        box-shadow: 0px 1px 2px rgba(60, 64, 67, 0.3), 0px 1px 3px 1px rgba(60, 64, 67, 0.15);\n",
       "        fill: #174EA6;\n",
       "      }\n",
       "\n",
       "      [theme=dark] .colab-df-generate {\n",
       "        background-color: #3B4455;\n",
       "        fill: #D2E3FC;\n",
       "      }\n",
       "\n",
       "      [theme=dark] .colab-df-generate:hover {\n",
       "        background-color: #434B5C;\n",
       "        box-shadow: 0px 1px 3px 1px rgba(0, 0, 0, 0.15);\n",
       "        filter: drop-shadow(0px 1px 2px rgba(0, 0, 0, 0.3));\n",
       "        fill: #FFFFFF;\n",
       "      }\n",
       "    </style>\n",
       "    <button class=\"colab-df-generate\" onclick=\"generateWithVariable('df')\"\n",
       "            title=\"Generate code using this dataframe.\"\n",
       "            style=\"display:none;\">\n",
       "\n",
       "  <svg xmlns=\"http://www.w3.org/2000/svg\" height=\"24px\"viewBox=\"0 0 24 24\"\n",
       "       width=\"24px\">\n",
       "    <path d=\"M7,19H8.4L18.45,9,17,7.55,7,17.6ZM5,21V16.75L18.45,3.32a2,2,0,0,1,2.83,0l1.4,1.43a1.91,1.91,0,0,1,.58,1.4,1.91,1.91,0,0,1-.58,1.4L9.25,21ZM18.45,9,17,7.55Zm-12,3A5.31,5.31,0,0,0,4.9,8.1,5.31,5.31,0,0,0,1,6.5,5.31,5.31,0,0,0,4.9,4.9,5.31,5.31,0,0,0,6.5,1,5.31,5.31,0,0,0,8.1,4.9,5.31,5.31,0,0,0,12,6.5,5.46,5.46,0,0,0,6.5,12Z\"/>\n",
       "  </svg>\n",
       "    </button>\n",
       "    <script>\n",
       "      (() => {\n",
       "      const buttonEl =\n",
       "        document.querySelector('#id_ce33b352-3d2b-4329-91b9-ed3f7708466b button.colab-df-generate');\n",
       "      buttonEl.style.display =\n",
       "        google.colab.kernel.accessAllowed ? 'block' : 'none';\n",
       "\n",
       "      buttonEl.onclick = () => {\n",
       "        google.colab.notebook.generateWithVariable('df');\n",
       "      }\n",
       "      })();\n",
       "    </script>\n",
       "  </div>\n",
       "\n",
       "    </div>\n",
       "  </div>\n"
      ],
      "application/vnd.google.colaboratory.intrinsic+json": {
       "type": "dataframe",
       "variable_name": "df",
       "summary": "{\n  \"name\": \"df\",\n  \"rows\": 3,\n  \"fields\": [\n    {\n      \"column\": \"Nombre\",\n      \"properties\": {\n        \"dtype\": \"string\",\n        \"num_unique_values\": 3,\n        \"samples\": [\n          \"Ana\",\n          \"Juan\",\n          \"Luis\"\n        ],\n        \"semantic_type\": \"\",\n        \"description\": \"\"\n      }\n    },\n    {\n      \"column\": \"Edad\",\n      \"properties\": {\n        \"dtype\": \"number\",\n        \"std\": 5,\n        \"min\": 25,\n        \"max\": 35,\n        \"num_unique_values\": 3,\n        \"samples\": [\n          25,\n          30,\n          35\n        ],\n        \"semantic_type\": \"\",\n        \"description\": \"\"\n      }\n    }\n  ]\n}"
      }
     },
     "metadata": {},
     "execution_count": 120
    }
   ]
  },
  {
   "cell_type": "code",
   "source": [
    "filtro = df[df['Edad'] > 30]\n",
    "print(filtro)"
   ],
   "metadata": {
    "colab": {
     "base_uri": "https://localhost:8080/"
    },
    "id": "rR25ke_e0xPc",
    "outputId": "5e5b6ec2-5c2f-40e5-b92e-b5d416bb93e7"
   },
   "execution_count": null,
   "outputs": [
    {
     "output_type": "stream",
     "name": "stdout",
     "text": [
      "  Nombre  Edad\n",
      "2   Luis    35\n"
     ]
    }
   ]
  },
  {
   "cell_type": "code",
   "source": [
    "df['Edad'] > 30"
   ],
   "metadata": {
    "colab": {
     "base_uri": "https://localhost:8080/",
     "height": 178
    },
    "id": "ZKkPTH3T01DR",
    "outputId": "1abff20e-665a-44ef-a430-950d2a25816d"
   },
   "execution_count": null,
   "outputs": [
    {
     "output_type": "execute_result",
     "data": {
      "text/plain": [
       "0    False\n",
       "1    False\n",
       "2     True\n",
       "Name: Edad, dtype: bool"
      ],
      "text/html": [
       "<div>\n",
       "<style scoped>\n",
       "    .dataframe tbody tr th:only-of-type {\n",
       "        vertical-align: middle;\n",
       "    }\n",
       "\n",
       "    .dataframe tbody tr th {\n",
       "        vertical-align: top;\n",
       "    }\n",
       "\n",
       "    .dataframe thead th {\n",
       "        text-align: right;\n",
       "    }\n",
       "</style>\n",
       "<table border=\"1\" class=\"dataframe\">\n",
       "  <thead>\n",
       "    <tr style=\"text-align: right;\">\n",
       "      <th></th>\n",
       "      <th>Edad</th>\n",
       "    </tr>\n",
       "  </thead>\n",
       "  <tbody>\n",
       "    <tr>\n",
       "      <th>0</th>\n",
       "      <td>False</td>\n",
       "    </tr>\n",
       "    <tr>\n",
       "      <th>1</th>\n",
       "      <td>False</td>\n",
       "    </tr>\n",
       "    <tr>\n",
       "      <th>2</th>\n",
       "      <td>True</td>\n",
       "    </tr>\n",
       "  </tbody>\n",
       "</table>\n",
       "</div><br><label><b>dtype:</b> bool</label>"
      ]
     },
     "metadata": {},
     "execution_count": 122
    }
   ]
  },
  {
   "cell_type": "code",
   "source": [
    "data = {\n",
    "    'Fecha': ['2025-01-01', '2025-02-01', '2025-03-01', '2025-04-01'],\n",
    "    'Ingresos (MXN)': [120000, 150000, 140000, 160000],\n",
    "    'Costos (MXN)': [95000, 110000, 105000, 115000],\n",
    "}\n",
    "\n",
    "\n",
    "df = pd.DataFrame(data)\n",
    "df['Fecha'] = pd.to_datetime(df['Fecha'])\n",
    "df['Utilidad (MXN)'] = df['Ingresos (MXN)'] - df['Costos (MXN)']\n",
    "\n",
    "\n",
    "df"
   ],
   "metadata": {
    "colab": {
     "base_uri": "https://localhost:8080/",
     "height": 174
    },
    "id": "-0mlRx4j1jxs",
    "outputId": "18c0f797-9fe3-4208-f8b5-ffb6a9b36f7a"
   },
   "execution_count": null,
   "outputs": [
    {
     "output_type": "execute_result",
     "data": {
      "text/plain": [
       "       Fecha  Ingresos (MXN)  Costos (MXN)  Utilidad (MXN)\n",
       "0 2025-01-01          120000         95000           25000\n",
       "1 2025-02-01          150000        110000           40000\n",
       "2 2025-03-01          140000        105000           35000\n",
       "3 2025-04-01          160000        115000           45000"
      ],
      "text/html": [
       "\n",
       "  <div id=\"df-7ad638f4-6fce-40a7-b2e0-b0749e396409\" class=\"colab-df-container\">\n",
       "    <div>\n",
       "<style scoped>\n",
       "    .dataframe tbody tr th:only-of-type {\n",
       "        vertical-align: middle;\n",
       "    }\n",
       "\n",
       "    .dataframe tbody tr th {\n",
       "        vertical-align: top;\n",
       "    }\n",
       "\n",
       "    .dataframe thead th {\n",
       "        text-align: right;\n",
       "    }\n",
       "</style>\n",
       "<table border=\"1\" class=\"dataframe\">\n",
       "  <thead>\n",
       "    <tr style=\"text-align: right;\">\n",
       "      <th></th>\n",
       "      <th>Fecha</th>\n",
       "      <th>Ingresos (MXN)</th>\n",
       "      <th>Costos (MXN)</th>\n",
       "      <th>Utilidad (MXN)</th>\n",
       "    </tr>\n",
       "  </thead>\n",
       "  <tbody>\n",
       "    <tr>\n",
       "      <th>0</th>\n",
       "      <td>2025-01-01</td>\n",
       "      <td>120000</td>\n",
       "      <td>95000</td>\n",
       "      <td>25000</td>\n",
       "    </tr>\n",
       "    <tr>\n",
       "      <th>1</th>\n",
       "      <td>2025-02-01</td>\n",
       "      <td>150000</td>\n",
       "      <td>110000</td>\n",
       "      <td>40000</td>\n",
       "    </tr>\n",
       "    <tr>\n",
       "      <th>2</th>\n",
       "      <td>2025-03-01</td>\n",
       "      <td>140000</td>\n",
       "      <td>105000</td>\n",
       "      <td>35000</td>\n",
       "    </tr>\n",
       "    <tr>\n",
       "      <th>3</th>\n",
       "      <td>2025-04-01</td>\n",
       "      <td>160000</td>\n",
       "      <td>115000</td>\n",
       "      <td>45000</td>\n",
       "    </tr>\n",
       "  </tbody>\n",
       "</table>\n",
       "</div>\n",
       "    <div class=\"colab-df-buttons\">\n",
       "\n",
       "  <div class=\"colab-df-container\">\n",
       "    <button class=\"colab-df-convert\" onclick=\"convertToInteractive('df-7ad638f4-6fce-40a7-b2e0-b0749e396409')\"\n",
       "            title=\"Convert this dataframe to an interactive table.\"\n",
       "            style=\"display:none;\">\n",
       "\n",
       "  <svg xmlns=\"http://www.w3.org/2000/svg\" height=\"24px\" viewBox=\"0 -960 960 960\">\n",
       "    <path d=\"M120-120v-720h720v720H120Zm60-500h600v-160H180v160Zm220 220h160v-160H400v160Zm0 220h160v-160H400v160ZM180-400h160v-160H180v160Zm440 0h160v-160H620v160ZM180-180h160v-160H180v160Zm440 0h160v-160H620v160Z\"/>\n",
       "  </svg>\n",
       "    </button>\n",
       "\n",
       "  <style>\n",
       "    .colab-df-container {\n",
       "      display:flex;\n",
       "      gap: 12px;\n",
       "    }\n",
       "\n",
       "    .colab-df-convert {\n",
       "      background-color: #E8F0FE;\n",
       "      border: none;\n",
       "      border-radius: 50%;\n",
       "      cursor: pointer;\n",
       "      display: none;\n",
       "      fill: #1967D2;\n",
       "      height: 32px;\n",
       "      padding: 0 0 0 0;\n",
       "      width: 32px;\n",
       "    }\n",
       "\n",
       "    .colab-df-convert:hover {\n",
       "      background-color: #E2EBFA;\n",
       "      box-shadow: 0px 1px 2px rgba(60, 64, 67, 0.3), 0px 1px 3px 1px rgba(60, 64, 67, 0.15);\n",
       "      fill: #174EA6;\n",
       "    }\n",
       "\n",
       "    .colab-df-buttons div {\n",
       "      margin-bottom: 4px;\n",
       "    }\n",
       "\n",
       "    [theme=dark] .colab-df-convert {\n",
       "      background-color: #3B4455;\n",
       "      fill: #D2E3FC;\n",
       "    }\n",
       "\n",
       "    [theme=dark] .colab-df-convert:hover {\n",
       "      background-color: #434B5C;\n",
       "      box-shadow: 0px 1px 3px 1px rgba(0, 0, 0, 0.15);\n",
       "      filter: drop-shadow(0px 1px 2px rgba(0, 0, 0, 0.3));\n",
       "      fill: #FFFFFF;\n",
       "    }\n",
       "  </style>\n",
       "\n",
       "    <script>\n",
       "      const buttonEl =\n",
       "        document.querySelector('#df-7ad638f4-6fce-40a7-b2e0-b0749e396409 button.colab-df-convert');\n",
       "      buttonEl.style.display =\n",
       "        google.colab.kernel.accessAllowed ? 'block' : 'none';\n",
       "\n",
       "      async function convertToInteractive(key) {\n",
       "        const element = document.querySelector('#df-7ad638f4-6fce-40a7-b2e0-b0749e396409');\n",
       "        const dataTable =\n",
       "          await google.colab.kernel.invokeFunction('convertToInteractive',\n",
       "                                                    [key], {});\n",
       "        if (!dataTable) return;\n",
       "\n",
       "        const docLinkHtml = 'Like what you see? Visit the ' +\n",
       "          '<a target=\"_blank\" href=https://colab.research.google.com/notebooks/data_table.ipynb>data table notebook</a>'\n",
       "          + ' to learn more about interactive tables.';\n",
       "        element.innerHTML = '';\n",
       "        dataTable['output_type'] = 'display_data';\n",
       "        await google.colab.output.renderOutput(dataTable, element);\n",
       "        const docLink = document.createElement('div');\n",
       "        docLink.innerHTML = docLinkHtml;\n",
       "        element.appendChild(docLink);\n",
       "      }\n",
       "    </script>\n",
       "  </div>\n",
       "\n",
       "\n",
       "<div id=\"df-159197d4-4866-465e-8eab-1e4ef765eead\">\n",
       "  <button class=\"colab-df-quickchart\" onclick=\"quickchart('df-159197d4-4866-465e-8eab-1e4ef765eead')\"\n",
       "            title=\"Suggest charts\"\n",
       "            style=\"display:none;\">\n",
       "\n",
       "<svg xmlns=\"http://www.w3.org/2000/svg\" height=\"24px\"viewBox=\"0 0 24 24\"\n",
       "     width=\"24px\">\n",
       "    <g>\n",
       "        <path d=\"M19 3H5c-1.1 0-2 .9-2 2v14c0 1.1.9 2 2 2h14c1.1 0 2-.9 2-2V5c0-1.1-.9-2-2-2zM9 17H7v-7h2v7zm4 0h-2V7h2v10zm4 0h-2v-4h2v4z\"/>\n",
       "    </g>\n",
       "</svg>\n",
       "  </button>\n",
       "\n",
       "<style>\n",
       "  .colab-df-quickchart {\n",
       "      --bg-color: #E8F0FE;\n",
       "      --fill-color: #1967D2;\n",
       "      --hover-bg-color: #E2EBFA;\n",
       "      --hover-fill-color: #174EA6;\n",
       "      --disabled-fill-color: #AAA;\n",
       "      --disabled-bg-color: #DDD;\n",
       "  }\n",
       "\n",
       "  [theme=dark] .colab-df-quickchart {\n",
       "      --bg-color: #3B4455;\n",
       "      --fill-color: #D2E3FC;\n",
       "      --hover-bg-color: #434B5C;\n",
       "      --hover-fill-color: #FFFFFF;\n",
       "      --disabled-bg-color: #3B4455;\n",
       "      --disabled-fill-color: #666;\n",
       "  }\n",
       "\n",
       "  .colab-df-quickchart {\n",
       "    background-color: var(--bg-color);\n",
       "    border: none;\n",
       "    border-radius: 50%;\n",
       "    cursor: pointer;\n",
       "    display: none;\n",
       "    fill: var(--fill-color);\n",
       "    height: 32px;\n",
       "    padding: 0;\n",
       "    width: 32px;\n",
       "  }\n",
       "\n",
       "  .colab-df-quickchart:hover {\n",
       "    background-color: var(--hover-bg-color);\n",
       "    box-shadow: 0 1px 2px rgba(60, 64, 67, 0.3), 0 1px 3px 1px rgba(60, 64, 67, 0.15);\n",
       "    fill: var(--button-hover-fill-color);\n",
       "  }\n",
       "\n",
       "  .colab-df-quickchart-complete:disabled,\n",
       "  .colab-df-quickchart-complete:disabled:hover {\n",
       "    background-color: var(--disabled-bg-color);\n",
       "    fill: var(--disabled-fill-color);\n",
       "    box-shadow: none;\n",
       "  }\n",
       "\n",
       "  .colab-df-spinner {\n",
       "    border: 2px solid var(--fill-color);\n",
       "    border-color: transparent;\n",
       "    border-bottom-color: var(--fill-color);\n",
       "    animation:\n",
       "      spin 1s steps(1) infinite;\n",
       "  }\n",
       "\n",
       "  @keyframes spin {\n",
       "    0% {\n",
       "      border-color: transparent;\n",
       "      border-bottom-color: var(--fill-color);\n",
       "      border-left-color: var(--fill-color);\n",
       "    }\n",
       "    20% {\n",
       "      border-color: transparent;\n",
       "      border-left-color: var(--fill-color);\n",
       "      border-top-color: var(--fill-color);\n",
       "    }\n",
       "    30% {\n",
       "      border-color: transparent;\n",
       "      border-left-color: var(--fill-color);\n",
       "      border-top-color: var(--fill-color);\n",
       "      border-right-color: var(--fill-color);\n",
       "    }\n",
       "    40% {\n",
       "      border-color: transparent;\n",
       "      border-right-color: var(--fill-color);\n",
       "      border-top-color: var(--fill-color);\n",
       "    }\n",
       "    60% {\n",
       "      border-color: transparent;\n",
       "      border-right-color: var(--fill-color);\n",
       "    }\n",
       "    80% {\n",
       "      border-color: transparent;\n",
       "      border-right-color: var(--fill-color);\n",
       "      border-bottom-color: var(--fill-color);\n",
       "    }\n",
       "    90% {\n",
       "      border-color: transparent;\n",
       "      border-bottom-color: var(--fill-color);\n",
       "    }\n",
       "  }\n",
       "</style>\n",
       "\n",
       "  <script>\n",
       "    async function quickchart(key) {\n",
       "      const quickchartButtonEl =\n",
       "        document.querySelector('#' + key + ' button');\n",
       "      quickchartButtonEl.disabled = true;  // To prevent multiple clicks.\n",
       "      quickchartButtonEl.classList.add('colab-df-spinner');\n",
       "      try {\n",
       "        const charts = await google.colab.kernel.invokeFunction(\n",
       "            'suggestCharts', [key], {});\n",
       "      } catch (error) {\n",
       "        console.error('Error during call to suggestCharts:', error);\n",
       "      }\n",
       "      quickchartButtonEl.classList.remove('colab-df-spinner');\n",
       "      quickchartButtonEl.classList.add('colab-df-quickchart-complete');\n",
       "    }\n",
       "    (() => {\n",
       "      let quickchartButtonEl =\n",
       "        document.querySelector('#df-159197d4-4866-465e-8eab-1e4ef765eead button');\n",
       "      quickchartButtonEl.style.display =\n",
       "        google.colab.kernel.accessAllowed ? 'block' : 'none';\n",
       "    })();\n",
       "  </script>\n",
       "</div>\n",
       "\n",
       "  <div id=\"id_33b71bd7-0ad4-4814-be20-807421b940fd\">\n",
       "    <style>\n",
       "      .colab-df-generate {\n",
       "        background-color: #E8F0FE;\n",
       "        border: none;\n",
       "        border-radius: 50%;\n",
       "        cursor: pointer;\n",
       "        display: none;\n",
       "        fill: #1967D2;\n",
       "        height: 32px;\n",
       "        padding: 0 0 0 0;\n",
       "        width: 32px;\n",
       "      }\n",
       "\n",
       "      .colab-df-generate:hover {\n",
       "        background-color: #E2EBFA;\n",
       "        box-shadow: 0px 1px 2px rgba(60, 64, 67, 0.3), 0px 1px 3px 1px rgba(60, 64, 67, 0.15);\n",
       "        fill: #174EA6;\n",
       "      }\n",
       "\n",
       "      [theme=dark] .colab-df-generate {\n",
       "        background-color: #3B4455;\n",
       "        fill: #D2E3FC;\n",
       "      }\n",
       "\n",
       "      [theme=dark] .colab-df-generate:hover {\n",
       "        background-color: #434B5C;\n",
       "        box-shadow: 0px 1px 3px 1px rgba(0, 0, 0, 0.15);\n",
       "        filter: drop-shadow(0px 1px 2px rgba(0, 0, 0, 0.3));\n",
       "        fill: #FFFFFF;\n",
       "      }\n",
       "    </style>\n",
       "    <button class=\"colab-df-generate\" onclick=\"generateWithVariable('df')\"\n",
       "            title=\"Generate code using this dataframe.\"\n",
       "            style=\"display:none;\">\n",
       "\n",
       "  <svg xmlns=\"http://www.w3.org/2000/svg\" height=\"24px\"viewBox=\"0 0 24 24\"\n",
       "       width=\"24px\">\n",
       "    <path d=\"M7,19H8.4L18.45,9,17,7.55,7,17.6ZM5,21V16.75L18.45,3.32a2,2,0,0,1,2.83,0l1.4,1.43a1.91,1.91,0,0,1,.58,1.4,1.91,1.91,0,0,1-.58,1.4L9.25,21ZM18.45,9,17,7.55Zm-12,3A5.31,5.31,0,0,0,4.9,8.1,5.31,5.31,0,0,0,1,6.5,5.31,5.31,0,0,0,4.9,4.9,5.31,5.31,0,0,0,6.5,1,5.31,5.31,0,0,0,8.1,4.9,5.31,5.31,0,0,0,12,6.5,5.46,5.46,0,0,0,6.5,12Z\"/>\n",
       "  </svg>\n",
       "    </button>\n",
       "    <script>\n",
       "      (() => {\n",
       "      const buttonEl =\n",
       "        document.querySelector('#id_33b71bd7-0ad4-4814-be20-807421b940fd button.colab-df-generate');\n",
       "      buttonEl.style.display =\n",
       "        google.colab.kernel.accessAllowed ? 'block' : 'none';\n",
       "\n",
       "      buttonEl.onclick = () => {\n",
       "        google.colab.notebook.generateWithVariable('df');\n",
       "      }\n",
       "      })();\n",
       "    </script>\n",
       "  </div>\n",
       "\n",
       "    </div>\n",
       "  </div>\n"
      ],
      "application/vnd.google.colaboratory.intrinsic+json": {
       "type": "dataframe",
       "variable_name": "df",
       "summary": "{\n  \"name\": \"df\",\n  \"rows\": 4,\n  \"fields\": [\n    {\n      \"column\": \"Fecha\",\n      \"properties\": {\n        \"dtype\": \"date\",\n        \"min\": \"2025-01-01 00:00:00\",\n        \"max\": \"2025-04-01 00:00:00\",\n        \"num_unique_values\": 4,\n        \"samples\": [\n          \"2025-02-01 00:00:00\",\n          \"2025-04-01 00:00:00\",\n          \"2025-01-01 00:00:00\"\n        ],\n        \"semantic_type\": \"\",\n        \"description\": \"\"\n      }\n    },\n    {\n      \"column\": \"Ingresos (MXN)\",\n      \"properties\": {\n        \"dtype\": \"number\",\n        \"std\": 17078,\n        \"min\": 120000,\n        \"max\": 160000,\n        \"num_unique_values\": 4,\n        \"samples\": [\n          150000,\n          160000,\n          120000\n        ],\n        \"semantic_type\": \"\",\n        \"description\": \"\"\n      }\n    },\n    {\n      \"column\": \"Costos (MXN)\",\n      \"properties\": {\n        \"dtype\": \"number\",\n        \"std\": 8539,\n        \"min\": 95000,\n        \"max\": 115000,\n        \"num_unique_values\": 4,\n        \"samples\": [\n          110000,\n          115000,\n          95000\n        ],\n        \"semantic_type\": \"\",\n        \"description\": \"\"\n      }\n    },\n    {\n      \"column\": \"Utilidad (MXN)\",\n      \"properties\": {\n        \"dtype\": \"number\",\n        \"std\": 8539,\n        \"min\": 25000,\n        \"max\": 45000,\n        \"num_unique_values\": 4,\n        \"samples\": [\n          40000,\n          45000,\n          25000\n        ],\n        \"semantic_type\": \"\",\n        \"description\": \"\"\n      }\n    }\n  ]\n}"
      }
     },
     "metadata": {},
     "execution_count": 123
    }
   ]
  },
  {
   "cell_type": "markdown",
   "source": [
    "# Librería Matplotlib"
   ],
   "metadata": {
    "id": "vMWXkTpUJmIu"
   }
  },
  {
   "cell_type": "code",
   "source": [
    "import matplotlib.pyplot as plt"
   ],
   "metadata": {
    "id": "OiLVB78ZJoV1"
   },
   "execution_count": null,
   "outputs": []
  },
  {
   "cell_type": "code",
   "source": [
    "def f(x):\n",
    "  return x**3 - x**(1/2)"
   ],
   "metadata": {
    "id": "6sGUQ7AtJt8Q"
   },
   "execution_count": null,
   "outputs": []
  },
  {
   "cell_type": "code",
   "source": [
    "x = np.arange(101)"
   ],
   "metadata": {
    "id": "Vd1zlpgqlOd9"
   },
   "execution_count": null,
   "outputs": []
  },
  {
   "cell_type": "code",
   "source": [
    "x"
   ],
   "metadata": {
    "colab": {
     "base_uri": "https://localhost:8080/"
    },
    "id": "IbU9g8xpIuhl",
    "outputId": "dcab947c-f75e-4fb8-fe02-5436678da864"
   },
   "execution_count": null,
   "outputs": [
    {
     "output_type": "execute_result",
     "data": {
      "text/plain": [
       "array([  0,   1,   2,   3,   4,   5,   6,   7,   8,   9,  10,  11,  12,\n",
       "        13,  14,  15,  16,  17,  18,  19,  20,  21,  22,  23,  24,  25,\n",
       "        26,  27,  28,  29,  30,  31,  32,  33,  34,  35,  36,  37,  38,\n",
       "        39,  40,  41,  42,  43,  44,  45,  46,  47,  48,  49,  50,  51,\n",
       "        52,  53,  54,  55,  56,  57,  58,  59,  60,  61,  62,  63,  64,\n",
       "        65,  66,  67,  68,  69,  70,  71,  72,  73,  74,  75,  76,  77,\n",
       "        78,  79,  80,  81,  82,  83,  84,  85,  86,  87,  88,  89,  90,\n",
       "        91,  92,  93,  94,  95,  96,  97,  98,  99, 100])"
      ]
     },
     "metadata": {},
     "execution_count": 129
    }
   ]
  },
  {
   "cell_type": "code",
   "source": [
    "x = x / 100."
   ],
   "metadata": {
    "id": "Uy0y8w8ulaIb"
   },
   "execution_count": null,
   "outputs": []
  },
  {
   "cell_type": "code",
   "source": [
    "x"
   ],
   "metadata": {
    "colab": {
     "base_uri": "https://localhost:8080/"
    },
    "id": "1GzbAyuzls0E",
    "outputId": "25b61b1d-dc1b-4f28-f0fa-219bcfeffd22"
   },
   "execution_count": null,
   "outputs": [
    {
     "output_type": "execute_result",
     "data": {
      "text/plain": [
       "array([0.  , 0.01, 0.02, 0.03, 0.04, 0.05, 0.06, 0.07, 0.08, 0.09, 0.1 ,\n",
       "       0.11, 0.12, 0.13, 0.14, 0.15, 0.16, 0.17, 0.18, 0.19, 0.2 , 0.21,\n",
       "       0.22, 0.23, 0.24, 0.25, 0.26, 0.27, 0.28, 0.29, 0.3 , 0.31, 0.32,\n",
       "       0.33, 0.34, 0.35, 0.36, 0.37, 0.38, 0.39, 0.4 , 0.41, 0.42, 0.43,\n",
       "       0.44, 0.45, 0.46, 0.47, 0.48, 0.49, 0.5 , 0.51, 0.52, 0.53, 0.54,\n",
       "       0.55, 0.56, 0.57, 0.58, 0.59, 0.6 , 0.61, 0.62, 0.63, 0.64, 0.65,\n",
       "       0.66, 0.67, 0.68, 0.69, 0.7 , 0.71, 0.72, 0.73, 0.74, 0.75, 0.76,\n",
       "       0.77, 0.78, 0.79, 0.8 , 0.81, 0.82, 0.83, 0.84, 0.85, 0.86, 0.87,\n",
       "       0.88, 0.89, 0.9 , 0.91, 0.92, 0.93, 0.94, 0.95, 0.96, 0.97, 0.98,\n",
       "       0.99, 1.  ])"
      ]
     },
     "metadata": {},
     "execution_count": 131
    }
   ]
  },
  {
   "cell_type": "code",
   "source": [
    "x = np.linspace(0,1,101)"
   ],
   "metadata": {
    "id": "nuT9DDydI5um"
   },
   "execution_count": null,
   "outputs": []
  },
  {
   "cell_type": "code",
   "source": [
    "x"
   ],
   "metadata": {
    "colab": {
     "base_uri": "https://localhost:8080/"
    },
    "id": "fJDn03rvI9Jt",
    "outputId": "367733b0-cf1c-469f-d3dc-e5d4defc519d"
   },
   "execution_count": null,
   "outputs": [
    {
     "output_type": "execute_result",
     "data": {
      "text/plain": [
       "array([0.  , 0.01, 0.02, 0.03, 0.04, 0.05, 0.06, 0.07, 0.08, 0.09, 0.1 ,\n",
       "       0.11, 0.12, 0.13, 0.14, 0.15, 0.16, 0.17, 0.18, 0.19, 0.2 , 0.21,\n",
       "       0.22, 0.23, 0.24, 0.25, 0.26, 0.27, 0.28, 0.29, 0.3 , 0.31, 0.32,\n",
       "       0.33, 0.34, 0.35, 0.36, 0.37, 0.38, 0.39, 0.4 , 0.41, 0.42, 0.43,\n",
       "       0.44, 0.45, 0.46, 0.47, 0.48, 0.49, 0.5 , 0.51, 0.52, 0.53, 0.54,\n",
       "       0.55, 0.56, 0.57, 0.58, 0.59, 0.6 , 0.61, 0.62, 0.63, 0.64, 0.65,\n",
       "       0.66, 0.67, 0.68, 0.69, 0.7 , 0.71, 0.72, 0.73, 0.74, 0.75, 0.76,\n",
       "       0.77, 0.78, 0.79, 0.8 , 0.81, 0.82, 0.83, 0.84, 0.85, 0.86, 0.87,\n",
       "       0.88, 0.89, 0.9 , 0.91, 0.92, 0.93, 0.94, 0.95, 0.96, 0.97, 0.98,\n",
       "       0.99, 1.  ])"
      ]
     },
     "metadata": {},
     "execution_count": 133
    }
   ]
  },
  {
   "cell_type": "code",
   "source": [
    "y = f(x)"
   ],
   "metadata": {
    "id": "7_sE3MO_lwcL"
   },
   "execution_count": null,
   "outputs": []
  },
  {
   "cell_type": "code",
   "source": [
    "y"
   ],
   "metadata": {
    "colab": {
     "base_uri": "https://localhost:8080/"
    },
    "id": "Z-Vj0DUUl8ck",
    "outputId": "6b0eaeaf-385c-4441-dc30-e2c782f9452e"
   },
   "execution_count": null,
   "outputs": [
    {
     "output_type": "execute_result",
     "data": {
      "text/plain": [
       "array([ 0.        , -0.099999  , -0.14141336, -0.17317808, -0.199936  ,\n",
       "       -0.2234818 , -0.24473297, -0.26423213, -0.28233071, -0.299271  ,\n",
       "       -0.31522777, -0.33033148, -0.34468216, -0.35835813, -0.37142174,\n",
       "       -0.38392333, -0.395904  , -0.40739756, -0.41843207, -0.42903089,\n",
       "       -0.4392136 , -0.44899657, -0.45839358, -0.46741615, -0.47607395,\n",
       "       -0.484375  , -0.49232595, -0.49993224, -0.50719826, -0.51412748,\n",
       "       -0.52072256, -0.52698544, -0.53291742, -0.53851926, -0.54379119,\n",
       "       -0.54873298, -0.553344  , -0.55762325, -0.5615694 , -0.5651808 ,\n",
       "       -0.56845553, -0.57139142, -0.57398607, -0.57623685, -0.57814096,\n",
       "       -0.57969539, -0.580897  , -0.58174246, -0.58222832, -0.582351  ,\n",
       "       -0.58210678, -0.58149184, -0.58050226, -0.57913399, -0.57738292,\n",
       "       -0.57524485, -0.57271548, -0.56979044, -0.56646531, -0.56273557,\n",
       "       -0.55859667, -0.55404397, -0.54907279, -0.54367839, -0.537856  ,\n",
       "       -0.53160077, -0.52490784, -0.51777228, -0.51018913, -0.50215339,\n",
       "       -0.49366003, -0.48470398, -0.47528014, -0.46538337, -0.45500853,\n",
       "       -0.4441504 , -0.43280379, -0.42096344, -0.40862409, -0.39578044,\n",
       "       -0.38242719, -0.368559  , -0.35417051, -0.33925636, -0.32381114,\n",
       "       -0.30782945, -0.29130585, -0.27423491, -0.25661115, -0.23842911,\n",
       "       -0.2196833 , -0.2003682 , -0.1804783 , -0.16000808, -0.13895197,\n",
       "       -0.11730443, -0.0950599 , -0.07221278, -0.04875749, -0.02468844,\n",
       "        0.        ])"
      ]
     },
     "metadata": {},
     "execution_count": 135
    }
   ]
  },
  {
   "cell_type": "code",
   "source": [
    "plt.plot(x,y)\n",
    "plt.show()"
   ],
   "metadata": {
    "colab": {
     "base_uri": "https://localhost:8080/",
     "height": 430
    },
    "id": "LLPb5JCumCul",
    "outputId": "5ef54407-1ee7-435b-a544-c7b84b566a0f"
   },
   "execution_count": null,
   "outputs": [
    {
     "output_type": "display_data",
     "data": {
      "text/plain": [
       "<Figure size 640x480 with 1 Axes>"
      ],
      "image/png": "[encoded data removed]"
     },
     "metadata": {}
    }
   ]
  },
  {
   "cell_type": "code",
   "source": [
    "plt.scatter(x,y)\n",
    "plt.show()"
   ],
   "metadata": {
    "colab": {
     "base_uri": "https://localhost:8080/",
     "height": 430
    },
    "id": "MJOzpUz0JN51",
    "outputId": "f1ba32bb-527d-4aa3-9138-1d6845840052"
   },
   "execution_count": null,
   "outputs": [
    {
     "output_type": "display_data",
     "data": {
      "text/plain": [
       "<Figure size 640x480 with 1 Axes>"
      ],
      "image/png": "[encoded data removed]"
     },
     "metadata": {}
    }
   ]
  },
  {
   "cell_type": "code",
   "source": [
    "plt.plot(x,y,color='red')\n",
    "plt.savefig('grafica.png')\n",
    "plt.title('Mi gráfica')\n",
    "plt.show()"
   ],
   "metadata": {
    "colab": {
     "base_uri": "https://localhost:8080/",
     "height": 453
    },
    "id": "YdHF2wikJgpe",
    "outputId": "a128cb6e-5e66-4f37-f340-b7419b1416ea"
   },
   "execution_count": null,
   "outputs": [
    {
     "output_type": "display_data",
     "data": {
      "text/plain": [
       "<Figure size 640x480 with 1 Axes>"
      ],
      "image/png": "[encoded data removed]"
     },
     "metadata": {}
    }
   ]
  }
 ]
}
