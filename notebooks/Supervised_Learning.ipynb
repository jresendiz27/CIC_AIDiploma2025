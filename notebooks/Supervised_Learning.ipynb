{
 "nbformat": 4,
 "nbformat_minor": 0,
 "metadata": {
  "colab": {
   "provenance": [],
   "collapsed_sections": [
    "uIt2kK1crvxs"
   ]
  },
  "kernelspec": {
   "name": "python3",
   "display_name": "Python 3 (ipykernel)",
   "language": "python"
  },
  "language_info": {
   "name": "python"
  }
 },
 "cells": [
  {
   "cell_type": "markdown",
   "source": [
    "# Tarea: Predecir si un pokemon es legendario o no"
   ],
   "metadata": {
    "id": "H4HYfF9aqd4-"
   }
  },
  {
   "cell_type": "code",
   "source": [
    "# Paso 0: Importación de bibliotecas\n",
    "import pandas as pd\n",
    "import numpy as np\n",
    "import matplotlib.pyplot as plt\n",
    "import seaborn as sns\n",
    "\n",
    "from sklearn.model_selection import train_test_split\n",
    "from sklearn.preprocessing import StandardScaler, LabelEncoder\n",
    "from sklearn.metrics import classification_report, accuracy_score\n",
    "from sklearn.linear_model import LogisticRegression\n",
    "from sklearn.tree import DecisionTreeClassifier\n",
    "from sklearn.ensemble import RandomForestClassifier\n",
    "from sklearn.svm import SVC\n",
    "from sklearn.neural_network import MLPClassifier\n",
    "\n",
    "import torch\n",
    "import torch.nn as nn\n",
    "import torch.optim as optim"
   ],
   "metadata": {
    "id": "gmB15wjRqoHE",
    "ExecuteTime": {
     "end_time": "2025-06-06T02:03:55.310775Z",
     "start_time": "2025-06-06T02:03:53.588238Z"
    }
   },
   "outputs": [],
   "execution_count": 1
  },
  {
   "cell_type": "code",
   "source": [
    "# Paso 1: Cargar y preparar el dataset de Pokémon\n",
    "df = pd.read_csv('./datasets/pokemon/pokemon.csv')\n",
    "df.head()"
   ],
   "metadata": {
    "id": "VRIhm8cyqrWD",
    "ExecuteTime": {
     "end_time": "2025-06-06T02:39:48.146857Z",
     "start_time": "2025-06-06T02:39:48.113177Z"
    }
   },
   "outputs": [
    {
     "data": {
      "text/plain": [
       "                     abilities  against_bug  against_dark  against_dragon  \\\n",
       "0  ['Overgrow', 'Chlorophyll']          1.0           1.0             1.0   \n",
       "1  ['Overgrow', 'Chlorophyll']          1.0           1.0             1.0   \n",
       "2  ['Overgrow', 'Chlorophyll']          1.0           1.0             1.0   \n",
       "3     ['Blaze', 'Solar Power']          0.5           1.0             1.0   \n",
       "4     ['Blaze', 'Solar Power']          0.5           1.0             1.0   \n",
       "\n",
       "   against_electric  against_fairy  against_fight  against_fire  \\\n",
       "0               0.5            0.5            0.5           2.0   \n",
       "1               0.5            0.5            0.5           2.0   \n",
       "2               0.5            0.5            0.5           2.0   \n",
       "3               1.0            0.5            1.0           0.5   \n",
       "4               1.0            0.5            1.0           0.5   \n",
       "\n",
       "   against_flying  against_ghost  ...  percentage_male  pokedex_number  \\\n",
       "0             2.0            1.0  ...             88.1               1   \n",
       "1             2.0            1.0  ...             88.1               2   \n",
       "2             2.0            1.0  ...             88.1               3   \n",
       "3             1.0            1.0  ...             88.1               4   \n",
       "4             1.0            1.0  ...             88.1               5   \n",
       "\n",
       "   sp_attack  sp_defense  speed  type1   type2  weight_kg  generation  \\\n",
       "0         65          65     45  grass  poison        6.9           1   \n",
       "1         80          80     60  grass  poison       13.0           1   \n",
       "2        122         120     80  grass  poison      100.0           1   \n",
       "3         60          50     65   fire     NaN        8.5           1   \n",
       "4         80          65     80   fire     NaN       19.0           1   \n",
       "\n",
       "   is_legendary  \n",
       "0             0  \n",
       "1             0  \n",
       "2             0  \n",
       "3             0  \n",
       "4             0  \n",
       "\n",
       "[5 rows x 41 columns]"
      ],
      "text/html": [
       "<div>\n",
       "<style scoped>\n",
       "    .dataframe tbody tr th:only-of-type {\n",
       "        vertical-align: middle;\n",
       "    }\n",
       "\n",
       "    .dataframe tbody tr th {\n",
       "        vertical-align: top;\n",
       "    }\n",
       "\n",
       "    .dataframe thead th {\n",
       "        text-align: right;\n",
       "    }\n",
       "</style>\n",
       "<table border=\"1\" class=\"dataframe\">\n",
       "  <thead>\n",
       "    <tr style=\"text-align: right;\">\n",
       "      <th></th>\n",
       "      <th>abilities</th>\n",
       "      <th>against_bug</th>\n",
       "      <th>against_dark</th>\n",
       "      <th>against_dragon</th>\n",
       "      <th>against_electric</th>\n",
       "      <th>against_fairy</th>\n",
       "      <th>against_fight</th>\n",
       "      <th>against_fire</th>\n",
       "      <th>against_flying</th>\n",
       "      <th>against_ghost</th>\n",
       "      <th>...</th>\n",
       "      <th>percentage_male</th>\n",
       "      <th>pokedex_number</th>\n",
       "      <th>sp_attack</th>\n",
       "      <th>sp_defense</th>\n",
       "      <th>speed</th>\n",
       "      <th>type1</th>\n",
       "      <th>type2</th>\n",
       "      <th>weight_kg</th>\n",
       "      <th>generation</th>\n",
       "      <th>is_legendary</th>\n",
       "    </tr>\n",
       "  </thead>\n",
       "  <tbody>\n",
       "    <tr>\n",
       "      <th>0</th>\n",
       "      <td>['Overgrow', 'Chlorophyll']</td>\n",
       "      <td>1.0</td>\n",
       "      <td>1.0</td>\n",
       "      <td>1.0</td>\n",
       "      <td>0.5</td>\n",
       "      <td>0.5</td>\n",
       "      <td>0.5</td>\n",
       "      <td>2.0</td>\n",
       "      <td>2.0</td>\n",
       "      <td>1.0</td>\n",
       "      <td>...</td>\n",
       "      <td>88.1</td>\n",
       "      <td>1</td>\n",
       "      <td>65</td>\n",
       "      <td>65</td>\n",
       "      <td>45</td>\n",
       "      <td>grass</td>\n",
       "      <td>poison</td>\n",
       "      <td>6.9</td>\n",
       "      <td>1</td>\n",
       "      <td>0</td>\n",
       "    </tr>\n",
       "    <tr>\n",
       "      <th>1</th>\n",
       "      <td>['Overgrow', 'Chlorophyll']</td>\n",
       "      <td>1.0</td>\n",
       "      <td>1.0</td>\n",
       "      <td>1.0</td>\n",
       "      <td>0.5</td>\n",
       "      <td>0.5</td>\n",
       "      <td>0.5</td>\n",
       "      <td>2.0</td>\n",
       "      <td>2.0</td>\n",
       "      <td>1.0</td>\n",
       "      <td>...</td>\n",
       "      <td>88.1</td>\n",
       "      <td>2</td>\n",
       "      <td>80</td>\n",
       "      <td>80</td>\n",
       "      <td>60</td>\n",
       "      <td>grass</td>\n",
       "      <td>poison</td>\n",
       "      <td>13.0</td>\n",
       "      <td>1</td>\n",
       "      <td>0</td>\n",
       "    </tr>\n",
       "    <tr>\n",
       "      <th>2</th>\n",
       "      <td>['Overgrow', 'Chlorophyll']</td>\n",
       "      <td>1.0</td>\n",
       "      <td>1.0</td>\n",
       "      <td>1.0</td>\n",
       "      <td>0.5</td>\n",
       "      <td>0.5</td>\n",
       "      <td>0.5</td>\n",
       "      <td>2.0</td>\n",
       "      <td>2.0</td>\n",
       "      <td>1.0</td>\n",
       "      <td>...</td>\n",
       "      <td>88.1</td>\n",
       "      <td>3</td>\n",
       "      <td>122</td>\n",
       "      <td>120</td>\n",
       "      <td>80</td>\n",
       "      <td>grass</td>\n",
       "      <td>poison</td>\n",
       "      <td>100.0</td>\n",
       "      <td>1</td>\n",
       "      <td>0</td>\n",
       "    </tr>\n",
       "    <tr>\n",
       "      <th>3</th>\n",
       "      <td>['Blaze', 'Solar Power']</td>\n",
       "      <td>0.5</td>\n",
       "      <td>1.0</td>\n",
       "      <td>1.0</td>\n",
       "      <td>1.0</td>\n",
       "      <td>0.5</td>\n",
       "      <td>1.0</td>\n",
       "      <td>0.5</td>\n",
       "      <td>1.0</td>\n",
       "      <td>1.0</td>\n",
       "      <td>...</td>\n",
       "      <td>88.1</td>\n",
       "      <td>4</td>\n",
       "      <td>60</td>\n",
       "      <td>50</td>\n",
       "      <td>65</td>\n",
       "      <td>fire</td>\n",
       "      <td>NaN</td>\n",
       "      <td>8.5</td>\n",
       "      <td>1</td>\n",
       "      <td>0</td>\n",
       "    </tr>\n",
       "    <tr>\n",
       "      <th>4</th>\n",
       "      <td>['Blaze', 'Solar Power']</td>\n",
       "      <td>0.5</td>\n",
       "      <td>1.0</td>\n",
       "      <td>1.0</td>\n",
       "      <td>1.0</td>\n",
       "      <td>0.5</td>\n",
       "      <td>1.0</td>\n",
       "      <td>0.5</td>\n",
       "      <td>1.0</td>\n",
       "      <td>1.0</td>\n",
       "      <td>...</td>\n",
       "      <td>88.1</td>\n",
       "      <td>5</td>\n",
       "      <td>80</td>\n",
       "      <td>65</td>\n",
       "      <td>80</td>\n",
       "      <td>fire</td>\n",
       "      <td>NaN</td>\n",
       "      <td>19.0</td>\n",
       "      <td>1</td>\n",
       "      <td>0</td>\n",
       "    </tr>\n",
       "  </tbody>\n",
       "</table>\n",
       "<p>5 rows × 41 columns</p>\n",
       "</div>"
      ]
     },
     "execution_count": 7,
     "metadata": {},
     "output_type": "execute_result"
    }
   ],
   "execution_count": 7
  },
  {
   "cell_type": "code",
   "source": [
    "# Paso 2: Procesamiento de datos\n",
    "# ¿Es legendario o no?\n",
    "df['is_legendary'] = df['is_legendary'].astype(int)  # 1 = Legendario, 0 = No legendario\n",
    "\n",
    "# Seleccionamos características relevantes\n",
    "features = ['hp', 'attack', 'defense', 'sp_attack', 'sp_defense', 'speed']\n",
    "X = df[features]\n",
    "y = df['is_legendary']"
   ],
   "metadata": {
    "id": "_0IDg_4bqxFm",
    "ExecuteTime": {
     "end_time": "2025-06-06T02:39:49.738769Z",
     "start_time": "2025-06-06T02:39:49.733233Z"
    }
   },
   "outputs": [],
   "execution_count": 8
  },
  {
   "cell_type": "code",
   "source": [
    "# Paso 2.5: Normalizamos\n",
    "scaler = StandardScaler()\n",
    "X_scaled = scaler.fit_transform(X)"
   ],
   "metadata": {
    "id": "Of7TUh9Jq0y3",
    "ExecuteTime": {
     "end_time": "2025-06-06T02:39:51.185031Z",
     "start_time": "2025-06-06T02:39:51.177555Z"
    }
   },
   "outputs": [],
   "execution_count": 9
  },
  {
   "cell_type": "code",
   "source": [
    "# División de datos\n",
    "X_train, X_test, y_train, y_test = train_test_split(X_scaled, y, test_size=0.3, random_state=42, stratify=y)"
   ],
   "metadata": {
    "id": "jwORmh3PrBdF",
    "ExecuteTime": {
     "end_time": "2025-06-06T02:39:53.492867Z",
     "start_time": "2025-06-06T02:39:53.487136Z"
    }
   },
   "outputs": [],
   "execution_count": 10
  },
  {
   "cell_type": "code",
   "source": [
    "# Paso 3: Instancia de modelos\n",
    "\n",
    "modelos = {\n",
    "    \"Regresión Logística\": LogisticRegression(max_iter=1000),\n",
    "    \"Árbol de Decisión\": DecisionTreeClassifier(max_depth=2),  # intentionally shallow\n",
    "    \"Random Forest\": RandomForestClassifier(n_estimators=100),\n",
    "    \"SVM\": SVC(probability=True),\n",
    "    \"MLP (Sklearn)\": MLPClassifier(hidden_layer_sizes=(10,), max_iter=500)\n",
    "}\n",
    "\n",
    "resultados = {}\n",
    "\n",
    "for nombre, modelo in modelos.items():\n",
    "    modelo.fit(X_train, y_train)\n",
    "    y_pred = modelo.predict(X_test)\n",
    "    acc = accuracy_score(y_test, y_pred)\n",
    "    resultados[nombre] = acc\n",
    "    print(f\"\\nModelo: {nombre}\")\n",
    "    print(classification_report(y_test, y_pred))"
   ],
   "metadata": {
    "id": "DVGUMIrDrHSL",
    "ExecuteTime": {
     "end_time": "2025-06-06T02:40:08.543441Z",
     "start_time": "2025-06-06T02:40:08.049057Z"
    }
   },
   "outputs": [
    {
     "name": "stdout",
     "output_type": "stream",
     "text": [
      "\n",
      "Modelo: Regresión Logística\n",
      "              precision    recall  f1-score   support\n",
      "\n",
      "           0       0.95      0.99      0.97       220\n",
      "           1       0.75      0.43      0.55        21\n",
      "\n",
      "    accuracy                           0.94       241\n",
      "   macro avg       0.85      0.71      0.76       241\n",
      "weighted avg       0.93      0.94      0.93       241\n",
      "\n",
      "\n",
      "Modelo: Árbol de Decisión\n",
      "              precision    recall  f1-score   support\n",
      "\n",
      "           0       0.94      0.97      0.96       220\n",
      "           1       0.53      0.38      0.44        21\n",
      "\n",
      "    accuracy                           0.92       241\n",
      "   macro avg       0.74      0.67      0.70       241\n",
      "weighted avg       0.91      0.92      0.91       241\n",
      "\n",
      "\n",
      "Modelo: Random Forest\n",
      "              precision    recall  f1-score   support\n",
      "\n",
      "           0       0.94      1.00      0.97       220\n",
      "           1       0.89      0.38      0.53        21\n",
      "\n",
      "    accuracy                           0.94       241\n",
      "   macro avg       0.92      0.69      0.75       241\n",
      "weighted avg       0.94      0.94      0.93       241\n",
      "\n",
      "\n",
      "Modelo: SVM\n",
      "              precision    recall  f1-score   support\n",
      "\n",
      "           0       0.95      1.00      0.97       220\n",
      "           1       0.91      0.48      0.62        21\n",
      "\n",
      "    accuracy                           0.95       241\n",
      "   macro avg       0.93      0.74      0.80       241\n",
      "weighted avg       0.95      0.95      0.94       241\n",
      "\n",
      "\n",
      "Modelo: MLP (Sklearn)\n",
      "              precision    recall  f1-score   support\n",
      "\n",
      "           0       0.95      0.99      0.97       220\n",
      "           1       0.82      0.43      0.56        21\n",
      "\n",
      "    accuracy                           0.94       241\n",
      "   macro avg       0.88      0.71      0.77       241\n",
      "weighted avg       0.94      0.94      0.93       241\n",
      "\n"
     ]
    }
   ],
   "execution_count": 12
  },
  {
   "cell_type": "code",
   "source": [
    "# Paso 4: Visualización de resultados\n",
    "\n",
    "plt.figure(figsize=(10, 6))\n",
    "sns.barplot(x=list(resultados.keys()), y=list(resultados.values()))\n",
    "plt.xticks(rotation=45)\n",
    "plt.title(\"Precisión de Modelos de Clasificación\")\n",
    "plt.ylabel(\"Accuracy\")\n",
    "plt.show()"
   ],
   "metadata": {
    "id": "WAAkewDErPe6",
    "ExecuteTime": {
     "end_time": "2025-06-06T02:40:11.282308Z",
     "start_time": "2025-06-06T02:40:11.092921Z"
    }
   },
   "outputs": [
    {
     "data": {
      "text/plain": [
       "<Figure size 1000x600 with 1 Axes>"
      ],
      "image/png": "[encoded data removed]"
     },
     "metadata": {},
     "output_type": "display_data"
    }
   ],
   "execution_count": 13
  },
  {
   "cell_type": "code",
   "source": [
    "# Paso 5: Ejemplo de underfitting y overfitting con árboles\n",
    "\n",
    "train_scores, test_scores = [], []\n",
    "depths = range(1, 20)\n",
    "for d in depths:\n",
    "    tree = DecisionTreeClassifier(max_depth=d)\n",
    "    tree.fit(X_train, y_train)\n",
    "    train_scores.append(tree.score(X_train, y_train))\n",
    "    test_scores.append(tree.score(X_test, y_test))\n",
    "\n",
    "plt.plot(depths, train_scores, label='Train Accuracy')\n",
    "plt.plot(depths, test_scores, label='Test Accuracy')\n",
    "plt.xlabel('Profundidad del Árbol')\n",
    "plt.ylabel('Accuracy')\n",
    "plt.legend()\n",
    "plt.title('Underfitting vs Overfitting (Árboles de Decisión)')\n",
    "plt.show()"
   ],
   "metadata": {
    "id": "18ykDZawrTSt",
    "ExecuteTime": {
     "end_time": "2025-06-06T02:40:12.833753Z",
     "start_time": "2025-06-06T02:40:12.643719Z"
    }
   },
   "outputs": [
    {
     "data": {
      "text/plain": [
       "<Figure size 640x480 with 1 Axes>"
      ],
      "image/png": "[encoded data removed]"
     },
     "metadata": {},
     "output_type": "display_data"
    }
   ],
   "execution_count": 14
  },
  {
   "cell_type": "code",
   "source": [
    "# Paso 6: Usamos una Red Neuronal en PyTorch\n",
    "class SimpleNN(nn.Module):\n",
    "    def __init__(self, input_dim):\n",
    "        super(SimpleNN, self).__init__()\n",
    "        self.fc1 = nn.Linear(input_dim, 10)\n",
    "        self.relu = nn.ReLU()\n",
    "        self.fc2 = nn.Linear(10, 1)\n",
    "        self.sigmoid = nn.Sigmoid()\n",
    "\n",
    "    def forward(self, x):\n",
    "        x = self.relu(self.fc1(x))\n",
    "        x = self.sigmoid(self.fc2(x))\n",
    "        return x"
   ],
   "metadata": {
    "id": "hWSfTsWUrejZ",
    "ExecuteTime": {
     "end_time": "2025-06-06T02:40:14.126724Z",
     "start_time": "2025-06-06T02:40:14.122158Z"
    }
   },
   "outputs": [],
   "execution_count": 15
  },
  {
   "cell_type": "code",
   "source": [
    "X_train_torch = torch.tensor(X_train, dtype=torch.float32)\n",
    "y_train_torch = torch.tensor(y_train.values.reshape(-1, 1), dtype=torch.float32)\n",
    "X_test_torch = torch.tensor(X_test, dtype=torch.float32)\n",
    "y_test_torch = torch.tensor(y_test.values.reshape(-1, 1), dtype=torch.float32)"
   ],
   "metadata": {
    "id": "fW8fWrDBrm59",
    "ExecuteTime": {
     "end_time": "2025-06-06T02:40:15.867877Z",
     "start_time": "2025-06-06T02:40:15.864287Z"
    }
   },
   "outputs": [],
   "execution_count": 16
  },
  {
   "cell_type": "code",
   "metadata": {
    "id": "SdYcJ__WrfBP",
    "ExecuteTime": {
     "end_time": "2025-06-06T02:40:18.396581Z",
     "start_time": "2025-06-06T02:40:17.348964Z"
    }
   },
   "source": [
    "model = SimpleNN(X_train.shape[1])\n",
    "criterion = nn.BCELoss()\n",
    "optimizer = optim.Adam(model.parameters(), lr=0.01)\n",
    "\n",
    "for epoch in range(100):\n",
    "    model.train()\n",
    "    optimizer.zero_grad()\n",
    "    outputs = model(X_train_torch)\n",
    "    loss = criterion(outputs, y_train_torch)\n",
    "    loss.backward()\n",
    "    optimizer.step()\n",
    "\n",
    "model.eval()\n",
    "with torch.no_grad():\n",
    "    pred_probs = model(X_test_torch)\n",
    "    preds = (pred_probs > 0.5).float()\n",
    "    acc = (preds.eq(y_test_torch).sum() / y_test_torch.shape[0]).item()\n",
    "    print(f\"\\nRed Neuronal PyTorch - Accuracy: {acc:.2f}\")"
   ],
   "outputs": [
    {
     "name": "stdout",
     "output_type": "stream",
     "text": [
      "\n",
      "Red Neuronal PyTorch - Accuracy: 0.95\n"
     ]
    }
   ],
   "execution_count": 17
  },
  {
   "cell_type": "markdown",
   "source": [
    "# Tarea: Predecir el tipo1 de un pokemon"
   ],
   "metadata": {
    "id": "uIt2kK1crvxs"
   }
  },
  {
   "cell_type": "code",
   "source": [
    "# Paso 0: Importación de bibliotecas\n",
    "import pandas as pd\n",
    "import numpy as np\n",
    "import matplotlib.pyplot as plt\n",
    "import seaborn as sns\n",
    "from sklearn.model_selection import train_test_split\n",
    "from sklearn.preprocessing import StandardScaler, LabelEncoder\n",
    "from sklearn.metrics import classification_report, accuracy_score\n",
    "from sklearn.linear_model import LogisticRegression\n",
    "from sklearn.tree import DecisionTreeClassifier\n",
    "from sklearn.ensemble import RandomForestClassifier\n",
    "from sklearn.svm import SVC\n",
    "from sklearn.neural_network import MLPClassifier\n",
    "import torch\n",
    "import torch.nn as nn\n",
    "import torch.optim as optim\n",
    "import torch.nn.functional as F"
   ],
   "metadata": {
    "id": "wLsbwuPIr6QU"
   },
   "execution_count": null,
   "outputs": []
  },
  {
   "cell_type": "code",
   "source": [
    "# Paso 1: Cargar y preparar el dataset de Pokémon\n",
    "df = pd.read_csv(\"pokemon.csv\")"
   ],
   "metadata": {
    "id": "TrFrck7Ur8TO"
   },
   "execution_count": null,
   "outputs": []
  },
  {
   "cell_type": "code",
   "source": [
    "# Paso 2: Preprocesamiento de datos\n",
    "\n",
    "# Tipo 1 del Pokémon\n",
    "le = LabelEncoder()\n",
    "df['Type1_encoded'] = le.fit_transform(df['type1'])\n",
    "\n",
    "# Seleccionamos características relevantes\n",
    "features = ['hp', 'attack', 'defense', 'sp_attack', 'sp_defense', 'speed']\n",
    "X = df[features]\n",
    "y = df['Type1_encoded']"
   ],
   "metadata": {
    "id": "s6APlv8HsAux"
   },
   "execution_count": null,
   "outputs": []
  },
  {
   "cell_type": "code",
   "source": [
    "# Paso 2.5: Normalizamos\n",
    "\n",
    "scaler = StandardScaler()\n",
    "X_scaled = scaler.fit_transform(X)"
   ],
   "metadata": {
    "id": "HCzXqug1sOPH"
   },
   "execution_count": null,
   "outputs": []
  },
  {
   "cell_type": "code",
   "source": [
    "# División de datos\n",
    "X_train, X_test, y_train, y_test = train_test_split(X_scaled, y, test_size=0.3, random_state=42, stratify=y)"
   ],
   "metadata": {
    "id": "muVpvDlZsUqO"
   },
   "execution_count": null,
   "outputs": []
  },
  {
   "cell_type": "code",
   "source": [
    "# Paso 3: Instancia, Entrenamiento y Compraración de Modelos\n",
    "modelos = {\n",
    "    \"Regresión Logística\": LogisticRegression(max_iter=1000, multi_class='multinomial'),\n",
    "    \"Árbol de Decisión\": DecisionTreeClassifier(max_depth=5),\n",
    "    \"Random Forest\": RandomForestClassifier(n_estimators=100),\n",
    "    \"SVM\": SVC(probability=True, decision_function_shape='ovo'),\n",
    "    \"MLP (Sklearn)\": MLPClassifier(hidden_layer_sizes=(50,), max_iter=500)\n",
    "}\n",
    "\n",
    "resultados = {}\n",
    "\n",
    "for nombre, modelo in modelos.items():\n",
    "    modelo.fit(X_train, y_train)\n",
    "    y_pred = modelo.predict(X_test)\n",
    "    acc = accuracy_score(y_test, y_pred)\n",
    "    resultados[nombre] = acc\n",
    "    print(f\"\\nModelo: {nombre}\")\n",
    "    print(classification_report(y_test, y_pred, target_names=le.classes_))"
   ],
   "metadata": {
    "id": "b_8DNRExsVzA"
   },
   "execution_count": null,
   "outputs": []
  },
  {
   "cell_type": "code",
   "source": [
    "# Paso 4: Visualización de resultados\n",
    "plt.figure(figsize=(10, 6))\n",
    "sns.barplot(x=list(resultados.keys()), y=list(resultados.values()))\n",
    "plt.xticks(rotation=45)\n",
    "plt.title(\"Precisión de Modelos de Clasificación Multiclase\")\n",
    "plt.ylabel(\"Accuracy\")\n",
    "plt.show()"
   ],
   "metadata": {
    "id": "Fqcl0uuWsf39"
   },
   "execution_count": null,
   "outputs": []
  },
  {
   "cell_type": "code",
   "source": [
    "# === Ejercicio 1 ===\n",
    "print(\"\\nEjercicio 1: ¿Qué modelo obtuvo mejor desempeño? ¿A qué crees que se deba?\")"
   ],
   "metadata": {
    "id": "7cR3VhLHsh81"
   },
   "execution_count": null,
   "outputs": []
  },
  {
   "cell_type": "code",
   "source": [
    "# === Ejercicio 2 ===\n",
    "print(\"\\nEjercicio 2: Cambia las características de entrada. ¿Qué ocurre si usas solo Attack, Defense y Speed?\")"
   ],
   "metadata": {
    "id": "zwjev5uvsjZl"
   },
   "execution_count": null,
   "outputs": []
  },
  {
   "cell_type": "code",
   "source": [
    "# Paso 5: Underfitting vs Overfitting con Redes Neuronales\n",
    "class NNUnderfit(nn.Module):\n",
    "    def __init__(self, input_dim, output_dim):\n",
    "        super().__init__()\n",
    "        self.fc = nn.Linear(input_dim, output_dim)  # red muy simple\n",
    "\n",
    "    def forward(self, x):\n",
    "        return self.fc(x)\n",
    "\n",
    "class NNOverfit(nn.Module):\n",
    "    def __init__(self, input_dim, output_dim):\n",
    "        super().__init__()\n",
    "        self.net = nn.Sequential(\n",
    "            nn.Linear(input_dim, 128),\n",
    "            nn.ReLU(),\n",
    "            nn.Linear(128, 128),\n",
    "            nn.ReLU(),\n",
    "            nn.Linear(128, output_dim) # red muy compleja\n",
    "        )\n",
    "\n",
    "    def forward(self, x):\n",
    "        return self.net(x)"
   ],
   "metadata": {
    "id": "-THSCF1HsrUI"
   },
   "execution_count": null,
   "outputs": []
  },
  {
   "cell_type": "code",
   "source": [
    "# Preparación de datos para PyTorch\n",
    "X_train_t = torch.tensor(X_train, dtype=torch.float32)\n",
    "X_test_t = torch.tensor(X_test, dtype=torch.float32)\n",
    "y_train_t = torch.tensor(y_train.values, dtype=torch.long)\n",
    "y_test_t = torch.tensor(y_test.values, dtype=torch.long)\n",
    "\n",
    "input_dim = X_train.shape[1]\n",
    "output_dim = len(le.classes_)"
   ],
   "metadata": {
    "id": "rfa1kBJDswp8"
   },
   "execution_count": null,
   "outputs": []
  },
  {
   "cell_type": "code",
   "source": [
    "# Entrenamiento\n",
    "\n",
    "def entrenar(model, lr=0.01, epochs=100):\n",
    "    optimizer = optim.Adam(model.parameters(), lr=lr)\n",
    "    losses = []\n",
    "    for epoch in range(epochs):\n",
    "        model.train()\n",
    "        outputs = model(X_train_t)\n",
    "        loss = F.cross_entropy(outputs, y_train_t)\n",
    "        optimizer.zero_grad()\n",
    "        loss.backward()\n",
    "        optimizer.step()\n",
    "        losses.append(loss.item())\n",
    "\n",
    "    plt.plot(losses)\n",
    "    plt.title(\"Evolución del loss\")\n",
    "    plt.xlabel(\"Época\")\n",
    "    plt.ylabel(\"Loss\")\n",
    "    plt.show()\n",
    "\n",
    "    model.eval()\n",
    "    with torch.no_grad():\n",
    "        logits = model(X_test_t)\n",
    "        preds = torch.argmax(logits, dim=1)\n",
    "        acc = (preds == y_test_t).float().mean().item()\n",
    "        print(f\"Accuracy: {acc:.2f}\")\n",
    "        print(classification_report(y_test_t, preds, target_names=le.classes_))"
   ],
   "metadata": {
    "id": "miIOVLFVs1ho"
   },
   "execution_count": null,
   "outputs": []
  },
  {
   "cell_type": "code",
   "source": [
    "print(\"\\nRed Neuronal con Underfitting:\")\n",
    "modelo_under = NNUnderfit(input_dim, output_dim)\n",
    "entrenar(modelo_under, epochs=50)"
   ],
   "metadata": {
    "id": "mr8J1p_ftdGH"
   },
   "execution_count": null,
   "outputs": []
  },
  {
   "cell_type": "code",
   "source": [
    "print(\"\\nRed Neuronal con Overfitting:\")\n",
    "modelo_over = NNOverfit(input_dim, output_dim)\n",
    "entrenar(modelo_over, epochs=300)"
   ],
   "metadata": {
    "id": "Wl2V5OMvs9eM"
   },
   "execution_count": null,
   "outputs": []
  },
  {
   "cell_type": "code",
   "source": [
    "# === Pregunta teórica ===\n",
    "print(\"\\nPregunta: ¿Por qué el modelo simple (underfitting) tiene menor precisión incluso con muchas épocas?\")\n",
    "print(\"¿Qué podrías hacer para mejorarlo sin caer en overfitting?\")"
   ],
   "metadata": {
    "id": "0BdJiMSis_Kj"
   },
   "execution_count": null,
   "outputs": []
  },
  {
   "cell_type": "code",
   "source": [
    "# === Ejercicio 3 ===\n",
    "print(\"\\nEjercicio 3: Modifica el modelo overfit agregando Dropout o EarlyStopping. ¿Qué sucede con el rendimiento?\")"
   ],
   "metadata": {
    "id": "mgsrIRoEtCIj"
   },
   "execution_count": null,
   "outputs": []
  },
  {
   "cell_type": "markdown",
   "source": [
    "# Tarea: Predecir el Critic Score de un videojuego basado en sus características"
   ],
   "metadata": {
    "id": "UisVeL3Ru15z"
   }
  },
  {
   "cell_type": "code",
   "source": [
    "# Paso 0: Importación de bibliotecas\n",
    "import pandas as pd\n",
    "import numpy as np\n",
    "import matplotlib.pyplot as plt\n",
    "import seaborn as sns\n",
    "from sklearn.model_selection import train_test_split\n",
    "from sklearn.preprocessing import LabelEncoder, StandardScaler\n",
    "from sklearn.metrics import classification_report, accuracy_score, confusion_matrix\n",
    "from sklearn.linear_model import LogisticRegression\n",
    "from sklearn.tree import DecisionTreeClassifier\n",
    "from sklearn.ensemble import RandomForestClassifier\n",
    "from sklearn.svm import SVC\n",
    "from sklearn.naive_bayes import GaussianNB\n",
    "import torch\n",
    "import torch.nn as nn\n",
    "import torch.optim as optim\n",
    "import torch.nn.functional as F"
   ],
   "metadata": {
    "id": "ySxjR918u9kh"
   },
   "execution_count": null,
   "outputs": []
  },
  {
   "cell_type": "code",
   "source": [
    "# Paso 1: Cargar los datos (reemplaza con tu URL o ruta local)\n",
    "url = 'videogames.csv'  # Reemplazar con URL real o cargar archivo en Colab\n",
    "df = pd.read_csv(url)"
   ],
   "metadata": {
    "id": "zFgJ8qXSvAJj"
   },
   "execution_count": null,
   "outputs": []
  },
  {
   "cell_type": "code",
   "source": [
    "# Paso 2: Preprocesamiento de datos\n",
    "print(\"Primeras filas del dataset:\")\n",
    "print(df.head())\n",
    "\n",
    "# Eliminar filas con valores nulos en las columnas importantes\n",
    "\n",
    "# Codificación de variables categóricas\n",
    "\n",
    "# Variable objetivo: Critic_Score_Class\n",
    "\n",
    "# Variables con formato que necesita transformacion\n",
    "\n",
    "# Selección de características\n",
    "features = []\n",
    "X = df[features]\n",
    "y = df['target']\n",
    "\n",
    "print(\"\\n\")\n",
    "print(\"Dataset transformado:\")\n",
    "print(df.head())"
   ],
   "metadata": {
    "id": "qtRpC8asxc1S"
   },
   "execution_count": null,
   "outputs": []
  },
  {
   "cell_type": "code",
   "source": [
    "# Paso 3: Normalizacion\n",
    "# Escalado de características numéricas\n"
   ],
   "metadata": {
    "id": "9OqNcCCGxjS5"
   },
   "execution_count": null,
   "outputs": []
  },
  {
   "cell_type": "code",
   "source": [
    "# División en entrenamiento y prueba\n",
    "X_train, X_test, y_train, y_test = train_test_split(X_scaled, y, test_size=0.3, random_state=42, stratify=y)"
   ],
   "metadata": {
    "id": "fdmQoDQJxla5"
   },
   "execution_count": null,
   "outputs": []
  },
  {
   "cell_type": "code",
   "source": [
    "# Paso 4: Entrenamiento de modelos tradicionales\n",
    "modelos = {\n",
    "    \"Regresión Logística\": LogisticRegression(max_iter=1000, multi_class='multinomial'),\n",
    "    \"Árbol de Decisión\": DecisionTreeClassifier(max_depth=5),\n",
    "    \"Random Forest\": RandomForestClassifier(n_estimators=100),\n",
    "    \"SVM\": SVC(probability=True, decision_function_shape='ovo'),\n",
    "    \"Naive Bayes\": GaussianNB()\n",
    "}\n",
    "\n",
    "resultados = {}\n",
    "\n",
    "for nombre, modelo in modelos.items():\n",
    "    modelo.fit(X_train, y_train)\n",
    "    y_pred = modelo.predict(X_test)\n",
    "    acc = accuracy_score(y_test, y_pred)\n",
    "    resultados[nombre] = acc\n",
    "    print(f\"\\nModelo: {nombre}\")\n",
    "    print(classification_report(y_test, y_pred))"
   ],
   "metadata": {
    "id": "1Jphjcf2xrHo"
   },
   "execution_count": null,
   "outputs": []
  },
  {
   "cell_type": "code",
   "source": [
    "# Paso 5: Visualización de resultados\n",
    "plt.figure(figsize=(10, 6))\n",
    "sns.barplot(x=list(resultados.keys()), y=list(resultados.values()))\n",
    "plt.xticks(rotation=45)\n",
    "plt.title(\"Precisión de Modelos de Clasificación Multiclase\")\n",
    "plt.ylabel(\"Accuracy\")\n",
    "plt.show()"
   ],
   "metadata": {
    "id": "GuaNaHVjxvFe"
   },
   "execution_count": null,
   "outputs": []
  },
  {
   "cell_type": "code",
   "source": [
    "# Paso 6: Red Neuronal simple en PyTorch\n",
    "class NNClassifier(nn.Module):\n",
    "    def __init__(self, input_dim, output_dim):\n",
    "        super().__init__()\n",
    "        self.fc = nn.Sequential(\n",
    "            nn.Linear(input_dim, 64),\n",
    "            nn.ReLU(),\n",
    "            nn.Linear(64, 64),\n",
    "            nn.ReLU(),\n",
    "            nn.Linear(64, output_dim)\n",
    "        )\n",
    "\n",
    "    def forward(self, x):\n",
    "        return self.fc(x)\n",
    "\n",
    "X_train_t = torch.tensor(X_train, dtype=torch.float32)\n",
    "X_test_t = torch.tensor(X_test, dtype=torch.float32)\n",
    "y_train_t = torch.tensor(y_train.values, dtype=torch.long)\n",
    "y_test_t = torch.tensor(y_test.values, dtype=torch.long)\n",
    "\n",
    "input_dim = X_train.shape[1]\n",
    "output_dim = # Cuantas classes tiene el target?\n",
    "\n",
    "model = NNClassifier(input_dim, output_dim)\n",
    "optimizer = optim.Adam(model.parameters(), lr=0.01)"
   ],
   "metadata": {
    "id": "CYzOVWF-x0FB"
   },
   "execution_count": null,
   "outputs": []
  },
  {
   "cell_type": "code",
   "source": [
    "# Paso 7: Entrenamiento\n",
    "losses = []\n",
    "for epoch in range(100):\n",
    "    model.train()\n",
    "    outputs = model(X_train_t)\n",
    "    loss = F.cross_entropy(outputs, y_train_t)\n",
    "    optimizer.zero_grad()\n",
    "    loss.backward()\n",
    "    optimizer.step()\n",
    "    losses.append(loss.item())\n",
    "\n",
    "plt.plot(losses)\n",
    "plt.title(\"Evolución del loss\")\n",
    "plt.xlabel(\"Época\")\n",
    "plt.ylabel(\"Loss\")\n",
    "plt.show()\n",
    "\n",
    "model.eval()\n",
    "with torch.no_grad():\n",
    "    logits = model(X_test_t)\n",
    "    preds = torch.argmax(logits, dim=1)\n",
    "    acc = (preds == y_test_t).float().mean().item()\n",
    "    print(f\"\\nAccuracy Red Neuronal: {acc:.2f}\")\n",
    "    print(classification_report(y_test_t, preds))"
   ],
   "metadata": {
    "id": "9EoWqdE2u7pz"
   },
   "execution_count": null,
   "outputs": []
  },
  {
   "cell_type": "code",
   "source": [
    "# === Ejercicio 1 ===\n",
    "print(\"\\nEjercicio 1: Cambia la arquitectura de la red. ¿Qué pasa si reduces el número de neuronas o capas?\")"
   ],
   "metadata": {
    "id": "egWQm_uKx8Pb"
   },
   "execution_count": null,
   "outputs": []
  },
  {
   "cell_type": "code",
   "source": [
    "# === Ejercicio 2 ===\n",
    "print(\"\\nEjercicio 2: Prueba eliminar una de las variables de entrada. ¿Cómo afecta al rendimiento del modelo?\")"
   ],
   "metadata": {
    "id": "cW5L5oAFx-gK"
   },
   "execution_count": null,
   "outputs": []
  },
  {
   "cell_type": "code",
   "source": [
    "# === Pregunta teórica ===\n",
    "print(\"\\nPregunta: ¿Cuál de los modelos evaluados te parece más interpretable? ¿Y cuál parece tener mejor capacidad predictiva?\")"
   ],
   "metadata": {
    "id": "TK-58EQ5yAPt"
   },
   "execution_count": null,
   "outputs": []
  }
 ]
}
